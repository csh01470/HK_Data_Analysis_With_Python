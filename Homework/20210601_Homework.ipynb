{
 "metadata": {
  "language_info": {
   "codemirror_mode": {
    "name": "ipython",
    "version": 3
   },
   "file_extension": ".py",
   "mimetype": "text/x-python",
   "name": "python",
   "nbconvert_exporter": "python",
   "pygments_lexer": "ipython3",
   "version": "3.8.8"
  },
  "orig_nbformat": 2,
  "kernelspec": {
   "name": "python388jvsc74a57bd0389278cbb61c1c57cad107a3c1fdd79953aeebb4509d1d7f21aea6fe620a6af8",
   "display_name": "Python 3.8.8 64-bit ('csh': virtualenv)"
  }
 },
 "nbformat": 4,
 "nbformat_minor": 2,
 "cells": [
  {
   "cell_type": "code",
   "execution_count": 5,
   "metadata": {},
   "outputs": [
    {
     "output_type": "execute_result",
     "data": {
      "text/plain": [
       "index_1    0.636993\n",
       "index_2    4.751163\n",
       "dtype: float64"
      ]
     },
     "metadata": {},
     "execution_count": 5
    }
   ],
   "source": [
    "#2021.06.01. TUE\n",
    "#Hankyeong\n",
    "\n",
    "#00. 패키지 호출\n",
    "import numpy as np \n",
    "import pandas as pd\n",
    "import seaborn as sns \n",
    "\n",
    "#4.1.1. \n",
    "#(1) 임의로 두 개의 시리즈 객체를 만든다. 모두 문자열 인덱스를 가져야 하며 두 시리즈에 공통적으로 포함되지 않는 라벨이 있어야 한다.\n",
    "series_1 = pd.Series(np.random.uniform(0,10,2),index=[\"index_1\",\"index_2\"])\n",
    "series_2 = pd.Series(np.random.uniform(0,10,2),index=[\"index_3\",\"index_4\"])\n",
    "series_1"
   ]
  },
  {
   "cell_type": "code",
   "execution_count": 70,
   "metadata": {},
   "outputs": [
    {
     "output_type": "execute_result",
     "data": {
      "text/plain": [
       "index_3    5.814110\n",
       "index_4    1.554339\n",
       "dtype: float64"
      ]
     },
     "metadata": {},
     "execution_count": 70
    }
   ],
   "source": [
    "series_2"
   ]
  },
  {
   "cell_type": "code",
   "execution_count": 71,
   "metadata": {},
   "outputs": [
    {
     "output_type": "execute_result",
     "data": {
      "text/plain": [
       "index_1   NaN\n",
       "index_2   NaN\n",
       "index_3   NaN\n",
       "index_4   NaN\n",
       "dtype: float64"
      ]
     },
     "metadata": {},
     "execution_count": 71
    }
   ],
   "source": [
    "#(2) 위에서 만든 두 시리즈 객체를 이용하여 사칙 연산을 한다.\n",
    "series_1+series_2"
   ]
  },
  {
   "cell_type": "code",
   "execution_count": 72,
   "metadata": {},
   "outputs": [
    {
     "output_type": "execute_result",
     "data": {
      "text/plain": [
       "index_1   NaN\n",
       "index_2   NaN\n",
       "index_3   NaN\n",
       "index_4   NaN\n",
       "dtype: float64"
      ]
     },
     "metadata": {},
     "execution_count": 72
    }
   ],
   "source": [
    "series_1-series_2"
   ]
  },
  {
   "cell_type": "code",
   "execution_count": 73,
   "metadata": {},
   "outputs": [
    {
     "output_type": "execute_result",
     "data": {
      "text/plain": [
       "index_1   NaN\n",
       "index_2   NaN\n",
       "index_3   NaN\n",
       "index_4   NaN\n",
       "dtype: float64"
      ]
     },
     "metadata": {},
     "execution_count": 73
    }
   ],
   "source": [
    "series_1*series_2"
   ]
  },
  {
   "cell_type": "code",
   "execution_count": 74,
   "metadata": {},
   "outputs": [
    {
     "output_type": "execute_result",
     "data": {
      "text/plain": [
       "index_1   NaN\n",
       "index_2   NaN\n",
       "index_3   NaN\n",
       "index_4   NaN\n",
       "dtype: float64"
      ]
     },
     "metadata": {},
     "execution_count": 74
    }
   ],
   "source": [
    "series_1/series_2"
   ]
  },
  {
   "cell_type": "code",
   "execution_count": 305,
   "metadata": {},
   "outputs": [
    {
     "output_type": "execute_result",
     "data": {
      "text/plain": [
       "   series_1   series_2  series_3  series_4  series_5\n",
       "0  3.797201  Hankyeong         3  2.258402  4.797249\n",
       "1  6.140030    Bigdata         3  8.524716  5.746143\n",
       "2  1.545240   Analysis         2  6.817056  3.880505\n",
       "3  2.893930       With         7  2.377844  4.819429\n",
       "4  3.835131     Python         2  5.242900  8.173950"
      ],
      "text/html": "<div>\n<style scoped>\n    .dataframe tbody tr th:only-of-type {\n        vertical-align: middle;\n    }\n\n    .dataframe tbody tr th {\n        vertical-align: top;\n    }\n\n    .dataframe thead th {\n        text-align: right;\n    }\n</style>\n<table border=\"1\" class=\"dataframe\">\n  <thead>\n    <tr style=\"text-align: right;\">\n      <th></th>\n      <th>series_1</th>\n      <th>series_2</th>\n      <th>series_3</th>\n      <th>series_4</th>\n      <th>series_5</th>\n    </tr>\n  </thead>\n  <tbody>\n    <tr>\n      <th>0</th>\n      <td>3.797201</td>\n      <td>Hankyeong</td>\n      <td>3</td>\n      <td>2.258402</td>\n      <td>4.797249</td>\n    </tr>\n    <tr>\n      <th>1</th>\n      <td>6.140030</td>\n      <td>Bigdata</td>\n      <td>3</td>\n      <td>8.524716</td>\n      <td>5.746143</td>\n    </tr>\n    <tr>\n      <th>2</th>\n      <td>1.545240</td>\n      <td>Analysis</td>\n      <td>2</td>\n      <td>6.817056</td>\n      <td>3.880505</td>\n    </tr>\n    <tr>\n      <th>3</th>\n      <td>2.893930</td>\n      <td>With</td>\n      <td>7</td>\n      <td>2.377844</td>\n      <td>4.819429</td>\n    </tr>\n    <tr>\n      <th>4</th>\n      <td>3.835131</td>\n      <td>Python</td>\n      <td>2</td>\n      <td>5.242900</td>\n      <td>8.173950</td>\n    </tr>\n  </tbody>\n</table>\n</div>"
     },
     "metadata": {},
     "execution_count": 305
    }
   ],
   "source": [
    "#4.1.2. 다음 조건을 만족하는 임의의 데이터프레임을 하나 만든다.\n",
    "#       조건 1. 열의 갯수와 행의 갯수가 각각 5개 이상이어야 한다.\n",
    "#       조건 2. 열에는 정수, 문자열, 실수 자료형 데이터가 각각 1개 이상씩 포함되어 있어야 한다.   \n",
    "dataframe_1 = pd.DataFrame({\"series_1\" : np.random.uniform(0,10,5),\n",
    "                            \"series_2\" : [\"Hankyeong\",\"Bigdata\",\"Analysis\",\"With\",\"Python\"],\n",
    "                            \"series_3\" : np.random.uniform(0,10,5).astype(int),\n",
    "                            \"series_4\" : np.random.uniform(0,10,5),\n",
    "                            \"series_5\" : np.random.uniform(0,10,5)})\n",
    "dataframe_1"
   ]
  },
  {
   "cell_type": "code",
   "execution_count": 65,
   "metadata": {},
   "outputs": [
    {
     "output_type": "execute_result",
     "data": {
      "text/plain": [
       "    국어  영어  수학\n",
       "춘향  80  90  90\n",
       "몽룡  90  70  60\n",
       "향단  70  60  80\n",
       "방자  30  40  70"
      ],
      "text/html": "<div>\n<style scoped>\n    .dataframe tbody tr th:only-of-type {\n        vertical-align: middle;\n    }\n\n    .dataframe tbody tr th {\n        vertical-align: top;\n    }\n\n    .dataframe thead th {\n        text-align: right;\n    }\n</style>\n<table border=\"1\" class=\"dataframe\">\n  <thead>\n    <tr style=\"text-align: right;\">\n      <th></th>\n      <th>국어</th>\n      <th>영어</th>\n      <th>수학</th>\n    </tr>\n  </thead>\n  <tbody>\n    <tr>\n      <th>춘향</th>\n      <td>80</td>\n      <td>90</td>\n      <td>90</td>\n    </tr>\n    <tr>\n      <th>몽룡</th>\n      <td>90</td>\n      <td>70</td>\n      <td>60</td>\n    </tr>\n    <tr>\n      <th>향단</th>\n      <td>70</td>\n      <td>60</td>\n      <td>80</td>\n    </tr>\n    <tr>\n      <th>방자</th>\n      <td>30</td>\n      <td>40</td>\n      <td>70</td>\n    </tr>\n  </tbody>\n</table>\n</div>"
     },
     "metadata": {},
     "execution_count": 65
    }
   ],
   "source": [
    "# 4.1.3. 다음 데이터프레임에서 지정하는 데이터를 뽑아내거나 처리하라.\n",
    "#        data = {\n",
    "#                \"국어\": [80, 90, 70, 30],\n",
    "#                \"영어\": [90, 70, 60, 40],\n",
    "#                \"수학\": [90, 60, 80, 70],\n",
    "#                }\n",
    "#        columns = [\"국어\", \"영어\", \"수학\"]\n",
    "#        index = [\"춘향\", \"몽룡\", \"향단\", \"방자\"]\n",
    "#        df = pd.DataFrame(data, index=index, columns=columns)\n",
    "data = {\n",
    "    \"국어\": [80, 90, 70, 30],\n",
    "    \"영어\": [90, 70, 60, 40],\n",
    "    \"수학\": [90, 60, 80, 70],\n",
    "}\n",
    "columns = [\"국어\", \"영어\", \"수학\"]\n",
    "index = [\"춘향\", \"몽룡\", \"향단\", \"방자\"]\n",
    "df = pd.DataFrame(data, index=index, columns=columns)\n",
    "df"
   ]
  },
  {
   "cell_type": "code",
   "execution_count": 46,
   "metadata": {},
   "outputs": [
    {
     "output_type": "execute_result",
     "data": {
      "text/plain": [
       "춘향    90\n",
       "몽룡    60\n",
       "향단    80\n",
       "방자    70\n",
       "Name: 수학, dtype: int64"
      ]
     },
     "metadata": {},
     "execution_count": 46
    }
   ],
   "source": [
    "#(1) 모든 학생의 수학 점수를 시리즈로 나타낸다.\n",
    "df.loc[:,\"수학\"]"
   ]
  },
  {
   "cell_type": "code",
   "execution_count": 51,
   "metadata": {},
   "outputs": [
    {
     "output_type": "execute_result",
     "data": {
      "text/plain": [
       "    국어  영어\n",
       "춘향  80  90\n",
       "몽룡  90  70\n",
       "향단  70  60\n",
       "방자  30  40"
      ],
      "text/html": "<div>\n<style scoped>\n    .dataframe tbody tr th:only-of-type {\n        vertical-align: middle;\n    }\n\n    .dataframe tbody tr th {\n        vertical-align: top;\n    }\n\n    .dataframe thead th {\n        text-align: right;\n    }\n</style>\n<table border=\"1\" class=\"dataframe\">\n  <thead>\n    <tr style=\"text-align: right;\">\n      <th></th>\n      <th>국어</th>\n      <th>영어</th>\n    </tr>\n  </thead>\n  <tbody>\n    <tr>\n      <th>춘향</th>\n      <td>80</td>\n      <td>90</td>\n    </tr>\n    <tr>\n      <th>몽룡</th>\n      <td>90</td>\n      <td>70</td>\n    </tr>\n    <tr>\n      <th>향단</th>\n      <td>70</td>\n      <td>60</td>\n    </tr>\n    <tr>\n      <th>방자</th>\n      <td>30</td>\n      <td>40</td>\n    </tr>\n  </tbody>\n</table>\n</div>"
     },
     "metadata": {},
     "execution_count": 51
    }
   ],
   "source": [
    "#(2) 모든 학생의 국어와 영어 점수를 데이터 프레임으로 나타낸다.\n",
    "df_ke = df.loc[:,[\"국어\",\"영어\"]]\n",
    "df_ke"
   ]
  },
  {
   "cell_type": "code",
   "execution_count": 52,
   "metadata": {},
   "outputs": [
    {
     "output_type": "execute_result",
     "data": {
      "text/plain": [
       "    국어  영어  수학   row_mean\n",
       "춘향  80  90  90  86.666667\n",
       "몽룡  90  70  60  73.333333\n",
       "향단  70  60  80  70.000000\n",
       "방자  30  40  70  46.666667"
      ],
      "text/html": "<div>\n<style scoped>\n    .dataframe tbody tr th:only-of-type {\n        vertical-align: middle;\n    }\n\n    .dataframe tbody tr th {\n        vertical-align: top;\n    }\n\n    .dataframe thead th {\n        text-align: right;\n    }\n</style>\n<table border=\"1\" class=\"dataframe\">\n  <thead>\n    <tr style=\"text-align: right;\">\n      <th></th>\n      <th>국어</th>\n      <th>영어</th>\n      <th>수학</th>\n      <th>row_mean</th>\n    </tr>\n  </thead>\n  <tbody>\n    <tr>\n      <th>춘향</th>\n      <td>80</td>\n      <td>90</td>\n      <td>90</td>\n      <td>86.666667</td>\n    </tr>\n    <tr>\n      <th>몽룡</th>\n      <td>90</td>\n      <td>70</td>\n      <td>60</td>\n      <td>73.333333</td>\n    </tr>\n    <tr>\n      <th>향단</th>\n      <td>70</td>\n      <td>60</td>\n      <td>80</td>\n      <td>70.000000</td>\n    </tr>\n    <tr>\n      <th>방자</th>\n      <td>30</td>\n      <td>40</td>\n      <td>70</td>\n      <td>46.666667</td>\n    </tr>\n  </tbody>\n</table>\n</div>"
     },
     "metadata": {},
     "execution_count": 52
    }
   ],
   "source": [
    "#(3) 모든 학생의 각 과목 평균 점수를 새로운 열로 추가한다.\n",
    "df.loc[:,\"row_mean\"]=df.mean(axis=1)\n",
    "df"
   ]
  },
  {
   "cell_type": "code",
   "execution_count": 55,
   "metadata": {},
   "outputs": [
    {
     "output_type": "execute_result",
     "data": {
      "text/plain": [
       "    국어  영어  수학   row_mean\n",
       "춘향  80  90  90  86.666667\n",
       "몽룡  90  70  60  73.333333\n",
       "향단  70  60  80  70.000000\n",
       "방자  30  80  70  59.166667"
      ],
      "text/html": "<div>\n<style scoped>\n    .dataframe tbody tr th:only-of-type {\n        vertical-align: middle;\n    }\n\n    .dataframe tbody tr th {\n        vertical-align: top;\n    }\n\n    .dataframe thead th {\n        text-align: right;\n    }\n</style>\n<table border=\"1\" class=\"dataframe\">\n  <thead>\n    <tr style=\"text-align: right;\">\n      <th></th>\n      <th>국어</th>\n      <th>영어</th>\n      <th>수학</th>\n      <th>row_mean</th>\n    </tr>\n  </thead>\n  <tbody>\n    <tr>\n      <th>춘향</th>\n      <td>80</td>\n      <td>90</td>\n      <td>90</td>\n      <td>86.666667</td>\n    </tr>\n    <tr>\n      <th>몽룡</th>\n      <td>90</td>\n      <td>70</td>\n      <td>60</td>\n      <td>73.333333</td>\n    </tr>\n    <tr>\n      <th>향단</th>\n      <td>70</td>\n      <td>60</td>\n      <td>80</td>\n      <td>70.000000</td>\n    </tr>\n    <tr>\n      <th>방자</th>\n      <td>30</td>\n      <td>80</td>\n      <td>70</td>\n      <td>59.166667</td>\n    </tr>\n  </tbody>\n</table>\n</div>"
     },
     "metadata": {},
     "execution_count": 55
    }
   ],
   "source": [
    "#(4) 방자의 영어 점수를 80점으로 수정하고 평균 점수도 다시 계산한다.\n",
    "df_modify = df\n",
    "df_modify.loc[\"방자\",\"영어\"] = 80\n",
    "df_modify.loc[:,\"row_mean\"] = df.mean(axis=1)\n",
    "df_modify"
   ]
  },
  {
   "cell_type": "code",
   "execution_count": 59,
   "metadata": {},
   "outputs": [
    {
     "output_type": "execute_result",
     "data": {
      "text/plain": [
       "    국어  영어  수학   row_mean\n",
       "춘향  80  90  90  86.666667"
      ],
      "text/html": "<div>\n<style scoped>\n    .dataframe tbody tr th:only-of-type {\n        vertical-align: middle;\n    }\n\n    .dataframe tbody tr th {\n        vertical-align: top;\n    }\n\n    .dataframe thead th {\n        text-align: right;\n    }\n</style>\n<table border=\"1\" class=\"dataframe\">\n  <thead>\n    <tr style=\"text-align: right;\">\n      <th></th>\n      <th>국어</th>\n      <th>영어</th>\n      <th>수학</th>\n      <th>row_mean</th>\n    </tr>\n  </thead>\n  <tbody>\n    <tr>\n      <th>춘향</th>\n      <td>80</td>\n      <td>90</td>\n      <td>90</td>\n      <td>86.666667</td>\n    </tr>\n  </tbody>\n</table>\n</div>"
     },
     "metadata": {},
     "execution_count": 59
    }
   ],
   "source": [
    "#(5) 춘향의 점수를 데이터프레임으로 나타낸다.\n",
    "df.loc[[\"춘향\"],:]"
   ]
  },
  {
   "cell_type": "code",
   "execution_count": 60,
   "metadata": {},
   "outputs": [
    {
     "output_type": "execute_result",
     "data": {
      "text/plain": [
       "국어          70.0\n",
       "영어          60.0\n",
       "수학          80.0\n",
       "row_mean    70.0\n",
       "Name: 향단, dtype: float64"
      ]
     },
     "metadata": {},
     "execution_count": 60
    }
   ],
   "source": [
    "#(6) 향단의 점수를 시리즈로 나타낸다.\n",
    "df.loc[\"향단\",:]"
   ]
  },
  {
   "cell_type": "code",
   "execution_count": 213,
   "metadata": {},
   "outputs": [
    {
     "output_type": "execute_result",
     "data": {
      "text/plain": [
       "   series_1  series_2  series_3  series_4  series_5\n",
       "0  8.232779  5.120863  1.238400  1.751302  3.936823\n",
       "1  5.569104  6.485455  9.801209  2.306982  8.026181\n",
       "2  7.185010  3.433266  4.524181  7.048174  8.101886\n",
       "3  8.799369  6.226373  1.174997  7.176477  7.960028\n",
       "4  4.960101  4.645997  8.200020  1.482483  8.579894"
      ],
      "text/html": "<div>\n<style scoped>\n    .dataframe tbody tr th:only-of-type {\n        vertical-align: middle;\n    }\n\n    .dataframe tbody tr th {\n        vertical-align: top;\n    }\n\n    .dataframe thead th {\n        text-align: right;\n    }\n</style>\n<table border=\"1\" class=\"dataframe\">\n  <thead>\n    <tr style=\"text-align: right;\">\n      <th></th>\n      <th>series_1</th>\n      <th>series_2</th>\n      <th>series_3</th>\n      <th>series_4</th>\n      <th>series_5</th>\n    </tr>\n  </thead>\n  <tbody>\n    <tr>\n      <th>0</th>\n      <td>8.232779</td>\n      <td>5.120863</td>\n      <td>1.238400</td>\n      <td>1.751302</td>\n      <td>3.936823</td>\n    </tr>\n    <tr>\n      <th>1</th>\n      <td>5.569104</td>\n      <td>6.485455</td>\n      <td>9.801209</td>\n      <td>2.306982</td>\n      <td>8.026181</td>\n    </tr>\n    <tr>\n      <th>2</th>\n      <td>7.185010</td>\n      <td>3.433266</td>\n      <td>4.524181</td>\n      <td>7.048174</td>\n      <td>8.101886</td>\n    </tr>\n    <tr>\n      <th>3</th>\n      <td>8.799369</td>\n      <td>6.226373</td>\n      <td>1.174997</td>\n      <td>7.176477</td>\n      <td>7.960028</td>\n    </tr>\n    <tr>\n      <th>4</th>\n      <td>4.960101</td>\n      <td>4.645997</td>\n      <td>8.200020</td>\n      <td>1.482483</td>\n      <td>8.579894</td>\n    </tr>\n  </tbody>\n</table>\n</div>"
     },
     "metadata": {},
     "execution_count": 213
    }
   ],
   "source": [
    "#4.3.1. 모든 행과 열에 라벨을 가지는 5 x 5 이상의 크기를 가지는 데이터프레임을 만든다.\n",
    "#      10가지 이상의 방법으로 특정한 행과 열을 선택한다.\n",
    "dataframe_2 = pd.DataFrame({\"series_1\" : np.random.uniform(0,10,5),\n",
    "                            \"series_2\" : np.random.uniform(0,10,5),\n",
    "                            \"series_3\" : np.random.uniform(0,10,5),\n",
    "                            \"series_4\" : np.random.uniform(0,10,5),\n",
    "                            \"series_5\" : np.random.uniform(0,10,5)},)\n",
    "dataframe_2"
   ]
  },
  {
   "cell_type": "code",
   "execution_count": 79,
   "metadata": {},
   "outputs": [
    {
     "output_type": "execute_result",
     "data": {
      "text/plain": [
       "0    8.814344\n",
       "1    9.581342\n",
       "2    6.437798\n",
       "3    4.848795\n",
       "4    0.440379\n",
       "Name: series_1, dtype: float64"
      ]
     },
     "metadata": {},
     "execution_count": 79
    }
   ],
   "source": [
    "#①\n",
    "dataframe_2.loc[:,\"series_1\"]"
   ]
  },
  {
   "cell_type": "code",
   "execution_count": 200,
   "metadata": {},
   "outputs": [
    {
     "output_type": "execute_result",
     "data": {
      "text/plain": [
       "   series_1\n",
       "0  5.612724\n",
       "1  6.165247\n",
       "2  9.638430\n",
       "3  5.743043\n",
       "4  3.711608"
      ],
      "text/html": "<div>\n<style scoped>\n    .dataframe tbody tr th:only-of-type {\n        vertical-align: middle;\n    }\n\n    .dataframe tbody tr th {\n        vertical-align: top;\n    }\n\n    .dataframe thead th {\n        text-align: right;\n    }\n</style>\n<table border=\"1\" class=\"dataframe\">\n  <thead>\n    <tr style=\"text-align: right;\">\n      <th></th>\n      <th>series_1</th>\n    </tr>\n  </thead>\n  <tbody>\n    <tr>\n      <th>0</th>\n      <td>5.612724</td>\n    </tr>\n    <tr>\n      <th>1</th>\n      <td>6.165247</td>\n    </tr>\n    <tr>\n      <th>2</th>\n      <td>9.638430</td>\n    </tr>\n    <tr>\n      <th>3</th>\n      <td>5.743043</td>\n    </tr>\n    <tr>\n      <th>4</th>\n      <td>3.711608</td>\n    </tr>\n  </tbody>\n</table>\n</div>"
     },
     "metadata": {},
     "execution_count": 200
    }
   ],
   "source": [
    "#②\n",
    "dataframe_2.loc[:,[\"series_1\"]]"
   ]
  },
  {
   "cell_type": "code",
   "execution_count": 198,
   "metadata": {},
   "outputs": [
    {
     "output_type": "execute_result",
     "data": {
      "text/plain": [
       "0    5.612724\n",
       "1    6.165247\n",
       "2    9.638430\n",
       "3    5.743043\n",
       "4    3.711608\n",
       "Name: series_1, dtype: float64"
      ]
     },
     "metadata": {},
     "execution_count": 198
    }
   ],
   "source": [
    "#③\n",
    "dataframe_2.iloc[:,0]"
   ]
  },
  {
   "cell_type": "code",
   "execution_count": 199,
   "metadata": {},
   "outputs": [
    {
     "output_type": "execute_result",
     "data": {
      "text/plain": [
       "   series_1\n",
       "0  5.612724\n",
       "1  6.165247\n",
       "2  9.638430\n",
       "3  5.743043\n",
       "4  3.711608"
      ],
      "text/html": "<div>\n<style scoped>\n    .dataframe tbody tr th:only-of-type {\n        vertical-align: middle;\n    }\n\n    .dataframe tbody tr th {\n        vertical-align: top;\n    }\n\n    .dataframe thead th {\n        text-align: right;\n    }\n</style>\n<table border=\"1\" class=\"dataframe\">\n  <thead>\n    <tr style=\"text-align: right;\">\n      <th></th>\n      <th>series_1</th>\n    </tr>\n  </thead>\n  <tbody>\n    <tr>\n      <th>0</th>\n      <td>5.612724</td>\n    </tr>\n    <tr>\n      <th>1</th>\n      <td>6.165247</td>\n    </tr>\n    <tr>\n      <th>2</th>\n      <td>9.638430</td>\n    </tr>\n    <tr>\n      <th>3</th>\n      <td>5.743043</td>\n    </tr>\n    <tr>\n      <th>4</th>\n      <td>3.711608</td>\n    </tr>\n  </tbody>\n</table>\n</div>"
     },
     "metadata": {},
     "execution_count": 199
    }
   ],
   "source": [
    "#④\n",
    "dataframe_2.iloc[:,[0]]"
   ]
  },
  {
   "cell_type": "code",
   "execution_count": 201,
   "metadata": {},
   "outputs": [
    {
     "output_type": "execute_result",
     "data": {
      "text/plain": [
       "0    5.612724\n",
       "1    6.165247\n",
       "2    9.638430\n",
       "3    5.743043\n",
       "4    3.711608\n",
       "Name: series_1, dtype: float64"
      ]
     },
     "metadata": {},
     "execution_count": 201
    }
   ],
   "source": [
    "#⑤\n",
    "dataframe_2[\"series_1\"]"
   ]
  },
  {
   "cell_type": "code",
   "execution_count": 202,
   "metadata": {},
   "outputs": [
    {
     "output_type": "execute_result",
     "data": {
      "text/plain": [
       "   series_1\n",
       "0  5.612724\n",
       "1  6.165247\n",
       "2  9.638430\n",
       "3  5.743043\n",
       "4  3.711608"
      ],
      "text/html": "<div>\n<style scoped>\n    .dataframe tbody tr th:only-of-type {\n        vertical-align: middle;\n    }\n\n    .dataframe tbody tr th {\n        vertical-align: top;\n    }\n\n    .dataframe thead th {\n        text-align: right;\n    }\n</style>\n<table border=\"1\" class=\"dataframe\">\n  <thead>\n    <tr style=\"text-align: right;\">\n      <th></th>\n      <th>series_1</th>\n    </tr>\n  </thead>\n  <tbody>\n    <tr>\n      <th>0</th>\n      <td>5.612724</td>\n    </tr>\n    <tr>\n      <th>1</th>\n      <td>6.165247</td>\n    </tr>\n    <tr>\n      <th>2</th>\n      <td>9.638430</td>\n    </tr>\n    <tr>\n      <th>3</th>\n      <td>5.743043</td>\n    </tr>\n    <tr>\n      <th>4</th>\n      <td>3.711608</td>\n    </tr>\n  </tbody>\n</table>\n</div>"
     },
     "metadata": {},
     "execution_count": 202
    }
   ],
   "source": [
    "#⑤\n",
    "dataframe_2[[\"series_1\"]]"
   ]
  },
  {
   "cell_type": "code",
   "execution_count": 214,
   "metadata": {},
   "outputs": [
    {
     "output_type": "execute_result",
     "data": {
      "text/plain": [
       "0    8.232779\n",
       "1    5.569104\n",
       "2    7.185010\n",
       "3    8.799369\n",
       "4    4.960101\n",
       "Name: series_1, dtype: float64"
      ]
     },
     "metadata": {},
     "execution_count": 214
    }
   ],
   "source": [
    "#⑥\n",
    "dataframe_2.series_1"
   ]
  },
  {
   "cell_type": "code",
   "execution_count": 243,
   "metadata": {},
   "outputs": [
    {
     "output_type": "execute_result",
     "data": {
      "text/plain": [
       "   series_1\n",
       "0  8.232779\n",
       "1  5.569104\n",
       "2  7.185010\n",
       "3  8.799369\n",
       "4  4.960101"
      ],
      "text/html": "<div>\n<style scoped>\n    .dataframe tbody tr th:only-of-type {\n        vertical-align: middle;\n    }\n\n    .dataframe tbody tr th {\n        vertical-align: top;\n    }\n\n    .dataframe thead th {\n        text-align: right;\n    }\n</style>\n<table border=\"1\" class=\"dataframe\">\n  <thead>\n    <tr style=\"text-align: right;\">\n      <th></th>\n      <th>series_1</th>\n    </tr>\n  </thead>\n  <tbody>\n    <tr>\n      <th>0</th>\n      <td>8.232779</td>\n    </tr>\n    <tr>\n      <th>1</th>\n      <td>5.569104</td>\n    </tr>\n    <tr>\n      <th>2</th>\n      <td>7.185010</td>\n    </tr>\n    <tr>\n      <th>3</th>\n      <td>8.799369</td>\n    </tr>\n    <tr>\n      <th>4</th>\n      <td>4.960101</td>\n    </tr>\n  </tbody>\n</table>\n</div>"
     },
     "metadata": {},
     "execution_count": 243
    }
   ],
   "source": [
    "#⑦\n",
    "dataframe_2.iloc[:,0:1]"
   ]
  },
  {
   "cell_type": "code",
   "execution_count": 2,
   "metadata": {},
   "outputs": [],
   "source": [
    "#⑧\n"
   ]
  },
  {
   "cell_type": "code",
   "execution_count": null,
   "metadata": {},
   "outputs": [],
   "source": [
    "#⑨\n"
   ]
  },
  {
   "cell_type": "code",
   "execution_count": null,
   "metadata": {},
   "outputs": [],
   "source": [
    "#⑩\n"
   ]
  },
  {
   "cell_type": "code",
   "execution_count": 6,
   "metadata": {},
   "outputs": [
    {
     "output_type": "execute_result",
     "data": {
      "text/plain": [
       "     survived  pclass     sex   age  sibsp  parch     fare embarked   class  \\\n",
       "0           0       3    male  22.0      1      0   7.2500        S   Third   \n",
       "1           1       1  female  38.0      1      0  71.2833        C   First   \n",
       "2           1       3  female  26.0      0      0   7.9250        S   Third   \n",
       "3           1       1  female  35.0      1      0  53.1000        S   First   \n",
       "4           0       3    male  35.0      0      0   8.0500        S   Third   \n",
       "..        ...     ...     ...   ...    ...    ...      ...      ...     ...   \n",
       "886         0       2    male  27.0      0      0  13.0000        S  Second   \n",
       "887         1       1  female  19.0      0      0  30.0000        S   First   \n",
       "888         0       3  female   NaN      1      2  23.4500        S   Third   \n",
       "889         1       1    male  26.0      0      0  30.0000        C   First   \n",
       "890         0       3    male  32.0      0      0   7.7500        Q   Third   \n",
       "\n",
       "       who  adult_male deck  embark_town alive  alone  \n",
       "0      man        True  NaN  Southampton    no  False  \n",
       "1    woman       False    C    Cherbourg   yes  False  \n",
       "2    woman       False  NaN  Southampton   yes   True  \n",
       "3    woman       False    C  Southampton   yes  False  \n",
       "4      man        True  NaN  Southampton    no   True  \n",
       "..     ...         ...  ...          ...   ...    ...  \n",
       "886    man        True  NaN  Southampton    no   True  \n",
       "887  woman       False    B  Southampton   yes   True  \n",
       "888  woman       False  NaN  Southampton    no  False  \n",
       "889    man        True    C    Cherbourg   yes   True  \n",
       "890    man        True  NaN   Queenstown    no   True  \n",
       "\n",
       "[891 rows x 15 columns]"
      ],
      "text/html": "<div>\n<style scoped>\n    .dataframe tbody tr th:only-of-type {\n        vertical-align: middle;\n    }\n\n    .dataframe tbody tr th {\n        vertical-align: top;\n    }\n\n    .dataframe thead th {\n        text-align: right;\n    }\n</style>\n<table border=\"1\" class=\"dataframe\">\n  <thead>\n    <tr style=\"text-align: right;\">\n      <th></th>\n      <th>survived</th>\n      <th>pclass</th>\n      <th>sex</th>\n      <th>age</th>\n      <th>sibsp</th>\n      <th>parch</th>\n      <th>fare</th>\n      <th>embarked</th>\n      <th>class</th>\n      <th>who</th>\n      <th>adult_male</th>\n      <th>deck</th>\n      <th>embark_town</th>\n      <th>alive</th>\n      <th>alone</th>\n    </tr>\n  </thead>\n  <tbody>\n    <tr>\n      <th>0</th>\n      <td>0</td>\n      <td>3</td>\n      <td>male</td>\n      <td>22.0</td>\n      <td>1</td>\n      <td>0</td>\n      <td>7.2500</td>\n      <td>S</td>\n      <td>Third</td>\n      <td>man</td>\n      <td>True</td>\n      <td>NaN</td>\n      <td>Southampton</td>\n      <td>no</td>\n      <td>False</td>\n    </tr>\n    <tr>\n      <th>1</th>\n      <td>1</td>\n      <td>1</td>\n      <td>female</td>\n      <td>38.0</td>\n      <td>1</td>\n      <td>0</td>\n      <td>71.2833</td>\n      <td>C</td>\n      <td>First</td>\n      <td>woman</td>\n      <td>False</td>\n      <td>C</td>\n      <td>Cherbourg</td>\n      <td>yes</td>\n      <td>False</td>\n    </tr>\n    <tr>\n      <th>2</th>\n      <td>1</td>\n      <td>3</td>\n      <td>female</td>\n      <td>26.0</td>\n      <td>0</td>\n      <td>0</td>\n      <td>7.9250</td>\n      <td>S</td>\n      <td>Third</td>\n      <td>woman</td>\n      <td>False</td>\n      <td>NaN</td>\n      <td>Southampton</td>\n      <td>yes</td>\n      <td>True</td>\n    </tr>\n    <tr>\n      <th>3</th>\n      <td>1</td>\n      <td>1</td>\n      <td>female</td>\n      <td>35.0</td>\n      <td>1</td>\n      <td>0</td>\n      <td>53.1000</td>\n      <td>S</td>\n      <td>First</td>\n      <td>woman</td>\n      <td>False</td>\n      <td>C</td>\n      <td>Southampton</td>\n      <td>yes</td>\n      <td>False</td>\n    </tr>\n    <tr>\n      <th>4</th>\n      <td>0</td>\n      <td>3</td>\n      <td>male</td>\n      <td>35.0</td>\n      <td>0</td>\n      <td>0</td>\n      <td>8.0500</td>\n      <td>S</td>\n      <td>Third</td>\n      <td>man</td>\n      <td>True</td>\n      <td>NaN</td>\n      <td>Southampton</td>\n      <td>no</td>\n      <td>True</td>\n    </tr>\n    <tr>\n      <th>...</th>\n      <td>...</td>\n      <td>...</td>\n      <td>...</td>\n      <td>...</td>\n      <td>...</td>\n      <td>...</td>\n      <td>...</td>\n      <td>...</td>\n      <td>...</td>\n      <td>...</td>\n      <td>...</td>\n      <td>...</td>\n      <td>...</td>\n      <td>...</td>\n      <td>...</td>\n    </tr>\n    <tr>\n      <th>886</th>\n      <td>0</td>\n      <td>2</td>\n      <td>male</td>\n      <td>27.0</td>\n      <td>0</td>\n      <td>0</td>\n      <td>13.0000</td>\n      <td>S</td>\n      <td>Second</td>\n      <td>man</td>\n      <td>True</td>\n      <td>NaN</td>\n      <td>Southampton</td>\n      <td>no</td>\n      <td>True</td>\n    </tr>\n    <tr>\n      <th>887</th>\n      <td>1</td>\n      <td>1</td>\n      <td>female</td>\n      <td>19.0</td>\n      <td>0</td>\n      <td>0</td>\n      <td>30.0000</td>\n      <td>S</td>\n      <td>First</td>\n      <td>woman</td>\n      <td>False</td>\n      <td>B</td>\n      <td>Southampton</td>\n      <td>yes</td>\n      <td>True</td>\n    </tr>\n    <tr>\n      <th>888</th>\n      <td>0</td>\n      <td>3</td>\n      <td>female</td>\n      <td>NaN</td>\n      <td>1</td>\n      <td>2</td>\n      <td>23.4500</td>\n      <td>S</td>\n      <td>Third</td>\n      <td>woman</td>\n      <td>False</td>\n      <td>NaN</td>\n      <td>Southampton</td>\n      <td>no</td>\n      <td>False</td>\n    </tr>\n    <tr>\n      <th>889</th>\n      <td>1</td>\n      <td>1</td>\n      <td>male</td>\n      <td>26.0</td>\n      <td>0</td>\n      <td>0</td>\n      <td>30.0000</td>\n      <td>C</td>\n      <td>First</td>\n      <td>man</td>\n      <td>True</td>\n      <td>C</td>\n      <td>Cherbourg</td>\n      <td>yes</td>\n      <td>True</td>\n    </tr>\n    <tr>\n      <th>890</th>\n      <td>0</td>\n      <td>3</td>\n      <td>male</td>\n      <td>32.0</td>\n      <td>0</td>\n      <td>0</td>\n      <td>7.7500</td>\n      <td>Q</td>\n      <td>Third</td>\n      <td>man</td>\n      <td>True</td>\n      <td>NaN</td>\n      <td>Queenstown</td>\n      <td>no</td>\n      <td>True</td>\n    </tr>\n  </tbody>\n</table>\n<p>891 rows × 15 columns</p>\n</div>"
     },
     "metadata": {},
     "execution_count": 6
    }
   ],
   "source": [
    "#4.4.1. 타이타닉호 승객 데이터의 데이터 개수를 각 열마다 구해본다.\n",
    "titanic = sns.load_dataset(\"titanic\")\n",
    "titanic"
   ]
  },
  {
   "cell_type": "code",
   "execution_count": 234,
   "metadata": {},
   "outputs": [
    {
     "output_type": "execute_result",
     "data": {
      "text/plain": [
       "survived       891\n",
       "pclass         891\n",
       "sex            891\n",
       "age            714\n",
       "sibsp          891\n",
       "parch          891\n",
       "fare           891\n",
       "embarked       889\n",
       "class          891\n",
       "who            891\n",
       "adult_male     891\n",
       "deck           203\n",
       "embark_town    889\n",
       "alive          891\n",
       "alone          891\n",
       "dtype: int64"
      ]
     },
     "metadata": {},
     "execution_count": 234
    }
   ],
   "source": [
    "titanic.count()"
   ]
  },
  {
   "cell_type": "code",
   "execution_count": 108,
   "metadata": {},
   "outputs": [
    {
     "output_type": "execute_result",
     "data": {
      "text/plain": [
       "male      577\n",
       "female    314\n",
       "Name: sex, dtype: int64"
      ]
     },
     "metadata": {},
     "execution_count": 108
    }
   ],
   "source": [
    "#4.4.2. sort_values 메서드를 사용하여 타이타닉호 승객에 대해 성별(sex) 인원수, 나이별(age) 인원수, 선실별(class) 인원수, 사망/생존(alive) 인원수를 구하라.\n",
    "titanic.loc[:,\"sex\"].value_counts().sort_values(ascending=False)"
   ]
  },
  {
   "cell_type": "code",
   "execution_count": 112,
   "metadata": {},
   "outputs": [
    {
     "output_type": "execute_result",
     "data": {
      "text/plain": [
       "24.00    30\n",
       "22.00    27\n",
       "18.00    26\n",
       "28.00    25\n",
       "19.00    25\n",
       "         ..\n",
       "0.67      1\n",
       "20.50     1\n",
       "66.00     1\n",
       "24.50     1\n",
       "12.00     1\n",
       "Name: age, Length: 88, dtype: int32"
      ]
     },
     "metadata": {},
     "execution_count": 112
    }
   ],
   "source": [
    "titanic.loc[:,\"age\"].value_counts().sort_values(ascending=False)"
   ]
  },
  {
   "cell_type": "code",
   "execution_count": 113,
   "metadata": {},
   "outputs": [
    {
     "output_type": "execute_result",
     "data": {
      "text/plain": [
       "Third     491\n",
       "First     216\n",
       "Second    184\n",
       "Name: class, dtype: int64"
      ]
     },
     "metadata": {},
     "execution_count": 113
    }
   ],
   "source": [
    "titanic.loc[:,\"class\"].value_counts().sort_values(ascending=False)"
   ]
  },
  {
   "cell_type": "code",
   "execution_count": 114,
   "metadata": {},
   "outputs": [
    {
     "output_type": "execute_result",
     "data": {
      "text/plain": [
       "no     549\n",
       "yes    342\n",
       "Name: alive, dtype: int64"
      ]
     },
     "metadata": {},
     "execution_count": 114
    }
   ],
   "source": [
    "titanic.loc[:,\"alive\"].value_counts().sort_values(ascending=False)"
   ]
  },
  {
   "cell_type": "code",
   "execution_count": 139,
   "metadata": {},
   "outputs": [
    {
     "output_type": "execute_result",
     "data": {
      "text/plain": [
       "29.69911764705882"
      ]
     },
     "metadata": {},
     "execution_count": 139
    }
   ],
   "source": [
    "#4.4.3. 타이타닉호 승객의 데이터를 가지고 다음을 해결하시오. \n",
    "#(1) 타이타닉호 승객의 평균 나이를 구하라.\n",
    "titanic.loc[:,\"age\"].mean(axis=0)"
   ]
  },
  {
   "cell_type": "code",
   "execution_count": 138,
   "metadata": {},
   "outputs": [
    {
     "output_type": "execute_result",
     "data": {
      "text/plain": [
       "27.915708812260537"
      ]
     },
     "metadata": {},
     "execution_count": 138
    }
   ],
   "source": [
    "#(2) 타이타닉호 승객중 여성 승객의 평균 나이를 구하라.\n",
    "titanic_female = titanic.loc[titanic.loc[:,\"sex\"]==\"female\"]\n",
    "titanic_female.loc[:,\"age\"].mean(axis=0)"
   ]
  },
  {
   "cell_type": "code",
   "execution_count": 145,
   "metadata": {},
   "outputs": [
    {
     "output_type": "execute_result",
     "data": {
      "text/plain": [
       "34.61176470588235"
      ]
     },
     "metadata": {},
     "execution_count": 145
    }
   ],
   "source": [
    "#(3) 타이타닉호 승객중 1등실 선실의 여성 승객의 평균 나이를 구하라.\n",
    "titanic_female_1st = titanic.loc[titanic.loc[:,\"sex\"]==\"female\"].loc[titanic.loc[:,\"class\"]==\"First\"]\n",
    "titanic_female_1st.loc[:,\"age\"].mean(axis=0)"
   ]
  },
  {
   "cell_type": "code",
   "execution_count": 253,
   "metadata": {},
   "outputs": [
    {
     "output_type": "execute_result",
     "data": {
      "text/plain": [
       "     survived  pclass     sex   age  sibsp  parch     fare embarked   class  \\\n",
       "0           0       3    male  22.0      1      0   7.2500        S   Third   \n",
       "1           1       1  female  38.0      1      0  71.2833        C   First   \n",
       "2           1       3  female  26.0      0      0   7.9250        S   Third   \n",
       "3           1       1  female  35.0      1      0  53.1000        S   First   \n",
       "4           0       3    male  35.0      0      0   8.0500        S   Third   \n",
       "..        ...     ...     ...   ...    ...    ...      ...      ...     ...   \n",
       "886         0       2    male  27.0      0      0  13.0000        S  Second   \n",
       "887         1       1  female  19.0      0      0  30.0000        S   First   \n",
       "888         0       3  female   NaN      1      2  23.4500        S   Third   \n",
       "889         1       1    male  26.0      0      0  30.0000        C   First   \n",
       "890         0       3    male  32.0      0      0   7.7500        Q   Third   \n",
       "\n",
       "       who  adult_male deck  embark_town alive  alone category_1  \n",
       "0      man        True  NaN  Southampton    no  False       male  \n",
       "1    woman       False    C    Cherbourg   yes  False     female  \n",
       "2    woman       False  NaN  Southampton   yes   True     female  \n",
       "3    woman       False    C  Southampton   yes  False     female  \n",
       "4      man        True  NaN  Southampton    no   True       male  \n",
       "..     ...         ...  ...          ...   ...    ...        ...  \n",
       "886    man        True  NaN  Southampton    no   True       male  \n",
       "887  woman       False    B  Southampton   yes   True      child  \n",
       "888  woman       False  NaN  Southampton    no  False      child  \n",
       "889    man        True    C    Cherbourg   yes   True       male  \n",
       "890    man        True  NaN   Queenstown    no   True       male  \n",
       "\n",
       "[891 rows x 16 columns]"
      ],
      "text/html": "<div>\n<style scoped>\n    .dataframe tbody tr th:only-of-type {\n        vertical-align: middle;\n    }\n\n    .dataframe tbody tr th {\n        vertical-align: top;\n    }\n\n    .dataframe thead th {\n        text-align: right;\n    }\n</style>\n<table border=\"1\" class=\"dataframe\">\n  <thead>\n    <tr style=\"text-align: right;\">\n      <th></th>\n      <th>survived</th>\n      <th>pclass</th>\n      <th>sex</th>\n      <th>age</th>\n      <th>sibsp</th>\n      <th>parch</th>\n      <th>fare</th>\n      <th>embarked</th>\n      <th>class</th>\n      <th>who</th>\n      <th>adult_male</th>\n      <th>deck</th>\n      <th>embark_town</th>\n      <th>alive</th>\n      <th>alone</th>\n      <th>category_1</th>\n    </tr>\n  </thead>\n  <tbody>\n    <tr>\n      <th>0</th>\n      <td>0</td>\n      <td>3</td>\n      <td>male</td>\n      <td>22.0</td>\n      <td>1</td>\n      <td>0</td>\n      <td>7.2500</td>\n      <td>S</td>\n      <td>Third</td>\n      <td>man</td>\n      <td>True</td>\n      <td>NaN</td>\n      <td>Southampton</td>\n      <td>no</td>\n      <td>False</td>\n      <td>male</td>\n    </tr>\n    <tr>\n      <th>1</th>\n      <td>1</td>\n      <td>1</td>\n      <td>female</td>\n      <td>38.0</td>\n      <td>1</td>\n      <td>0</td>\n      <td>71.2833</td>\n      <td>C</td>\n      <td>First</td>\n      <td>woman</td>\n      <td>False</td>\n      <td>C</td>\n      <td>Cherbourg</td>\n      <td>yes</td>\n      <td>False</td>\n      <td>female</td>\n    </tr>\n    <tr>\n      <th>2</th>\n      <td>1</td>\n      <td>3</td>\n      <td>female</td>\n      <td>26.0</td>\n      <td>0</td>\n      <td>0</td>\n      <td>7.9250</td>\n      <td>S</td>\n      <td>Third</td>\n      <td>woman</td>\n      <td>False</td>\n      <td>NaN</td>\n      <td>Southampton</td>\n      <td>yes</td>\n      <td>True</td>\n      <td>female</td>\n    </tr>\n    <tr>\n      <th>3</th>\n      <td>1</td>\n      <td>1</td>\n      <td>female</td>\n      <td>35.0</td>\n      <td>1</td>\n      <td>0</td>\n      <td>53.1000</td>\n      <td>S</td>\n      <td>First</td>\n      <td>woman</td>\n      <td>False</td>\n      <td>C</td>\n      <td>Southampton</td>\n      <td>yes</td>\n      <td>False</td>\n      <td>female</td>\n    </tr>\n    <tr>\n      <th>4</th>\n      <td>0</td>\n      <td>3</td>\n      <td>male</td>\n      <td>35.0</td>\n      <td>0</td>\n      <td>0</td>\n      <td>8.0500</td>\n      <td>S</td>\n      <td>Third</td>\n      <td>man</td>\n      <td>True</td>\n      <td>NaN</td>\n      <td>Southampton</td>\n      <td>no</td>\n      <td>True</td>\n      <td>male</td>\n    </tr>\n    <tr>\n      <th>...</th>\n      <td>...</td>\n      <td>...</td>\n      <td>...</td>\n      <td>...</td>\n      <td>...</td>\n      <td>...</td>\n      <td>...</td>\n      <td>...</td>\n      <td>...</td>\n      <td>...</td>\n      <td>...</td>\n      <td>...</td>\n      <td>...</td>\n      <td>...</td>\n      <td>...</td>\n      <td>...</td>\n    </tr>\n    <tr>\n      <th>886</th>\n      <td>0</td>\n      <td>2</td>\n      <td>male</td>\n      <td>27.0</td>\n      <td>0</td>\n      <td>0</td>\n      <td>13.0000</td>\n      <td>S</td>\n      <td>Second</td>\n      <td>man</td>\n      <td>True</td>\n      <td>NaN</td>\n      <td>Southampton</td>\n      <td>no</td>\n      <td>True</td>\n      <td>male</td>\n    </tr>\n    <tr>\n      <th>887</th>\n      <td>1</td>\n      <td>1</td>\n      <td>female</td>\n      <td>19.0</td>\n      <td>0</td>\n      <td>0</td>\n      <td>30.0000</td>\n      <td>S</td>\n      <td>First</td>\n      <td>woman</td>\n      <td>False</td>\n      <td>B</td>\n      <td>Southampton</td>\n      <td>yes</td>\n      <td>True</td>\n      <td>child</td>\n    </tr>\n    <tr>\n      <th>888</th>\n      <td>0</td>\n      <td>3</td>\n      <td>female</td>\n      <td>NaN</td>\n      <td>1</td>\n      <td>2</td>\n      <td>23.4500</td>\n      <td>S</td>\n      <td>Third</td>\n      <td>woman</td>\n      <td>False</td>\n      <td>NaN</td>\n      <td>Southampton</td>\n      <td>no</td>\n      <td>False</td>\n      <td>child</td>\n    </tr>\n    <tr>\n      <th>889</th>\n      <td>1</td>\n      <td>1</td>\n      <td>male</td>\n      <td>26.0</td>\n      <td>0</td>\n      <td>0</td>\n      <td>30.0000</td>\n      <td>C</td>\n      <td>First</td>\n      <td>man</td>\n      <td>True</td>\n      <td>C</td>\n      <td>Cherbourg</td>\n      <td>yes</td>\n      <td>True</td>\n      <td>male</td>\n    </tr>\n    <tr>\n      <th>890</th>\n      <td>0</td>\n      <td>3</td>\n      <td>male</td>\n      <td>32.0</td>\n      <td>0</td>\n      <td>0</td>\n      <td>7.7500</td>\n      <td>Q</td>\n      <td>Third</td>\n      <td>man</td>\n      <td>True</td>\n      <td>NaN</td>\n      <td>Queenstown</td>\n      <td>no</td>\n      <td>True</td>\n      <td>male</td>\n    </tr>\n  </tbody>\n</table>\n<p>891 rows × 16 columns</p>\n</div>"
     },
     "metadata": {},
     "execution_count": 253
    }
   ],
   "source": [
    "#4.4.4. 타이타닉호의 승객에 대해 나이와 성별에 의한 카테고리 열인 category1 열을 만들어라. category1 카테고리는 다음과 같이 정의된다.\n",
    "#       조건 1. 20살이 넘으면 성별을 그대로 사용한다.\n",
    "#       조건 2. 20살 미만이면 성별에 관계없이 “child”라고 한다.\n",
    "titanic[\"category_1\"]=titanic.apply(lambda x : x.sex if x.age > 20 else \"child\", axis=1)\n",
    "titanic"
   ]
  },
  {
   "cell_type": "code",
   "execution_count": 15,
   "metadata": {},
   "outputs": [
    {
     "output_type": "execute_result",
     "data": {
      "text/plain": [
       "     survived  pclass     sex  age  sibsp  parch     fare embarked   class  \\\n",
       "0           0       3    male   22      1      0   7.2500        S   Third   \n",
       "1           1       1  female   38      1      0  71.2833        C   First   \n",
       "2           1       3  female   26      0      0   7.9250        S   Third   \n",
       "3           1       1  female   35      1      0  53.1000        S   First   \n",
       "4           0       3    male   35      0      0   8.0500        S   Third   \n",
       "..        ...     ...     ...  ...    ...    ...      ...      ...     ...   \n",
       "886         0       2    male   27      0      0  13.0000        S  Second   \n",
       "887         1       1  female   19      0      0  30.0000        S   First   \n",
       "888         0       3  female   29      1      2  23.4500        S   Third   \n",
       "889         1       1    male   26      0      0  30.0000        C   First   \n",
       "890         0       3    male   32      0      0   7.7500        Q   Third   \n",
       "\n",
       "       who  adult_male deck  embark_town alive  alone  \n",
       "0      man        True  NaN  Southampton    no  False  \n",
       "1    woman       False    C    Cherbourg   yes  False  \n",
       "2    woman       False  NaN  Southampton   yes   True  \n",
       "3    woman       False    C  Southampton   yes  False  \n",
       "4      man        True  NaN  Southampton    no   True  \n",
       "..     ...         ...  ...          ...   ...    ...  \n",
       "886    man        True  NaN  Southampton    no   True  \n",
       "887  woman       False    B  Southampton   yes   True  \n",
       "888  woman       False  NaN  Southampton    no  False  \n",
       "889    man        True    C    Cherbourg   yes   True  \n",
       "890    man        True  NaN   Queenstown    no   True  \n",
       "\n",
       "[891 rows x 15 columns]"
      ],
      "text/html": "<div>\n<style scoped>\n    .dataframe tbody tr th:only-of-type {\n        vertical-align: middle;\n    }\n\n    .dataframe tbody tr th {\n        vertical-align: top;\n    }\n\n    .dataframe thead th {\n        text-align: right;\n    }\n</style>\n<table border=\"1\" class=\"dataframe\">\n  <thead>\n    <tr style=\"text-align: right;\">\n      <th></th>\n      <th>survived</th>\n      <th>pclass</th>\n      <th>sex</th>\n      <th>age</th>\n      <th>sibsp</th>\n      <th>parch</th>\n      <th>fare</th>\n      <th>embarked</th>\n      <th>class</th>\n      <th>who</th>\n      <th>adult_male</th>\n      <th>deck</th>\n      <th>embark_town</th>\n      <th>alive</th>\n      <th>alone</th>\n    </tr>\n  </thead>\n  <tbody>\n    <tr>\n      <th>0</th>\n      <td>0</td>\n      <td>3</td>\n      <td>male</td>\n      <td>22</td>\n      <td>1</td>\n      <td>0</td>\n      <td>7.2500</td>\n      <td>S</td>\n      <td>Third</td>\n      <td>man</td>\n      <td>True</td>\n      <td>NaN</td>\n      <td>Southampton</td>\n      <td>no</td>\n      <td>False</td>\n    </tr>\n    <tr>\n      <th>1</th>\n      <td>1</td>\n      <td>1</td>\n      <td>female</td>\n      <td>38</td>\n      <td>1</td>\n      <td>0</td>\n      <td>71.2833</td>\n      <td>C</td>\n      <td>First</td>\n      <td>woman</td>\n      <td>False</td>\n      <td>C</td>\n      <td>Cherbourg</td>\n      <td>yes</td>\n      <td>False</td>\n    </tr>\n    <tr>\n      <th>2</th>\n      <td>1</td>\n      <td>3</td>\n      <td>female</td>\n      <td>26</td>\n      <td>0</td>\n      <td>0</td>\n      <td>7.9250</td>\n      <td>S</td>\n      <td>Third</td>\n      <td>woman</td>\n      <td>False</td>\n      <td>NaN</td>\n      <td>Southampton</td>\n      <td>yes</td>\n      <td>True</td>\n    </tr>\n    <tr>\n      <th>3</th>\n      <td>1</td>\n      <td>1</td>\n      <td>female</td>\n      <td>35</td>\n      <td>1</td>\n      <td>0</td>\n      <td>53.1000</td>\n      <td>S</td>\n      <td>First</td>\n      <td>woman</td>\n      <td>False</td>\n      <td>C</td>\n      <td>Southampton</td>\n      <td>yes</td>\n      <td>False</td>\n    </tr>\n    <tr>\n      <th>4</th>\n      <td>0</td>\n      <td>3</td>\n      <td>male</td>\n      <td>35</td>\n      <td>0</td>\n      <td>0</td>\n      <td>8.0500</td>\n      <td>S</td>\n      <td>Third</td>\n      <td>man</td>\n      <td>True</td>\n      <td>NaN</td>\n      <td>Southampton</td>\n      <td>no</td>\n      <td>True</td>\n    </tr>\n    <tr>\n      <th>...</th>\n      <td>...</td>\n      <td>...</td>\n      <td>...</td>\n      <td>...</td>\n      <td>...</td>\n      <td>...</td>\n      <td>...</td>\n      <td>...</td>\n      <td>...</td>\n      <td>...</td>\n      <td>...</td>\n      <td>...</td>\n      <td>...</td>\n      <td>...</td>\n      <td>...</td>\n    </tr>\n    <tr>\n      <th>886</th>\n      <td>0</td>\n      <td>2</td>\n      <td>male</td>\n      <td>27</td>\n      <td>0</td>\n      <td>0</td>\n      <td>13.0000</td>\n      <td>S</td>\n      <td>Second</td>\n      <td>man</td>\n      <td>True</td>\n      <td>NaN</td>\n      <td>Southampton</td>\n      <td>no</td>\n      <td>True</td>\n    </tr>\n    <tr>\n      <th>887</th>\n      <td>1</td>\n      <td>1</td>\n      <td>female</td>\n      <td>19</td>\n      <td>0</td>\n      <td>0</td>\n      <td>30.0000</td>\n      <td>S</td>\n      <td>First</td>\n      <td>woman</td>\n      <td>False</td>\n      <td>B</td>\n      <td>Southampton</td>\n      <td>yes</td>\n      <td>True</td>\n    </tr>\n    <tr>\n      <th>888</th>\n      <td>0</td>\n      <td>3</td>\n      <td>female</td>\n      <td>29</td>\n      <td>1</td>\n      <td>2</td>\n      <td>23.4500</td>\n      <td>S</td>\n      <td>Third</td>\n      <td>woman</td>\n      <td>False</td>\n      <td>NaN</td>\n      <td>Southampton</td>\n      <td>no</td>\n      <td>False</td>\n    </tr>\n    <tr>\n      <th>889</th>\n      <td>1</td>\n      <td>1</td>\n      <td>male</td>\n      <td>26</td>\n      <td>0</td>\n      <td>0</td>\n      <td>30.0000</td>\n      <td>C</td>\n      <td>First</td>\n      <td>man</td>\n      <td>True</td>\n      <td>C</td>\n      <td>Cherbourg</td>\n      <td>yes</td>\n      <td>True</td>\n    </tr>\n    <tr>\n      <th>890</th>\n      <td>0</td>\n      <td>3</td>\n      <td>male</td>\n      <td>32</td>\n      <td>0</td>\n      <td>0</td>\n      <td>7.7500</td>\n      <td>Q</td>\n      <td>Third</td>\n      <td>man</td>\n      <td>True</td>\n      <td>NaN</td>\n      <td>Queenstown</td>\n      <td>no</td>\n      <td>True</td>\n    </tr>\n  </tbody>\n</table>\n<p>891 rows × 15 columns</p>\n</div>"
     },
     "metadata": {},
     "execution_count": 15
    }
   ],
   "source": [
    "#4.4.5. 타이타닉호의 승객 중 나이를 명시하지 않은 고객은 나이를 명시한 고객의 평균 나이 값이 되도록 titanic 데이터프레임을 고쳐라.\n",
    "titanic_fill_age = titanic\n",
    "titanic_fill_age.loc[:,\"age\"] = titanic.loc[:,\"age\"].fillna(titanic.loc[:,\"age\"].mean(axis=0))\n",
    "titanic_fill_age.loc[:,\"age\"] = titanic_fill_age.loc[:,\"age\"].astype(int)\n",
    "titanic_fill_age"
   ]
  },
  {
   "cell_type": "code",
   "execution_count": 254,
   "metadata": {},
   "outputs": [
    {
     "output_type": "execute_result",
     "data": {
      "text/plain": [
       "     survived  pclass     sex   age  sibsp  parch     fare embarked   class  \\\n",
       "0           0       3    male  22.0      1      0   7.2500        S   Third   \n",
       "1           1       1  female  38.0      1      0  71.2833        C   First   \n",
       "2           1       3  female  26.0      0      0   7.9250        S   Third   \n",
       "3           1       1  female  35.0      1      0  53.1000        S   First   \n",
       "4           0       3    male  35.0      0      0   8.0500        S   Third   \n",
       "..        ...     ...     ...   ...    ...    ...      ...      ...     ...   \n",
       "886         0       2    male  27.0      0      0  13.0000        S  Second   \n",
       "887         1       1  female  19.0      0      0  30.0000        S   First   \n",
       "888         0       3  female   NaN      1      2  23.4500        S   Third   \n",
       "889         1       1    male  26.0      0      0  30.0000        C   First   \n",
       "890         0       3    male  32.0      0      0   7.7500        Q   Third   \n",
       "\n",
       "       who  adult_male deck  embark_town alive  alone category_1 category_2  \n",
       "0      man        True  NaN  Southampton    no  False       male     male22  \n",
       "1    woman       False    C    Cherbourg   yes  False     female   female38  \n",
       "2    woman       False  NaN  Southampton   yes   True     female   female26  \n",
       "3    woman       False    C  Southampton   yes  False     female   female35  \n",
       "4      man        True  NaN  Southampton    no   True       male     male35  \n",
       "..     ...         ...  ...          ...   ...    ...        ...        ...  \n",
       "886    man        True  NaN  Southampton    no   True       male     male27  \n",
       "887  woman       False    B  Southampton   yes   True      child   female19  \n",
       "888  woman       False  NaN  Southampton    no  False      child  femalenan  \n",
       "889    man        True    C    Cherbourg   yes   True       male     male26  \n",
       "890    man        True  NaN   Queenstown    no   True       male     male32  \n",
       "\n",
       "[891 rows x 17 columns]"
      ],
      "text/html": "<div>\n<style scoped>\n    .dataframe tbody tr th:only-of-type {\n        vertical-align: middle;\n    }\n\n    .dataframe tbody tr th {\n        vertical-align: top;\n    }\n\n    .dataframe thead th {\n        text-align: right;\n    }\n</style>\n<table border=\"1\" class=\"dataframe\">\n  <thead>\n    <tr style=\"text-align: right;\">\n      <th></th>\n      <th>survived</th>\n      <th>pclass</th>\n      <th>sex</th>\n      <th>age</th>\n      <th>sibsp</th>\n      <th>parch</th>\n      <th>fare</th>\n      <th>embarked</th>\n      <th>class</th>\n      <th>who</th>\n      <th>adult_male</th>\n      <th>deck</th>\n      <th>embark_town</th>\n      <th>alive</th>\n      <th>alone</th>\n      <th>category_1</th>\n      <th>category_2</th>\n    </tr>\n  </thead>\n  <tbody>\n    <tr>\n      <th>0</th>\n      <td>0</td>\n      <td>3</td>\n      <td>male</td>\n      <td>22.0</td>\n      <td>1</td>\n      <td>0</td>\n      <td>7.2500</td>\n      <td>S</td>\n      <td>Third</td>\n      <td>man</td>\n      <td>True</td>\n      <td>NaN</td>\n      <td>Southampton</td>\n      <td>no</td>\n      <td>False</td>\n      <td>male</td>\n      <td>male22</td>\n    </tr>\n    <tr>\n      <th>1</th>\n      <td>1</td>\n      <td>1</td>\n      <td>female</td>\n      <td>38.0</td>\n      <td>1</td>\n      <td>0</td>\n      <td>71.2833</td>\n      <td>C</td>\n      <td>First</td>\n      <td>woman</td>\n      <td>False</td>\n      <td>C</td>\n      <td>Cherbourg</td>\n      <td>yes</td>\n      <td>False</td>\n      <td>female</td>\n      <td>female38</td>\n    </tr>\n    <tr>\n      <th>2</th>\n      <td>1</td>\n      <td>3</td>\n      <td>female</td>\n      <td>26.0</td>\n      <td>0</td>\n      <td>0</td>\n      <td>7.9250</td>\n      <td>S</td>\n      <td>Third</td>\n      <td>woman</td>\n      <td>False</td>\n      <td>NaN</td>\n      <td>Southampton</td>\n      <td>yes</td>\n      <td>True</td>\n      <td>female</td>\n      <td>female26</td>\n    </tr>\n    <tr>\n      <th>3</th>\n      <td>1</td>\n      <td>1</td>\n      <td>female</td>\n      <td>35.0</td>\n      <td>1</td>\n      <td>0</td>\n      <td>53.1000</td>\n      <td>S</td>\n      <td>First</td>\n      <td>woman</td>\n      <td>False</td>\n      <td>C</td>\n      <td>Southampton</td>\n      <td>yes</td>\n      <td>False</td>\n      <td>female</td>\n      <td>female35</td>\n    </tr>\n    <tr>\n      <th>4</th>\n      <td>0</td>\n      <td>3</td>\n      <td>male</td>\n      <td>35.0</td>\n      <td>0</td>\n      <td>0</td>\n      <td>8.0500</td>\n      <td>S</td>\n      <td>Third</td>\n      <td>man</td>\n      <td>True</td>\n      <td>NaN</td>\n      <td>Southampton</td>\n      <td>no</td>\n      <td>True</td>\n      <td>male</td>\n      <td>male35</td>\n    </tr>\n    <tr>\n      <th>...</th>\n      <td>...</td>\n      <td>...</td>\n      <td>...</td>\n      <td>...</td>\n      <td>...</td>\n      <td>...</td>\n      <td>...</td>\n      <td>...</td>\n      <td>...</td>\n      <td>...</td>\n      <td>...</td>\n      <td>...</td>\n      <td>...</td>\n      <td>...</td>\n      <td>...</td>\n      <td>...</td>\n      <td>...</td>\n    </tr>\n    <tr>\n      <th>886</th>\n      <td>0</td>\n      <td>2</td>\n      <td>male</td>\n      <td>27.0</td>\n      <td>0</td>\n      <td>0</td>\n      <td>13.0000</td>\n      <td>S</td>\n      <td>Second</td>\n      <td>man</td>\n      <td>True</td>\n      <td>NaN</td>\n      <td>Southampton</td>\n      <td>no</td>\n      <td>True</td>\n      <td>male</td>\n      <td>male27</td>\n    </tr>\n    <tr>\n      <th>887</th>\n      <td>1</td>\n      <td>1</td>\n      <td>female</td>\n      <td>19.0</td>\n      <td>0</td>\n      <td>0</td>\n      <td>30.0000</td>\n      <td>S</td>\n      <td>First</td>\n      <td>woman</td>\n      <td>False</td>\n      <td>B</td>\n      <td>Southampton</td>\n      <td>yes</td>\n      <td>True</td>\n      <td>child</td>\n      <td>female19</td>\n    </tr>\n    <tr>\n      <th>888</th>\n      <td>0</td>\n      <td>3</td>\n      <td>female</td>\n      <td>NaN</td>\n      <td>1</td>\n      <td>2</td>\n      <td>23.4500</td>\n      <td>S</td>\n      <td>Third</td>\n      <td>woman</td>\n      <td>False</td>\n      <td>NaN</td>\n      <td>Southampton</td>\n      <td>no</td>\n      <td>False</td>\n      <td>child</td>\n      <td>femalenan</td>\n    </tr>\n    <tr>\n      <th>889</th>\n      <td>1</td>\n      <td>1</td>\n      <td>male</td>\n      <td>26.0</td>\n      <td>0</td>\n      <td>0</td>\n      <td>30.0000</td>\n      <td>C</td>\n      <td>First</td>\n      <td>man</td>\n      <td>True</td>\n      <td>C</td>\n      <td>Cherbourg</td>\n      <td>yes</td>\n      <td>True</td>\n      <td>male</td>\n      <td>male26</td>\n    </tr>\n    <tr>\n      <th>890</th>\n      <td>0</td>\n      <td>3</td>\n      <td>male</td>\n      <td>32.0</td>\n      <td>0</td>\n      <td>0</td>\n      <td>7.7500</td>\n      <td>Q</td>\n      <td>Third</td>\n      <td>man</td>\n      <td>True</td>\n      <td>NaN</td>\n      <td>Queenstown</td>\n      <td>no</td>\n      <td>True</td>\n      <td>male</td>\n      <td>male32</td>\n    </tr>\n  </tbody>\n</table>\n<p>891 rows × 17 columns</p>\n</div>"
     },
     "metadata": {},
     "execution_count": 254
    }
   ],
   "source": [
    "#4.4.6. 타이타닉호의 승객에 대해 나이와 성별에 의한 카테고리 열인 category2 열을 만들어라. category2 카테고리는 다음과 같이 정의된다.\n",
    "#       조건 1. 성별을 나타내는 문자열 male 또는 female로 시작한다.\n",
    "#       조건 2. 성별을 나타내는 문자열 뒤에 나이를 나타내는 문자열이 온다.\n",
    "#       예를 들어, 27살 남성은 male27 값이 된다.\n",
    "titanic[\"category_2\"]=titanic.apply(lambda x : f'{x.sex}{x.age:.0f}', axis=1)\n",
    "titanic"
   ]
  },
  {
   "cell_type": "code",
   "execution_count": 25,
   "metadata": {},
   "outputs": [
    {
     "output_type": "execute_result",
     "data": {
      "text/plain": [
       "미성년자    0.19\n",
       "청년      0.46\n",
       "중년      0.27\n",
       "장년      0.07\n",
       "노년      0.00\n",
       "Name: age, dtype: float64"
      ]
     },
     "metadata": {},
     "execution_count": 25
    }
   ],
   "source": [
    "#4.4.7. 타이타닉호 승객을 ‘미성년자’, ‘청년’, ‘중년’, ‘장년’, ‘노년’ 나이 그룹으로 나눈다.\n",
    "#       bins = [1, 20, 30, 50, 70, 100]\n",
    "#       labels = [\"미성년자\", \"청년\", \"중년\", \"장년\", \"노년\"]\n",
    "#       그리고 각 나이 그룹의 승객 비율을 구한다. 비율의 전체 합은 1이 되어야 한다.\n",
    "bins = [1, 20, 30, 50, 70, 100]\n",
    "labels = [\"미성년자\", \"청년\", \"중년\", \"장년\", \"노년\"]\n",
    "titanic_category_4 = pd.cut(titanic[\"age\"],bins,labels=labels)\n",
    "(pd.value_counts(titanic_category_4)/891).round(2).sort_index()"
   ]
  },
  {
   "cell_type": "code",
   "execution_count": 299,
   "metadata": {},
   "outputs": [
    {
     "output_type": "execute_result",
     "data": {
      "text/plain": [
       "     survived  pclass     sex   age  sibsp  parch     fare embarked   class  \\\n",
       "0           0       3    male  22.0      1      0   7.2500        S   Third   \n",
       "1           1       1  female  38.0      1      0  71.2833        C   First   \n",
       "2           1       3  female  26.0      0      0   7.9250        S   Third   \n",
       "3           1       1  female  35.0      1      0  53.1000        S   First   \n",
       "4           0       3    male  35.0      0      0   8.0500        S   Third   \n",
       "..        ...     ...     ...   ...    ...    ...      ...      ...     ...   \n",
       "886         0       2    male  27.0      0      0  13.0000        S  Second   \n",
       "887         1       1  female  19.0      0      0  30.0000        S   First   \n",
       "888         0       3  female   NaN      1      2  23.4500        S   Third   \n",
       "889         1       1    male  26.0      0      0  30.0000        C   First   \n",
       "890         0       3    male  32.0      0      0   7.7500        Q   Third   \n",
       "\n",
       "       who  adult_male deck  embark_town alive  alone category_1 category_2  \\\n",
       "0      man        True  NaN  Southampton    no  False       male     male22   \n",
       "1    woman       False    C    Cherbourg   yes  False     female   female38   \n",
       "2    woman       False  NaN  Southampton   yes   True     female   female26   \n",
       "3    woman       False    C  Southampton   yes  False     female   female35   \n",
       "4      man        True  NaN  Southampton    no   True       male     male35   \n",
       "..     ...         ...  ...          ...   ...    ...        ...        ...   \n",
       "886    man        True  NaN  Southampton    no   True       male     male27   \n",
       "887  woman       False    B  Southampton   yes   True      child   female19   \n",
       "888  woman       False  NaN  Southampton    no  False      child  femalenan   \n",
       "889    man        True    C    Cherbourg   yes   True       male     male26   \n",
       "890    man        True  NaN   Queenstown    no   True       male     male32   \n",
       "\n",
       "    category_3  \n",
       "0           청년  \n",
       "1           중년  \n",
       "2           청년  \n",
       "3           중년  \n",
       "4           중년  \n",
       "..         ...  \n",
       "886         청년  \n",
       "887       미성년자  \n",
       "888         청년  \n",
       "889         청년  \n",
       "890         중년  \n",
       "\n",
       "[891 rows x 18 columns]"
      ],
      "text/html": "<div>\n<style scoped>\n    .dataframe tbody tr th:only-of-type {\n        vertical-align: middle;\n    }\n\n    .dataframe tbody tr th {\n        vertical-align: top;\n    }\n\n    .dataframe thead th {\n        text-align: right;\n    }\n</style>\n<table border=\"1\" class=\"dataframe\">\n  <thead>\n    <tr style=\"text-align: right;\">\n      <th></th>\n      <th>survived</th>\n      <th>pclass</th>\n      <th>sex</th>\n      <th>age</th>\n      <th>sibsp</th>\n      <th>parch</th>\n      <th>fare</th>\n      <th>embarked</th>\n      <th>class</th>\n      <th>who</th>\n      <th>adult_male</th>\n      <th>deck</th>\n      <th>embark_town</th>\n      <th>alive</th>\n      <th>alone</th>\n      <th>category_1</th>\n      <th>category_2</th>\n      <th>category_3</th>\n    </tr>\n  </thead>\n  <tbody>\n    <tr>\n      <th>0</th>\n      <td>0</td>\n      <td>3</td>\n      <td>male</td>\n      <td>22.0</td>\n      <td>1</td>\n      <td>0</td>\n      <td>7.2500</td>\n      <td>S</td>\n      <td>Third</td>\n      <td>man</td>\n      <td>True</td>\n      <td>NaN</td>\n      <td>Southampton</td>\n      <td>no</td>\n      <td>False</td>\n      <td>male</td>\n      <td>male22</td>\n      <td>청년</td>\n    </tr>\n    <tr>\n      <th>1</th>\n      <td>1</td>\n      <td>1</td>\n      <td>female</td>\n      <td>38.0</td>\n      <td>1</td>\n      <td>0</td>\n      <td>71.2833</td>\n      <td>C</td>\n      <td>First</td>\n      <td>woman</td>\n      <td>False</td>\n      <td>C</td>\n      <td>Cherbourg</td>\n      <td>yes</td>\n      <td>False</td>\n      <td>female</td>\n      <td>female38</td>\n      <td>중년</td>\n    </tr>\n    <tr>\n      <th>2</th>\n      <td>1</td>\n      <td>3</td>\n      <td>female</td>\n      <td>26.0</td>\n      <td>0</td>\n      <td>0</td>\n      <td>7.9250</td>\n      <td>S</td>\n      <td>Third</td>\n      <td>woman</td>\n      <td>False</td>\n      <td>NaN</td>\n      <td>Southampton</td>\n      <td>yes</td>\n      <td>True</td>\n      <td>female</td>\n      <td>female26</td>\n      <td>청년</td>\n    </tr>\n    <tr>\n      <th>3</th>\n      <td>1</td>\n      <td>1</td>\n      <td>female</td>\n      <td>35.0</td>\n      <td>1</td>\n      <td>0</td>\n      <td>53.1000</td>\n      <td>S</td>\n      <td>First</td>\n      <td>woman</td>\n      <td>False</td>\n      <td>C</td>\n      <td>Southampton</td>\n      <td>yes</td>\n      <td>False</td>\n      <td>female</td>\n      <td>female35</td>\n      <td>중년</td>\n    </tr>\n    <tr>\n      <th>4</th>\n      <td>0</td>\n      <td>3</td>\n      <td>male</td>\n      <td>35.0</td>\n      <td>0</td>\n      <td>0</td>\n      <td>8.0500</td>\n      <td>S</td>\n      <td>Third</td>\n      <td>man</td>\n      <td>True</td>\n      <td>NaN</td>\n      <td>Southampton</td>\n      <td>no</td>\n      <td>True</td>\n      <td>male</td>\n      <td>male35</td>\n      <td>중년</td>\n    </tr>\n    <tr>\n      <th>...</th>\n      <td>...</td>\n      <td>...</td>\n      <td>...</td>\n      <td>...</td>\n      <td>...</td>\n      <td>...</td>\n      <td>...</td>\n      <td>...</td>\n      <td>...</td>\n      <td>...</td>\n      <td>...</td>\n      <td>...</td>\n      <td>...</td>\n      <td>...</td>\n      <td>...</td>\n      <td>...</td>\n      <td>...</td>\n      <td>...</td>\n    </tr>\n    <tr>\n      <th>886</th>\n      <td>0</td>\n      <td>2</td>\n      <td>male</td>\n      <td>27.0</td>\n      <td>0</td>\n      <td>0</td>\n      <td>13.0000</td>\n      <td>S</td>\n      <td>Second</td>\n      <td>man</td>\n      <td>True</td>\n      <td>NaN</td>\n      <td>Southampton</td>\n      <td>no</td>\n      <td>True</td>\n      <td>male</td>\n      <td>male27</td>\n      <td>청년</td>\n    </tr>\n    <tr>\n      <th>887</th>\n      <td>1</td>\n      <td>1</td>\n      <td>female</td>\n      <td>19.0</td>\n      <td>0</td>\n      <td>0</td>\n      <td>30.0000</td>\n      <td>S</td>\n      <td>First</td>\n      <td>woman</td>\n      <td>False</td>\n      <td>B</td>\n      <td>Southampton</td>\n      <td>yes</td>\n      <td>True</td>\n      <td>child</td>\n      <td>female19</td>\n      <td>미성년자</td>\n    </tr>\n    <tr>\n      <th>888</th>\n      <td>0</td>\n      <td>3</td>\n      <td>female</td>\n      <td>NaN</td>\n      <td>1</td>\n      <td>2</td>\n      <td>23.4500</td>\n      <td>S</td>\n      <td>Third</td>\n      <td>woman</td>\n      <td>False</td>\n      <td>NaN</td>\n      <td>Southampton</td>\n      <td>no</td>\n      <td>False</td>\n      <td>child</td>\n      <td>femalenan</td>\n      <td>청년</td>\n    </tr>\n    <tr>\n      <th>889</th>\n      <td>1</td>\n      <td>1</td>\n      <td>male</td>\n      <td>26.0</td>\n      <td>0</td>\n      <td>0</td>\n      <td>30.0000</td>\n      <td>C</td>\n      <td>First</td>\n      <td>man</td>\n      <td>True</td>\n      <td>C</td>\n      <td>Cherbourg</td>\n      <td>yes</td>\n      <td>True</td>\n      <td>male</td>\n      <td>male26</td>\n      <td>청년</td>\n    </tr>\n    <tr>\n      <th>890</th>\n      <td>0</td>\n      <td>3</td>\n      <td>male</td>\n      <td>32.0</td>\n      <td>0</td>\n      <td>0</td>\n      <td>7.7500</td>\n      <td>Q</td>\n      <td>Third</td>\n      <td>man</td>\n      <td>True</td>\n      <td>NaN</td>\n      <td>Queenstown</td>\n      <td>no</td>\n      <td>True</td>\n      <td>male</td>\n      <td>male32</td>\n      <td>중년</td>\n    </tr>\n  </tbody>\n</table>\n<p>891 rows × 18 columns</p>\n</div>"
     },
     "metadata": {},
     "execution_count": 299
    }
   ],
   "source": [
    "#4.4.8. 타이타닉호의 승객에 대해 나이와 성별에 의한 카테고리 열인 category3 열을 만들어라. category3 카테고리는 다음과 같이 정의된다.\n",
    "#       조건 1. 20살 미만이면 성별에 관계없이 “미성년자”라고 한다.\n",
    "#       조건 2. 20살 이상이면 나이에 따라 “청년”, “중년”, “장년”, “노년”을 구분하고 그 뒤에 성별을 나타내는 “남성”, “여성”을 붙인다.\n",
    "titanic_category_sex=titanic.apply(lambda x : \"남성\" if x.sex==\"male\" else \"여성\", axis=1)\n",
    "titanic"
   ]
  },
  {
   "cell_type": "code",
   "execution_count": 310,
   "metadata": {},
   "outputs": [
    {
     "output_type": "stream",
     "name": "stdout",
     "text": [
      "청년남성\n중년여성\n청년여성\n중년여성\n중년남성\n청년남성\n장년남성\n미성년자남성\n청년여성\n미성년자여성\n미성년자여성\n장년여성\n미성년자남성\n중년남성\n미성년자여성\n장년여성\n미성년자남성\n청년남성\n중년여성\n청년여성\n중년남성\n중년남성\n미성년자여성\n청년남성\n미성년자여성\n중년여성\n청년남성\n미성년자남성\n청년여성\n청년남성\n중년남성\n청년여성\n청년여성\n장년남성\n청년남성\n중년남성\n청년남성\n청년남성\n미성년자여성\n미성년자여성\n중년여성\n청년여성\n청년남성\n미성년자여성\n미성년자여성\n청년남성\n청년남성\n청년여성\n청년남성\n미성년자여성\n미성년자남성\n청년남성\n중년여성\n청년여성\n장년남성\n청년남성\n청년여성\n청년남성\n미성년자여성\n미성년자남성\n청년남성\n중년여성\n중년남성\n미성년자남성\n청년남성\n청년남성\n청년여성\n미성년자남성\n미성년자여성\n청년남성\n중년남성\n미성년자여성\n청년남성\n청년남성\n중년남성\n청년남성\n청년남성\n청년남성\n"
     ]
    },
    {
     "output_type": "error",
     "ename": "TypeError",
     "evalue": "unsupported operand type(s) for +: 'float' and 'str'",
     "traceback": [
      "\u001b[1;31m---------------------------------------------------------------------------\u001b[0m",
      "\u001b[1;31mTypeError\u001b[0m                                 Traceback (most recent call last)",
      "\u001b[1;32m<ipython-input-310-f19701009ca2>\u001b[0m in \u001b[0;36m<module>\u001b[1;34m\u001b[0m\n\u001b[0;32m      1\u001b[0m \u001b[1;32mfor\u001b[0m \u001b[0mi\u001b[0m \u001b[1;32min\u001b[0m \u001b[0mrange\u001b[0m\u001b[1;33m(\u001b[0m\u001b[1;36m891\u001b[0m\u001b[1;33m)\u001b[0m \u001b[1;33m:\u001b[0m\u001b[1;33m\u001b[0m\u001b[1;33m\u001b[0m\u001b[0m\n\u001b[1;32m----> 2\u001b[1;33m     \u001b[0mprint\u001b[0m\u001b[1;33m(\u001b[0m\u001b[0mtitanic_category_4\u001b[0m\u001b[1;33m[\u001b[0m\u001b[0mi\u001b[0m\u001b[1;33m]\u001b[0m \u001b[1;33m+\u001b[0m \u001b[0mtitanic_category_sex\u001b[0m\u001b[1;33m[\u001b[0m\u001b[0mi\u001b[0m\u001b[1;33m]\u001b[0m\u001b[1;33m)\u001b[0m\u001b[1;33m\u001b[0m\u001b[1;33m\u001b[0m\u001b[0m\n\u001b[0m",
      "\u001b[1;31mTypeError\u001b[0m: unsupported operand type(s) for +: 'float' and 'str'"
     ]
    }
   ],
   "source": [
    "for i in range(891) :\n",
    "    print(titanic_category_4[i] + titanic_category_sex[i])"
   ]
  },
  {
   "cell_type": "code",
   "execution_count": 28,
   "metadata": {},
   "outputs": [
    {
     "output_type": "execute_result",
     "data": {
      "text/plain": [
       "      korean  english  math\n",
       "name                       \n",
       "CSH       74       43    41\n",
       "CGE       82       46    38\n",
       "CMJ       44       83    97\n",
       "PSH       55       78    75\n",
       "CJH       99       85    40"
      ],
      "text/html": "<div>\n<style scoped>\n    .dataframe tbody tr th:only-of-type {\n        vertical-align: middle;\n    }\n\n    .dataframe tbody tr th {\n        vertical-align: top;\n    }\n\n    .dataframe thead th {\n        text-align: right;\n    }\n</style>\n<table border=\"1\" class=\"dataframe\">\n  <thead>\n    <tr style=\"text-align: right;\">\n      <th></th>\n      <th>korean</th>\n      <th>english</th>\n      <th>math</th>\n    </tr>\n    <tr>\n      <th>name</th>\n      <th></th>\n      <th></th>\n      <th></th>\n    </tr>\n  </thead>\n  <tbody>\n    <tr>\n      <th>CSH</th>\n      <td>74</td>\n      <td>43</td>\n      <td>41</td>\n    </tr>\n    <tr>\n      <th>CGE</th>\n      <td>82</td>\n      <td>46</td>\n      <td>38</td>\n    </tr>\n    <tr>\n      <th>CMJ</th>\n      <td>44</td>\n      <td>83</td>\n      <td>97</td>\n    </tr>\n    <tr>\n      <th>PSH</th>\n      <td>55</td>\n      <td>78</td>\n      <td>75</td>\n    </tr>\n    <tr>\n      <th>CJH</th>\n      <td>99</td>\n      <td>85</td>\n      <td>40</td>\n    </tr>\n  </tbody>\n</table>\n</div>"
     },
     "metadata": {},
     "execution_count": 28
    }
   ],
   "source": [
    "#4.5.1. 5명의 학생의 국어, 영어, 수학 점수를 나타내는 데이터프레임을 다음과 같이 만든다.\n",
    "#       학생 이름을 나타내는 열을 포함시키지 않고 데이터프레임 df_score1 을 생성한 후, \n",
    "#       df_score1.index 속성에 학생 이름을 나타내는 열을 지정하여 인덱스를 지정한다. \n",
    "#       reset_index 명령으로 이 인덱스 열을 명령으로 일반 데이터열로 바꾸여 데이터프레임 df_score2을 만든다.\n",
    "#       학생 이름을 나타내는 열이 일반 데이터 열을 포함하는 데이터프레임 df_score2에 set_index 명령을 적용하여 다시 학생 이름을 나타내는 열을 인덱스로 변경한다.\n",
    "np.random.seed(2021)\n",
    "df_score = pd.DataFrame({\"name\":[\"CSH\",\"CGE\",\"CMJ\",\"PSH\",\"CJH\"],\n",
    "                        \"korean\":np.random.uniform(35,100,5).astype(int),\n",
    "                        \"english\":np.random.uniform(35,100,5).astype(int),\n",
    "                        \"math\":np.random.uniform(35,100,5).astype(int)})\n",
    "df_score.set_index(\"name\")"
   ]
  },
  {
   "cell_type": "code",
   "execution_count": 171,
   "metadata": {},
   "outputs": [
    {
     "output_type": "execute_result",
     "data": {
      "text/plain": [
       "  name  korean  english  math\n",
       "0  CSH      74       43    41\n",
       "1  CGE      82       46    38\n",
       "2  CMJ      44       83    97\n",
       "3  PSH      55       78    75\n",
       "4  CJH      99       85    40"
      ],
      "text/html": "<div>\n<style scoped>\n    .dataframe tbody tr th:only-of-type {\n        vertical-align: middle;\n    }\n\n    .dataframe tbody tr th {\n        vertical-align: top;\n    }\n\n    .dataframe thead th {\n        text-align: right;\n    }\n</style>\n<table border=\"1\" class=\"dataframe\">\n  <thead>\n    <tr style=\"text-align: right;\">\n      <th></th>\n      <th>name</th>\n      <th>korean</th>\n      <th>english</th>\n      <th>math</th>\n    </tr>\n  </thead>\n  <tbody>\n    <tr>\n      <th>0</th>\n      <td>CSH</td>\n      <td>74</td>\n      <td>43</td>\n      <td>41</td>\n    </tr>\n    <tr>\n      <th>1</th>\n      <td>CGE</td>\n      <td>82</td>\n      <td>46</td>\n      <td>38</td>\n    </tr>\n    <tr>\n      <th>2</th>\n      <td>CMJ</td>\n      <td>44</td>\n      <td>83</td>\n      <td>97</td>\n    </tr>\n    <tr>\n      <th>3</th>\n      <td>PSH</td>\n      <td>55</td>\n      <td>78</td>\n      <td>75</td>\n    </tr>\n    <tr>\n      <th>4</th>\n      <td>CJH</td>\n      <td>99</td>\n      <td>85</td>\n      <td>40</td>\n    </tr>\n  </tbody>\n</table>\n</div>"
     },
     "metadata": {},
     "execution_count": 171
    }
   ],
   "source": [
    "df_score2 = df_score.set_index(\"name\").reset_index()\n",
    "df_score2"
   ]
  },
  {
   "cell_type": "code",
   "execution_count": 172,
   "metadata": {},
   "outputs": [
    {
     "output_type": "execute_result",
     "data": {
      "text/plain": [
       "      korean  english  math\n",
       "name                       \n",
       "CSH       74       43    41\n",
       "CGE       82       46    38\n",
       "CMJ       44       83    97\n",
       "PSH       55       78    75\n",
       "CJH       99       85    40"
      ],
      "text/html": "<div>\n<style scoped>\n    .dataframe tbody tr th:only-of-type {\n        vertical-align: middle;\n    }\n\n    .dataframe tbody tr th {\n        vertical-align: top;\n    }\n\n    .dataframe thead th {\n        text-align: right;\n    }\n</style>\n<table border=\"1\" class=\"dataframe\">\n  <thead>\n    <tr style=\"text-align: right;\">\n      <th></th>\n      <th>korean</th>\n      <th>english</th>\n      <th>math</th>\n    </tr>\n    <tr>\n      <th>name</th>\n      <th></th>\n      <th></th>\n      <th></th>\n    </tr>\n  </thead>\n  <tbody>\n    <tr>\n      <th>CSH</th>\n      <td>74</td>\n      <td>43</td>\n      <td>41</td>\n    </tr>\n    <tr>\n      <th>CGE</th>\n      <td>82</td>\n      <td>46</td>\n      <td>38</td>\n    </tr>\n    <tr>\n      <th>CMJ</th>\n      <td>44</td>\n      <td>83</td>\n      <td>97</td>\n    </tr>\n    <tr>\n      <th>PSH</th>\n      <td>55</td>\n      <td>78</td>\n      <td>75</td>\n    </tr>\n    <tr>\n      <th>CJH</th>\n      <td>99</td>\n      <td>85</td>\n      <td>40</td>\n    </tr>\n  </tbody>\n</table>\n</div>"
     },
     "metadata": {},
     "execution_count": 172
    }
   ],
   "source": [
    "df_score2.set_index(\"name\")"
   ]
  }
 ]
}