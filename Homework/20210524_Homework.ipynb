{
 "metadata": {
  "language_info": {
   "codemirror_mode": {
    "name": "ipython",
    "version": 3
   },
   "file_extension": ".py",
   "mimetype": "text/x-python",
   "name": "python",
   "nbconvert_exporter": "python",
   "pygments_lexer": "ipython3",
   "version": "3.9.4"
  },
  "orig_nbformat": 2,
  "kernelspec": {
   "name": "python394jvsc74a57bd0970b6f8752eefbcba9fc27b36d3deea80bcc92bf9cb37d4108e55fcbb51a21e9",
   "display_name": "Python 3.9.4 64-bit ('PythonProject': conda)"
  }
 },
 "nbformat": 4,
 "nbformat_minor": 2,
 "cells": [
  {
   "cell_type": "code",
   "execution_count": 8,
   "metadata": {},
   "outputs": [
    {
     "output_type": "stream",
     "name": "stdout",
     "text": [
      "1900년은 윤년이 아닙니다.\n"
     ]
    }
   ],
   "source": [
    "#2021.05.24 MON\n",
    "#Hankyeong\n",
    "\n",
    "#01. 조건문\n",
    "#(1) 연도를 입력으로 받아 윤년인지 아닌지를 출력하는 프로그램을 작성하시오. 윤년은 연도가 4의 배수이면서, 100의 배수가 아닐 때 또는 400의 배수일 때이다.\n",
    "#    예를들어, 2012년은 4의 배수라서 윤년이지만, 1900년은 4의 배수이지만, 100의 배수이기 때문에 윤년이 아니다. 하지만, 2000년은 400의 배수이기 때문에 윤년이다.)\n",
    "input_value = int(input(\"only int: \"))\n",
    "if input_value%4==0 and input_value%100!=0    : \n",
    "       print(f'{input_value}년은 윤년입니다.')\n",
    "elif input_value%100!=0                       :\n",
    "       print(f'{input_value}년은 윤년이 아닙니다.') \n",
    "else                                          :\n",
    "       print(f'{input_value}년은 윤년이 아닙니다.')   "
   ]
  },
  {
   "cell_type": "code",
   "execution_count": 10,
   "metadata": {},
   "outputs": [
    {
     "output_type": "stream",
     "name": "stdout",
     "text": [
      "만나이는 820세 입니다.\n"
     ]
    }
   ],
   "source": [
    "#(2) 본인의 생일을 1998 12 15 과 같이 년 월 일로 입력받아, 오늘 날짜의 만 나이를 구하는 프로그램을 작성하시오.\n",
    "from datetime import date\n",
    "today=date.today()\n",
    "input_value = input(\"only int: \").split()\n",
    "today_md=today.month*100+today.day\n",
    "birth_year=int(input_value[0])\n",
    "birth_month=int(input_value[1])\n",
    "birth_day=int(input_value[2])\n",
    "birth_md=birth_month*100+birth_day\n",
    "if birth_md >= today_md :\n",
    "    age = today.year - birth_year -1\n",
    "    print(f'만나이는 {age}세 입니다.')\n",
    "else                    :\n",
    "    age = today.year - birth_year  \n",
    "    print(f'만나이는 {age}세 입니다.') "
   ]
  },
  {
   "cell_type": "code",
   "execution_count": 13,
   "metadata": {
    "tags": []
   },
   "outputs": [
    {
     "output_type": "stream",
     "name": "stdout",
     "text": [
      "200 375 425\n"
     ]
    }
   ],
   "source": [
    "#(3) 세 자연수 a, b, c 가 피타고라스 정리 a^2 + b^2 = c^2 를 만족하면 피타고라스 수라고 부른다. (여기서 a < b < c 이고 a + b > c)\n",
    "#    예를 들면, 32 + 42 = 9 + 16 = 25 = 52 이므로 3, 4, 5는 피타고라스 수이다.  \n",
    "#     a + b + c = 1000 인 피타고라스 수를 구하시오. (답은 한가지 뿐이다.)\n",
    "for a in range(1,1001) :\n",
    "    for b in range(a+1,1001) :\n",
    "        c= 1000 - (a+b)\n",
    "        if c > (a+b) :\n",
    "            continue\n",
    "        if c**2 == a**2+b**2 :\n",
    "            print(a,b,c)\n",
    "            break"
   ]
  },
  {
   "cell_type": "code",
   "execution_count": 12,
   "metadata": {},
   "outputs": [
    {
     "output_type": "stream",
     "name": "stdout",
     "text": [
      "200, 375, 425\n"
     ]
    }
   ],
   "source": [
    "for a in range(1, 333):\n",
    "    for b in range(a+1, 500):\n",
    "        c = 1000 - a - b\n",
    "        if c > (a + b):\n",
    "            continue\n",
    "        if c*c == a*a + b*b:\n",
    "            print(f'{a}, {b}, {c}')\n",
    "            break"
   ]
  },
  {
   "cell_type": "code",
   "execution_count": 12,
   "metadata": {},
   "outputs": [],
   "source": [
    "#02. 반복문\n",
    "#(1) (별 그리기) 5이상 9 이하의 홀수를 입력받아 다이아몬드 형태의 별을 출력하는 프로그램을 작성하시오.\n"
   ]
  },
  {
   "cell_type": "code",
   "execution_count": null,
   "metadata": {},
   "outputs": [],
   "source": [
    "#(2) 디지털 시계에 하루동안(00:00~23:59) 3이 표시되는 시간을 초로 환산하면 총 몇 초(second) 일까요?\n",
    "#    (디지털 시계는 하루동안 다음과 같이 시:분(00:00~23:59)으로 표시됨.)\n",
    "# \t 00:00 (60초간 표시)\t\n",
    "#    00:01 \t\t\n",
    "#      …\t\n",
    "# \t 23:59\n"
   ]
  },
  {
   "cell_type": "code",
   "execution_count": null,
   "metadata": {},
   "outputs": [],
   "source": [
    "#(3) 1~1000에서 각 숫자의 개수를 구하시오.\n",
    "#    예로 10 ~ 15 까지의 각 숫자의 개수를 구해보자.\t\t\n",
    "#    10 = 1, 0\n",
    "# \t 11 = 1, 1\t\n",
    "# \t 12 = 1, 2\t\n",
    "# \t 13 = 1, 3\t\n",
    "# \t 14 = 1, 4\n",
    "# \t 15 = 1, 5\n",
    "#    그러므로 이 경우의 답은 0:1개, 1:7개, 2:1개, 3:1개, 4:1개, 5:1개\n"
   ]
  },
  {
   "cell_type": "code",
   "execution_count": 1,
   "metadata": {},
   "outputs": [
    {
     "output_type": "stream",
     "name": "stdout",
     "text": [
      "6\n"
     ]
    }
   ],
   "source": [
    "#(4) 자기 자신을 제외한 모든 양의 약수들의 합이 자기 자신이 되는 자연수를 완전수라고 한다.\n",
    "#    예를 들면, 6과 28은 완전수이다.\n",
    "# \t 6=1+2+3 *1,2,3은 각각 6의 약수\n",
    "# \t 28=1+2+4+7+14 *1,2,4,7,14는 각각 28의 약수.\n",
    "#    입력으로 자연수 N을 받고, 출력으로 N 이하의 모든 완전수를 출력하는 코드를 작성하시오.\n",
    "input_value = int(input(\"type natural number over 2 :\"))\n",
    "for num in range(2,input_value+1) :\n",
    "    sum=0\n",
    "    for i in range(1,num)         :\n",
    "        if num%i==0               :\n",
    "            sum+= i    \n",
    "    if sum == num                 :\n",
    "        print(num)"
   ]
  },
  {
   "cell_type": "code",
   "execution_count": null,
   "metadata": {},
   "outputs": [],
   "source": [
    "#(5) 1부터 10까지 자연수를 각각 제곱해 더하면 다음과 같다. (제곱의 합) \n",
    "#    1^2 + 2^2 + ... + 10^2 = 385 \n",
    "#    1부터 10을 먼저 더한 다음에 그 결과를 제곱하면 다음과 같다. (합의 제곱)\t\t\n",
    "#    (1 + 2 + ... + 10)^2 = 552 = 3025\n",
    "#    따라서 1부터 10까지 자연수에 대해 \"합의 제곱\"과 \"제곱의 합\"의 차이는 3025 - 385 = 2640 이 된다.\n",
    "#    입력으로 자연수 N을 받아, 1부터 N까지 자연수에 대해 \"합의 제곱\"과 \"제곱의 합\"의 차이는 얼마인가?\n"
   ]
  }
 ]
}