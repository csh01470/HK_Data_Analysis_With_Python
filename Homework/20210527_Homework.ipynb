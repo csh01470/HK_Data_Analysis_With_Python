{
 "metadata": {
  "language_info": {
   "codemirror_mode": {
    "name": "ipython",
    "version": 3
   },
   "file_extension": ".py",
   "mimetype": "text/x-python",
   "name": "python",
   "nbconvert_exporter": "python",
   "pygments_lexer": "ipython3",
   "version": "3.9.4"
  },
  "orig_nbformat": 2,
  "kernelspec": {
   "name": "python394jvsc74a57bd0970b6f8752eefbcba9fc27b36d3deea80bcc92bf9cb37d4108e55fcbb51a21e9",
   "display_name": "Python 3.9.4 64-bit ('PythonProject': conda)"
  }
 },
 "nbformat": 4,
 "nbformat_minor": 2,
 "cells": [
  {
   "cell_type": "code",
   "execution_count": 3,
   "metadata": {
    "tags": []
   },
   "outputs": [
    {
     "output_type": "stream",
     "name": "stdout",
     "text": [
      "[1024, 4096, 8192, 16384, 32768, 65536, 131072, 262144, 524288, 1048576, 2097152, 4194304, 8388608, 16777216, 33554432, 67108864, 134217728, 268435456, 1073741824]\n"
     ]
    }
   ],
   "source": [
    "#2021.05.27. TUR\n",
    "#Hankyeong\n",
    "\n",
    "#01. \n",
    "#(1) 표준 입력으로 정수 두 개가 입력됩니다. (첫 번째 입력 값의 범위는 1~20, 두 번째 입력 값의 범위는 10~30이며 첫 번째 입력 값은 두 번째 입력 값보다 항상 작습니다.) \n",
    "#    첫 번째 정수부터 두 번째 정수까지를 지수로 하는 2의 거듭제곱 리스트를 출력하는 프로그램을 만드세요. (input에서 안내 문자열은 출력하지 않아야 합니다.) \n",
    "#    단, 리스트의 두 번째 요소와 뒤에서 두 번째 요소는 삭제한 뒤 출력하세요. 출력 결과는 리스트 형태라야 합니다.\n",
    "#    by CD22\n",
    "int_1,int_2 = list(map(int,input(\"Type 2 integer by space\").split()))\n",
    "if int_1 < int_2 and 1 <= int_1 <= 20 and 10 <= int_2 <= 30           :\n",
    "    print([2**i for i in range(int_1,int_2+1) \\\n",
    "                    if i != int_1+1 and i != int_2-1])\n",
    "else                                                                  :\n",
    "    print(\"ERROR\")"
   ]
  },
  {
   "cell_type": "code",
   "execution_count": 4,
   "metadata": {},
   "outputs": [
    {
     "output_type": "stream",
     "name": "stdout",
     "text": [
      "12000\n"
     ]
    }
   ],
   "source": [
    "#(2) 표준 입력으로 가격(정수)과 쿠폰 이름이 각 줄에 입력됩니다. Cash3000 쿠폰은 3,000원, Cash5000 쿠폰은 5,000원을 할인합니다. \n",
    "#    쿠폰에 따라 할인된 가격을 출력하는 프로그램을 만드세요. (input에서 안내 문자열은 출력하지 않아야 합니다). \n",
    "#    by CD13\n",
    "price = int(input(\"type price(integer): \"))\n",
    "coupon = input(\"type coupon name: \")\n",
    "if coupon==\"Cash3000\" :\n",
    "    discount=3000    \n",
    "if coupon==\"Cash5000\" :\n",
    "    discount=5000\n",
    "discount_price = price - discount\n",
    "print(discount_price)"
   ]
  },
  {
   "cell_type": "code",
   "execution_count": 5,
   "metadata": {},
   "outputs": [
    {
     "output_type": "stream",
     "name": "stdout",
     "text": [
      "합격\n"
     ]
    }
   ],
   "source": [
    "#(3) 표준 입력으로 국어, 영어, 수학, 과학 점수가 입력됩니다. 여기서 네 과목의 평균 점수가 80점 이상일 때 합격이라고 정했습니다. \n",
    "#    평균 점수에 따라 '합격', '불합격'을 출력하는 프로그램을 만드세요. (input에서 안내 문자열은 출력하지 않아야 합니다.) \n",
    "#    단, 점수는 0점부터 100점까지만 입력받을 수 있으며 범위를 벗어났다면 '잘못된 점수'를 출력하고 합격, 불합격 여부는 출력하지 않아야 합니다. \n",
    "#    by CD14\n",
    "korean, english, math, science = [int(score) for score in input().split()]\n",
    "score_list = [korean, english, math, science]\n",
    "for score in score_list                    :\n",
    "    if score >= 101 and score < 0          :\n",
    "        print(\"ERROR\")\n",
    "        break\n",
    "else                                       :\n",
    "    mean = sum(score_list)/len(score_list)\n",
    "    if mean >= 80                          :\n",
    "            print(\"합격\")\n",
    "    else                                   :\n",
    "            print(\"불합격\")   "
   ]
  },
  {
   "cell_type": "code",
   "execution_count": 8,
   "metadata": {},
   "outputs": [
    {
     "output_type": "stream",
     "name": "stdout",
     "text": [
      "7950\n"
     ]
    }
   ],
   "source": [
    "#(4) 표준 입력으로 나이(만 나이)가 입력됩니다. (입력 값은 7 이상 입력됨) \n",
    "#    교통카드 시스템에서 시내버스 요금은 다음과 같으며 각 나이에 맞게 요금을 차감한 뒤 잔액이 출력되게 만드세요. (if, elif 사용) 현재 교통카드에는 9,000원이 들어있습니다.\n",
    "#    어린이(초등학생, 만 7세 이상 12세 이하): 650원\n",
    "#    청소년(중∙고등학생, 만 13세 이상 18세 이하): 1,050원\n",
    "#    어른(일반, 만 19세 이상): 1,250원\n",
    "#    by CD15\n",
    "age = int(input(\"Type your age as Integer: \"))\n",
    "balance = 9000\n",
    "if   age >= 19      :\n",
    "    balance -= 1250\n",
    "elif age >= 13      :\n",
    "    balance -= 1050\n",
    "elif age >= 7       :\n",
    "    balance -= 650\n",
    "else                :\n",
    "    balance -= 0\n",
    "print(balance)"
   ]
  },
  {
   "cell_type": "code",
   "execution_count": 3,
   "metadata": {},
   "outputs": [
    {
     "output_type": "stream",
     "name": "stdout",
     "text": [
      " 50 * 1 = 50\n 50 * 2 = 100\n 50 * 3 = 150\n 50 * 4 = 200\n 50 * 5 = 250\n 50 * 6 = 300\n 50 * 7 = 350\n 50 * 8 = 400\n 50 * 9 = 450\n"
     ]
    }
   ],
   "source": [
    "#(5) 표준 입력으로 정수가 입력됩니다. 입력된 정수의 구구단을 출력하는 프로그램을 만드세요. (input에서 안내 문자열은 출력하지 않아야 합니다.)\n",
    "#    출력 형식은 숫자 * 숫자 = 숫자처럼 만들고 숫자와 *, = 사이는 공백을 한 칸 띄웁니다.\n",
    "#    by CD16\n",
    "input_int = int(input(\"Type integer: \"))\n",
    "for i in range(1,9+1) :\n",
    "    print(f\" {input_int} * {i} = {input_int*i}\")"
   ]
  },
  {
   "cell_type": "code",
   "execution_count": 8,
   "metadata": {},
   "outputs": [
    {
     "output_type": "stream",
     "name": "stdout",
     "text": [
      "8650\n7300\n5950\n4600\n3250\n1900\n550\n"
     ]
    }
   ],
   "source": [
    "#(6) 표준 입력으로 금액(정수)이 입력됩니다. 1회당 요금은 1,350원이고, 교통카드를 사용했을 때마다의 잔액을 각 줄에 출력하는 프로그램을 만드세요.\n",
    "#    (input에서 안내 문자열은 출력하지 않아야 합니다.) 단, 최초 금액은 출력하지 않아야 합니다. 그리고 잔액은 음수가 될 수 없으며 잔액이 부족하면 출력을 끝냅니다.\n",
    "#    by CD17\n",
    "input_price = int(input(\"Type your money: \"))\n",
    "while True :\n",
    "    if input_price <= 1350 :\n",
    "        break\n",
    "    else                   :\n",
    "        input_price -= 1350\n",
    "        print(input_price)"
   ]
  },
  {
   "source": [
    "#(7) 표준 입력으로 정수 두 개가 입력됩니다. (첫 번째 입력 값의 범위는 1~200, 두 번째 입력 값의 범위는 10~200이며 첫 번째 입력 값은 두 번째 입력 값보다 항상 작습니다.) \n",
    "#    다음 소스 코드를 완성하여 첫 번째 정수와 두 번째 정수 사이의 숫자 중 3으로 끝나지 않는 숫자가 출력되게 만드세요. \n",
    "#    정답에 코드를 작성할 때는 while True:에 맞춰서 들여쓰기를 해주세요.\n",
    "#    by CD18\n",
    "start_num, stop_num = [int(num) for num in input(\"Type 2 Integer by space: \").split()]\n",
    "result= \"\"\n",
    "if 1 <= start_num <= 200 and 10 <= stop_num <= 200         :   \n",
    "    result = [i for i in range(start_num,stop_num+1) \\\n",
    "                    if i%10 != 3]\n",
    "else                                                       :\n",
    "    print(\"ERROR\")\n",
    "if type(result) is list                                    :\n",
    "    print(result)"
   ],
   "cell_type": "code",
   "metadata": {},
   "execution_count": 1,
   "outputs": [
    {
     "output_type": "stream",
     "name": "stdout",
     "text": [
      "[10, 11, 12, 14, 15, 16, 17, 18, 19, 20, 21, 22, 24, 25, 26, 27, 28, 29, 30, 31, 32, 34, 35, 36, 37, 38, 39, 40, 41, 42, 44, 45, 46, 47, 48, 49, 50, 51, 52, 54, 55, 56, 57, 58, 59, 60, 61, 62, 64, 65, 66, 67, 68, 69, 70, 71, 72, 74, 75, 76, 77, 78, 79, 80, 81, 82, 84, 85, 86, 87, 88, 89, 90, 91, 92, 94, 95, 96, 97, 98, 99, 100, 101, 102, 104, 105, 106, 107, 108, 109, 110, 111, 112, 114, 115, 116, 117, 118, 119, 120, 121, 122, 124, 125, 126, 127, 128, 129, 130, 131, 132, 134, 135, 136, 137, 138, 139, 140, 141, 142, 144, 145, 146, 147, 148, 149, 150, 151, 152, 154, 155, 156, 157, 158, 159, 160, 161, 162, 164, 165, 166, 167, 168, 169, 170, 171, 172, 174, 175, 176, 177, 178, 179, 180, 181, 182, 184, 185, 186, 187, 188, 189, 190, 191, 192, 194, 195, 196, 197, 198, 199, 200]\n"
     ]
    }
   ]
  }
 ]
}