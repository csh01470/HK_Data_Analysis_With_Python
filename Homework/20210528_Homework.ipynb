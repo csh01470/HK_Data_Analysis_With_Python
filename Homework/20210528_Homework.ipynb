{
 "metadata": {
  "language_info": {
   "codemirror_mode": {
    "name": "ipython",
    "version": 3
   },
   "file_extension": ".py",
   "mimetype": "text/x-python",
   "name": "python",
   "nbconvert_exporter": "python",
   "pygments_lexer": "ipython3",
   "version": "3.9.4"
  },
  "orig_nbformat": 2,
  "kernelspec": {
   "name": "python394jvsc74a57bd0970b6f8752eefbcba9fc27b36d3deea80bcc92bf9cb37d4108e55fcbb51a21e9",
   "display_name": "Python 3.9.4 64-bit ('PythonProject': conda)"
  }
 },
 "nbformat": 4,
 "nbformat_minor": 2,
 "cells": [
  {
   "source": [
    "#2021.05.28. FRI\n",
    "#Hankyeong\n",
    "\n",
    "#01. 표준 입력으로 2차원 리스트의 가로(col)와 세로(row)가 입력되고 그 다음 줄부터 리스트의 요소로 들어갈 문자가 입력됩니다. \n",
    "#    이때 2차원 리스트 안에서 *는 지뢰이고 .은 지뢰가 아닙니다. 지뢰가 아닌 요소에는 인접한 지뢰의 개수를 출력하는 프로그램을 만드세요.\n",
    "#    여러 줄을 입력 받으려면 다음과 같이 for 반복문에서 input을 호출한 뒤 append로 각 줄을 추가하면 됩니다(list 안에 문자열을 넣으면 문자열이 문자 리스트로 변환됩니다).\n",
    "#step1. 지뢰를 임의로 배치하는 사용자정의함수 mine_field() 정의하기.\n",
    "def mine_field(row_num,col_num)            :\n",
    "    import random\n",
    "    random.seed(2021)\n",
    "    matrix=[]\n",
    "    for col in range(0,col_num)            :\n",
    "        matrix_row=[]\n",
    "        for row in range(0,row_num)        :\n",
    "            if random.random() < 0.7       :\n",
    "                matrix_row.append(0)\n",
    "            else                           :\n",
    "                matrix_row.append(1)\n",
    "        matrix.append(matrix_row)\n",
    "    return matrix"
   ],
   "cell_type": "code",
   "metadata": {},
   "execution_count": 4,
   "outputs": []
  },
  {
   "source": [
    "mine_field(8,8)"
   ],
   "cell_type": "code",
   "metadata": {},
   "execution_count": 5,
   "outputs": [
    {
     "output_type": "execute_result",
     "data": {
      "text/plain": [
       "[[1, 1, 0, 0, 0, 1, 0, 0],\n",
       " [0, 0, 1, 0, 1, 1, 0, 0],\n",
       " [0, 1, 0, 0, 1, 0, 1, 1],\n",
       " [0, 0, 0, 0, 0, 0, 1, 0],\n",
       " [0, 0, 0, 0, 0, 0, 0, 1],\n",
       " [0, 0, 1, 0, 0, 0, 1, 0],\n",
       " [0, 0, 0, 0, 0, 0, 1, 0],\n",
       " [0, 0, 0, 0, 0, 1, 0, 0]]"
      ]
     },
     "metadata": {},
     "execution_count": 5
    }
   ]
  },
  {
   "source": [
    "#step2. mine_field()에 패딩 처리하는 padding_mine_field() 정의하기.\n",
    "def padding_mine_field(row_num,col_num) :\n",
    "    import random\n",
    "    random.seed(2021)\n",
    "    matrix=[]\n",
    "    zero_row=[]\n",
    "    for row in range(row_num+2)           :\n",
    "        zero_row.append(0)\n",
    "\n",
    "    for col in range(col_num+1)           :\n",
    "        matrix_row=[]\n",
    "        if col == 0                       :\n",
    "            matrix.append(zero_row)\n",
    "        if col == (col_num)               :\n",
    "            matrix.append(zero_row)\n",
    "        else                              :\n",
    "            for row in range(row_num+1)   :\n",
    "                if row == 0               :\n",
    "                    matrix_row.append(0)\n",
    "                if row == (row_num)   :\n",
    "                    matrix_row.append(0)\n",
    "                else                      :\n",
    "                    if random.random() < 0.7       :\n",
    "                        matrix_row.append(0)\n",
    "                    else                           :\n",
    "                        matrix_row.append(1)\n",
    "            matrix.append(matrix_row)\n",
    "    return matrix"
   ],
   "cell_type": "code",
   "metadata": {},
   "execution_count": 7,
   "outputs": []
  },
  {
   "source": [
    "padding_mine_field(8,8)"
   ],
   "cell_type": "code",
   "metadata": {},
   "execution_count": 8,
   "outputs": [
    {
     "output_type": "execute_result",
     "data": {
      "text/plain": [
       "[[0, 0, 0, 0, 0, 0, 0, 0, 0, 0],\n",
       " [0, 1, 1, 0, 0, 0, 1, 0, 0, 0],\n",
       " [0, 0, 0, 1, 0, 1, 1, 0, 0, 0],\n",
       " [0, 0, 1, 0, 0, 1, 0, 1, 1, 0],\n",
       " [0, 0, 0, 0, 0, 0, 0, 1, 0, 0],\n",
       " [0, 0, 0, 0, 0, 0, 0, 0, 1, 0],\n",
       " [0, 0, 0, 1, 0, 0, 0, 1, 0, 0],\n",
       " [0, 0, 0, 0, 0, 0, 0, 1, 0, 0],\n",
       " [0, 0, 0, 0, 0, 0, 1, 0, 0, 0],\n",
       " [0, 0, 0, 0, 0, 0, 0, 0, 0, 0]]"
      ]
     },
     "metadata": {},
     "execution_count": 8
    }
   ]
  },
  {
   "cell_type": "code",
   "execution_count": null,
   "metadata": {},
   "outputs": [],
   "source": [
    "#미완성"
   ]
  }
 ]
}