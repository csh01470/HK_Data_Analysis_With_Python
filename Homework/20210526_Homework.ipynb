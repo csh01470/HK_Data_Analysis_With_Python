{
 "metadata": {
  "language_info": {
   "codemirror_mode": {
    "name": "ipython",
    "version": 3
   },
   "file_extension": ".py",
   "mimetype": "text/x-python",
   "name": "python",
   "nbconvert_exporter": "python",
   "pygments_lexer": "ipython3",
   "version": "3.9.4"
  },
  "orig_nbformat": 2,
  "kernelspec": {
   "name": "python394jvsc74a57bd0970b6f8752eefbcba9fc27b36d3deea80bcc92bf9cb37d4108e55fcbb51a21e9",
   "display_name": "Python 3.9.4 64-bit ('PythonProject': conda)"
  }
 },
 "nbformat": 4,
 "nbformat_minor": 2,
 "cells": [
  {
   "cell_type": "code",
   "execution_count": 78,
   "metadata": {},
   "outputs": [
    {
     "output_type": "execute_result",
     "data": {
      "text/plain": [
       "['D',\n",
       " 'E',\n",
       " 'F',\n",
       " 'G',\n",
       " 'H',\n",
       " 'I',\n",
       " 'J',\n",
       " 'K',\n",
       " 'L',\n",
       " 'M',\n",
       " 'N',\n",
       " 'O',\n",
       " 'P',\n",
       " 'Q',\n",
       " 'R',\n",
       " 'S',\n",
       " 'T',\n",
       " 'U',\n",
       " 'V',\n",
       " 'W',\n",
       " 'X',\n",
       " 'Y',\n",
       " 'Z',\n",
       " 'A',\n",
       " 'B',\n",
       " 'C']"
      ]
     },
     "metadata": {},
     "execution_count": 78
    }
   ],
   "source": [
    "#2021.05.26. WED\n",
    "#Hankyeong\n",
    "\n",
    "#01. String 구조 문제\n",
    "#(1) 시저 암호(Caesar cipher)는 고대 로마의 황제 줄리어스 시저가 만들어 낸 암호인데,\n",
    "#    알파벳 A를 입력했을 때, 그 알파벳의 n개 뒤에 오는 알파벳이 출력되는 것이다.\n",
    "#    예를 들어 바꾸려는 단어가 \"CAT\"이고, n을 5로 지정했을 때 \"HFY\"가 되는 것이다.\n",
    "#    어떠한 암호를 만들 문장과 n을 입력했을 때 암호를 만들어 출력하는 프로그램을 만드시오.\n",
    "str, n = input(\"Type a String & Integer by space: \").split()\n",
    "def caesar_cipher (str,n) :\n",
    "    str = list(str.upper())\n",
    "    n = int(n)\n",
    "    result_list=list()\n",
    "    for c in str          :\n",
    "        if ord(c)+n <= ord(\"Z\") :\n",
    "            result_list.append(chr(ord(c)+n))\n",
    "        if ord(c)+n > ord(\"Z\")  :\n",
    "            result_list.append(chr(ord(c)+n-26))\n",
    "    return result_list\n",
    "caesar_cipher(str,n)"
   ]
  },
  {
   "cell_type": "code",
   "execution_count": 77,
   "metadata": {},
   "outputs": [
    {
     "output_type": "execute_result",
     "data": {
      "text/plain": [
       "4"
      ]
     },
     "metadata": {},
     "execution_count": 77
    }
   ],
   "source": [
    "#02. 자료 구조형 문제\n",
    "#(1) 표준 입력으로 문자열이 입력됩니다. 입력된 문자열에서 'the'의 개수를 출력하는 프로그램을 만드세요. (input에서 안내 문자열은 출력하지 않아야 합니다.) \n",
    "#    단, 모든 문자가 소문자인 'the'만 찾으면 되며 'them', 'there', 'their' 등은 포함하지 않아야 합니다.\n",
    "input_value = input(\"Type Alphabet only: \").split()\n",
    "input_value.count(\"the\")"
   ]
  },
  {
   "cell_type": "code",
   "execution_count": 92,
   "metadata": {},
   "outputs": [
    {
     "output_type": "stream",
     "name": "stdout",
     "text": [
      "1,304,000\n  367,500\n  250,000\n  158,000\n  128,500\n   83,000\n   59,200\n   51,900\n"
     ]
    }
   ],
   "source": [
    "#(2) 표준 입력으로 물품 가격 여러 개가 문자열 한 줄로 입력되고, 각 가격은 ;(세미콜론)으로 구분되어 있습니다. \n",
    "#    입력된 가격을 높은 가격순으로 출력하는 프로그램을 만드세요.(input에서 안내 문자열은 출력하지 않아야 합니다.) \n",
    "#    이때 가격은 길이를 9로 만든 뒤 오른쪽으로 정렬하고 천단위로 ,(콤마)를 넣으세요.\n",
    "input_value = list(map(int,input(\"Type only Integer: \").split(\";\")))\n",
    "input_value.sort(reverse=True)\n",
    "for i in input_value :\n",
    "    print(f'{i:>9,}')"
   ]
  },
  {
   "cell_type": "code",
   "execution_count": 112,
   "metadata": {},
   "outputs": [
    {
     "output_type": "stream",
     "name": "stdout",
     "text": [
      "{'health': 575.6, 'health_regen': 1.7, 'mana': 338.8, 'mana_regen': 1.63}\n"
     ]
    }
   ],
   "source": [
    "#(3) 표준 입력으로 문자열 여러 개와 숫자(실수) 여러 개가 두 줄로 입력됩니다. \n",
    "#    입력된 첫 번째 줄은 키, 두 번째 줄은 값으로 하여 딕셔너리를 생성한 뒤 딕셔너리를 출력하는 프로그램을 만드세요. \n",
    "#    (input().split()의 결과를 변수 한 개에 저장하면 리스트로 저장됩니다.)\n",
    "input_key = input(\"Type Key: \").split()\n",
    "input_value = list(map(float, input(\"Type Value as numeric: \").split()))\n",
    "input_dict = dict(zip(input_key,input_value))\n",
    "print(input_dict)"
   ]
  },
  {
   "cell_type": "code",
   "execution_count": 3,
   "metadata": {},
   "outputs": [
    {
     "output_type": "stream",
     "name": "stdout",
     "text": [
      "{'bravo': 40, 'charlie': 50, 'echo': 70, 'foxtrot': 80, 'golf': 90}\n"
     ]
    }
   ],
   "source": [
    "#(4) 표준 입력으로 문자열 여러 개와 숫자 여러 개가 두 줄로 입력되고, 첫 번째 줄은 키, 두 번째 줄은 값으로 하여 딕셔너리를 생성합니다. \n",
    "#    다음 코드를 완성하여 딕셔너리에서 키가 'delta'인 키-값 쌍과 값이 30인 키-값 쌍을 삭제하도록 만드세요.\n",
    "input_key = input(\"type Key\").split()\n",
    "input_value = list(map(int, input(\"type Value as integer: \").split()))\n",
    "input_dict = dict(zip(input_key, input_value))\n",
    "found_key_list = list()\n",
    "for key,value in input_dict.items()    :\n",
    "    if value==30                       :\n",
    "        found_key_list.append(key)\n",
    "    if key ==\"delta\"                   :\n",
    "        found_key_list.append(key)\n",
    "for i in found_key_list                :\n",
    "        del input_dict[i]\n",
    "print(input_dict)"
   ]
  }
 ]
}