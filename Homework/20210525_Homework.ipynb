{
 "metadata": {
  "language_info": {
   "codemirror_mode": {
    "name": "ipython",
    "version": 3
   },
   "file_extension": ".py",
   "mimetype": "text/x-python",
   "name": "python",
   "nbconvert_exporter": "python",
   "pygments_lexer": "ipython3",
   "version": "3.9.4"
  },
  "orig_nbformat": 2,
  "kernelspec": {
   "name": "python394jvsc74a57bd0970b6f8752eefbcba9fc27b36d3deea80bcc92bf9cb37d4108e55fcbb51a21e9",
   "display_name": "Python 3.9.4 64-bit ('PythonProject': conda)"
  }
 },
 "nbformat": 4,
 "nbformat_minor": 2,
 "cells": [
  {
   "cell_type": "code",
   "execution_count": 1,
   "metadata": {},
   "outputs": [
    {
     "output_type": "stream",
     "name": "stdout",
     "text": [
      "906609\n"
     ]
    }
   ],
   "source": [
    "#2021.05.25 TUE\n",
    "#Hankyeong\n",
    "\n",
    "#01. 사용자정의 함수 문제\n",
    "#(1) Palindrome을 만족하는 세자리수 2개를 곱해서 만든 수 중 최대값을 구하시오.\n",
    "#step1. 사용자정의 함수 만들기.\n",
    "def is_palindrome (num_1) :\n",
    "    str_num_1 = str(num_1)\n",
    "    return str_num_1 == str_num_1[::-1]\n",
    "#step2. 문제 풀이하기.\n",
    "value_list = []\n",
    "for i in range(100,999+1) :\n",
    "    for k in range(100,999+1) :\n",
    "        value=i*k\n",
    "        if is_palindrome(value) :\n",
    "            value_list.append(value)\n",
    "print(max(value_list))"
   ]
  },
  {
   "cell_type": "code",
   "execution_count": 14,
   "metadata": {},
   "outputs": [
    {
     "output_type": "stream",
     "name": "stdout",
     "text": [
      "x=3, y=5\nx + y = 8\nx - y = -2\nx * y = 15\nx / y = 0.6\n"
     ]
    }
   ],
   "source": [
    "#(2) 표준 입력으로 숫자 두 개가 입력됩니다. \n",
    "#    다음 소스 코드를 완성하여 두 숫자의 덧셈, 뺄셈, 곱셈, 나눗셈의 결과가 출력되게 만드세요. \n",
    "#    이때 나눗셈의 결과는 실수라야 합니다.\n",
    "x, y = map(int, input().split())\n",
    "def calc (x,y) :\n",
    "    print(f'x={x}, y={y}')\n",
    "    print(f'x + y = {x+y}')\n",
    "    print(f'x - y = {x-y}')\n",
    "    print(f'x * y = {x*y}')\n",
    "    print(f'x / y = {x/y}')\n",
    "calc(x,y)"
   ]
  },
  {
   "cell_type": "code",
   "execution_count": 8,
   "metadata": {},
   "outputs": [
    {
     "output_type": "stream",
     "name": "stdout",
     "text": [
      "국영_grade_max: 50, 국영_grade_min: 30, 국영_grade_mean: 25.0\n수과_grade_max: 90, 수과_grade_min: 20, 수과_grade_mean: 70.0\n"
     ]
    }
   ],
   "source": [
    "#(3) 표준 입력으로 국어, 영어, 수학, 과학 점수가 입력됩니다. 다음 소스 코드를 완성하여 가장 높은 점수, 가장 낮은 점수, 평균 점수가 출력되게 만드세요. \n",
    "#    평균 점수는 실수로 출력되어야 합니다.\n",
    "korean, english, math, science = map(int, input().split())\n",
    "score_list_1 = [korean,english]\n",
    "score_list_2 = [math,science]\n",
    "def score_max_min_mean (korean,math,english,science) :\n",
    "    print(f'국영_grade_max: {max(score_list_1)}, 국영_grade_min: {min(score_list_1)}, 국영_grade_mean: {(korean+english)/len(score_list_1)}')\n",
    "    print(f'수과_grade_max: {max(score_list_2)}, 수과_grade_min: {min(score_list_2)}, 수과_grade_mean: {(math+science)/len(score_list_2)}')\n",
    "score_max_min_mean(korean, english, math, science)"
   ]
  }
 ]
}