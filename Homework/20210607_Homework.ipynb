{
 "metadata": {
  "language_info": {
   "codemirror_mode": {
    "name": "ipython",
    "version": 3
   },
   "file_extension": ".py",
   "mimetype": "text/x-python",
   "name": "python",
   "nbconvert_exporter": "python",
   "pygments_lexer": "ipython3",
   "version": "3.8.8"
  },
  "orig_nbformat": 2,
  "kernelspec": {
   "name": "python388jvsc74a57bd0389278cbb61c1c57cad107a3c1fdd79953aeebb4509d1d7f21aea6fe620a6af8",
   "display_name": "Python 3.8.8 64-bit ('base': conda)"
  }
 },
 "nbformat": 4,
 "nbformat_minor": 2,
 "cells": [
  {
   "cell_type": "code",
   "execution_count": 75,
   "metadata": {},
   "outputs": [
    {
     "output_type": "execute_result",
     "data": {
      "text/plain": [
       "'https://www.mangoplate.com/search/%EC%B6%A9%EC%A0%95%EB%A1%9C%EC%97%AD?keyword=%EC%B6%A9%EC%A0%95%EB%A1%9C%EC%97%AD&page=1'"
      ]
     },
     "metadata": {},
     "execution_count": 75
    }
   ],
   "source": [
    "#2021.06.07. MON\n",
    "#Hankyeong\n",
    "\n",
    "#00.  패키지 호출\n",
    "import requests\n",
    "from urllib.parse import urlparse, quote\n",
    "import time\n",
    "from selenium import webdriver\n",
    "from selenium.webdriver.common.keys import Keys\n",
    "import pandas as pd \n",
    "\n",
    "#01. 망고플레이트에서 충정로역 맛집 찾아보기.\n",
    "#(1) url 설정하기. \n",
    "location_url = \"https://www.mangoplate.com/search/\"\n",
    "keyword = \"충정로역\"\n",
    "main_url = f\"{location_url}{quote(keyword)}?keyword={quote(keyword)}&page={num}\"\n",
    "main_url"
   ]
  },
  {
   "cell_type": "code",
   "execution_count": 78,
   "metadata": {},
   "outputs": [],
   "source": [
    "#(2) 크롬 드라이버 활성화하기. \n",
    "driver = webdriver.Chrome('../Module/chromedriver.exe')"
   ]
  },
  {
   "cell_type": "code",
   "execution_count": 81,
   "metadata": {},
   "outputs": [
    {
     "output_type": "stream",
     "name": "stdout",
     "text": [
      "ERROR! page num=2, row=1, col=5\n",
      "ERROR! page num=4, row=1, col=9\n",
      "ERROR! page num=5, row=2, col=5\n"
     ]
    }
   ],
   "source": [
    "#(3) 웹크롤링하기. \n",
    "rest_name_list = []\n",
    "menu_list      = []\n",
    "addr_list      = []\n",
    "call_num_list  = []\n",
    "for num in range(1,5+1)                         :\n",
    "    try                                         :\n",
    "        if not num == 5                         :\n",
    "            main_url = f\"{location_url}{quote(keyword)}?keyword={quote(keyword)}&page={num}\"\n",
    "            driver.get(main_url)\n",
    "            time.sleep(1)\n",
    "            for k in (1,2)                      :\n",
    "                if k == 1                       :\n",
    "                    for i in range(1,10+1)      :\n",
    "                        driver.find_element_by_xpath(f'/html/body/main/article/div[2]/div/div/section/div[3]/ul/li[{i}]/div[1]/figure/a/div/img').click()\n",
    "                        rest_name = driver.find_element_by_xpath(\"/html/body/main/article/div[1]/div[1]/div/section[1]/header/div[1]/span/h1\").text\n",
    "                        menu      = driver.find_element_by_xpath(\"/html/body/main/article/div[1]/div[1]/div/section[1]/table/tbody/tr[3]/td/span\").text \n",
    "                        addr      = driver.find_element_by_xpath(\"/html/body/main/article/div[1]/div[1]/div/section[1]/table/tbody/tr[1]/td\").text \n",
    "                        call_num  = driver.find_element_by_xpath(\"/html/body/main/article/div[1]/div[1]/div/section[1]/table/tbody/tr[2]/td\").text\n",
    "                        time.sleep(2)\n",
    "                        rest_name_list.append(rest_name)\n",
    "                        menu_list.append(menu)\n",
    "                        addr_list.append(addr)\n",
    "                        call_num_list.append(call_num)\n",
    "                        time.sleep(2)\n",
    "                        driver.back()\n",
    "                else                            :\n",
    "                    for i in range(1,10+1)      :\n",
    "                        driver.find_element_by_xpath(f'/html/body/main/article/div[2]/div/div/section/div[3]/ul/li[{i}]/div[2]/figure/a/div/img').click()\n",
    "                        rest_name = driver.find_element_by_xpath(\"/html/body/main/article/div[1]/div[1]/div/section[1]/header/div[1]/span/h1\").text\n",
    "                        menu      = driver.find_element_by_xpath(\"/html/body/main/article/div[1]/div[1]/div/section[1]/table/tbody/tr[3]/td/span\").text \n",
    "                        addr      = driver.find_element_by_xpath(\"/html/body/main/article/div[1]/div[1]/div/section[1]/table/tbody/tr[1]/td\").text \n",
    "                        call_num  = driver.find_element_by_xpath(\"/html/body/main/article/div[1]/div[1]/div/section[1]/table/tbody/tr[2]/td\").text\n",
    "                        time.sleep(2)\n",
    "                        rest_name_list.append(rest_name)\n",
    "                        menu_list.append(menu)\n",
    "                        addr_list.append(addr)\n",
    "                        call_num_list.append(call_num)\n",
    "                        time.sleep(2)\n",
    "                        driver.back()\n",
    "        else                                    :\n",
    "            main_url = f\"{location_url}{quote(keyword)}?keyword={quote(keyword)}&page={num}\"\n",
    "            driver.get(main_url)\n",
    "            time.sleep(1)\n",
    "            for k in (1,2)                      :\n",
    "                if k == 1                       :\n",
    "                    for i in range(1,5+1)       :\n",
    "                        driver.find_element_by_xpath(f'/html/body/main/article/div[2]/div/div/section/div[3]/ul/li[{i}]/div[1]/figure/a/div/img').click()\n",
    "                        rest_name = driver.find_element_by_xpath(\"/html/body/main/article/div[1]/div[1]/div/section[1]/header/div[1]/span/h1\").text\n",
    "                        menu      = driver.find_element_by_xpath(\"/html/body/main/article/div[1]/div[1]/div/section[1]/table/tbody/tr[3]/td/span\").text \n",
    "                        addr      = driver.find_element_by_xpath(\"/html/body/main/article/div[1]/div[1]/div/section[1]/table/tbody/tr[1]/td\").text \n",
    "                        call_num  = driver.find_element_by_xpath(\"/html/body/main/article/div[1]/div[1]/div/section[1]/table/tbody/tr[2]/td\").text\n",
    "                        time.sleep(2)\n",
    "                        rest_name_list.append(rest_name)\n",
    "                        menu_list.append(menu)\n",
    "                        addr_list.append(addr)\n",
    "                        call_num_list.append(call_num)\n",
    "                        time.sleep(2)\n",
    "                        driver.back()\n",
    "                else                            :\n",
    "                    for i in range(1,5+1)       :\n",
    "                        driver.find_element_by_xpath(f'/html/body/main/article/div[2]/div/div/section/div[3]/ul/li[{i}]/div[2]/figure/a/div/img').click()\n",
    "                        rest_name = driver.find_element_by_xpath(\"/html/body/main/article/div[1]/div[1]/div/section[1]/header/div[1]/span/h1\").text\n",
    "                        menu      = driver.find_element_by_xpath(\"/html/body/main/article/div[1]/div[1]/div/section[1]/table/tbody/tr[3]/td/span\").text \n",
    "                        addr      = driver.find_element_by_xpath(\"/html/body/main/article/div[1]/div[1]/div/section[1]/table/tbody/tr[1]/td\").text \n",
    "                        call_num  = driver.find_element_by_xpath(\"/html/body/main/article/div[1]/div[1]/div/section[1]/table/tbody/tr[2]/td\").text\n",
    "                        time.sleep(2)\n",
    "                        rest_name_list.append(rest_name)\n",
    "                        menu_list.append(menu)\n",
    "                        addr_list.append(addr)\n",
    "                        call_num_list.append(call_num)\n",
    "                        time.sleep(2)\n",
    "                        driver.back()\n",
    "    except Exception                            :\n",
    "        print(f\"ERROR! page num={num}, row={k}, col={i}\")"
   ]
  },
  {
   "cell_type": "code",
   "execution_count": 84,
   "metadata": {},
   "outputs": [
    {
     "output_type": "execute_result",
     "data": {
      "text/plain": [
       "        상호             메뉴                                                 주소  \\\n",
       "0    위드미치코          기타 한식           서울특별시 서대문구 충정로 20\\n지번 서울시 서대문구 충정로3가 268   \n",
       "1    옐로우보울          기타 양식  서울특별시 서대문구 충정로 7 구세군빌딩\\n지번 서울시 서대문구 충정로3가 476 ...   \n",
       "2      충정각           이탈리안  서울특별시 서대문구 충정로2길 8 1F\\n지번 서울시 서대문구 충정로3가 360-2...   \n",
       "3      깐쪼네           이탈리안         서울특별시 서대문구 경기대로 23\\n지번 서울시 서대문구 충정로3가 31-1   \n",
       "4     청안식탁      닭 / 오리 요리       서울특별시 서대문구 충정로4길 21\\n지번 서울시 서대문구 충정로3가 282-2   \n",
       "..     ...            ...                                                ...   \n",
       "56  홍콩중화요리  정통 중식 / 일반 중식    서울특별시 서대문구 충정로 13 B1\\n지번 서울시 서대문구 충정로3가 63-1 B1   \n",
       "57  에스프레소인       카페 / 디저트         서울특별시 서대문구 서소문로 43-22\\n지번 서울시 서대문구 합동 31-7   \n",
       "58     브라보          남미 음식     서울특별시 서대문구 충정로4길 22-4\\n지번 서울시 서대문구 충정로3가 359-2   \n",
       "59     도우스          기타 양식  서울특별시 서대문구 충정로4길 16 1F\\n지번 서울시 서대문구 충정로3가 360-...   \n",
       "60   하얀꿈호프    치킨 / 호프 / 펍         서울특별시 서대문구 충정로4길 17\\n지번 서울시 서대문구 충정로3가 280   \n",
       "\n",
       "            전화번호  \n",
       "0    02-362-1394  \n",
       "1   02-6364-4961  \n",
       "2    02-313-0424  \n",
       "3    02-393-4333  \n",
       "4    02-363-7890  \n",
       "..           ...  \n",
       "56   02-312-8811  \n",
       "57  02-7130-0622  \n",
       "58   02-393-1588  \n",
       "59   02-365-7407  \n",
       "60   02-362-4990  \n",
       "\n",
       "[61 rows x 4 columns]"
      ],
      "text/html": "<div>\n<style scoped>\n    .dataframe tbody tr th:only-of-type {\n        vertical-align: middle;\n    }\n\n    .dataframe tbody tr th {\n        vertical-align: top;\n    }\n\n    .dataframe thead th {\n        text-align: right;\n    }\n</style>\n<table border=\"1\" class=\"dataframe\">\n  <thead>\n    <tr style=\"text-align: right;\">\n      <th></th>\n      <th>상호</th>\n      <th>메뉴</th>\n      <th>주소</th>\n      <th>전화번호</th>\n    </tr>\n  </thead>\n  <tbody>\n    <tr>\n      <th>0</th>\n      <td>위드미치코</td>\n      <td>기타 한식</td>\n      <td>서울특별시 서대문구 충정로 20\\n지번 서울시 서대문구 충정로3가 268</td>\n      <td>02-362-1394</td>\n    </tr>\n    <tr>\n      <th>1</th>\n      <td>옐로우보울</td>\n      <td>기타 양식</td>\n      <td>서울특별시 서대문구 충정로 7 구세군빌딩\\n지번 서울시 서대문구 충정로3가 476 ...</td>\n      <td>02-6364-4961</td>\n    </tr>\n    <tr>\n      <th>2</th>\n      <td>충정각</td>\n      <td>이탈리안</td>\n      <td>서울특별시 서대문구 충정로2길 8 1F\\n지번 서울시 서대문구 충정로3가 360-2...</td>\n      <td>02-313-0424</td>\n    </tr>\n    <tr>\n      <th>3</th>\n      <td>깐쪼네</td>\n      <td>이탈리안</td>\n      <td>서울특별시 서대문구 경기대로 23\\n지번 서울시 서대문구 충정로3가 31-1</td>\n      <td>02-393-4333</td>\n    </tr>\n    <tr>\n      <th>4</th>\n      <td>청안식탁</td>\n      <td>닭 / 오리 요리</td>\n      <td>서울특별시 서대문구 충정로4길 21\\n지번 서울시 서대문구 충정로3가 282-2</td>\n      <td>02-363-7890</td>\n    </tr>\n    <tr>\n      <th>...</th>\n      <td>...</td>\n      <td>...</td>\n      <td>...</td>\n      <td>...</td>\n    </tr>\n    <tr>\n      <th>56</th>\n      <td>홍콩중화요리</td>\n      <td>정통 중식 / 일반 중식</td>\n      <td>서울특별시 서대문구 충정로 13 B1\\n지번 서울시 서대문구 충정로3가 63-1 B1</td>\n      <td>02-312-8811</td>\n    </tr>\n    <tr>\n      <th>57</th>\n      <td>에스프레소인</td>\n      <td>카페 / 디저트</td>\n      <td>서울특별시 서대문구 서소문로 43-22\\n지번 서울시 서대문구 합동 31-7</td>\n      <td>02-7130-0622</td>\n    </tr>\n    <tr>\n      <th>58</th>\n      <td>브라보</td>\n      <td>남미 음식</td>\n      <td>서울특별시 서대문구 충정로4길 22-4\\n지번 서울시 서대문구 충정로3가 359-2</td>\n      <td>02-393-1588</td>\n    </tr>\n    <tr>\n      <th>59</th>\n      <td>도우스</td>\n      <td>기타 양식</td>\n      <td>서울특별시 서대문구 충정로4길 16 1F\\n지번 서울시 서대문구 충정로3가 360-...</td>\n      <td>02-365-7407</td>\n    </tr>\n    <tr>\n      <th>60</th>\n      <td>하얀꿈호프</td>\n      <td>치킨 / 호프 / 펍</td>\n      <td>서울특별시 서대문구 충정로4길 17\\n지번 서울시 서대문구 충정로3가 280</td>\n      <td>02-362-4990</td>\n    </tr>\n  </tbody>\n</table>\n<p>61 rows × 4 columns</p>\n</div>"
     },
     "metadata": {},
     "execution_count": 84
    }
   ],
   "source": [
    "#(4) 데이터프레임으로 구성하기.\n",
    "df = pd.DataFrame({\n",
    "    '상호'     : rest_name_list, \n",
    "    '메뉴'     : menu_list,\n",
    "    '주소'     : addr_list,\n",
    "    '전화번호' : call_num_list})\n",
    "df"
   ]
  },
  {
   "cell_type": "code",
   "execution_count": 87,
   "metadata": {},
   "outputs": [],
   "source": [
    "#(5) 엑셀로 파일 출력하기. \n",
    "df.to_excel(\"../data/20210607_Homework.xlsx\",sep=\",\",index=False)"
   ]
  }
 ]
}