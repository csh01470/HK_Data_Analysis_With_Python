{
 "metadata": {
  "language_info": {
   "codemirror_mode": {
    "name": "ipython",
    "version": 3
   },
   "file_extension": ".py",
   "mimetype": "text/x-python",
   "name": "python",
   "nbconvert_exporter": "python",
   "pygments_lexer": "ipython3",
   "version": "3.8.8"
  },
  "orig_nbformat": 2,
  "kernelspec": {
   "name": "python388jvsc74a57bd0389278cbb61c1c57cad107a3c1fdd79953aeebb4509d1d7f21aea6fe620a6af8",
   "display_name": "Python 3.8.8 64-bit ('base': conda)"
  }
 },
 "nbformat": 4,
 "nbformat_minor": 2,
 "cells": [
  {
   "cell_type": "code",
   "execution_count": 2,
   "metadata": {},
   "outputs": [
    {
     "output_type": "execute_result",
     "data": {
      "text/plain": [
       "array([[10, 20, 30, 40],\n",
       "       [50, 60, 70, 80]])"
      ]
     },
     "metadata": {},
     "execution_count": 2
    }
   ],
   "source": [
    "#2021.05.31. MON\n",
    "#Hankyeong\n",
    "\n",
    "#01. 넘파이를 사용하여 다음과 같은 행렬을 만드시오. \n",
    "#         10 20 30 40 \n",
    "#         50 60 70 80\n",
    "import numpy as np \n",
    "matrix = np.array([[10,20,30,40],[50,60,70,80]])\n",
    "matrix"
   ]
  },
  {
   "cell_type": "code",
   "execution_count": 3,
   "metadata": {},
   "outputs": [
    {
     "output_type": "execute_result",
     "data": {
      "text/plain": [
       "7"
      ]
     },
     "metadata": {},
     "execution_count": 3
    }
   ],
   "source": [
    "#02. 다음 행렬과 같은 행렬이 있다. \n",
    "#    m = np.array([[ 0,  1,  2,  3,  4], \n",
    "#                  [ 5,  6,  7,  8,  9], \n",
    "#                  [10, 11, 12, 13, 14]])\n",
    "#(1)이 행렬에서 값 7 을 인덱싱한다.\n",
    "m = np.array([[ 0, 1, 2, 3, 4], [ 5, 6, 7, 8, 9], [10, 11, 12, 13, 14]])\n",
    "m[1,2]"
   ]
  },
  {
   "cell_type": "code",
   "execution_count": 12,
   "metadata": {},
   "outputs": [
    {
     "output_type": "execute_result",
     "data": {
      "text/plain": [
       "14"
      ]
     },
     "metadata": {},
     "execution_count": 12
    }
   ],
   "source": [
    "#(2) 이 행렬에서 값 14 을 인덱싱한다.\n",
    "m[-1,-1]"
   ]
  },
  {
   "cell_type": "code",
   "execution_count": 15,
   "metadata": {},
   "outputs": [
    {
     "output_type": "execute_result",
     "data": {
      "text/plain": [
       "array([6, 7])"
      ]
     },
     "metadata": {},
     "execution_count": 15
    }
   ],
   "source": [
    "#(3) 이 행렬에서 배열 [6, 7] 을 슬라이싱한다.\n",
    "m[1,1:3]"
   ]
  },
  {
   "cell_type": "code",
   "execution_count": 17,
   "metadata": {},
   "outputs": [
    {
     "output_type": "execute_result",
     "data": {
      "text/plain": [
       "array([ 7, 12])"
      ]
     },
     "metadata": {},
     "execution_count": 17
    }
   ],
   "source": [
    "#(4) 이 행렬에서 배열 [7, 12] 을 슬라이싱한다.\n",
    "m[1:3,2]"
   ]
  },
  {
   "cell_type": "code",
   "execution_count": 18,
   "metadata": {},
   "outputs": [
    {
     "output_type": "execute_result",
     "data": {
      "text/plain": [
       "array([[3, 4],\n",
       "       [8, 9]])"
      ]
     },
     "metadata": {},
     "execution_count": 18
    }
   ],
   "source": [
    "#(5) 이 행렬에서 배열 [[3, 4], [8, 9]] 을 슬라이싱한다.\n",
    "m[:2,3:5]"
   ]
  },
  {
   "cell_type": "code",
   "execution_count": 4,
   "metadata": {},
   "outputs": [
    {
     "output_type": "execute_result",
     "data": {
      "text/plain": [
       "array([ 0,  3,  6,  9, 12])"
      ]
     },
     "metadata": {},
     "execution_count": 4
    }
   ],
   "source": [
    "#03. 2번의 행렬 m을 1차원 벡터 f 로 변환한 후 다음의 문제를 푸시오.\n",
    "#(1) 이 배열에서 3의 배수를 찾아라.\n",
    "f = m.flatten()\n",
    "f[f%3==0]"
   ]
  },
  {
   "cell_type": "code",
   "execution_count": 23,
   "metadata": {},
   "outputs": [
    {
     "output_type": "execute_result",
     "data": {
      "text/plain": [
       "array([ 1,  5,  9, 13])"
      ]
     },
     "metadata": {},
     "execution_count": 23
    }
   ],
   "source": [
    "#(2) 이 배열에서 4로 나누면 1이 남는 수를 찾아라.\n",
    "f[f%4==1]"
   ]
  },
  {
   "cell_type": "code",
   "execution_count": 24,
   "metadata": {},
   "outputs": [
    {
     "output_type": "execute_result",
     "data": {
      "text/plain": [
       "array([9])"
      ]
     },
     "metadata": {},
     "execution_count": 24
    }
   ],
   "source": [
    "#(3) 이 배열에서 3으로 나누면 나누어지고 4로 나누면 1이 남는 수를 찾아라.\n",
    "f[np.logical_and(f%3==0,f%4==1)]"
   ]
  },
  {
   "cell_type": "code",
   "execution_count": 150,
   "metadata": {},
   "outputs": [
    {
     "output_type": "execute_result",
     "data": {
      "text/plain": [
       "array([[2., 1., 0., 0., 0.],\n",
       "       [3., 2., 1., 0., 0.],\n",
       "       [0., 3., 2., 1., 0.],\n",
       "       [0., 0., 3., 2., 1.],\n",
       "       [0., 0., 0., 3., 2.]])"
      ]
     },
     "metadata": {},
     "execution_count": 150
    }
   ],
   "source": [
    "#04. 값을 직접 입력하지 말고 우측의 행렬을 만드시오.\n",
    "#           2, 1, 0, 0, 0 \n",
    "#           3, 2, 1, 0, 0 \n",
    "#           0, 3, 2, 1, 0 \n",
    "#           0, 0, 3, 2, 1\n",
    "#           0, 0, 0, 3, 2\n",
    "np.eye(5,5)*2+np.eye(5,5,1)+np.eye(5,5,-1)*3"
   ]
  },
  {
   "cell_type": "code",
   "execution_count": 102,
   "metadata": {},
   "outputs": [
    {
     "output_type": "stream",
     "name": "stdout",
     "text": [
      "[[6.06 7.33 1.39 3.13 9.97 1.28]\n [1.79 7.53 6.62 7.84 0.97 0.59]\n [9.62 6.17 0.87 5.61 6.17 9.64]\n [5.74 3.71 4.52 2.02 5.69 1.95]\n [5.84 4.76 5.18 8.23 7.32 0.69]]\n"
     ]
    }
   ],
   "source": [
    "#05. 0에서 10까지 랜덤 실수값으로 이루어진 5 x 6 형태의 데이터 행렬을 만들고 이 데이터에 대해 다음과 같은 값을 구하시오.\n",
    "np.random.seed(2021)\n",
    "matrix_2 = np.random.uniform(0,10,30).reshape(5,6).round(2)\n",
    "print(matrix_2)"
   ]
  },
  {
   "source": [
    "#(1) 전체의 최댓값\n",
    "np.max(matrix_2)"
   ],
   "cell_type": "code",
   "metadata": {},
   "execution_count": 41,
   "outputs": [
    {
     "output_type": "execute_result",
     "data": {
      "text/plain": [
       "9.97"
      ]
     },
     "metadata": {},
     "execution_count": 41
    }
   ]
  },
  {
   "cell_type": "code",
   "execution_count": 42,
   "metadata": {},
   "outputs": [
    {
     "output_type": "execute_result",
     "data": {
      "text/plain": [
       "array([29.16, 25.34, 38.08, 23.63, 32.02])"
      ]
     },
     "metadata": {},
     "execution_count": 42
    }
   ],
   "source": [
    "#(2) 각 행의 합\n",
    "matrix_2.sum(axis=1)"
   ]
  },
  {
   "cell_type": "code",
   "execution_count": 43,
   "metadata": {},
   "outputs": [
    {
     "output_type": "execute_result",
     "data": {
      "text/plain": [
       "array([9.97, 7.84, 9.64, 5.74, 8.23])"
      ]
     },
     "metadata": {},
     "execution_count": 43
    }
   ],
   "source": [
    "#(3) 각 행의 최댓값\n",
    "matrix_2.max(axis=1)"
   ]
  },
  {
   "cell_type": "code",
   "execution_count": 44,
   "metadata": {},
   "outputs": [
    {
     "output_type": "execute_result",
     "data": {
      "text/plain": [
       "array([5.81 , 5.9  , 3.716, 5.366, 6.024, 2.83 ])"
      ]
     },
     "metadata": {},
     "execution_count": 44
    }
   ],
   "source": [
    "#(4) 각 열의 평균\n",
    "matrix_2.mean(axis=0)"
   ]
  },
  {
   "cell_type": "code",
   "execution_count": 45,
   "metadata": {},
   "outputs": [
    {
     "output_type": "execute_result",
     "data": {
      "text/plain": [
       "array([1.79, 3.71, 0.87, 2.02, 0.97, 0.59])"
      ]
     },
     "metadata": {},
     "execution_count": 45
    }
   ],
   "source": [
    "#(5) 각 열의 최솟값\n",
    "matrix_2.min(axis=0)"
   ]
  },
  {
   "cell_type": "code",
   "execution_count": 5,
   "metadata": {},
   "outputs": [
    {
     "output_type": "execute_result",
     "data": {
      "text/plain": [
       "array([[  1,   2,   3,   4],\n",
       "       [ 46,  99, 100,  71],\n",
       "       [ 81,  59,  90, 100]])"
      ]
     },
     "metadata": {},
     "execution_count": 5
    }
   ],
   "source": [
    "#06. 다음 배열은 첫번째 행(row)에 학번, 두번째 행에 영어 성적, 세번째 행에 수학 성적을 적은 배열이다. 영어 성적을 기준으로 재정렬하시오. \n",
    "#    np.array([[  1,  2,   3,  4], \n",
    "#              [ 46, 99, 100, 71], \n",
    "#              [ 81, 59,  90, 100]])\n",
    "grade=np.array([[ 1, 2, 3, 4], [ 46, 99, 100, 71], [ 81, 59, 90, 100]])\n",
    "grade"
   ]
  },
  {
   "cell_type": "code",
   "execution_count": 12,
   "metadata": {},
   "outputs": [
    {
     "output_type": "execute_result",
     "data": {
      "text/plain": [
       "array([[  1,   4,   2,   3],\n",
       "       [ 46,  71,  99, 100],\n",
       "       [ 81, 100,  59,  90]])"
      ]
     },
     "metadata": {},
     "execution_count": 12
    }
   ],
   "source": [
    "grade[:,grade.argsort()[1]]"
   ]
  },
  {
   "cell_type": "code",
   "execution_count": null,
   "metadata": {},
   "outputs": [],
   "source": [
    "#if R,\n",
    "#library(dplyr)\n",
    "#grade <- grade %>% as.data.frame()\n",
    "#grade <- grade %>% rename(english=grade$\"[,2]\")\n",
    "#grade_t <- grade %>% t()\n",
    "#grade_t <- grade_t %>% arrange(desc(english))"
   ]
  },
  {
   "cell_type": "code",
   "execution_count": 14,
   "metadata": {},
   "outputs": [
    {
     "output_type": "execute_result",
     "data": {
      "text/plain": [
       "array([3., 4., 2., 4., 2., 2., 6., 3., 1., 3., 4., 6., 1., 2., 3., 3., 4.,\n",
       "       3., 3., 1., 2., 3., 4., 1., 2., 1., 5., 2., 2., 3., 3., 2., 5., 2.,\n",
       "       4., 3., 1., 2., 5., 1., 2., 3., 6., 1., 1., 4., 5., 2., 2., 4., 6.,\n",
       "       6., 4., 3., 4., 6., 4., 1., 4., 2., 5., 5., 5., 2., 2., 4., 4., 2.,\n",
       "       3., 5., 4., 3., 4., 6., 1., 2., 5., 1., 4., 2., 3., 5., 3., 4., 5.,\n",
       "       1., 5., 5., 3., 5., 5., 3., 2., 1., 3., 2., 2., 6., 2., 2.])"
      ]
     },
     "metadata": {},
     "execution_count": 14
    }
   ],
   "source": [
    "#07.주사위를 100번 던지는 가상 실험을 파이썬으로 작성하고, 던져서 나오는 숫자의 평균을 구하시오.\n",
    "python = np.random.uniform(1,6,100).round(0)\n",
    "python"
   ]
  },
  {
   "cell_type": "code",
   "execution_count": 119,
   "metadata": {},
   "outputs": [
    {
     "output_type": "execute_result",
     "data": {
      "text/plain": [
       "3.53"
      ]
     },
     "metadata": {},
     "execution_count": 119
    }
   ],
   "source": [
    "python.mean()"
   ]
  },
  {
   "cell_type": "code",
   "execution_count": 12,
   "metadata": {},
   "outputs": [
    {
     "output_type": "execute_result",
     "data": {
      "text/plain": [
       "array([ 9851.,  9932., 10042., 10081.,  9944., 10071.,  9887.,  9935.,\n",
       "        9989.,  9958.,  9988., 10084.,  9959.,  9990., 10191.,  9890.,\n",
       "       10140., 10023., 10134.,  9970., 10072.,  9746.,  9868.,  9993.,\n",
       "       10026.,  9986.,  9885.,  9862., 10047.,  9948.,  9851.,  9852.,\n",
       "        9927., 10039.,  9972.,  9995., 10104., 10016., 10279.,  9964.,\n",
       "        9976.,  9952.,  9979.,  9908., 10141.,  9878., 10055.,  9909.,\n",
       "       10098., 10063.,  9917., 10128., 10035., 10108.,  9903.,  9959.,\n",
       "       10013., 10067.,  9878., 10093.,  9858., 10012.,  9929.,  9928.,\n",
       "        9986., 10065., 10067.,  9913.,  9900., 10037.,  9887.,  9921.,\n",
       "       10175., 10081., 10141., 10080.,  9920.,  9824., 10008.,  9958.,\n",
       "        9984., 10006., 10054.,  9910.,  9978.,  9872.,  9937.,  9964.,\n",
       "        9636., 10120., 10133.,  9874., 10065.,  9775., 10101., 10013.,\n",
       "       10043.,  9957.,  9924., 10099., 10074.,  9954.,  9874., 10044.,\n",
       "        9946.,  9943., 10044.,  9923.,  9952., 10088., 10068.,  9955.,\n",
       "       10073., 10144.,  9785.,  9995.,  9935., 10107.,  9976.,  9963.,\n",
       "        9959.,  9880.,  9892.,  9972.,  9907.,  9967.,  9821., 10095.,\n",
       "       10057.,  9975.,  9949., 10044.,  9821.,  9982.,  9962.,  9949.,\n",
       "        9941.,  9810.,  9940., 10012.,  9985.,  9943., 10060.,  9962.,\n",
       "       10062.,  9984., 10142.,  9808.,  9898., 10023.,  9954.,  9972.,\n",
       "       10118.,  9847.,  9883., 10240., 10150.,  9836.,  9894., 10122.,\n",
       "       10147.,  9951., 10139., 10008., 10025.,  9857.,  9922.,  9837.,\n",
       "        9912.,  9916., 10098., 10129., 10001., 10006.,  9973.,  9958.,\n",
       "       10063., 10024.,  9921., 10140.,  9926., 10006., 10037.,  9942.,\n",
       "       10129.,  9915.,  9932., 10135., 10098., 10151., 10107.,  9965.,\n",
       "       10083., 10150., 10152., 10104.,  9934., 10062., 10064., 10069.,\n",
       "        9956.,  9914.,  9985., 10159.,  9736., 10072., 10039., 10241.,\n",
       "        9956.,  9957., 10088.,  9831.,  9900.,  9997., 10128., 10042.,\n",
       "        9976.,  9920., 10018.,  9887., 10117.,  9988., 10071.,  9996.,\n",
       "       10056.,  9959.,  9846.,  9973., 10141.,  9966.,  9969.,  9785.,\n",
       "        9855.,  9893., 10050., 10035., 10066., 10287.,  9915.,  9967.,\n",
       "        9923.,  9885.,  9963.,  9915., 10054., 10024., 10102., 10104.,\n",
       "       10022.,  9893.])"
      ]
     },
     "metadata": {},
     "execution_count": 12
    }
   ],
   "source": [
    "#08. 가격이 10,000원인 주식이 있다. 이 주식의 일간 수익률(%)은 기댓값이 0%이고 표준편차가 1%인 표준 정규 분포를 따른다고 하자. 250일 동안의 주가를 무작위로 생성하시오.\n",
    "np.random.seed(2021)\n",
    "10000-(np.random.normal(0,1,250)*0.01*10000).round(0)"
   ]
  },
  {
   "cell_type": "code",
   "execution_count": null,
   "metadata": {},
   "outputs": [],
   "source": [
    "#그러나, 위의 코드는 전일의 종가를 반영하지 못함."
   ]
  },
  {
   "cell_type": "code",
   "execution_count": 32,
   "metadata": {},
   "outputs": [
    {
     "output_type": "stream",
     "name": "stdout",
     "text": [
      "10,149원\n10,216원\n10,175원\n10,094원\n10,150원\n10,079원\n10,192원\n10,257원\n10,267원\n10,309원\n10,322원\n10,238원\n10,279원\n10,289원\n10,098원\n10,208원\n10,068원\n10,046원\n9,912원\n9,943원\n9,870원\n10,125원\n10,257원\n10,264원\n10,238원\n10,252원\n10,367원\n10,505원\n10,457원\n10,510원\n10,658원\n10,806원\n10,879원\n10,840원\n10,868원\n10,873원\n10,769원\n10,753원\n10,473원\n10,510원\n10,534원\n10,581원\n10,602원\n10,694원\n10,553원\n10,675원\n10,621원\n10,711원\n10,613원\n10,550원\n10,632원\n10,504원\n10,469원\n10,361원\n10,459원\n10,500원\n10,487원\n10,419원\n10,542원\n10,449원\n10,591원\n10,579원\n10,649원\n10,721원\n10,736원\n10,670원\n10,603원\n10,690원\n10,790원\n10,754원\n10,866원\n10,946원\n10,771원\n10,690원\n10,548원\n10,468원\n10,548원\n10,724원\n10,716원\n10,758원\n10,774원\n10,768원\n10,714원\n10,804원\n10,827원\n10,955원\n11,018원\n11,054원\n11,418원\n11,298원\n11,165원\n11,291원\n11,226원\n11,450원\n11,349원\n11,336원\n11,293원\n11,336원\n11,412원\n11,312원\n11,238원\n11,284원\n11,410원\n11,365원\n11,419원\n11,476원\n11,433원\n11,509원\n11,557원\n11,469원\n11,401원\n11,446원\n11,374원\n11,230원\n11,445원\n11,450원\n11,515원\n11,407원\n11,432원\n11,469원\n11,510원\n11,630원\n11,738원\n11,766원\n11,859원\n11,892원\n12,072원\n11,976원\n11,919원\n11,944원\n11,995원\n11,951원\n12,130원\n12,148원\n12,187원\n12,238원\n12,297원\n12,487원\n12,547원\n12,535원\n12,549원\n12,606원\n12,546원\n12,584원\n12,522원\n12,537원\n12,396원\n12,588원\n12,690원\n12,667원\n12,713원\n12,741원\n12,624원\n12,776원\n12,894원\n12,653원\n12,503원\n12,667원\n12,773원\n12,651원\n12,505원\n12,554원\n12,415원\n12,407원\n12,382원\n12,525원\n12,603원\n12,766원\n12,854원\n12,938원\n12,840원\n12,712원\n12,711원\n12,705원\n12,732원\n12,774원\n12,712원\n12,687원\n12,766원\n12,627원\n12,700원\n12,694원\n12,657원\n12,716원\n12,587원\n12,672원\n12,741원\n12,606원\n12,508원\n12,357원\n12,250원\n12,285원\n12,202원\n12,053원\n11,901원\n11,797원\n11,863원\n11,801원\n11,736원\n11,668원\n11,712원\n11,798원\n11,812원\n11,653원\n11,917원\n11,845원\n11,806원\n11,566원\n11,610원\n11,653원\n11,565원\n11,733원\n11,833원\n11,836원\n11,707원\n11,665원\n11,689원\n11,770원\n11,751원\n11,864원\n11,747원\n11,759원\n11,688원\n11,691원\n11,635원\n11,677원\n11,831원\n11,858원\n11,717원\n11,751원\n11,782원\n11,996원\n12,141원\n12,248원\n12,198원\n12,163원\n12,097원\n11,810원\n11,895원\n11,928원\n12,005원\n12,120원\n12,157원\n12,241원\n12,187원\n12,163원\n12,060원\n11,956원\n11,934원\n12,042원\n"
     ]
    }
   ],
   "source": [
    "np.random.seed(2021)\n",
    "price = 10000\n",
    "variable_price = np.random.normal(0,1,250)*0.01*price\n",
    "for i in range(250) :\n",
    "    price = price + variable_price[i]\n",
    "    print(f'{price:>5,.0f}원')"
   ]
  }
 ]
}