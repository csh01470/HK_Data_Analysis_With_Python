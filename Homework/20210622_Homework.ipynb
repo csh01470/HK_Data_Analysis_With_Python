{
 "metadata": {
  "language_info": {
   "codemirror_mode": {
    "name": "ipython",
    "version": 3
   },
   "file_extension": ".py",
   "mimetype": "text/x-python",
   "name": "python",
   "nbconvert_exporter": "python",
   "pygments_lexer": "ipython3",
   "version": "3.8.8"
  },
  "orig_nbformat": 4,
  "kernelspec": {
   "name": "python3",
   "display_name": "Python 3.8.8 64-bit ('base': conda)"
  },
  "interpreter": {
   "hash": "389278cbb61c1c57cad107a3c1fdd79953aeebb4509d1d7f21aea6fe620a6af8"
  }
 },
 "nbformat": 4,
 "nbformat_minor": 2,
 "cells": [
  {
   "cell_type": "code",
   "execution_count": 1,
   "metadata": {},
   "outputs": [
    {
     "output_type": "execute_result",
     "data": {
      "text/plain": [
       "          age       sex       bmi        bp        s1        s2        s3  \\\n",
       "0    0.038076  0.050680  0.061696  0.021872 -0.044223 -0.034821 -0.043401   \n",
       "1   -0.001882 -0.044642 -0.051474 -0.026328 -0.008449 -0.019163  0.074412   \n",
       "2    0.085299  0.050680  0.044451 -0.005671 -0.045599 -0.034194 -0.032356   \n",
       "3   -0.089063 -0.044642 -0.011595 -0.036656  0.012191  0.024991 -0.036038   \n",
       "4    0.005383 -0.044642 -0.036385  0.021872  0.003935  0.015596  0.008142   \n",
       "..        ...       ...       ...       ...       ...       ...       ...   \n",
       "437  0.041708  0.050680  0.019662  0.059744 -0.005697 -0.002566 -0.028674   \n",
       "438 -0.005515  0.050680 -0.015906 -0.067642  0.049341  0.079165 -0.028674   \n",
       "439  0.041708  0.050680 -0.015906  0.017282 -0.037344 -0.013840 -0.024993   \n",
       "440 -0.045472 -0.044642  0.039062  0.001215  0.016318  0.015283 -0.028674   \n",
       "441 -0.045472 -0.044642 -0.073030 -0.081414  0.083740  0.027809  0.173816   \n",
       "\n",
       "           s4        s5        s6  target  \n",
       "0   -0.002592  0.019908 -0.017646   151.0  \n",
       "1   -0.039493 -0.068330 -0.092204    75.0  \n",
       "2   -0.002592  0.002864 -0.025930   141.0  \n",
       "3    0.034309  0.022692 -0.009362   206.0  \n",
       "4   -0.002592 -0.031991 -0.046641   135.0  \n",
       "..        ...       ...       ...     ...  \n",
       "437 -0.002592  0.031193  0.007207   178.0  \n",
       "438  0.034309 -0.018118  0.044485   104.0  \n",
       "439 -0.011080 -0.046879  0.015491   132.0  \n",
       "440  0.026560  0.044528 -0.025930   220.0  \n",
       "441 -0.039493 -0.004220  0.003064    57.0  \n",
       "\n",
       "[442 rows x 11 columns]"
      ],
      "text/html": "<div>\n<style scoped>\n    .dataframe tbody tr th:only-of-type {\n        vertical-align: middle;\n    }\n\n    .dataframe tbody tr th {\n        vertical-align: top;\n    }\n\n    .dataframe thead th {\n        text-align: right;\n    }\n</style>\n<table border=\"1\" class=\"dataframe\">\n  <thead>\n    <tr style=\"text-align: right;\">\n      <th></th>\n      <th>age</th>\n      <th>sex</th>\n      <th>bmi</th>\n      <th>bp</th>\n      <th>s1</th>\n      <th>s2</th>\n      <th>s3</th>\n      <th>s4</th>\n      <th>s5</th>\n      <th>s6</th>\n      <th>target</th>\n    </tr>\n  </thead>\n  <tbody>\n    <tr>\n      <th>0</th>\n      <td>0.038076</td>\n      <td>0.050680</td>\n      <td>0.061696</td>\n      <td>0.021872</td>\n      <td>-0.044223</td>\n      <td>-0.034821</td>\n      <td>-0.043401</td>\n      <td>-0.002592</td>\n      <td>0.019908</td>\n      <td>-0.017646</td>\n      <td>151.0</td>\n    </tr>\n    <tr>\n      <th>1</th>\n      <td>-0.001882</td>\n      <td>-0.044642</td>\n      <td>-0.051474</td>\n      <td>-0.026328</td>\n      <td>-0.008449</td>\n      <td>-0.019163</td>\n      <td>0.074412</td>\n      <td>-0.039493</td>\n      <td>-0.068330</td>\n      <td>-0.092204</td>\n      <td>75.0</td>\n    </tr>\n    <tr>\n      <th>2</th>\n      <td>0.085299</td>\n      <td>0.050680</td>\n      <td>0.044451</td>\n      <td>-0.005671</td>\n      <td>-0.045599</td>\n      <td>-0.034194</td>\n      <td>-0.032356</td>\n      <td>-0.002592</td>\n      <td>0.002864</td>\n      <td>-0.025930</td>\n      <td>141.0</td>\n    </tr>\n    <tr>\n      <th>3</th>\n      <td>-0.089063</td>\n      <td>-0.044642</td>\n      <td>-0.011595</td>\n      <td>-0.036656</td>\n      <td>0.012191</td>\n      <td>0.024991</td>\n      <td>-0.036038</td>\n      <td>0.034309</td>\n      <td>0.022692</td>\n      <td>-0.009362</td>\n      <td>206.0</td>\n    </tr>\n    <tr>\n      <th>4</th>\n      <td>0.005383</td>\n      <td>-0.044642</td>\n      <td>-0.036385</td>\n      <td>0.021872</td>\n      <td>0.003935</td>\n      <td>0.015596</td>\n      <td>0.008142</td>\n      <td>-0.002592</td>\n      <td>-0.031991</td>\n      <td>-0.046641</td>\n      <td>135.0</td>\n    </tr>\n    <tr>\n      <th>...</th>\n      <td>...</td>\n      <td>...</td>\n      <td>...</td>\n      <td>...</td>\n      <td>...</td>\n      <td>...</td>\n      <td>...</td>\n      <td>...</td>\n      <td>...</td>\n      <td>...</td>\n      <td>...</td>\n    </tr>\n    <tr>\n      <th>437</th>\n      <td>0.041708</td>\n      <td>0.050680</td>\n      <td>0.019662</td>\n      <td>0.059744</td>\n      <td>-0.005697</td>\n      <td>-0.002566</td>\n      <td>-0.028674</td>\n      <td>-0.002592</td>\n      <td>0.031193</td>\n      <td>0.007207</td>\n      <td>178.0</td>\n    </tr>\n    <tr>\n      <th>438</th>\n      <td>-0.005515</td>\n      <td>0.050680</td>\n      <td>-0.015906</td>\n      <td>-0.067642</td>\n      <td>0.049341</td>\n      <td>0.079165</td>\n      <td>-0.028674</td>\n      <td>0.034309</td>\n      <td>-0.018118</td>\n      <td>0.044485</td>\n      <td>104.0</td>\n    </tr>\n    <tr>\n      <th>439</th>\n      <td>0.041708</td>\n      <td>0.050680</td>\n      <td>-0.015906</td>\n      <td>0.017282</td>\n      <td>-0.037344</td>\n      <td>-0.013840</td>\n      <td>-0.024993</td>\n      <td>-0.011080</td>\n      <td>-0.046879</td>\n      <td>0.015491</td>\n      <td>132.0</td>\n    </tr>\n    <tr>\n      <th>440</th>\n      <td>-0.045472</td>\n      <td>-0.044642</td>\n      <td>0.039062</td>\n      <td>0.001215</td>\n      <td>0.016318</td>\n      <td>0.015283</td>\n      <td>-0.028674</td>\n      <td>0.026560</td>\n      <td>0.044528</td>\n      <td>-0.025930</td>\n      <td>220.0</td>\n    </tr>\n    <tr>\n      <th>441</th>\n      <td>-0.045472</td>\n      <td>-0.044642</td>\n      <td>-0.073030</td>\n      <td>-0.081414</td>\n      <td>0.083740</td>\n      <td>0.027809</td>\n      <td>0.173816</td>\n      <td>-0.039493</td>\n      <td>-0.004220</td>\n      <td>0.003064</td>\n      <td>57.0</td>\n    </tr>\n  </tbody>\n</table>\n<p>442 rows × 11 columns</p>\n</div>"
     },
     "metadata": {},
     "execution_count": 1
    }
   ],
   "source": [
    "#2021.06.22. TUE\n",
    "#Hankyeong\n",
    "\n",
    "#00. 패키지 호출\n",
    "import pandas as pd\n",
    "import numpy as np \n",
    "from sklearn.datasets import load_diabetes\n",
    "from sklearn.model_selection import train_test_split\n",
    "from sklearn.model_selection import GridSearchCV\n",
    "from sklearn.linear_model import LinearRegression\n",
    "from sklearn.tree import DecisionTreeRegressor\n",
    "from sklearn.svm import SVR\n",
    "from sklearn.metrics import r2_score, mean_squared_error\n",
    "import warnings\n",
    "\n",
    "#00-1. warning message ignore\n",
    "warnings.filterwarnings(action='ignore')\n",
    "\n",
    "#01. Diabetes 데이터셋을 다중선형회귀 모델로 예측하기.\n",
    "#(1) 데이터셋 불러오기. \n",
    "diabetes = load_diabetes()\n",
    "\n",
    "#(2) 데이터프레임으로 변환하기. \n",
    "df_diabetes = pd.DataFrame(diabetes.data, columns=diabetes.feature_names)\n",
    "df_diabetes['target'] = diabetes.target\n",
    "df_diabetes"
   ]
  },
  {
   "cell_type": "code",
   "execution_count": 2,
   "metadata": {},
   "outputs": [
    {
     "output_type": "stream",
     "name": "stdout",
     "text": [
      "<class 'pandas.core.frame.DataFrame'>\nRangeIndex: 442 entries, 0 to 441\nData columns (total 11 columns):\n #   Column  Non-Null Count  Dtype  \n---  ------  --------------  -----  \n 0   age     442 non-null    float64\n 1   sex     442 non-null    float64\n 2   bmi     442 non-null    float64\n 3   bp      442 non-null    float64\n 4   s1      442 non-null    float64\n 5   s2      442 non-null    float64\n 6   s3      442 non-null    float64\n 7   s4      442 non-null    float64\n 8   s5      442 non-null    float64\n 9   s6      442 non-null    float64\n 10  target  442 non-null    float64\ndtypes: float64(11)\nmemory usage: 38.1 KB\n"
     ]
    }
   ],
   "source": [
    "#(3) 데이터셋 탐색하기. \n",
    "df_diabetes.info()"
   ]
  },
  {
   "cell_type": "code",
   "execution_count": 3,
   "metadata": {},
   "outputs": [
    {
     "output_type": "execute_result",
     "data": {
      "text/plain": [
       "                age           sex           bmi            bp            s1  \\\n",
       "count  4.420000e+02  4.420000e+02  4.420000e+02  4.420000e+02  4.420000e+02   \n",
       "mean  -3.634285e-16  1.308343e-16 -8.045349e-16  1.281655e-16 -8.835316e-17   \n",
       "std    4.761905e-02  4.761905e-02  4.761905e-02  4.761905e-02  4.761905e-02   \n",
       "min   -1.072256e-01 -4.464164e-02 -9.027530e-02 -1.123996e-01 -1.267807e-01   \n",
       "25%   -3.729927e-02 -4.464164e-02 -3.422907e-02 -3.665645e-02 -3.424784e-02   \n",
       "50%    5.383060e-03 -4.464164e-02 -7.283766e-03 -5.670611e-03 -4.320866e-03   \n",
       "75%    3.807591e-02  5.068012e-02  3.124802e-02  3.564384e-02  2.835801e-02   \n",
       "max    1.107267e-01  5.068012e-02  1.705552e-01  1.320442e-01  1.539137e-01   \n",
       "\n",
       "                 s2            s3            s4            s5            s6  \\\n",
       "count  4.420000e+02  4.420000e+02  4.420000e+02  4.420000e+02  4.420000e+02   \n",
       "mean   1.327024e-16 -4.574646e-16  3.777301e-16 -3.830854e-16 -3.412882e-16   \n",
       "std    4.761905e-02  4.761905e-02  4.761905e-02  4.761905e-02  4.761905e-02   \n",
       "min   -1.156131e-01 -1.023071e-01 -7.639450e-02 -1.260974e-01 -1.377672e-01   \n",
       "25%   -3.035840e-02 -3.511716e-02 -3.949338e-02 -3.324879e-02 -3.317903e-02   \n",
       "50%   -3.819065e-03 -6.584468e-03 -2.592262e-03 -1.947634e-03 -1.077698e-03   \n",
       "75%    2.984439e-02  2.931150e-02  3.430886e-02  3.243323e-02  2.791705e-02   \n",
       "max    1.987880e-01  1.811791e-01  1.852344e-01  1.335990e-01  1.356118e-01   \n",
       "\n",
       "           target  \n",
       "count  442.000000  \n",
       "mean   152.133484  \n",
       "std     77.093005  \n",
       "min     25.000000  \n",
       "25%     87.000000  \n",
       "50%    140.500000  \n",
       "75%    211.500000  \n",
       "max    346.000000  "
      ],
      "text/html": "<div>\n<style scoped>\n    .dataframe tbody tr th:only-of-type {\n        vertical-align: middle;\n    }\n\n    .dataframe tbody tr th {\n        vertical-align: top;\n    }\n\n    .dataframe thead th {\n        text-align: right;\n    }\n</style>\n<table border=\"1\" class=\"dataframe\">\n  <thead>\n    <tr style=\"text-align: right;\">\n      <th></th>\n      <th>age</th>\n      <th>sex</th>\n      <th>bmi</th>\n      <th>bp</th>\n      <th>s1</th>\n      <th>s2</th>\n      <th>s3</th>\n      <th>s4</th>\n      <th>s5</th>\n      <th>s6</th>\n      <th>target</th>\n    </tr>\n  </thead>\n  <tbody>\n    <tr>\n      <th>count</th>\n      <td>4.420000e+02</td>\n      <td>4.420000e+02</td>\n      <td>4.420000e+02</td>\n      <td>4.420000e+02</td>\n      <td>4.420000e+02</td>\n      <td>4.420000e+02</td>\n      <td>4.420000e+02</td>\n      <td>4.420000e+02</td>\n      <td>4.420000e+02</td>\n      <td>4.420000e+02</td>\n      <td>442.000000</td>\n    </tr>\n    <tr>\n      <th>mean</th>\n      <td>-3.634285e-16</td>\n      <td>1.308343e-16</td>\n      <td>-8.045349e-16</td>\n      <td>1.281655e-16</td>\n      <td>-8.835316e-17</td>\n      <td>1.327024e-16</td>\n      <td>-4.574646e-16</td>\n      <td>3.777301e-16</td>\n      <td>-3.830854e-16</td>\n      <td>-3.412882e-16</td>\n      <td>152.133484</td>\n    </tr>\n    <tr>\n      <th>std</th>\n      <td>4.761905e-02</td>\n      <td>4.761905e-02</td>\n      <td>4.761905e-02</td>\n      <td>4.761905e-02</td>\n      <td>4.761905e-02</td>\n      <td>4.761905e-02</td>\n      <td>4.761905e-02</td>\n      <td>4.761905e-02</td>\n      <td>4.761905e-02</td>\n      <td>4.761905e-02</td>\n      <td>77.093005</td>\n    </tr>\n    <tr>\n      <th>min</th>\n      <td>-1.072256e-01</td>\n      <td>-4.464164e-02</td>\n      <td>-9.027530e-02</td>\n      <td>-1.123996e-01</td>\n      <td>-1.267807e-01</td>\n      <td>-1.156131e-01</td>\n      <td>-1.023071e-01</td>\n      <td>-7.639450e-02</td>\n      <td>-1.260974e-01</td>\n      <td>-1.377672e-01</td>\n      <td>25.000000</td>\n    </tr>\n    <tr>\n      <th>25%</th>\n      <td>-3.729927e-02</td>\n      <td>-4.464164e-02</td>\n      <td>-3.422907e-02</td>\n      <td>-3.665645e-02</td>\n      <td>-3.424784e-02</td>\n      <td>-3.035840e-02</td>\n      <td>-3.511716e-02</td>\n      <td>-3.949338e-02</td>\n      <td>-3.324879e-02</td>\n      <td>-3.317903e-02</td>\n      <td>87.000000</td>\n    </tr>\n    <tr>\n      <th>50%</th>\n      <td>5.383060e-03</td>\n      <td>-4.464164e-02</td>\n      <td>-7.283766e-03</td>\n      <td>-5.670611e-03</td>\n      <td>-4.320866e-03</td>\n      <td>-3.819065e-03</td>\n      <td>-6.584468e-03</td>\n      <td>-2.592262e-03</td>\n      <td>-1.947634e-03</td>\n      <td>-1.077698e-03</td>\n      <td>140.500000</td>\n    </tr>\n    <tr>\n      <th>75%</th>\n      <td>3.807591e-02</td>\n      <td>5.068012e-02</td>\n      <td>3.124802e-02</td>\n      <td>3.564384e-02</td>\n      <td>2.835801e-02</td>\n      <td>2.984439e-02</td>\n      <td>2.931150e-02</td>\n      <td>3.430886e-02</td>\n      <td>3.243323e-02</td>\n      <td>2.791705e-02</td>\n      <td>211.500000</td>\n    </tr>\n    <tr>\n      <th>max</th>\n      <td>1.107267e-01</td>\n      <td>5.068012e-02</td>\n      <td>1.705552e-01</td>\n      <td>1.320442e-01</td>\n      <td>1.539137e-01</td>\n      <td>1.987880e-01</td>\n      <td>1.811791e-01</td>\n      <td>1.852344e-01</td>\n      <td>1.335990e-01</td>\n      <td>1.356118e-01</td>\n      <td>346.000000</td>\n    </tr>\n  </tbody>\n</table>\n</div>"
     },
     "metadata": {},
     "execution_count": 3
    }
   ],
   "source": [
    "df_diabetes.describe()"
   ]
  },
  {
   "cell_type": "code",
   "execution_count": 4,
   "metadata": {},
   "outputs": [
    {
     "output_type": "execute_result",
     "data": {
      "text/plain": [
       "((397, 10), (45, 10), (397,), (45,))"
      ]
     },
     "metadata": {},
     "execution_count": 4
    }
   ],
   "source": [
    "#(4) train, test 데이터셋으로 분할하기. \n",
    "X_train,X_test,y_train,y_test = train_test_split(\n",
    "    df_diabetes.iloc[:,:-1], df_diabetes.iloc[:,-1], test_size=0.1, random_state=2021\n",
    ")\n",
    "X_train.shape, X_test.shape, y_train.shape, y_test.shape"
   ]
  },
  {
   "cell_type": "code",
   "execution_count": 5,
   "metadata": {},
   "outputs": [
    {
     "output_type": "execute_result",
     "data": {
      "text/plain": [
       "{'copy_X': True,\n",
       " 'fit_intercept': True,\n",
       " 'n_jobs': None,\n",
       " 'normalize': False,\n",
       " 'positive': False}"
      ]
     },
     "metadata": {},
     "execution_count": 5
    }
   ],
   "source": [
    "#(5) 모델 설정하기. \n",
    "lr = LinearRegression()\n",
    "\n",
    "#(6) 모델의 하이퍼파라미터? 확인하기. \n",
    "lr.get_params()"
   ]
  },
  {
   "cell_type": "code",
   "execution_count": 6,
   "metadata": {},
   "outputs": [],
   "source": [
    "#MEMO. 하이퍼파라미터 의미 해석하기. \n",
    "#      fit_intercept = 절편(intercept 혹은 딥러닝에서의 bias) 계산 여부\n",
    "#      positivebool  = 계수(coefficient 혹은 딥러닝에서의 weight)를 양수로 강제로 지정할지에 대한 여부\n",
    "#      ..."
   ]
  },
  {
   "cell_type": "code",
   "execution_count": 7,
   "metadata": {},
   "outputs": [
    {
     "output_type": "execute_result",
     "data": {
      "text/plain": [
       "LinearRegression()"
      ]
     },
     "metadata": {},
     "execution_count": 7
    }
   ],
   "source": [
    "#(7) 모델 학습하기. \n",
    "lr.fit(X_train,y_train)"
   ]
  },
  {
   "cell_type": "code",
   "execution_count": 8,
   "metadata": {},
   "outputs": [
    {
     "output_type": "execute_result",
     "data": {
      "text/plain": [
       "'Linear Regression`s R^2 = 0.4558, RMSE = 48.6847'"
      ]
     },
     "metadata": {},
     "execution_count": 8
    }
   ],
   "source": [
    "#(8) 모델 예측 및 평가하기. \n",
    "lr_pred = lr.predict(X_test)\n",
    "lr_r2 = r2_score(y_test, lr_pred)\n",
    "lr_rmse = np.sqrt(mean_squared_error(y_test,lr_pred))\n",
    "f'Linear Regression`s R^2 = {lr_r2:.4f}, RMSE = {lr_rmse:.4F}'"
   ]
  },
  {
   "cell_type": "code",
   "execution_count": 32,
   "metadata": {},
   "outputs": [
    {
     "output_type": "execute_result",
     "data": {
      "text/plain": [
       "GridSearchCV(cv=10, estimator=SVR(),\n",
       "             param_grid={'C': [11, 11.1, 11.2, 11.3, 11.4, 11.5, 11.6, 11.7,\n",
       "                               11.8, 11.9, 12, 12.1, 12.2, 12.3, 12.4, 12.5,\n",
       "                               12.6, 12.7, 12.8, 12.9, 13]})"
      ]
     },
     "metadata": {},
     "execution_count": 32
    }
   ],
   "source": [
    "#02. Diabetes 데이터셋을 SVR 모델로 예측하기.\n",
    "#(1) 모델 설정하기. \n",
    "svr = SVR()\n",
    "\n",
    "#(2) 하이퍼파라미터 설정하기. \n",
    "svr_params = {'C':[11,11.1,11.2,11.3,11.4,11.5,11.6,11.7,11.8,11.9,12,12.1,12.2,12.3,12.4,12.5,12.6,12.7,12.8,12.9,13]}\n",
    "\n",
    "#(3) 그리드서치 모델 설정하기. \n",
    "gscv_svr = GridSearchCV(estimator=svr, param_grid=svr_params, cv=10)\n",
    "\n",
    "#(4) 모델 학습하기. \n",
    "gscv_svr.fit(X_train,y_train)"
   ]
  },
  {
   "cell_type": "code",
   "execution_count": 33,
   "metadata": {},
   "outputs": [
    {
     "output_type": "execute_result",
     "data": {
      "text/plain": [
       "{'C': 12}"
      ]
     },
     "metadata": {},
     "execution_count": 33
    }
   ],
   "source": [
    "#(5) 최적 파라미터 구하기. \n",
    "gscv_svr.best_params_"
   ]
  },
  {
   "cell_type": "code",
   "execution_count": 34,
   "metadata": {},
   "outputs": [
    {
     "output_type": "execute_result",
     "data": {
      "text/plain": [
       "0.46317328783499023"
      ]
     },
     "metadata": {},
     "execution_count": 34
    }
   ],
   "source": [
    "#(6) 최적 파라미터에 의거한 validation score 파악하기. \n",
    "gscv_svr.best_score_"
   ]
  },
  {
   "cell_type": "code",
   "execution_count": 35,
   "metadata": {},
   "outputs": [
    {
     "output_type": "execute_result",
     "data": {
      "text/plain": [
       "'SVR`s R^2 = 0.4038, RMSE = 50.9588'"
      ]
     },
     "metadata": {},
     "execution_count": 35
    }
   ],
   "source": [
    "#(7) 모델 예측 및 평가하기. \n",
    "gscv_svr_fit = gscv_svr.best_estimator_\n",
    "gscv_svr_pred = gscv_svr_fit.predict(X_test)\n",
    "svr_r2 = r2_score(y_test, gscv_svr_pred)\n",
    "svr_rmse = np.sqrt(mean_squared_error(y_test,gscv_svr_pred))\n",
    "f'SVR`s R^2 = {svr_r2:.4f}, RMSE = {svr_rmse:.4F}'"
   ]
  },
  {
   "cell_type": "code",
   "execution_count": 13,
   "metadata": {},
   "outputs": [
    {
     "output_type": "execute_result",
     "data": {
      "text/plain": [
       "{'ccp_alpha': 0.0,\n",
       " 'criterion': 'mse',\n",
       " 'max_depth': None,\n",
       " 'max_features': None,\n",
       " 'max_leaf_nodes': None,\n",
       " 'min_impurity_decrease': 0.0,\n",
       " 'min_impurity_split': None,\n",
       " 'min_samples_leaf': 1,\n",
       " 'min_samples_split': 2,\n",
       " 'min_weight_fraction_leaf': 0.0,\n",
       " 'random_state': None,\n",
       " 'splitter': 'best'}"
      ]
     },
     "metadata": {},
     "execution_count": 13
    }
   ],
   "source": [
    "#02. Diabetes 데이터셋을 Decision Tree 모델로 예측하기.\n",
    "#(1) 모델 설정하기. \n",
    "dt = DecisionTreeRegressor()\n",
    "\n",
    "#(2) 모델의 하이퍼파라미터 확인하기. \n",
    "dt.get_params()"
   ]
  },
  {
   "cell_type": "code",
   "execution_count": 19,
   "metadata": {
    "tags": []
   },
   "outputs": [
    {
     "output_type": "execute_result",
     "data": {
      "text/plain": [
       "GridSearchCV(cv=10, estimator=DecisionTreeRegressor(),\n",
       "             param_grid={'max_depth': [3, 4, 5, 6, 7, 8],\n",
       "                         'min_samples_split': [140, 141, 142, 143, 144, 145,\n",
       "                                               146, 147, 148, 149, 150]})"
      ]
     },
     "metadata": {},
     "execution_count": 19
    }
   ],
   "source": [
    "#(3) 하이퍼파라미터 설정하기. \n",
    "dt_params = {\n",
    "    'max_depth':[3,4,5,6,7,8],\n",
    "    'min_samples_split': [140,141,142,143,144,145,146,147,148,149,150]\n",
    "}\n",
    "\n",
    "#(3) 그리드서치 모델 설정하기. \n",
    "gscv_dt = GridSearchCV(estimator=dt, param_grid=dt_params, cv=10)\n",
    "\n",
    "#(4) 모델 학습하기. \n",
    "gscv_dt.fit(X_train,y_train)"
   ]
  },
  {
   "cell_type": "code",
   "execution_count": 21,
   "metadata": {},
   "outputs": [
    {
     "output_type": "execute_result",
     "data": {
      "text/plain": [
       "{'max_depth': 4, 'min_samples_split': 143}"
      ]
     },
     "metadata": {},
     "execution_count": 21
    }
   ],
   "source": [
    "#(5) 최적 파라미터 구하기. \n",
    "gscv_dt.best_params_"
   ]
  },
  {
   "cell_type": "code",
   "execution_count": 16,
   "metadata": {},
   "outputs": [
    {
     "output_type": "execute_result",
     "data": {
      "text/plain": [
       "0.3068299854416371"
      ]
     },
     "metadata": {},
     "execution_count": 16
    }
   ],
   "source": [
    "#(6) 최적 파라미터에 의거한 validation score 파악하기. \n",
    "gscv_dt.best_score_"
   ]
  },
  {
   "cell_type": "code",
   "execution_count": 17,
   "metadata": {},
   "outputs": [
    {
     "output_type": "execute_result",
     "data": {
      "text/plain": [
       "'DT`s R^2 = 0.1477, RMSE = 60.9307'"
      ]
     },
     "metadata": {},
     "execution_count": 17
    }
   ],
   "source": [
    "#(7) 모델 예측 및 평가하기. \n",
    "gscv_dt_fit = gscv_dt.best_estimator_\n",
    "gscv_dt_pred = gscv_dt_fit.predict(X_test)\n",
    "dt_r2 = r2_score(y_test, gscv_dt_pred)\n",
    "dt_rmse = np.sqrt(mean_squared_error(y_test,gscv_dt_pred))\n",
    "f'DT`s R^2 = {dt_r2:.4f}, RMSE = {dt_rmse:.4F}'"
   ]
  },
  {
   "cell_type": "code",
   "execution_count": 18,
   "metadata": {},
   "outputs": [
    {
     "output_type": "execute_result",
     "data": {
      "text/plain": [
       "     y_test     lr_pred    svr_pred     dt_pred\n",
       "50    155.0  156.031216  139.798613  104.835443\n",
       "369   167.0  185.700495  172.559212  159.552632\n",
       "13    185.0  162.863840  136.386753  163.037037\n",
       "353   109.0  162.545441  167.900015  163.037037\n",
       "34     65.0   78.518494   95.644334  104.835443"
      ],
      "text/html": "<div>\n<style scoped>\n    .dataframe tbody tr th:only-of-type {\n        vertical-align: middle;\n    }\n\n    .dataframe tbody tr th {\n        vertical-align: top;\n    }\n\n    .dataframe thead th {\n        text-align: right;\n    }\n</style>\n<table border=\"1\" class=\"dataframe\">\n  <thead>\n    <tr style=\"text-align: right;\">\n      <th></th>\n      <th>y_test</th>\n      <th>lr_pred</th>\n      <th>svr_pred</th>\n      <th>dt_pred</th>\n    </tr>\n  </thead>\n  <tbody>\n    <tr>\n      <th>50</th>\n      <td>155.0</td>\n      <td>156.031216</td>\n      <td>139.798613</td>\n      <td>104.835443</td>\n    </tr>\n    <tr>\n      <th>369</th>\n      <td>167.0</td>\n      <td>185.700495</td>\n      <td>172.559212</td>\n      <td>159.552632</td>\n    </tr>\n    <tr>\n      <th>13</th>\n      <td>185.0</td>\n      <td>162.863840</td>\n      <td>136.386753</td>\n      <td>163.037037</td>\n    </tr>\n    <tr>\n      <th>353</th>\n      <td>109.0</td>\n      <td>162.545441</td>\n      <td>167.900015</td>\n      <td>163.037037</td>\n    </tr>\n    <tr>\n      <th>34</th>\n      <td>65.0</td>\n      <td>78.518494</td>\n      <td>95.644334</td>\n      <td>104.835443</td>\n    </tr>\n  </tbody>\n</table>\n</div>"
     },
     "metadata": {},
     "execution_count": 18
    }
   ],
   "source": [
    "#04. y_test, lr_pred, svr_pred, dt_pred를 통한 데이터프레임 만들기.\n",
    "predict = pd.DataFrame({'y_test'   : y_test,\n",
    "                        'lr_pred'  : lr_pred,\n",
    "                        'svr_pred' : gscv_svr_pred,\n",
    "                        'dt_pred'  : gscv_dt_pred\n",
    "                        })\n",
    "predict.head(5)"
   ]
  }
 ]
}