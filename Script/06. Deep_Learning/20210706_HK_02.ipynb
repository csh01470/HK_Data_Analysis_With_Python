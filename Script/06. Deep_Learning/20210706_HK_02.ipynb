{
 "metadata": {
  "language_info": {
   "codemirror_mode": {
    "name": "ipython",
    "version": 3
   },
   "file_extension": ".py",
   "mimetype": "text/x-python",
   "name": "python",
   "nbconvert_exporter": "python",
   "pygments_lexer": "ipython3",
   "version": "3.8.10"
  },
  "orig_nbformat": 4,
  "kernelspec": {
   "name": "python3",
   "display_name": "Python 3.8.10 64-bit ('base': conda)"
  },
  "interpreter": {
   "hash": "5b56da8208ae380fa2c15171ec3bd1c59fd37e61d99a7ebd9f8c7e6e7af5d3db"
  }
 },
 "nbformat": 4,
 "nbformat_minor": 2,
 "cells": [
  {
   "cell_type": "code",
   "execution_count": 1,
   "metadata": {},
   "outputs": [],
   "source": [
    "#2021.07.05. MON\n",
    "#Hankyeong\n",
    "\n",
    "#00. 패키지 호출\n",
    "import numpy as np \n",
    "import pandas as pd\n",
    "import matplotlib.pyplot as plt \n",
    "import warnings \n",
    "import re\n",
    "import tensorflow as tf\n",
    "from tensorflow.keras.preprocessing.text import Tokenizer\n",
    "from tensorflow.keras.preprocessing.sequence import pad_sequences\n",
    "from tensorflow.keras.utils import to_categorical\n",
    "from tensorflow.keras.models import Sequential, load_model\n",
    "from tensorflow.keras.layers import Dense, Embedding, GRU\n",
    "from tensorflow.keras.callbacks import ModelCheckpoint, EarlyStopping\n",
    "from scipy.linalg import toeplitz\n",
    "\n",
    "#00-1. 시각화 옵션 설정\n",
    "%matplotlib inline\n",
    "\n",
    "#00-2. warning message ignore\n",
    "warnings.filterwarnings(action='ignore')\n",
    "\n",
    "#00-3. 씨드넘버 설정\n",
    "np.random.seed(2021)\n",
    "tf.random.set_seed(2021)\n"
   ]
  },
  {
   "cell_type": "code",
   "execution_count": 2,
   "metadata": {},
   "outputs": [
    {
     "output_type": "execute_result",
     "data": {
      "text/plain": [
       "                     articleID  articleWordCount  \\\n",
       "0     5adf6684068401528a2aa69b               781   \n",
       "1     5adf653f068401528a2aa697               656   \n",
       "2     5adf4626068401528a2aa628              2427   \n",
       "3     5adf40d2068401528a2aa619               626   \n",
       "4     5adf3d64068401528a2aa60f               815   \n",
       "...                        ...               ...   \n",
       "1319  5ae82c93068401528a2ab969              1004   \n",
       "1320  5ae82c95068401528a2ab96b              1043   \n",
       "1321  5ae82c9d068401528a2ab96d               659   \n",
       "1322  5ae82c9f068401528a2ab96f              1155   \n",
       "1323  5ae82ca3068401528a2ab97a              2055   \n",
       "\n",
       "                                         byline documentType  \\\n",
       "0                                By JOHN BRANCH      article   \n",
       "1                              By LISA FRIEDMAN      article   \n",
       "2                                 By PETE WELLS      article   \n",
       "3     By JULIE HIRSCHFELD DAVIS and PETER BAKER      article   \n",
       "4                By IAN AUSTEN and DAN BILEFSKY      article   \n",
       "...                                         ...          ...   \n",
       "1319                      By CLAIRE CAIN MILLER      article   \n",
       "1320                          By TRACY J. GATES      article   \n",
       "1321                 Interview by AUDIE CORNISH      article   \n",
       "1322                      By JASON ROBERT BROWN      article   \n",
       "1323                         By MICHAEL PAULSON      article   \n",
       "\n",
       "                                               headline  \\\n",
       "0     Former N.F.L. Cheerleadersâ Settlement Offer...   \n",
       "1     E.P.A. to Unveil a New Rule. Its Effect: Less ...   \n",
       "2                               The New Noma, Explained   \n",
       "3                                               Unknown   \n",
       "4                                               Unknown   \n",
       "...                                                 ...   \n",
       "1319  This Common Question Reinforces the Gender Pay...   \n",
       "1320                                 Anna, Llama and Me   \n",
       "1321         Gen. Michael Hayden Has One Regret: Russia   \n",
       "1322                     There Is Nothinâ Like a Tune   \n",
       "1323                                            Unknown   \n",
       "\n",
       "                                               keywords  multimedia  \\\n",
       "0     ['Workplace Hazards and Violations', 'Football...          68   \n",
       "1     ['Environmental Protection Agency', 'Pruitt, S...          68   \n",
       "2     ['Restaurants', 'Noma (Copenhagen, Restaurant)...          66   \n",
       "3     ['Macron, Emmanuel (1977- )', 'Trump, Donald J...          68   \n",
       "4     ['Toronto, Ontario, Attack (April, 2018)', 'Mu...          68   \n",
       "...                                                 ...         ...   \n",
       "1319  ['Discrimination', 'Wages and Salaries', 'Labo...          68   \n",
       "1320  ['Friendship', 'Dewdney, Anna', 'Writing and W...          65   \n",
       "1321  ['Classified Information and State Secrets', '...          66   \n",
       "1322  ['Books and Literature', 'Purdum, Todd S', 'Th...          68   \n",
       "1323  ['Theater', 'Tony Awards (Theater Awards)', 'A...          68   \n",
       "\n",
       "         newDesk  printPage              pubDate   sectionName  \\\n",
       "0         Sports          0  2018-04-24 17:16:49  Pro Football   \n",
       "1        Climate          0  2018-04-24 17:11:21       Unknown   \n",
       "2         Dining          0  2018-04-24 14:58:44       Unknown   \n",
       "3     Washington          0  2018-04-24 14:35:57        Europe   \n",
       "4        Foreign          0  2018-04-24 14:21:21        Canada   \n",
       "...          ...        ...                  ...           ...   \n",
       "1319      Upshot          3  2018-05-01 09:00:01       Unknown   \n",
       "1320        Well          0  2018-05-01 09:00:02        Family   \n",
       "1321    Magazine         70  2018-05-01 09:00:06       Unknown   \n",
       "1322  BookReview         17  2018-05-01 09:00:07   Book Review   \n",
       "1323     Culture          0  2018-05-01 09:00:09       Unknown   \n",
       "\n",
       "                                                snippet              source  \\\n",
       "0     âI understand that they could meet with us, ...  The New York Times   \n",
       "1     The agency plans to publish a new regulation T...  The New York Times   \n",
       "2     Whatâs it like to eat at the second incarnat...  The New York Times   \n",
       "3     President Trump welcomed President Emmanuel Ma...  The New York Times   \n",
       "4     Alek Minassian, 25, a resident of Torontoâs ...  The New York Times   \n",
       "...                                                 ...                 ...   \n",
       "1319  Several states and cities have ordered employe...  The New York Times   \n",
       "1320  The beginning, middle and end of a picture boo...  The New York Times   \n",
       "1321  The former N.S.A. and C.I.A. chief on Trump, S...  The New York Times   \n",
       "1322  In âSomething Wonderful,â Todd S. Purdum a...  The New York Times   \n",
       "1323  A pair of two-part productions, âHarry Potte...  The New York Times   \n",
       "\n",
       "     typeOfMaterial                                             webURL  \n",
       "0              News  https://www.nytimes.com/2018/04/24/sports/foot...  \n",
       "1              News  https://www.nytimes.com/2018/04/24/climate/epa...  \n",
       "2              News  https://www.nytimes.com/2018/04/24/dining/noma...  \n",
       "3              News  https://www.nytimes.com/2018/04/24/world/europ...  \n",
       "4              News  https://www.nytimes.com/2018/04/24/world/canad...  \n",
       "...             ...                                                ...  \n",
       "1319           News  https://www.nytimes.com/2018/05/01/upshot/how-...  \n",
       "1320           News  https://www.nytimes.com/2018/05/01/well/family...  \n",
       "1321           News  https://www.nytimes.com/2018/05/01/magazine/ge...  \n",
       "1322         Review  https://www.nytimes.com/2018/05/01/books/revie...  \n",
       "1323           News  https://www.nytimes.com/2018/05/01/theater/ton...  \n",
       "\n",
       "[1324 rows x 15 columns]"
      ],
      "text/html": "<div>\n<style scoped>\n    .dataframe tbody tr th:only-of-type {\n        vertical-align: middle;\n    }\n\n    .dataframe tbody tr th {\n        vertical-align: top;\n    }\n\n    .dataframe thead th {\n        text-align: right;\n    }\n</style>\n<table border=\"1\" class=\"dataframe\">\n  <thead>\n    <tr style=\"text-align: right;\">\n      <th></th>\n      <th>articleID</th>\n      <th>articleWordCount</th>\n      <th>byline</th>\n      <th>documentType</th>\n      <th>headline</th>\n      <th>keywords</th>\n      <th>multimedia</th>\n      <th>newDesk</th>\n      <th>printPage</th>\n      <th>pubDate</th>\n      <th>sectionName</th>\n      <th>snippet</th>\n      <th>source</th>\n      <th>typeOfMaterial</th>\n      <th>webURL</th>\n    </tr>\n  </thead>\n  <tbody>\n    <tr>\n      <th>0</th>\n      <td>5adf6684068401528a2aa69b</td>\n      <td>781</td>\n      <td>By JOHN BRANCH</td>\n      <td>article</td>\n      <td>Former N.F.L. Cheerleadersâ Settlement Offer...</td>\n      <td>['Workplace Hazards and Violations', 'Football...</td>\n      <td>68</td>\n      <td>Sports</td>\n      <td>0</td>\n      <td>2018-04-24 17:16:49</td>\n      <td>Pro Football</td>\n      <td>âI understand that they could meet with us, ...</td>\n      <td>The New York Times</td>\n      <td>News</td>\n      <td>https://www.nytimes.com/2018/04/24/sports/foot...</td>\n    </tr>\n    <tr>\n      <th>1</th>\n      <td>5adf653f068401528a2aa697</td>\n      <td>656</td>\n      <td>By LISA FRIEDMAN</td>\n      <td>article</td>\n      <td>E.P.A. to Unveil a New Rule. Its Effect: Less ...</td>\n      <td>['Environmental Protection Agency', 'Pruitt, S...</td>\n      <td>68</td>\n      <td>Climate</td>\n      <td>0</td>\n      <td>2018-04-24 17:11:21</td>\n      <td>Unknown</td>\n      <td>The agency plans to publish a new regulation T...</td>\n      <td>The New York Times</td>\n      <td>News</td>\n      <td>https://www.nytimes.com/2018/04/24/climate/epa...</td>\n    </tr>\n    <tr>\n      <th>2</th>\n      <td>5adf4626068401528a2aa628</td>\n      <td>2427</td>\n      <td>By PETE WELLS</td>\n      <td>article</td>\n      <td>The New Noma, Explained</td>\n      <td>['Restaurants', 'Noma (Copenhagen, Restaurant)...</td>\n      <td>66</td>\n      <td>Dining</td>\n      <td>0</td>\n      <td>2018-04-24 14:58:44</td>\n      <td>Unknown</td>\n      <td>Whatâs it like to eat at the second incarnat...</td>\n      <td>The New York Times</td>\n      <td>News</td>\n      <td>https://www.nytimes.com/2018/04/24/dining/noma...</td>\n    </tr>\n    <tr>\n      <th>3</th>\n      <td>5adf40d2068401528a2aa619</td>\n      <td>626</td>\n      <td>By JULIE HIRSCHFELD DAVIS and PETER BAKER</td>\n      <td>article</td>\n      <td>Unknown</td>\n      <td>['Macron, Emmanuel (1977- )', 'Trump, Donald J...</td>\n      <td>68</td>\n      <td>Washington</td>\n      <td>0</td>\n      <td>2018-04-24 14:35:57</td>\n      <td>Europe</td>\n      <td>President Trump welcomed President Emmanuel Ma...</td>\n      <td>The New York Times</td>\n      <td>News</td>\n      <td>https://www.nytimes.com/2018/04/24/world/europ...</td>\n    </tr>\n    <tr>\n      <th>4</th>\n      <td>5adf3d64068401528a2aa60f</td>\n      <td>815</td>\n      <td>By IAN AUSTEN and DAN BILEFSKY</td>\n      <td>article</td>\n      <td>Unknown</td>\n      <td>['Toronto, Ontario, Attack (April, 2018)', 'Mu...</td>\n      <td>68</td>\n      <td>Foreign</td>\n      <td>0</td>\n      <td>2018-04-24 14:21:21</td>\n      <td>Canada</td>\n      <td>Alek Minassian, 25, a resident of Torontoâs ...</td>\n      <td>The New York Times</td>\n      <td>News</td>\n      <td>https://www.nytimes.com/2018/04/24/world/canad...</td>\n    </tr>\n    <tr>\n      <th>...</th>\n      <td>...</td>\n      <td>...</td>\n      <td>...</td>\n      <td>...</td>\n      <td>...</td>\n      <td>...</td>\n      <td>...</td>\n      <td>...</td>\n      <td>...</td>\n      <td>...</td>\n      <td>...</td>\n      <td>...</td>\n      <td>...</td>\n      <td>...</td>\n      <td>...</td>\n    </tr>\n    <tr>\n      <th>1319</th>\n      <td>5ae82c93068401528a2ab969</td>\n      <td>1004</td>\n      <td>By CLAIRE CAIN MILLER</td>\n      <td>article</td>\n      <td>This Common Question Reinforces the Gender Pay...</td>\n      <td>['Discrimination', 'Wages and Salaries', 'Labo...</td>\n      <td>68</td>\n      <td>Upshot</td>\n      <td>3</td>\n      <td>2018-05-01 09:00:01</td>\n      <td>Unknown</td>\n      <td>Several states and cities have ordered employe...</td>\n      <td>The New York Times</td>\n      <td>News</td>\n      <td>https://www.nytimes.com/2018/05/01/upshot/how-...</td>\n    </tr>\n    <tr>\n      <th>1320</th>\n      <td>5ae82c95068401528a2ab96b</td>\n      <td>1043</td>\n      <td>By TRACY J. GATES</td>\n      <td>article</td>\n      <td>Anna, Llama and Me</td>\n      <td>['Friendship', 'Dewdney, Anna', 'Writing and W...</td>\n      <td>65</td>\n      <td>Well</td>\n      <td>0</td>\n      <td>2018-05-01 09:00:02</td>\n      <td>Family</td>\n      <td>The beginning, middle and end of a picture boo...</td>\n      <td>The New York Times</td>\n      <td>News</td>\n      <td>https://www.nytimes.com/2018/05/01/well/family...</td>\n    </tr>\n    <tr>\n      <th>1321</th>\n      <td>5ae82c9d068401528a2ab96d</td>\n      <td>659</td>\n      <td>Interview by AUDIE CORNISH</td>\n      <td>article</td>\n      <td>Gen. Michael Hayden Has One Regret: Russia</td>\n      <td>['Classified Information and State Secrets', '...</td>\n      <td>66</td>\n      <td>Magazine</td>\n      <td>70</td>\n      <td>2018-05-01 09:00:06</td>\n      <td>Unknown</td>\n      <td>The former N.S.A. and C.I.A. chief on Trump, S...</td>\n      <td>The New York Times</td>\n      <td>News</td>\n      <td>https://www.nytimes.com/2018/05/01/magazine/ge...</td>\n    </tr>\n    <tr>\n      <th>1322</th>\n      <td>5ae82c9f068401528a2ab96f</td>\n      <td>1155</td>\n      <td>By JASON ROBERT BROWN</td>\n      <td>article</td>\n      <td>There Is Nothinâ Like a Tune</td>\n      <td>['Books and Literature', 'Purdum, Todd S', 'Th...</td>\n      <td>68</td>\n      <td>BookReview</td>\n      <td>17</td>\n      <td>2018-05-01 09:00:07</td>\n      <td>Book Review</td>\n      <td>In âSomething Wonderful,â Todd S. Purdum a...</td>\n      <td>The New York Times</td>\n      <td>Review</td>\n      <td>https://www.nytimes.com/2018/05/01/books/revie...</td>\n    </tr>\n    <tr>\n      <th>1323</th>\n      <td>5ae82ca3068401528a2ab97a</td>\n      <td>2055</td>\n      <td>By MICHAEL PAULSON</td>\n      <td>article</td>\n      <td>Unknown</td>\n      <td>['Theater', 'Tony Awards (Theater Awards)', 'A...</td>\n      <td>68</td>\n      <td>Culture</td>\n      <td>0</td>\n      <td>2018-05-01 09:00:09</td>\n      <td>Unknown</td>\n      <td>A pair of two-part productions, âHarry Potte...</td>\n      <td>The New York Times</td>\n      <td>News</td>\n      <td>https://www.nytimes.com/2018/05/01/theater/ton...</td>\n    </tr>\n  </tbody>\n</table>\n<p>1324 rows × 15 columns</p>\n</div>"
     },
     "metadata": {},
     "execution_count": 2
    }
   ],
   "source": [
    "#04. 데이터셋 불러오기 및 전처리하기. \n",
    "#(1) 데이터셋 불러오기. \n",
    "article = pd.read_csv('../../data/ArticlesApril2018.csv', encoding='latin1')\n",
    "article"
   ]
  },
  {
   "cell_type": "code",
   "execution_count": 3,
   "metadata": {},
   "outputs": [
    {
     "output_type": "execute_result",
     "data": {
      "text/plain": [
       "articleID           0\n",
       "articleWordCount    0\n",
       "byline              0\n",
       "documentType        0\n",
       "headline            0\n",
       "keywords            0\n",
       "multimedia          0\n",
       "newDesk             0\n",
       "printPage           0\n",
       "pubDate             0\n",
       "sectionName         0\n",
       "snippet             0\n",
       "source              0\n",
       "typeOfMaterial      0\n",
       "webURL              0\n",
       "dtype: int64"
      ]
     },
     "metadata": {},
     "execution_count": 3
    }
   ],
   "source": [
    "#(2) 데이터셋의 결측값 확인하기. \n",
    "article.isna().sum()"
   ]
  },
  {
   "cell_type": "code",
   "execution_count": 4,
   "metadata": {},
   "outputs": [
    {
     "output_type": "execute_result",
     "data": {
      "text/plain": [
       "0       Former N.F.L. Cheerleadersâ Settlement Offer...\n",
       "1       E.P.A. to Unveil a New Rule. Its Effect: Less ...\n",
       "2                                 The New Noma, Explained\n",
       "3                                                 Unknown\n",
       "4                                                 Unknown\n",
       "                              ...                        \n",
       "1319    This Common Question Reinforces the Gender Pay...\n",
       "1320                                   Anna, Llama and Me\n",
       "1321           Gen. Michael Hayden Has One Regret: Russia\n",
       "1322                       There Is Nothinâ Like a Tune\n",
       "1323                                              Unknown\n",
       "Name: headline, Length: 1324, dtype: object"
      ]
     },
     "metadata": {},
     "execution_count": 4
    }
   ],
   "source": [
    "#(2) 필요 변수만 추출하기. \n",
    "headlines = article['headline']\n",
    "headlines"
   ]
  },
  {
   "cell_type": "code",
   "execution_count": 5,
   "metadata": {},
   "outputs": [
    {
     "output_type": "execute_result",
     "data": {
      "text/plain": [
       "Index(['articleID', 'articleWordCount', 'byline', 'documentType', 'headline',\n",
       "       'keywords', 'multimedia', 'newDesk', 'printPage', 'pubDate',\n",
       "       'sectionName', 'snippet', 'source', 'typeOfMaterial', 'webURL'],\n",
       "      dtype='object')"
      ]
     },
     "metadata": {},
     "execution_count": 5
    }
   ],
   "source": [
    "#PLUS. 데이터프레임의 열 이름 확인하기. \n",
    "article.columns"
   ]
  },
  {
   "cell_type": "code",
   "execution_count": 6,
   "metadata": {},
   "outputs": [
    {
     "output_type": "execute_result",
     "data": {
      "text/plain": [
       "0       Former N.F.L. Cheerleadersâ Settlement Offer...\n",
       "1       E.P.A. to Unveil a New Rule. Its Effect: Less ...\n",
       "2                                 The New Noma, Explained\n",
       "8       How a Bag of Texas Dirt  Became a Times Tradition\n",
       "9                  Is School a Place for Self-Expression?\n",
       "                              ...                        \n",
       "1318    Dear Match Book: Fiction that Takes Us Back to...\n",
       "1319    This Common Question Reinforces the Gender Pay...\n",
       "1320                                   Anna, Llama and Me\n",
       "1321           Gen. Michael Hayden Has One Regret: Russia\n",
       "1322                       There Is Nothinâ Like a Tune\n",
       "Name: headline, Length: 1214, dtype: object"
      ]
     },
     "metadata": {},
     "execution_count": 6
    }
   ],
   "source": [
    "#(3) headlines 변수에 노이즈 데이터(Unknown) 제거하기. \n",
    "headlines[headlines=='Unknown'] = np.nan\n",
    "headlines = headlines.dropna()\n",
    "headlines"
   ]
  },
  {
   "cell_type": "code",
   "execution_count": 7,
   "metadata": {},
   "outputs": [
    {
     "output_type": "execute_result",
     "data": {
      "text/plain": [
       "['former nfl cheerleaders settlement offer  and a meeting with goodell',\n",
       " 'epa to unveil a new rule its effect less science in policymaking',\n",
       " 'the new noma explained',\n",
       " 'how a bag of texas dirt  became a times tradition',\n",
       " 'is school a place for selfexpression']"
      ]
     },
     "metadata": {},
     "execution_count": 7
    }
   ],
   "source": [
    "#(4) 소문자, 특수기호 처리하기.   \n",
    "headlines_pre = [] \n",
    "for headline in headlines :\n",
    "    headline_pre = re.sub('[^A-Za-z ]','',headline).lower()\n",
    "    headlines_pre.append(headline_pre)\n",
    "\n",
    "#(5) 처리 된 headline 확인하기. \n",
    "headlines_pre[:5]"
   ]
  },
  {
   "source": [
    "#(6) Tonkenizer 객체 지정하기. \n",
    "tokenizer = Tokenizer()\n",
    "\n",
    "#(7) 토큰화하기. \n",
    "tokenizer.fit_on_texts(headlines)\n",
    "\n",
    "#(8) 단어집합 설정하기. \n",
    "voca_size = len(tokenizer.word_index) +1 \n",
    "voca_size"
   ],
   "cell_type": "code",
   "metadata": {},
   "execution_count": 8,
   "outputs": [
    {
     "output_type": "execute_result",
     "data": {
      "text/plain": [
       "3596"
      ]
     },
     "metadata": {},
     "execution_count": 8
    }
   ]
  },
  {
   "cell_type": "code",
   "execution_count": 9,
   "metadata": {},
   "outputs": [
    {
     "output_type": "execute_result",
     "data": {
      "text/plain": [
       "[[104, 839],\n",
       " [104, 839, 1129],\n",
       " [104, 839, 1129, 595],\n",
       " [104, 839, 1129, 595, 7],\n",
       " [104, 839, 1129, 595, 7, 2],\n",
       " [104, 839, 1129, 595, 7, 2, 390],\n",
       " [104, 839, 1129, 595, 7, 2, 390, 10],\n",
       " [104, 839, 1129, 595, 7, 2, 390, 10, 1130],\n",
       " [3, 1131],\n",
       " [3, 1131, 2]]"
      ]
     },
     "metadata": {},
     "execution_count": 9
    }
   ],
   "source": [
    "#(9) headlines에 대해 정수 인코딩하기. \n",
    "sequences = []\n",
    "for line in headlines_pre :\n",
    "    encoded = tokenizer.texts_to_sequences([line])[0]\n",
    "    for i in range(1, len(encoded)):\n",
    "        sequence = encoded[:i+1]\n",
    "        sequences.append(sequence)\n",
    "\n",
    "#(10) 10개의 sample 출력하기.  \n",
    "sequences[:10]"
   ]
  },
  {
   "cell_type": "code",
   "execution_count": 10,
   "metadata": {},
   "outputs": [
    {
     "output_type": "execute_result",
     "data": {
      "text/plain": [
       "20"
      ]
     },
     "metadata": {},
     "execution_count": 10
    }
   ],
   "source": [
    "#(11) 패딩 처리 전 sequence의 최대 원소 수 파악하기.\n",
    "max_len = max(len(s) for s in sequences)\n",
    "max_len"
   ]
  },
  {
   "cell_type": "code",
   "execution_count": 11,
   "metadata": {},
   "outputs": [
    {
     "output_type": "execute_result",
     "data": {
      "text/plain": [
       "array([[   0,    0,    0, ...,    0,  104,  839],\n",
       "       [   0,    0,    0, ...,  104,  839, 1129],\n",
       "       [   0,    0,    0, ...,  839, 1129,  595],\n",
       "       ...,\n",
       "       [   0,    0,    0, ...,  234,    9,  117],\n",
       "       [   0,    0,    0, ...,    9,  117,    2],\n",
       "       [   0,    0,    0, ...,  117,    2, 1041]])"
      ]
     },
     "metadata": {},
     "execution_count": 11
    }
   ],
   "source": [
    "#(12) 패딩 처리하기. \n",
    "sequences_pad = pad_sequences(sequences, maxlen=max_len, padding='pre')\n",
    "sequences_pad"
   ]
  },
  {
   "cell_type": "code",
   "execution_count": 12,
   "metadata": {},
   "outputs": [
    {
     "output_type": "execute_result",
     "data": {
      "text/plain": [
       "((7290, 19), (7290, 3596))"
      ]
     },
     "metadata": {},
     "execution_count": 12
    }
   ],
   "source": [
    "#(13) feature, target 데이터셋으로 분할하기. \n",
    "X = sequences_pad[:,:-1]\n",
    "y = sequences_pad[:,-1]\n",
    "\n",
    "#(14) target 변수 원핫인코딩 처리하기. \n",
    "Y = to_categorical(y, num_classes=voca_size)\n",
    "\n",
    "#(15) feature, target 변수 차원 확인하기. \n",
    "X.shape, Y.shape"
   ]
  },
  {
   "cell_type": "code",
   "execution_count": 13,
   "metadata": {},
   "outputs": [
    {
     "output_type": "stream",
     "name": "stdout",
     "text": [
      "Model: \"sequential\"\n_________________________________________________________________\nLayer (type)                 Output Shape              Param #   \n=================================================================\nembedding (Embedding)        (None, 19, 10)            35960     \n_________________________________________________________________\ngru (GRU)                    (None, 128)               53760     \n_________________________________________________________________\ndense (Dense)                (None, 3596)              463884    \n=================================================================\nTotal params: 553,604\nTrainable params: 553,604\nNon-trainable params: 0\n_________________________________________________________________\n"
     ]
    }
   ],
   "source": [
    "#05. GRU을 이용해 텍스트 (미리보기) 생성하기. \n",
    "#(1) 모델 정의하기. \n",
    "model = Sequential([\n",
    "    Embedding(voca_size, 10, input_length=max_len-1),\n",
    "    GRU(128),\n",
    "    Dense(voca_size, activation='softmax')\n",
    "])\n",
    "\n",
    "#(2) 모델의 요약정보 확인하기. \n",
    "model.summary()"
   ]
  },
  {
   "cell_type": "code",
   "execution_count": 14,
   "metadata": {},
   "outputs": [
    {
     "output_type": "display_data",
     "data": {
      "text/plain": "<Figure size 864x576 with 1 Axes>",
      "image/svg+xml": "<?xml version=\"1.0\" encoding=\"utf-8\" standalone=\"no\"?>\r\n<!DOCTYPE svg PUBLIC \"-//W3C//DTD SVG 1.1//EN\"\r\n  \"http://www.w3.org/Graphics/SVG/1.1/DTD/svg11.dtd\">\r\n<!-- Created with matplotlib (https://matplotlib.org/) -->\r\n<svg height=\"469.281402pt\" version=\"1.1\" viewBox=\"0 0 697.3625 469.281402\" width=\"697.3625pt\" xmlns=\"http://www.w3.org/2000/svg\" xmlns:xlink=\"http://www.w3.org/1999/xlink\">\r\n <metadata>\r\n  <rdf:RDF xmlns:cc=\"http://creativecommons.org/ns#\" xmlns:dc=\"http://purl.org/dc/elements/1.1/\" xmlns:rdf=\"http://www.w3.org/1999/02/22-rdf-syntax-ns#\">\r\n   <cc:Work>\r\n    <dc:type rdf:resource=\"http://purl.org/dc/dcmitype/StillImage\"/>\r\n    <dc:date>2021-07-05T16:46:34.062623</dc:date>\r\n    <dc:format>image/svg+xml</dc:format>\r\n    <dc:creator>\r\n     <cc:Agent>\r\n      <dc:title>Matplotlib v3.3.4, https://matplotlib.org/</dc:title>\r\n     </cc:Agent>\r\n    </dc:creator>\r\n   </cc:Work>\r\n  </rdf:RDF>\r\n </metadata>\r\n <defs>\r\n  <style type=\"text/css\">*{stroke-linecap:butt;stroke-linejoin:round;}</style>\r\n </defs>\r\n <g id=\"figure_1\">\r\n  <g id=\"patch_1\">\r\n   <path d=\"M 0 469.281402 \r\nL 697.3625 469.281402 \r\nL 697.3625 0 \r\nL 0 0 \r\nz\r\n\" style=\"fill:none;\"/>\r\n  </g>\r\n  <g id=\"axes_1\">\r\n   <g id=\"patch_2\">\r\n    <path d=\"M 20.5625 445.403277 \r\nL 690.1625 445.403277 \r\nL 690.1625 10.523277 \r\nL 20.5625 10.523277 \r\nz\r\n\" style=\"fill:#ffffff;\"/>\r\n   </g>\r\n   <g id=\"matplotlib.axis_1\">\r\n    <g id=\"xtick_1\">\r\n     <g id=\"line2d_1\">\r\n      <defs>\r\n       <path d=\"M 0 0 \r\nL 0 3.5 \r\n\" id=\"md8d35f5be8\" style=\"stroke:#000000;stroke-width:0.8;\"/>\r\n      </defs>\r\n      <g>\r\n       <use style=\"stroke:#000000;stroke-width:0.8;\" x=\"50.998864\" xlink:href=\"#md8d35f5be8\" y=\"445.403277\"/>\r\n      </g>\r\n     </g>\r\n     <g id=\"text_1\">\r\n      <!-- 0 -->\r\n      <g transform=\"translate(47.817614 460.001715)scale(0.1 -0.1)\">\r\n       <defs>\r\n        <path d=\"M 31.78125 66.40625 \r\nQ 24.171875 66.40625 20.328125 58.90625 \r\nQ 16.5 51.421875 16.5 36.375 \r\nQ 16.5 21.390625 20.328125 13.890625 \r\nQ 24.171875 6.390625 31.78125 6.390625 \r\nQ 39.453125 6.390625 43.28125 13.890625 \r\nQ 47.125 21.390625 47.125 36.375 \r\nQ 47.125 51.421875 43.28125 58.90625 \r\nQ 39.453125 66.40625 31.78125 66.40625 \r\nz\r\nM 31.78125 74.21875 \r\nQ 44.046875 74.21875 50.515625 64.515625 \r\nQ 56.984375 54.828125 56.984375 36.375 \r\nQ 56.984375 17.96875 50.515625 8.265625 \r\nQ 44.046875 -1.421875 31.78125 -1.421875 \r\nQ 19.53125 -1.421875 13.0625 8.265625 \r\nQ 6.59375 17.96875 6.59375 36.375 \r\nQ 6.59375 54.828125 13.0625 64.515625 \r\nQ 19.53125 74.21875 31.78125 74.21875 \r\nz\r\n\" id=\"DejaVuSans-48\"/>\r\n       </defs>\r\n       <use xlink:href=\"#DejaVuSans-48\"/>\r\n      </g>\r\n     </g>\r\n    </g>\r\n    <g id=\"xtick_2\">\r\n     <g id=\"line2d_2\">\r\n      <g>\r\n       <use style=\"stroke:#000000;stroke-width:0.8;\" x=\"133.706374\" xlink:href=\"#md8d35f5be8\" y=\"445.403277\"/>\r\n      </g>\r\n     </g>\r\n     <g id=\"text_2\">\r\n      <!-- 25 -->\r\n      <g transform=\"translate(127.343874 460.001715)scale(0.1 -0.1)\">\r\n       <defs>\r\n        <path d=\"M 19.1875 8.296875 \r\nL 53.609375 8.296875 \r\nL 53.609375 0 \r\nL 7.328125 0 \r\nL 7.328125 8.296875 \r\nQ 12.9375 14.109375 22.625 23.890625 \r\nQ 32.328125 33.6875 34.8125 36.53125 \r\nQ 39.546875 41.84375 41.421875 45.53125 \r\nQ 43.3125 49.21875 43.3125 52.78125 \r\nQ 43.3125 58.59375 39.234375 62.25 \r\nQ 35.15625 65.921875 28.609375 65.921875 \r\nQ 23.96875 65.921875 18.8125 64.3125 \r\nQ 13.671875 62.703125 7.8125 59.421875 \r\nL 7.8125 69.390625 \r\nQ 13.765625 71.78125 18.9375 73 \r\nQ 24.125 74.21875 28.421875 74.21875 \r\nQ 39.75 74.21875 46.484375 68.546875 \r\nQ 53.21875 62.890625 53.21875 53.421875 \r\nQ 53.21875 48.921875 51.53125 44.890625 \r\nQ 49.859375 40.875 45.40625 35.40625 \r\nQ 44.1875 33.984375 37.640625 27.21875 \r\nQ 31.109375 20.453125 19.1875 8.296875 \r\nz\r\n\" id=\"DejaVuSans-50\"/>\r\n        <path d=\"M 10.796875 72.90625 \r\nL 49.515625 72.90625 \r\nL 49.515625 64.59375 \r\nL 19.828125 64.59375 \r\nL 19.828125 46.734375 \r\nQ 21.96875 47.46875 24.109375 47.828125 \r\nQ 26.265625 48.1875 28.421875 48.1875 \r\nQ 40.625 48.1875 47.75 41.5 \r\nQ 54.890625 34.8125 54.890625 23.390625 \r\nQ 54.890625 11.625 47.5625 5.09375 \r\nQ 40.234375 -1.421875 26.90625 -1.421875 \r\nQ 22.3125 -1.421875 17.546875 -0.640625 \r\nQ 12.796875 0.140625 7.71875 1.703125 \r\nL 7.71875 11.625 \r\nQ 12.109375 9.234375 16.796875 8.0625 \r\nQ 21.484375 6.890625 26.703125 6.890625 \r\nQ 35.15625 6.890625 40.078125 11.328125 \r\nQ 45.015625 15.765625 45.015625 23.390625 \r\nQ 45.015625 31 40.078125 35.4375 \r\nQ 35.15625 39.890625 26.703125 39.890625 \r\nQ 22.75 39.890625 18.8125 39.015625 \r\nQ 14.890625 38.140625 10.796875 36.28125 \r\nz\r\n\" id=\"DejaVuSans-53\"/>\r\n       </defs>\r\n       <use xlink:href=\"#DejaVuSans-50\"/>\r\n       <use x=\"63.623047\" xlink:href=\"#DejaVuSans-53\"/>\r\n      </g>\r\n     </g>\r\n    </g>\r\n    <g id=\"xtick_3\">\r\n     <g id=\"line2d_3\">\r\n      <g>\r\n       <use style=\"stroke:#000000;stroke-width:0.8;\" x=\"216.413883\" xlink:href=\"#md8d35f5be8\" y=\"445.403277\"/>\r\n      </g>\r\n     </g>\r\n     <g id=\"text_3\">\r\n      <!-- 50 -->\r\n      <g transform=\"translate(210.051383 460.001715)scale(0.1 -0.1)\">\r\n       <use xlink:href=\"#DejaVuSans-53\"/>\r\n       <use x=\"63.623047\" xlink:href=\"#DejaVuSans-48\"/>\r\n      </g>\r\n     </g>\r\n    </g>\r\n    <g id=\"xtick_4\">\r\n     <g id=\"line2d_4\">\r\n      <g>\r\n       <use style=\"stroke:#000000;stroke-width:0.8;\" x=\"299.121393\" xlink:href=\"#md8d35f5be8\" y=\"445.403277\"/>\r\n      </g>\r\n     </g>\r\n     <g id=\"text_4\">\r\n      <!-- 75 -->\r\n      <g transform=\"translate(292.758893 460.001715)scale(0.1 -0.1)\">\r\n       <defs>\r\n        <path d=\"M 8.203125 72.90625 \r\nL 55.078125 72.90625 \r\nL 55.078125 68.703125 \r\nL 28.609375 0 \r\nL 18.3125 0 \r\nL 43.21875 64.59375 \r\nL 8.203125 64.59375 \r\nz\r\n\" id=\"DejaVuSans-55\"/>\r\n       </defs>\r\n       <use xlink:href=\"#DejaVuSans-55\"/>\r\n       <use x=\"63.623047\" xlink:href=\"#DejaVuSans-53\"/>\r\n      </g>\r\n     </g>\r\n    </g>\r\n    <g id=\"xtick_5\">\r\n     <g id=\"line2d_5\">\r\n      <g>\r\n       <use style=\"stroke:#000000;stroke-width:0.8;\" x=\"381.828903\" xlink:href=\"#md8d35f5be8\" y=\"445.403277\"/>\r\n      </g>\r\n     </g>\r\n     <g id=\"text_5\">\r\n      <!-- 100 -->\r\n      <g transform=\"translate(372.285153 460.001715)scale(0.1 -0.1)\">\r\n       <defs>\r\n        <path d=\"M 12.40625 8.296875 \r\nL 28.515625 8.296875 \r\nL 28.515625 63.921875 \r\nL 10.984375 60.40625 \r\nL 10.984375 69.390625 \r\nL 28.421875 72.90625 \r\nL 38.28125 72.90625 \r\nL 38.28125 8.296875 \r\nL 54.390625 8.296875 \r\nL 54.390625 0 \r\nL 12.40625 0 \r\nz\r\n\" id=\"DejaVuSans-49\"/>\r\n       </defs>\r\n       <use xlink:href=\"#DejaVuSans-49\"/>\r\n       <use x=\"63.623047\" xlink:href=\"#DejaVuSans-48\"/>\r\n       <use x=\"127.246094\" xlink:href=\"#DejaVuSans-48\"/>\r\n      </g>\r\n     </g>\r\n    </g>\r\n    <g id=\"xtick_6\">\r\n     <g id=\"line2d_6\">\r\n      <g>\r\n       <use style=\"stroke:#000000;stroke-width:0.8;\" x=\"464.536413\" xlink:href=\"#md8d35f5be8\" y=\"445.403277\"/>\r\n      </g>\r\n     </g>\r\n     <g id=\"text_6\">\r\n      <!-- 125 -->\r\n      <g transform=\"translate(454.992663 460.001715)scale(0.1 -0.1)\">\r\n       <use xlink:href=\"#DejaVuSans-49\"/>\r\n       <use x=\"63.623047\" xlink:href=\"#DejaVuSans-50\"/>\r\n       <use x=\"127.246094\" xlink:href=\"#DejaVuSans-53\"/>\r\n      </g>\r\n     </g>\r\n    </g>\r\n    <g id=\"xtick_7\">\r\n     <g id=\"line2d_7\">\r\n      <g>\r\n       <use style=\"stroke:#000000;stroke-width:0.8;\" x=\"547.243923\" xlink:href=\"#md8d35f5be8\" y=\"445.403277\"/>\r\n      </g>\r\n     </g>\r\n     <g id=\"text_7\">\r\n      <!-- 150 -->\r\n      <g transform=\"translate(537.700173 460.001715)scale(0.1 -0.1)\">\r\n       <use xlink:href=\"#DejaVuSans-49\"/>\r\n       <use x=\"63.623047\" xlink:href=\"#DejaVuSans-53\"/>\r\n       <use x=\"127.246094\" xlink:href=\"#DejaVuSans-48\"/>\r\n      </g>\r\n     </g>\r\n    </g>\r\n    <g id=\"xtick_8\">\r\n     <g id=\"line2d_8\">\r\n      <g>\r\n       <use style=\"stroke:#000000;stroke-width:0.8;\" x=\"629.951433\" xlink:href=\"#md8d35f5be8\" y=\"445.403277\"/>\r\n      </g>\r\n     </g>\r\n     <g id=\"text_8\">\r\n      <!-- 175 -->\r\n      <g transform=\"translate(620.407683 460.001715)scale(0.1 -0.1)\">\r\n       <use xlink:href=\"#DejaVuSans-49\"/>\r\n       <use x=\"63.623047\" xlink:href=\"#DejaVuSans-55\"/>\r\n       <use x=\"127.246094\" xlink:href=\"#DejaVuSans-53\"/>\r\n      </g>\r\n     </g>\r\n    </g>\r\n   </g>\r\n   <g id=\"matplotlib.axis_2\">\r\n    <g id=\"ytick_1\">\r\n     <g id=\"line2d_9\">\r\n      <defs>\r\n       <path d=\"M 0 0 \r\nL -3.5 0 \r\n\" id=\"m6561bde370\" style=\"stroke:#000000;stroke-width:0.8;\"/>\r\n      </defs>\r\n      <g>\r\n       <use style=\"stroke:#000000;stroke-width:0.8;\" x=\"20.5625\" xlink:href=\"#m6561bde370\" y=\"427.127273\"/>\r\n      </g>\r\n     </g>\r\n     <g id=\"text_9\">\r\n      <!-- 0 -->\r\n      <g transform=\"translate(7.2 430.926491)scale(0.1 -0.1)\">\r\n       <use xlink:href=\"#DejaVuSans-48\"/>\r\n      </g>\r\n     </g>\r\n    </g>\r\n    <g id=\"ytick_2\">\r\n     <g id=\"line2d_10\">\r\n      <g>\r\n       <use style=\"stroke:#000000;stroke-width:0.8;\" x=\"20.5625\" xlink:href=\"#m6561bde370\" y=\"375.111266\"/>\r\n      </g>\r\n     </g>\r\n     <g id=\"text_10\">\r\n      <!-- 1 -->\r\n      <g transform=\"translate(7.2 378.910485)scale(0.1 -0.1)\">\r\n       <use xlink:href=\"#DejaVuSans-49\"/>\r\n      </g>\r\n     </g>\r\n    </g>\r\n    <g id=\"ytick_3\">\r\n     <g id=\"line2d_11\">\r\n      <g>\r\n       <use style=\"stroke:#000000;stroke-width:0.8;\" x=\"20.5625\" xlink:href=\"#m6561bde370\" y=\"323.095259\"/>\r\n      </g>\r\n     </g>\r\n     <g id=\"text_11\">\r\n      <!-- 2 -->\r\n      <g transform=\"translate(7.2 326.894478)scale(0.1 -0.1)\">\r\n       <use xlink:href=\"#DejaVuSans-50\"/>\r\n      </g>\r\n     </g>\r\n    </g>\r\n    <g id=\"ytick_4\">\r\n     <g id=\"line2d_12\">\r\n      <g>\r\n       <use style=\"stroke:#000000;stroke-width:0.8;\" x=\"20.5625\" xlink:href=\"#m6561bde370\" y=\"271.079252\"/>\r\n      </g>\r\n     </g>\r\n     <g id=\"text_12\">\r\n      <!-- 3 -->\r\n      <g transform=\"translate(7.2 274.878471)scale(0.1 -0.1)\">\r\n       <defs>\r\n        <path d=\"M 40.578125 39.3125 \r\nQ 47.65625 37.796875 51.625 33 \r\nQ 55.609375 28.21875 55.609375 21.1875 \r\nQ 55.609375 10.40625 48.1875 4.484375 \r\nQ 40.765625 -1.421875 27.09375 -1.421875 \r\nQ 22.515625 -1.421875 17.65625 -0.515625 \r\nQ 12.796875 0.390625 7.625 2.203125 \r\nL 7.625 11.71875 \r\nQ 11.71875 9.328125 16.59375 8.109375 \r\nQ 21.484375 6.890625 26.8125 6.890625 \r\nQ 36.078125 6.890625 40.9375 10.546875 \r\nQ 45.796875 14.203125 45.796875 21.1875 \r\nQ 45.796875 27.640625 41.28125 31.265625 \r\nQ 36.765625 34.90625 28.71875 34.90625 \r\nL 20.21875 34.90625 \r\nL 20.21875 43.015625 \r\nL 29.109375 43.015625 \r\nQ 36.375 43.015625 40.234375 45.921875 \r\nQ 44.09375 48.828125 44.09375 54.296875 \r\nQ 44.09375 59.90625 40.109375 62.90625 \r\nQ 36.140625 65.921875 28.71875 65.921875 \r\nQ 24.65625 65.921875 20.015625 65.03125 \r\nQ 15.375 64.15625 9.8125 62.3125 \r\nL 9.8125 71.09375 \r\nQ 15.4375 72.65625 20.34375 73.4375 \r\nQ 25.25 74.21875 29.59375 74.21875 \r\nQ 40.828125 74.21875 47.359375 69.109375 \r\nQ 53.90625 64.015625 53.90625 55.328125 \r\nQ 53.90625 49.265625 50.4375 45.09375 \r\nQ 46.96875 40.921875 40.578125 39.3125 \r\nz\r\n\" id=\"DejaVuSans-51\"/>\r\n       </defs>\r\n       <use xlink:href=\"#DejaVuSans-51\"/>\r\n      </g>\r\n     </g>\r\n    </g>\r\n    <g id=\"ytick_5\">\r\n     <g id=\"line2d_13\">\r\n      <g>\r\n       <use style=\"stroke:#000000;stroke-width:0.8;\" x=\"20.5625\" xlink:href=\"#m6561bde370\" y=\"219.063246\"/>\r\n      </g>\r\n     </g>\r\n     <g id=\"text_13\">\r\n      <!-- 4 -->\r\n      <g transform=\"translate(7.2 222.862464)scale(0.1 -0.1)\">\r\n       <defs>\r\n        <path d=\"M 37.796875 64.3125 \r\nL 12.890625 25.390625 \r\nL 37.796875 25.390625 \r\nz\r\nM 35.203125 72.90625 \r\nL 47.609375 72.90625 \r\nL 47.609375 25.390625 \r\nL 58.015625 25.390625 \r\nL 58.015625 17.1875 \r\nL 47.609375 17.1875 \r\nL 47.609375 0 \r\nL 37.796875 0 \r\nL 37.796875 17.1875 \r\nL 4.890625 17.1875 \r\nL 4.890625 26.703125 \r\nz\r\n\" id=\"DejaVuSans-52\"/>\r\n       </defs>\r\n       <use xlink:href=\"#DejaVuSans-52\"/>\r\n      </g>\r\n     </g>\r\n    </g>\r\n    <g id=\"ytick_6\">\r\n     <g id=\"line2d_14\">\r\n      <g>\r\n       <use style=\"stroke:#000000;stroke-width:0.8;\" x=\"20.5625\" xlink:href=\"#m6561bde370\" y=\"167.047239\"/>\r\n      </g>\r\n     </g>\r\n     <g id=\"text_14\">\r\n      <!-- 5 -->\r\n      <g transform=\"translate(7.2 170.846458)scale(0.1 -0.1)\">\r\n       <use xlink:href=\"#DejaVuSans-53\"/>\r\n      </g>\r\n     </g>\r\n    </g>\r\n    <g id=\"ytick_7\">\r\n     <g id=\"line2d_15\">\r\n      <g>\r\n       <use style=\"stroke:#000000;stroke-width:0.8;\" x=\"20.5625\" xlink:href=\"#m6561bde370\" y=\"115.031232\"/>\r\n      </g>\r\n     </g>\r\n     <g id=\"text_15\">\r\n      <!-- 6 -->\r\n      <g transform=\"translate(7.2 118.830451)scale(0.1 -0.1)\">\r\n       <defs>\r\n        <path d=\"M 33.015625 40.375 \r\nQ 26.375 40.375 22.484375 35.828125 \r\nQ 18.609375 31.296875 18.609375 23.390625 \r\nQ 18.609375 15.53125 22.484375 10.953125 \r\nQ 26.375 6.390625 33.015625 6.390625 \r\nQ 39.65625 6.390625 43.53125 10.953125 \r\nQ 47.40625 15.53125 47.40625 23.390625 \r\nQ 47.40625 31.296875 43.53125 35.828125 \r\nQ 39.65625 40.375 33.015625 40.375 \r\nz\r\nM 52.59375 71.296875 \r\nL 52.59375 62.3125 \r\nQ 48.875 64.0625 45.09375 64.984375 \r\nQ 41.3125 65.921875 37.59375 65.921875 \r\nQ 27.828125 65.921875 22.671875 59.328125 \r\nQ 17.53125 52.734375 16.796875 39.40625 \r\nQ 19.671875 43.65625 24.015625 45.921875 \r\nQ 28.375 48.1875 33.59375 48.1875 \r\nQ 44.578125 48.1875 50.953125 41.515625 \r\nQ 57.328125 34.859375 57.328125 23.390625 \r\nQ 57.328125 12.15625 50.6875 5.359375 \r\nQ 44.046875 -1.421875 33.015625 -1.421875 \r\nQ 20.359375 -1.421875 13.671875 8.265625 \r\nQ 6.984375 17.96875 6.984375 36.375 \r\nQ 6.984375 53.65625 15.1875 63.9375 \r\nQ 23.390625 74.21875 37.203125 74.21875 \r\nQ 40.921875 74.21875 44.703125 73.484375 \r\nQ 48.484375 72.75 52.59375 71.296875 \r\nz\r\n\" id=\"DejaVuSans-54\"/>\r\n       </defs>\r\n       <use xlink:href=\"#DejaVuSans-54\"/>\r\n      </g>\r\n     </g>\r\n    </g>\r\n    <g id=\"ytick_8\">\r\n     <g id=\"line2d_16\">\r\n      <g>\r\n       <use style=\"stroke:#000000;stroke-width:0.8;\" x=\"20.5625\" xlink:href=\"#m6561bde370\" y=\"63.015225\"/>\r\n      </g>\r\n     </g>\r\n     <g id=\"text_16\">\r\n      <!-- 7 -->\r\n      <g transform=\"translate(7.2 66.814444)scale(0.1 -0.1)\">\r\n       <use xlink:href=\"#DejaVuSans-55\"/>\r\n      </g>\r\n     </g>\r\n    </g>\r\n    <g id=\"ytick_9\">\r\n     <g id=\"line2d_17\">\r\n      <g>\r\n       <use style=\"stroke:#000000;stroke-width:0.8;\" x=\"20.5625\" xlink:href=\"#m6561bde370\" y=\"10.999219\"/>\r\n      </g>\r\n     </g>\r\n     <g id=\"text_17\">\r\n      <!-- 8 -->\r\n      <g transform=\"translate(7.2 14.798438)scale(0.1 -0.1)\">\r\n       <defs>\r\n        <path d=\"M 31.78125 34.625 \r\nQ 24.75 34.625 20.71875 30.859375 \r\nQ 16.703125 27.09375 16.703125 20.515625 \r\nQ 16.703125 13.921875 20.71875 10.15625 \r\nQ 24.75 6.390625 31.78125 6.390625 \r\nQ 38.8125 6.390625 42.859375 10.171875 \r\nQ 46.921875 13.96875 46.921875 20.515625 \r\nQ 46.921875 27.09375 42.890625 30.859375 \r\nQ 38.875 34.625 31.78125 34.625 \r\nz\r\nM 21.921875 38.8125 \r\nQ 15.578125 40.375 12.03125 44.71875 \r\nQ 8.5 49.078125 8.5 55.328125 \r\nQ 8.5 64.0625 14.71875 69.140625 \r\nQ 20.953125 74.21875 31.78125 74.21875 \r\nQ 42.671875 74.21875 48.875 69.140625 \r\nQ 55.078125 64.0625 55.078125 55.328125 \r\nQ 55.078125 49.078125 51.53125 44.71875 \r\nQ 48 40.375 41.703125 38.8125 \r\nQ 48.828125 37.15625 52.796875 32.3125 \r\nQ 56.78125 27.484375 56.78125 20.515625 \r\nQ 56.78125 9.90625 50.3125 4.234375 \r\nQ 43.84375 -1.421875 31.78125 -1.421875 \r\nQ 19.734375 -1.421875 13.25 4.234375 \r\nQ 6.78125 9.90625 6.78125 20.515625 \r\nQ 6.78125 27.484375 10.78125 32.3125 \r\nQ 14.796875 37.15625 21.921875 38.8125 \r\nz\r\nM 18.3125 54.390625 \r\nQ 18.3125 48.734375 21.84375 45.5625 \r\nQ 25.390625 42.390625 31.78125 42.390625 \r\nQ 38.140625 42.390625 41.71875 45.5625 \r\nQ 45.3125 48.734375 45.3125 54.390625 \r\nQ 45.3125 60.0625 41.71875 63.234375 \r\nQ 38.140625 66.40625 31.78125 66.40625 \r\nQ 25.390625 66.40625 21.84375 63.234375 \r\nQ 18.3125 60.0625 18.3125 54.390625 \r\nz\r\n\" id=\"DejaVuSans-56\"/>\r\n       </defs>\r\n       <use xlink:href=\"#DejaVuSans-56\"/>\r\n      </g>\r\n     </g>\r\n    </g>\r\n   </g>\r\n   <g id=\"line2d_18\">\r\n    <path clip-path=\"url(#p797d62808c)\" d=\"M 50.998864 425.636004 \r\nL 54.307164 425.457623 \r\nL 57.615464 424.858262 \r\nL 60.923765 424.373064 \r\nL 74.156966 423.53824 \r\nL 80.773567 422.71055 \r\nL 84.081868 422.182541 \r\nL 90.698468 420.106182 \r\nL 94.006769 418.857512 \r\nL 97.315069 417.344839 \r\nL 100.62337 415.58243 \r\nL 103.93167 414.412249 \r\nL 113.856571 410.09542 \r\nL 117.164872 408.84675 \r\nL 120.473172 407.227047 \r\nL 123.781472 406.220976 \r\nL 127.089773 404.658355 \r\nL 130.398073 403.737908 \r\nL 133.706374 402.339397 \r\nL 137.014674 401.611601 \r\nL 140.322974 400.370068 \r\nL 146.939575 398.357927 \r\nL 150.247875 397.537373 \r\nL 156.864476 395.532366 \r\nL 160.172777 395.125656 \r\nL 163.481077 394.098178 \r\nL 170.097678 392.6854 \r\nL 173.405978 391.700732 \r\nL 180.022579 390.580498 \r\nL 183.330879 389.952596 \r\nL 186.63918 389.688591 \r\nL 196.564081 387.968994 \r\nL 203.180682 387.10563 \r\nL 206.488982 386.570486 \r\nL 213.105583 385.914043 \r\nL 216.413883 385.393167 \r\nL 226.338785 384.415637 \r\nL 236.263686 383.366754 \r\nL 239.571986 383.131292 \r\nL 246.188587 382.781663 \r\nL 249.496887 382.481985 \r\nL 259.421789 382.082409 \r\nL 266.038389 381.254721 \r\nL 272.65499 381.290398 \r\nL 279.271591 380.890822 \r\nL 285.888192 380.790927 \r\nL 295.813093 380.355678 \r\nL 302.429694 380.419897 \r\nL 305.737994 380.198702 \r\nL 309.046294 380.170163 \r\nL 312.354595 380.312868 \r\nL 325.587796 380.091673 \r\nL 335.512698 380.120215 \r\nL 338.820998 379.991782 \r\nL 342.129298 380.127349 \r\nL 348.745899 380.170163 \r\nL 355.3625 380.220107 \r\nL 358.6708 380.113078 \r\nL 361.979101 380.134487 \r\nL 365.287401 379.984644 \r\nL 375.212302 380.091673 \r\nL 414.911907 380.055997 \r\nL 418.220208 379.963239 \r\nL 421.528508 380.148755 \r\nL 424.836808 380.105944 \r\nL 428.145109 380.312868 \r\nL 431.453409 380.776659 \r\nL 434.761709 380.227244 \r\nL 438.07001 380.027458 \r\nL 444.686611 380.048863 \r\nL 454.611512 379.884753 \r\nL 457.919812 380.127349 \r\nL 461.228113 379.97751 \r\nL 464.536413 380.077402 \r\nL 467.844713 379.970373 \r\nL 471.153014 380.077402 \r\nL 474.461314 379.984644 \r\nL 487.694516 380.170163 \r\nL 491.002816 381.725647 \r\nL 494.311117 381.425966 \r\nL 497.619417 380.255783 \r\nL 500.927717 380.055997 \r\nL 507.544318 380.063134 \r\nL 527.394121 379.941834 \r\nL 534.010721 380.041726 \r\nL 550.552223 380.148755 \r\nL 553.860524 380.191568 \r\nL 557.168824 380.034592 \r\nL 573.710326 380.105944 \r\nL 577.018626 380.419897 \r\nL 580.326927 380.905093 \r\nL 583.635227 380.348544 \r\nL 586.943528 380.084539 \r\nL 596.868429 379.956105 \r\nL 606.79333 380.063134 \r\nL 616.718231 379.998916 \r\nL 620.026532 380.113078 \r\nL 653.109536 380.055997 \r\nL 656.417836 380.084539 \r\nL 659.726136 380.277192 \r\nL 659.726136 380.277192 \r\n\" style=\"fill:none;stroke:#0000ff;stroke-linecap:square;stroke-width:1.5;\"/>\r\n    <defs>\r\n     <path d=\"M 0 1 \r\nC 0.265203 1 0.51958 0.894634 0.707107 0.707107 \r\nC 0.894634 0.51958 1 0.265203 1 0 \r\nC 1 -0.265203 0.894634 -0.51958 0.707107 -0.707107 \r\nC 0.51958 -0.894634 0.265203 -1 0 -1 \r\nC -0.265203 -1 -0.51958 -0.894634 -0.707107 -0.707107 \r\nC -0.894634 -0.51958 -1 -0.265203 -1 0 \r\nC -1 0.265203 -0.894634 0.51958 -0.707107 0.707107 \r\nC -0.51958 0.894634 -0.265203 1 0 1 \r\nz\r\n\" id=\"m9503cb7306\" style=\"stroke:#0000ff;\"/>\r\n    </defs>\r\n    <g clip-path=\"url(#p797d62808c)\">\r\n     <use style=\"fill:#0000ff;stroke:#0000ff;\" x=\"50.998864\" xlink:href=\"#m9503cb7306\" y=\"425.636004\"/>\r\n     <use style=\"fill:#0000ff;stroke:#0000ff;\" x=\"54.307164\" xlink:href=\"#m9503cb7306\" y=\"425.457623\"/>\r\n     <use style=\"fill:#0000ff;stroke:#0000ff;\" x=\"57.615464\" xlink:href=\"#m9503cb7306\" y=\"424.858262\"/>\r\n     <use style=\"fill:#0000ff;stroke:#0000ff;\" x=\"60.923765\" xlink:href=\"#m9503cb7306\" y=\"424.373064\"/>\r\n     <use style=\"fill:#0000ff;stroke:#0000ff;\" x=\"64.232065\" xlink:href=\"#m9503cb7306\" y=\"424.180412\"/>\r\n     <use style=\"fill:#0000ff;stroke:#0000ff;\" x=\"67.540366\" xlink:href=\"#m9503cb7306\" y=\"424.044843\"/>\r\n     <use style=\"fill:#0000ff;stroke:#0000ff;\" x=\"70.848666\" xlink:href=\"#m9503cb7306\" y=\"423.83792\"/>\r\n     <use style=\"fill:#0000ff;stroke:#0000ff;\" x=\"74.156966\" xlink:href=\"#m9503cb7306\" y=\"423.53824\"/>\r\n     <use style=\"fill:#0000ff;stroke:#0000ff;\" x=\"77.465267\" xlink:href=\"#m9503cb7306\" y=\"423.167206\"/>\r\n     <use style=\"fill:#0000ff;stroke:#0000ff;\" x=\"80.773567\" xlink:href=\"#m9503cb7306\" y=\"422.71055\"/>\r\n     <use style=\"fill:#0000ff;stroke:#0000ff;\" x=\"84.081868\" xlink:href=\"#m9503cb7306\" y=\"422.182541\"/>\r\n     <use style=\"fill:#0000ff;stroke:#0000ff;\" x=\"87.390168\" xlink:href=\"#m9503cb7306\" y=\"421.1622\"/>\r\n     <use style=\"fill:#0000ff;stroke:#0000ff;\" x=\"90.698468\" xlink:href=\"#m9503cb7306\" y=\"420.106182\"/>\r\n     <use style=\"fill:#0000ff;stroke:#0000ff;\" x=\"94.006769\" xlink:href=\"#m9503cb7306\" y=\"418.857512\"/>\r\n     <use style=\"fill:#0000ff;stroke:#0000ff;\" x=\"97.315069\" xlink:href=\"#m9503cb7306\" y=\"417.344839\"/>\r\n     <use style=\"fill:#0000ff;stroke:#0000ff;\" x=\"100.62337\" xlink:href=\"#m9503cb7306\" y=\"415.58243\"/>\r\n     <use style=\"fill:#0000ff;stroke:#0000ff;\" x=\"103.93167\" xlink:href=\"#m9503cb7306\" y=\"414.412249\"/>\r\n     <use style=\"fill:#0000ff;stroke:#0000ff;\" x=\"107.23997\" xlink:href=\"#m9503cb7306\" y=\"412.985198\"/>\r\n     <use style=\"fill:#0000ff;stroke:#0000ff;\" x=\"110.548271\" xlink:href=\"#m9503cb7306\" y=\"411.515336\"/>\r\n     <use style=\"fill:#0000ff;stroke:#0000ff;\" x=\"113.856571\" xlink:href=\"#m9503cb7306\" y=\"410.09542\"/>\r\n     <use style=\"fill:#0000ff;stroke:#0000ff;\" x=\"117.164872\" xlink:href=\"#m9503cb7306\" y=\"408.84675\"/>\r\n     <use style=\"fill:#0000ff;stroke:#0000ff;\" x=\"120.473172\" xlink:href=\"#m9503cb7306\" y=\"407.227047\"/>\r\n     <use style=\"fill:#0000ff;stroke:#0000ff;\" x=\"123.781472\" xlink:href=\"#m9503cb7306\" y=\"406.220976\"/>\r\n     <use style=\"fill:#0000ff;stroke:#0000ff;\" x=\"127.089773\" xlink:href=\"#m9503cb7306\" y=\"404.658355\"/>\r\n     <use style=\"fill:#0000ff;stroke:#0000ff;\" x=\"130.398073\" xlink:href=\"#m9503cb7306\" y=\"403.737908\"/>\r\n     <use style=\"fill:#0000ff;stroke:#0000ff;\" x=\"133.706374\" xlink:href=\"#m9503cb7306\" y=\"402.339397\"/>\r\n     <use style=\"fill:#0000ff;stroke:#0000ff;\" x=\"137.014674\" xlink:href=\"#m9503cb7306\" y=\"401.611601\"/>\r\n     <use style=\"fill:#0000ff;stroke:#0000ff;\" x=\"140.322974\" xlink:href=\"#m9503cb7306\" y=\"400.370068\"/>\r\n     <use style=\"fill:#0000ff;stroke:#0000ff;\" x=\"143.631275\" xlink:href=\"#m9503cb7306\" y=\"399.349725\"/>\r\n     <use style=\"fill:#0000ff;stroke:#0000ff;\" x=\"146.939575\" xlink:href=\"#m9503cb7306\" y=\"398.357927\"/>\r\n     <use style=\"fill:#0000ff;stroke:#0000ff;\" x=\"150.247875\" xlink:href=\"#m9503cb7306\" y=\"397.537373\"/>\r\n     <use style=\"fill:#0000ff;stroke:#0000ff;\" x=\"153.556176\" xlink:href=\"#m9503cb7306\" y=\"396.509896\"/>\r\n     <use style=\"fill:#0000ff;stroke:#0000ff;\" x=\"156.864476\" xlink:href=\"#m9503cb7306\" y=\"395.532366\"/>\r\n     <use style=\"fill:#0000ff;stroke:#0000ff;\" x=\"160.172777\" xlink:href=\"#m9503cb7306\" y=\"395.125656\"/>\r\n     <use style=\"fill:#0000ff;stroke:#0000ff;\" x=\"163.481077\" xlink:href=\"#m9503cb7306\" y=\"394.098178\"/>\r\n     <use style=\"fill:#0000ff;stroke:#0000ff;\" x=\"166.789377\" xlink:href=\"#m9503cb7306\" y=\"393.434601\"/>\r\n     <use style=\"fill:#0000ff;stroke:#0000ff;\" x=\"170.097678\" xlink:href=\"#m9503cb7306\" y=\"392.6854\"/>\r\n     <use style=\"fill:#0000ff;stroke:#0000ff;\" x=\"173.405978\" xlink:href=\"#m9503cb7306\" y=\"391.700732\"/>\r\n     <use style=\"fill:#0000ff;stroke:#0000ff;\" x=\"176.714279\" xlink:href=\"#m9503cb7306\" y=\"391.186994\"/>\r\n     <use style=\"fill:#0000ff;stroke:#0000ff;\" x=\"180.022579\" xlink:href=\"#m9503cb7306\" y=\"390.580498\"/>\r\n     <use style=\"fill:#0000ff;stroke:#0000ff;\" x=\"183.330879\" xlink:href=\"#m9503cb7306\" y=\"389.952596\"/>\r\n     <use style=\"fill:#0000ff;stroke:#0000ff;\" x=\"186.63918\" xlink:href=\"#m9503cb7306\" y=\"389.688591\"/>\r\n     <use style=\"fill:#0000ff;stroke:#0000ff;\" x=\"189.94748\" xlink:href=\"#m9503cb7306\" y=\"389.124905\"/>\r\n     <use style=\"fill:#0000ff;stroke:#0000ff;\" x=\"193.255781\" xlink:href=\"#m9503cb7306\" y=\"388.475599\"/>\r\n     <use style=\"fill:#0000ff;stroke:#0000ff;\" x=\"196.564081\" xlink:href=\"#m9503cb7306\" y=\"387.968994\"/>\r\n     <use style=\"fill:#0000ff;stroke:#0000ff;\" x=\"199.872381\" xlink:href=\"#m9503cb7306\" y=\"387.548016\"/>\r\n     <use style=\"fill:#0000ff;stroke:#0000ff;\" x=\"203.180682\" xlink:href=\"#m9503cb7306\" y=\"387.10563\"/>\r\n     <use style=\"fill:#0000ff;stroke:#0000ff;\" x=\"206.488982\" xlink:href=\"#m9503cb7306\" y=\"386.570486\"/>\r\n     <use style=\"fill:#0000ff;stroke:#0000ff;\" x=\"209.797283\" xlink:href=\"#m9503cb7306\" y=\"386.2494\"/>\r\n     <use style=\"fill:#0000ff;stroke:#0000ff;\" x=\"213.105583\" xlink:href=\"#m9503cb7306\" y=\"385.914043\"/>\r\n     <use style=\"fill:#0000ff;stroke:#0000ff;\" x=\"216.413883\" xlink:href=\"#m9503cb7306\" y=\"385.393167\"/>\r\n     <use style=\"fill:#0000ff;stroke:#0000ff;\" x=\"219.722184\" xlink:href=\"#m9503cb7306\" y=\"385.100623\"/>\r\n     <use style=\"fill:#0000ff;stroke:#0000ff;\" x=\"223.030484\" xlink:href=\"#m9503cb7306\" y=\"384.850889\"/>\r\n     <use style=\"fill:#0000ff;stroke:#0000ff;\" x=\"226.338785\" xlink:href=\"#m9503cb7306\" y=\"384.415637\"/>\r\n     <use style=\"fill:#0000ff;stroke:#0000ff;\" x=\"229.647085\" xlink:href=\"#m9503cb7306\" y=\"384.066011\"/>\r\n     <use style=\"fill:#0000ff;stroke:#0000ff;\" x=\"232.955385\" xlink:href=\"#m9503cb7306\" y=\"383.752059\"/>\r\n     <use style=\"fill:#0000ff;stroke:#0000ff;\" x=\"236.263686\" xlink:href=\"#m9503cb7306\" y=\"383.366754\"/>\r\n     <use style=\"fill:#0000ff;stroke:#0000ff;\" x=\"239.571986\" xlink:href=\"#m9503cb7306\" y=\"383.131292\"/>\r\n     <use style=\"fill:#0000ff;stroke:#0000ff;\" x=\"242.880287\" xlink:href=\"#m9503cb7306\" y=\"383.009992\"/>\r\n     <use style=\"fill:#0000ff;stroke:#0000ff;\" x=\"246.188587\" xlink:href=\"#m9503cb7306\" y=\"382.781663\"/>\r\n     <use style=\"fill:#0000ff;stroke:#0000ff;\" x=\"249.496887\" xlink:href=\"#m9503cb7306\" y=\"382.481985\"/>\r\n     <use style=\"fill:#0000ff;stroke:#0000ff;\" x=\"252.805188\" xlink:href=\"#m9503cb7306\" y=\"382.325009\"/>\r\n     <use style=\"fill:#0000ff;stroke:#0000ff;\" x=\"256.113488\" xlink:href=\"#m9503cb7306\" y=\"382.061004\"/>\r\n     <use style=\"fill:#0000ff;stroke:#0000ff;\" x=\"259.421789\" xlink:href=\"#m9503cb7306\" y=\"382.082409\"/>\r\n     <use style=\"fill:#0000ff;stroke:#0000ff;\" x=\"262.730089\" xlink:href=\"#m9503cb7306\" y=\"381.632889\"/>\r\n     <use style=\"fill:#0000ff;stroke:#0000ff;\" x=\"266.038389\" xlink:href=\"#m9503cb7306\" y=\"381.254721\"/>\r\n     <use style=\"fill:#0000ff;stroke:#0000ff;\" x=\"269.34669\" xlink:href=\"#m9503cb7306\" y=\"381.261855\"/>\r\n     <use style=\"fill:#0000ff;stroke:#0000ff;\" x=\"272.65499\" xlink:href=\"#m9503cb7306\" y=\"381.290398\"/>\r\n     <use style=\"fill:#0000ff;stroke:#0000ff;\" x=\"275.963291\" xlink:href=\"#m9503cb7306\" y=\"381.054932\"/>\r\n     <use style=\"fill:#0000ff;stroke:#0000ff;\" x=\"279.271591\" xlink:href=\"#m9503cb7306\" y=\"380.890822\"/>\r\n     <use style=\"fill:#0000ff;stroke:#0000ff;\" x=\"282.579891\" xlink:href=\"#m9503cb7306\" y=\"380.862283\"/>\r\n     <use style=\"fill:#0000ff;stroke:#0000ff;\" x=\"285.888192\" xlink:href=\"#m9503cb7306\" y=\"380.790927\"/>\r\n     <use style=\"fill:#0000ff;stroke:#0000ff;\" x=\"289.196492\" xlink:href=\"#m9503cb7306\" y=\"380.612546\"/>\r\n     <use style=\"fill:#0000ff;stroke:#0000ff;\" x=\"292.504792\" xlink:href=\"#m9503cb7306\" y=\"380.491249\"/>\r\n     <use style=\"fill:#0000ff;stroke:#0000ff;\" x=\"295.813093\" xlink:href=\"#m9503cb7306\" y=\"380.355678\"/>\r\n     <use style=\"fill:#0000ff;stroke:#0000ff;\" x=\"299.121393\" xlink:href=\"#m9503cb7306\" y=\"380.419897\"/>\r\n     <use style=\"fill:#0000ff;stroke:#0000ff;\" x=\"302.429694\" xlink:href=\"#m9503cb7306\" y=\"380.419897\"/>\r\n     <use style=\"fill:#0000ff;stroke:#0000ff;\" x=\"305.737994\" xlink:href=\"#m9503cb7306\" y=\"380.198702\"/>\r\n     <use style=\"fill:#0000ff;stroke:#0000ff;\" x=\"309.046294\" xlink:href=\"#m9503cb7306\" y=\"380.170163\"/>\r\n     <use style=\"fill:#0000ff;stroke:#0000ff;\" x=\"312.354595\" xlink:href=\"#m9503cb7306\" y=\"380.312868\"/>\r\n     <use style=\"fill:#0000ff;stroke:#0000ff;\" x=\"315.662895\" xlink:href=\"#m9503cb7306\" y=\"380.248649\"/>\r\n     <use style=\"fill:#0000ff;stroke:#0000ff;\" x=\"318.971196\" xlink:href=\"#m9503cb7306\" y=\"380.155892\"/>\r\n     <use style=\"fill:#0000ff;stroke:#0000ff;\" x=\"322.279496\" xlink:href=\"#m9503cb7306\" y=\"380.09881\"/>\r\n     <use style=\"fill:#0000ff;stroke:#0000ff;\" x=\"325.587796\" xlink:href=\"#m9503cb7306\" y=\"380.091673\"/>\r\n     <use style=\"fill:#0000ff;stroke:#0000ff;\" x=\"328.896097\" xlink:href=\"#m9503cb7306\" y=\"380.127349\"/>\r\n     <use style=\"fill:#0000ff;stroke:#0000ff;\" x=\"332.204397\" xlink:href=\"#m9503cb7306\" y=\"380.105944\"/>\r\n     <use style=\"fill:#0000ff;stroke:#0000ff;\" x=\"335.512698\" xlink:href=\"#m9503cb7306\" y=\"380.120215\"/>\r\n     <use style=\"fill:#0000ff;stroke:#0000ff;\" x=\"338.820998\" xlink:href=\"#m9503cb7306\" y=\"379.991782\"/>\r\n     <use style=\"fill:#0000ff;stroke:#0000ff;\" x=\"342.129298\" xlink:href=\"#m9503cb7306\" y=\"380.127349\"/>\r\n     <use style=\"fill:#0000ff;stroke:#0000ff;\" x=\"345.437599\" xlink:href=\"#m9503cb7306\" y=\"380.127349\"/>\r\n     <use style=\"fill:#0000ff;stroke:#0000ff;\" x=\"348.745899\" xlink:href=\"#m9503cb7306\" y=\"380.170163\"/>\r\n     <use style=\"fill:#0000ff;stroke:#0000ff;\" x=\"352.0542\" xlink:href=\"#m9503cb7306\" y=\"380.248649\"/>\r\n     <use style=\"fill:#0000ff;stroke:#0000ff;\" x=\"355.3625\" xlink:href=\"#m9503cb7306\" y=\"380.220107\"/>\r\n     <use style=\"fill:#0000ff;stroke:#0000ff;\" x=\"358.6708\" xlink:href=\"#m9503cb7306\" y=\"380.113078\"/>\r\n     <use style=\"fill:#0000ff;stroke:#0000ff;\" x=\"361.979101\" xlink:href=\"#m9503cb7306\" y=\"380.134487\"/>\r\n     <use style=\"fill:#0000ff;stroke:#0000ff;\" x=\"365.287401\" xlink:href=\"#m9503cb7306\" y=\"379.984644\"/>\r\n     <use style=\"fill:#0000ff;stroke:#0000ff;\" x=\"368.595702\" xlink:href=\"#m9503cb7306\" y=\"380.048863\"/>\r\n     <use style=\"fill:#0000ff;stroke:#0000ff;\" x=\"371.904002\" xlink:href=\"#m9503cb7306\" y=\"380.048863\"/>\r\n     <use style=\"fill:#0000ff;stroke:#0000ff;\" x=\"375.212302\" xlink:href=\"#m9503cb7306\" y=\"380.091673\"/>\r\n     <use style=\"fill:#0000ff;stroke:#0000ff;\" x=\"378.520603\" xlink:href=\"#m9503cb7306\" y=\"380.091673\"/>\r\n     <use style=\"fill:#0000ff;stroke:#0000ff;\" x=\"381.828903\" xlink:href=\"#m9503cb7306\" y=\"380.163026\"/>\r\n     <use style=\"fill:#0000ff;stroke:#0000ff;\" x=\"385.137204\" xlink:href=\"#m9503cb7306\" y=\"380.070268\"/>\r\n     <use style=\"fill:#0000ff;stroke:#0000ff;\" x=\"388.445504\" xlink:href=\"#m9503cb7306\" y=\"379.998916\"/>\r\n     <use style=\"fill:#0000ff;stroke:#0000ff;\" x=\"391.753804\" xlink:href=\"#m9503cb7306\" y=\"380.134487\"/>\r\n     <use style=\"fill:#0000ff;stroke:#0000ff;\" x=\"395.062105\" xlink:href=\"#m9503cb7306\" y=\"380.141621\"/>\r\n     <use style=\"fill:#0000ff;stroke:#0000ff;\" x=\"398.370405\" xlink:href=\"#m9503cb7306\" y=\"380.134487\"/>\r\n     <use style=\"fill:#0000ff;stroke:#0000ff;\" x=\"401.678706\" xlink:href=\"#m9503cb7306\" y=\"380.020321\"/>\r\n     <use style=\"fill:#0000ff;stroke:#0000ff;\" x=\"404.987006\" xlink:href=\"#m9503cb7306\" y=\"380.113078\"/>\r\n     <use style=\"fill:#0000ff;stroke:#0000ff;\" x=\"408.295306\" xlink:href=\"#m9503cb7306\" y=\"380.070268\"/>\r\n     <use style=\"fill:#0000ff;stroke:#0000ff;\" x=\"411.603607\" xlink:href=\"#m9503cb7306\" y=\"380.127349\"/>\r\n     <use style=\"fill:#0000ff;stroke:#0000ff;\" x=\"414.911907\" xlink:href=\"#m9503cb7306\" y=\"380.055997\"/>\r\n     <use style=\"fill:#0000ff;stroke:#0000ff;\" x=\"418.220208\" xlink:href=\"#m9503cb7306\" y=\"379.963239\"/>\r\n     <use style=\"fill:#0000ff;stroke:#0000ff;\" x=\"421.528508\" xlink:href=\"#m9503cb7306\" y=\"380.148755\"/>\r\n     <use style=\"fill:#0000ff;stroke:#0000ff;\" x=\"424.836808\" xlink:href=\"#m9503cb7306\" y=\"380.105944\"/>\r\n     <use style=\"fill:#0000ff;stroke:#0000ff;\" x=\"428.145109\" xlink:href=\"#m9503cb7306\" y=\"380.312868\"/>\r\n     <use style=\"fill:#0000ff;stroke:#0000ff;\" x=\"431.453409\" xlink:href=\"#m9503cb7306\" y=\"380.776659\"/>\r\n     <use style=\"fill:#0000ff;stroke:#0000ff;\" x=\"434.761709\" xlink:href=\"#m9503cb7306\" y=\"380.227244\"/>\r\n     <use style=\"fill:#0000ff;stroke:#0000ff;\" x=\"438.07001\" xlink:href=\"#m9503cb7306\" y=\"380.027458\"/>\r\n     <use style=\"fill:#0000ff;stroke:#0000ff;\" x=\"441.37831\" xlink:href=\"#m9503cb7306\" y=\"380.091673\"/>\r\n     <use style=\"fill:#0000ff;stroke:#0000ff;\" x=\"444.686611\" xlink:href=\"#m9503cb7306\" y=\"380.048863\"/>\r\n     <use style=\"fill:#0000ff;stroke:#0000ff;\" x=\"447.994911\" xlink:href=\"#m9503cb7306\" y=\"380.027458\"/>\r\n     <use style=\"fill:#0000ff;stroke:#0000ff;\" x=\"451.303211\" xlink:href=\"#m9503cb7306\" y=\"379.998916\"/>\r\n     <use style=\"fill:#0000ff;stroke:#0000ff;\" x=\"454.611512\" xlink:href=\"#m9503cb7306\" y=\"379.884753\"/>\r\n     <use style=\"fill:#0000ff;stroke:#0000ff;\" x=\"457.919812\" xlink:href=\"#m9503cb7306\" y=\"380.127349\"/>\r\n     <use style=\"fill:#0000ff;stroke:#0000ff;\" x=\"461.228113\" xlink:href=\"#m9503cb7306\" y=\"379.97751\"/>\r\n     <use style=\"fill:#0000ff;stroke:#0000ff;\" x=\"464.536413\" xlink:href=\"#m9503cb7306\" y=\"380.077402\"/>\r\n     <use style=\"fill:#0000ff;stroke:#0000ff;\" x=\"467.844713\" xlink:href=\"#m9503cb7306\" y=\"379.970373\"/>\r\n     <use style=\"fill:#0000ff;stroke:#0000ff;\" x=\"471.153014\" xlink:href=\"#m9503cb7306\" y=\"380.077402\"/>\r\n     <use style=\"fill:#0000ff;stroke:#0000ff;\" x=\"474.461314\" xlink:href=\"#m9503cb7306\" y=\"379.984644\"/>\r\n     <use style=\"fill:#0000ff;stroke:#0000ff;\" x=\"477.769615\" xlink:href=\"#m9503cb7306\" y=\"380.020321\"/>\r\n     <use style=\"fill:#0000ff;stroke:#0000ff;\" x=\"481.077915\" xlink:href=\"#m9503cb7306\" y=\"380.013187\"/>\r\n     <use style=\"fill:#0000ff;stroke:#0000ff;\" x=\"484.386215\" xlink:href=\"#m9503cb7306\" y=\"380.084539\"/>\r\n     <use style=\"fill:#0000ff;stroke:#0000ff;\" x=\"487.694516\" xlink:href=\"#m9503cb7306\" y=\"380.170163\"/>\r\n     <use style=\"fill:#0000ff;stroke:#0000ff;\" x=\"491.002816\" xlink:href=\"#m9503cb7306\" y=\"381.725647\"/>\r\n     <use style=\"fill:#0000ff;stroke:#0000ff;\" x=\"494.311117\" xlink:href=\"#m9503cb7306\" y=\"381.425966\"/>\r\n     <use style=\"fill:#0000ff;stroke:#0000ff;\" x=\"497.619417\" xlink:href=\"#m9503cb7306\" y=\"380.255783\"/>\r\n     <use style=\"fill:#0000ff;stroke:#0000ff;\" x=\"500.927717\" xlink:href=\"#m9503cb7306\" y=\"380.055997\"/>\r\n     <use style=\"fill:#0000ff;stroke:#0000ff;\" x=\"504.236018\" xlink:href=\"#m9503cb7306\" y=\"380.00605\"/>\r\n     <use style=\"fill:#0000ff;stroke:#0000ff;\" x=\"507.544318\" xlink:href=\"#m9503cb7306\" y=\"380.063134\"/>\r\n     <use style=\"fill:#0000ff;stroke:#0000ff;\" x=\"510.852619\" xlink:href=\"#m9503cb7306\" y=\"380.041726\"/>\r\n     <use style=\"fill:#0000ff;stroke:#0000ff;\" x=\"514.160919\" xlink:href=\"#m9503cb7306\" y=\"379.941834\"/>\r\n     <use style=\"fill:#0000ff;stroke:#0000ff;\" x=\"517.469219\" xlink:href=\"#m9503cb7306\" y=\"380.055997\"/>\r\n     <use style=\"fill:#0000ff;stroke:#0000ff;\" x=\"520.77752\" xlink:href=\"#m9503cb7306\" y=\"380.034592\"/>\r\n     <use style=\"fill:#0000ff;stroke:#0000ff;\" x=\"524.08582\" xlink:href=\"#m9503cb7306\" y=\"380.041726\"/>\r\n     <use style=\"fill:#0000ff;stroke:#0000ff;\" x=\"527.394121\" xlink:href=\"#m9503cb7306\" y=\"379.941834\"/>\r\n     <use style=\"fill:#0000ff;stroke:#0000ff;\" x=\"530.702421\" xlink:href=\"#m9503cb7306\" y=\"380.027458\"/>\r\n     <use style=\"fill:#0000ff;stroke:#0000ff;\" x=\"534.010721\" xlink:href=\"#m9503cb7306\" y=\"380.041726\"/>\r\n     <use style=\"fill:#0000ff;stroke:#0000ff;\" x=\"537.319022\" xlink:href=\"#m9503cb7306\" y=\"380.041726\"/>\r\n     <use style=\"fill:#0000ff;stroke:#0000ff;\" x=\"540.627322\" xlink:href=\"#m9503cb7306\" y=\"380.013187\"/>\r\n     <use style=\"fill:#0000ff;stroke:#0000ff;\" x=\"543.935623\" xlink:href=\"#m9503cb7306\" y=\"380.120215\"/>\r\n     <use style=\"fill:#0000ff;stroke:#0000ff;\" x=\"547.243923\" xlink:href=\"#m9503cb7306\" y=\"380.084539\"/>\r\n     <use style=\"fill:#0000ff;stroke:#0000ff;\" x=\"550.552223\" xlink:href=\"#m9503cb7306\" y=\"380.148755\"/>\r\n     <use style=\"fill:#0000ff;stroke:#0000ff;\" x=\"553.860524\" xlink:href=\"#m9503cb7306\" y=\"380.191568\"/>\r\n     <use style=\"fill:#0000ff;stroke:#0000ff;\" x=\"557.168824\" xlink:href=\"#m9503cb7306\" y=\"380.034592\"/>\r\n     <use style=\"fill:#0000ff;stroke:#0000ff;\" x=\"560.477125\" xlink:href=\"#m9503cb7306\" y=\"380.034592\"/>\r\n     <use style=\"fill:#0000ff;stroke:#0000ff;\" x=\"563.785425\" xlink:href=\"#m9503cb7306\" y=\"380.055997\"/>\r\n     <use style=\"fill:#0000ff;stroke:#0000ff;\" x=\"567.093725\" xlink:href=\"#m9503cb7306\" y=\"379.963239\"/>\r\n     <use style=\"fill:#0000ff;stroke:#0000ff;\" x=\"570.402026\" xlink:href=\"#m9503cb7306\" y=\"380.048863\"/>\r\n     <use style=\"fill:#0000ff;stroke:#0000ff;\" x=\"573.710326\" xlink:href=\"#m9503cb7306\" y=\"380.105944\"/>\r\n     <use style=\"fill:#0000ff;stroke:#0000ff;\" x=\"577.018626\" xlink:href=\"#m9503cb7306\" y=\"380.419897\"/>\r\n     <use style=\"fill:#0000ff;stroke:#0000ff;\" x=\"580.326927\" xlink:href=\"#m9503cb7306\" y=\"380.905093\"/>\r\n     <use style=\"fill:#0000ff;stroke:#0000ff;\" x=\"583.635227\" xlink:href=\"#m9503cb7306\" y=\"380.348544\"/>\r\n     <use style=\"fill:#0000ff;stroke:#0000ff;\" x=\"586.943528\" xlink:href=\"#m9503cb7306\" y=\"380.084539\"/>\r\n     <use style=\"fill:#0000ff;stroke:#0000ff;\" x=\"590.251828\" xlink:href=\"#m9503cb7306\" y=\"380.020321\"/>\r\n     <use style=\"fill:#0000ff;stroke:#0000ff;\" x=\"593.560128\" xlink:href=\"#m9503cb7306\" y=\"380.055997\"/>\r\n     <use style=\"fill:#0000ff;stroke:#0000ff;\" x=\"596.868429\" xlink:href=\"#m9503cb7306\" y=\"379.956105\"/>\r\n     <use style=\"fill:#0000ff;stroke:#0000ff;\" x=\"600.176729\" xlink:href=\"#m9503cb7306\" y=\"380.013187\"/>\r\n     <use style=\"fill:#0000ff;stroke:#0000ff;\" x=\"603.48503\" xlink:href=\"#m9503cb7306\" y=\"380.127349\"/>\r\n     <use style=\"fill:#0000ff;stroke:#0000ff;\" x=\"606.79333\" xlink:href=\"#m9503cb7306\" y=\"380.063134\"/>\r\n     <use style=\"fill:#0000ff;stroke:#0000ff;\" x=\"610.10163\" xlink:href=\"#m9503cb7306\" y=\"380.00605\"/>\r\n     <use style=\"fill:#0000ff;stroke:#0000ff;\" x=\"613.409931\" xlink:href=\"#m9503cb7306\" y=\"379.998916\"/>\r\n     <use style=\"fill:#0000ff;stroke:#0000ff;\" x=\"616.718231\" xlink:href=\"#m9503cb7306\" y=\"379.998916\"/>\r\n     <use style=\"fill:#0000ff;stroke:#0000ff;\" x=\"620.026532\" xlink:href=\"#m9503cb7306\" y=\"380.113078\"/>\r\n     <use style=\"fill:#0000ff;stroke:#0000ff;\" x=\"623.334832\" xlink:href=\"#m9503cb7306\" y=\"380.09881\"/>\r\n     <use style=\"fill:#0000ff;stroke:#0000ff;\" x=\"626.643132\" xlink:href=\"#m9503cb7306\" y=\"380.048863\"/>\r\n     <use style=\"fill:#0000ff;stroke:#0000ff;\" x=\"629.951433\" xlink:href=\"#m9503cb7306\" y=\"379.97751\"/>\r\n     <use style=\"fill:#0000ff;stroke:#0000ff;\" x=\"633.259733\" xlink:href=\"#m9503cb7306\" y=\"380.055997\"/>\r\n     <use style=\"fill:#0000ff;stroke:#0000ff;\" x=\"636.568034\" xlink:href=\"#m9503cb7306\" y=\"380.084539\"/>\r\n     <use style=\"fill:#0000ff;stroke:#0000ff;\" x=\"639.876334\" xlink:href=\"#m9503cb7306\" y=\"379.991782\"/>\r\n     <use style=\"fill:#0000ff;stroke:#0000ff;\" x=\"643.184634\" xlink:href=\"#m9503cb7306\" y=\"380.041726\"/>\r\n     <use style=\"fill:#0000ff;stroke:#0000ff;\" x=\"646.492935\" xlink:href=\"#m9503cb7306\" y=\"379.97751\"/>\r\n     <use style=\"fill:#0000ff;stroke:#0000ff;\" x=\"649.801235\" xlink:href=\"#m9503cb7306\" y=\"380.084539\"/>\r\n     <use style=\"fill:#0000ff;stroke:#0000ff;\" x=\"653.109536\" xlink:href=\"#m9503cb7306\" y=\"380.055997\"/>\r\n     <use style=\"fill:#0000ff;stroke:#0000ff;\" x=\"656.417836\" xlink:href=\"#m9503cb7306\" y=\"380.084539\"/>\r\n     <use style=\"fill:#0000ff;stroke:#0000ff;\" x=\"659.726136\" xlink:href=\"#m9503cb7306\" y=\"380.277192\"/>\r\n    </g>\r\n   </g>\r\n   <g id=\"line2d_19\">\r\n    <path clip-path=\"url(#p797d62808c)\" d=\"M 50.998864 30.29055 \r\nL 54.307164 62.590967 \r\nL 64.232065 93.49137 \r\nL 67.540366 105.358494 \r\nL 80.773567 158.767595 \r\nL 84.081868 171.123069 \r\nL 87.390168 182.768502 \r\nL 90.698468 193.526106 \r\nL 94.006769 203.721347 \r\nL 97.315069 213.528345 \r\nL 103.93167 231.00148 \r\nL 107.23997 239.225255 \r\nL 110.548271 247.083418 \r\nL 113.856571 254.635808 \r\nL 117.164872 261.596085 \r\nL 120.473172 268.264478 \r\nL 127.089773 280.876602 \r\nL 133.706374 292.380285 \r\nL 140.322974 302.616898 \r\nL 143.631275 307.593864 \r\nL 146.939575 312.280484 \r\nL 156.864476 325.194841 \r\nL 160.172777 329.049495 \r\nL 166.789377 336.559552 \r\nL 173.405978 343.12658 \r\nL 180.022579 349.589095 \r\nL 183.330879 352.279667 \r\nL 186.63918 355.201821 \r\nL 196.564081 363.189222 \r\nL 199.872381 365.58987 \r\nL 203.180682 367.646722 \r\nL 206.488982 370.100295 \r\nL 209.797283 371.846432 \r\nL 213.105583 374.020975 \r\nL 216.413883 375.981575 \r\nL 219.722184 377.80262 \r\nL 223.030484 379.431056 \r\nL 226.338785 381.50013 \r\nL 236.263686 386.068774 \r\nL 239.571986 387.172251 \r\nL 242.880287 388.579139 \r\nL 246.188587 389.634948 \r\nL 249.496887 391.016097 \r\nL 252.805188 392.215079 \r\nL 256.113488 393.13811 \r\nL 259.421789 394.370061 \r\nL 262.730089 395.338641 \r\nL 266.038389 396.469122 \r\nL 269.34669 397.409919 \r\nL 272.65499 398.108891 \r\nL 275.963291 398.650874 \r\nL 279.271591 399.326221 \r\nL 282.579891 399.179423 \r\nL 285.888192 400.625293 \r\nL 292.504792 402.279752 \r\nL 295.813093 402.91016 \r\nL 299.121393 403.249205 \r\nL 305.737994 404.413951 \r\nL 309.046294 404.583202 \r\nL 312.354595 404.560192 \r\nL 315.662895 405.050712 \r\nL 318.971196 405.351091 \r\nL 325.587796 406.549457 \r\nL 328.896097 406.593266 \r\nL 332.204397 406.752609 \r\nL 335.512698 407.144189 \r\nL 342.129298 407.090757 \r\nL 345.437599 407.44804 \r\nL 348.745899 406.78339 \r\nL 352.0542 406.480362 \r\nL 355.3625 407.223852 \r\nL 358.6708 407.427653 \r\nL 361.979101 408.250506 \r\nL 365.287401 408.699826 \r\nL 371.904002 409.06299 \r\nL 375.212302 409.12577 \r\nL 378.520603 408.670594 \r\nL 381.828903 408.62686 \r\nL 385.137204 409.083133 \r\nL 388.445504 409.308778 \r\nL 391.753804 409.231806 \r\nL 395.062105 408.956798 \r\nL 404.987006 409.496817 \r\nL 411.603607 409.790409 \r\nL 418.220208 409.961855 \r\nL 421.528508 409.861937 \r\nL 424.836808 409.576307 \r\nL 428.145109 408.204157 \r\nL 431.453409 406.300041 \r\nL 434.761709 408.738135 \r\nL 438.07001 409.993575 \r\nL 441.37831 410.248795 \r\nL 447.994911 410.399804 \r\nL 474.461314 410.512527 \r\nL 484.386215 410.496816 \r\nL 487.694516 409.741614 \r\nL 491.002816 402.518056 \r\nL 494.311117 403.595876 \r\nL 497.619417 409.349457 \r\nL 500.927717 410.389981 \r\nL 504.236018 410.601045 \r\nL 534.010721 410.849872 \r\nL 540.627322 410.776698 \r\nL 547.243923 410.649129 \r\nL 550.552223 410.469318 \r\nL 553.860524 410.471895 \r\nL 557.168824 410.766096 \r\nL 570.402026 410.901411 \r\nL 573.710326 410.79135 \r\nL 580.326927 407.064791 \r\nL 583.635227 408.663738 \r\nL 586.943528 410.487051 \r\nL 590.251828 410.840989 \r\nL 596.868429 410.992457 \r\nL 603.48503 410.921547 \r\nL 610.10163 411.084665 \r\nL 626.643132 410.939841 \r\nL 633.259733 411.000007 \r\nL 643.184634 410.886621 \r\nL 646.492935 411.057446 \r\nL 649.801235 410.963066 \r\nL 653.109536 410.719965 \r\nL 656.417836 410.859666 \r\nL 659.726136 409.257471 \r\nL 659.726136 409.257471 \r\n\" style=\"fill:none;stroke:#ff0000;stroke-linecap:square;stroke-width:1.5;\"/>\r\n    <defs>\r\n     <path d=\"M 0 1 \r\nC 0.265203 1 0.51958 0.894634 0.707107 0.707107 \r\nC 0.894634 0.51958 1 0.265203 1 0 \r\nC 1 -0.265203 0.894634 -0.51958 0.707107 -0.707107 \r\nC 0.51958 -0.894634 0.265203 -1 0 -1 \r\nC -0.265203 -1 -0.51958 -0.894634 -0.707107 -0.707107 \r\nC -0.894634 -0.51958 -1 -0.265203 -1 0 \r\nC -1 0.265203 -0.894634 0.51958 -0.707107 0.707107 \r\nC -0.51958 0.894634 -0.265203 1 0 1 \r\nz\r\n\" id=\"mcd4150b083\" style=\"stroke:#ff0000;\"/>\r\n    </defs>\r\n    <g clip-path=\"url(#p797d62808c)\">\r\n     <use style=\"fill:#ff0000;stroke:#ff0000;\" x=\"50.998864\" xlink:href=\"#mcd4150b083\" y=\"30.29055\"/>\r\n     <use style=\"fill:#ff0000;stroke:#ff0000;\" x=\"54.307164\" xlink:href=\"#mcd4150b083\" y=\"62.590967\"/>\r\n     <use style=\"fill:#ff0000;stroke:#ff0000;\" x=\"57.615464\" xlink:href=\"#mcd4150b083\" y=\"72.842537\"/>\r\n     <use style=\"fill:#ff0000;stroke:#ff0000;\" x=\"60.923765\" xlink:href=\"#mcd4150b083\" y=\"82.855748\"/>\r\n     <use style=\"fill:#ff0000;stroke:#ff0000;\" x=\"64.232065\" xlink:href=\"#mcd4150b083\" y=\"93.49137\"/>\r\n     <use style=\"fill:#ff0000;stroke:#ff0000;\" x=\"67.540366\" xlink:href=\"#mcd4150b083\" y=\"105.358494\"/>\r\n     <use style=\"fill:#ff0000;stroke:#ff0000;\" x=\"70.848666\" xlink:href=\"#mcd4150b083\" y=\"118.734295\"/>\r\n     <use style=\"fill:#ff0000;stroke:#ff0000;\" x=\"74.156966\" xlink:href=\"#mcd4150b083\" y=\"132.401905\"/>\r\n     <use style=\"fill:#ff0000;stroke:#ff0000;\" x=\"77.465267\" xlink:href=\"#mcd4150b083\" y=\"145.868784\"/>\r\n     <use style=\"fill:#ff0000;stroke:#ff0000;\" x=\"80.773567\" xlink:href=\"#mcd4150b083\" y=\"158.767595\"/>\r\n     <use style=\"fill:#ff0000;stroke:#ff0000;\" x=\"84.081868\" xlink:href=\"#mcd4150b083\" y=\"171.123069\"/>\r\n     <use style=\"fill:#ff0000;stroke:#ff0000;\" x=\"87.390168\" xlink:href=\"#mcd4150b083\" y=\"182.768502\"/>\r\n     <use style=\"fill:#ff0000;stroke:#ff0000;\" x=\"90.698468\" xlink:href=\"#mcd4150b083\" y=\"193.526106\"/>\r\n     <use style=\"fill:#ff0000;stroke:#ff0000;\" x=\"94.006769\" xlink:href=\"#mcd4150b083\" y=\"203.721347\"/>\r\n     <use style=\"fill:#ff0000;stroke:#ff0000;\" x=\"97.315069\" xlink:href=\"#mcd4150b083\" y=\"213.528345\"/>\r\n     <use style=\"fill:#ff0000;stroke:#ff0000;\" x=\"100.62337\" xlink:href=\"#mcd4150b083\" y=\"222.32609\"/>\r\n     <use style=\"fill:#ff0000;stroke:#ff0000;\" x=\"103.93167\" xlink:href=\"#mcd4150b083\" y=\"231.00148\"/>\r\n     <use style=\"fill:#ff0000;stroke:#ff0000;\" x=\"107.23997\" xlink:href=\"#mcd4150b083\" y=\"239.225255\"/>\r\n     <use style=\"fill:#ff0000;stroke:#ff0000;\" x=\"110.548271\" xlink:href=\"#mcd4150b083\" y=\"247.083418\"/>\r\n     <use style=\"fill:#ff0000;stroke:#ff0000;\" x=\"113.856571\" xlink:href=\"#mcd4150b083\" y=\"254.635808\"/>\r\n     <use style=\"fill:#ff0000;stroke:#ff0000;\" x=\"117.164872\" xlink:href=\"#mcd4150b083\" y=\"261.596085\"/>\r\n     <use style=\"fill:#ff0000;stroke:#ff0000;\" x=\"120.473172\" xlink:href=\"#mcd4150b083\" y=\"268.264478\"/>\r\n     <use style=\"fill:#ff0000;stroke:#ff0000;\" x=\"123.781472\" xlink:href=\"#mcd4150b083\" y=\"274.567718\"/>\r\n     <use style=\"fill:#ff0000;stroke:#ff0000;\" x=\"127.089773\" xlink:href=\"#mcd4150b083\" y=\"280.876602\"/>\r\n     <use style=\"fill:#ff0000;stroke:#ff0000;\" x=\"130.398073\" xlink:href=\"#mcd4150b083\" y=\"286.700732\"/>\r\n     <use style=\"fill:#ff0000;stroke:#ff0000;\" x=\"133.706374\" xlink:href=\"#mcd4150b083\" y=\"292.380285\"/>\r\n     <use style=\"fill:#ff0000;stroke:#ff0000;\" x=\"137.014674\" xlink:href=\"#mcd4150b083\" y=\"297.551335\"/>\r\n     <use style=\"fill:#ff0000;stroke:#ff0000;\" x=\"140.322974\" xlink:href=\"#mcd4150b083\" y=\"302.616898\"/>\r\n     <use style=\"fill:#ff0000;stroke:#ff0000;\" x=\"143.631275\" xlink:href=\"#mcd4150b083\" y=\"307.593864\"/>\r\n     <use style=\"fill:#ff0000;stroke:#ff0000;\" x=\"146.939575\" xlink:href=\"#mcd4150b083\" y=\"312.280484\"/>\r\n     <use style=\"fill:#ff0000;stroke:#ff0000;\" x=\"150.247875\" xlink:href=\"#mcd4150b083\" y=\"316.635374\"/>\r\n     <use style=\"fill:#ff0000;stroke:#ff0000;\" x=\"153.556176\" xlink:href=\"#mcd4150b083\" y=\"321.095653\"/>\r\n     <use style=\"fill:#ff0000;stroke:#ff0000;\" x=\"156.864476\" xlink:href=\"#mcd4150b083\" y=\"325.194841\"/>\r\n     <use style=\"fill:#ff0000;stroke:#ff0000;\" x=\"160.172777\" xlink:href=\"#mcd4150b083\" y=\"329.049495\"/>\r\n     <use style=\"fill:#ff0000;stroke:#ff0000;\" x=\"163.481077\" xlink:href=\"#mcd4150b083\" y=\"332.729869\"/>\r\n     <use style=\"fill:#ff0000;stroke:#ff0000;\" x=\"166.789377\" xlink:href=\"#mcd4150b083\" y=\"336.559552\"/>\r\n     <use style=\"fill:#ff0000;stroke:#ff0000;\" x=\"170.097678\" xlink:href=\"#mcd4150b083\" y=\"339.920455\"/>\r\n     <use style=\"fill:#ff0000;stroke:#ff0000;\" x=\"173.405978\" xlink:href=\"#mcd4150b083\" y=\"343.12658\"/>\r\n     <use style=\"fill:#ff0000;stroke:#ff0000;\" x=\"176.714279\" xlink:href=\"#mcd4150b083\" y=\"346.416838\"/>\r\n     <use style=\"fill:#ff0000;stroke:#ff0000;\" x=\"180.022579\" xlink:href=\"#mcd4150b083\" y=\"349.589095\"/>\r\n     <use style=\"fill:#ff0000;stroke:#ff0000;\" x=\"183.330879\" xlink:href=\"#mcd4150b083\" y=\"352.279667\"/>\r\n     <use style=\"fill:#ff0000;stroke:#ff0000;\" x=\"186.63918\" xlink:href=\"#mcd4150b083\" y=\"355.201821\"/>\r\n     <use style=\"fill:#ff0000;stroke:#ff0000;\" x=\"189.94748\" xlink:href=\"#mcd4150b083\" y=\"357.899494\"/>\r\n     <use style=\"fill:#ff0000;stroke:#ff0000;\" x=\"193.255781\" xlink:href=\"#mcd4150b083\" y=\"360.621152\"/>\r\n     <use style=\"fill:#ff0000;stroke:#ff0000;\" x=\"196.564081\" xlink:href=\"#mcd4150b083\" y=\"363.189222\"/>\r\n     <use style=\"fill:#ff0000;stroke:#ff0000;\" x=\"199.872381\" xlink:href=\"#mcd4150b083\" y=\"365.58987\"/>\r\n     <use style=\"fill:#ff0000;stroke:#ff0000;\" x=\"203.180682\" xlink:href=\"#mcd4150b083\" y=\"367.646722\"/>\r\n     <use style=\"fill:#ff0000;stroke:#ff0000;\" x=\"206.488982\" xlink:href=\"#mcd4150b083\" y=\"370.100295\"/>\r\n     <use style=\"fill:#ff0000;stroke:#ff0000;\" x=\"209.797283\" xlink:href=\"#mcd4150b083\" y=\"371.846432\"/>\r\n     <use style=\"fill:#ff0000;stroke:#ff0000;\" x=\"213.105583\" xlink:href=\"#mcd4150b083\" y=\"374.020975\"/>\r\n     <use style=\"fill:#ff0000;stroke:#ff0000;\" x=\"216.413883\" xlink:href=\"#mcd4150b083\" y=\"375.981575\"/>\r\n     <use style=\"fill:#ff0000;stroke:#ff0000;\" x=\"219.722184\" xlink:href=\"#mcd4150b083\" y=\"377.80262\"/>\r\n     <use style=\"fill:#ff0000;stroke:#ff0000;\" x=\"223.030484\" xlink:href=\"#mcd4150b083\" y=\"379.431056\"/>\r\n     <use style=\"fill:#ff0000;stroke:#ff0000;\" x=\"226.338785\" xlink:href=\"#mcd4150b083\" y=\"381.50013\"/>\r\n     <use style=\"fill:#ff0000;stroke:#ff0000;\" x=\"229.647085\" xlink:href=\"#mcd4150b083\" y=\"383.003289\"/>\r\n     <use style=\"fill:#ff0000;stroke:#ff0000;\" x=\"232.955385\" xlink:href=\"#mcd4150b083\" y=\"384.515618\"/>\r\n     <use style=\"fill:#ff0000;stroke:#ff0000;\" x=\"236.263686\" xlink:href=\"#mcd4150b083\" y=\"386.068774\"/>\r\n     <use style=\"fill:#ff0000;stroke:#ff0000;\" x=\"239.571986\" xlink:href=\"#mcd4150b083\" y=\"387.172251\"/>\r\n     <use style=\"fill:#ff0000;stroke:#ff0000;\" x=\"242.880287\" xlink:href=\"#mcd4150b083\" y=\"388.579139\"/>\r\n     <use style=\"fill:#ff0000;stroke:#ff0000;\" x=\"246.188587\" xlink:href=\"#mcd4150b083\" y=\"389.634948\"/>\r\n     <use style=\"fill:#ff0000;stroke:#ff0000;\" x=\"249.496887\" xlink:href=\"#mcd4150b083\" y=\"391.016097\"/>\r\n     <use style=\"fill:#ff0000;stroke:#ff0000;\" x=\"252.805188\" xlink:href=\"#mcd4150b083\" y=\"392.215079\"/>\r\n     <use style=\"fill:#ff0000;stroke:#ff0000;\" x=\"256.113488\" xlink:href=\"#mcd4150b083\" y=\"393.13811\"/>\r\n     <use style=\"fill:#ff0000;stroke:#ff0000;\" x=\"259.421789\" xlink:href=\"#mcd4150b083\" y=\"394.370061\"/>\r\n     <use style=\"fill:#ff0000;stroke:#ff0000;\" x=\"262.730089\" xlink:href=\"#mcd4150b083\" y=\"395.338641\"/>\r\n     <use style=\"fill:#ff0000;stroke:#ff0000;\" x=\"266.038389\" xlink:href=\"#mcd4150b083\" y=\"396.469122\"/>\r\n     <use style=\"fill:#ff0000;stroke:#ff0000;\" x=\"269.34669\" xlink:href=\"#mcd4150b083\" y=\"397.409919\"/>\r\n     <use style=\"fill:#ff0000;stroke:#ff0000;\" x=\"272.65499\" xlink:href=\"#mcd4150b083\" y=\"398.108891\"/>\r\n     <use style=\"fill:#ff0000;stroke:#ff0000;\" x=\"275.963291\" xlink:href=\"#mcd4150b083\" y=\"398.650874\"/>\r\n     <use style=\"fill:#ff0000;stroke:#ff0000;\" x=\"279.271591\" xlink:href=\"#mcd4150b083\" y=\"399.326221\"/>\r\n     <use style=\"fill:#ff0000;stroke:#ff0000;\" x=\"282.579891\" xlink:href=\"#mcd4150b083\" y=\"399.179423\"/>\r\n     <use style=\"fill:#ff0000;stroke:#ff0000;\" x=\"285.888192\" xlink:href=\"#mcd4150b083\" y=\"400.625293\"/>\r\n     <use style=\"fill:#ff0000;stroke:#ff0000;\" x=\"289.196492\" xlink:href=\"#mcd4150b083\" y=\"401.432698\"/>\r\n     <use style=\"fill:#ff0000;stroke:#ff0000;\" x=\"292.504792\" xlink:href=\"#mcd4150b083\" y=\"402.279752\"/>\r\n     <use style=\"fill:#ff0000;stroke:#ff0000;\" x=\"295.813093\" xlink:href=\"#mcd4150b083\" y=\"402.91016\"/>\r\n     <use style=\"fill:#ff0000;stroke:#ff0000;\" x=\"299.121393\" xlink:href=\"#mcd4150b083\" y=\"403.249205\"/>\r\n     <use style=\"fill:#ff0000;stroke:#ff0000;\" x=\"302.429694\" xlink:href=\"#mcd4150b083\" y=\"403.86185\"/>\r\n     <use style=\"fill:#ff0000;stroke:#ff0000;\" x=\"305.737994\" xlink:href=\"#mcd4150b083\" y=\"404.413951\"/>\r\n     <use style=\"fill:#ff0000;stroke:#ff0000;\" x=\"309.046294\" xlink:href=\"#mcd4150b083\" y=\"404.583202\"/>\r\n     <use style=\"fill:#ff0000;stroke:#ff0000;\" x=\"312.354595\" xlink:href=\"#mcd4150b083\" y=\"404.560192\"/>\r\n     <use style=\"fill:#ff0000;stroke:#ff0000;\" x=\"315.662895\" xlink:href=\"#mcd4150b083\" y=\"405.050712\"/>\r\n     <use style=\"fill:#ff0000;stroke:#ff0000;\" x=\"318.971196\" xlink:href=\"#mcd4150b083\" y=\"405.351091\"/>\r\n     <use style=\"fill:#ff0000;stroke:#ff0000;\" x=\"322.279496\" xlink:href=\"#mcd4150b083\" y=\"406.004842\"/>\r\n     <use style=\"fill:#ff0000;stroke:#ff0000;\" x=\"325.587796\" xlink:href=\"#mcd4150b083\" y=\"406.549457\"/>\r\n     <use style=\"fill:#ff0000;stroke:#ff0000;\" x=\"328.896097\" xlink:href=\"#mcd4150b083\" y=\"406.593266\"/>\r\n     <use style=\"fill:#ff0000;stroke:#ff0000;\" x=\"332.204397\" xlink:href=\"#mcd4150b083\" y=\"406.752609\"/>\r\n     <use style=\"fill:#ff0000;stroke:#ff0000;\" x=\"335.512698\" xlink:href=\"#mcd4150b083\" y=\"407.144189\"/>\r\n     <use style=\"fill:#ff0000;stroke:#ff0000;\" x=\"338.820998\" xlink:href=\"#mcd4150b083\" y=\"407.093015\"/>\r\n     <use style=\"fill:#ff0000;stroke:#ff0000;\" x=\"342.129298\" xlink:href=\"#mcd4150b083\" y=\"407.090757\"/>\r\n     <use style=\"fill:#ff0000;stroke:#ff0000;\" x=\"345.437599\" xlink:href=\"#mcd4150b083\" y=\"407.44804\"/>\r\n     <use style=\"fill:#ff0000;stroke:#ff0000;\" x=\"348.745899\" xlink:href=\"#mcd4150b083\" y=\"406.78339\"/>\r\n     <use style=\"fill:#ff0000;stroke:#ff0000;\" x=\"352.0542\" xlink:href=\"#mcd4150b083\" y=\"406.480362\"/>\r\n     <use style=\"fill:#ff0000;stroke:#ff0000;\" x=\"355.3625\" xlink:href=\"#mcd4150b083\" y=\"407.223852\"/>\r\n     <use style=\"fill:#ff0000;stroke:#ff0000;\" x=\"358.6708\" xlink:href=\"#mcd4150b083\" y=\"407.427653\"/>\r\n     <use style=\"fill:#ff0000;stroke:#ff0000;\" x=\"361.979101\" xlink:href=\"#mcd4150b083\" y=\"408.250506\"/>\r\n     <use style=\"fill:#ff0000;stroke:#ff0000;\" x=\"365.287401\" xlink:href=\"#mcd4150b083\" y=\"408.699826\"/>\r\n     <use style=\"fill:#ff0000;stroke:#ff0000;\" x=\"368.595702\" xlink:href=\"#mcd4150b083\" y=\"408.895584\"/>\r\n     <use style=\"fill:#ff0000;stroke:#ff0000;\" x=\"371.904002\" xlink:href=\"#mcd4150b083\" y=\"409.06299\"/>\r\n     <use style=\"fill:#ff0000;stroke:#ff0000;\" x=\"375.212302\" xlink:href=\"#mcd4150b083\" y=\"409.12577\"/>\r\n     <use style=\"fill:#ff0000;stroke:#ff0000;\" x=\"378.520603\" xlink:href=\"#mcd4150b083\" y=\"408.670594\"/>\r\n     <use style=\"fill:#ff0000;stroke:#ff0000;\" x=\"381.828903\" xlink:href=\"#mcd4150b083\" y=\"408.62686\"/>\r\n     <use style=\"fill:#ff0000;stroke:#ff0000;\" x=\"385.137204\" xlink:href=\"#mcd4150b083\" y=\"409.083133\"/>\r\n     <use style=\"fill:#ff0000;stroke:#ff0000;\" x=\"388.445504\" xlink:href=\"#mcd4150b083\" y=\"409.308778\"/>\r\n     <use style=\"fill:#ff0000;stroke:#ff0000;\" x=\"391.753804\" xlink:href=\"#mcd4150b083\" y=\"409.231806\"/>\r\n     <use style=\"fill:#ff0000;stroke:#ff0000;\" x=\"395.062105\" xlink:href=\"#mcd4150b083\" y=\"408.956798\"/>\r\n     <use style=\"fill:#ff0000;stroke:#ff0000;\" x=\"398.370405\" xlink:href=\"#mcd4150b083\" y=\"409.16632\"/>\r\n     <use style=\"fill:#ff0000;stroke:#ff0000;\" x=\"401.678706\" xlink:href=\"#mcd4150b083\" y=\"409.368214\"/>\r\n     <use style=\"fill:#ff0000;stroke:#ff0000;\" x=\"404.987006\" xlink:href=\"#mcd4150b083\" y=\"409.496817\"/>\r\n     <use style=\"fill:#ff0000;stroke:#ff0000;\" x=\"408.295306\" xlink:href=\"#mcd4150b083\" y=\"409.672509\"/>\r\n     <use style=\"fill:#ff0000;stroke:#ff0000;\" x=\"411.603607\" xlink:href=\"#mcd4150b083\" y=\"409.790409\"/>\r\n     <use style=\"fill:#ff0000;stroke:#ff0000;\" x=\"414.911907\" xlink:href=\"#mcd4150b083\" y=\"409.883968\"/>\r\n     <use style=\"fill:#ff0000;stroke:#ff0000;\" x=\"418.220208\" xlink:href=\"#mcd4150b083\" y=\"409.961855\"/>\r\n     <use style=\"fill:#ff0000;stroke:#ff0000;\" x=\"421.528508\" xlink:href=\"#mcd4150b083\" y=\"409.861937\"/>\r\n     <use style=\"fill:#ff0000;stroke:#ff0000;\" x=\"424.836808\" xlink:href=\"#mcd4150b083\" y=\"409.576307\"/>\r\n     <use style=\"fill:#ff0000;stroke:#ff0000;\" x=\"428.145109\" xlink:href=\"#mcd4150b083\" y=\"408.204157\"/>\r\n     <use style=\"fill:#ff0000;stroke:#ff0000;\" x=\"431.453409\" xlink:href=\"#mcd4150b083\" y=\"406.300041\"/>\r\n     <use style=\"fill:#ff0000;stroke:#ff0000;\" x=\"434.761709\" xlink:href=\"#mcd4150b083\" y=\"408.738135\"/>\r\n     <use style=\"fill:#ff0000;stroke:#ff0000;\" x=\"438.07001\" xlink:href=\"#mcd4150b083\" y=\"409.993575\"/>\r\n     <use style=\"fill:#ff0000;stroke:#ff0000;\" x=\"441.37831\" xlink:href=\"#mcd4150b083\" y=\"410.248795\"/>\r\n     <use style=\"fill:#ff0000;stroke:#ff0000;\" x=\"444.686611\" xlink:href=\"#mcd4150b083\" y=\"410.349798\"/>\r\n     <use style=\"fill:#ff0000;stroke:#ff0000;\" x=\"447.994911\" xlink:href=\"#mcd4150b083\" y=\"410.399804\"/>\r\n     <use style=\"fill:#ff0000;stroke:#ff0000;\" x=\"451.303211\" xlink:href=\"#mcd4150b083\" y=\"410.425401\"/>\r\n     <use style=\"fill:#ff0000;stroke:#ff0000;\" x=\"454.611512\" xlink:href=\"#mcd4150b083\" y=\"410.446464\"/>\r\n     <use style=\"fill:#ff0000;stroke:#ff0000;\" x=\"457.919812\" xlink:href=\"#mcd4150b083\" y=\"410.409357\"/>\r\n     <use style=\"fill:#ff0000;stroke:#ff0000;\" x=\"461.228113\" xlink:href=\"#mcd4150b083\" y=\"410.464702\"/>\r\n     <use style=\"fill:#ff0000;stroke:#ff0000;\" x=\"464.536413\" xlink:href=\"#mcd4150b083\" y=\"410.453871\"/>\r\n     <use style=\"fill:#ff0000;stroke:#ff0000;\" x=\"467.844713\" xlink:href=\"#mcd4150b083\" y=\"410.46643\"/>\r\n     <use style=\"fill:#ff0000;stroke:#ff0000;\" x=\"471.153014\" xlink:href=\"#mcd4150b083\" y=\"410.58507\"/>\r\n     <use style=\"fill:#ff0000;stroke:#ff0000;\" x=\"474.461314\" xlink:href=\"#mcd4150b083\" y=\"410.512527\"/>\r\n     <use style=\"fill:#ff0000;stroke:#ff0000;\" x=\"477.769615\" xlink:href=\"#mcd4150b083\" y=\"410.500373\"/>\r\n     <use style=\"fill:#ff0000;stroke:#ff0000;\" x=\"481.077915\" xlink:href=\"#mcd4150b083\" y=\"410.599014\"/>\r\n     <use style=\"fill:#ff0000;stroke:#ff0000;\" x=\"484.386215\" xlink:href=\"#mcd4150b083\" y=\"410.496816\"/>\r\n     <use style=\"fill:#ff0000;stroke:#ff0000;\" x=\"487.694516\" xlink:href=\"#mcd4150b083\" y=\"409.741614\"/>\r\n     <use style=\"fill:#ff0000;stroke:#ff0000;\" x=\"491.002816\" xlink:href=\"#mcd4150b083\" y=\"402.518056\"/>\r\n     <use style=\"fill:#ff0000;stroke:#ff0000;\" x=\"494.311117\" xlink:href=\"#mcd4150b083\" y=\"403.595876\"/>\r\n     <use style=\"fill:#ff0000;stroke:#ff0000;\" x=\"497.619417\" xlink:href=\"#mcd4150b083\" y=\"409.349457\"/>\r\n     <use style=\"fill:#ff0000;stroke:#ff0000;\" x=\"500.927717\" xlink:href=\"#mcd4150b083\" y=\"410.389981\"/>\r\n     <use style=\"fill:#ff0000;stroke:#ff0000;\" x=\"504.236018\" xlink:href=\"#mcd4150b083\" y=\"410.601045\"/>\r\n     <use style=\"fill:#ff0000;stroke:#ff0000;\" x=\"507.544318\" xlink:href=\"#mcd4150b083\" y=\"410.633306\"/>\r\n     <use style=\"fill:#ff0000;stroke:#ff0000;\" x=\"510.852619\" xlink:href=\"#mcd4150b083\" y=\"410.763279\"/>\r\n     <use style=\"fill:#ff0000;stroke:#ff0000;\" x=\"514.160919\" xlink:href=\"#mcd4150b083\" y=\"410.758974\"/>\r\n     <use style=\"fill:#ff0000;stroke:#ff0000;\" x=\"517.469219\" xlink:href=\"#mcd4150b083\" y=\"410.727646\"/>\r\n     <use style=\"fill:#ff0000;stroke:#ff0000;\" x=\"520.77752\" xlink:href=\"#mcd4150b083\" y=\"410.791175\"/>\r\n     <use style=\"fill:#ff0000;stroke:#ff0000;\" x=\"524.08582\" xlink:href=\"#mcd4150b083\" y=\"410.845353\"/>\r\n     <use style=\"fill:#ff0000;stroke:#ff0000;\" x=\"527.394121\" xlink:href=\"#mcd4150b083\" y=\"410.83758\"/>\r\n     <use style=\"fill:#ff0000;stroke:#ff0000;\" x=\"530.702421\" xlink:href=\"#mcd4150b083\" y=\"410.793778\"/>\r\n     <use style=\"fill:#ff0000;stroke:#ff0000;\" x=\"534.010721\" xlink:href=\"#mcd4150b083\" y=\"410.849872\"/>\r\n     <use style=\"fill:#ff0000;stroke:#ff0000;\" x=\"537.319022\" xlink:href=\"#mcd4150b083\" y=\"410.763143\"/>\r\n     <use style=\"fill:#ff0000;stroke:#ff0000;\" x=\"540.627322\" xlink:href=\"#mcd4150b083\" y=\"410.776698\"/>\r\n     <use style=\"fill:#ff0000;stroke:#ff0000;\" x=\"543.935623\" xlink:href=\"#mcd4150b083\" y=\"410.762758\"/>\r\n     <use style=\"fill:#ff0000;stroke:#ff0000;\" x=\"547.243923\" xlink:href=\"#mcd4150b083\" y=\"410.649129\"/>\r\n     <use style=\"fill:#ff0000;stroke:#ff0000;\" x=\"550.552223\" xlink:href=\"#mcd4150b083\" y=\"410.469318\"/>\r\n     <use style=\"fill:#ff0000;stroke:#ff0000;\" x=\"553.860524\" xlink:href=\"#mcd4150b083\" y=\"410.471895\"/>\r\n     <use style=\"fill:#ff0000;stroke:#ff0000;\" x=\"557.168824\" xlink:href=\"#mcd4150b083\" y=\"410.766096\"/>\r\n     <use style=\"fill:#ff0000;stroke:#ff0000;\" x=\"560.477125\" xlink:href=\"#mcd4150b083\" y=\"410.80131\"/>\r\n     <use style=\"fill:#ff0000;stroke:#ff0000;\" x=\"563.785425\" xlink:href=\"#mcd4150b083\" y=\"410.78651\"/>\r\n     <use style=\"fill:#ff0000;stroke:#ff0000;\" x=\"567.093725\" xlink:href=\"#mcd4150b083\" y=\"410.915574\"/>\r\n     <use style=\"fill:#ff0000;stroke:#ff0000;\" x=\"570.402026\" xlink:href=\"#mcd4150b083\" y=\"410.901411\"/>\r\n     <use style=\"fill:#ff0000;stroke:#ff0000;\" x=\"573.710326\" xlink:href=\"#mcd4150b083\" y=\"410.79135\"/>\r\n     <use style=\"fill:#ff0000;stroke:#ff0000;\" x=\"577.018626\" xlink:href=\"#mcd4150b083\" y=\"408.937269\"/>\r\n     <use style=\"fill:#ff0000;stroke:#ff0000;\" x=\"580.326927\" xlink:href=\"#mcd4150b083\" y=\"407.064791\"/>\r\n     <use style=\"fill:#ff0000;stroke:#ff0000;\" x=\"583.635227\" xlink:href=\"#mcd4150b083\" y=\"408.663738\"/>\r\n     <use style=\"fill:#ff0000;stroke:#ff0000;\" x=\"586.943528\" xlink:href=\"#mcd4150b083\" y=\"410.487051\"/>\r\n     <use style=\"fill:#ff0000;stroke:#ff0000;\" x=\"590.251828\" xlink:href=\"#mcd4150b083\" y=\"410.840989\"/>\r\n     <use style=\"fill:#ff0000;stroke:#ff0000;\" x=\"593.560128\" xlink:href=\"#mcd4150b083\" y=\"410.939453\"/>\r\n     <use style=\"fill:#ff0000;stroke:#ff0000;\" x=\"596.868429\" xlink:href=\"#mcd4150b083\" y=\"410.992457\"/>\r\n     <use style=\"fill:#ff0000;stroke:#ff0000;\" x=\"600.176729\" xlink:href=\"#mcd4150b083\" y=\"410.972021\"/>\r\n     <use style=\"fill:#ff0000;stroke:#ff0000;\" x=\"603.48503\" xlink:href=\"#mcd4150b083\" y=\"410.921547\"/>\r\n     <use style=\"fill:#ff0000;stroke:#ff0000;\" x=\"606.79333\" xlink:href=\"#mcd4150b083\" y=\"411.04615\"/>\r\n     <use style=\"fill:#ff0000;stroke:#ff0000;\" x=\"610.10163\" xlink:href=\"#mcd4150b083\" y=\"411.084665\"/>\r\n     <use style=\"fill:#ff0000;stroke:#ff0000;\" x=\"613.409931\" xlink:href=\"#mcd4150b083\" y=\"411.046604\"/>\r\n     <use style=\"fill:#ff0000;stroke:#ff0000;\" x=\"616.718231\" xlink:href=\"#mcd4150b083\" y=\"411.064576\"/>\r\n     <use style=\"fill:#ff0000;stroke:#ff0000;\" x=\"620.026532\" xlink:href=\"#mcd4150b083\" y=\"410.992312\"/>\r\n     <use style=\"fill:#ff0000;stroke:#ff0000;\" x=\"623.334832\" xlink:href=\"#mcd4150b083\" y=\"410.994744\"/>\r\n     <use style=\"fill:#ff0000;stroke:#ff0000;\" x=\"626.643132\" xlink:href=\"#mcd4150b083\" y=\"410.939841\"/>\r\n     <use style=\"fill:#ff0000;stroke:#ff0000;\" x=\"629.951433\" xlink:href=\"#mcd4150b083\" y=\"410.994411\"/>\r\n     <use style=\"fill:#ff0000;stroke:#ff0000;\" x=\"633.259733\" xlink:href=\"#mcd4150b083\" y=\"411.000007\"/>\r\n     <use style=\"fill:#ff0000;stroke:#ff0000;\" x=\"636.568034\" xlink:href=\"#mcd4150b083\" y=\"410.9477\"/>\r\n     <use style=\"fill:#ff0000;stroke:#ff0000;\" x=\"639.876334\" xlink:href=\"#mcd4150b083\" y=\"410.978571\"/>\r\n     <use style=\"fill:#ff0000;stroke:#ff0000;\" x=\"643.184634\" xlink:href=\"#mcd4150b083\" y=\"410.886621\"/>\r\n     <use style=\"fill:#ff0000;stroke:#ff0000;\" x=\"646.492935\" xlink:href=\"#mcd4150b083\" y=\"411.057446\"/>\r\n     <use style=\"fill:#ff0000;stroke:#ff0000;\" x=\"649.801235\" xlink:href=\"#mcd4150b083\" y=\"410.963066\"/>\r\n     <use style=\"fill:#ff0000;stroke:#ff0000;\" x=\"653.109536\" xlink:href=\"#mcd4150b083\" y=\"410.719965\"/>\r\n     <use style=\"fill:#ff0000;stroke:#ff0000;\" x=\"656.417836\" xlink:href=\"#mcd4150b083\" y=\"410.859666\"/>\r\n     <use style=\"fill:#ff0000;stroke:#ff0000;\" x=\"659.726136\" xlink:href=\"#mcd4150b083\" y=\"409.257471\"/>\r\n    </g>\r\n   </g>\r\n   <g id=\"patch_3\">\r\n    <path d=\"M 20.5625 445.403277 \r\nL 20.5625 10.523277 \r\n\" style=\"fill:none;stroke:#000000;stroke-linecap:square;stroke-linejoin:miter;stroke-width:0.8;\"/>\r\n   </g>\r\n   <g id=\"patch_4\">\r\n    <path d=\"M 690.1625 445.403277 \r\nL 690.1625 10.523277 \r\n\" style=\"fill:none;stroke:#000000;stroke-linecap:square;stroke-linejoin:miter;stroke-width:0.8;\"/>\r\n   </g>\r\n   <g id=\"patch_5\">\r\n    <path d=\"M 20.5625 445.403277 \r\nL 690.1625 445.403277 \r\n\" style=\"fill:none;stroke:#000000;stroke-linecap:square;stroke-linejoin:miter;stroke-width:0.8;\"/>\r\n   </g>\r\n   <g id=\"patch_6\">\r\n    <path d=\"M 20.5625 10.523277 \r\nL 690.1625 10.523277 \r\n\" style=\"fill:none;stroke:#000000;stroke-linecap:square;stroke-linejoin:miter;stroke-width:0.8;\"/>\r\n   </g>\r\n   <g id=\"legend_1\">\r\n    <g id=\"patch_7\">\r\n     <path d=\"M 606.04375 47.879527 \r\nL 683.1625 47.879527 \r\nQ 685.1625 47.879527 685.1625 45.879527 \r\nL 685.1625 17.523277 \r\nQ 685.1625 15.523277 683.1625 15.523277 \r\nL 606.04375 15.523277 \r\nQ 604.04375 15.523277 604.04375 17.523277 \r\nL 604.04375 45.879527 \r\nQ 604.04375 47.879527 606.04375 47.879527 \r\nz\r\n\" style=\"fill:#ffffff;opacity:0.8;stroke:#cccccc;stroke-linejoin:miter;\"/>\r\n    </g>\r\n    <g id=\"line2d_20\">\r\n     <path d=\"M 608.04375 23.621715 \r\nL 628.04375 23.621715 \r\n\" style=\"fill:none;stroke:#0000ff;stroke-linecap:square;stroke-width:1.5;\"/>\r\n    </g>\r\n    <g id=\"line2d_21\">\r\n     <g>\r\n      <use style=\"fill:#0000ff;stroke:#0000ff;\" x=\"618.04375\" xlink:href=\"#m9503cb7306\" y=\"23.621715\"/>\r\n     </g>\r\n    </g>\r\n    <g id=\"text_18\">\r\n     <!-- accuracy -->\r\n     <g transform=\"translate(636.04375 27.121715)scale(0.1 -0.1)\">\r\n      <defs>\r\n       <path d=\"M 34.28125 27.484375 \r\nQ 23.390625 27.484375 19.1875 25 \r\nQ 14.984375 22.515625 14.984375 16.5 \r\nQ 14.984375 11.71875 18.140625 8.90625 \r\nQ 21.296875 6.109375 26.703125 6.109375 \r\nQ 34.1875 6.109375 38.703125 11.40625 \r\nQ 43.21875 16.703125 43.21875 25.484375 \r\nL 43.21875 27.484375 \r\nz\r\nM 52.203125 31.203125 \r\nL 52.203125 0 \r\nL 43.21875 0 \r\nL 43.21875 8.296875 \r\nQ 40.140625 3.328125 35.546875 0.953125 \r\nQ 30.953125 -1.421875 24.3125 -1.421875 \r\nQ 15.921875 -1.421875 10.953125 3.296875 \r\nQ 6 8.015625 6 15.921875 \r\nQ 6 25.140625 12.171875 29.828125 \r\nQ 18.359375 34.515625 30.609375 34.515625 \r\nL 43.21875 34.515625 \r\nL 43.21875 35.40625 \r\nQ 43.21875 41.609375 39.140625 45 \r\nQ 35.0625 48.390625 27.6875 48.390625 \r\nQ 23 48.390625 18.546875 47.265625 \r\nQ 14.109375 46.140625 10.015625 43.890625 \r\nL 10.015625 52.203125 \r\nQ 14.9375 54.109375 19.578125 55.046875 \r\nQ 24.21875 56 28.609375 56 \r\nQ 40.484375 56 46.34375 49.84375 \r\nQ 52.203125 43.703125 52.203125 31.203125 \r\nz\r\n\" id=\"DejaVuSans-97\"/>\r\n       <path d=\"M 48.78125 52.59375 \r\nL 48.78125 44.1875 \r\nQ 44.96875 46.296875 41.140625 47.34375 \r\nQ 37.3125 48.390625 33.40625 48.390625 \r\nQ 24.65625 48.390625 19.8125 42.84375 \r\nQ 14.984375 37.3125 14.984375 27.296875 \r\nQ 14.984375 17.28125 19.8125 11.734375 \r\nQ 24.65625 6.203125 33.40625 6.203125 \r\nQ 37.3125 6.203125 41.140625 7.25 \r\nQ 44.96875 8.296875 48.78125 10.40625 \r\nL 48.78125 2.09375 \r\nQ 45.015625 0.34375 40.984375 -0.53125 \r\nQ 36.96875 -1.421875 32.421875 -1.421875 \r\nQ 20.0625 -1.421875 12.78125 6.34375 \r\nQ 5.515625 14.109375 5.515625 27.296875 \r\nQ 5.515625 40.671875 12.859375 48.328125 \r\nQ 20.21875 56 33.015625 56 \r\nQ 37.15625 56 41.109375 55.140625 \r\nQ 45.0625 54.296875 48.78125 52.59375 \r\nz\r\n\" id=\"DejaVuSans-99\"/>\r\n       <path d=\"M 8.5 21.578125 \r\nL 8.5 54.6875 \r\nL 17.484375 54.6875 \r\nL 17.484375 21.921875 \r\nQ 17.484375 14.15625 20.5 10.265625 \r\nQ 23.53125 6.390625 29.59375 6.390625 \r\nQ 36.859375 6.390625 41.078125 11.03125 \r\nQ 45.3125 15.671875 45.3125 23.6875 \r\nL 45.3125 54.6875 \r\nL 54.296875 54.6875 \r\nL 54.296875 0 \r\nL 45.3125 0 \r\nL 45.3125 8.40625 \r\nQ 42.046875 3.421875 37.71875 1 \r\nQ 33.40625 -1.421875 27.6875 -1.421875 \r\nQ 18.265625 -1.421875 13.375 4.4375 \r\nQ 8.5 10.296875 8.5 21.578125 \r\nz\r\nM 31.109375 56 \r\nz\r\n\" id=\"DejaVuSans-117\"/>\r\n       <path d=\"M 41.109375 46.296875 \r\nQ 39.59375 47.171875 37.8125 47.578125 \r\nQ 36.03125 48 33.890625 48 \r\nQ 26.265625 48 22.1875 43.046875 \r\nQ 18.109375 38.09375 18.109375 28.8125 \r\nL 18.109375 0 \r\nL 9.078125 0 \r\nL 9.078125 54.6875 \r\nL 18.109375 54.6875 \r\nL 18.109375 46.1875 \r\nQ 20.953125 51.171875 25.484375 53.578125 \r\nQ 30.03125 56 36.53125 56 \r\nQ 37.453125 56 38.578125 55.875 \r\nQ 39.703125 55.765625 41.0625 55.515625 \r\nz\r\n\" id=\"DejaVuSans-114\"/>\r\n       <path d=\"M 32.171875 -5.078125 \r\nQ 28.375 -14.84375 24.75 -17.8125 \r\nQ 21.140625 -20.796875 15.09375 -20.796875 \r\nL 7.90625 -20.796875 \r\nL 7.90625 -13.28125 \r\nL 13.1875 -13.28125 \r\nQ 16.890625 -13.28125 18.9375 -11.515625 \r\nQ 21 -9.765625 23.484375 -3.21875 \r\nL 25.09375 0.875 \r\nL 2.984375 54.6875 \r\nL 12.5 54.6875 \r\nL 29.59375 11.921875 \r\nL 46.6875 54.6875 \r\nL 56.203125 54.6875 \r\nz\r\n\" id=\"DejaVuSans-121\"/>\r\n      </defs>\r\n      <use xlink:href=\"#DejaVuSans-97\"/>\r\n      <use x=\"61.279297\" xlink:href=\"#DejaVuSans-99\"/>\r\n      <use x=\"116.259766\" xlink:href=\"#DejaVuSans-99\"/>\r\n      <use x=\"171.240234\" xlink:href=\"#DejaVuSans-117\"/>\r\n      <use x=\"234.619141\" xlink:href=\"#DejaVuSans-114\"/>\r\n      <use x=\"275.732422\" xlink:href=\"#DejaVuSans-97\"/>\r\n      <use x=\"337.011719\" xlink:href=\"#DejaVuSans-99\"/>\r\n      <use x=\"391.992188\" xlink:href=\"#DejaVuSans-121\"/>\r\n     </g>\r\n    </g>\r\n    <g id=\"line2d_22\">\r\n     <path d=\"M 608.04375 38.29984 \r\nL 628.04375 38.29984 \r\n\" style=\"fill:none;stroke:#ff0000;stroke-linecap:square;stroke-width:1.5;\"/>\r\n    </g>\r\n    <g id=\"line2d_23\">\r\n     <g>\r\n      <use style=\"fill:#ff0000;stroke:#ff0000;\" x=\"618.04375\" xlink:href=\"#mcd4150b083\" y=\"38.29984\"/>\r\n     </g>\r\n    </g>\r\n    <g id=\"text_19\">\r\n     <!-- loss -->\r\n     <g transform=\"translate(636.04375 41.79984)scale(0.1 -0.1)\">\r\n      <defs>\r\n       <path d=\"M 9.421875 75.984375 \r\nL 18.40625 75.984375 \r\nL 18.40625 0 \r\nL 9.421875 0 \r\nz\r\n\" id=\"DejaVuSans-108\"/>\r\n       <path d=\"M 30.609375 48.390625 \r\nQ 23.390625 48.390625 19.1875 42.75 \r\nQ 14.984375 37.109375 14.984375 27.296875 \r\nQ 14.984375 17.484375 19.15625 11.84375 \r\nQ 23.34375 6.203125 30.609375 6.203125 \r\nQ 37.796875 6.203125 41.984375 11.859375 \r\nQ 46.1875 17.53125 46.1875 27.296875 \r\nQ 46.1875 37.015625 41.984375 42.703125 \r\nQ 37.796875 48.390625 30.609375 48.390625 \r\nz\r\nM 30.609375 56 \r\nQ 42.328125 56 49.015625 48.375 \r\nQ 55.71875 40.765625 55.71875 27.296875 \r\nQ 55.71875 13.875 49.015625 6.21875 \r\nQ 42.328125 -1.421875 30.609375 -1.421875 \r\nQ 18.84375 -1.421875 12.171875 6.21875 \r\nQ 5.515625 13.875 5.515625 27.296875 \r\nQ 5.515625 40.765625 12.171875 48.375 \r\nQ 18.84375 56 30.609375 56 \r\nz\r\n\" id=\"DejaVuSans-111\"/>\r\n       <path d=\"M 44.28125 53.078125 \r\nL 44.28125 44.578125 \r\nQ 40.484375 46.53125 36.375 47.5 \r\nQ 32.28125 48.484375 27.875 48.484375 \r\nQ 21.1875 48.484375 17.84375 46.4375 \r\nQ 14.5 44.390625 14.5 40.28125 \r\nQ 14.5 37.15625 16.890625 35.375 \r\nQ 19.28125 33.59375 26.515625 31.984375 \r\nL 29.59375 31.296875 \r\nQ 39.15625 29.25 43.1875 25.515625 \r\nQ 47.21875 21.78125 47.21875 15.09375 \r\nQ 47.21875 7.46875 41.1875 3.015625 \r\nQ 35.15625 -1.421875 24.609375 -1.421875 \r\nQ 20.21875 -1.421875 15.453125 -0.5625 \r\nQ 10.6875 0.296875 5.421875 2 \r\nL 5.421875 11.28125 \r\nQ 10.40625 8.6875 15.234375 7.390625 \r\nQ 20.0625 6.109375 24.8125 6.109375 \r\nQ 31.15625 6.109375 34.5625 8.28125 \r\nQ 37.984375 10.453125 37.984375 14.40625 \r\nQ 37.984375 18.0625 35.515625 20.015625 \r\nQ 33.0625 21.96875 24.703125 23.78125 \r\nL 21.578125 24.515625 \r\nQ 13.234375 26.265625 9.515625 29.90625 \r\nQ 5.8125 33.546875 5.8125 39.890625 \r\nQ 5.8125 47.609375 11.28125 51.796875 \r\nQ 16.75 56 26.8125 56 \r\nQ 31.78125 56 36.171875 55.265625 \r\nQ 40.578125 54.546875 44.28125 53.078125 \r\nz\r\n\" id=\"DejaVuSans-115\"/>\r\n      </defs>\r\n      <use xlink:href=\"#DejaVuSans-108\"/>\r\n      <use x=\"27.783203\" xlink:href=\"#DejaVuSans-111\"/>\r\n      <use x=\"88.964844\" xlink:href=\"#DejaVuSans-115\"/>\r\n      <use x=\"141.064453\" xlink:href=\"#DejaVuSans-115\"/>\r\n     </g>\r\n    </g>\r\n   </g>\r\n  </g>\r\n </g>\r\n <defs>\r\n  <clipPath id=\"p797d62808c\">\r\n   <rect height=\"434.88\" width=\"669.6\" x=\"20.5625\" y=\"10.523277\"/>\r\n  </clipPath>\r\n </defs>\r\n</svg>\r\n",
      "image/png": "[encoded data removed]"
     },
     "metadata": {
      "needs_background": "light"
     }
    }
   ],
   "source": [
    "#(3) 모델의 compile 설정하기. \n",
    "model.compile(\n",
    "    optimizer='adam',\n",
    "    loss='categorical_crossentropy',\n",
    "    metrics='accuracy'\n",
    ")\n",
    "\n",
    "#(4) checkpointer 객체 정의하기. \n",
    "MODEL_PATH = '../../model/NYTC_best_GRU_model.h5'\n",
    "checkpointer = ModelCheckpoint(\n",
    "    filepath = MODEL_PATH,\n",
    "    monitor  = 'loss',\n",
    "    save_best_only = True,\n",
    "    verbose = 0\n",
    ")\n",
    "\n",
    "#(5) earlystopping 객체 할당하기. \n",
    "earlystopping = EarlyStopping(monitor='loss',patience=15)\n",
    "\n",
    "#(6) 모델 학습하기. \n",
    "model_fit = model.fit(\n",
    "    X, \n",
    "    Y,\n",
    "    epochs=2500,\n",
    "    callbacks=[checkpointer, earlystopping],\n",
    "    verbose=0\n",
    ")\n",
    "\n",
    "#(7) 모델의 학습 과정 시각화하기. \n",
    "y_loss = model_fit.history['loss']\n",
    "y_accuracy = model_fit.history['accuracy']\n",
    "x_len = np.arange(len(y_loss))\n",
    "plt.figure(figsize=(12,8))\n",
    "plt.plot(x_len, y_accuracy, 'bo-', markersize=2, label='accuracy')\n",
    "plt.plot(x_len, y_loss, 'ro-', markersize=2, label='loss')\n",
    "plt.legend()\n",
    "plt.show()"
   ]
  },
  {
   "cell_type": "code",
   "execution_count": 15,
   "metadata": {},
   "outputs": [
    {
     "output_type": "execute_result",
     "data": {
      "text/plain": [
       "'i disapprove of school vouchers can i still apply for them'"
      ]
     },
     "metadata": {},
     "execution_count": 15
    }
   ],
   "source": [
    "#06. 모델 검증하기. \n",
    "#(1) 검증용 함수 정의하기. (by github.com/ckiekim)\n",
    "def sentence_generation(model, tokenizer, max_len, current_word, n)         : \n",
    "    init_word = current_word \n",
    "    best_model = load_model(MODEL_PATH)\n",
    "    sentence = ''\n",
    "    for _ in range(n)                                                       : \n",
    "        encoded = tokenizer.texts_to_sequences([current_word])[0] \n",
    "        encoded = pad_sequences([encoded], maxlen=max_len-1, padding='pre') \n",
    "        result = best_model.predict_classes(encoded, verbose=0)\n",
    "        for word, index in tokenizer.word_index.items(): \n",
    "            if index == result                                              :\n",
    "                break \n",
    "        current_word = current_word + ' ' + word \n",
    "        sentence = sentence + ' ' + word \n",
    "    sentence = init_word + sentence\n",
    "    return sentence\n",
    "\n",
    "#(2) 검증하기.\n",
    "sentence_generation(model, tokenizer, max_len, 'i', 10)"
   ]
  },
  {
   "cell_type": "code",
   "execution_count": 16,
   "metadata": {},
   "outputs": [
    {
     "output_type": "execute_result",
     "data": {
      "text/plain": [
       "'epa and underwear for all now to endless as it border'"
      ]
     },
     "metadata": {},
     "execution_count": 16
    }
   ],
   "source": [
    "sentence_generation(model, tokenizer, max_len, 'epa', 10)"
   ]
  },
  {
   "cell_type": "code",
   "execution_count": 17,
   "metadata": {},
   "outputs": [
    {
     "output_type": "execute_result",
     "data": {
      "text/plain": [
       "'former judge to review files seized in searches trump to think'"
      ]
     },
     "metadata": {},
     "execution_count": 17
    }
   ],
   "source": [
    "sentence_generation(model, tokenizer, max_len, 'former', 10)"
   ]
  },
  {
   "cell_type": "code",
   "execution_count": 18,
   "metadata": {},
   "outputs": [
    {
     "output_type": "execute_result",
     "data": {
      "text/plain": [
       "'how to make a crossword puzzle stoically defying currency art to'"
      ]
     },
     "metadata": {},
     "execution_count": 18
    }
   ],
   "source": [
    "sentence_generation(model, tokenizer, max_len, 'how', 10)"
   ]
  }
 ]
}