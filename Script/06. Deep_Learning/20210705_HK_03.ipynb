{
 "metadata": {
  "language_info": {
   "codemirror_mode": {
    "name": "ipython",
    "version": 3
   },
   "file_extension": ".py",
   "mimetype": "text/x-python",
   "name": "python",
   "nbconvert_exporter": "python",
   "pygments_lexer": "ipython3",
   "version": "3.8.10"
  },
  "orig_nbformat": 4,
  "kernelspec": {
   "name": "python3",
   "display_name": "Python 3.8.10 64-bit ('base': conda)"
  },
  "interpreter": {
   "hash": "5b56da8208ae380fa2c15171ec3bd1c59fd37e61d99a7ebd9f8c7e6e7af5d3db"
  }
 },
 "nbformat": 4,
 "nbformat_minor": 2,
 "cells": [
  {
   "cell_type": "code",
   "execution_count": 1,
   "metadata": {},
   "outputs": [],
   "source": [
    "#2021.07.06. TUE\n",
    "#Hankyeong\n",
    "\n",
    "#00. 패키지 호출 \n",
    "import numpy as np \n",
    "import pandas as pd\n",
    "import matplotlib.pyplot as plt \n",
    "import warnings \n",
    "import re\n",
    "import tensorflow as tf\n",
    "from sklearn.model_selection import train_test_split\n",
    "from tensorflow.keras.preprocessing.text import Tokenizer\n",
    "from tensorflow.keras.preprocessing.sequence import pad_sequences\n",
    "from tensorflow.keras.utils import to_categorical\n",
    "from tensorflow.keras.models import Sequential, load_model\n",
    "from tensorflow.keras.layers import Dense, Embedding, SimpleRNN\n",
    "from tensorflow.keras.callbacks import ModelCheckpoint, EarlyStopping\n",
    "from scipy.linalg import toeplitz\n",
    "\n",
    "#00-1. 시각화 옵션 설정\n",
    "%matplotlib inline\n",
    "\n",
    "#00-2. warning message ignore\n",
    "warnings.filterwarnings(action='ignore')\n",
    "\n",
    "#00-3. 씨드넘버 설정\n",
    "np.random.seed(2021)\n",
    "tf.random.set_seed(2021)\n"
   ]
  },
  {
   "cell_type": "code",
   "execution_count": 2,
   "metadata": {},
   "outputs": [
    {
     "output_type": "execute_result",
     "data": {
      "text/plain": [
       "        v1                                                 v2 Unnamed: 2  \\\n",
       "0      ham  Go until jurong point, crazy.. Available only ...        NaN   \n",
       "1      ham                      Ok lar... Joking wif u oni...        NaN   \n",
       "2     spam  Free entry in 2 a wkly comp to win FA Cup fina...        NaN   \n",
       "3      ham  U dun say so early hor... U c already then say...        NaN   \n",
       "4      ham  Nah I don't think he goes to usf, he lives aro...        NaN   \n",
       "...    ...                                                ...        ...   \n",
       "5567  spam  This is the 2nd time we have tried 2 contact u...        NaN   \n",
       "5568   ham              Will Ì_ b going to esplanade fr home?        NaN   \n",
       "5569   ham  Pity, * was in mood for that. So...any other s...        NaN   \n",
       "5570   ham  The guy did some bitching but I acted like i'd...        NaN   \n",
       "5571   ham                         Rofl. Its true to its name        NaN   \n",
       "\n",
       "     Unnamed: 3 Unnamed: 4  \n",
       "0           NaN        NaN  \n",
       "1           NaN        NaN  \n",
       "2           NaN        NaN  \n",
       "3           NaN        NaN  \n",
       "4           NaN        NaN  \n",
       "...         ...        ...  \n",
       "5567        NaN        NaN  \n",
       "5568        NaN        NaN  \n",
       "5569        NaN        NaN  \n",
       "5570        NaN        NaN  \n",
       "5571        NaN        NaN  \n",
       "\n",
       "[5572 rows x 5 columns]"
      ],
      "text/html": "<div>\n<style scoped>\n    .dataframe tbody tr th:only-of-type {\n        vertical-align: middle;\n    }\n\n    .dataframe tbody tr th {\n        vertical-align: top;\n    }\n\n    .dataframe thead th {\n        text-align: right;\n    }\n</style>\n<table border=\"1\" class=\"dataframe\">\n  <thead>\n    <tr style=\"text-align: right;\">\n      <th></th>\n      <th>v1</th>\n      <th>v2</th>\n      <th>Unnamed: 2</th>\n      <th>Unnamed: 3</th>\n      <th>Unnamed: 4</th>\n    </tr>\n  </thead>\n  <tbody>\n    <tr>\n      <th>0</th>\n      <td>ham</td>\n      <td>Go until jurong point, crazy.. Available only ...</td>\n      <td>NaN</td>\n      <td>NaN</td>\n      <td>NaN</td>\n    </tr>\n    <tr>\n      <th>1</th>\n      <td>ham</td>\n      <td>Ok lar... Joking wif u oni...</td>\n      <td>NaN</td>\n      <td>NaN</td>\n      <td>NaN</td>\n    </tr>\n    <tr>\n      <th>2</th>\n      <td>spam</td>\n      <td>Free entry in 2 a wkly comp to win FA Cup fina...</td>\n      <td>NaN</td>\n      <td>NaN</td>\n      <td>NaN</td>\n    </tr>\n    <tr>\n      <th>3</th>\n      <td>ham</td>\n      <td>U dun say so early hor... U c already then say...</td>\n      <td>NaN</td>\n      <td>NaN</td>\n      <td>NaN</td>\n    </tr>\n    <tr>\n      <th>4</th>\n      <td>ham</td>\n      <td>Nah I don't think he goes to usf, he lives aro...</td>\n      <td>NaN</td>\n      <td>NaN</td>\n      <td>NaN</td>\n    </tr>\n    <tr>\n      <th>...</th>\n      <td>...</td>\n      <td>...</td>\n      <td>...</td>\n      <td>...</td>\n      <td>...</td>\n    </tr>\n    <tr>\n      <th>5567</th>\n      <td>spam</td>\n      <td>This is the 2nd time we have tried 2 contact u...</td>\n      <td>NaN</td>\n      <td>NaN</td>\n      <td>NaN</td>\n    </tr>\n    <tr>\n      <th>5568</th>\n      <td>ham</td>\n      <td>Will Ì_ b going to esplanade fr home?</td>\n      <td>NaN</td>\n      <td>NaN</td>\n      <td>NaN</td>\n    </tr>\n    <tr>\n      <th>5569</th>\n      <td>ham</td>\n      <td>Pity, * was in mood for that. So...any other s...</td>\n      <td>NaN</td>\n      <td>NaN</td>\n      <td>NaN</td>\n    </tr>\n    <tr>\n      <th>5570</th>\n      <td>ham</td>\n      <td>The guy did some bitching but I acted like i'd...</td>\n      <td>NaN</td>\n      <td>NaN</td>\n      <td>NaN</td>\n    </tr>\n    <tr>\n      <th>5571</th>\n      <td>ham</td>\n      <td>Rofl. Its true to its name</td>\n      <td>NaN</td>\n      <td>NaN</td>\n      <td>NaN</td>\n    </tr>\n  </tbody>\n</table>\n<p>5572 rows × 5 columns</p>\n</div>"
     },
     "metadata": {},
     "execution_count": 2
    }
   ],
   "source": [
    "#08. SMS 데이터셋 전처리하기. \n",
    "#(1) 데이터셋 불러오기. \n",
    "spam_raw = pd.read_csv('../../data/spam.csv', encoding='latin1')\n",
    "spam_raw"
   ]
  },
  {
   "cell_type": "code",
   "execution_count": 3,
   "metadata": {},
   "outputs": [
    {
     "output_type": "execute_result",
     "data": {
      "text/plain": [
       "                                                feature target\n",
       "0     Go until jurong point, crazy.. Available only ...    ham\n",
       "1                         Ok lar... Joking wif u oni...    ham\n",
       "2     Free entry in 2 a wkly comp to win FA Cup fina...   spam\n",
       "3     U dun say so early hor... U c already then say...    ham\n",
       "4     Nah I don't think he goes to usf, he lives aro...    ham\n",
       "...                                                 ...    ...\n",
       "5567  This is the 2nd time we have tried 2 contact u...   spam\n",
       "5568              Will Ì_ b going to esplanade fr home?    ham\n",
       "5569  Pity, * was in mood for that. So...any other s...    ham\n",
       "5570  The guy did some bitching but I acted like i'd...    ham\n",
       "5571                         Rofl. Its true to its name    ham\n",
       "\n",
       "[5572 rows x 2 columns]"
      ],
      "text/html": "<div>\n<style scoped>\n    .dataframe tbody tr th:only-of-type {\n        vertical-align: middle;\n    }\n\n    .dataframe tbody tr th {\n        vertical-align: top;\n    }\n\n    .dataframe thead th {\n        text-align: right;\n    }\n</style>\n<table border=\"1\" class=\"dataframe\">\n  <thead>\n    <tr style=\"text-align: right;\">\n      <th></th>\n      <th>feature</th>\n      <th>target</th>\n    </tr>\n  </thead>\n  <tbody>\n    <tr>\n      <th>0</th>\n      <td>Go until jurong point, crazy.. Available only ...</td>\n      <td>ham</td>\n    </tr>\n    <tr>\n      <th>1</th>\n      <td>Ok lar... Joking wif u oni...</td>\n      <td>ham</td>\n    </tr>\n    <tr>\n      <th>2</th>\n      <td>Free entry in 2 a wkly comp to win FA Cup fina...</td>\n      <td>spam</td>\n    </tr>\n    <tr>\n      <th>3</th>\n      <td>U dun say so early hor... U c already then say...</td>\n      <td>ham</td>\n    </tr>\n    <tr>\n      <th>4</th>\n      <td>Nah I don't think he goes to usf, he lives aro...</td>\n      <td>ham</td>\n    </tr>\n    <tr>\n      <th>...</th>\n      <td>...</td>\n      <td>...</td>\n    </tr>\n    <tr>\n      <th>5567</th>\n      <td>This is the 2nd time we have tried 2 contact u...</td>\n      <td>spam</td>\n    </tr>\n    <tr>\n      <th>5568</th>\n      <td>Will Ì_ b going to esplanade fr home?</td>\n      <td>ham</td>\n    </tr>\n    <tr>\n      <th>5569</th>\n      <td>Pity, * was in mood for that. So...any other s...</td>\n      <td>ham</td>\n    </tr>\n    <tr>\n      <th>5570</th>\n      <td>The guy did some bitching but I acted like i'd...</td>\n      <td>ham</td>\n    </tr>\n    <tr>\n      <th>5571</th>\n      <td>Rofl. Its true to its name</td>\n      <td>ham</td>\n    </tr>\n  </tbody>\n</table>\n<p>5572 rows × 2 columns</p>\n</div>"
     },
     "metadata": {},
     "execution_count": 3
    }
   ],
   "source": [
    "#(2) 필요 변수만 추출하기. \n",
    "spam = pd.DataFrame({\n",
    "    'feature' : spam_raw['v2'],\n",
    "    'target'  : spam_raw['v1']\n",
    "})\n",
    "spam"
   ]
  },
  {
   "cell_type": "code",
   "execution_count": 4,
   "metadata": {},
   "outputs": [
    {
     "output_type": "execute_result",
     "data": {
      "text/plain": [
       "                                                feature  target\n",
       "0     Go until jurong point, crazy.. Available only ...       0\n",
       "1                         Ok lar... Joking wif u oni...       0\n",
       "2     Free entry in 2 a wkly comp to win FA Cup fina...       1\n",
       "3     U dun say so early hor... U c already then say...       0\n",
       "4     Nah I don't think he goes to usf, he lives aro...       0\n",
       "...                                                 ...     ...\n",
       "5567  This is the 2nd time we have tried 2 contact u...       1\n",
       "5568              Will Ì_ b going to esplanade fr home?       0\n",
       "5569  Pity, * was in mood for that. So...any other s...       0\n",
       "5570  The guy did some bitching but I acted like i'd...       0\n",
       "5571                         Rofl. Its true to its name       0\n",
       "\n",
       "[5572 rows x 2 columns]"
      ],
      "text/html": "<div>\n<style scoped>\n    .dataframe tbody tr th:only-of-type {\n        vertical-align: middle;\n    }\n\n    .dataframe tbody tr th {\n        vertical-align: top;\n    }\n\n    .dataframe thead th {\n        text-align: right;\n    }\n</style>\n<table border=\"1\" class=\"dataframe\">\n  <thead>\n    <tr style=\"text-align: right;\">\n      <th></th>\n      <th>feature</th>\n      <th>target</th>\n    </tr>\n  </thead>\n  <tbody>\n    <tr>\n      <th>0</th>\n      <td>Go until jurong point, crazy.. Available only ...</td>\n      <td>0</td>\n    </tr>\n    <tr>\n      <th>1</th>\n      <td>Ok lar... Joking wif u oni...</td>\n      <td>0</td>\n    </tr>\n    <tr>\n      <th>2</th>\n      <td>Free entry in 2 a wkly comp to win FA Cup fina...</td>\n      <td>1</td>\n    </tr>\n    <tr>\n      <th>3</th>\n      <td>U dun say so early hor... U c already then say...</td>\n      <td>0</td>\n    </tr>\n    <tr>\n      <th>4</th>\n      <td>Nah I don't think he goes to usf, he lives aro...</td>\n      <td>0</td>\n    </tr>\n    <tr>\n      <th>...</th>\n      <td>...</td>\n      <td>...</td>\n    </tr>\n    <tr>\n      <th>5567</th>\n      <td>This is the 2nd time we have tried 2 contact u...</td>\n      <td>1</td>\n    </tr>\n    <tr>\n      <th>5568</th>\n      <td>Will Ì_ b going to esplanade fr home?</td>\n      <td>0</td>\n    </tr>\n    <tr>\n      <th>5569</th>\n      <td>Pity, * was in mood for that. So...any other s...</td>\n      <td>0</td>\n    </tr>\n    <tr>\n      <th>5570</th>\n      <td>The guy did some bitching but I acted like i'd...</td>\n      <td>0</td>\n    </tr>\n    <tr>\n      <th>5571</th>\n      <td>Rofl. Its true to its name</td>\n      <td>0</td>\n    </tr>\n  </tbody>\n</table>\n<p>5572 rows × 2 columns</p>\n</div>"
     },
     "metadata": {},
     "execution_count": 4
    }
   ],
   "source": [
    "#(3) target 변수 레이블 인코딩하기. \n",
    "spam['target'] = spam['target'].replace(['ham','spam'], [0,1])\n",
    "spam"
   ]
  },
  {
   "cell_type": "code",
   "execution_count": 5,
   "metadata": {},
   "outputs": [
    {
     "output_type": "execute_result",
     "data": {
      "text/plain": [
       "feature    0\n",
       "target     0\n",
       "dtype: int64"
      ]
     },
     "metadata": {},
     "execution_count": 5
    }
   ],
   "source": [
    "#(4) 결측치 확인하기. \n",
    "spam.isna().sum()"
   ]
  },
  {
   "cell_type": "code",
   "execution_count": 6,
   "metadata": {},
   "outputs": [
    {
     "output_type": "execute_result",
     "data": {
      "text/plain": [
       "array([0, 1], dtype=int64)"
      ]
     },
     "metadata": {},
     "execution_count": 6
    }
   ],
   "source": [
    "#(5) target 변수의 unique값 확인하기. \n",
    "spam['target'].unique()"
   ]
  },
  {
   "cell_type": "code",
   "execution_count": 7,
   "metadata": {},
   "outputs": [
    {
     "output_type": "execute_result",
     "data": {
      "text/plain": [
       "0    4825\n",
       "1     747\n",
       "Name: target, dtype: int64"
      ]
     },
     "metadata": {},
     "execution_count": 7
    }
   ],
   "source": [
    "#(6) target 변수의 분포 확인하기. \n",
    "spam['target'].value_counts()"
   ]
  },
  {
   "cell_type": "code",
   "execution_count": 8,
   "metadata": {},
   "outputs": [
    {
     "output_type": "execute_result",
     "data": {
      "text/plain": [
       "5169"
      ]
     },
     "metadata": {},
     "execution_count": 8
    }
   ],
   "source": [
    "#(7) feature 변수의 중복 데이터 확인하기. \n",
    "spam['feature'].nunique()"
   ]
  },
  {
   "cell_type": "code",
   "execution_count": 9,
   "metadata": {},
   "outputs": [
    {
     "output_type": "execute_result",
     "data": {
      "text/plain": [
       "                                                feature  target\n",
       "0     Go until jurong point, crazy.. Available only ...       0\n",
       "1                         Ok lar... Joking wif u oni...       0\n",
       "2     Free entry in 2 a wkly comp to win FA Cup fina...       1\n",
       "3     U dun say so early hor... U c already then say...       0\n",
       "4     Nah I don't think he goes to usf, he lives aro...       0\n",
       "...                                                 ...     ...\n",
       "5567  This is the 2nd time we have tried 2 contact u...       1\n",
       "5568              Will Ì_ b going to esplanade fr home?       0\n",
       "5569  Pity, * was in mood for that. So...any other s...       0\n",
       "5570  The guy did some bitching but I acted like i'd...       0\n",
       "5571                         Rofl. Its true to its name       0\n",
       "\n",
       "[5169 rows x 2 columns]"
      ],
      "text/html": "<div>\n<style scoped>\n    .dataframe tbody tr th:only-of-type {\n        vertical-align: middle;\n    }\n\n    .dataframe tbody tr th {\n        vertical-align: top;\n    }\n\n    .dataframe thead th {\n        text-align: right;\n    }\n</style>\n<table border=\"1\" class=\"dataframe\">\n  <thead>\n    <tr style=\"text-align: right;\">\n      <th></th>\n      <th>feature</th>\n      <th>target</th>\n    </tr>\n  </thead>\n  <tbody>\n    <tr>\n      <th>0</th>\n      <td>Go until jurong point, crazy.. Available only ...</td>\n      <td>0</td>\n    </tr>\n    <tr>\n      <th>1</th>\n      <td>Ok lar... Joking wif u oni...</td>\n      <td>0</td>\n    </tr>\n    <tr>\n      <th>2</th>\n      <td>Free entry in 2 a wkly comp to win FA Cup fina...</td>\n      <td>1</td>\n    </tr>\n    <tr>\n      <th>3</th>\n      <td>U dun say so early hor... U c already then say...</td>\n      <td>0</td>\n    </tr>\n    <tr>\n      <th>4</th>\n      <td>Nah I don't think he goes to usf, he lives aro...</td>\n      <td>0</td>\n    </tr>\n    <tr>\n      <th>...</th>\n      <td>...</td>\n      <td>...</td>\n    </tr>\n    <tr>\n      <th>5567</th>\n      <td>This is the 2nd time we have tried 2 contact u...</td>\n      <td>1</td>\n    </tr>\n    <tr>\n      <th>5568</th>\n      <td>Will Ì_ b going to esplanade fr home?</td>\n      <td>0</td>\n    </tr>\n    <tr>\n      <th>5569</th>\n      <td>Pity, * was in mood for that. So...any other s...</td>\n      <td>0</td>\n    </tr>\n    <tr>\n      <th>5570</th>\n      <td>The guy did some bitching but I acted like i'd...</td>\n      <td>0</td>\n    </tr>\n    <tr>\n      <th>5571</th>\n      <td>Rofl. Its true to its name</td>\n      <td>0</td>\n    </tr>\n  </tbody>\n</table>\n<p>5169 rows × 2 columns</p>\n</div>"
     },
     "metadata": {},
     "execution_count": 9
    }
   ],
   "source": [
    "#(8) feature 변수의 중복 데이터 제거하기. \n",
    "spam.drop_duplicates(subset='feature', keep='first', inplace=True)\n",
    "spam"
   ]
  },
  {
   "cell_type": "code",
   "execution_count": 10,
   "metadata": {},
   "outputs": [
    {
     "output_type": "execute_result",
     "data": {
      "text/plain": [
       "((5169,), (5169,))"
      ]
     },
     "metadata": {},
     "execution_count": 10
    }
   ],
   "source": [
    "#(9) feature, target 데이터 분할하기. \n",
    "X_data = spam['feature'].values\n",
    "y_data = spam['target'].values\n",
    "\n",
    "#(10) feature, target 데이터 차원 확인하기. \n",
    "X_data.shape, y_data.shape"
   ]
  },
  {
   "cell_type": "code",
   "execution_count": 11,
   "metadata": {},
   "outputs": [
    {
     "output_type": "execute_result",
     "data": {
      "text/plain": [
       "['go until jurong point crazy available only in bugis n great world la e buffet cine there got amore wat',\n",
       " 'ok lar joking wif u oni',\n",
       " 'free entry in 2 a wkly comp to win fa cup final tkts 21st may 2005 text fa to 87121 to receive entry questionstd txt ratetcs apply 08452810075over18s',\n",
       " 'u dun say so early hor u c already then say',\n",
       " 'nah i dont think he goes to usf he lives around here though',\n",
       " 'freemsg hey there darling its been 3 weeks now and no word back id like some fun you up for it still tb ok xxx std chgs to send 150 to rcv',\n",
       " 'even my brother is not like to speak with me they treat me like aids patent',\n",
       " 'as per your request melle melle oru minnaminunginte nurungu vettam has been set as your callertune for all callers press 9 to copy your friends callertune',\n",
       " 'winner as a valued network customer you have been selected to receivea 900 prize reward to claim call 09061701461 claim code kl341 valid 12 hours only',\n",
       " 'had your mobile 11 months or more u r entitled to update to the latest colour mobiles with camera for free call the mobile update co free on 08002986030']"
      ]
     },
     "metadata": {},
     "execution_count": 11
    }
   ],
   "source": [
    "#09. feature 데이터 텍스트 처리하기. \n",
    "#(1) 숫자와 영어를 제외한 모든 문자 삭제하고 소문자처리하기.  \n",
    "X_data_pre = []\n",
    "for x in X_data : \n",
    "    x_pre = re.sub('[^0-9A-Za-z ]','',x).lower()\n",
    "    X_data_pre.append(x_pre)\n",
    "\n",
    "#(2) sample의 첫 10개 확인하기. \n",
    "X_data_pre[:10]"
   ]
  },
  {
   "cell_type": "code",
   "execution_count": 12,
   "metadata": {},
   "outputs": [
    {
     "output_type": "execute_result",
     "data": {
      "text/plain": [
       "9479"
      ]
     },
     "metadata": {},
     "execution_count": 12
    }
   ],
   "source": [
    "#(3) keras의 Tonkenizer 객체 지정하기. \n",
    "tokenizer = Tokenizer()\n",
    "\n",
    "#(4) 토큰화하기. \n",
    "tokenizer.fit_on_texts(X_data_pre)\n",
    "\n",
    "#(5) 단어집합 설정하기. \n",
    "voca_size = len(tokenizer.word_index) +1 \n",
    "voca_size"
   ]
  },
  {
   "cell_type": "code",
   "execution_count": 13,
   "metadata": {},
   "outputs": [
    {
     "output_type": "stream",
     "name": "stdout",
     "text": [
      "[43, 410, 3837, 729, 663, 699, 65, 8, 1138, 93, 118, 459, 1139, 146, 2565, 1140, 68, 56, 3838, 133]\n"
     ]
    }
   ],
   "source": [
    "#(6) keras에 맞게 index 처리하기. \n",
    "sequences = tokenizer.texts_to_sequences(X_data_pre)\n",
    "\n",
    "#(7) 첫 sample 구조 확인하기. \n",
    "print(sequences[0])"
   ]
  },
  {
   "cell_type": "code",
   "execution_count": 14,
   "metadata": {},
   "outputs": [
    {
     "output_type": "execute_result",
     "data": {
      "text/plain": [
       "171"
      ]
     },
     "metadata": {},
     "execution_count": 14
    }
   ],
   "source": [
    "#(8) sample의 최대 길이 확인하기. \n",
    "max_len = max(len(l) for l in sequences)\n",
    "max_len"
   ]
  },
  {
   "cell_type": "code",
   "execution_count": 15,
   "metadata": {},
   "outputs": [
    {
     "output_type": "execute_result",
     "data": {
      "text/plain": [
       "(5169, 171)"
      ]
     },
     "metadata": {},
     "execution_count": 15
    }
   ],
   "source": [
    "#(9) 패딩 처리하기. \n",
    "X_data_pad = pad_sequences(sequences, maxlen=max_len)\n",
    "\n",
    "#(10) 패딩 처리 후 차원 확인하기. \n",
    "X_data_pad.shape"
   ]
  },
  {
   "cell_type": "code",
   "execution_count": 16,
   "metadata": {},
   "outputs": [
    {
     "output_type": "execute_result",
     "data": {
      "text/plain": [
       "((4135, 171), (4135,), (1034, 171), (1034,))"
      ]
     },
     "metadata": {},
     "execution_count": 16
    }
   ],
   "source": [
    "#(11) train, test 데이터셋으로 분할하기. \n",
    "X_train, X_test, y_train, y_test = train_test_split(\n",
    "    X_data_pad, y_data, stratify=y_data, test_size=0.2, random_state=2021\n",
    ")\n",
    "\n",
    "#(12) train, test 데이터셋의 차원 확인하기. \n",
    "X_train.shape, y_train.shape, X_test.shape, y_test.shape"
   ]
  },
  {
   "cell_type": "code",
   "execution_count": 17,
   "metadata": {},
   "outputs": [
    {
     "output_type": "stream",
     "name": "stdout",
     "text": [
      "Model: \"sequential\"\n_________________________________________________________________\nLayer (type)                 Output Shape              Param #   \n=================================================================\nembedding (Embedding)        (None, 171, 32)           303328    \n_________________________________________________________________\nsimple_rnn (SimpleRNN)       (None, 128)               20608     \n_________________________________________________________________\ndense (Dense)                (None, 1)                 129       \n=================================================================\nTotal params: 324,065\nTrainable params: 324,065\nNon-trainable params: 0\n_________________________________________________________________\n"
     ]
    }
   ],
   "source": [
    "#03. RNN 모델로 이진 분류하기. \n",
    "#(1) 모델 정의하기. \n",
    "model = Sequential([\n",
    "    Embedding(voca_size, 32, input_length = max_len),\n",
    "    SimpleRNN(128),\n",
    "    Dense(1, activation='sigmoid')\n",
    "])\n",
    "\n",
    "#(2) 모델의 요약 정보 확인하기. \n",
    "model.summary()"
   ]
  },
  {
   "cell_type": "code",
   "execution_count": 18,
   "metadata": {},
   "outputs": [
    {
     "output_type": "stream",
     "name": "stdout",
     "text": [
      "33/33 [==============================] - 1s 27ms/step - loss: 0.1307 - accuracy: 0.9594\n"
     ]
    },
    {
     "output_type": "execute_result",
     "data": {
      "text/plain": [
       "[0.1307288259267807, 0.9593810439109802]"
      ]
     },
     "metadata": {},
     "execution_count": 18
    }
   ],
   "source": [
    "#(3) 모델의 컴파일 설정하기.\n",
    "model.compile(\n",
    "    optimizer='adam',\n",
    "    loss='binary_crossentropy',\n",
    "    metrics='accuracy'\n",
    ")\n",
    "\n",
    "#(4) checkpointer 객체 할당하기. \n",
    "MODEL_PATH = '../../model/spam_best_RNN_model.h5'\n",
    "checkpointer = ModelCheckpoint(\n",
    "    filepath=MODEL_PATH,\n",
    "    monitor='val_loss',\n",
    "    save_best_only=True,\n",
    "    verbose=0\n",
    ")\n",
    "\n",
    "#(5) earlystopping 객체 할당하기. \n",
    "earlystopping = EarlyStopping(\n",
    "    monitor='val_loss',\n",
    "    patience=15\n",
    ")\n",
    "\n",
    "#(6) 모델 학습하기. \n",
    "model_fit = model.fit(\n",
    "    X_train,\n",
    "    y_train,\n",
    "    validation_split=0.2,\n",
    "    callbacks=[checkpointer, earlystopping],\n",
    "    epochs=2500,\n",
    "    verbose=0\n",
    ")\n",
    "\n",
    "#(7) best 모델 할당하기. \n",
    "best_model = load_model(MODEL_PATH)\n",
    "\n",
    "#(8) best 모델로 예측하기. \n",
    "best_model.evaluate(X_test,y_test)"
   ]
  },
  {
   "cell_type": "code",
   "execution_count": 19,
   "metadata": {},
   "outputs": [
    {
     "output_type": "display_data",
     "data": {
      "text/plain": "<Figure size 864x576 with 1 Axes>",
      "image/svg+xml": "<?xml version=\"1.0\" encoding=\"utf-8\" standalone=\"no\"?>\r\n<!DOCTYPE svg PUBLIC \"-//W3C//DTD SVG 1.1//EN\"\r\n  \"http://www.w3.org/Graphics/SVG/1.1/DTD/svg11.dtd\">\r\n<!-- Created with matplotlib (https://matplotlib.org/) -->\r\n<svg height=\"465.958125pt\" version=\"1.1\" viewBox=\"0 0 706.903125 465.958125\" width=\"706.903125pt\" xmlns=\"http://www.w3.org/2000/svg\" xmlns:xlink=\"http://www.w3.org/1999/xlink\">\r\n <metadata>\r\n  <rdf:RDF xmlns:cc=\"http://creativecommons.org/ns#\" xmlns:dc=\"http://purl.org/dc/elements/1.1/\" xmlns:rdf=\"http://www.w3.org/1999/02/22-rdf-syntax-ns#\">\r\n   <cc:Work>\r\n    <dc:type rdf:resource=\"http://purl.org/dc/dcmitype/StillImage\"/>\r\n    <dc:date>2021-07-06T16:30:47.944404</dc:date>\r\n    <dc:format>image/svg+xml</dc:format>\r\n    <dc:creator>\r\n     <cc:Agent>\r\n      <dc:title>Matplotlib v3.3.4, https://matplotlib.org/</dc:title>\r\n     </cc:Agent>\r\n    </dc:creator>\r\n   </cc:Work>\r\n  </rdf:RDF>\r\n </metadata>\r\n <defs>\r\n  <style type=\"text/css\">*{stroke-linecap:butt;stroke-linejoin:round;}</style>\r\n </defs>\r\n <g id=\"figure_1\">\r\n  <g id=\"patch_1\">\r\n   <path d=\"M 0 465.958125 \r\nL 706.903125 465.958125 \r\nL 706.903125 0 \r\nL 0 0 \r\nz\r\n\" style=\"fill:none;\"/>\r\n  </g>\r\n  <g id=\"axes_1\">\r\n   <g id=\"patch_2\">\r\n    <path d=\"M 30.103125 442.08 \r\nL 699.703125 442.08 \r\nL 699.703125 7.2 \r\nL 30.103125 7.2 \r\nz\r\n\" style=\"fill:#ffffff;\"/>\r\n   </g>\r\n   <g id=\"matplotlib.axis_1\">\r\n    <g id=\"xtick_1\">\r\n     <g id=\"line2d_1\">\r\n      <defs>\r\n       <path d=\"M 0 0 \r\nL 0 3.5 \r\n\" id=\"m9ce7093f41\" style=\"stroke:#000000;stroke-width:0.8;\"/>\r\n      </defs>\r\n      <g>\r\n       <use style=\"stroke:#000000;stroke-width:0.8;\" x=\"60.539489\" xlink:href=\"#m9ce7093f41\" y=\"442.08\"/>\r\n      </g>\r\n     </g>\r\n     <g id=\"text_1\">\r\n      <!-- 0 -->\r\n      <g transform=\"translate(57.358239 456.678437)scale(0.1 -0.1)\">\r\n       <defs>\r\n        <path d=\"M 31.78125 66.40625 \r\nQ 24.171875 66.40625 20.328125 58.90625 \r\nQ 16.5 51.421875 16.5 36.375 \r\nQ 16.5 21.390625 20.328125 13.890625 \r\nQ 24.171875 6.390625 31.78125 6.390625 \r\nQ 39.453125 6.390625 43.28125 13.890625 \r\nQ 47.125 21.390625 47.125 36.375 \r\nQ 47.125 51.421875 43.28125 58.90625 \r\nQ 39.453125 66.40625 31.78125 66.40625 \r\nz\r\nM 31.78125 74.21875 \r\nQ 44.046875 74.21875 50.515625 64.515625 \r\nQ 56.984375 54.828125 56.984375 36.375 \r\nQ 56.984375 17.96875 50.515625 8.265625 \r\nQ 44.046875 -1.421875 31.78125 -1.421875 \r\nQ 19.53125 -1.421875 13.0625 8.265625 \r\nQ 6.59375 17.96875 6.59375 36.375 \r\nQ 6.59375 54.828125 13.0625 64.515625 \r\nQ 19.53125 74.21875 31.78125 74.21875 \r\nz\r\n\" id=\"DejaVuSans-48\"/>\r\n       </defs>\r\n       <use xlink:href=\"#DejaVuSans-48\"/>\r\n      </g>\r\n     </g>\r\n    </g>\r\n    <g id=\"xtick_2\">\r\n     <g id=\"line2d_2\">\r\n      <g>\r\n       <use style=\"stroke:#000000;stroke-width:0.8;\" x=\"165.492467\" xlink:href=\"#m9ce7093f41\" y=\"442.08\"/>\r\n      </g>\r\n     </g>\r\n     <g id=\"text_2\">\r\n      <!-- 5 -->\r\n      <g transform=\"translate(162.311217 456.678437)scale(0.1 -0.1)\">\r\n       <defs>\r\n        <path d=\"M 10.796875 72.90625 \r\nL 49.515625 72.90625 \r\nL 49.515625 64.59375 \r\nL 19.828125 64.59375 \r\nL 19.828125 46.734375 \r\nQ 21.96875 47.46875 24.109375 47.828125 \r\nQ 26.265625 48.1875 28.421875 48.1875 \r\nQ 40.625 48.1875 47.75 41.5 \r\nQ 54.890625 34.8125 54.890625 23.390625 \r\nQ 54.890625 11.625 47.5625 5.09375 \r\nQ 40.234375 -1.421875 26.90625 -1.421875 \r\nQ 22.3125 -1.421875 17.546875 -0.640625 \r\nQ 12.796875 0.140625 7.71875 1.703125 \r\nL 7.71875 11.625 \r\nQ 12.109375 9.234375 16.796875 8.0625 \r\nQ 21.484375 6.890625 26.703125 6.890625 \r\nQ 35.15625 6.890625 40.078125 11.328125 \r\nQ 45.015625 15.765625 45.015625 23.390625 \r\nQ 45.015625 31 40.078125 35.4375 \r\nQ 35.15625 39.890625 26.703125 39.890625 \r\nQ 22.75 39.890625 18.8125 39.015625 \r\nQ 14.890625 38.140625 10.796875 36.28125 \r\nz\r\n\" id=\"DejaVuSans-53\"/>\r\n       </defs>\r\n       <use xlink:href=\"#DejaVuSans-53\"/>\r\n      </g>\r\n     </g>\r\n    </g>\r\n    <g id=\"xtick_3\">\r\n     <g id=\"line2d_3\">\r\n      <g>\r\n       <use style=\"stroke:#000000;stroke-width:0.8;\" x=\"270.445445\" xlink:href=\"#m9ce7093f41\" y=\"442.08\"/>\r\n      </g>\r\n     </g>\r\n     <g id=\"text_3\">\r\n      <!-- 10 -->\r\n      <g transform=\"translate(264.082945 456.678437)scale(0.1 -0.1)\">\r\n       <defs>\r\n        <path d=\"M 12.40625 8.296875 \r\nL 28.515625 8.296875 \r\nL 28.515625 63.921875 \r\nL 10.984375 60.40625 \r\nL 10.984375 69.390625 \r\nL 28.421875 72.90625 \r\nL 38.28125 72.90625 \r\nL 38.28125 8.296875 \r\nL 54.390625 8.296875 \r\nL 54.390625 0 \r\nL 12.40625 0 \r\nz\r\n\" id=\"DejaVuSans-49\"/>\r\n       </defs>\r\n       <use xlink:href=\"#DejaVuSans-49\"/>\r\n       <use x=\"63.623047\" xlink:href=\"#DejaVuSans-48\"/>\r\n      </g>\r\n     </g>\r\n    </g>\r\n    <g id=\"xtick_4\">\r\n     <g id=\"line2d_4\">\r\n      <g>\r\n       <use style=\"stroke:#000000;stroke-width:0.8;\" x=\"375.398423\" xlink:href=\"#m9ce7093f41\" y=\"442.08\"/>\r\n      </g>\r\n     </g>\r\n     <g id=\"text_4\">\r\n      <!-- 15 -->\r\n      <g transform=\"translate(369.035923 456.678437)scale(0.1 -0.1)\">\r\n       <use xlink:href=\"#DejaVuSans-49\"/>\r\n       <use x=\"63.623047\" xlink:href=\"#DejaVuSans-53\"/>\r\n      </g>\r\n     </g>\r\n    </g>\r\n    <g id=\"xtick_5\">\r\n     <g id=\"line2d_5\">\r\n      <g>\r\n       <use style=\"stroke:#000000;stroke-width:0.8;\" x=\"480.351401\" xlink:href=\"#m9ce7093f41\" y=\"442.08\"/>\r\n      </g>\r\n     </g>\r\n     <g id=\"text_5\">\r\n      <!-- 20 -->\r\n      <g transform=\"translate(473.988901 456.678437)scale(0.1 -0.1)\">\r\n       <defs>\r\n        <path d=\"M 19.1875 8.296875 \r\nL 53.609375 8.296875 \r\nL 53.609375 0 \r\nL 7.328125 0 \r\nL 7.328125 8.296875 \r\nQ 12.9375 14.109375 22.625 23.890625 \r\nQ 32.328125 33.6875 34.8125 36.53125 \r\nQ 39.546875 41.84375 41.421875 45.53125 \r\nQ 43.3125 49.21875 43.3125 52.78125 \r\nQ 43.3125 58.59375 39.234375 62.25 \r\nQ 35.15625 65.921875 28.609375 65.921875 \r\nQ 23.96875 65.921875 18.8125 64.3125 \r\nQ 13.671875 62.703125 7.8125 59.421875 \r\nL 7.8125 69.390625 \r\nQ 13.765625 71.78125 18.9375 73 \r\nQ 24.125 74.21875 28.421875 74.21875 \r\nQ 39.75 74.21875 46.484375 68.546875 \r\nQ 53.21875 62.890625 53.21875 53.421875 \r\nQ 53.21875 48.921875 51.53125 44.890625 \r\nQ 49.859375 40.875 45.40625 35.40625 \r\nQ 44.1875 33.984375 37.640625 27.21875 \r\nQ 31.109375 20.453125 19.1875 8.296875 \r\nz\r\n\" id=\"DejaVuSans-50\"/>\r\n       </defs>\r\n       <use xlink:href=\"#DejaVuSans-50\"/>\r\n       <use x=\"63.623047\" xlink:href=\"#DejaVuSans-48\"/>\r\n      </g>\r\n     </g>\r\n    </g>\r\n    <g id=\"xtick_6\">\r\n     <g id=\"line2d_6\">\r\n      <g>\r\n       <use style=\"stroke:#000000;stroke-width:0.8;\" x=\"585.304379\" xlink:href=\"#m9ce7093f41\" y=\"442.08\"/>\r\n      </g>\r\n     </g>\r\n     <g id=\"text_6\">\r\n      <!-- 25 -->\r\n      <g transform=\"translate(578.941879 456.678437)scale(0.1 -0.1)\">\r\n       <use xlink:href=\"#DejaVuSans-50\"/>\r\n       <use x=\"63.623047\" xlink:href=\"#DejaVuSans-53\"/>\r\n      </g>\r\n     </g>\r\n    </g>\r\n    <g id=\"xtick_7\">\r\n     <g id=\"line2d_7\">\r\n      <g>\r\n       <use style=\"stroke:#000000;stroke-width:0.8;\" x=\"690.257357\" xlink:href=\"#m9ce7093f41\" y=\"442.08\"/>\r\n      </g>\r\n     </g>\r\n     <g id=\"text_7\">\r\n      <!-- 30 -->\r\n      <g transform=\"translate(683.894857 456.678437)scale(0.1 -0.1)\">\r\n       <defs>\r\n        <path d=\"M 40.578125 39.3125 \r\nQ 47.65625 37.796875 51.625 33 \r\nQ 55.609375 28.21875 55.609375 21.1875 \r\nQ 55.609375 10.40625 48.1875 4.484375 \r\nQ 40.765625 -1.421875 27.09375 -1.421875 \r\nQ 22.515625 -1.421875 17.65625 -0.515625 \r\nQ 12.796875 0.390625 7.625 2.203125 \r\nL 7.625 11.71875 \r\nQ 11.71875 9.328125 16.59375 8.109375 \r\nQ 21.484375 6.890625 26.8125 6.890625 \r\nQ 36.078125 6.890625 40.9375 10.546875 \r\nQ 45.796875 14.203125 45.796875 21.1875 \r\nQ 45.796875 27.640625 41.28125 31.265625 \r\nQ 36.765625 34.90625 28.71875 34.90625 \r\nL 20.21875 34.90625 \r\nL 20.21875 43.015625 \r\nL 29.109375 43.015625 \r\nQ 36.375 43.015625 40.234375 45.921875 \r\nQ 44.09375 48.828125 44.09375 54.296875 \r\nQ 44.09375 59.90625 40.109375 62.90625 \r\nQ 36.140625 65.921875 28.71875 65.921875 \r\nQ 24.65625 65.921875 20.015625 65.03125 \r\nQ 15.375 64.15625 9.8125 62.3125 \r\nL 9.8125 71.09375 \r\nQ 15.4375 72.65625 20.34375 73.4375 \r\nQ 25.25 74.21875 29.59375 74.21875 \r\nQ 40.828125 74.21875 47.359375 69.109375 \r\nQ 53.90625 64.015625 53.90625 55.328125 \r\nQ 53.90625 49.265625 50.4375 45.09375 \r\nQ 46.96875 40.921875 40.578125 39.3125 \r\nz\r\n\" id=\"DejaVuSans-51\"/>\r\n       </defs>\r\n       <use xlink:href=\"#DejaVuSans-51\"/>\r\n       <use x=\"63.623047\" xlink:href=\"#DejaVuSans-48\"/>\r\n      </g>\r\n     </g>\r\n    </g>\r\n   </g>\r\n   <g id=\"matplotlib.axis_2\">\r\n    <g id=\"ytick_1\">\r\n     <g id=\"line2d_8\">\r\n      <defs>\r\n       <path d=\"M 0 0 \r\nL -3.5 0 \r\n\" id=\"m85aec54888\" style=\"stroke:#000000;stroke-width:0.8;\"/>\r\n      </defs>\r\n      <g>\r\n       <use style=\"stroke:#000000;stroke-width:0.8;\" x=\"30.103125\" xlink:href=\"#m85aec54888\" y=\"422.391642\"/>\r\n      </g>\r\n     </g>\r\n     <g id=\"text_8\">\r\n      <!-- 0.0 -->\r\n      <g transform=\"translate(7.2 426.190861)scale(0.1 -0.1)\">\r\n       <defs>\r\n        <path d=\"M 10.6875 12.40625 \r\nL 21 12.40625 \r\nL 21 0 \r\nL 10.6875 0 \r\nz\r\n\" id=\"DejaVuSans-46\"/>\r\n       </defs>\r\n       <use xlink:href=\"#DejaVuSans-48\"/>\r\n       <use x=\"63.623047\" xlink:href=\"#DejaVuSans-46\"/>\r\n       <use x=\"95.410156\" xlink:href=\"#DejaVuSans-48\"/>\r\n      </g>\r\n     </g>\r\n    </g>\r\n    <g id=\"ytick_2\">\r\n     <g id=\"line2d_9\">\r\n      <g>\r\n       <use style=\"stroke:#000000;stroke-width:0.8;\" x=\"30.103125\" xlink:href=\"#m85aec54888\" y=\"356.777875\"/>\r\n      </g>\r\n     </g>\r\n     <g id=\"text_9\">\r\n      <!-- 0.2 -->\r\n      <g transform=\"translate(7.2 360.577094)scale(0.1 -0.1)\">\r\n       <use xlink:href=\"#DejaVuSans-48\"/>\r\n       <use x=\"63.623047\" xlink:href=\"#DejaVuSans-46\"/>\r\n       <use x=\"95.410156\" xlink:href=\"#DejaVuSans-50\"/>\r\n      </g>\r\n     </g>\r\n    </g>\r\n    <g id=\"ytick_3\">\r\n     <g id=\"line2d_10\">\r\n      <g>\r\n       <use style=\"stroke:#000000;stroke-width:0.8;\" x=\"30.103125\" xlink:href=\"#m85aec54888\" y=\"291.164108\"/>\r\n      </g>\r\n     </g>\r\n     <g id=\"text_10\">\r\n      <!-- 0.4 -->\r\n      <g transform=\"translate(7.2 294.963327)scale(0.1 -0.1)\">\r\n       <defs>\r\n        <path d=\"M 37.796875 64.3125 \r\nL 12.890625 25.390625 \r\nL 37.796875 25.390625 \r\nz\r\nM 35.203125 72.90625 \r\nL 47.609375 72.90625 \r\nL 47.609375 25.390625 \r\nL 58.015625 25.390625 \r\nL 58.015625 17.1875 \r\nL 47.609375 17.1875 \r\nL 47.609375 0 \r\nL 37.796875 0 \r\nL 37.796875 17.1875 \r\nL 4.890625 17.1875 \r\nL 4.890625 26.703125 \r\nz\r\n\" id=\"DejaVuSans-52\"/>\r\n       </defs>\r\n       <use xlink:href=\"#DejaVuSans-48\"/>\r\n       <use x=\"63.623047\" xlink:href=\"#DejaVuSans-46\"/>\r\n       <use x=\"95.410156\" xlink:href=\"#DejaVuSans-52\"/>\r\n      </g>\r\n     </g>\r\n    </g>\r\n    <g id=\"ytick_4\">\r\n     <g id=\"line2d_11\">\r\n      <g>\r\n       <use style=\"stroke:#000000;stroke-width:0.8;\" x=\"30.103125\" xlink:href=\"#m85aec54888\" y=\"225.550341\"/>\r\n      </g>\r\n     </g>\r\n     <g id=\"text_11\">\r\n      <!-- 0.6 -->\r\n      <g transform=\"translate(7.2 229.34956)scale(0.1 -0.1)\">\r\n       <defs>\r\n        <path d=\"M 33.015625 40.375 \r\nQ 26.375 40.375 22.484375 35.828125 \r\nQ 18.609375 31.296875 18.609375 23.390625 \r\nQ 18.609375 15.53125 22.484375 10.953125 \r\nQ 26.375 6.390625 33.015625 6.390625 \r\nQ 39.65625 6.390625 43.53125 10.953125 \r\nQ 47.40625 15.53125 47.40625 23.390625 \r\nQ 47.40625 31.296875 43.53125 35.828125 \r\nQ 39.65625 40.375 33.015625 40.375 \r\nz\r\nM 52.59375 71.296875 \r\nL 52.59375 62.3125 \r\nQ 48.875 64.0625 45.09375 64.984375 \r\nQ 41.3125 65.921875 37.59375 65.921875 \r\nQ 27.828125 65.921875 22.671875 59.328125 \r\nQ 17.53125 52.734375 16.796875 39.40625 \r\nQ 19.671875 43.65625 24.015625 45.921875 \r\nQ 28.375 48.1875 33.59375 48.1875 \r\nQ 44.578125 48.1875 50.953125 41.515625 \r\nQ 57.328125 34.859375 57.328125 23.390625 \r\nQ 57.328125 12.15625 50.6875 5.359375 \r\nQ 44.046875 -1.421875 33.015625 -1.421875 \r\nQ 20.359375 -1.421875 13.671875 8.265625 \r\nQ 6.984375 17.96875 6.984375 36.375 \r\nQ 6.984375 53.65625 15.1875 63.9375 \r\nQ 23.390625 74.21875 37.203125 74.21875 \r\nQ 40.921875 74.21875 44.703125 73.484375 \r\nQ 48.484375 72.75 52.59375 71.296875 \r\nz\r\n\" id=\"DejaVuSans-54\"/>\r\n       </defs>\r\n       <use xlink:href=\"#DejaVuSans-48\"/>\r\n       <use x=\"63.623047\" xlink:href=\"#DejaVuSans-46\"/>\r\n       <use x=\"95.410156\" xlink:href=\"#DejaVuSans-54\"/>\r\n      </g>\r\n     </g>\r\n    </g>\r\n    <g id=\"ytick_5\">\r\n     <g id=\"line2d_12\">\r\n      <g>\r\n       <use style=\"stroke:#000000;stroke-width:0.8;\" x=\"30.103125\" xlink:href=\"#m85aec54888\" y=\"159.936574\"/>\r\n      </g>\r\n     </g>\r\n     <g id=\"text_12\">\r\n      <!-- 0.8 -->\r\n      <g transform=\"translate(7.2 163.735793)scale(0.1 -0.1)\">\r\n       <defs>\r\n        <path d=\"M 31.78125 34.625 \r\nQ 24.75 34.625 20.71875 30.859375 \r\nQ 16.703125 27.09375 16.703125 20.515625 \r\nQ 16.703125 13.921875 20.71875 10.15625 \r\nQ 24.75 6.390625 31.78125 6.390625 \r\nQ 38.8125 6.390625 42.859375 10.171875 \r\nQ 46.921875 13.96875 46.921875 20.515625 \r\nQ 46.921875 27.09375 42.890625 30.859375 \r\nQ 38.875 34.625 31.78125 34.625 \r\nz\r\nM 21.921875 38.8125 \r\nQ 15.578125 40.375 12.03125 44.71875 \r\nQ 8.5 49.078125 8.5 55.328125 \r\nQ 8.5 64.0625 14.71875 69.140625 \r\nQ 20.953125 74.21875 31.78125 74.21875 \r\nQ 42.671875 74.21875 48.875 69.140625 \r\nQ 55.078125 64.0625 55.078125 55.328125 \r\nQ 55.078125 49.078125 51.53125 44.71875 \r\nQ 48 40.375 41.703125 38.8125 \r\nQ 48.828125 37.15625 52.796875 32.3125 \r\nQ 56.78125 27.484375 56.78125 20.515625 \r\nQ 56.78125 9.90625 50.3125 4.234375 \r\nQ 43.84375 -1.421875 31.78125 -1.421875 \r\nQ 19.734375 -1.421875 13.25 4.234375 \r\nQ 6.78125 9.90625 6.78125 20.515625 \r\nQ 6.78125 27.484375 10.78125 32.3125 \r\nQ 14.796875 37.15625 21.921875 38.8125 \r\nz\r\nM 18.3125 54.390625 \r\nQ 18.3125 48.734375 21.84375 45.5625 \r\nQ 25.390625 42.390625 31.78125 42.390625 \r\nQ 38.140625 42.390625 41.71875 45.5625 \r\nQ 45.3125 48.734375 45.3125 54.390625 \r\nQ 45.3125 60.0625 41.71875 63.234375 \r\nQ 38.140625 66.40625 31.78125 66.40625 \r\nQ 25.390625 66.40625 21.84375 63.234375 \r\nQ 18.3125 60.0625 18.3125 54.390625 \r\nz\r\n\" id=\"DejaVuSans-56\"/>\r\n       </defs>\r\n       <use xlink:href=\"#DejaVuSans-48\"/>\r\n       <use x=\"63.623047\" xlink:href=\"#DejaVuSans-46\"/>\r\n       <use x=\"95.410156\" xlink:href=\"#DejaVuSans-56\"/>\r\n      </g>\r\n     </g>\r\n    </g>\r\n    <g id=\"ytick_6\">\r\n     <g id=\"line2d_13\">\r\n      <g>\r\n       <use style=\"stroke:#000000;stroke-width:0.8;\" x=\"30.103125\" xlink:href=\"#m85aec54888\" y=\"94.322807\"/>\r\n      </g>\r\n     </g>\r\n     <g id=\"text_13\">\r\n      <!-- 1.0 -->\r\n      <g transform=\"translate(7.2 98.122026)scale(0.1 -0.1)\">\r\n       <use xlink:href=\"#DejaVuSans-49\"/>\r\n       <use x=\"63.623047\" xlink:href=\"#DejaVuSans-46\"/>\r\n       <use x=\"95.410156\" xlink:href=\"#DejaVuSans-48\"/>\r\n      </g>\r\n     </g>\r\n    </g>\r\n    <g id=\"ytick_7\">\r\n     <g id=\"line2d_14\">\r\n      <g>\r\n       <use style=\"stroke:#000000;stroke-width:0.8;\" x=\"30.103125\" xlink:href=\"#m85aec54888\" y=\"28.70904\"/>\r\n      </g>\r\n     </g>\r\n     <g id=\"text_14\">\r\n      <!-- 1.2 -->\r\n      <g transform=\"translate(7.2 32.508259)scale(0.1 -0.1)\">\r\n       <use xlink:href=\"#DejaVuSans-49\"/>\r\n       <use x=\"63.623047\" xlink:href=\"#DejaVuSans-46\"/>\r\n       <use x=\"95.410156\" xlink:href=\"#DejaVuSans-50\"/>\r\n      </g>\r\n     </g>\r\n    </g>\r\n   </g>\r\n   <g id=\"line2d_15\">\r\n    <path clip-path=\"url(#pfd72df507d)\" d=\"M 60.539489 259.358118 \r\nL 81.530084 239.257751 \r\nL 102.52068 301.494455 \r\nL 123.511275 320.393593 \r\nL 144.501871 357.084957 \r\nL 165.492467 390.862882 \r\nL 186.483062 406.31667 \r\nL 207.473658 412.682144 \r\nL 228.464254 417.242553 \r\nL 249.454849 419.201916 \r\nL 270.445445 420.251704 \r\nL 291.43604 420.967234 \r\nL 312.426636 421.34664 \r\nL 333.417232 421.59053 \r\nL 354.407827 421.782001 \r\nL 375.398423 421.908203 \r\nL 396.389018 421.991837 \r\nL 417.379614 422.057813 \r\nL 438.37021 422.106962 \r\nL 459.360805 422.149286 \r\nL 480.351401 422.180902 \r\nL 501.341996 422.206328 \r\nL 522.332592 422.227623 \r\nL 543.323188 422.24583 \r\nL 564.313783 422.261955 \r\nL 585.304379 422.274546 \r\nL 606.294975 422.286273 \r\nL 627.28557 422.296467 \r\nL 648.276166 422.304976 \r\nL 669.266761 422.312727 \r\n\" style=\"fill:none;stroke:#008000;stroke-linecap:square;stroke-width:1.5;\"/>\r\n    <defs>\r\n     <path d=\"M 0 2.5 \r\nC 0.663008 2.5 1.29895 2.236584 1.767767 1.767767 \r\nC 2.236584 1.29895 2.5 0.663008 2.5 0 \r\nC 2.5 -0.663008 2.236584 -1.29895 1.767767 -1.767767 \r\nC 1.29895 -2.236584 0.663008 -2.5 0 -2.5 \r\nC -0.663008 -2.5 -1.29895 -2.236584 -1.767767 -1.767767 \r\nC -2.236584 -1.29895 -2.5 -0.663008 -2.5 0 \r\nC -2.5 0.663008 -2.236584 1.29895 -1.767767 1.767767 \r\nC -1.29895 2.236584 -0.663008 2.5 0 2.5 \r\nz\r\n\" id=\"mf0dd3f23aa\" style=\"stroke:#008000;\"/>\r\n    </defs>\r\n    <g clip-path=\"url(#pfd72df507d)\">\r\n     <use style=\"fill:#008000;stroke:#008000;\" x=\"60.539489\" xlink:href=\"#mf0dd3f23aa\" y=\"259.358118\"/>\r\n     <use style=\"fill:#008000;stroke:#008000;\" x=\"81.530084\" xlink:href=\"#mf0dd3f23aa\" y=\"239.257751\"/>\r\n     <use style=\"fill:#008000;stroke:#008000;\" x=\"102.52068\" xlink:href=\"#mf0dd3f23aa\" y=\"301.494455\"/>\r\n     <use style=\"fill:#008000;stroke:#008000;\" x=\"123.511275\" xlink:href=\"#mf0dd3f23aa\" y=\"320.393593\"/>\r\n     <use style=\"fill:#008000;stroke:#008000;\" x=\"144.501871\" xlink:href=\"#mf0dd3f23aa\" y=\"357.084957\"/>\r\n     <use style=\"fill:#008000;stroke:#008000;\" x=\"165.492467\" xlink:href=\"#mf0dd3f23aa\" y=\"390.862882\"/>\r\n     <use style=\"fill:#008000;stroke:#008000;\" x=\"186.483062\" xlink:href=\"#mf0dd3f23aa\" y=\"406.31667\"/>\r\n     <use style=\"fill:#008000;stroke:#008000;\" x=\"207.473658\" xlink:href=\"#mf0dd3f23aa\" y=\"412.682144\"/>\r\n     <use style=\"fill:#008000;stroke:#008000;\" x=\"228.464254\" xlink:href=\"#mf0dd3f23aa\" y=\"417.242553\"/>\r\n     <use style=\"fill:#008000;stroke:#008000;\" x=\"249.454849\" xlink:href=\"#mf0dd3f23aa\" y=\"419.201916\"/>\r\n     <use style=\"fill:#008000;stroke:#008000;\" x=\"270.445445\" xlink:href=\"#mf0dd3f23aa\" y=\"420.251704\"/>\r\n     <use style=\"fill:#008000;stroke:#008000;\" x=\"291.43604\" xlink:href=\"#mf0dd3f23aa\" y=\"420.967234\"/>\r\n     <use style=\"fill:#008000;stroke:#008000;\" x=\"312.426636\" xlink:href=\"#mf0dd3f23aa\" y=\"421.34664\"/>\r\n     <use style=\"fill:#008000;stroke:#008000;\" x=\"333.417232\" xlink:href=\"#mf0dd3f23aa\" y=\"421.59053\"/>\r\n     <use style=\"fill:#008000;stroke:#008000;\" x=\"354.407827\" xlink:href=\"#mf0dd3f23aa\" y=\"421.782001\"/>\r\n     <use style=\"fill:#008000;stroke:#008000;\" x=\"375.398423\" xlink:href=\"#mf0dd3f23aa\" y=\"421.908203\"/>\r\n     <use style=\"fill:#008000;stroke:#008000;\" x=\"396.389018\" xlink:href=\"#mf0dd3f23aa\" y=\"421.991837\"/>\r\n     <use style=\"fill:#008000;stroke:#008000;\" x=\"417.379614\" xlink:href=\"#mf0dd3f23aa\" y=\"422.057813\"/>\r\n     <use style=\"fill:#008000;stroke:#008000;\" x=\"438.37021\" xlink:href=\"#mf0dd3f23aa\" y=\"422.106962\"/>\r\n     <use style=\"fill:#008000;stroke:#008000;\" x=\"459.360805\" xlink:href=\"#mf0dd3f23aa\" y=\"422.149286\"/>\r\n     <use style=\"fill:#008000;stroke:#008000;\" x=\"480.351401\" xlink:href=\"#mf0dd3f23aa\" y=\"422.180902\"/>\r\n     <use style=\"fill:#008000;stroke:#008000;\" x=\"501.341996\" xlink:href=\"#mf0dd3f23aa\" y=\"422.206328\"/>\r\n     <use style=\"fill:#008000;stroke:#008000;\" x=\"522.332592\" xlink:href=\"#mf0dd3f23aa\" y=\"422.227623\"/>\r\n     <use style=\"fill:#008000;stroke:#008000;\" x=\"543.323188\" xlink:href=\"#mf0dd3f23aa\" y=\"422.24583\"/>\r\n     <use style=\"fill:#008000;stroke:#008000;\" x=\"564.313783\" xlink:href=\"#mf0dd3f23aa\" y=\"422.261955\"/>\r\n     <use style=\"fill:#008000;stroke:#008000;\" x=\"585.304379\" xlink:href=\"#mf0dd3f23aa\" y=\"422.274546\"/>\r\n     <use style=\"fill:#008000;stroke:#008000;\" x=\"606.294975\" xlink:href=\"#mf0dd3f23aa\" y=\"422.286273\"/>\r\n     <use style=\"fill:#008000;stroke:#008000;\" x=\"627.28557\" xlink:href=\"#mf0dd3f23aa\" y=\"422.296467\"/>\r\n     <use style=\"fill:#008000;stroke:#008000;\" x=\"648.276166\" xlink:href=\"#mf0dd3f23aa\" y=\"422.304976\"/>\r\n     <use style=\"fill:#008000;stroke:#008000;\" x=\"669.266761\" xlink:href=\"#mf0dd3f23aa\" y=\"422.312727\"/>\r\n    </g>\r\n   </g>\r\n   <g id=\"line2d_16\">\r\n    <path clip-path=\"url(#pfd72df507d)\" d=\"M 60.539489 162.455611 \r\nL 81.530084 176.141675 \r\nL 102.52068 136.967785 \r\nL 123.511275 136.769444 \r\nL 144.501871 125.562744 \r\nL 165.492467 101.16584 \r\nL 186.483062 97.496393 \r\nL 207.473658 96.306291 \r\nL 228.464254 95.017028 \r\nL 249.454849 94.917848 \r\nL 270.445445 94.421987 \r\nL 291.43604 94.421987 \r\nL 312.426636 94.322807 \r\nL 333.417232 94.322807 \r\nL 354.407827 94.322807 \r\nL 375.398423 94.322807 \r\nL 396.389018 94.322807 \r\nL 417.379614 94.322807 \r\nL 438.37021 94.322807 \r\nL 459.360805 94.322807 \r\nL 480.351401 94.322807 \r\nL 501.341996 94.322807 \r\nL 522.332592 94.322807 \r\nL 543.323188 94.322807 \r\nL 564.313783 94.322807 \r\nL 585.304379 94.322807 \r\nL 606.294975 94.322807 \r\nL 627.28557 94.322807 \r\nL 648.276166 94.322807 \r\nL 669.266761 94.322807 \r\n\" style=\"fill:none;stroke:#000000;stroke-linecap:square;stroke-width:1.5;\"/>\r\n    <defs>\r\n     <path d=\"M 0 2.5 \r\nC 0.663008 2.5 1.29895 2.236584 1.767767 1.767767 \r\nC 2.236584 1.29895 2.5 0.663008 2.5 0 \r\nC 2.5 -0.663008 2.236584 -1.29895 1.767767 -1.767767 \r\nC 1.29895 -2.236584 0.663008 -2.5 0 -2.5 \r\nC -0.663008 -2.5 -1.29895 -2.236584 -1.767767 -1.767767 \r\nC -2.236584 -1.29895 -2.5 -0.663008 -2.5 0 \r\nC -2.5 0.663008 -2.236584 1.29895 -1.767767 1.767767 \r\nC -1.29895 2.236584 -0.663008 2.5 0 2.5 \r\nz\r\n\" id=\"mcc1443197b\" style=\"stroke:#000000;\"/>\r\n    </defs>\r\n    <g clip-path=\"url(#pfd72df507d)\">\r\n     <use style=\"stroke:#000000;\" x=\"60.539489\" xlink:href=\"#mcc1443197b\" y=\"162.455611\"/>\r\n     <use style=\"stroke:#000000;\" x=\"81.530084\" xlink:href=\"#mcc1443197b\" y=\"176.141675\"/>\r\n     <use style=\"stroke:#000000;\" x=\"102.52068\" xlink:href=\"#mcc1443197b\" y=\"136.967785\"/>\r\n     <use style=\"stroke:#000000;\" x=\"123.511275\" xlink:href=\"#mcc1443197b\" y=\"136.769444\"/>\r\n     <use style=\"stroke:#000000;\" x=\"144.501871\" xlink:href=\"#mcc1443197b\" y=\"125.562744\"/>\r\n     <use style=\"stroke:#000000;\" x=\"165.492467\" xlink:href=\"#mcc1443197b\" y=\"101.16584\"/>\r\n     <use style=\"stroke:#000000;\" x=\"186.483062\" xlink:href=\"#mcc1443197b\" y=\"97.496393\"/>\r\n     <use style=\"stroke:#000000;\" x=\"207.473658\" xlink:href=\"#mcc1443197b\" y=\"96.306291\"/>\r\n     <use style=\"stroke:#000000;\" x=\"228.464254\" xlink:href=\"#mcc1443197b\" y=\"95.017028\"/>\r\n     <use style=\"stroke:#000000;\" x=\"249.454849\" xlink:href=\"#mcc1443197b\" y=\"94.917848\"/>\r\n     <use style=\"stroke:#000000;\" x=\"270.445445\" xlink:href=\"#mcc1443197b\" y=\"94.421987\"/>\r\n     <use style=\"stroke:#000000;\" x=\"291.43604\" xlink:href=\"#mcc1443197b\" y=\"94.421987\"/>\r\n     <use style=\"stroke:#000000;\" x=\"312.426636\" xlink:href=\"#mcc1443197b\" y=\"94.322807\"/>\r\n     <use style=\"stroke:#000000;\" x=\"333.417232\" xlink:href=\"#mcc1443197b\" y=\"94.322807\"/>\r\n     <use style=\"stroke:#000000;\" x=\"354.407827\" xlink:href=\"#mcc1443197b\" y=\"94.322807\"/>\r\n     <use style=\"stroke:#000000;\" x=\"375.398423\" xlink:href=\"#mcc1443197b\" y=\"94.322807\"/>\r\n     <use style=\"stroke:#000000;\" x=\"396.389018\" xlink:href=\"#mcc1443197b\" y=\"94.322807\"/>\r\n     <use style=\"stroke:#000000;\" x=\"417.379614\" xlink:href=\"#mcc1443197b\" y=\"94.322807\"/>\r\n     <use style=\"stroke:#000000;\" x=\"438.37021\" xlink:href=\"#mcc1443197b\" y=\"94.322807\"/>\r\n     <use style=\"stroke:#000000;\" x=\"459.360805\" xlink:href=\"#mcc1443197b\" y=\"94.322807\"/>\r\n     <use style=\"stroke:#000000;\" x=\"480.351401\" xlink:href=\"#mcc1443197b\" y=\"94.322807\"/>\r\n     <use style=\"stroke:#000000;\" x=\"501.341996\" xlink:href=\"#mcc1443197b\" y=\"94.322807\"/>\r\n     <use style=\"stroke:#000000;\" x=\"522.332592\" xlink:href=\"#mcc1443197b\" y=\"94.322807\"/>\r\n     <use style=\"stroke:#000000;\" x=\"543.323188\" xlink:href=\"#mcc1443197b\" y=\"94.322807\"/>\r\n     <use style=\"stroke:#000000;\" x=\"564.313783\" xlink:href=\"#mcc1443197b\" y=\"94.322807\"/>\r\n     <use style=\"stroke:#000000;\" x=\"585.304379\" xlink:href=\"#mcc1443197b\" y=\"94.322807\"/>\r\n     <use style=\"stroke:#000000;\" x=\"606.294975\" xlink:href=\"#mcc1443197b\" y=\"94.322807\"/>\r\n     <use style=\"stroke:#000000;\" x=\"627.28557\" xlink:href=\"#mcc1443197b\" y=\"94.322807\"/>\r\n     <use style=\"stroke:#000000;\" x=\"648.276166\" xlink:href=\"#mcc1443197b\" y=\"94.322807\"/>\r\n     <use style=\"stroke:#000000;\" x=\"669.266761\" xlink:href=\"#mcc1443197b\" y=\"94.322807\"/>\r\n    </g>\r\n   </g>\r\n   <g id=\"line2d_17\">\r\n    <path clip-path=\"url(#pfd72df507d)\" d=\"M 60.539489 385.895471 \r\nL 81.530084 130.818973 \r\nL 102.52068 130.818973 \r\nL 123.511275 128.438789 \r\nL 144.501871 120.108154 \r\nL 165.492467 118.918052 \r\nL 186.483062 112.5709 \r\nL 207.473658 111.380798 \r\nL 228.464254 110.984097 \r\nL 249.454849 110.587397 \r\nL 270.445445 109.000614 \r\nL 291.43604 109.397314 \r\nL 312.426636 108.603913 \r\nL 333.417232 107.413831 \r\nL 354.407827 106.620429 \r\nL 375.398423 106.620429 \r\nL 396.389018 106.223729 \r\nL 417.379614 106.223729 \r\nL 438.37021 105.827028 \r\nL 459.360805 105.430328 \r\nL 480.351401 105.430328 \r\nL 501.341996 105.033646 \r\nL 522.332592 105.033646 \r\nL 543.323188 105.033646 \r\nL 564.313783 105.033646 \r\nL 585.304379 104.636946 \r\nL 606.294975 104.636946 \r\nL 627.28557 104.636946 \r\nL 648.276166 104.240245 \r\nL 669.266761 103.843544 \r\n\" style=\"fill:none;stroke:#0000ff;stroke-linecap:square;stroke-width:1.5;\"/>\r\n    <defs>\r\n     <path d=\"M 0 2.5 \r\nC 0.663008 2.5 1.29895 2.236584 1.767767 1.767767 \r\nC 2.236584 1.29895 2.5 0.663008 2.5 0 \r\nC 2.5 -0.663008 2.236584 -1.29895 1.767767 -1.767767 \r\nC 1.29895 -2.236584 0.663008 -2.5 0 -2.5 \r\nC -0.663008 -2.5 -1.29895 -2.236584 -1.767767 -1.767767 \r\nC -2.236584 -1.29895 -2.5 -0.663008 -2.5 0 \r\nC -2.5 0.663008 -2.236584 1.29895 -1.767767 1.767767 \r\nC -1.29895 2.236584 -0.663008 2.5 0 2.5 \r\nz\r\n\" id=\"mc6487c3ab3\" style=\"stroke:#0000ff;\"/>\r\n    </defs>\r\n    <g clip-path=\"url(#pfd72df507d)\">\r\n     <use style=\"fill:#0000ff;stroke:#0000ff;\" x=\"60.539489\" xlink:href=\"#mc6487c3ab3\" y=\"385.895471\"/>\r\n     <use style=\"fill:#0000ff;stroke:#0000ff;\" x=\"81.530084\" xlink:href=\"#mc6487c3ab3\" y=\"130.818973\"/>\r\n     <use style=\"fill:#0000ff;stroke:#0000ff;\" x=\"102.52068\" xlink:href=\"#mc6487c3ab3\" y=\"130.818973\"/>\r\n     <use style=\"fill:#0000ff;stroke:#0000ff;\" x=\"123.511275\" xlink:href=\"#mc6487c3ab3\" y=\"128.438789\"/>\r\n     <use style=\"fill:#0000ff;stroke:#0000ff;\" x=\"144.501871\" xlink:href=\"#mc6487c3ab3\" y=\"120.108154\"/>\r\n     <use style=\"fill:#0000ff;stroke:#0000ff;\" x=\"165.492467\" xlink:href=\"#mc6487c3ab3\" y=\"118.918052\"/>\r\n     <use style=\"fill:#0000ff;stroke:#0000ff;\" x=\"186.483062\" xlink:href=\"#mc6487c3ab3\" y=\"112.5709\"/>\r\n     <use style=\"fill:#0000ff;stroke:#0000ff;\" x=\"207.473658\" xlink:href=\"#mc6487c3ab3\" y=\"111.380798\"/>\r\n     <use style=\"fill:#0000ff;stroke:#0000ff;\" x=\"228.464254\" xlink:href=\"#mc6487c3ab3\" y=\"110.984097\"/>\r\n     <use style=\"fill:#0000ff;stroke:#0000ff;\" x=\"249.454849\" xlink:href=\"#mc6487c3ab3\" y=\"110.587397\"/>\r\n     <use style=\"fill:#0000ff;stroke:#0000ff;\" x=\"270.445445\" xlink:href=\"#mc6487c3ab3\" y=\"109.000614\"/>\r\n     <use style=\"fill:#0000ff;stroke:#0000ff;\" x=\"291.43604\" xlink:href=\"#mc6487c3ab3\" y=\"109.397314\"/>\r\n     <use style=\"fill:#0000ff;stroke:#0000ff;\" x=\"312.426636\" xlink:href=\"#mc6487c3ab3\" y=\"108.603913\"/>\r\n     <use style=\"fill:#0000ff;stroke:#0000ff;\" x=\"333.417232\" xlink:href=\"#mc6487c3ab3\" y=\"107.413831\"/>\r\n     <use style=\"fill:#0000ff;stroke:#0000ff;\" x=\"354.407827\" xlink:href=\"#mc6487c3ab3\" y=\"106.620429\"/>\r\n     <use style=\"fill:#0000ff;stroke:#0000ff;\" x=\"375.398423\" xlink:href=\"#mc6487c3ab3\" y=\"106.620429\"/>\r\n     <use style=\"fill:#0000ff;stroke:#0000ff;\" x=\"396.389018\" xlink:href=\"#mc6487c3ab3\" y=\"106.223729\"/>\r\n     <use style=\"fill:#0000ff;stroke:#0000ff;\" x=\"417.379614\" xlink:href=\"#mc6487c3ab3\" y=\"106.223729\"/>\r\n     <use style=\"fill:#0000ff;stroke:#0000ff;\" x=\"438.37021\" xlink:href=\"#mc6487c3ab3\" y=\"105.827028\"/>\r\n     <use style=\"fill:#0000ff;stroke:#0000ff;\" x=\"459.360805\" xlink:href=\"#mc6487c3ab3\" y=\"105.430328\"/>\r\n     <use style=\"fill:#0000ff;stroke:#0000ff;\" x=\"480.351401\" xlink:href=\"#mc6487c3ab3\" y=\"105.430328\"/>\r\n     <use style=\"fill:#0000ff;stroke:#0000ff;\" x=\"501.341996\" xlink:href=\"#mc6487c3ab3\" y=\"105.033646\"/>\r\n     <use style=\"fill:#0000ff;stroke:#0000ff;\" x=\"522.332592\" xlink:href=\"#mc6487c3ab3\" y=\"105.033646\"/>\r\n     <use style=\"fill:#0000ff;stroke:#0000ff;\" x=\"543.323188\" xlink:href=\"#mc6487c3ab3\" y=\"105.033646\"/>\r\n     <use style=\"fill:#0000ff;stroke:#0000ff;\" x=\"564.313783\" xlink:href=\"#mc6487c3ab3\" y=\"105.033646\"/>\r\n     <use style=\"fill:#0000ff;stroke:#0000ff;\" x=\"585.304379\" xlink:href=\"#mc6487c3ab3\" y=\"104.636946\"/>\r\n     <use style=\"fill:#0000ff;stroke:#0000ff;\" x=\"606.294975\" xlink:href=\"#mc6487c3ab3\" y=\"104.636946\"/>\r\n     <use style=\"fill:#0000ff;stroke:#0000ff;\" x=\"627.28557\" xlink:href=\"#mc6487c3ab3\" y=\"104.636946\"/>\r\n     <use style=\"fill:#0000ff;stroke:#0000ff;\" x=\"648.276166\" xlink:href=\"#mc6487c3ab3\" y=\"104.240245\"/>\r\n     <use style=\"fill:#0000ff;stroke:#0000ff;\" x=\"669.266761\" xlink:href=\"#mc6487c3ab3\" y=\"103.843544\"/>\r\n    </g>\r\n   </g>\r\n   <g id=\"line2d_18\">\r\n    <path clip-path=\"url(#pfd72df507d)\" d=\"M 60.539489 26.967273 \r\nL 81.530084 309.912118 \r\nL 102.52068 316.281982 \r\nL 123.511275 329.047747 \r\nL 144.501871 348.528595 \r\nL 165.492467 352.359009 \r\nL 186.483062 368.117232 \r\nL 207.473658 374.152661 \r\nL 228.464254 375.909895 \r\nL 249.454849 377.003477 \r\nL 270.445445 376.903979 \r\nL 291.43604 377.192866 \r\nL 312.426636 377.571523 \r\nL 333.417232 377.63727 \r\nL 354.407827 377.936775 \r\nL 375.398423 377.664006 \r\nL 396.389018 377.848379 \r\nL 417.379614 377.705295 \r\nL 438.37021 377.760409 \r\nL 459.360805 376.920722 \r\nL 480.351401 376.98182 \r\nL 501.341996 376.772759 \r\nL 522.332592 376.096396 \r\nL 543.323188 376.304817 \r\nL 564.313783 376.248138 \r\nL 585.304379 375.75959 \r\nL 606.294975 375.220895 \r\nL 627.28557 375.292689 \r\nL 648.276166 374.975727 \r\nL 669.266761 374.969694 \r\n\" style=\"fill:none;stroke:#ff0000;stroke-linecap:square;stroke-width:1.5;\"/>\r\n    <defs>\r\n     <path d=\"M 0 2.5 \r\nC 0.663008 2.5 1.29895 2.236584 1.767767 1.767767 \r\nC 2.236584 1.29895 2.5 0.663008 2.5 0 \r\nC 2.5 -0.663008 2.236584 -1.29895 1.767767 -1.767767 \r\nC 1.29895 -2.236584 0.663008 -2.5 0 -2.5 \r\nC -0.663008 -2.5 -1.29895 -2.236584 -1.767767 -1.767767 \r\nC -2.236584 -1.29895 -2.5 -0.663008 -2.5 0 \r\nC -2.5 0.663008 -2.236584 1.29895 -1.767767 1.767767 \r\nC -1.29895 2.236584 -0.663008 2.5 0 2.5 \r\nz\r\n\" id=\"m816216cd57\" style=\"stroke:#ff0000;\"/>\r\n    </defs>\r\n    <g clip-path=\"url(#pfd72df507d)\">\r\n     <use style=\"fill:#ff0000;stroke:#ff0000;\" x=\"60.539489\" xlink:href=\"#m816216cd57\" y=\"26.967273\"/>\r\n     <use style=\"fill:#ff0000;stroke:#ff0000;\" x=\"81.530084\" xlink:href=\"#m816216cd57\" y=\"309.912118\"/>\r\n     <use style=\"fill:#ff0000;stroke:#ff0000;\" x=\"102.52068\" xlink:href=\"#m816216cd57\" y=\"316.281982\"/>\r\n     <use style=\"fill:#ff0000;stroke:#ff0000;\" x=\"123.511275\" xlink:href=\"#m816216cd57\" y=\"329.047747\"/>\r\n     <use style=\"fill:#ff0000;stroke:#ff0000;\" x=\"144.501871\" xlink:href=\"#m816216cd57\" y=\"348.528595\"/>\r\n     <use style=\"fill:#ff0000;stroke:#ff0000;\" x=\"165.492467\" xlink:href=\"#m816216cd57\" y=\"352.359009\"/>\r\n     <use style=\"fill:#ff0000;stroke:#ff0000;\" x=\"186.483062\" xlink:href=\"#m816216cd57\" y=\"368.117232\"/>\r\n     <use style=\"fill:#ff0000;stroke:#ff0000;\" x=\"207.473658\" xlink:href=\"#m816216cd57\" y=\"374.152661\"/>\r\n     <use style=\"fill:#ff0000;stroke:#ff0000;\" x=\"228.464254\" xlink:href=\"#m816216cd57\" y=\"375.909895\"/>\r\n     <use style=\"fill:#ff0000;stroke:#ff0000;\" x=\"249.454849\" xlink:href=\"#m816216cd57\" y=\"377.003477\"/>\r\n     <use style=\"fill:#ff0000;stroke:#ff0000;\" x=\"270.445445\" xlink:href=\"#m816216cd57\" y=\"376.903979\"/>\r\n     <use style=\"fill:#ff0000;stroke:#ff0000;\" x=\"291.43604\" xlink:href=\"#m816216cd57\" y=\"377.192866\"/>\r\n     <use style=\"fill:#ff0000;stroke:#ff0000;\" x=\"312.426636\" xlink:href=\"#m816216cd57\" y=\"377.571523\"/>\r\n     <use style=\"fill:#ff0000;stroke:#ff0000;\" x=\"333.417232\" xlink:href=\"#m816216cd57\" y=\"377.63727\"/>\r\n     <use style=\"fill:#ff0000;stroke:#ff0000;\" x=\"354.407827\" xlink:href=\"#m816216cd57\" y=\"377.936775\"/>\r\n     <use style=\"fill:#ff0000;stroke:#ff0000;\" x=\"375.398423\" xlink:href=\"#m816216cd57\" y=\"377.664006\"/>\r\n     <use style=\"fill:#ff0000;stroke:#ff0000;\" x=\"396.389018\" xlink:href=\"#m816216cd57\" y=\"377.848379\"/>\r\n     <use style=\"fill:#ff0000;stroke:#ff0000;\" x=\"417.379614\" xlink:href=\"#m816216cd57\" y=\"377.705295\"/>\r\n     <use style=\"fill:#ff0000;stroke:#ff0000;\" x=\"438.37021\" xlink:href=\"#m816216cd57\" y=\"377.760409\"/>\r\n     <use style=\"fill:#ff0000;stroke:#ff0000;\" x=\"459.360805\" xlink:href=\"#m816216cd57\" y=\"376.920722\"/>\r\n     <use style=\"fill:#ff0000;stroke:#ff0000;\" x=\"480.351401\" xlink:href=\"#m816216cd57\" y=\"376.98182\"/>\r\n     <use style=\"fill:#ff0000;stroke:#ff0000;\" x=\"501.341996\" xlink:href=\"#m816216cd57\" y=\"376.772759\"/>\r\n     <use style=\"fill:#ff0000;stroke:#ff0000;\" x=\"522.332592\" xlink:href=\"#m816216cd57\" y=\"376.096396\"/>\r\n     <use style=\"fill:#ff0000;stroke:#ff0000;\" x=\"543.323188\" xlink:href=\"#m816216cd57\" y=\"376.304817\"/>\r\n     <use style=\"fill:#ff0000;stroke:#ff0000;\" x=\"564.313783\" xlink:href=\"#m816216cd57\" y=\"376.248138\"/>\r\n     <use style=\"fill:#ff0000;stroke:#ff0000;\" x=\"585.304379\" xlink:href=\"#m816216cd57\" y=\"375.75959\"/>\r\n     <use style=\"fill:#ff0000;stroke:#ff0000;\" x=\"606.294975\" xlink:href=\"#m816216cd57\" y=\"375.220895\"/>\r\n     <use style=\"fill:#ff0000;stroke:#ff0000;\" x=\"627.28557\" xlink:href=\"#m816216cd57\" y=\"375.292689\"/>\r\n     <use style=\"fill:#ff0000;stroke:#ff0000;\" x=\"648.276166\" xlink:href=\"#m816216cd57\" y=\"374.975727\"/>\r\n     <use style=\"fill:#ff0000;stroke:#ff0000;\" x=\"669.266761\" xlink:href=\"#m816216cd57\" y=\"374.969694\"/>\r\n    </g>\r\n   </g>\r\n   <g id=\"patch_3\">\r\n    <path d=\"M 30.103125 442.08 \r\nL 30.103125 7.2 \r\n\" style=\"fill:none;stroke:#000000;stroke-linecap:square;stroke-linejoin:miter;stroke-width:0.8;\"/>\r\n   </g>\r\n   <g id=\"patch_4\">\r\n    <path d=\"M 699.703125 442.08 \r\nL 699.703125 7.2 \r\n\" style=\"fill:none;stroke:#000000;stroke-linecap:square;stroke-linejoin:miter;stroke-width:0.8;\"/>\r\n   </g>\r\n   <g id=\"patch_5\">\r\n    <path d=\"M 30.103125 442.08 \r\nL 699.703125 442.08 \r\n\" style=\"fill:none;stroke:#000000;stroke-linecap:square;stroke-linejoin:miter;stroke-width:0.8;\"/>\r\n   </g>\r\n   <g id=\"patch_6\">\r\n    <path d=\"M 30.103125 7.2 \r\nL 699.703125 7.2 \r\n\" style=\"fill:none;stroke:#000000;stroke-linecap:square;stroke-linejoin:miter;stroke-width:0.8;\"/>\r\n   </g>\r\n   <g id=\"legend_1\">\r\n    <g id=\"patch_7\">\r\n     <path d=\"M 595.759375 74.46875 \r\nL 692.703125 74.46875 \r\nQ 694.703125 74.46875 694.703125 72.46875 \r\nL 694.703125 14.2 \r\nQ 694.703125 12.2 692.703125 12.2 \r\nL 595.759375 12.2 \r\nQ 593.759375 12.2 593.759375 14.2 \r\nL 593.759375 72.46875 \r\nQ 593.759375 74.46875 595.759375 74.46875 \r\nz\r\n\" style=\"fill:#ffffff;opacity:0.8;stroke:#cccccc;stroke-linejoin:miter;\"/>\r\n    </g>\r\n    <g id=\"line2d_19\">\r\n     <path d=\"M 597.759375 20.298437 \r\nL 617.759375 20.298437 \r\n\" style=\"fill:none;stroke:#008000;stroke-linecap:square;stroke-width:1.5;\"/>\r\n    </g>\r\n    <g id=\"line2d_20\">\r\n     <g>\r\n      <use style=\"fill:#008000;stroke:#008000;\" x=\"607.759375\" xlink:href=\"#mf0dd3f23aa\" y=\"20.298437\"/>\r\n     </g>\r\n    </g>\r\n    <g id=\"text_15\">\r\n     <!-- loss -->\r\n     <g transform=\"translate(625.759375 23.798437)scale(0.1 -0.1)\">\r\n      <defs>\r\n       <path d=\"M 9.421875 75.984375 \r\nL 18.40625 75.984375 \r\nL 18.40625 0 \r\nL 9.421875 0 \r\nz\r\n\" id=\"DejaVuSans-108\"/>\r\n       <path d=\"M 30.609375 48.390625 \r\nQ 23.390625 48.390625 19.1875 42.75 \r\nQ 14.984375 37.109375 14.984375 27.296875 \r\nQ 14.984375 17.484375 19.15625 11.84375 \r\nQ 23.34375 6.203125 30.609375 6.203125 \r\nQ 37.796875 6.203125 41.984375 11.859375 \r\nQ 46.1875 17.53125 46.1875 27.296875 \r\nQ 46.1875 37.015625 41.984375 42.703125 \r\nQ 37.796875 48.390625 30.609375 48.390625 \r\nz\r\nM 30.609375 56 \r\nQ 42.328125 56 49.015625 48.375 \r\nQ 55.71875 40.765625 55.71875 27.296875 \r\nQ 55.71875 13.875 49.015625 6.21875 \r\nQ 42.328125 -1.421875 30.609375 -1.421875 \r\nQ 18.84375 -1.421875 12.171875 6.21875 \r\nQ 5.515625 13.875 5.515625 27.296875 \r\nQ 5.515625 40.765625 12.171875 48.375 \r\nQ 18.84375 56 30.609375 56 \r\nz\r\n\" id=\"DejaVuSans-111\"/>\r\n       <path d=\"M 44.28125 53.078125 \r\nL 44.28125 44.578125 \r\nQ 40.484375 46.53125 36.375 47.5 \r\nQ 32.28125 48.484375 27.875 48.484375 \r\nQ 21.1875 48.484375 17.84375 46.4375 \r\nQ 14.5 44.390625 14.5 40.28125 \r\nQ 14.5 37.15625 16.890625 35.375 \r\nQ 19.28125 33.59375 26.515625 31.984375 \r\nL 29.59375 31.296875 \r\nQ 39.15625 29.25 43.1875 25.515625 \r\nQ 47.21875 21.78125 47.21875 15.09375 \r\nQ 47.21875 7.46875 41.1875 3.015625 \r\nQ 35.15625 -1.421875 24.609375 -1.421875 \r\nQ 20.21875 -1.421875 15.453125 -0.5625 \r\nQ 10.6875 0.296875 5.421875 2 \r\nL 5.421875 11.28125 \r\nQ 10.40625 8.6875 15.234375 7.390625 \r\nQ 20.0625 6.109375 24.8125 6.109375 \r\nQ 31.15625 6.109375 34.5625 8.28125 \r\nQ 37.984375 10.453125 37.984375 14.40625 \r\nQ 37.984375 18.0625 35.515625 20.015625 \r\nQ 33.0625 21.96875 24.703125 23.78125 \r\nL 21.578125 24.515625 \r\nQ 13.234375 26.265625 9.515625 29.90625 \r\nQ 5.8125 33.546875 5.8125 39.890625 \r\nQ 5.8125 47.609375 11.28125 51.796875 \r\nQ 16.75 56 26.8125 56 \r\nQ 31.78125 56 36.171875 55.265625 \r\nQ 40.578125 54.546875 44.28125 53.078125 \r\nz\r\n\" id=\"DejaVuSans-115\"/>\r\n      </defs>\r\n      <use xlink:href=\"#DejaVuSans-108\"/>\r\n      <use x=\"27.783203\" xlink:href=\"#DejaVuSans-111\"/>\r\n      <use x=\"88.964844\" xlink:href=\"#DejaVuSans-115\"/>\r\n      <use x=\"141.064453\" xlink:href=\"#DejaVuSans-115\"/>\r\n     </g>\r\n    </g>\r\n    <g id=\"line2d_21\">\r\n     <path d=\"M 597.759375 34.976562 \r\nL 617.759375 34.976562 \r\n\" style=\"fill:none;stroke:#000000;stroke-linecap:square;stroke-width:1.5;\"/>\r\n    </g>\r\n    <g id=\"line2d_22\">\r\n     <g>\r\n      <use style=\"stroke:#000000;\" x=\"607.759375\" xlink:href=\"#mcc1443197b\" y=\"34.976562\"/>\r\n     </g>\r\n    </g>\r\n    <g id=\"text_16\">\r\n     <!-- accuracy -->\r\n     <g transform=\"translate(625.759375 38.476562)scale(0.1 -0.1)\">\r\n      <defs>\r\n       <path d=\"M 34.28125 27.484375 \r\nQ 23.390625 27.484375 19.1875 25 \r\nQ 14.984375 22.515625 14.984375 16.5 \r\nQ 14.984375 11.71875 18.140625 8.90625 \r\nQ 21.296875 6.109375 26.703125 6.109375 \r\nQ 34.1875 6.109375 38.703125 11.40625 \r\nQ 43.21875 16.703125 43.21875 25.484375 \r\nL 43.21875 27.484375 \r\nz\r\nM 52.203125 31.203125 \r\nL 52.203125 0 \r\nL 43.21875 0 \r\nL 43.21875 8.296875 \r\nQ 40.140625 3.328125 35.546875 0.953125 \r\nQ 30.953125 -1.421875 24.3125 -1.421875 \r\nQ 15.921875 -1.421875 10.953125 3.296875 \r\nQ 6 8.015625 6 15.921875 \r\nQ 6 25.140625 12.171875 29.828125 \r\nQ 18.359375 34.515625 30.609375 34.515625 \r\nL 43.21875 34.515625 \r\nL 43.21875 35.40625 \r\nQ 43.21875 41.609375 39.140625 45 \r\nQ 35.0625 48.390625 27.6875 48.390625 \r\nQ 23 48.390625 18.546875 47.265625 \r\nQ 14.109375 46.140625 10.015625 43.890625 \r\nL 10.015625 52.203125 \r\nQ 14.9375 54.109375 19.578125 55.046875 \r\nQ 24.21875 56 28.609375 56 \r\nQ 40.484375 56 46.34375 49.84375 \r\nQ 52.203125 43.703125 52.203125 31.203125 \r\nz\r\n\" id=\"DejaVuSans-97\"/>\r\n       <path d=\"M 48.78125 52.59375 \r\nL 48.78125 44.1875 \r\nQ 44.96875 46.296875 41.140625 47.34375 \r\nQ 37.3125 48.390625 33.40625 48.390625 \r\nQ 24.65625 48.390625 19.8125 42.84375 \r\nQ 14.984375 37.3125 14.984375 27.296875 \r\nQ 14.984375 17.28125 19.8125 11.734375 \r\nQ 24.65625 6.203125 33.40625 6.203125 \r\nQ 37.3125 6.203125 41.140625 7.25 \r\nQ 44.96875 8.296875 48.78125 10.40625 \r\nL 48.78125 2.09375 \r\nQ 45.015625 0.34375 40.984375 -0.53125 \r\nQ 36.96875 -1.421875 32.421875 -1.421875 \r\nQ 20.0625 -1.421875 12.78125 6.34375 \r\nQ 5.515625 14.109375 5.515625 27.296875 \r\nQ 5.515625 40.671875 12.859375 48.328125 \r\nQ 20.21875 56 33.015625 56 \r\nQ 37.15625 56 41.109375 55.140625 \r\nQ 45.0625 54.296875 48.78125 52.59375 \r\nz\r\n\" id=\"DejaVuSans-99\"/>\r\n       <path d=\"M 8.5 21.578125 \r\nL 8.5 54.6875 \r\nL 17.484375 54.6875 \r\nL 17.484375 21.921875 \r\nQ 17.484375 14.15625 20.5 10.265625 \r\nQ 23.53125 6.390625 29.59375 6.390625 \r\nQ 36.859375 6.390625 41.078125 11.03125 \r\nQ 45.3125 15.671875 45.3125 23.6875 \r\nL 45.3125 54.6875 \r\nL 54.296875 54.6875 \r\nL 54.296875 0 \r\nL 45.3125 0 \r\nL 45.3125 8.40625 \r\nQ 42.046875 3.421875 37.71875 1 \r\nQ 33.40625 -1.421875 27.6875 -1.421875 \r\nQ 18.265625 -1.421875 13.375 4.4375 \r\nQ 8.5 10.296875 8.5 21.578125 \r\nz\r\nM 31.109375 56 \r\nz\r\n\" id=\"DejaVuSans-117\"/>\r\n       <path d=\"M 41.109375 46.296875 \r\nQ 39.59375 47.171875 37.8125 47.578125 \r\nQ 36.03125 48 33.890625 48 \r\nQ 26.265625 48 22.1875 43.046875 \r\nQ 18.109375 38.09375 18.109375 28.8125 \r\nL 18.109375 0 \r\nL 9.078125 0 \r\nL 9.078125 54.6875 \r\nL 18.109375 54.6875 \r\nL 18.109375 46.1875 \r\nQ 20.953125 51.171875 25.484375 53.578125 \r\nQ 30.03125 56 36.53125 56 \r\nQ 37.453125 56 38.578125 55.875 \r\nQ 39.703125 55.765625 41.0625 55.515625 \r\nz\r\n\" id=\"DejaVuSans-114\"/>\r\n       <path d=\"M 32.171875 -5.078125 \r\nQ 28.375 -14.84375 24.75 -17.8125 \r\nQ 21.140625 -20.796875 15.09375 -20.796875 \r\nL 7.90625 -20.796875 \r\nL 7.90625 -13.28125 \r\nL 13.1875 -13.28125 \r\nQ 16.890625 -13.28125 18.9375 -11.515625 \r\nQ 21 -9.765625 23.484375 -3.21875 \r\nL 25.09375 0.875 \r\nL 2.984375 54.6875 \r\nL 12.5 54.6875 \r\nL 29.59375 11.921875 \r\nL 46.6875 54.6875 \r\nL 56.203125 54.6875 \r\nz\r\n\" id=\"DejaVuSans-121\"/>\r\n      </defs>\r\n      <use xlink:href=\"#DejaVuSans-97\"/>\r\n      <use x=\"61.279297\" xlink:href=\"#DejaVuSans-99\"/>\r\n      <use x=\"116.259766\" xlink:href=\"#DejaVuSans-99\"/>\r\n      <use x=\"171.240234\" xlink:href=\"#DejaVuSans-117\"/>\r\n      <use x=\"234.619141\" xlink:href=\"#DejaVuSans-114\"/>\r\n      <use x=\"275.732422\" xlink:href=\"#DejaVuSans-97\"/>\r\n      <use x=\"337.011719\" xlink:href=\"#DejaVuSans-99\"/>\r\n      <use x=\"391.992188\" xlink:href=\"#DejaVuSans-121\"/>\r\n     </g>\r\n    </g>\r\n    <g id=\"line2d_23\">\r\n     <path d=\"M 597.759375 49.654687 \r\nL 617.759375 49.654687 \r\n\" style=\"fill:none;stroke:#0000ff;stroke-linecap:square;stroke-width:1.5;\"/>\r\n    </g>\r\n    <g id=\"line2d_24\">\r\n     <g>\r\n      <use style=\"fill:#0000ff;stroke:#0000ff;\" x=\"607.759375\" xlink:href=\"#mc6487c3ab3\" y=\"49.654687\"/>\r\n     </g>\r\n    </g>\r\n    <g id=\"text_17\">\r\n     <!-- val_accuracy -->\r\n     <g transform=\"translate(625.759375 53.154687)scale(0.1 -0.1)\">\r\n      <defs>\r\n       <path d=\"M 2.984375 54.6875 \r\nL 12.5 54.6875 \r\nL 29.59375 8.796875 \r\nL 46.6875 54.6875 \r\nL 56.203125 54.6875 \r\nL 35.6875 0 \r\nL 23.484375 0 \r\nz\r\n\" id=\"DejaVuSans-118\"/>\r\n       <path d=\"M 50.984375 -16.609375 \r\nL 50.984375 -23.578125 \r\nL -0.984375 -23.578125 \r\nL -0.984375 -16.609375 \r\nz\r\n\" id=\"DejaVuSans-95\"/>\r\n      </defs>\r\n      <use xlink:href=\"#DejaVuSans-118\"/>\r\n      <use x=\"59.179688\" xlink:href=\"#DejaVuSans-97\"/>\r\n      <use x=\"120.458984\" xlink:href=\"#DejaVuSans-108\"/>\r\n      <use x=\"148.242188\" xlink:href=\"#DejaVuSans-95\"/>\r\n      <use x=\"198.242188\" xlink:href=\"#DejaVuSans-97\"/>\r\n      <use x=\"259.521484\" xlink:href=\"#DejaVuSans-99\"/>\r\n      <use x=\"314.501953\" xlink:href=\"#DejaVuSans-99\"/>\r\n      <use x=\"369.482422\" xlink:href=\"#DejaVuSans-117\"/>\r\n      <use x=\"432.861328\" xlink:href=\"#DejaVuSans-114\"/>\r\n      <use x=\"473.974609\" xlink:href=\"#DejaVuSans-97\"/>\r\n      <use x=\"535.253906\" xlink:href=\"#DejaVuSans-99\"/>\r\n      <use x=\"590.234375\" xlink:href=\"#DejaVuSans-121\"/>\r\n     </g>\r\n    </g>\r\n    <g id=\"line2d_25\">\r\n     <path d=\"M 597.759375 64.610937 \r\nL 617.759375 64.610937 \r\n\" style=\"fill:none;stroke:#ff0000;stroke-linecap:square;stroke-width:1.5;\"/>\r\n    </g>\r\n    <g id=\"line2d_26\">\r\n     <g>\r\n      <use style=\"fill:#ff0000;stroke:#ff0000;\" x=\"607.759375\" xlink:href=\"#m816216cd57\" y=\"64.610937\"/>\r\n     </g>\r\n    </g>\r\n    <g id=\"text_18\">\r\n     <!-- val_loss -->\r\n     <g transform=\"translate(625.759375 68.110937)scale(0.1 -0.1)\">\r\n      <use xlink:href=\"#DejaVuSans-118\"/>\r\n      <use x=\"59.179688\" xlink:href=\"#DejaVuSans-97\"/>\r\n      <use x=\"120.458984\" xlink:href=\"#DejaVuSans-108\"/>\r\n      <use x=\"148.242188\" xlink:href=\"#DejaVuSans-95\"/>\r\n      <use x=\"198.242188\" xlink:href=\"#DejaVuSans-108\"/>\r\n      <use x=\"226.025391\" xlink:href=\"#DejaVuSans-111\"/>\r\n      <use x=\"287.207031\" xlink:href=\"#DejaVuSans-115\"/>\r\n      <use x=\"339.306641\" xlink:href=\"#DejaVuSans-115\"/>\r\n     </g>\r\n    </g>\r\n   </g>\r\n  </g>\r\n </g>\r\n <defs>\r\n  <clipPath id=\"pfd72df507d\">\r\n   <rect height=\"434.88\" width=\"669.6\" x=\"30.103125\" y=\"7.2\"/>\r\n  </clipPath>\r\n </defs>\r\n</svg>\r\n",
      "image/png": "[encoded data removed]"
     },
     "metadata": {
      "needs_background": "light"
     }
    }
   ],
   "source": [
    "#(9) 학습 과정 시각화하기. \n",
    "plt.figure(figsize=(12,8))\n",
    "y_val_loss = model_fit.history['val_loss']\n",
    "y_loss = model_fit.history['loss']\n",
    "y_val_accuracy = model_fit.history['val_accuracy']\n",
    "y_accuracy = model_fit.history['accuracy']\n",
    "x_len = np.arange(len(y_val_loss))\n",
    "\n",
    "plt.plot(x_len, y_loss, 'go-', markersize=5, label='loss')\n",
    "plt.plot(x_len, y_accuracy, 'ko-', markersize=5, label='accuracy')\n",
    "\n",
    "plt.plot(x_len, y_val_accuracy, 'bo-', markersize=5, label='val_accuracy')\n",
    "plt.plot(x_len, y_val_loss, 'ro-', markersize=5, label='val_loss')\n",
    "\n",
    "plt.legend()\n",
    "plt.show()"
   ]
  }
 ]
}