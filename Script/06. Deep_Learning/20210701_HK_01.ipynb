{
 "metadata": {
  "language_info": {
   "codemirror_mode": {
    "name": "ipython",
    "version": 3
   },
   "file_extension": ".py",
   "mimetype": "text/x-python",
   "name": "python",
   "nbconvert_exporter": "python",
   "pygments_lexer": "ipython3",
   "version": "3.9.5"
  },
  "orig_nbformat": 4,
  "kernelspec": {
   "name": "python3",
   "display_name": "Python 3.9.5 64-bit ('base': conda)"
  },
  "interpreter": {
   "hash": "5b56da8208ae380fa2c15171ec3bd1c59fd37e61d99a7ebd9f8c7e6e7af5d3db"
  }
 },
 "nbformat": 4,
 "nbformat_minor": 2,
 "cells": [
  {
   "cell_type": "code",
   "execution_count": 1,
   "metadata": {},
   "outputs": [],
   "source": [
    "#2021.07.01. THUR \n",
    "#Hankyeong\n",
    "\n",
    "##CH04. Image Data Augmentation\n",
    "#00. 패키지 호출\n",
    "import warnings\n",
    "import numpy as np \n",
    "import tensorflow as tf \n",
    "from tensorflow.keras.preprocessing.image import ImageDataGenerator\n",
    "from tensorflow.keras.models import Sequential, load_model\n",
    "from tensorflow.keras.layers import Dense, Conv2D, MaxPooling2D, Dropout, Flatten\n",
    "from tensorflow.keras.callbacks import ModelCheckpoint, EarlyStopping\n",
    "\n",
    "#00-1. warning message ignore\n",
    "warnings.filterwarnings(action='ignore')\n"
   ]
  },
  {
   "cell_type": "code",
   "execution_count": 2,
   "metadata": {},
   "outputs": [
    {
     "output_type": "stream",
     "name": "stdout",
     "text": [
      "Found 45 images belonging to 3 classes.\n"
     ]
    }
   ],
   "source": [
    "#01. 데이터셋 불러오기 및 전처리하기.  \n",
    "#(1) train generator 객체 만들고 스케일링 처리하기.   \n",
    "train_data_gen = ImageDataGenerator(rescale=1/255.)\n",
    "\n",
    "#(2) train 데이터셋 불러오기. \n",
    "train_generator = train_data_gen.flow_from_directory(\n",
    "    '../../data/handwriting_shape/train',\n",
    "    target_size=(24,24),\n",
    "    batch_size=3,\n",
    "    class_mode='categorical'\n",
    ")"
   ]
  },
  {
   "cell_type": "code",
   "execution_count": 3,
   "metadata": {},
   "outputs": [
    {
     "output_type": "execute_result",
     "data": {
      "text/plain": [
       "['circle\\\\circle001.png',\n",
       " 'circle\\\\circle002.png',\n",
       " 'circle\\\\circle003.png',\n",
       " 'circle\\\\circle004.png',\n",
       " 'circle\\\\circle005.png']"
      ]
     },
     "metadata": {},
     "execution_count": 3
    }
   ],
   "source": [
    "#(3) generator에 들어간 파일 확인하기. \n",
    "train_generator.filenames[:5]"
   ]
  },
  {
   "cell_type": "code",
   "execution_count": 4,
   "metadata": {},
   "outputs": [
    {
     "output_type": "execute_result",
     "data": {
      "text/plain": [
       "array([0, 0, 0, 0, 0, 0, 0, 0, 0, 0, 0, 0, 0, 0, 0, 1, 1, 1, 1, 1, 1, 1,\n",
       "       1, 1, 1, 1, 1, 1, 1, 1, 2, 2, 2, 2, 2, 2, 2, 2, 2, 2, 2, 2, 2, 2,\n",
       "       2])"
      ]
     },
     "metadata": {},
     "execution_count": 4
    }
   ],
   "source": [
    "#(4) 들어간 파일의 라벨 확인하기. \n",
    "train_generator.labels"
   ]
  },
  {
   "cell_type": "code",
   "execution_count": 5,
   "metadata": {},
   "outputs": [
    {
     "output_type": "stream",
     "name": "stdout",
     "text": [
      "Found 15 images belonging to 3 classes.\n"
     ]
    }
   ],
   "source": [
    "#(5) test generator 객체 만들고 스케일링 처리하기.   \n",
    "test_data_gen = ImageDataGenerator(rescale=1/255.)\n",
    "\n",
    "#(6) test 데이터셋 불러오기. \n",
    "test_generator = test_data_gen.flow_from_directory(\n",
    "    '../../data/handwriting_shape/test',\n",
    "    target_size=(24,24),\n",
    "    batch_size=3,\n",
    "    class_mode='categorical'\n",
    ")"
   ]
  },
  {
   "cell_type": "code",
   "execution_count": 6,
   "metadata": {},
   "outputs": [
    {
     "output_type": "execute_result",
     "data": {
      "text/plain": [
       "['circle\\\\circle016.png',\n",
       " 'circle\\\\circle017.png',\n",
       " 'circle\\\\circle018.png',\n",
       " 'circle\\\\circle019.png',\n",
       " 'circle\\\\circle020.png']"
      ]
     },
     "metadata": {},
     "execution_count": 6
    }
   ],
   "source": [
    "#(7) generator에 입력된 파일 확인하기. \n",
    "test_generator.filenames[:5]"
   ]
  },
  {
   "cell_type": "code",
   "execution_count": 7,
   "metadata": {},
   "outputs": [
    {
     "output_type": "execute_result",
     "data": {
      "text/plain": [
       "array([0, 0, 0, 0, 0, 1, 1, 1, 1, 1, 2, 2, 2, 2, 2])"
      ]
     },
     "metadata": {},
     "execution_count": 7
    }
   ],
   "source": [
    "#(8) 입력된 파일의 라벨 확인하기. \n",
    "test_generator.labels"
   ]
  },
  {
   "cell_type": "code",
   "execution_count": 8,
   "metadata": {},
   "outputs": [
    {
     "output_type": "stream",
     "name": "stdout",
     "text": [
      "Model: \"sequential\"\n_________________________________________________________________\nLayer (type)                 Output Shape              Param #   \n=================================================================\nconv2d (Conv2D)              (None, 22, 22, 32)        896       \n_________________________________________________________________\nconv2d_1 (Conv2D)            (None, 20, 20, 64)        18496     \n_________________________________________________________________\nmax_pooling2d (MaxPooling2D) (None, 10, 10, 64)        0         \n_________________________________________________________________\ndropout (Dropout)            (None, 10, 10, 64)        0         \n_________________________________________________________________\nflatten (Flatten)            (None, 6400)              0         \n_________________________________________________________________\ndense (Dense)                (None, 128)               819328    \n_________________________________________________________________\ndropout_1 (Dropout)          (None, 128)               0         \n_________________________________________________________________\ndense_1 (Dense)              (None, 3)                 387       \n=================================================================\nTotal params: 839,107\nTrainable params: 839,107\nNon-trainable params: 0\n_________________________________________________________________\n"
     ]
    }
   ],
   "source": [
    "#02. CNN 모델 정의, 컴파일, 학습, 예측 및 평가하기. \n",
    "#(1) 모델 정의하기. \n",
    "model = Sequential([\n",
    "    Conv2D(32, kernel_size=(3,3), input_shape=(24,24,3), activation='relu'),\n",
    "    Conv2D(64, kernel_size=(3,3), activation='relu'),\n",
    "    MaxPooling2D(pool_size=(2,2)),\n",
    "    Dropout(rate=0.25),\n",
    "    Flatten(),\n",
    "    Dense(128, activation='relu'),\n",
    "    Dropout(rate=0.5),\n",
    "    Dense(3, activation='softmax')\n",
    "])\n",
    "\n",
    "#(2) 모델의 요약 정보 확인하기. \n",
    "model.summary()"
   ]
  },
  {
   "cell_type": "code",
   "execution_count": 2,
   "metadata": {},
   "outputs": [
    {
     "output_type": "error",
     "ename": "NameError",
     "evalue": "name 'model' is not defined",
     "traceback": [
      "\u001b[1;31m---------------------------------------------------------------------------\u001b[0m",
      "\u001b[1;31mNameError\u001b[0m                                 Traceback (most recent call last)",
      "\u001b[1;32m<ipython-input-2-e234aa5e43db>\u001b[0m in \u001b[0;36m<module>\u001b[1;34m\u001b[0m\n\u001b[0;32m      1\u001b[0m \u001b[1;31m#(3) 모델의 컴파일 설정하기.\u001b[0m\u001b[1;33m\u001b[0m\u001b[1;33m\u001b[0m\u001b[1;33m\u001b[0m\u001b[0m\n\u001b[1;32m----> 2\u001b[1;33m model.compile(\n\u001b[0m\u001b[0;32m      3\u001b[0m     \u001b[0moptimizer\u001b[0m\u001b[1;33m=\u001b[0m\u001b[1;34m'adam'\u001b[0m\u001b[1;33m,\u001b[0m\u001b[1;33m\u001b[0m\u001b[1;33m\u001b[0m\u001b[0m\n\u001b[0;32m      4\u001b[0m     \u001b[0mloss\u001b[0m\u001b[1;33m=\u001b[0m\u001b[1;34m'categorical_crossentropy'\u001b[0m\u001b[1;33m,\u001b[0m\u001b[1;33m\u001b[0m\u001b[1;33m\u001b[0m\u001b[0m\n\u001b[0;32m      5\u001b[0m     \u001b[0mmetrics\u001b[0m\u001b[1;33m=\u001b[0m\u001b[1;34m'accuracy'\u001b[0m\u001b[1;33m\u001b[0m\u001b[1;33m\u001b[0m\u001b[0m\n",
      "\u001b[1;31mNameError\u001b[0m: name 'model' is not defined"
     ]
    }
   ],
   "source": [
    "#(3) 모델의 컴파일 설정하기. \n",
    "model.compile(\n",
    "    optimizer='adam',\n",
    "    loss='categorical_crossentropy',\n",
    "    metrics='accuracy'\n",
    ")\n",
    "\n",
    "#(4) 모델의 checkpointer 객체 할당하기. \n",
    "MODEL_PATH = '../../model/polygon_best_CNN_model.h5'\n",
    "checkpointer = ModelCheckpoint(\n",
    "    filepath=MODEL_PATH, \n",
    "    monitor='val_loss',\n",
    "    save_best_only=True,\n",
    "    verbose=0\n",
    ")\n",
    "\n",
    "#(5) 모델의 ealrystopping 객체 할당하기. \n",
    "earlystopping = EarlyStopping(patience=15)\n",
    "\n",
    "#(6) 모델 학습하기. \n",
    "model_fit = model.fit_generator(\n",
    "    train_generator,\n",
    "    steps_per_epoch=15,\n",
    "    epochs=50,\n",
    "    validation_data=test_generator,\n",
    "    validation_steps=5,\n",
    "    verbose=0,\n",
    "    callbacks=[checkpointer,earlystopping]\n",
    ")\n",
    "\n",
    "#(7) best 모델 할당하기. \n",
    "best_model = load_model(MODEL_PATH)\n",
    "\n",
    "#(8) 모델 평가하기. \n",
    "best_model.evaluate(test_generator, steps=5)"
   ]
  },
  {
   "cell_type": "code",
   "execution_count": 1,
   "metadata": {},
   "outputs": [
    {
     "output_type": "error",
     "ename": "NameError",
     "evalue": "name 'model_fit' is not defined",
     "traceback": [
      "\u001b[1;31m---------------------------------------------------------------------------\u001b[0m",
      "\u001b[1;31mNameError\u001b[0m                                 Traceback (most recent call last)",
      "\u001b[1;32m<ipython-input-1-8411fc2ec79c>\u001b[0m in \u001b[0;36m<module>\u001b[1;34m\u001b[0m\n\u001b[0;32m      1\u001b[0m \u001b[1;31m#(9) 학습과정 시각화하기.\u001b[0m\u001b[1;33m\u001b[0m\u001b[1;33m\u001b[0m\u001b[1;33m\u001b[0m\u001b[0m\n\u001b[1;32m----> 2\u001b[1;33m \u001b[0my_vloss\u001b[0m \u001b[1;33m=\u001b[0m \u001b[0mmodel_fit\u001b[0m\u001b[1;33m.\u001b[0m\u001b[0mhistory\u001b[0m\u001b[1;33m[\u001b[0m\u001b[1;34m'val_loss'\u001b[0m\u001b[1;33m]\u001b[0m\u001b[1;33m\u001b[0m\u001b[1;33m\u001b[0m\u001b[0m\n\u001b[0m\u001b[0;32m      3\u001b[0m \u001b[0my_accuracy\u001b[0m \u001b[1;33m=\u001b[0m \u001b[0mmodel_fit\u001b[0m\u001b[1;33m.\u001b[0m\u001b[0mhistory\u001b[0m\u001b[1;33m[\u001b[0m\u001b[1;34m'accuracy'\u001b[0m\u001b[1;33m]\u001b[0m\u001b[1;33m\u001b[0m\u001b[1;33m\u001b[0m\u001b[0m\n\u001b[0;32m      4\u001b[0m \u001b[0mx_len\u001b[0m \u001b[1;33m=\u001b[0m \u001b[0mnp\u001b[0m\u001b[1;33m.\u001b[0m\u001b[0marange\u001b[0m\u001b[1;33m(\u001b[0m\u001b[0mlen\u001b[0m\u001b[1;33m(\u001b[0m\u001b[0my_vloss\u001b[0m\u001b[1;33m)\u001b[0m\u001b[1;33m)\u001b[0m\u001b[1;33m\u001b[0m\u001b[1;33m\u001b[0m\u001b[0m\n\u001b[0;32m      5\u001b[0m \u001b[0mplt\u001b[0m\u001b[1;33m.\u001b[0m\u001b[0mfigure\u001b[0m\u001b[1;33m(\u001b[0m\u001b[0mfigsize\u001b[0m\u001b[1;33m=\u001b[0m\u001b[1;33m(\u001b[0m\u001b[1;36m12\u001b[0m\u001b[1;33m,\u001b[0m\u001b[1;36m8\u001b[0m\u001b[1;33m)\u001b[0m\u001b[1;33m)\u001b[0m\u001b[1;33m\u001b[0m\u001b[1;33m\u001b[0m\u001b[0m\n",
      "\u001b[1;31mNameError\u001b[0m: name 'model_fit' is not defined"
     ]
    }
   ],
   "source": [
    "#(9) 학습과정 시각화하기. \n",
    "y_vloss = model_fit.history['val_loss']\n",
    "y_accuracy = model_fit.history['accuracy']\n",
    "x_len = np.arange(len(y_vloss))\n",
    "plt.figure(figsize=(12,8))\n",
    "plt.plot(x_len, y_accuracy, 'bo-', markersize=2, label='accuracy')\n",
    "plt.plot(x_len, y_vloss, 'ro-', markersize=2, label='val_loss')\n",
    "plt.legend()\n",
    "plt.show()"
   ]
  }
 ]
}