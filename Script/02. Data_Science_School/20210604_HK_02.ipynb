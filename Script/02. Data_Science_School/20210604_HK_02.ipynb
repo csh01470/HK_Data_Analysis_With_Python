{
 "metadata": {
  "language_info": {
   "codemirror_mode": {
    "name": "ipython",
    "version": 3
   },
   "file_extension": ".py",
   "mimetype": "text/x-python",
   "name": "python",
   "nbconvert_exporter": "python",
   "pygments_lexer": "ipython3",
   "version": "3.8.8"
  },
  "orig_nbformat": 2,
  "kernelspec": {
   "name": "python388jvsc74a57bd0389278cbb61c1c57cad107a3c1fdd79953aeebb4509d1d7f21aea6fe620a6af8",
   "display_name": "Python 3.8.8 64-bit ('base': conda)"
  }
 },
 "nbformat": 4,
 "nbformat_minor": 2,
 "cells": [
  {
   "cell_type": "code",
   "execution_count": 3,
   "metadata": {},
   "outputs": [],
   "source": [
    "#2021.06.04. FRI\n",
    "#Hankyeong\n",
    "\n",
    "#00. 패키지 호출하기.\n",
    "import requests\n",
    "from urllib.parse import urlparse, quote\n",
    "import pandas as pd \n",
    "\n",
    "#02. 카카오 로컬 API 활용하기. \n",
    "#(1) kakao_api_key.txt 파일 부르기. \n",
    "with open(\"D:/Python_Project/Hankyeong_DataAnalysis/API_key/kakao_api_key.txt\",mode=\"r\") as key_file :\n",
    "    kakao_api_key = key_file.read()"
   ]
  },
  {
   "cell_type": "code",
   "execution_count": 7,
   "metadata": {},
   "outputs": [
    {
     "output_type": "execute_result",
     "data": {
      "text/plain": [
       "'https://dapi.kakao.com/v2/local/search/address.json?query=%EC%84%9C%EC%9A%B8%ED%8A%B9%EB%B3%84%EC%8B%9C%20%EC%A4%91%EA%B5%AC%20%EC%84%B8%EC%A2%85%EB%8C%80%EB%A1%9C%20110%20%28%ED%83%9C%ED%8F%89%EB%A1%9C1%EA%B0%80%29'"
      ]
     },
     "metadata": {},
     "execution_count": 7
    }
   ],
   "source": [
    "#(2) url 설정하기. \n",
    "local_url = \"https://dapi.kakao.com/v2/local/search/address.json\"\n",
    "keyword = \"서울특별시 중구 세종대로 110 (태평로1가)\"\n",
    "url=f'{local_url}?query={quote(keyword)}'\n",
    "url "
   ]
  },
  {
   "cell_type": "code",
   "execution_count": 68,
   "metadata": {},
   "outputs": [
    {
     "output_type": "execute_result",
     "data": {
      "text/plain": [
       "{'documents': [{'address': {'address_name': '서울 중구 태평로1가 31',\n",
       "    'b_code': '1114010300',\n",
       "    'h_code': '1114055000',\n",
       "    'main_address_no': '31',\n",
       "    'mountain_yn': 'N',\n",
       "    'region_1depth_name': '서울',\n",
       "    'region_2depth_name': '중구',\n",
       "    'region_3depth_h_name': '명동',\n",
       "    'region_3depth_name': '태평로1가',\n",
       "    'sub_address_no': '',\n",
       "    'x': '126.977829174031',\n",
       "    'y': '37.5663174209601'},\n",
       "   'address_name': '서울 중구 세종대로 110',\n",
       "   'address_type': 'ROAD_ADDR',\n",
       "   'road_address': {'address_name': '서울 중구 세종대로 110',\n",
       "    'building_name': '서울특별시청',\n",
       "    'main_building_no': '110',\n",
       "    'region_1depth_name': '서울',\n",
       "    'region_2depth_name': '중구',\n",
       "    'region_3depth_name': '태평로1가',\n",
       "    'road_name': '세종대로',\n",
       "    'sub_building_no': '',\n",
       "    'underground_yn': 'N',\n",
       "    'x': '126.977829174031',\n",
       "    'y': '37.5663174209601',\n",
       "    'zone_no': '04524'},\n",
       "   'x': '126.977829174031',\n",
       "   'y': '37.5663174209601'}],\n",
       " 'meta': {'is_end': True, 'pageable_count': 1, 'total_count': 1}}"
      ]
     },
     "metadata": {},
     "execution_count": 68
    }
   ],
   "source": [
    "#(3) get() 메서드를 이용해, header로 API-key를 설정하고 요청하기. \n",
    "result = requests.get(url,headers={\"Authorization\":f\"KakaoAK {kakao_api_key}\"}).json()\n",
    "result"
   ]
  },
  {
   "cell_type": "code",
   "execution_count": 69,
   "metadata": {},
   "outputs": [
    {
     "output_type": "execute_result",
     "data": {
      "text/plain": [
       "('126.977829174031', '37.5663174209601')"
      ]
     },
     "metadata": {},
     "execution_count": 69
    }
   ],
   "source": [
    "result[\"documents\"][0][\"x\"] , result[\"documents\"][0][\"y\"]"
   ]
  },
  {
   "cell_type": "code",
   "execution_count": 4,
   "metadata": {},
   "outputs": [
    {
     "output_type": "execute_result",
     "data": {
      "text/plain": [
       "       빌딩명                        도로명주소          위도         경도\n",
       "0  한국경제신문사       서울특별시 중구 청파로 463 (중림동)  126.967110  37.559869\n",
       "1   서울특별시청    서울특별시 중구 세종대로 110 (태평로1가)  126.977829  37.566317\n",
       "2     종로구청      서울특별시 종로구 종로1길 36 (수송동)  126.978988  37.573505\n",
       "3      중구청       서울특별시 중구 창경궁로 17 (예관동)  126.998010  37.564120\n",
       "4     효창공원  서울특별시 용산구 효창원로 177-18 (효창동)  126.962291  37.544957"
      ],
      "text/html": "<div>\n<style scoped>\n    .dataframe tbody tr th:only-of-type {\n        vertical-align: middle;\n    }\n\n    .dataframe tbody tr th {\n        vertical-align: top;\n    }\n\n    .dataframe thead th {\n        text-align: right;\n    }\n</style>\n<table border=\"1\" class=\"dataframe\">\n  <thead>\n    <tr style=\"text-align: right;\">\n      <th></th>\n      <th>빌딩명</th>\n      <th>도로명주소</th>\n      <th>위도</th>\n      <th>경도</th>\n    </tr>\n  </thead>\n  <tbody>\n    <tr>\n      <th>0</th>\n      <td>한국경제신문사</td>\n      <td>서울특별시 중구 청파로 463 (중림동)</td>\n      <td>126.967110</td>\n      <td>37.559869</td>\n    </tr>\n    <tr>\n      <th>1</th>\n      <td>서울특별시청</td>\n      <td>서울특별시 중구 세종대로 110 (태평로1가)</td>\n      <td>126.977829</td>\n      <td>37.566317</td>\n    </tr>\n    <tr>\n      <th>2</th>\n      <td>종로구청</td>\n      <td>서울특별시 종로구 종로1길 36 (수송동)</td>\n      <td>126.978988</td>\n      <td>37.573505</td>\n    </tr>\n    <tr>\n      <th>3</th>\n      <td>중구청</td>\n      <td>서울특별시 중구 창경궁로 17 (예관동)</td>\n      <td>126.998010</td>\n      <td>37.564120</td>\n    </tr>\n    <tr>\n      <th>4</th>\n      <td>효창공원</td>\n      <td>서울특별시 용산구 효창원로 177-18 (효창동)</td>\n      <td>126.962291</td>\n      <td>37.544957</td>\n    </tr>\n  </tbody>\n</table>\n</div>"
     },
     "metadata": {},
     "execution_count": 4
    }
   ],
   "source": [
    "#PLUS, 01에서 추출했던 데이터프레임의 도로명 주소를 기반으로 위도, 경도값 추출하기. \n",
    "df = pd.read_csv(\"d:/python_project/hankyeong_dataanalysis/data/address.csv\")\n",
    "df"
   ]
  },
  {
   "cell_type": "code",
   "execution_count": 8,
   "metadata": {},
   "outputs": [
    {
     "output_type": "execute_result",
     "data": {
      "text/plain": [
       "       빌딩명                        도로명주소                위도                경도\n",
       "0  한국경제신문사       서울특별시 중구 청파로 463 (중림동)  126.967109652664  37.5598688323642\n",
       "1   서울특별시청    서울특별시 중구 세종대로 110 (태평로1가)  126.977829174031  37.5663174209601\n",
       "2     종로구청      서울특별시 종로구 종로1길 36 (수송동)  126.978988255925  37.5735051436739\n",
       "3      중구청       서울특별시 중구 창경궁로 17 (예관동)  126.998009728978  37.5641201543296\n",
       "4     효창공원  서울특별시 용산구 효창원로 177-18 (효창동)  126.962290943049   37.544957405495"
      ],
      "text/html": "<div>\n<style scoped>\n    .dataframe tbody tr th:only-of-type {\n        vertical-align: middle;\n    }\n\n    .dataframe tbody tr th {\n        vertical-align: top;\n    }\n\n    .dataframe thead th {\n        text-align: right;\n    }\n</style>\n<table border=\"1\" class=\"dataframe\">\n  <thead>\n    <tr style=\"text-align: right;\">\n      <th></th>\n      <th>빌딩명</th>\n      <th>도로명주소</th>\n      <th>위도</th>\n      <th>경도</th>\n    </tr>\n  </thead>\n  <tbody>\n    <tr>\n      <th>0</th>\n      <td>한국경제신문사</td>\n      <td>서울특별시 중구 청파로 463 (중림동)</td>\n      <td>126.967109652664</td>\n      <td>37.5598688323642</td>\n    </tr>\n    <tr>\n      <th>1</th>\n      <td>서울특별시청</td>\n      <td>서울특별시 중구 세종대로 110 (태평로1가)</td>\n      <td>126.977829174031</td>\n      <td>37.5663174209601</td>\n    </tr>\n    <tr>\n      <th>2</th>\n      <td>종로구청</td>\n      <td>서울특별시 종로구 종로1길 36 (수송동)</td>\n      <td>126.978988255925</td>\n      <td>37.5735051436739</td>\n    </tr>\n    <tr>\n      <th>3</th>\n      <td>중구청</td>\n      <td>서울특별시 중구 창경궁로 17 (예관동)</td>\n      <td>126.998009728978</td>\n      <td>37.5641201543296</td>\n    </tr>\n    <tr>\n      <th>4</th>\n      <td>효창공원</td>\n      <td>서울특별시 용산구 효창원로 177-18 (효창동)</td>\n      <td>126.962290943049</td>\n      <td>37.544957405495</td>\n    </tr>\n  </tbody>\n</table>\n</div>"
     },
     "metadata": {},
     "execution_count": 8
    }
   ],
   "source": [
    "x_list, y_list = [], []\n",
    "for i in df.index:\n",
    "    url = f\"{local_url}?query={quote(df['도로명주소'][i])}\"\n",
    "    result = requests.get(url, \n",
    "                headers={\"Authorization\": f\"KakaoAK {kakao_api_key}\"}).json()\n",
    "    x = result['documents'][0]['x']\n",
    "    y = result['documents'][0]['y']\n",
    "    x_list.append(x)\n",
    "    y_list.append(y)\n",
    "df['경도'] = y_list\n",
    "df['위도'] = x_list\n",
    "df"
   ]
  },
  {
   "cell_type": "code",
   "execution_count": 9,
   "metadata": {},
   "outputs": [],
   "source": [
    "df.to_csv(\"D:/Python_Project/Hankyeong_DataAnalysis/Data/address.csv\",index= False)"
   ]
  }
 ]
}