{
 "cells": [
  {
   "cell_type": "code",
   "execution_count": 2,
   "metadata": {},
   "outputs": [],
   "source": [
    "#2021.06.04. FRI\n",
    "#Hankyeong\n",
    "\n",
    "##Project 1: Open API를 활용해 지도 시각화하기.\n",
    "#00. 패키지 호출하기.\n",
    "import requests\n",
    "from urllib.parse import urlparse, quote\n",
    "import pandas as pd \n",
    "\n",
    "#01. Open API를 호출해 데이터셋 저장하기.  \n",
    "#(1) road_api_key.txt 파일 부르기. \n",
    "with open(\"A:/Python_Project/Hankyeong_DataAnalysis/key/road_api_key.txt\",mode=\"r\") as key_file :\n",
    "    road_api_key = key_file.read()\n",
    "    "
   ]
  },
  {
   "cell_type": "code",
   "execution_count": 4,
   "metadata": {},
   "outputs": [
    {
     "data": {
      "text/plain": [
       "'https://www.juso.go.kr/addrlink/addrLinkApi.do?confmKey=devU01TX0FVVEgyMDIxMDYwMzE2MDExMjExMTIzOTY=&currentPage=1&countPerPage=100&keyword=%EB%B6%81%EC%82%BC%EA%B3%A0%EB%93%B1%ED%95%99%EA%B5%90&resultType=json'"
      ]
     },
     "execution_count": 4,
     "metadata": {},
     "output_type": "execute_result"
    }
   ],
   "source": [
    "#(2) url 설정하기. \n",
    "local_url = \"https://www.juso.go.kr/addrlink/addrLinkApi.do\"\n",
    "keyword = quote(\"북삼고등학교\")\n",
    "url = f'{local_url}?confmKey={road_api_key}&currentPage=1&countPerPage=100&keyword={keyword}&resultType=json'\n",
    "url"
   ]
  },
  {
   "cell_type": "code",
   "execution_count": 5,
   "metadata": {},
   "outputs": [
    {
     "data": {
      "text/plain": [
       "{'results': {'common': {'errorMessage': '정상',\n",
       "   'countPerPage': '100',\n",
       "   'totalCount': '1',\n",
       "   'errorCode': '0',\n",
       "   'currentPage': '1'},\n",
       "  'juso': [{'detBdNmList': '',\n",
       "    'engAddr': '130, Buksam-ro 2-gil, Buksam-eup, Chilgok-gun, Gyeongsangbuk-do',\n",
       "    'rn': '북삼로2길',\n",
       "    'emdNm': '북삼읍',\n",
       "    'zipNo': '39801',\n",
       "    'roadAddrPart2': '',\n",
       "    'emdNo': '01',\n",
       "    'sggNm': '칠곡군',\n",
       "    'jibunAddr': '경상북도 칠곡군 북삼읍 인평리 694-1 북삼고등학교',\n",
       "    'siNm': '경상북도',\n",
       "    'roadAddrPart1': '경상북도 칠곡군 북삼읍 북삼로2길 130',\n",
       "    'bdNm': '북삼고등학교',\n",
       "    'admCd': '4785025325',\n",
       "    'udrtYn': '0',\n",
       "    'lnbrMnnm': '694',\n",
       "    'roadAddr': '경상북도 칠곡군 북삼읍 북삼로2길 130',\n",
       "    'lnbrSlno': '1',\n",
       "    'buldMnnm': '130',\n",
       "    'bdKdcd': '0',\n",
       "    'liNm': '인평리',\n",
       "    'rnMgtSn': '478504766290',\n",
       "    'mtYn': '0',\n",
       "    'bdMgtSn': '4785025325106940001036758',\n",
       "    'buldSlno': '0'}]}}"
      ]
     },
     "execution_count": 5,
     "metadata": {},
     "output_type": "execute_result"
    }
   ],
   "source": [
    "#(3) get() 메서드를 이용해 호출하기. \n",
    "result = requests.get(url).json()\n",
    "result"
   ]
  },
  {
   "cell_type": "code",
   "execution_count": 6,
   "metadata": {},
   "outputs": [
    {
     "data": {
      "text/plain": [
       "('북삼고등학교', '경상북도 칠곡군 북삼읍 북삼로2길 130')"
      ]
     },
     "execution_count": 6,
     "metadata": {},
     "output_type": "execute_result"
    }
   ],
   "source": [
    "building_name = result[\"results\"][\"juso\"][0][\"bdNm\"]\n",
    "road_adress = result[\"results\"][\"juso\"][0][\"roadAddr\"]\n",
    "building_name, road_adress"
   ]
  },
  {
   "cell_type": "code",
   "execution_count": 12,
   "metadata": {},
   "outputs": [
    {
     "data": {
      "text/plain": [
       "(['한국경제신문사', '서울특별시청', '종로구청', '중구청', '효창공원'],\n",
       " ['서울특별시 중구 청파로 463 (중림동)',\n",
       "  '서울특별시 중구 세종대로 110 (태평로1가)',\n",
       "  '서울특별시 종로구 종로1길 36 (수송동)',\n",
       "  '서울특별시 중구 창경궁로 17 (예관동)',\n",
       "  '서울특별시 용산구 효창원로 177-18 (효창동)'])"
      ]
     },
     "execution_count": 12,
     "metadata": {},
     "output_type": "execute_result"
    }
   ],
   "source": [
    "#PLUS. 여러 개 도로명주소 호출하기.\n",
    "keyword_list = [\"한국경제신문사\",\"서울특별시청\",\"종로구청\",\"중구청\",\"효창공원\"]\n",
    "building_name_list = []\n",
    "road_adress_list = []\n",
    "for character in keyword_list :\n",
    "    keyword = quote(character)\n",
    "    url = f'{local_url}?confmKey={road_api_key}&currentPage=1&countPerPage=100&keyword={keyword}&resultType=json'\n",
    "    result = requests.get(url).json()\n",
    "    building_name_list.append(result[\"results\"][\"juso\"][0][\"bdNm\"])\n",
    "    road_adress_list.append(result[\"results\"][\"juso\"][0][\"roadAddr\"])\n",
    "building_name_list, road_adress_list"
   ]
  },
  {
   "cell_type": "code",
   "execution_count": 13,
   "metadata": {},
   "outputs": [
    {
     "data": {
      "text/html": [
       "<div>\n",
       "<style scoped>\n",
       "    .dataframe tbody tr th:only-of-type {\n",
       "        vertical-align: middle;\n",
       "    }\n",
       "\n",
       "    .dataframe tbody tr th {\n",
       "        vertical-align: top;\n",
       "    }\n",
       "\n",
       "    .dataframe thead th {\n",
       "        text-align: right;\n",
       "    }\n",
       "</style>\n",
       "<table border=\"1\" class=\"dataframe\">\n",
       "  <thead>\n",
       "    <tr style=\"text-align: right;\">\n",
       "      <th></th>\n",
       "      <th>빌딩명</th>\n",
       "      <th>도로명주소</th>\n",
       "    </tr>\n",
       "  </thead>\n",
       "  <tbody>\n",
       "    <tr>\n",
       "      <th>0</th>\n",
       "      <td>한국경제신문사</td>\n",
       "      <td>서울특별시 중구 청파로 463 (중림동)</td>\n",
       "    </tr>\n",
       "    <tr>\n",
       "      <th>1</th>\n",
       "      <td>서울특별시청</td>\n",
       "      <td>서울특별시 중구 세종대로 110 (태평로1가)</td>\n",
       "    </tr>\n",
       "    <tr>\n",
       "      <th>2</th>\n",
       "      <td>종로구청</td>\n",
       "      <td>서울특별시 종로구 종로1길 36 (수송동)</td>\n",
       "    </tr>\n",
       "    <tr>\n",
       "      <th>3</th>\n",
       "      <td>중구청</td>\n",
       "      <td>서울특별시 중구 창경궁로 17 (예관동)</td>\n",
       "    </tr>\n",
       "    <tr>\n",
       "      <th>4</th>\n",
       "      <td>효창공원</td>\n",
       "      <td>서울특별시 용산구 효창원로 177-18 (효창동)</td>\n",
       "    </tr>\n",
       "  </tbody>\n",
       "</table>\n",
       "</div>"
      ],
      "text/plain": [
       "       빌딩명                        도로명주소\n",
       "0  한국경제신문사       서울특별시 중구 청파로 463 (중림동)\n",
       "1   서울특별시청    서울특별시 중구 세종대로 110 (태평로1가)\n",
       "2     종로구청      서울특별시 종로구 종로1길 36 (수송동)\n",
       "3      중구청       서울특별시 중구 창경궁로 17 (예관동)\n",
       "4     효창공원  서울특별시 용산구 효창원로 177-18 (효창동)"
      ]
     },
     "execution_count": 13,
     "metadata": {},
     "output_type": "execute_result"
    }
   ],
   "source": [
    "df=pd.DataFrame({\"빌딩명\": building_name_list,\n",
    "                 \"도로명주소\" : road_adress_list})\n",
    "df"
   ]
  },
  {
   "cell_type": "code",
   "execution_count": 14,
   "metadata": {},
   "outputs": [],
   "source": [
    "df.to_csv(\"D:/Python_Project/Hankyeong_DataAnalysis/Data/address.csv\",index= False)"
   ]
  }
 ],
 "metadata": {
  "interpreter": {
   "hash": "24b233e2a050814fb7f0f0f06806b1af629f675be5bc99fcb25f66852bbd30da"
  },
  "kernelspec": {
   "display_name": "Python 3.8.10 64-bit ('base': conda)",
   "name": "python3"
  },
  "language_info": {
   "codemirror_mode": {
    "name": "ipython",
    "version": 3
   },
   "file_extension": ".py",
   "mimetype": "text/x-python",
   "name": "python",
   "nbconvert_exporter": "python",
   "pygments_lexer": "ipython3",
   "version": "3.8.10"
  },
  "orig_nbformat": 2
 },
 "nbformat": 4,
 "nbformat_minor": 2
}
