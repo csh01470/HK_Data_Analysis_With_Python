{
 "metadata": {
  "language_info": {
   "codemirror_mode": {
    "name": "ipython",
    "version": 3
   },
   "file_extension": ".py",
   "mimetype": "text/x-python",
   "name": "python",
   "nbconvert_exporter": "python",
   "pygments_lexer": "ipython3",
   "version": "3.8.8"
  },
  "orig_nbformat": 2,
  "kernelspec": {
   "name": "python388jvsc74a57bd0389278cbb61c1c57cad107a3c1fdd79953aeebb4509d1d7f21aea6fe620a6af8",
   "display_name": "Python 3.8.8 64-bit ('csh': virtualenv)"
  }
 },
 "nbformat": 4,
 "nbformat_minor": 2,
 "cells": [
  {
   "cell_type": "code",
   "execution_count": 2,
   "metadata": {},
   "outputs": [
    {
     "output_type": "execute_result",
     "data": {
      "text/plain": [
       "  C1    C2    C3    C4\n",
       "0  A  0.61  0.13   0.1\n",
       "1  B  0.73  0.18  0.06\n",
       "2  C  0.14  0.75  0.96\n",
       "3  D  0.31  0.66  0.62\n",
       "4  E   1.0  0.78  0.09"
      ],
      "text/html": "<div>\n<style scoped>\n    .dataframe tbody tr th:only-of-type {\n        vertical-align: middle;\n    }\n\n    .dataframe tbody tr th {\n        vertical-align: top;\n    }\n\n    .dataframe thead th {\n        text-align: right;\n    }\n</style>\n<table border=\"1\" class=\"dataframe\">\n  <thead>\n    <tr style=\"text-align: right;\">\n      <th></th>\n      <th>C1</th>\n      <th>C2</th>\n      <th>C3</th>\n      <th>C4</th>\n    </tr>\n  </thead>\n  <tbody>\n    <tr>\n      <th>0</th>\n      <td>A</td>\n      <td>0.61</td>\n      <td>0.13</td>\n      <td>0.1</td>\n    </tr>\n    <tr>\n      <th>1</th>\n      <td>B</td>\n      <td>0.73</td>\n      <td>0.18</td>\n      <td>0.06</td>\n    </tr>\n    <tr>\n      <th>2</th>\n      <td>C</td>\n      <td>0.14</td>\n      <td>0.75</td>\n      <td>0.96</td>\n    </tr>\n    <tr>\n      <th>3</th>\n      <td>D</td>\n      <td>0.31</td>\n      <td>0.66</td>\n      <td>0.62</td>\n    </tr>\n    <tr>\n      <th>4</th>\n      <td>E</td>\n      <td>1.0</td>\n      <td>0.78</td>\n      <td>0.09</td>\n    </tr>\n  </tbody>\n</table>\n</div>"
     },
     "metadata": {},
     "execution_count": 2
    }
   ],
   "source": [
    "#2021.06.01. TUE\n",
    "#Hankyeong\n",
    "\n",
    "##CH04-5. 데이터프레임 인덱스 조작\n",
    "#00. 패키지 호출\n",
    "import numpy as np\n",
    "import pandas as pd \n",
    "\n",
    "#01. set_index() 메서드를 통해 특정 열의 이름을 인덱스로 지정하기. \n",
    "np.random.seed(2021)\n",
    "df1 = pd.DataFrame(np.vstack([list('ABCDE'),\n",
    "                              np.round(np.random.rand(3, 5), 2)]).T,\n",
    "                   columns=[\"C1\", \"C2\", \"C3\", \"C4\"])\n",
    "df1"
   ]
  },
  {
   "cell_type": "code",
   "execution_count": 4,
   "metadata": {},
   "outputs": [
    {
     "output_type": "execute_result",
     "data": {
      "text/plain": [
       "      C2    C3    C4\n",
       "C1                  \n",
       "A   0.61  0.13   0.1\n",
       "B   0.73  0.18  0.06\n",
       "C   0.14  0.75  0.96\n",
       "D   0.31  0.66  0.62\n",
       "E    1.0  0.78  0.09"
      ],
      "text/html": "<div>\n<style scoped>\n    .dataframe tbody tr th:only-of-type {\n        vertical-align: middle;\n    }\n\n    .dataframe tbody tr th {\n        vertical-align: top;\n    }\n\n    .dataframe thead th {\n        text-align: right;\n    }\n</style>\n<table border=\"1\" class=\"dataframe\">\n  <thead>\n    <tr style=\"text-align: right;\">\n      <th></th>\n      <th>C2</th>\n      <th>C3</th>\n      <th>C4</th>\n    </tr>\n    <tr>\n      <th>C1</th>\n      <th></th>\n      <th></th>\n      <th></th>\n    </tr>\n  </thead>\n  <tbody>\n    <tr>\n      <th>A</th>\n      <td>0.61</td>\n      <td>0.13</td>\n      <td>0.1</td>\n    </tr>\n    <tr>\n      <th>B</th>\n      <td>0.73</td>\n      <td>0.18</td>\n      <td>0.06</td>\n    </tr>\n    <tr>\n      <th>C</th>\n      <td>0.14</td>\n      <td>0.75</td>\n      <td>0.96</td>\n    </tr>\n    <tr>\n      <th>D</th>\n      <td>0.31</td>\n      <td>0.66</td>\n      <td>0.62</td>\n    </tr>\n    <tr>\n      <th>E</th>\n      <td>1.0</td>\n      <td>0.78</td>\n      <td>0.09</td>\n    </tr>\n  </tbody>\n</table>\n</div>"
     },
     "metadata": {},
     "execution_count": 4
    }
   ],
   "source": [
    "df2 = df1.set_index(\"C1\")\n",
    "df2"
   ]
  },
  {
   "cell_type": "code",
   "execution_count": null,
   "metadata": {},
   "outputs": [],
   "source": [
    "#02. reset_index() 메서드를 이용해 인덱스를 보통의 자료열로 변환하기. "
   ]
  },
  {
   "cell_type": "code",
   "execution_count": 24,
   "metadata": {},
   "outputs": [
    {
     "output_type": "execute_result",
     "data": {
      "text/plain": [
       "  C1    C2    C3    C4\n",
       "0  A  0.61  0.13   0.1\n",
       "1  B  0.73  0.18  0.06\n",
       "2  C  0.14  0.75  0.96\n",
       "3  D  0.31  0.66  0.62\n",
       "4  E   1.0  0.78  0.09"
      ],
      "text/html": "<div>\n<style scoped>\n    .dataframe tbody tr th:only-of-type {\n        vertical-align: middle;\n    }\n\n    .dataframe tbody tr th {\n        vertical-align: top;\n    }\n\n    .dataframe thead th {\n        text-align: right;\n    }\n</style>\n<table border=\"1\" class=\"dataframe\">\n  <thead>\n    <tr style=\"text-align: right;\">\n      <th></th>\n      <th>C1</th>\n      <th>C2</th>\n      <th>C3</th>\n      <th>C4</th>\n    </tr>\n  </thead>\n  <tbody>\n    <tr>\n      <th>0</th>\n      <td>A</td>\n      <td>0.61</td>\n      <td>0.13</td>\n      <td>0.1</td>\n    </tr>\n    <tr>\n      <th>1</th>\n      <td>B</td>\n      <td>0.73</td>\n      <td>0.18</td>\n      <td>0.06</td>\n    </tr>\n    <tr>\n      <th>2</th>\n      <td>C</td>\n      <td>0.14</td>\n      <td>0.75</td>\n      <td>0.96</td>\n    </tr>\n    <tr>\n      <th>3</th>\n      <td>D</td>\n      <td>0.31</td>\n      <td>0.66</td>\n      <td>0.62</td>\n    </tr>\n    <tr>\n      <th>4</th>\n      <td>E</td>\n      <td>1.0</td>\n      <td>0.78</td>\n      <td>0.09</td>\n    </tr>\n  </tbody>\n</table>\n</div>"
     },
     "metadata": {},
     "execution_count": 24
    }
   ],
   "source": [
    "df2.reset_index()"
   ]
  }
 ]
}