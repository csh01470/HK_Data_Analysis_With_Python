{
 "metadata": {
  "language_info": {
   "codemirror_mode": {
    "name": "ipython",
    "version": 3
   },
   "file_extension": ".py",
   "mimetype": "text/x-python",
   "name": "python",
   "nbconvert_exporter": "python",
   "pygments_lexer": "ipython3",
   "version": "3.8.8"
  },
  "orig_nbformat": 2,
  "kernelspec": {
   "name": "python388jvsc74a57bd0389278cbb61c1c57cad107a3c1fdd79953aeebb4509d1d7f21aea6fe620a6af8",
   "display_name": "Python 3.8.8 64-bit ('base': conda)"
  }
 },
 "nbformat": 4,
 "nbformat_minor": 2,
 "cells": [
  {
   "cell_type": "code",
   "execution_count": 2,
   "metadata": {},
   "outputs": [],
   "source": [
    "#2021.06.07. MON\n",
    "#Hankyeong\n",
    "\n",
    "##Project 3: Selenium을 이용해 Google 검색 결과 크롤링하기.\n",
    "#00. 패키지 호출\n",
    "import time\n",
    "from selenium import webdriver\n",
    "from selenium.webdriver.common.keys import Keys\n",
    "\n",
    "#01. 드라이버 구동 및 서치 박스 지정하기.\n",
    "driver = webdriver.Chrome('../../Module/Chromedriver')\n",
    "driver.get(\"https://www.google.com/\")\n",
    "time.sleep(1)\n",
    "search_box = driver.find_element_by_css_selector(\".gLFyf.gsfi\")"
   ]
  },
  {
   "cell_type": "code",
   "execution_count": null,
   "metadata": {},
   "outputs": [],
   "source": [
    "#TIP. element를 찾는 방식\n",
    "#CSS Selector 방식 : lst50 > td:nth-child(6) > div > div > div.ellipsis.rank01 > span > a \n",
    "#X path 방식 : #//*[@id=\"lst50\"]/td[6]/div/div/div[1]/span/a"
   ]
  },
  {
   "cell_type": "code",
   "execution_count": 3,
   "metadata": {},
   "outputs": [],
   "source": [
    "#02. 검색어 설정하기. \n",
    "search_box.send_keys(\"ChromeDriver\")\n",
    "search_box.send_keys(Keys.ENTER)\n",
    "time.sleep(1)"
   ]
  },
  {
   "cell_type": "code",
   "execution_count": 5,
   "metadata": {},
   "outputs": [
    {
     "output_type": "execute_result",
     "data": {
      "text/plain": [
       "8"
      ]
     },
     "metadata": {},
     "execution_count": 5
    }
   ],
   "source": [
    "#03. 개별 컨텐츠 확인하기.\n",
    "#(1) 1page 중 전체 컨텐츠 갯수 확인하기. \n",
    "divs = driver.find_elements_by_css_selector(\"div#rso>div.g\")\n",
    "len(divs)"
   ]
  },
  {
   "cell_type": "code",
   "execution_count": null,
   "metadata": {},
   "outputs": [],
   "source": [
    "#TIP. tag>tag는 자식 태그의 호출을 의미함."
   ]
  },
  {
   "cell_type": "code",
   "execution_count": 6,
   "metadata": {},
   "outputs": [
    {
     "output_type": "execute_result",
     "data": {
      "text/plain": [
       "'WebDriver for Chrome - Downloads - ChromeDriver'"
      ]
     },
     "metadata": {},
     "execution_count": 6
    }
   ],
   "source": [
    "#(2) 1번째 컨텐츠의 제목 확인하기. \n",
    "div=divs[0]\n",
    "title = div.find_element_by_css_selector('.LC20lb.DKV0Md').text\n",
    "title"
   ]
  },
  {
   "cell_type": "code",
   "execution_count": 8,
   "metadata": {},
   "outputs": [
    {
     "output_type": "execute_result",
     "data": {
      "text/plain": [
       "\"For more details, please see the release notes. ChromeDriver 90.0.4430.24. Supports Chrome version 90. Resolved issue 3708: GetElementLocation's inView ...\""
      ]
     },
     "metadata": {},
     "execution_count": 8
    }
   ],
   "source": [
    "#(2) 1번째 컨텐츠의 내용 확인하기. \n",
    "contents = div.find_element_by_css_selector('.VwiC3b.yXK7lf.MUxGbd.yDYNvb.lyLwlc').text\n",
    "contents"
   ]
  },
  {
   "cell_type": "code",
   "execution_count": null,
   "metadata": {},
   "outputs": [],
   "source": [
    "#PLUS, 구글의 경우 태그 클래스를 일정 주기로 난수처리함. "
   ]
  },
  {
   "cell_type": "code",
   "execution_count": 12,
   "metadata": {},
   "outputs": [
    {
     "output_type": "stream",
     "name": "stdout",
     "text": [
      "WebDriver for Chrome - Downloads - ChromeDriver\nFor more details, please see the release notes. ChromeDriver 90.0.4430.24. Supports Chrome version 90. Resolved issue 3708: GetElementLocation's inView ...\n========================================================================================================================================================\nChromeDriver - WebDriver for Chrome\nChromeDriver · WebDriver is an open source tool for automated testing of webapps across many browsers. It provides capabilities for navigating to web pages, ...\n========================================================================================================================================================\n크롬드라이버(Chrome Driver) 설치/다운로드 : 네이버 블로그\n2019. 12. 28. — Downloads - ChromeDriver - WebDriver for Chrome. WebDriver for Chrome. chromedriver.chromium.org. . 2. 본인 크롬 버전에 맞는 드라이버 ...\n========================================================================================================================================================\n[ChromeDriver] 크롬 드라이버 버전에 따라 설정하는 방법\n2020. 6. 9. — Chrome 정보 클릭. 83. 어쩌고 버전입니다. 크롬드라이버 다운로드 사이트로 갑니다. https://chromedriver.chromium.org/downloads 여기서 버전에 ...\n========================================================================================================================================================\n나만의 웹 크롤러 만들기(7): 창없는 크롬으로 크롤링하기 ...\n2017. 9. 27. — # chromdriver(windows는 chromedriver.exe)의 절대경로로 바꿔주세요! driver = webdriver.Chrome('chromedriver') driver.get('http:// ...\n========================================================================================================================================================\nERORR!\nchrome/test/chromedriver - chromium/src - Git at Google\nChromeDriver is a standalone server which communicates with the WebDriver client via the WebDriver wire protocol, which is essentially synchronous JSON ...\n========================================================================================================================================================\nSelenium을 사용하고 싶습니다 - goorm - Guide of goorm\nChromeDriver 다운로드. 아래 명령을 사용하여 크롬 드라이버를 다운로드 받을 수 있습니다. 명령을 그대로 실행하면 안되고, 중간에 [크롬 드라이버 버전] 위치에 ...\n========================================================================================================================================================\n"
     ]
    }
   ],
   "source": [
    "#04. 1페이지의 전체 컨텐츠 출력하기. \n",
    "for div in divs :\n",
    "    try         :\n",
    "        title = div.find_element_by_css_selector('.LC20lb.DKV0Md').text\n",
    "        contents = div.find_element_by_css_selector('.VwiC3b.yXK7lf.MUxGbd.yDYNvb.lyLwlc').text\n",
    "        print(title)\n",
    "        print(contents)\n",
    "        print(\"========================================================================================================================================================\")\n",
    "    except      :\n",
    "        print(\"ERORR!\")"
   ]
  }
 ]
}