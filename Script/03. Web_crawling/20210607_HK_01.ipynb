{
 "metadata": {
  "language_info": {
   "codemirror_mode": {
    "name": "ipython",
    "version": 3
   },
   "file_extension": ".py",
   "mimetype": "text/x-python",
   "name": "python",
   "nbconvert_exporter": "python",
   "pygments_lexer": "ipython3",
   "version": "3.8.8"
  },
  "orig_nbformat": 2,
  "kernelspec": {
   "name": "python388jvsc74a57bd0389278cbb61c1c57cad107a3c1fdd79953aeebb4509d1d7f21aea6fe620a6af8",
   "display_name": "Python 3.8.8 64-bit ('base': conda)"
  }
 },
 "nbformat": 4,
 "nbformat_minor": 2,
 "cells": [
  {
   "cell_type": "code",
   "execution_count": 1,
   "metadata": {},
   "outputs": [
    {
     "output_type": "execute_result",
     "data": {
      "text/plain": [
       "e=\"margin:0; padding:0; border:none; background:none; float:none; clear:none; z-index:0\"></div>\\n\\t<div id=\"container\">\\n\\t\\n\\t\\t<div id=\"header\">\\n\\t\\t\\t<class=\"logo\"><div id=\"logo\"></div></a>\\n\\t\\t\\t<h1><a href=\"/\">Data Analytics With R</a> </h1>\\n\\t\\t\\t<div class=\"blogMenu\">\\n\\t\\t\\t\\t<ul>\\n\\t\\t\\t\\t\\t<li class=\"tab_search\"><a><i class=\"fa fa-search\" aria-hidden=\"true\"></i></a></li>\\t\\n\\t\\t\\t\\t\\t<li class=\"tab_taglog\"><a href=\"/tag\"><i class=\"fa fa-tag\" aria-hidden=\"true\"></i></a></li>\\n\\t\\t\\t\\t\\t<li class=\"tab_guestbook\" ><a href=\"/guestbook\"><i class=\"fa fa-book\" aria-hidden=\"true\"></i></a></li>\\n\\t\\t\\t\\t\\t<li class=\"tab_instagram\"><a href=\"https://www.instagram.com/__.analytics\" target=\"_blank\"><i class=\"fa fa-instagram\" aria-hidden=\"true\"></i></a></li>\\t\\n\\t        <li class=\"tab_write\"><a href=\"https://data-analytics-with-r.tistory.com/manage/entry/post\"><i class=\"fa fa-pencil\" aria-hidden=\"true\"></i></a></li>\\n\\t\\t\\t\\t\\t<li class=\"tab_login\"><a href=\"#\"><i class=\"fa fa-lock\" aria-hidden=\"true\"></i></a></li>\\n\\t\\t\\t\\t\\t<li class=\"tab_admin\"><a href=\"https://data-analytics-with-r.tistory.com/manage\"><i class=\"fa fa-cog\" aria-hidden=\"true\"></i></a></li>\\n\\t\\t\\t\\t</ul>\\n\\t\\t\\t</div>\\n\\t\\t\\t\\n\\t\\t\\t<!-- 검색 --> \\n\\t\\t\\t<div class=\"search\"> \\n\\t\\t\\t\\n\\t\\t\\t\\t<div class=\"search_wrap\">\\n\\t\\t\\t\\t\\t<input type=\"text\" name=\"search\" value=\"\" onkeypress=\"if (event.keyCode == 13) { try{window.location.href=\\'/search/\\'+looseURIEncode(document.getElementsByName(\\'search\\')[0].value);document.getElementsByName(\\'search\\')[0].value=\\'\\';return false;}catch(e){} }\" class=\"search_input\" />\\n\\t\\t\\t\\t\\t<input value=\"&#xf002\" type=\"button\" onclick=\"try{window.location.href=\\'/search/\\'+looseURIEncode(document.getElementsByName(\\'search\\')[0].value);document.getElementsByName(\\'search\\')[0].value=\\'\\';return false;}catch(e){}\" class=\"submit\"/>\\n\\t\\t\\t\\t</div>\\n\\t\\t\\t\\n\\t\\t\\t</div>\\n\\t\\t\\t\\n\\t\\t\\t<!-- 카테고리 -->\\n\\t\\t\\t<div class=\"category\">\\n\\t\\t\\t\\t<div class=\"mobile_btn\">MENU</div>\\n\\t\\t\\t\\t<ul class=\"tt_category\">\\n\\t<li class=\"\">\\n\\t\\t<a class=\"link_tit\" href=\"/category\">\\n\\t\\t\\tALL about R\\t\\t\\t\\n\\t\\t\\t\\t\\t</a>\\n\\n\\t\\t\\t\\t<ul class=\"category_list\">\\n\\t\\t\\t\\t\\t\\t\\t<li class=\"\">\\n\\t\\t\\t\\t\\t<a class=\"link_item\" href=\"/category/%E2%85%A0.%20R%20%EA%B8%B0%EC%B4%88\">\\n\\t\\t\\t\\t\\t\\tⅠ. R 기초\\t\\t\\t\\t\\t\\t\\n\\t\\t\\t\\t\\t\\t\\t\\t\\t\\t\\t</a>\\n\\n\\t\\t\\t\\t\\t\\n\\t\\t\\t\\t</li>\\n\\t\\t\\t\\t\\t\\t\\t<li class=\"\">\\n\\t\\t\\t\\t\\t<a class=\"link_item\" href=\"/category/%E2%85%A1.%20%EB%8D%B0%EC%9D%B4%ED%84%B0%20%EC%A0%84%EC%B2%98%EB%A6%AC\">\\n\\t\\t\\t\\t\\t\\tⅡ. 데이터 전처리\\t\\t\\t\\t\\t\\t\\n\\t\\t\\t\\t\\t\\t\\t\\t\\t\\t\\t</a>\\n\\n\\t\\t\\t\\t\\t\\n\\t\\t\\t\\t</li>\\n\\t\\t\\t\\t\\t\\t\\t<li class=\"\">\\n\\t\\t\\t\\t\\t<a class=\"link_item\" href=\"/category/%E2%85%A2.%20%EB%8D%B0%EC%9D%B4%ED%84%B0%20%EC%8B%9C%EA%B0%81%ED%99%94\">\\n\\t\\t\\t\\t\\t\\tⅢ. 데이터 시각화\\t\\t\\t\\t\\t\\t\\n\\t\\t\\t\\t\\t\\t\\t\\t\\t\\t\\t</a>\\n\\n\\t\\t\\t\\t\\t\\n\\t\\t\\t\\t</li>\\n\\t\\t\\t\\t\\t\\t\\t<li class=\"\">\\n\\t\\t\\t\\t\\t<a class=\"link_item\" href=\"/category/%E2%85%A3.%20%ED%86%B5%EA%B3%84%20%EB%B6%84%EC%84%9D\">\\n\\t\\t\\t\\t\\t\\tⅣ. 통계 분석\\t\\t\\t\\t\\t\\t\\n\\t\\t\\t\\t\\t\\t\\t\\t\\t\\t\\t</a>\\n\\n\\t\\t\\t\\t\\t\\n\\t\\t\\t\\t</li>\\n\\t\\t\\t\\t\\t\\t\\t<li class=\"\">\\n\\t\\t\\t\\t\\t<a class=\"link_item\" href=\"/category/%E2%85%A4.%20%EB%A8%B8%EC%8B%A0%20%EB%9F%AC%EB%8B%9D\">\\n\\t\\t\\t\\t\\t\\tⅤ. 머신 러닝\\t\\t\\t\\t\\t\\t\\n\\t\\t\\t\\t\\t\\t\\t\\t\\t\\t\\t</a>\\n\\n\\t\\t\\t\\t\\t\\n\\t\\t\\t\\t</li>\\n\\t\\t\\t\\t\\t\\t\\t<li class=\"\">\\n\\t\\t\\t\\t\\t<a class=\"link_item\" href=\"/category/%E2%85%A5.%20%EB%94%A5%20%EB%9F%AC%EB%8B%9D\">\\n\\t\\t\\t\\t\\t\\tⅥ. 딥 러닝\\t\\t\\t\\t\\t\\t\\n\\t\\t\\t\\t\\t\\t\\t\\t\\t\\t\\t</a>\\n\\n\\t\\t\\t\\t\\t\\n\\t\\t\\t\\t</li>\\n\\t\\t\\t\\t\\t</ul>\\n\\t\\t\\t</li>\\n</ul>\\n</div>\\n\\t\\t\\t\\n\\t\\t\\t\\n\\t\\t </div><!-- header close -->\\n\\t\\t\\n\\t\\t<div id=\"content\">\\n\\t\\t\\t\\n\\t\\t\\t\\n\\t\\t\\t<!--2-1. 검색 결과 리스트-->\\n\\t\\t\\t<div class=\"searchList\">\\n\\t\\t\\t\\t<!--<h3>\\'ALL about R\\'에 해당되는 글 25건</h3>-->\\n\\t\\t\\t\\t<ol class=\"grid\">\\n\\t\\t\\t\\t\\t\\n\\t\\t\\t\\t\\t<li class=\"grid-item isimg\">\\n\\t\\t\\t\\t\\t\\t<a href=\"/25?category=426752\">\\n\\t\\t\\t\\t\\t\\t\\t<img src=\"https://tistory4.daumcdn.net/tistory/4210690/skin/images/loading.gif\" class=\"thumb\"/>\\n\\t\\t\\t\\t\\t\\t\\t<div class=\"list-con\">\\n\\t\\t\\t\\t\\t\\t\\t\\t<div class=\"list-title\">\\n\\t\\t\\t\\t\\t\\t\\t\\t\\t25. tidyverse와 빅데이터에 대한 논의 (작성중)\\n\\t\\t\\t\\t\\t\\t\\t\\t\\t<span class=\"list-cnt\">\\n\\t\\t\\t\\t\\t\\t\\t\\t\\t\\t<script>document.write(\\'\\'.replace(\\'(\\',\\'\\').replace(\\')\\',\\'\\'));</script>\\n\\t\\t\\t\\t\\t\\t\\t\\t\\t</span>\\n\\t\\t\\t\\t\\t\\t\\t\\t</div>\\n\\t\\t\\t\\t\\t\\t\\t\\t<div class=\"list-date\">2021.05.23</div>\\n\\t\\t\\t\\t\\t\\t\\t</div>\\n\\t\\t\\t\\t\\t\\t\\t<div class=\"list-hover\"></div>\\n\\t\\t\\t\\t\\t\\t</a>\\n\\t\\t\\t\\t\\t</li>\\n\\t\\t\\t\\t\\t\\n\\t\\t\\t\\t\\t<li class=\"grid-item isimg\">\\n\\t\\t\\t\\t\\t\\t<a href=\"/24?category=426752\">\\n\\t\\t\\t\\t\\t\\t\\t<img src=\"https://tistory4.daumcdn.net/tistory/4210690/skin/images/loading.gif\" class=\"thumb\"/>\\n\\t\\t\\t\\t\\t\\t\\t<div class=\"list-con\">\\n\\t\\t\\t\\t\\t\\t\\t\\t<div class=\"list-title\">\\n\\t\\t\\t\\t\\t\\t\\t\\t\\t24. 데이터셋 행이름, 열이름 바꾸기 (작성중)\\n\\t\\t\\t\\t\\t\\t\\t\\t\\t<span class=\"list-cnt\">\\n\\t\\t\\t\\t\\t\\t\\t\\t\\t\\t<script>document.write(\\'\\'.replace(\\'(\\',\\'\\').replace(\\')\\',\\'\\'));</script>\\n\\t\\t\\t\\t\\t\\t\\t\\t\\t</span>\\n\\t\\t\\t\\t\\t\\t\\t\\t</div>\\n\\t\\t\\t\\t\\t\\t\\t\\t<div class=\"list-date\">2021.05.22</div>\\n\\t\\t\\t\\t\\t\\t\\t</div>\\n\\t\\t\\t\\t\\t\\t\\t<div class=\"list-hover\"></div>\\n\\t\\t\\t\\t\\t\\t</a>\\n\\t\\t\\t\\t\\t</li>\\n\\t\\t\\t\\t\\t\\n\\t\\t\\t\\t\\t<li class=\"grid-item isimg\">\\n\\t\\t\\t\\t\\t\\t<a href=\"/23?category=426752\">\\n\\t\\t\\t\\t\\t\\t\\t<img src=\"https://tistory4.daumcdn.net/tistory/4210690/skin/images/loading.gif\" class=\"thumb\"/>\\n\\t\\t\\t\\t\\t\\t\\t<div class=\"list-con\">\\n\\t\\t\\t\\t\\t\\t\\t\\t<div class=\"list-title\">\\n\\t\\t\\t\\t\\t\\t\\t\\t\\t23. 이상치 파악하기. (작성중)\\n\\t\\t\\t\\t\\t\\t\\t\\t\\t<span class=\"list-cnt\">\\n\\t\\t\\t\\t\\t\\t\\t\\t\\t\\t<script>document.write(\\'\\'.replace(\\'(\\',\\'\\').replace(\\')\\',\\'\\'));</script>\\n\\t\\t\\t\\t\\t\\t\\t\\t\\t</span>\\n\\t\\t\\t\\t\\t\\t\\t\\t</div>\\n\\t\\t\\t\\t\\t\\t\\t\\t<div class=\"list-date\">2021.05.21</div>\\n\\t\\t\\t\\t\\t\\t\\t</div>\\n\\t\\t\\t\\t\\t\\t\\t<div class=\"list-hover\"></div>\\n\\t\\t\\t\\t\\t\\t</a>\\n\\t\\t\\t\\t\\t</li>\\n\\t\\t\\t\\t\\t\\n\\t\\t\\t\\t\\t<li class=\"grid-item isimg\">\\n\\t\\t\\t\\t\\t\\t<a href=\"/22?category=426752\">\\n\\t\\t\\t\\t\\t\\t\\t<img src=\"https://tistory4.daumcdn.net/tistory/4210690/skin/images/loading.gif\" class=\"thumb\"/>\\n\\t\\t\\t\\t\\t\\t\\t<div class=\"list-con\">\\n\\t\\t\\t\\t\\t\\t\\t\\t<div class=\"list-title\">\\n\\t\\t\\t\\t\\t\\t\\t\\t\\t22. 결측치 파악하기 및 처리하기(작성중)\\n\\t\\t\\t\\t\\t\\t\\t\\t\\t<span class=\"list-cnt\">\\n\\t\\t\\t\\t\\t\\t\\t\\t\\t\\t<script>document.write(\\'\\'.replace(\\'(\\',\\'\\').replace(\\')\\',\\'\\'));</script>\\n\\t\\t\\t\\t\\t\\t\\t\\t\\t</span>\\n\\t\\t\\t\\t\\t\\t\\t\\t</div>\\n\\t\\t\\t\\t\\t\\t\\t\\t<div class=\"list-date\">2021.05.20</div>\\n\\t\\t\\t\\t\\t\\t\\t</div>\\n\\t\\t\\t\\t\\t\\t\\t<div class=\"list-hover\"></div>\\n\\t\\t\\t\\t\\t\\t</a>\\n\\t\\t\\t\\t\\t</li>\\n\\t\\t\\t\\t\\t\\n\\t\\t\\t\\t\\t<li class=\"grid-item isimg\">\\n\\t\\t\\t\\t\\t\\t<a href=\"/21?category=426752\">\\n\\t\\t\\t\\t\\t\\t\\t<img src=\"https://tistory4.daumcdn.net/tistory/4210690/skin/images/loading.gif\" class=\"thumb\"/>\\n\\t\\t\\t\\t\\t\\t\\t<div class=\"list-con\">\\n\\t\\t\\t\\t\\t\\t\\t\\t<div class=\"list-title\">\\n\\t\\t\\t\\t\\t\\t\\t\\t\\t21. dplyr패키지를 이용해 데이터 전처리하기 (작성중)\\n\\t\\t\\t\\t\\t\\t\\t\\t\\t<span class=\"list-cnt\">\\n\\t\\t\\t\\t\\t\\t\\t\\t\\t\\t<script>document.write(\\'\\'.replace(\\'(\\',\\'\\').replace(\\')\\',\\'\\'));</script>\\n\\t\\t\\t\\t\\t\\t\\t\\t\\t</span>\\n\\t\\t\\t\\t\\t\\t\\t\\t</div>\\n\\t\\t\\t\\t\\t\\t\\t\\t<div class=\"list-date\">2021.05.18</div>\\n\\t\\t\\t\\t\\t\\t\\t</div>\\n\\t\\t\\t\\t\\t\\t\\t<div class=\"list-hover\"></div>\\n\\t\\t\\t\\t\\t\\t</a>\\n\\t\\t\\t\\t\\t</li>\\n\\t\\t\\t\\t\\t\\n\\t\\t\\t\\t\\t<li class=\"grid-item isimg\">\\n\\t\\t\\t\\t\\t\\t<a href=\"/20?category=426752\">\\n\\t\\t\\t\\t\\t\\t\\t<img src=\"https://tistory4.daumcdn.net/tistory/4210690/skin/images/loading.gif\" class=\"thumb\"/>\\n\\t\\t\\t\\t\\t\\t\\t<div class=\"list-con\">\\n\\t\\t\\t\\t\\t\\t\\t\\t<div class=\"list-title\">\\n\\t\\t\\t\\t\\t\\t\\t\\t\\t20. 데이터셋 결합하기. (작성중)\\n\\t\\t\\t\\t\\t\\t\\t\\t\\t<span class=\"list-cnt\">\\n\\t\\t\\t\\t\\t\\t\\t\\t\\t\\t<script>document.write(\\'\\'.replace(\\'(\\',\\'\\').replace(\\')\\',\\'\\'));</script>\\n\\t\\t\\t\\t\\t\\t\\t\\t\\t</span>\\n\\t\\t\\t\\t\\t\\t\\t\\t</div>\\n\\t\\t\\t\\t\\t\\t\\t\\t<div class=\"list-date\">2021.05.17</div>\\n\\t\\t\\t\\t\\t\\t\\t</div>\\n\\t\\t\\t\\t\\t\\t\\t<div class=\"list-hover\"></div>\\n\\t\\t\\t\\t\\t\\t</a>\\n\\t\\t\\t\\t\\t</li>\\n\\t\\t\\t\\t\\t\\n\\t\\t\\t\\t\\t<li class=\"grid-item isimg\">\\n\\t\\t\\t\\t\\t\\t<a href=\"/19?category=426752\">\\n\\t\\t\\t\\t\\t\\t\\t<img src=\"https://tistory4.daumcdn.net/tistory/4210690/skin/images/loading.gif\" class=\"thumb\"/>\\n\\t\\t\\t\\t\\t\\t\\t<div class=\"list-con\">\\n\\t\\t\\t\\t\\t\\t\\t\\t<div class=\"list-title\">\\n\\t\\t\\t\\t\\t\\t\\t\\t\\t19. 조건을 통해 데이터셋 부분 선택하기 (작성중)\\n\\t\\t\\t\\t\\t\\t\\t\\t\\t<span class=\"list-cnt\">\\n\\t\\t\\t\\t\\t\\t\\t\\t\\t\\t<script>document.write(\\'\\'.replace(\\'(\\',\\'\\').replace(\\')\\',\\'\\'));</script>\\n\\t\\t\\t\\t\\t\\t\\t\\t\\t</span>\\n\\t\\t\\t\\t\\t\\t\\t\\t</div>\\n\\t\\t\\t\\t\\t\\t\\t\\t<div class=\"list-date\">2021.05.14</div>\\n\\t\\t\\t\\t\\t\\t\\t</div>\\n\\t\\t\\t\\t\\t\\t\\t<div class=\"list-hover\"></div>\\n\\t\\t\\t\\t\\t\\t</a>\\n\\t\\t\\t\\t\\t</li>\\n\\t\\t\\t\\t\\t\\n\\t\\t\\t\\t\\t<li class=\"grid-item isimg\">\\n\\t\\t\\t\\t\\t\\t<a href=\"/18?category=426752\">\\n\\t\\t\\t\\t\\t\\t\\t<img src=\"https://tistory4.daumcdn.net/tistory/4210690/skin/images/loading.gif\" class=\"thumb\"/>\\n\\t\\t\\t\\t\\t\\t\\t<div class=\"list-con\">\\n\\t\\t\\t\\t\\t\\t\\t\\t<div class=\"list-title\">\\n\\t\\t\\t\\t\\t\\t\\t\\t\\t18. 데이터셋 부분 선택하기\\n\\t\\t\\t\\t\\t\\t\\t\\t\\t<span class=\"list-cnt\">\\n\\t\\t\\t\\t\\t\\t\\t\\t\\t\\t<script>document.write(\\'\\'.replace(\\'(\\',\\'\\').replace(\\')\\',\\'\\'));</script>\\n\\t\\t\\t\\t\\t\\t\\t\\t\\t</span>\\n\\t\\t\\t\\t\\t\\t\\t\\t</div>\\n\\t\\t\\t\\t\\t\\t\\t\\t<div class=\"list-date\">2020.10.27</div>\\n\\t\\t\\t\\t\\t\\t\\t</div>\\n\\t\\t\\t\\t\\t\\t\\t<div class=\"list-hover\"></div>\\n\\t\\t\\t\\t\\t\\t</a>\\n\\t\\t\\t\\t\\t</li>\\n\\t\\t\\t\\t\\t\\n\\t\\t\\t\\t\\t<li class=\"grid-item isimg\">\\n\\t\\t\\t\\t\\t\\t<a href=\"/17?category=426752\">\\n\\t\\t\\t\\t\\t\\t\\t<img src=\"https://tistory4.daumcdn.net/tistory/4210690/skin/images/loading.gif\" class=\"thumb\"/>\\n\\t\\t\\t\\t\\t\\t\\t<div class=\"list-con\">\\n\\t\\t\\t\\t\\t\\t\\t\\t<div class=\"list-title\">\\n\\t\\t\\t\\t\\t\\t\\t\\t\\t17. 데이터셋 유형과 구조 변환하기 (수정)\\n\\t\\t\\t\\t\\t\\t\\t\\t\\t<span class=\"list-cnt\">\\n\\t\\t\\t\\t\\t\\t\\t\\t\\t\\t<script>document.write(\\'\\'.replace(\\'(\\',\\'\\').replace(\\')\\',\\'\\'));</script>\\n\\t\\t\\t\\t\\t\\t\\t\\t\\t</span>\\n\\t\\t\\t\\t\\t\\t\\t\\t</div>\\n\\t\\t\\t\\t\\t\\t\\t\\t<div class=\"list-date\">2020.10.26</div>\\n\\t\\t\\t\\t\\t\\t\\t</div>\\n\\t\\t\\t\\t\\t\\t\\t<div class=\"list-hover\"></div>\\n\\t\\t\\t\\t\\t\\t</a>\\n\\t\\t\\t\\t\\t</li>\\n\\t\\t\\t\\t\\t\\n\\t\\t\\t\\t\\t<li class=\"grid-item isimg\">\\n\\t\\t\\t\\t\\t\\t<a href=\"/16?category=426752\">\\n\\t\\t\\t\\t\\t\\t\\t<img src=\"https://tistory4.daumcdn.net/tistory/4210690/skin/images/loading.gif\" class=\"thumb\"/>\\n\\t\\t\\t\\t\\t\\t\\t<div class=\"list-con\">\\n\\t\\t\\t\\t\\t\\t\\t\\t<div class=\"list-title\">\\n\\t\\t\\t\\t\\t\\t\\t\\t\\t16. 데이터셋 탐색하기 (수정)\\n\\t\\t\\t\\t\\t\\t\\t\\t\\t<span class=\"list-cnt\">\\n\\t\\t\\t\\t\\t\\t\\t\\t\\t\\t<script>document.write(\\'\\'.replace(\\'(\\',\\'\\').replace(\\')\\',\\'\\'));</script>\\n\\t\\t\\t\\t\\t\\t\\t\\t\\t</span>\\n\\t\\t\\t\\t\\t\\t\\t\\t</div>\\n\\t\\t\\t\\t\\t\\t\\t\\t<div class=\"list-date\">2020.10.22</div>\\n\\t\\t\\t\\t\\t\\t\\t</div>\\n\\t\\t\\t\\t\\t\\t\\t<div class=\"list-hover\"></div>\\n\\t\\t\\t\\t\\t\\t</a>\\n\\t\\t\\t\\t\\t</li>\\n\\t\\t\\t\\t\\t\\n\\t\\t\\t\\t</ol>\\n\\t\\t\\t</div>\\n<!--2-1. 검색 결과 리스트 끝-->\\n\\t\\n\\t\\n\\t\\t\\t\\n\\t\\n\\t\\t\\t\\n\\t\\t\\t\\n\\t\\t\\t\\n\\t\\t\\t\\n\\t\\t\\t\\n\\t\\t\\t\\n\\t\\t\\t\\n\\n\\t\\t\\t\\n\\t\\t\\t<div class=\"paging\">\\n\\t\\t\\t\\t<a  class=\"no-more-prev\"><i class=\"fa fa-chevron-left\" aria-hidden=\"true\"></i></a>\\n\\t\\t\\t\\t<span class=\"numbox\">\\n\\t\\t\\t\\t\\t<a  class=\"num\"><span class=\"selected\">1</span></a><a  href=\\'/category/?page=2\\' class=\"num\"><span >2</span></a><a  href=\\'/category/?page=3\\' class=\"num\"><span >3</span></a>\\n\\t\\t\\t\\t</span>\\n\\t\\t\\t\\t<a  href=\\'/category/?page=2\\' class=\"\"><i class=\"fa fa-chevron-right\" aria-hidden=\"true\"></i></a>\\n\\t\\t\\t</div>\\n\\t\\t\\t\\n\\n<!--CUSTOM02-1: 구글애드센스 #01 광고 게재 -->\\n<div style=\"height:30px\"></div>\\t\\t\\n<div class = \"googlead\">\\n<script async src=\"https://pagead2.googlesyndication.com/pagead/js/adsbygoogle.js\"></script>\\n<script>\\n(adsbygoogle = window.adsbygoogle || []).push({});\\n</script>\\n\\t<ins class=\"adsbygoogle\"\\n   style=\"display:block;min-width:400px;max-width:970px;width:100%;height:90px\"\\n   data-ad-client=\"ca-pub-3543043938320229\"\\n   data-ad-slot=\"7136527521\"\\n\\t data-full-width-responsive=\"true\"></ins>\\n</div>\\n\\n\\t\\n\\t\\t</div> <!-- content close -->\\n\\t\\t\\n\\t\\t<div id=\"footer\">\\n\\t\\t\\t<div class=\"copyright\">\\n\\t\\t\\t\\tDesigned by <a href=\"http://nanaskinver6.tistory.com\">NANA</a>\\n\\t\\t\\t</div>\\n\\t\\t</div> <!-- footer close -->\\n\\t\\t\\n\\t</div> <!-- container close -->\\n\\n\\t\\n<script>\\n$(function(){\\n\\t//로그인아웃\\n\\tif(window.T.config.USER.name)\\n\\t\\t$(\\'.tab_login a\\').attr(\\'href\\',\\'https://www.tistory.com/auth/logout\\');\\n\\telse\\n\\t\\t$(\\'.tab_login a\\').attr(\\'href\\',\\'https://www.tistory.com/auth/login\\');\\n\\t\\n\\t//검색버튼\\n\\t$(\\'.tab_search\\').click(function(){\\n\\t\\t$(\\'.search\\').slideToggle(\\'fast\\');\\n\\t});\\n\\t\\n\\t//모바일메뉴\\n\\t$(\\'.mobile_btn\\').click(function(){\\n\\t\\t$(this).toggleClass(\\'active\\');\\n\\t\\t$(\\'.tt_category\\').slideToggle(\\'fast\\');\\n\\t});\\n\\t\\n\\t//iframe responsive\\n\\tvar maxW = 0;\\n\\tvar total = $(\".article iframe, .article embed\").length;\\n\\t$(\".article iframe, .article embed\").each(function(index) {\\n\\t\\tvar tmpW = $(this).width();\\n\\t\\tvar tmpH = $(this).height();\\n\\t\\tif(tmpW > maxW) maxW = tmpW;\\n\\t\\tif(Math.round(tmpW*10/tmpH)/10 == 1.8) var img_ratio = \\'16x9\\';\\n\\t\\telse var img_ratio = tmpW+\\'x\\'+tmpH;\\n\\t\\t$(this).wrap(\\'<div class=\"video-container\" style=\"width:\\'+$(this).width()+\\'px;\"></div>\\');\\n\\t\\t$(this).after(\\'<img class=\"ratio\" src=\"http://placehold.it/\\'+img_ratio+\\'/ffffff/ffffff\"/>\\');\\n\\t\\tif (index === total - 1) {\\n\\t\\t\\tif ($(\\'.article\\').width() < maxW)\\n\\t\\t\\t\\t$(\\'#container\\').width(maxW);\\n    }\\n\\t});\\n\\t\\n\\t//갤러리형\\n\\t$(\".grid-item\").each(function(index){\\n\\t\\tvar a = $(this).find(\"a\").attr(\"href\");\\n\\t\\tvar b = $(this);\\n\\t\\tvar i = $(this).find(\"img.thumb\");\\n\\t\\t$.ajax({\\n\\t\\t\\turl: a,\\n\\t\\t\\ttype: \"GET\",\\n\\t\\t\\tdataType: \"html\",\\n\\t\\t\\tsuccess:function(c)\\n\\t\\t\\t{\\n\\t\\t\\t\\tvar bool = false;\\n\\t\\t\\t\\tvar d = c.indexOf(\\'<!-- BEGIN STRUCTURED_DATA -->\\', 0);\\n\\t\\t\\t\\tif (d < 10000) {\\n\\t\\t\\t\\t\\tvar e = c.indexOf(\\'<!-- END STRUCTURED_DATA -->\\', c);\\n\\t\\t\\t\\t\\tvar json = JSON.parse(c.substring(d+67, e-11));\\n\\t\\t\\t\\t\\tif (json.image.url != \"https://t1.daumcdn.net/cssjs/icon/557567EA016E200001\") {\\n\\t\\t\\t\\t\\t\\ti.attr(\"src\", \"http://i1.daumcdn.net/thumb/R400x0/?fname=\"+json.image.url);\\n\\t\\t\\t\\t\\t\\tbool = true;\\n\\t\\t\\t\\t\\t}\\n\\t\\t\\t\\t}\\n\\t\\t\\t\\tif (!bool) {\\n\\t\\t\\t\\t\\tc = c.substring(c.indexOf(\\'<div id=\"container\">\\', 0), c.indexOf(\\'<!-- container close -->\\', 0));\\n\\t\\t\\t\\t\\tif (c.indexOf(\\'<!--2-7. 보호 글-->\\', 0) == -1) {\\n\\t\\t\\t\\t\\t\\tvar f = c.indexOf(\\'<!--글 시작-->\\', 0);\\n\\t\\t\\t\\t\\t\\tvar g = c.indexOf(\\'<!--글 끝-->\\', f);\\n\\t\\t\\t\\t\\t\\tvar html = c.substring(f, g);\\n\\t\\t\\t\\t\\t\\tvar img = html.match(/<img(.*?)>/)[0];\\n\\t\\t\\t\\t\\t\\tif (img.indexOf(\\'신고\\') == -1 && img.indexOf(\\'tistory_admin\\') == -1) {\\n\\t\\t\\t\\t\\t\\t\\tvar img_url = /src=\"(.*?)\"/.exec(img);\\n\\t\\t\\t\\t\\t\\t\\ti.attr(\"src\", \"http://i1.daumcdn.net/thumb/R400x0/?fname=\"+img_url[1]);\\n\\t\\t\\t\\t\\t\\t} else {\\n\\t\\t\\t\\t\\t\\t\\tif (html.indexOf(\\'//www.youtube.com/embed\\') != -1) {\\n\\t\\t\\t\\t\\t\\t\\t\\tvar h = /\\\\/\\\\/www.youtube.com\\\\/embed\\\\/(.*?)\"/g.exec(html)[1];\\n\\t\\t\\t\\t\\t\\t\\t\\th = \\'http://img.youtube.com/vi/\\'+h.split(\"?\")[0]+\\'/maxresdefault.jpg\\';\\n\\t\\t\\t\\t\\t\\t\\t\\tvar tmpImg = new Image();\\n\\t\\t\\t\\t\\t\\t\\t\\ttmpImg.src = h;\\n\\t\\t\\t\\t\\t\\t\\t\\t$(tmpImg).one(\\'load\\', function(){\\n\\t\\t\\t\\t\\t\\t\\t\\t\\tif (tmpImg.width == 120)\\n\\t\\t\\t\\t\\t\\t\\t\\t\\t\\th = h.replace(\"maxresdefault\", \"hqdefault\");\\n\\t\\t\\t\\t\\t\\t\\t\\t\\ti.attr(\"src\", \"http://i1.daumcdn.net/thumb/R400x0/?fname=\"+h);\\n\\t\\t\\t\\t\\t\\t\\t\\t});\\n\\t\\t\\t\\t\\t\\t\\t} else {\\n\\t\\t\\t\\t\\t\\t\\t\\tif (typeof jwplayer !== \\'undefined\\')\\n\\t\\t\\t\\t\\t\\t\\t\\t\\tvar jw = /jwplayer\\\\(.*?\\\\).setup\\\\({([\\\\S\\\\s]*?)}\\\\);/.exec(html);\\n\\t\\t\\t\\t\\t\\t\\t\\tif (typeof jw != \\'undefined\\' && jw != null)\\n\\t\\t\\t\\t\\t\\t\\t\\t\\tvar jwimg = /image.*?:.*?[\\'|\"](.*?)[\\'|\"]/.exec(jw[1]);\\n\\t\\t\\t\\t\\t\\t\\t\\tif (typeof jwimg != \\'undefined\\' && jwimg != null) {\\n\\t\\t\\t\\t\\t\\t\\t\\t\\ti.attr(\"src\", \"http://i1.daumcdn.net/thumb/R400x0/?fname=\"+jwimg[1]);\\n\\t\\t\\t\\t\\t\\t\\t\\t} else {\\n\\t\\t\\t\\t\\t\\t\\t\\t\\tif (typeof SC !== \\'undefined\\' && html.indexOf(\\'src=\"https://w.soundcloud.com/\\') != -1) {\\n\\t\\t\\t\\t\\t\\t\\t\\t\\t\\tvar j = /src=\"https:\\\\/\\\\/w.soundcloud.com\\\\/player(.*?)\"/.exec(html)[0];\\n\\t\\t\\t\\t\\t\\t\\t\\t\\t\\tSC.get(/api.soundcloud.com(.*?)&/.exec(j)[1], function(track) {\\n\\t\\t\\t\\t\\t\\t\\t\\t\\t\\t\\tvar SC_img = track.artwork_url;\\n\\t\\t\\t\\t\\t\\t\\t\\t\\t\\t\\tif (SC_img != null) {\\n\\t\\t\\t\\t\\t\\t\\t\\t\\t\\t\\t\\tSC_img = track.artwork_url.replace(\"large\",\"crop\");\\n\\t\\t\\t\\t\\t\\t\\t\\t\\t\\t\\t\\ti.attr(\"src\", \"http://i1.daumcdn.net/thumb/R400x0/?fname=\"+SC_img);\\n\\t\\t\\t\\t\\t\\t\\t\\t\\t\\t\\t} else {\\n\\t\\t\\t\\t\\t\\t\\t\\t\\t\\t\\t\\tb.removeClass(\\'isimg\\').addClass(\\'noimg\\');\\n\\t\\t\\t\\t\\t\\t\\t\\t\\t\\t\\t\\ti.removeAttr(\"src\");\\n\\t\\t\\t\\t\\t\\t\\t\\t\\t\\t\\t}\\n\\t\\t\\t\\t\\t\\t\\t\\t\\t\\t});\\n\\t\\t\\t\\t\\t\\t\\t\\t\\t} else {\\n\\t\\t\\t\\t\\t\\t\\t\\t\\t\\tb.removeClass(\\'isimg\\').addClass(\\'noimg\\');\\n\\t\\t\\t\\t\\t\\t\\t\\t\\t\\ti.removeAttr(\"src\");\\n\\t\\t\\t\\t\\t\\t\\t\\t\\t}\\n\\t\\t\\t\\t\\t\\t\\t\\t}\\n\\t\\t\\t\\t\\t\\t\\t}\\n\\t\\t\\t\\t\\t\\t}\\n\\t\\t\\t\\t\\t} else {\\n\\t\\t\\t\\t\\t\\tb.removeClass(\\'isimg\\').addClass(\\'noimg\\');\\n\\t\\t\\t\\t\\t\\ti.removeAttr(\"src\");\\n\\t\\t\\t\\t\\t}\\n\\t\\t\\t\\t}\\n\\t\\t\\t}\\n\\t\\t});\\n\\t});\\n\\t$(\\'.grid\\').prepend(\\'<li class=\"gutter-sizer\"></li>\\');\\n\\tvar $grid = $(\\'.grid\\').imagesLoaded( function() {\\n\\t\\t$grid.masonry({\\n\\t\\t\\titemSelector: \\'.grid-item\\',\\n\\t\\t\\tcolumnWidth: \\'.grid-item\\',\\n\\t\\t\\tgutter: \\'.gutter-sizer\\',\\n\\t\\t\\tpercentPosition: true\\n\\t\\t});\\n\\t\\tvar count = 0;\\n\\t\\tvar repeat = setInterval(function(){\\n\\t\\t\\t$grid.masonry(\\'layout\\');\\n\\t\\t\\tcount++;\\n\\t\\t\\tif (count == 4) clearInterval(repeat);\\n\\t\\t}, 900);\\n\\t});\\n});\\n</script>\\n\\t\\n<!-- CUSTOM04: 리스트형 홈페이지 구성 -->\\n<script>\\nif(href=\"/\")\\n{\\n\\t$(\\'.searchList ol\\').removeClass(\\'grid\\').addClass(\\'grid-list\\');\\n\\t$(\\'.grid-item\\').removeClass(\\'noimg\\').removeClass(\\'isimg\\');\\n\\t$(\\'.gutter-sizer, .list-hover, .thumb\\').remove();\\n}\\n</script>\\n\\n<script>\\n\\t(function(i,s,o,g,r,a,m){i[\\'GoogleAnalyticsObject\\']=r;i[r]=i[r]||function(){\\n\\t\\t\\t(i[r].q=i[r].q||[]).push(arguments)},i[r].l=1*new Date();a=s.createElement(o),\\n\\t\\tm=s.getElementsByTagName(o)[0];a.async=1;a.src=g;m.parentNode.insertBefore(a,m)\\n\\t})(window,document,\\'script\\',\\'//www.google-analytics.com/analytics.js\\',\\'ga\\');\\n\\tga(\\'create\\', \\'UA-178481075-1\\', \\'auto\\');\\n\\tga(\\'send\\', \\'pageview\\');\\n</script>\\n\\t<script>\\n\\t    lightbox.option({\\n\\t\\t\\t\"fadeDuration\": 200,\\n\\t\\t    \"resizeDuration\": 200,\\n\\t\\t    \"wrapAround\": false,\\n\\t\\t\\t\"albumLabel\": \"%1 / %2\",\\n\\t\\t\\t\"fitImagesInViewport\":true ,\\n\\t\\t\\t\"stopEvent\": false\\n\\t    })\\n\\t</script>            <script type=\"text/javascript\" src=\"//t1.daumcdn.net/tiara/js/v1/tiara.min.js\"></script>\\n            <script type=\"text/javascript\">window.tiara = {\"svcDomain\":\"user.tistory.com\",\"section\":\"\\\\ud648\",\"trackPage\":\"\\\\ud648_\\\\ubcf4\\\\uae30\",\"page\":\"\\\\ud648\",\"key\":\"4210690\",\"customProps\":{\"userId\":0,\"blogId\":\"4210690\",\"role\":\"guest\",\"filterTarget\":false,\"trackPage\":\"\\\\ud648_\\\\ubcf4\\\\uae30\"},\"entry\":[],\"sentryDsn\":\"https:\\\\/\\\\/a53520229cd744e798d42900d76b0e2a@aem-collector.daumkakao.io\\\\/713\",\"kakaoAppKey\":\"b8aef3eeb03fa312b81795386484f051\",\"appUserId\":null};</script>\\n            <script type=\"text/javascript\" src=\"https://t1.daumcdn.net/tistory_admin/assets/blog/tistory-7e4d21d3a0c14eba22f6454c87f0d8977b81a2f5/blogs/script/tiara/tiara.min.js?_version_=tistory-7e4d21d3a0c14eba22f6454c87f0d8977b81a2f5\" defer></script>\\n                        <script type=\"text/javascript\">\\n                window.roosevelt_params_queue = window.roosevelt_params_queue || [{channel_id: \\'dk\\', channel_label: \\'tistory\\'}];\\n            </script>\\n            <script type=\"text/javascript\" src=\"//t1.daumcdn.net/midas/rt/dk_bt/roosevelt_dk_bt.js\" async></script><script type=\"text/javascript\">if(window.console!=undefined){setTimeout(console.log.bind(console,\"%cTISTORY\",\"font:8em Arial;color:#EC6521;font-weight:bold\"),0);setTimeout(console.log.bind(console,\"%c  나를 표현하는 블로그\",\"font:2em sans-serif;color:#333;\"),0);}</script><iframe style=\"position:absolute;width:1px;height:1px;left:-100px;top:-100px\" src=\"//data-analytics-with-r.tistory.com/api\" id=\"editEntry\"></iframe><div id=\"tistoryEtcLayer\" class=\"layer_post\"></div><div id=\"tistorySnsLayer\" class=\"layer_post\"></div></body>\\n</html>'"
      ]
     },
     "metadata": {},
     "execution_count": 1
    }
   ],
   "source": [
    "#2021.06.07. MON\n",
    "#Hankyeong\n",
    "\n",
    "##Project 2: BeautifulSoup을 이용해 멜론주간차트 크롤링하기.\n",
    "#00. 패키지 호출\n",
    "import requests\n",
    "import pandas as pd\n",
    "from bs4 import BeautifulSoup\n",
    "\n",
    "#01. url 설정하기. \n",
    "#(1) request.get() , .text 방식 이해하기.\n",
    "url = \"https://data-analytics-with-r.tistory.com/category\"\n",
    "req = requests.get(url)\n",
    "html = req.text\n",
    "html"
   ]
  },
  {
   "cell_type": "code",
   "execution_count": 2,
   "metadata": {},
   "outputs": [
    {
     "output_type": "execute_result",
     "data": {
      "text/plain": [
       "''"
      ]
     },
     "metadata": {},
     "execution_count": 2
    }
   ],
   "source": [
    "#(2) 멜론주간차트 url 설정하기.\n",
    "url = \"https://www.melon.com/chart/week/index.htm\"\n",
    "req = requests.get(url)\n",
    "html = req.text\n",
    "html "
   ]
  },
  {
   "cell_type": "code",
   "execution_count": 3,
   "metadata": {},
   "outputs": [
    {
     "output_type": "execute_result",
     "data": {
      "text/plain": [
       "t\\t\\t<script type=\"text/javascript\">\\r\\n\\r\\n\\t\\t\\t\\t$(function(){\\r\\n\\t\\t\\t\\t\\t/* 멜론 차트 곡만 듣기 */\\r\\n\\t\\t\\t\\t\\tplayChart = function() {\\r\\n\\t\\t\\t\\t\\t\\tvar songList = $(\\'tr\\').map(function() { return $(this).attr(\\'data-song-no\\'); }).get();\\r\\n\\t\\t\\t\\t\\t\\tmelon.play.playSong(\\'19041301\\', songList);\\r\\n\\t\\t\\t\\t\\t}\\r\\n\\r\\n\\t\\t\\t\\t\\tplayShuffleChart = function() {\\r\\n\\t\\t\\t\\t\\t\\tvar songList = $(\\'tr\\').map(function() { return $(this).attr(\\'data-song-no\\'); }).get();\\r\\n\\t\\t\\t\\t\\t\\tvar j, x, i;\\r\\n\\t\\t\\t\\t\\t\\tfor (i = songList.length; i; i -= 1) {\\r\\n\\t\\t\\t\\t\\t\\t\\tj = Math.floor(Math.random() * i);\\r\\n\\t\\t\\t\\t\\t\\t\\tx = songList[i - 1];\\r\\n\\t\\t\\t\\t\\t\\t\\tsongList[i - 1] = songList[j];\\r\\n\\t\\t\\t\\t\\t\\t\\tsongList[j] = x;\\r\\n\\t\\t\\t\\t\\t\\t}\\r\\n\\t\\t\\t\\t\\t\\tmelon.play.playSong(\\'19041301\\', songList);\\r\\n\\t\\t\\t\\t\\t}\\r\\n\\r\\n\\t\\t\\t\\t\\t/* 리스트 다중 선택 */\\r\\n\\t\\t\\t\\t\\t$(\\'.input_check\\').optShift();\\r\\n\\t\\t\\t\\t\\t/* 페이징 노출*/\\r\\n\\t\\t\\t\\t\\t$(\\'.chart_page\\').css({\\'display\\':\\'\\'});\\r\\n\\r\\n\\t\\t\\t\\t});\\r\\n\\t\\t\\t</script>\\r\\n\\t\\t\\r\\n\\r\\n\\t\\r\\n\\r\\n\\t\\t\\t\\t\\t</div>\\r\\n\\t\\t\\t\\t</div>\\r\\n<!-- //contents -->\\r\\n\\r\\n\\r\\n\\t<script type=\"text/javascript\">\\r\\n\\t\\tvar httpWww = \"http://www.melon.com\";\\r\\n\\t\\tvar httpsWww = \"https://www.melon.com\";\\r\\n\\t\\tvar POC_ID = \"XXXX\";\\r\\n\\t\\tvar deployPhase = \"\";\\r\\n\\t</script>\\r\\n\\r\\n\\t\\n\\t<script type=\"text/javascript\" src=\"/resource/script/web/common/melonweb_openlib.js\"></script>\\n\\n\\t<script type=\"text/javascript\" src=\"https://cdnimg.melon.co.kr/static/web/resource/script/w1/jl/7/mt2yrkjrg8wadm0bh.js\"></script>\\n\\t<script type=\"text/javascript\" src=\"https://cdnimg.melon.co.kr/static/web/resource/script/w1/n0/d/wqwlj1e4nijw.js\"></script>\\n\\t<script type=\"text/javascript\" src=\"/resource/script/web/common/MPAPI.js?tm=20171129\"></script> \\n\\t<script type=\"text/javascript\" src=\"https://cdnimg.melon.co.kr/static/web/resource/script/w1/ln/x/ddvau9tacypxr1.js\"></script>\\n\\t\\r\\n\\r\\n<script type=\"text/javascript\" src=\"https://cdnimg.melon.co.kr/static/web/resource/script/w1/0i/p/1ec0iixwb57.js\"></script>\\r\\n\\n\\t<script type=\"text/javascript\" src=\"/resource/script/web/chart/json2.js\"></script>\\n\\t<script type=\"text/javascript\" src=\"/resource/script/web/common/melonweb_zam.js?tm=2016042816\"></script>\\n\\t<script type=\"text/javascript\" src=\"https://cdnimg.melon.co.kr/static/web/resource/script/w1/8k/8/1ed5h822hvv.js\"></script>\\n\\t<script type=\"text/javascript\" src=\"https://cdnimg.melon.co.kr/statistics/js/mlog.js\"></script>\\n\\t<script type=\"text/javascript\" src=\"//t1.daumcdn.net/tiara/js/v1/tiara.min.js\"></script>\\n\\t<script type=\"text/javascript\" src=\"/resource/script/web/event/bluebird.min.js\"></script>\\n\\t<script type=\"text/javascript\" src=\"/resource/script/web/common/melonweb_newtiara.js?tm=1621240305283\"></script>\\n\\r\\n\\r\\n\\t<script type=\"text/javascript\">\\r\\n\\t\\tvar melon = MELON.WEBSVC.POC;\\r\\n\\t\\tvar menuId = \\'19041301\\';\\r\\n\\t\\tif(menuId != null && menuId != \\'\\'){\\r\\n\\t\\t\\ttiara.sendLog(menuId);\\r\\n\\t\\t}\\r\\n\\r\\n\\t\\tdocument.domain=\"melon.com\";\\r\\n\\r\\n\\t\\t//pocId 쿠키설정 실행\\r\\n\\t\\ttry {\\r\\n\\t\\t\\tmelon.setPocId();\\r\\n\\t\\t} catch (e){}\\r\\n\\t</script>\\r\\n\\t\\r\\n\\t<script type=\"text/javascript\" src=\"/resource/script/web/common/socket.io.js\"></script>\\r\\n\\r\\n<script type=\"text/javascript\" src=\"/resource/script/web/chart/melonweb_chart.js\"></script>\\r\\n<script type=\"text/javascript\">\\r\\n\\r\\n\\ttogBtn = function (startdate, enddate, isFirstDate, isLastDate) {\\r\\n\\r\\n\\t\\tstartdate   = encodeURI(startdate  ).indexOf(\\'%\\') > -1 ? \\'\\' : startdate;\\r\\n\\t\\tenddate     = encodeURI(enddate    ).indexOf(\\'%\\') > -1 ? \\'\\' : enddate;\\r\\n\\t\\tisFirstDate = encodeURI(isFirstDate).indexOf(\\'%\\') > -1 ? \\'\\' : isFirstDate;\\r\\n\\t\\tisLastDate  = encodeURI(isLastDate ).indexOf(\\'%\\') > -1 ? \\'\\' : isLastDate;\\r\\n\\r\\n\\t\\tvar $btnPrev = $(\\'div.calendar_prid button.pre\\'),\\r\\n\\t\\t\\t$btnNext = $(\\'div.calendar_prid button.next\\'),\\r\\n\\t\\t\\t$btnCalendar = $(\\'div.calendar_prid button.button_icons.etc.arrow_d\\');\\r\\n\\r\\n\\r\\n\\t\\t$(\\'.yyyymmdd\\').html([\\r\\n\\t\\t\\tstartdate.replace(/^([\\\\d]{4})([\\\\d]{2})([\\\\d]{2})$/, \\'$1.$2.$3\\'),\\r\\n\\t\\t\\tenddate.replace(/^([\\\\d]{4})([\\\\d]{2})([\\\\d]{2})$/, \\'$1.$2.$3\\')\\r\\n\\t\\t].join(\\' ~ \\'));\\r\\n\\t\\t$btnCalendar.attr({\\r\\n\\t\\t\\t\\'data-active-start\\': startdate,\\r\\n\\t\\t\\t\\'data-active-end\\': enddate\\r\\n\\t\\t});\\r\\n\\t\\t$btnPrev.prop(\\'disabled\\', isFirstDate)[isFirstDate?\\'addClass\\':\\'removeClass\\'](\\'disabled\\');\\r\\n\\t\\t$btnNext.prop(\\'disabled\\', isLastDate)[isLastDate?\\'addClass\\':\\'removeClass\\'](\\'disabled\\');\\r\\n\\t}\\r\\n\\r\\n\\t$(function(){\\r\\n\\t\\tvar WEBSVC = MELON.WEBSVC,\\r\\n\\t\\t\\tdateUtil = WEBSVC.date;\\r\\n\\t\\tvar expr = new RegExp(\\'td>[ \\\\t\\\\r\\\\n\\\\v\\\\f]*</td\\', \\'g\\');\\r\\n\\r\\n\\t\\t/* 달력 처리 */\\r\\n\\t\\t(function(){\\r\\n\\r\\n\\t\\t\\tvar $btnPrev = $(\\'div.calendar_prid button.pre\\'),\\r\\n\\t\\t\\t\\t$btnNext = $(\\'div.calendar_prid button.next\\'),\\r\\n\\t\\t\\t\\t$btnCalendar = $(\\'div.calendar_prid button.button_icons.etc.arrow_d\\');\\r\\n\\r\\n\\t\\t\\t$btnCalendar.weekCalendar({\\r\\n\\t\\t\\t\\tlimitWeek   : 12,\\r\\n\\t\\t\\t\\tlastDate\\t: \\'20210530\\',\\r\\n\\t\\t\\t\\tactiveStart : \\'20210524\\',\\r\\n\\t\\t\\t\\tactiveEnd   : \\'20210530\\',\\r\\n\\t\\t\\t\\ton: {\\r\\n\\t\\t\\t\\t\\t\\'selected\\': function(e, startdate, enddate, startyear, startmonth, startday, endyear, endmonth, endday, isFirstDate, isLastDate){\\r\\n\\t\\t\\t\\t\\t\\tajxm=true;\\r\\n\\t\\t\\t\\t\\t\\t$.get(\"/chart/week/index.htm\",\\r\\n\\t\\t\\t\\t\\t\\t\\t  {classCd: \\'GN0000\\', moved : \\'Y\\', startDay : startdate, endDay : enddate},\\r\\n\\t\\t\\t\\t\\t\\t\\t  function(data) { $(\"#tb_list\").html(data.replace(expr, \\'td></td\\')); });\\r\\n\\t\\t\\t\\t\\t\\ttoggleButtons(startdate, enddate, isFirstDate, isLastDate);\\r\\n\\t\\t\\t\\t\\t\\t$btnCalendar.weekCalendar(\\'close\\');\\r\\n\\t\\t\\t\\t\\t},\\r\\n\\t\\t\\t\\t\\t\\'showcalendar\\': function(e, $calendar) {\\r\\n\\t\\t\\t\\t\\t\\tvar me = this;\\r\\n\\r\\n\\t\\t\\t\\t\\t\\t$calendar.find(\\'dl\\').append([\\'<dd class=\"info\">\\',\\r\\n\\t\\t\\t\\t\\t\\t\\t\\'<a href=\"/chart/search/index.htm\" class=\"link\" title=\"최근 12주 이전 조회 바로가기\">최근 12주 이전 조회 바로가기<span class=\"button_icons arrow_link\"></span></a>\\',\\r\\n\\t\\t\\t\\t\\t\\t\\t\\'</dd>\\'].join(\\'\\'));\\r\\n\\t\\t\\t\\t\\t}\\r\\n\\t\\t\\t\\t}\\r\\n\\t\\t\\t});\\r\\n\\r\\n\\t\\t\\t// 이전/ 다음\\r\\n\\t\\t\\t$btnPrev.add($btnNext).on(\\'click\\', function() {\\r\\n\\t\\t\\t\\tajxm=true;\\r\\n\\t\\t\\t\\tvar type  = $(this).hasClass(\\'pre\\') ? \\'prev\\' : \\'next\\',\\r\\n\\t\\t\\t\\t\\tvalue = $btnCalendar.weekCalendar(type);\\r\\n\\t\\t\\t\\t$.get(\"/chart/week/index.htm\",\\r\\n\\t\\t\\t\\t\\t  {classCd: \\'GN0000\\', moved : \\'Y\\', startDay : value.startDate, endDay : value.endDate},\\r\\n\\t\\t\\t\\t\\t  function(data) { $(\"#tb_list\").html(data.replace(expr, \\'td></td\\'));  });\\r\\n\\t\\t\\t\\ttoggleButtons(value.startDate, value.endDate, value.isFirstDate, value.isLastDate);\\r\\n\\t\\t\\t});\\r\\n\\r\\n\\t\\t\\tfunction toggleButtons(startdate, enddate, isFirstDate, isLastDate) {\\r\\n\\t\\t\\t\\t$(\\'.yyyymmdd\\').html([\\r\\n\\t\\t\\t\\t\\tstartdate.replace(/^([\\\\d]{4})([\\\\d]{2})([\\\\d]{2})$/, \\'$1.$2.$3\\'),\\r\\n\\t\\t\\t\\t\\tenddate.replace(/^([\\\\d]{4})([\\\\d]{2})([\\\\d]{2})$/, \\'$1.$2.$3\\')\\r\\n\\t\\t\\t\\t].join(\\' ~ \\'));\\r\\n\\t\\t\\t\\t$btnCalendar.attr({\\r\\n\\t\\t\\t\\t\\t\\'data-active-start\\': startdate,\\r\\n\\t\\t\\t\\t\\t\\'data-active-end\\': enddate\\r\\n\\t\\t\\t\\t});\\r\\n\\t\\t\\t\\t$btnPrev.prop(\\'disabled\\', isFirstDate)[isFirstDate?\\'addClass\\':\\'removeClass\\'](\\'disabled\\');\\r\\n\\t\\t\\t\\t$btnNext.prop(\\'disabled\\', isLastDate)[isLastDate?\\'addClass\\':\\'removeClass\\'](\\'disabled\\');\\r\\n\\r\\n\\t\\t\\t\\tvar params = {};\\r\\n\\t\\t\\t\\tparams.idx=1;\\r\\n\\t\\t\\t\\tparams.startDay = startdate;\\r\\n\\t\\t\\t\\tparams.endDay = enddate;\\r\\n\\t\\t\\t\\tparams.isFirstDate = isFirstDate;\\r\\n\\t\\t\\t\\tparams.isLastDate = isLastDate;\\r\\n\\t\\t\\t\\t$.bbq.pushState({ params: params});\\r\\n\\t\\t\\t}\\r\\n\\r\\n\\t\\t\\t// 이전/다음 버튼 토글\\r\\n\\t\\t\\tvar objCalendar = $btnCalendar.weekCalendar(\\'instance\\'),\\r\\n\\t\\t\\t\\tisFirstDate = objCalendar.isFirstDate(),\\r\\n\\t\\t\\t\\tisLastDate  = objCalendar.isLastDate();\\r\\n\\r\\n\\t\\t\\t$btnPrev.prop(\\'disabled\\', isFirstDate)[isFirstDate?\\'addClass\\':\\'removeClass\\'](\\'disabled\\');\\r\\n\\t\\t\\t$btnNext.prop(\\'disabled\\', isLastDate) [isLastDate ?\\'addClass\\':\\'removeClass\\'](\\'disabled\\');\\r\\n\\t\\t\\tif ( typeof $.bbq.getState(\\'params\\') === \\'undefined\\' ) {\\r\\n\\t\\t\\t\\tvar params = {};\\r\\n\\t\\t\\t\\tparams.idx=1;\\r\\n\\t\\t\\t\\tparams.startDay = \\'20210524\\';\\r\\n\\t\\t\\t\\tparams.endDay = \\'20210530\\';\\r\\n\\t\\t\\t\\tparams.isFirstDate = isFirstDate;\\r\\n\\t\\t\\t\\tparams.isLastDate = isLastDate;\\r\\n\\t\\t\\t\\t$.bbq.pushState({ params: params});\\r\\n\\t\\t\\t}\\r\\n\\t\\t})();\\r\\n\\r\\n\\t});\\r\\n\\t$(\\'#GN0000\\').addClass(\"on\");\\r\\n</script>\\r\\n\\r\\n\\t\\t\\t<!-- //contents -->\\r\\n\\t\\t</div>\\r\\n\\t</div>\\r\\n\\t<!-- footer -->\\r\\n\\t<div id=\"footer\" class=\"my_fold\">\\r\\n\\t\\t<div class=\"btn_top_wrap\">\\r\\n\\t\\t\\t<a href=\"#skip_nav\" class=\"btn_top\" title=\"맨 위로 가기\" style=\"\"><span>맨 위로 가기</span></a>\\r\\n\\t\\t</div>\\r\\n\\r\\n\\t\\t\\r\\n\\t\\t<!-- MELONUIT-738 -->\\r\\n\\t\\t<div id=\"popNotice\" class=\"wrap_pop_notice MELONUIT-738\">\\r\\n\\t\\t\\t<div class=\"pop_notice_inner\">\\r\\n\\t\\t\\t\\t<div class=\"bd\">\\r\\n\\t\\t\\t\\t\\t<h1>공정거래위원회로부터 시정명령을 받은 사실의 공표</h1>\\r\\n\\t\\t\\t\\t\\t<div class=\"box\">\\r\\n\\t\\t\\t\\t\\t\\t<div class=\"wrap_notice\">\\r\\n\\t\\t\\t\\t\\t\\t\\t<div class=\"info_cont\">\\r\\n\\t\\t\\t\\t\\t\\t\\t\\t<div class=\"txt01\">\\r\\n\\t\\t\\t\\t\\t\\t\\t\\t\\t<p>저희 주식회사 카카오는 인터넷 사이트 (www.melon.com) 및 스마트 기기 전용 사이버몰인 ‘멜론(Melon)’ 앱을 운영하면서 아래와 같은 행위를 함으로써‘전자상거래 등에서의 소비자보호에 관한 법률’을 위반하였다는 이유로 공정거래위원회로부터 시정명령을 받았습니다.</p>\\r\\n\\t\\t\\t\\t\\t\\t\\t\\t\\t<p class=\"pgh center line\">-&nbsp;&nbsp;&nbsp;아&nbsp;&nbsp;래&nbsp;&nbsp;&nbsp;-</p>\\r\\n\\t\\t\\t\\t\\t\\t\\t\\t\\t<p class=\"pgh\" style=\"margin-top: 0;\">1. 정기결제 상품 이용자들을 대상으로 2016. 9. 22. 부터 2016. 12. 31. 까지 4차례에 걸쳐‘가격인상 동의’프로모션을 진행하면서 가격인상에 미리 동의해야 할인 혜택 연장 등의 혜택을 받을 수 있고 가격인상에 동의하지 않을 경우에는 할인 혜택 연장을 받을 수 없는 것처럼 광고하고 실제로는 가격인상에 동의하지 않는 이용자들에게도 할인혜택을 지속적으로 제공함</p>\\r\\n\\t\\t\\t\\t\\t\\t\\t\\t\\t<p class=\"pgh\">2. 2016. 9. 30. 부터 2017. 8. 31. 까지‘일시정지 해제’프로모션을 진행하면서 정기결제 상품이용자 중 이용량이 많다는 이유로 이용자의 이용권을 일시정지 시켰음에도 불구하고, 음원 이용이 일시정지 된 구체적인 사유를 이용자에게 알리지 않았고, 인상된 가격을 기준으로 할인혜택이 적용된다는 사실과 할인혜택이 종료된 이후에는 인상된 가격이 적용된다는 사실을 제대로 알리지 않음</p>\\r\\n\\t\\t\\t\\t\\t\\t\\t\\t\\t<p class=\"pgh center\" style=\"margin-top: 10px;\" id=\"d_layerPopDateText\"></p>\\r\\n\\t\\t\\t\\t\\t\\t\\t\\t\\t<p class=\"pgh center company\"><strong>주식회사 카카오<br />대표이사 여민수, 조수용</strong></p>\\r\\n\\t\\t\\t\\t\\t\\t\\t\\t</div>\\r\\n\\t\\t\\t\\t\\t\\t\\t</div>\\r\\n\\t\\t\\t\\t\\t\\t</div>\\r\\n\\t\\t\\t\\t\\t\\t<div class=\"bg_top\"></div>\\r\\n\\t\\t\\t\\t\\t\\t<div class=\"bg_bottom\"></div>\\r\\n\\t\\t\\t\\t\\t</div>\\r\\n\\t\\t\\t\\t\\t<div class=\"wrap_input_box\">\\r\\n\\t\\t\\t\\t\\t\\t\\r\\n\\t\\t\\t\\t\\t\\t\\t\\r\\n\\t\\t\\t\\t\\t\\t\\t\\r\\n\\t\\t\\t\\t\\t\\t\\r\\n\\t\\t\\t\\t\\t\\t<button type=\"button\" class=\"d_close\"><span>닫기</span></button>\\r\\n\\t\\t\\t\\t\\t</div>\\r\\n\\t\\t\\t\\t</div>\\r\\n\\t\\t\\t</div>\\r\\n\\t\\t\\t<span class=\"shadow\"></span>\\r\\n\\t\\t</div>\\r\\n\\t\\t<!-- //MELONUIT-738 -->\\r\\n\\r\\n\\t\\t<div class=\"footer_cont\">\\r\\n\\t\\t\\t<div class=\"footer_menu\">\\r\\n<!-- \\t\\t\\t\\t<ul class=\"fl_left\"> -->\\r\\n<!-- \\t\\t\\t\\t\\t<li class=\"menu01 d_melon_ticket\"><a href=\"http://ticket.melon.com/main/index.htm\"><span>MelOn Ticket</span></a></li> -->\\r\\n\\r\\n<!-- \\t\\t\\t\\t\\t<li class=\"menu04\"><a href=\"http://aztweb.melon.com/aztalk/guide/web/main.htm\"><span>aztalk</span></a></li> -->\\r\\n<!-- \\t\\t\\t\\t</ul> -->\\r\\n\\t\\t\\t\\t<ul class=\"fl_right\">\\r\\n\\t\\t\\t\\t\\t<!-- MELONUIT-1799 -->\\r\\n\\t\\t\\t\\t\\t<li class=\"menu05\"><a href=\"//www.melon.com/m6/campaign.htm\"><span>멜론6.0 둘러보기</span></a></li>\\r\\n\\t\\t\\t\\t\\t<!-- //MELONUIT-1799 -->\\r\\n\\t\\t\\t\\t\\t<li class=\"menu10\"><a href=\"//studio.melon.com/\"><span>멜론 스튜디오</span></a></li>\\r\\n\\t\\t\\t\\t\\t<li class=\"menu06\"><a href=\"//www.melon.com/customer/serviceintro/index.htm\"><span>Windows 플레이어</span></a></li><!-- 160824 수정 -->\\r\\n\\t\\t\\t\\t\\t<li class=\"menu07\"><a href=\"//www.melon.com/customer/serviceintro/multi_pc_web.htm\"><span>Mac 플레이어</span></a></li>\\r\\n\\t\\t\\t\\t\\t<li class=\"menu09\"><a href=\"//www.melon.com/customer/serviceintro/ipad.htm\"><span>iPad</span></a></li>\\r\\n\\t\\t\\t\\t\\t<li class=\"menu08\"><a href=\"//faqs2.melon.com/customer/index.htm\"><span>고객센터</span></a></li>\\r\\n\\t\\t\\t\\t</ul>\\r\\n\\t\\t\\t</div>\\r\\n\\t\\t\\t<ul class=\"footer_policy clfix\">\\r\\n\\t\\t\\t\\t<li class=\"first_child\"><a href=\"//www.kakaocorp.com/\" title=\"회사소개 \" target=\"_blank\">회사소개</a></li>\\r\\n\\t\\t\\t\\t<li><a href=\"//info.melon.com/terms/web/terms1_4.html\" title=\"이용약관 \" target=\"_blank\">이용약관</a></li>\\r\\n\\t\\t\\t\\t<li><a href=\"//info.melon.com/terms/web/terms1_3.html\" title=\"위치기반서비스 이용약관 \" target=\"_blank\"><strong>위치기반서비스 이용약관</strong></a></li>\\r\\n\\t\\t\\t\\t<li><a href=\"//info.melon.com/terms/web/terms6.html\" title=\"개인정보처리방침 \" target=\"_blank\"><strong>개인정보처리방침</strong></a></li>\\r\\n\\t\\t\\t\\t<li><a href=\"//info.melon.com/terms/web/terms5_1.html\" title=\"청소년보호정책\" target=\"_blank\">청소년보호정책</a></li>\\r\\n\\t\\t\\t\\t<li><a href=\"//faqs2.melon.com/customer/faq/informFaq.htm?no=1&faqId=QUES20140616000001&SEARCH_KEY=&SEARCH_PAR_CATEGORY=CATE20130909000006&SEARCH_CATEGORY=CATE20130909000021\" title=\"제휴/프로모션문의\">제휴/프로모션문의</a></li>\\r\\n\\t\\t\\t\\t<li><a href=\"javascript:openEmailCollectionReject();\" title=\"이메일주소무단수집거부 \">이메일주소무단수집거부</a></li>\\r\\n\\t\\t\\t\\t<li class=\"last_child\"><a href=\"//partner.melon.com/partrct/login/web/login_loginProcess.htm?t=s\" title=\"파트너센터\" target=\"_blank\">파트너센터</a></li>\\r\\n\\t\\t\\t</ul>\\r\\n\\t\\t\\t<!--160531 수정 lyr-->\\r\\n\\t\\t\\t<p>\\r\\n\\t\\t\\t\\t<!-- UX-1504 -->\\r\\n\\t\\t\\t\\t<span class=\"first\"><strong>(주)카카오</strong>&nbsp;&nbsp;제주특별자치도 제주시 첨단로 242 (영평동)</span>\\r\\n\\t\\t\\t\\t<span>공동대표이사 : 여민수, 조수용</span>\\r\\n\\t\\t\\t\\t<span>사업자등록번호 : 120-81-47521</span>\\r\\n\\t\\t\\t\\t<span>통신판매업신고번호 : 제 2015-제주아라-0032호 <a href=\"http://www.ftc.go.kr/bizCommPop.do?wrkr_no=1208147521&apv_perm_no=2012651005630200009\" title=\"사업자정보확인\" class=\"btn_arrow\" target=\"_blank\">사업자정보확인</a></span>\\r\\n\\t\\t\\t\\t<br />\\r\\n\\t\\t\\t\\t<span class=\"first\">문의전화 : 1566-7727 (평일 09:00-18:00, 유료)</span>\\r\\n\\t\\t\\t\\t<span>이메일 : <a href=\"mailto:melon_info@kakaocorp.com\" class=\"btn_footer_mail\">melon_info@kakaocorp.com</a></span>\\r\\n\\t\\t\\t\\t<span>호스팅서비스사업자 : (주)카카오</span>\\r\\n\\t\\t\\t\\t<span><a href=\"//www.kakaocorp.com/\" class=\"btn_footer_mail\" target=\"_blank\">© Kakao Corp.</a></span>\\r\\n\\t\\t\\t\\t<!-- //UX-1504 -->\\r\\n\\t\\t\\t</p>\\r\\n\\t\\t\\t<!--//160531 수정 lyr-->\\r\\n\\r\\n\\t\\t\\t<!--모바일 웹 버전, 태블릿에서만 적용됨. display none, block 으로 적용-->\\r\\n\\t\\t\\t<!--140602 추가 lyr-->\\r\\n\\t\\t\\t<div class=\"mobile_btn_wrap\" style=\"display:none;\">\\r\\n\\t\\t\\t\\t<p>접속하신 단말/브라우저에서는 멜론 서비스의 사용이 일부 제한될 수 있습니다. 양해부탁드립니다.</p>\\r\\n\\t\\t\\t\\t<a href=\"#\" class=\"btn\" title=\"모바일 웹 버전\">\\r\\n\\t\\t\\t\\t\\t<span class=\"odd_span\">\\r\\n\\t\\t\\t\\t\\t\\t<span class=\"even_span\">모바일 웹 버전</span>\\r\\n\\t\\t\\t\\t\\t</span>\\r\\n\\t\\t\\t\\t</a>\\r\\n\\t\\t\\t</div>\\r\\n\\t\\t\\t<!--//140602 추가 lyr-->\\r\\n\\t\\t</div>\\r\\n\\r\\n\\t\\t<a href=\"#\" class=\"btn_top\" title=\"맨 위로 가기\" style=\"display: none;\">맨 위로 가기</a>\\r\\n\\r\\n<!-- MELONUIT-1148 20200121 ISMS 인증서 팝업 -->\\r\\n<div id=\"pop_isms\" class=\"wrap_pop_notice wrap_pop_isms\">\\r\\n\\t<div class=\"pop_isms_inner\">\\r\\n\\t\\t<h1 class=\"title\">정보보호 및 개인정보보호 관리체계 인증</h1>\\r\\n\\t\\t<div class=\"cntt\">\\r\\n\\t\\t\\t<p class=\"txt01\">정보보호 및 개인정보보호를 위한 일련의 조치와 활동이<br/>인증기준에 적합함을 인터넷진흥원 또는 인증기간이 증명하는 제도</p>\\r\\n\\t\\t\\t<ul class=\"list_isms\">\\r\\n\\t\\t\\t\\t<li>[인증범위]  인터넷 서비스 운영 (카카오, 다음, 멜론)</li>\\r\\n\\t\\t\\t\\t<li>[유효기간]  2019.12.26 ~ 2022.12.25</li>\\r\\n\\t\\t\\t</ul>\\r\\n\\t\\t</div>\\r\\n\\t</div>\\r\\n\\t<button type=\"button\" title=\"닫기\" class=\"btn_close d_close\"><span>닫기</span></button>\\r\\n\\t<span class=\"shadow\"></span>\\r\\n</div>\\r\\n<!-- //MELONUIT-1148 20200121 ISMS 인증서 팝업 -->\\r\\n\\r\\n\\t\\t<script type=\"text/javascript\">\\r\\n\\r\\n\\t\\t\\t$(function() {\\r\\n\\t\\t\\t\\t//favicon 분기 처리\\r\\n\\t\\t\\t\\tvar pocId = MELON.WEBSVC.POC.getPocId();\\r\\n\\t\\t\\t\\tif(\\'AS20\\' == pocId || \\'HT10\\' == pocId){\\r\\n\\t\\t\\t\\t\\t$(\\'link#favicon\\').attr(\\'href\\',\\'//cdnimg.melon.co.kr/resource/mobile40/cds/common/image/favicon.ico\\');\\r\\n\\t\\t\\t\\t\\t$(\\'title\\').text(\\'Melon\\');\\r\\n\\t\\t\\t\\t}else if(\\'IS20\\' == pocId || \\'IT10\\' == pocId){\\r\\n\\t\\t\\t\\t\\t$(\\'link#favicon\\').attr(\\'type\\',\\'\\');\\r\\n\\t\\t\\t\\t\\t$(\\'link#favicon\\').attr(\\'rel\\',\\'apple-touch-icon-precomposed\\');\\r\\n\\t\\t\\t\\t\\t$(\\'link#favicon\\').attr(\\'href\\',\\'//cdnimg.melon.co.kr/resource/mobile40/cds/common/image/mobile_apple_120x120.png\\');\\r\\n\\t\\t\\t\\t\\t$(\\'link#favicon\\').after(\\'<link rel=\"apple-touch-icon-precomposed\" sizes=\"180x180\" href=\"//cdnimg.melon.co.kr/resource/mobile40/cds/common/image/mobile_apple_180x180.png\" />\\');\\r\\n\\t\\t\\t\\t\\t$(\\'title\\').text(\\'Melon\\');\\r\\n\\t\\t\\t\\t}\\r\\n\\r\\n\\r\\n\\t\\t\\t\\t// 엣지 브라우저이고 해당 팝업이 뜬 적이 없는 경우 체크하여 팝업을 띄운다.\\r\\n\\t\\t\\t\\tvar isEdge = (navigator.userAgent.indexOf(\"Edge\") > 0);\\r\\n\\t\\t\\t\\tvar edgeCheckYN = getCookie(\"EDGE_CHECK\") != \\'Y\\';\\r\\n\\r\\n\\r\\n\\t\\t\\t\\t// 타블렛이고 해당 팝업이 뜬 적이 없는 경우 체크하여 팝업을 띄운다.\\r\\n\\t\\t\\t\\tvar tabletCheckYN = getCookie(\"TABLET_CHECK\") != \\'Y\\';\\r\\n\\r\\n\\t\\t\\t\\tif(melon.isTablet() && tabletCheckYN){\\r\\n\\t\\t\\t\\t\\twindow.open(\\'//www.melon.com/error_page/error_tabletTypeA.html\\',\\'tabletPopTypeA\\',\\'scrollbars=no, resizable=no, location=no, width=560, height=483\\');\\r\\n\\t\\t\\t\\t}\\r\\n\\r\\n\\t\\t\\t\\t// 해당 쿠키가 존재하면 쿠키 삭제\\r\\n\\t\\t\\t\\tif(getCookie(\"CHECK_POP\") != \\'\\'){\\r\\n\\t\\t\\t\\t\\t// 체크 후 해당 쿠키는 제거\\r\\n\\t\\t\\t\\t\\tvar expireDate = new Date();\\r\\n\\t\\t\\t\\t\\texpireDate.setDate(expireDate.getDate()-1);\\r\\n\\t\\t\\t\\t\\tdocument.cookie = \"CHECK_POP=;path=/;expires=\"+expireDate.toGMTString()+\";domain=.melon.com\";\\r\\n\\t\\t\\t\\t}\\r\\n\\r\\n\\t\\t\\t\\tif(isMelonLogin()){\\r\\n\\t\\t\\t\\t\\tvar djYn = getMemberDjYn();\\r\\n\\t\\t\\t\\t\\tif(djYn == \"\" || typeof djYn == \"undefined\"){\\r\\n\\t\\t\\t\\t\\t\\ttry {\\r\\n\\t\\t\\t\\t\\t\\t\\t$.ajax({\\r\\n\\t\\t\\t\\t\\t\\t\\t\\turl: \"/gnb/check_melondj.json\",\\r\\n\\t\\t\\t\\t\\t\\t\\t\\ttype : \\'GET\\',\\r\\n\\t\\t\\t\\t\\t\\t\\t\\tdataType: \\'jsonp\\',\\r\\n\\t\\t\\t\\t\\t\\t\\t\\tjsonp: \\'jscallback\\',\\r\\n\\t\\t\\t\\t\\t\\t\\t}).done(function(json) {}).fail(function() {});\\r\\n\\t\\t\\t\\t\\t\\t} catch(e){}\\r\\n\\t\\t\\t\\t\\t}\\r\\n\\t\\t\\t\\t}\\r\\n\\r\\n\\t\\t\\t\\t// 홈탭의 경우 쇼핑/티켓을 새창띄우기로 변경한다.\\r\\n\\t\\t\\t\\tvar fromMPS = getCookie(\"MPS\"); // 멜론 플레이어에서 왔는지 확인.\\r\\n\\t\\t\\t\\tvar fromHomeTab = !(fromMPS == null || fromMPS.indexOf(\"MELONPLAYER\") < 0);\\r\\n\\r\\n\\t\\t\\t\\tif(fromHomeTab){\\r\\n\\t\\t\\t\\t\\t$(\"li.d_melon_shopping a\").removeClass(\"mlog\");\\r\\n\\t\\t\\t\\t\\t$(\"li.d_melon_shopping a\").addClass(\"mlog_without_page_change\");\\r\\n\\t\\t\\t\\t\\t$(\"li.d_melon_shopping a\").attr(\"target\", \"_blank\");\\r\\n\\r\\n\\t\\t\\t\\t\\t$(\"li.d_melon_ticket a\").removeClass(\"mlog\");\\r\\n\\t\\t\\t\\t\\t$(\"li.d_melon_ticket a\").addClass(\"mlog_without_page_change\");\\r\\n\\t\\t\\t\\t\\t$(\"li.d_melon_ticket a\").attr(\"target\", \"_blank\");\\r\\n\\t\\t\\t\\t}\\r\\n\\r\\n\\t\\t\\t\\t$(document).on(\\'limitpopup\\', function( e, cookieId ) {\\r\\n\\t\\t\\t\\t\\t$(\\'#\\'+cookieId).modal();\\r\\n\\t\\t\\t\\t});\\r\\n\\r\\n\\r\\n\\t\\t\\t\\t//레이어 공지 제어\\r\\n\\t\\t\\t\\t//메인만 적용\\r\\n\\t\\t\\t\\t//pcp 홈탭 미적용\\r\\n\\t\\t\\t\\tif(\\'10010101\\' == \\'19041301\\' && !fromHomeTab){\\r\\n\\t\\t\\t\\t\\t$.ajax({\\r\\n\\t\\t\\t\\t\\t\\ttype : \\'GET\\'\\r\\n\\t\\t\\t\\t\\t\\t,url : \\'/main/getTicketPositionProperty.json\\'\\r\\n\\t\\t\\t\\t\\t}).done(function(response) {\\r\\n\\r\\n\\t\\t\\t\\t\\t\\tvar layerPopNotiYn = response.layerPopNotiYn;\\r\\n\\t\\t\\t\\t\\t\\tvar layerPopDateText = response.layerPopDateText;\\r\\n\\t\\t\\t\\t\\t\\tif(layerPopNotiYn == \\'Y\\'){\\r\\n\\t\\t\\t\\t\\t\\t\\t$(\\'#d_layerPopDateText\\').text(layerPopDateText);\\r\\n\\t\\t\\t\\t\\t\\t\\tsetTimeout(function() {\\r\\n\\t\\t\\t\\t\\t\\t\\t\\t$(\"#popNotice\").timeLimitSet({ cookieId:\\'popNotice\\',selectors:{closebtn:\\'#todayChk\\', checkbox:\\'\\'} });\\r\\n\\t\\t\\t\\t\\t\\t\\t},1);\\r\\n\\t\\t\\t\\t\\t\\t\\tMELON.PBPGN.TimeLimitPopup.init({ cookieId:\"popNotice\", serverTime: new Date(), limitType:\"day\" });\\r\\n\\t\\t\\t\\t\\t\\t\\t$(\"#popNotice .d_close\").click(function() {  $(\"#popNotice\").modal(\\'hide\\'); });\\r\\n\\t\\t\\t\\t\\t\\t}\\r\\n\\t\\t\\t\\t\\t});\\r\\n\\t\\t\\t\\t}\\r\\n\\t\\t\\t});\\r\\n\\r\\n\\t\\t\\tfunction goMelonTPage(){\\r\\n\\t\\t\\t\\t//t.com 종료 삭제처리\\r\\n\\t\\t\\t}\\r\\n\\r\\n\\t\\t\\tfunction openEmailCollectionReject(){\\r\\n\\t\\t\\t\\twindow.open(\\'//www.melon.com/emailCollectionReject.html\\',\\'emailCollect\\', \\'scrollbars=no, resizable=no, location=no, width=384, height=331\\');\\r\\n\\t\\t\\t}\\r\\n\\r\\n\\t\\t\\t//MELONUIT-1148 20200121 ISMS 인증서 팝업 //\\r\\n\\t\\t\\tvar popISMS = {\\r\\n\\t\\t\\t\\topen : function() {\\r\\n\\t\\t\\t\\t\\t$(\\'#pop_isms\\').modal(\\'show\\');\\r\\n\\t\\t\\t\\t}\\r\\n\\t\\t\\t};\\r\\n\\r\\n\\t\\t\\t$(document).on(\\'click\\', \\'.popISMS\\',function(){\\r\\n\\t\\t\\t\\tpopISMS.open();\\r\\n\\t\\t\\t});\\r\\n\\t\\t\\t//MELONUIT-1148 20200121 ISMS 인증서 팝업 //\\r\\n\\t\\t</script>\\r\\n\\t\\t<!--//140602 추가 lyr-->\\r\\n\\r\\n\\t</div>\\r\\n\\t<!-- //footer -->\\r\\n</div>\\r\\n</body>\\r\\n</html>\\r\\n'"
      ]
     },
     "metadata": {},
     "execution_count": 3
    }
   ],
   "source": [
    "#PLUS, 인식이 안됨. WHY? 매크로 방지의 이유때문에\n",
    "#      메론주간차트는 구글의 개발자 도구에서 콘솔창에 navigator.userAgent를 입력해서 헤더정보를 가져오고, 호출할 때 이를 기입해야함.\n",
    "url = \"https://www.melon.com/chart/week/index.htm\"\n",
    "header ={'User-Agent':\"Mozilla/5.0 (Windows NT 10.0; Win64; x64) AppleWebKit/537.36 (KHTML, like Gecko) Chrome/91.0.4472.77 Safari/537.36\"}\n",
    "req = requests.get(url, headers=header)\n",
    "html = req.text\n",
    "html "
   ]
  },
  {
   "cell_type": "code",
   "execution_count": 4,
   "metadata": {},
   "outputs": [],
   "source": [
    "#02. BeautifulSoup의 parsing 설정\n",
    "soup = BeautifulSoup(html, \"html.parser\")"
   ]
  },
  {
   "cell_type": "code",
   "execution_count": 13,
   "metadata": {},
   "outputs": [
    {
     "output_type": "execute_result",
     "data": {
      "text/plain": [
       "rame\"></span>\n",
       " </a>\n",
       " </div></td>\n",
       " <td><div class=\"wrap\">\n",
       " <a class=\"btn button_icons type03 song_info\" href=\"javascript:melon.link.goSongDetail('33248758');\" title=\"추억은 만남보다 이별에 남아 곡정보\"><span class=\"none\">곡정보</span></a>\n",
       " </div></td>\n",
       " <td><div class=\"wrap\">\n",
       " <div class=\"wrap_song_info\">\n",
       " <div class=\"ellipsis rank01\"><span>\n",
       " <a href=\"javascript:melon.play.playSong('19041301',33248758);\" title=\"추억은 만남보다 이별에 남아 재생\">추억은 만남보다 이별에 남아</a>\n",
       " </span></div><br/>\n",
       " <div class=\"ellipsis rank02\">\n",
       " <a href=\"javascript:melon.link.goArtistDetail('181188');\" title=\"정동하 - 페이지 이동\">정동하</a><span class=\"checkEllipsis\" style=\"display:none\"><a href=\"javascript:melon.link.goArtistDetail('181188');\" title=\"정동하 - 페이지 이동\">정동하</a></span>\n",
       " </div>\n",
       " </div>\n",
       " </div></td>\n",
       " <td><div class=\"wrap\">\n",
       " <div class=\"wrap_song_info\">\n",
       " <div class=\"ellipsis rank03\">\n",
       " <a href=\"javascript:melon.link.goAlbumDetail('10556610');\" title=\"추억은 만남보다 이별에 남아 - 페이지 이동\">추억은 만남보다 이별에 남아</a>\n",
       " </div>\n",
       " </div>\n",
       " </div></td>\n",
       " <td><div class=\"wrap\">\n",
       " <button class=\"button_etc like\" data-song-menuid=\"19041301\" data-song-no=\"33248758\" title=\"추억은 만남보다 이별에 남아 좋아요\" type=\"button\">\n",
       " <span class=\"odd_span\">좋아요</span>\n",
       " <span class=\"cnt\">\n",
       " <span class=\"none\">총건수</span>\n",
       " \t\t\t\t\t\t\t\t\t\t\t\t0\n",
       " \t\t\t\t\t\t\t\t\t\t\t</span>\n",
       " </button>\n",
       " </div></td>\n",
       " <td><div class=\"wrap t_center\">\n",
       " <button class=\"button_icons play\" onclick=\"melon.play.playSong('19041301',33248758);\" title=\"듣기\" type=\"button\"><span class=\"none\">듣기</span></button>\n",
       " </div></td>\n",
       " <td><div class=\"wrap t_center\">\n",
       " <button class=\"button_icons scrap\" onclick=\"melon.play.addPlayList('33248758');\" title=\"담기\" type=\"button\"><span class=\"none\">담기</span></button>\n",
       " </div></td>\n",
       " <td><div class=\"wrap t_center\">\n",
       " <button class=\"button_icons download\" onclick=\"melon.buy.goBuyProduct('frm', '33248758', '3C0001', '','0', '19041301');\" title=\"다운로드\" type=\"button\"><span class=\"none\">다운로드</span></button>\n",
       " </div></td>\n",
       " <td><div class=\"wrap t_center\">\n",
       " <button class=\"button_icons video\" onclick=\"melon.link.goMvDetail('19041301', '33248758','song');\" title=\"뮤직비디오\" type=\"button\"><span class=\"none\">뮤직비디오</span></button>\n",
       " </div></td>\n",
       " </tr>,\n",
       " <tr class=\"lst50\" data-song-no=\"33107649\" id=\"lst50\">\n",
       " <td><div class=\"wrap t_right\"><input class=\"input_check\" name=\"input_check\" title=\"그날에 나는 맘이 편했을까 곡 선택\" type=\"checkbox\" value=\"33107649\"/></div></td>\n",
       " <td><div class=\"wrap t_center\"><span class=\"rank\">45</span><span class=\"none\">위</span></div></td>\n",
       " <!-- 차트순위 추가 -->\n",
       " <td><div class=\"wrap\">\n",
       " <span class=\"rank_wrap\" title=\"4단계 하락\">\n",
       " <span class=\"bullet_icons rank_down\"><span class=\"none\">단계 하락</span></span>\n",
       " <span class=\"down\">4</span>\n",
       " </span>\n",
       " </div></td>\n",
       " <td><div class=\"wrap\">\n",
       " <a class=\"image_typeAll\" href=\"javascript:melon.link.goAlbumDetail('10527955');\" title=\"그날에 나는 맘이 편했을까\">\n",
       " <img alt=\"그날에 나는 맘이 편했을까 - 페이지 이동\" height=\"60\" onerror=\"WEBPOCIMG.defaultAlbumImg(this);\" src=\"https://cdnimg.melon.co.kr/cm2/album/images/105/27/955/10527955_20201202190217_500.jpg/melon/resize/120/quality/80/optimize\" width=\"60\"/>\n",
       " <span class=\"bg_album_frame\"></span>\n",
       " </a>\n",
       " </div></td>\n",
       " <td><div class=\"wrap\">\n",
       " <a class=\"btn button_icons type03 song_info\" href=\"javascript:melon.link.goSongDetail('33107649');\" title=\"그날에 나는 맘이 편했을까 곡정보\"><span class=\"none\">곡정보</span></a>\n",
       " </div></td>\n",
       " <td><div class=\"wrap\">\n",
       " <div class=\"wrap_song_info\">\n",
       " <div class=\"ellipsis rank01\"><span>\n",
       " <a href=\"javascript:melon.play.playSong('19041301',33107649);\" title=\"그날에 나는 맘이 편했을까 재생\">그날에 나는 맘이 편했을까</a>\n",
       " </span></div><br/>\n",
       " <div class=\"ellipsis rank02\">\n",
       " <a href=\"javascript:melon.link.goArtistDetail('718655');\" title=\"이예준 - 페이지 이동\">이예준</a><span class=\"checkEllipsis\" style=\"display:none\"><a href=\"javascript:melon.link.goArtistDetail('718655');\" title=\"이예준 - 페이지 이동\">이예준</a></span>\n",
       " </div>\n",
       " </div>\n",
       " </div></td>\n",
       " <td><div class=\"wrap\">\n",
       " <div class=\"wrap_song_info\">\n",
       " <div class=\"ellipsis rank03\">\n",
       " <a href=\"javascript:melon.link.goAlbumDetail('10527955');\" title=\"그날에 나는 맘이 편했을까 - 페이지 이동\">그날에 나는 맘이 편했을까</a>\n",
       " </div>\n",
       " </div>\n",
       " </div></td>\n",
       " <td><div class=\"wrap\">\n",
       " <button class=\"button_etc like\" data-song-menuid=\"19041301\" data-song-no=\"33107649\" title=\"그날에 나는 맘이 편했을까 좋아요\" type=\"button\">\n",
       " <span class=\"odd_span\">좋아요</span>\n",
       " <span class=\"cnt\">\n",
       " <span class=\"none\">총건수</span>\n",
       " \t\t\t\t\t\t\t\t\t\t\t\t0\n",
       " \t\t\t\t\t\t\t\t\t\t\t</span>\n",
       " </button>\n",
       " </div></td>\n",
       " <td><div class=\"wrap t_center\">\n",
       " <button class=\"button_icons play\" onclick=\"melon.play.playSong('19041301',33107649);\" title=\"듣기\" type=\"button\"><span class=\"none\">듣기</span></button>\n",
       " </div></td>\n",
       " <td><div class=\"wrap t_center\">\n",
       " <button class=\"button_icons scrap\" onclick=\"melon.play.addPlayList('33107649');\" title=\"담기\" type=\"button\"><span class=\"none\">담기</span></button>\n",
       " </div></td>\n",
       " <td><div class=\"wrap t_center\">\n",
       " <button class=\"button_icons download\" onclick=\"melon.buy.goBuyProduct('frm', '33107649', '3C0001', '','0', '19041301');\" title=\"다운로드\" type=\"button\"><span class=\"none\">다운로드</span></button>\n",
       " </div></td>\n",
       " <td><div class=\"wrap t_center\">\n",
       " <button class=\"button_icons video\" onclick=\"melon.link.goMvDetail('19041301', '33107649','song');\" title=\"뮤직비디오\" type=\"button\"><span class=\"none\">뮤직비디오</span></button>\n",
       " </div></td>\n",
       " </tr>,\n",
       " <tr class=\"lst50\" data-song-no=\"32003395\" id=\"lst50\">\n",
       " <td><div class=\"wrap t_right\"><input class=\"input_check\" name=\"input_check\" title=\"흔들리는 꽃들 속에서 네 샴푸향이 느껴진거야 곡 선택\" type=\"checkbox\" value=\"32003395\"/></div></td>\n",
       " <td><div class=\"wrap t_center\"><span class=\"rank\">46</span><span class=\"none\">위</span></div></td>\n",
       " <!-- 차트순위 추가 -->\n",
       " <td><div class=\"wrap\">\n",
       " <span class=\"rank_wrap\" title=\"8단계 하락\">\n",
       " <span class=\"bullet_icons rank_down\"><span class=\"none\">단계 하락</span></span>\n",
       " <span class=\"down\">8</span>\n",
       " </span>\n",
       " </div></td>\n",
       " <td><div class=\"wrap\">\n",
       " <a class=\"image_typeAll\" href=\"javascript:melon.link.goAlbumDetail('10320500');\" title=\"멜로가 체질 OST Part 3\">\n",
       " <img alt=\"멜로가 체질 OST Part 3 - 페이지 이동\" height=\"60\" onerror=\"WEBPOCIMG.defaultAlbumImg(this);\" src=\"https://cdnimg.melon.co.kr/cm2/album/images/103/20/500/10320500_500.jpg/melon/resize/120/quality/80/optimize\" width=\"60\"/>\n",
       " <span class=\"bg_album_frame\"></span>\n",
       " </a>\n",
       " </div></td>\n",
       " <td><div class=\"wrap\">\n",
       " <a class=\"btn button_icons type03 song_info\" href=\"javascript:melon.link.goSongDetail('32003395');\" title=\"흔들리는 꽃들 속에서 네 샴푸향이 느껴진거야 곡정보\"><span class=\"none\">곡정보</span></a>\n",
       " </div></td>\n",
       " <td><div class=\"wrap\">\n",
       " <div class=\"wrap_song_info\">\n",
       " <div class=\"ellipsis rank01\"><span>\n",
       " <a href=\"javascript:melon.play.playSong('19041301',32003395);\" title=\"흔들리는 꽃들 속에서 네 샴푸향이 느껴진거야 재생\">흔들리는 꽃들 속에서 네 샴푸향이 느껴진거야</a>\n",
       " </span></div><br/>\n",
       " <div class=\"ellipsis rank02\">\n",
       " <a href=\"javascript:melon.link.goArtistDetail('648551');\" title=\"장범준 - 페이지 이동\">장범준</a><span class=\"checkEllipsis\" style=\"display:none\"><a href=\"javascript:melon.link.goArtistDetail('648551');\" title=\"장범준 - 페이지 이동\">장범준</a></span>\n",
       " </div>\n",
       " </div>\n",
       " </div></td>\n",
       " <td><div class=\"wrap\">\n",
       " <div class=\"wrap_song_info\">\n",
       " <div class=\"ellipsis rank03\">\n",
       " <a href=\"javascript:melon.link.goAlbumDetail('10320500');\" title=\"멜로가 체질 OST Part 3 - 페이지 이동\">멜로가 체질 OST Part 3</a>\n",
       " </div>\n",
       " </div>\n",
       " </div></td>\n",
       " <td><div class=\"wrap\">\n",
       " <button class=\"button_etc like\" data-song-menuid=\"19041301\" data-song-no=\"32003395\" title=\"흔들리는 꽃들 속에서 네 샴푸향이 느껴진거야 좋아요\" type=\"button\">\n",
       " <span class=\"odd_span\">좋아요</span>\n",
       " <span class=\"cnt\">\n",
       " <span class=\"none\">총건수</span>\n",
       " \t\t\t\t\t\t\t\t\t\t\t\t0\n",
       " \t\t\t\t\t\t\t\t\t\t\t</span>\n",
       " </button>\n",
       " </div></td>\n",
       " <td><div class=\"wrap t_center\">\n",
       " <button class=\"button_icons play\" onclick=\"melon.play.playSong('19041301',32003395);\" title=\"듣기\" type=\"button\"><span class=\"none\">듣기</span></button>\n",
       " </div></td>\n",
       " <td><div class=\"wrap t_center\">\n",
       " <button class=\"button_icons scrap\" onclick=\"melon.play.addPlayList('32003395');\" title=\"담기\" type=\"button\"><span class=\"none\">담기</span></button>\n",
       " </div></td>\n",
       " <td><div class=\"wrap t_center\">\n",
       " <button class=\"button_icons download\" onclick=\"melon.buy.goBuyProduct('frm', '32003395', '3C0001', '','0', '19041301');\" title=\"다운로드\" type=\"button\"><span class=\"none\">다운로드</span></button>\n",
       " </div></td>\n",
       " <td><div class=\"wrap t_center\">\n",
       " <button class=\"button_icons video\" onclick=\"melon.link.goMvDetail('19041301', '32003395','song');\" title=\"뮤직비디오\" type=\"button\"><span class=\"none\">뮤직비디오</span></button>\n",
       " </div></td>\n",
       " </tr>,\n",
       " <tr class=\"lst50\" data-song-no=\"711626\" id=\"lst50\">\n",
       " <td><div class=\"wrap t_right\"><input class=\"input_check\" name=\"input_check\" title=\"살다가 곡 선택\" type=\"checkbox\" value=\"711626\"/></div></td>\n",
       " <td><div class=\"wrap t_center\"><span class=\"rank\">47</span><span class=\"none\">위</span></div></td>\n",
       " <!-- 차트순위 추가 -->\n",
       " <td><div class=\"wrap\">\n",
       " <span class=\"rank_wrap\" title=\"12단계 하락\">\n",
       " <span class=\"bullet_icons rank_down\"><span class=\"none\">단계 하락</span></span>\n",
       " <span class=\"down\">12</span>\n",
       " </span>\n",
       " </div></td>\n",
       " <td><div class=\"wrap\">\n",
       " <a class=\"image_typeAll\" href=\"javascript:melon.link.goAlbumDetail('50578');\" title=\"살다가\">\n",
       " <img alt=\"살다가 - 페이지 이동\" height=\"60\" onerror=\"WEBPOCIMG.defaultAlbumImg(this);\" src=\"https://cdnimg.melon.co.kr/cm/album/images/000/50/578/50578_500.jpg/melon/resize/120/quality/80/optimize\" width=\"60\"/>\n",
       " <span class=\"bg_album_frame\"></span>\n",
       " </a>\n",
       " </div></td>\n",
       " <td><div class=\"wrap\">\n",
       " <a class=\"btn button_icons type03 song_info\" href=\"javascript:melon.link.goSongDetail('711626');\" title=\"살다가 곡정보\"><span class=\"none\">곡정보</span></a>\n",
       " </div></td>\n",
       " <td><div class=\"wrap\">\n",
       " <div class=\"wrap_song_info\">\n",
       " <div class=\"ellipsis rank01\"><span>\n",
       " <a href=\"javascript:melon.play.playSong('19041301',711626);\" title=\"살다가 재생\">살다가</a>\n",
       " </span></div><br/>\n",
       " <div class=\"ellipsis rank02\">\n",
       " <a href=\"javascript:melon.link.goArtistDetail('108363');\" title=\"SG 워너비 - 페이지 이동\">SG 워너비</a><span class=\"checkEllipsis\" style=\"display:none\"><a href=\"javascript:melon.link.goArtistDetail('108363');\" title=\"SG 워너비 - 페이지 이동\">SG 워너비</a></span>\n",
       " </div>\n",
       " </div>\n",
       " </div></td>\n",
       " <td><div class=\"wrap\">\n",
       " <div class=\"wrap_song_info\">\n",
       " <div class=\"ellipsis rank03\">\n",
       " <a href=\"javascript:melon.link.goAlbumDetail('50578');\" title=\"살다가 - 페이지 이동\">살다가</a>\n",
       " </div>\n",
       " </div>\n",
       " </div></td>\n",
       " <td><div class=\"wrap\">\n",
       " <button class=\"button_etc like\" data-song-menuid=\"19041301\" data-song-no=\"711626\" title=\"살다가 좋아요\" type=\"button\">\n",
       " <span class=\"odd_span\">좋아요</span>\n",
       " <span class=\"cnt\">\n",
       " <span class=\"none\">총건수</span>\n",
       " \t\t\t\t\t\t\t\t\t\t\t\t0\n",
       " \t\t\t\t\t\t\t\t\t\t\t</span>\n",
       " </button>\n",
       " </div></td>\n",
       " <td><div class=\"wrap t_center\">\n",
       " <button class=\"button_icons play\" onclick=\"melon.play.playSong('19041301',711626);\" title=\"듣기\" type=\"button\"><span class=\"none\">듣기</span></button>\n",
       " </div></td>\n",
       " <td><div class=\"wrap t_center\">\n",
       " <button class=\"button_icons scrap\" onclick=\"melon.play.addPlayList('711626');\" title=\"담기\" type=\"button\"><span class=\"none\">담기</span></button>\n",
       " </div></td>\n",
       " <td><div class=\"wrap t_center\">\n",
       " <button class=\"button_icons download\" onclick=\"melon.buy.goBuyProduct('frm', '711626', '3C0001', '','0', '19041301');\" title=\"다운로드\" type=\"button\"><span class=\"none\">다운로드</span></button>\n",
       " </div></td>\n",
       " <td><div class=\"wrap t_center\">\n",
       " <button class=\"button_icons video\" onclick=\"melon.link.goMvDetail('19041301', '711626','song');\" title=\"뮤직비디오\" type=\"button\"><span class=\"none\">뮤직비디오</span></button>\n",
       " </div></td>\n",
       " </tr>,\n",
       " <tr class=\"lst50\" data-song-no=\"3894276\" id=\"lst50\">\n",
       " <td><div class=\"wrap t_right\"><input class=\"input_check\" name=\"input_check\" title=\"오래된 노래 곡 선택\" type=\"checkbox\" value=\"3894276\"/></div></td>\n",
       " <td><div class=\"wrap t_center\"><span class=\"rank\">48</span><span class=\"none\">위</span></div></td>\n",
       " <!-- 차트순위 추가 -->\n",
       " <td><div class=\"wrap\">\n",
       " <span class=\"rank_wrap\" title=\"4단계 하락\">\n",
       " <span class=\"bullet_icons rank_down\"><span class=\"none\">단계 하락</span></span>\n",
       " <span class=\"down\">4</span>\n",
       " </span>\n",
       " </div></td>\n",
       " <td><div class=\"wrap\">\n",
       " <a class=\"image_typeAll\" href=\"javascript:melon.link.goAlbumDetail('2148596');\" title=\"오래된 노래\">\n",
       " <img alt=\"오래된 노래 - 페이지 이동\" height=\"60\" onerror=\"WEBPOCIMG.defaultAlbumImg(this);\" src=\"https://cdnimg.melon.co.kr/cm/album/images/021/48/596/2148596_500.jpg/melon/resize/120/quality/80/optimize\" width=\"60\"/>\n",
       " <span class=\"bg_album_frame\"></span>\n",
       " </a>\n",
       " </div></td>\n",
       " <td><div class=\"wrap\">\n",
       " <a class=\"btn button_icons type03 song_info\" href=\"javascript:melon.link.goSongDetail('3894276');\" title=\"오래된 노래 곡정보\"><span class=\"none\">곡정보</span></a>\n",
       " </div></td>\n",
       " <td><div class=\"wrap\">\n",
       " <div class=\"wrap_song_info\">\n",
       " <div class=\"ellipsis rank01\"><span>\n",
       " <a href=\"javascript:melon.play.playSong('19041301',3894276);\" title=\"오래된 노래 재생\">오래된 노래</a>\n",
       " </span></div><br/>\n",
       " <div class=\"ellipsis rank02\">\n",
       " <a href=\"javascript:melon.link.goArtistDetail('467880');\" title=\"스탠딩 에그 - 페이지 이동\">스탠딩 에그</a><span class=\"checkEllipsis\" style=\"display:none\"><a href=\"javascript:melon.link.goArtistDetail('467880');\" title=\"스탠딩 에그 - 페이지 이동\">스탠딩 에그</a></span>\n",
       " </div>\n",
       " </div>\n",
       " </div></td>\n",
       " <td><div class=\"wrap\">\n",
       " <div class=\"wrap_song_info\">\n",
       " <div class=\"ellipsis rank03\">\n",
       " <a href=\"javascript:melon.link.goAlbumDetail('2148596');\" title=\"오래된 노래 - 페이지 이동\">오래된 노래</a>\n",
       " </div>\n",
       " </div>\n",
       " </div></td>\n",
       " <td><div class=\"wrap\">\n",
       " <button class=\"button_etc like\" data-song-menuid=\"19041301\" data-song-no=\"3894276\" title=\"오래된 노래 좋아요\" type=\"button\">\n",
       " <span class=\"odd_span\">좋아요</span>\n",
       " <span class=\"cnt\">\n",
       " <span class=\"none\">총건수</span>\n",
       " \t\t\t\t\t\t\t\t\t\t\t\t0\n",
       " \t\t\t\t\t\t\t\t\t\t\t</span>\n",
       " </button>\n",
       " </div></td>\n",
       " <td><div class=\"wrap t_center\">\n",
       " <button class=\"button_icons play\" onclick=\"melon.play.playSong('19041301',3894276);\" title=\"듣기\" type=\"button\"><span class=\"none\">듣기</span></button>\n",
       " </div></td>\n",
       " <td><div class=\"wrap t_center\">\n",
       " <button class=\"button_icons scrap\" onclick=\"melon.play.addPlayList('3894276');\" title=\"담기\" type=\"button\"><span class=\"none\">담기</span></button>\n",
       " </div></td>\n",
       " <td><div class=\"wrap t_center\">\n",
       " <button class=\"button_icons download\" onclick=\"melon.buy.goBuyProduct('frm', '3894276', '3C0001', '','0', '19041301');\" title=\"다운로드\" type=\"button\"><span class=\"none\">다운로드</span></button>\n",
       " </div></td>\n",
       " <td><div class=\"wrap t_center\">\n",
       " <button class=\"button_icons video disabled\" disabled=\"disabled\" onclick=\"melon.link.goMvDetail('19041301', '3894276','song');\" title=\"뮤직비디오\" type=\"button\"><span class=\"none\">뮤직비디오</span></button>\n",
       " </div></td>\n",
       " </tr>,\n",
       " <tr class=\"lst50\" data-song-no=\"32224272\" id=\"lst50\">\n",
       " <td><div class=\"wrap t_right\"><input class=\"input_check\" name=\"input_check\" title=\"METEOR 곡 선택\" type=\"checkbox\" value=\"32224272\"/></div></td>\n",
       " <td><div class=\"wrap t_center\"><span class=\"rank\">49</span><span class=\"none\">위</span></div></td>\n",
       " <!-- 차트순위 추가 -->\n",
       " <td><div class=\"wrap\">\n",
       " <span class=\"rank_wrap\" title=\"1단계 하락\">\n",
       " <span class=\"bullet_icons rank_down\"><span class=\"none\">단계 하락</span></span>\n",
       " <span class=\"down\">1</span>\n",
       " </span>\n",
       " </div></td>\n",
       " <td><div class=\"wrap\">\n",
       " <a class=\"image_typeAll\" href=\"javascript:melon.link.goAlbumDetail('10359162');\" title=\"Boyhood\">\n",
       " <img alt=\"Boyhood - 페이지 이동\" height=\"60\" onerror=\"WEBPOCIMG.defaultAlbumImg(this);\" src=\"https://cdnimg.melon.co.kr/cm2/album/images/103/59/162/10359162_500.jpg/melon/resize/120/quality/80/optimize\" width=\"60\"/>\n",
       " <span class=\"bg_album_frame\"></span>\n",
       " </a>\n",
       " </div></td>\n",
       " <td><div class=\"wrap\">\n",
       " <a class=\"btn button_icons type03 song_info\" href=\"javascript:melon.link.goSongDetail('32224272');\" title=\"METEOR 곡정보\"><span class=\"none\">곡정보</span></a>\n",
       " </div></td>\n",
       " <td><div class=\"wrap\">\n",
       " <div class=\"wrap_song_info\">\n",
       " <div class=\"ellipsis rank01\"><span>\n",
       " <a href=\"javascript:melon.play.playSong('19041301',32224272);\" title=\"METEOR 재생\">METEOR</a>\n",
       " </span></div><br/>\n",
       " <div class=\"ellipsis rank02\">\n",
       " <a href=\"javascript:melon.link.goArtistDetail('774900');\" title=\"창모 (CHANGMO) - 페이지 이동\">창모 (CHANGMO)</a><span class=\"checkEllipsis\" style=\"display:none\"><a href=\"javascript:melon.link.goArtistDetail('774900');\" title=\"창모 (CHANGMO) - 페이지 이동\">창모 (CHANGMO)</a></span>\n",
       " </div>\n",
       " </div>\n",
       " </div></td>\n",
       " <td><div class=\"wrap\">\n",
       " <div class=\"wrap_song_info\">\n",
       " <div class=\"ellipsis rank03\">\n",
       " <a href=\"javascript:melon.link.goAlbumDetail('10359162');\" title=\"Boyhood - 페이지 이동\">Boyhood</a>\n",
       " </div>\n",
       " </div>\n",
       " </div></td>\n",
       " <td><div class=\"wrap\">\n",
       " <button class=\"button_etc like\" data-song-menuid=\"19041301\" data-song-no=\"32224272\" title=\"METEOR 좋아요\" type=\"button\">\n",
       " <span class=\"odd_span\">좋아요</span>\n",
       " <span class=\"cnt\">\n",
       " <span class=\"none\">총건수</span>\n",
       " \t\t\t\t\t\t\t\t\t\t\t\t0\n",
       " \t\t\t\t\t\t\t\t\t\t\t</span>\n",
       " </button>\n",
       " </div></td>\n",
       " <td><div class=\"wrap t_center\">\n",
       " <button class=\"button_icons play\" onclick=\"melon.play.playSong('19041301',32224272);\" title=\"듣기\" type=\"button\"><span class=\"none\">듣기</span></button>\n",
       " </div></td>\n",
       " <td><div class=\"wrap t_center\">\n",
       " <button class=\"button_icons scrap\" onclick=\"melon.play.addPlayList('32224272');\" title=\"담기\" type=\"button\"><span class=\"none\">담기</span></button>\n",
       " </div></td>\n",
       " <td><div class=\"wrap t_center\">\n",
       " <button class=\"button_icons download\" onclick=\"melon.buy.goBuyProduct('frm', '32224272', '3C0001', '','0', '19041301');\" title=\"다운로드\" type=\"button\"><span class=\"none\">다운로드</span></button>\n",
       " </div></td>\n",
       " <td><div class=\"wrap t_center\">\n",
       " <button class=\"button_icons video\" onclick=\"melon.link.goMvDetail('19041301', '32224272','song');\" title=\"뮤직비디오\" type=\"button\"><span class=\"none\">뮤직비디오</span></button>\n",
       " </div></td>\n",
       " </tr>,\n",
       " <tr class=\"lst50\" data-song-no=\"31029291\" id=\"lst50\">\n",
       " <td><div class=\"wrap t_right\"><input class=\"input_check\" name=\"input_check\" title=\"2002 곡 선택\" type=\"checkbox\" value=\"31029291\"/></div></td>\n",
       " <td><div class=\"wrap t_center\"><span class=\"rank\">50</span><span class=\"none\">위</span></div></td>\n",
       " <!-- 차트순위 추가 -->\n",
       " <td><div class=\"wrap\">\n",
       " <span class=\"rank_wrap\" title=\"3단계 하락\">\n",
       " <span class=\"bullet_icons rank_down\"><span class=\"none\">단계 하락</span></span>\n",
       " <span class=\"down\">3</span>\n",
       " </span>\n",
       " </div></td>\n",
       " <td><div class=\"wrap\">\n",
       " <a class=\"image_typeAll\" href=\"javascript:melon.link.goAlbumDetail('10137250');\" title=\"Speak Your Mind (Deluxe)\">\n",
       " <img alt=\"Speak Your Mind (Deluxe) - 페이지 이동\" height=\"60\" onerror=\"WEBPOCIMG.defaultAlbumImg(this);\" src=\"https://cdnimg.melon.co.kr/cm/album/images/101/37/250/10137250_500.jpg/melon/resize/120/quality/80/optimize\" width=\"60\"/>\n",
       " <span class=\"bg_album_frame\"></span>\n",
       " </a>\n",
       " </div></td>\n",
       " <td><div class=\"wrap\">\n",
       " <a class=\"btn button_icons type03 song_info\" href=\"javascript:melon.link.goSongDetail('31029291');\" title=\"2002 곡정보\"><span class=\"none\">곡정보</span></a>\n",
       " </div></td>\n",
       " <td><div class=\"wrap\">\n",
       " <div class=\"wrap_song_info\">\n",
       " <div class=\"ellipsis rank01\"><span>\n",
       " <a href=\"javascript:melon.play.playSong('19041301',31029291);\" title=\"2002 재생\">2002</a>\n",
       " </span></div><br/>\n",
       " <div class=\"ellipsis rank02\">\n",
       " <a href=\"javascript:melon.link.goArtistDetail('870307');\" title=\"Anne-Marie - 페이지 이동\">Anne-Marie</a><span class=\"checkEllipsis\" style=\"display:none\"><a href=\"javascript:melon.link.goArtistDetail('870307');\" title=\"Anne-Marie - 페이지 이동\">Anne-Marie</a></span>\n",
       " </div>\n",
       " </div>\n",
       " </div></td>\n",
       " <td><div class=\"wrap\">\n",
       " <div class=\"wrap_song_info\">\n",
       " <div class=\"ellipsis rank03\">\n",
       " <a href=\"javascript:melon.link.goAlbumDetail('10137250');\" title=\"Speak Your Mind (Deluxe) - 페이지 이동\">Speak Your Mind (Deluxe)</a>\n",
       " </div>\n",
       " </div>\n",
       " </div></td>\n",
       " <td><div class=\"wrap\">\n",
       " <button class=\"button_etc like\" data-song-menuid=\"19041301\" data-song-no=\"31029291\" title=\"2002 좋아요\" type=\"button\">\n",
       " <span class=\"odd_span\">좋아요</span>\n",
       " <span class=\"cnt\">\n",
       " <span class=\"none\">총건수</span>\n",
       " \t\t\t\t\t\t\t\t\t\t\t\t0\n",
       " \t\t\t\t\t\t\t\t\t\t\t</span>\n",
       " </button>\n",
       " </div></td>\n",
       " <td><div class=\"wrap t_center\">\n",
       " <button class=\"button_icons play\" onclick=\"melon.play.playSong('19041301',31029291);\" title=\"듣기\" type=\"button\"><span class=\"none\">듣기</span></button>\n",
       " </div></td>\n",
       " <td><div class=\"wrap t_center\">\n",
       " <button class=\"button_icons scrap\" onclick=\"melon.play.addPlayList('31029291');\" title=\"담기\" type=\"button\"><span class=\"none\">담기</span></button>\n",
       " </div></td>\n",
       " <td><div class=\"wrap t_center\">\n",
       " <button class=\"button_icons download\" onclick=\"melon.buy.goBuyProduct('frm', '31029291', '3C0001', '','0', '19041301');\" title=\"다운로드\" type=\"button\"><span class=\"none\">다운로드</span></button>\n",
       " </div></td>\n",
       " <td><div class=\"wrap t_center\">\n",
       " <button class=\"button_icons video\" onclick=\"melon.link.goMvDetail('19041301', '31029291','song');\" title=\"뮤직비디오\" type=\"button\"><span class=\"none\">뮤직비디오</span></button>\n",
       " </div></td>\n",
       " </tr>]"
      ]
     },
     "metadata": {},
     "execution_count": 13
    }
   ],
   "source": [
    "#03. html의 태그에서 class값을 통해 데이터(태그) 추출하기.\n",
    "trs = soup.select('.lst50')\n",
    "trs"
   ]
  },
  {
   "cell_type": "code",
   "execution_count": 14,
   "metadata": {},
   "outputs": [
    {
     "output_type": "execute_result",
     "data": {
      "text/plain": [
       "50"
      ]
     },
     "metadata": {},
     "execution_count": 14
    }
   ],
   "source": [
    "#PLUS, trs 태그 내 데이터 개수가 50개인 것으로 보아 제대로 추출됐음을 확인할 수 있음.\n",
    "len(trs)"
   ]
  },
  {
   "cell_type": "code",
   "execution_count": 15,
   "metadata": {},
   "outputs": [
    {
     "output_type": "execute_result",
     "data": {
      "text/plain": [
       "bs4.element.ResultSet"
      ]
     },
     "metadata": {},
     "execution_count": 15
    }
   ],
   "source": [
    "#TIP. trs 데이터의 유형\n",
    "type(trs)"
   ]
  },
  {
   "cell_type": "code",
   "execution_count": 76,
   "metadata": {},
   "outputs": [
    {
     "output_type": "execute_result",
     "data": {
      "text/plain": [
       "<span class=\"rank\">1</span>"
      ]
     },
     "metadata": {},
     "execution_count": 76
    }
   ],
   "source": [
    "#04. trs 태그에서 필요 데이터 추출하기.\n",
    "#(1) 1위 곡의 순위 추출하기.\n",
    "#①trs 태그에서 rank 클래스를 추출하기.\n",
    "rank = trs[0].select_one('.rank')\n",
    "rank"
   ]
  },
  {
   "cell_type": "code",
   "execution_count": 79,
   "metadata": {},
   "outputs": [
    {
     "output_type": "execute_result",
     "data": {
      "text/plain": [
       "1"
      ]
     },
     "metadata": {},
     "execution_count": 79
    }
   ],
   "source": [
    "#②값에서 get_text() 메서드를 이용해 문자열만 추출하기.\n",
    "rank = trs[0].select_one('.rank').get_text()\n",
    "rank = int(rank)\n",
    "rank"
   ]
  },
  {
   "cell_type": "code",
   "execution_count": 81,
   "metadata": {},
   "outputs": [
    {
     "output_type": "execute_result",
     "data": {
      "text/plain": [
       "1"
      ]
     },
     "metadata": {},
     "execution_count": 81
    }
   ],
   "source": [
    "#PLUS. string을 통해서도 문자열을 추출할 수 있음. \n",
    "rank_2 = trs[0].select_one('.rank').get_text()\n",
    "rank_2 = int(rank_2)\n",
    "rank_2"
   ]
  },
  {
   "cell_type": "code",
   "execution_count": 19,
   "metadata": {},
   "outputs": [
    {
     "output_type": "execute_result",
     "data": {
      "text/plain": [
       "'Butter'"
      ]
     },
     "metadata": {},
     "execution_count": 19
    }
   ],
   "source": [
    "#(2) 1위 곡의 이름 추출하기. \n",
    "title = trs[0].select_one(\".ellipsis.rank01\")\n",
    "title = title.find(\"a\").get_text()\n",
    "title"
   ]
  },
  {
   "cell_type": "code",
   "execution_count": 20,
   "metadata": {},
   "outputs": [
    {
     "output_type": "execute_result",
     "data": {
      "text/plain": [
       "'방탄소년단'"
      ]
     },
     "metadata": {},
     "execution_count": 20
    }
   ],
   "source": [
    "#(3) 1위 곡의 가수이름 추출하기. \n",
    "artist = trs[0].select_one(\".ellipsis.rank02\")\n",
    "artist = artist.find('a').get_text()\n",
    "artist"
   ]
  },
  {
   "cell_type": "code",
   "execution_count": 22,
   "metadata": {},
   "outputs": [
    {
     "output_type": "execute_result",
     "data": {
      "text/plain": [
       "'Butter'"
      ]
     },
     "metadata": {},
     "execution_count": 22
    }
   ],
   "source": [
    "#(4) 1위 곡의 앨범명 추출하기.\n",
    "album = trs[0].select_one(\".ellipsis.rank03\")\n",
    "album = album.find('a').string\n",
    "album"
   ]
  },
  {
   "cell_type": "code",
   "execution_count": 50,
   "metadata": {},
   "outputs": [
    {
     "output_type": "execute_result",
     "data": {
      "text/plain": [
       "<a class=\"image_typeAll\" href=\"javascript:melon.link.goAlbumDetail('10612483');\" title=\"Butter\">\n",
       "<img alt=\"Butter - 페이지 이동\" height=\"60\" onerror=\"WEBPOCIMG.defaultAlbumImg(this);\" src=\"https://cdnimg.melon.co.kr/cm2/album/images/106/12/483/10612483_20210521111412_500.jpg/melon/resize/120/quality/80/optimize\" width=\"60\">\n",
       "<span class=\"bg_album_frame\"></span>\n",
       "</img></a>"
      ]
     },
     "metadata": {},
     "execution_count": 50
    }
   ],
   "source": [
    "#PLUS, 1위 곡의 앨범 이미지 추출하기.\n",
    "#①trs 태그의 image_typeAll 클래스 추출하기.\n",
    "image = trs[0].select_one(\".image_typeAll\")\n",
    "image"
   ]
  },
  {
   "cell_type": "code",
   "execution_count": 65,
   "metadata": {},
   "outputs": [
    {
     "output_type": "execute_result",
     "data": {
      "text/plain": [
       "<img alt=\"Butter - 페이지 이동\" height=\"60\" onerror=\"WEBPOCIMG.defaultAlbumImg(this);\" src=\"https://cdnimg.melon.co.kr/cm2/album/images/106/12/483/10612483_20210521111412_500.jpg/melon/resize/120/quality/80/optimize\" width=\"60\">\n",
       "<span class=\"bg_album_frame\"></span>\n",
       "</img>"
      ]
     },
     "metadata": {},
     "execution_count": 65
    }
   ],
   "source": [
    "#②trs 태그의 image_typeAll 클래스에서 img 태그 추출하기.\n",
    "image = trs[0].select_one(\".image_typeAll\").find(\"img\")\n",
    "image"
   ]
  },
  {
   "cell_type": "code",
   "execution_count": 72,
   "metadata": {},
   "outputs": [
    {
     "output_type": "execute_result",
     "data": {
      "text/plain": [
       "'https://cdnimg.melon.co.kr/cm2/album/images/106/12/483/10612483_20210521111412_500.jpg/melon/resize/120/quality/80/optimize'"
      ]
     },
     "metadata": {},
     "execution_count": 72
    }
   ],
   "source": [
    "#②앨범이미지인 img 태그에서 src 속성 불러오기.  \n",
    "image = trs[0].select_one(\".image_typeAll\").find(\"img\")[\"src\"]\n",
    "image"
   ]
  },
  {
   "cell_type": "code",
   "execution_count": 84,
   "metadata": {},
   "outputs": [],
   "source": [
    "#05. for문으로 1위부터 50위곡 까지 순위, 곡명, 가수, 앨범, 앨범이미지 추출하기.\n",
    "#(1) for-loop 돌리기\n",
    "rank_list = []\n",
    "title_list = []\n",
    "artist_list = []\n",
    "album_list = []\n",
    "image_list = []\n",
    "for tr in trs :\n",
    "    rank = tr.select_one('.rank').get_text()\n",
    "    rank = int(rank)\n",
    "    title = tr.select_one(\".ellipsis.rank01\")\n",
    "    title = title.find(\"a\").get_text()\n",
    "    artist = tr.select_one(\".ellipsis.rank02\")\n",
    "    artist = artist.find('a').get_text()\n",
    "    album = tr.select_one(\".ellipsis.rank03\")\n",
    "    album = album.find('a').string\n",
    "    image = tr.select_one(\".image_typeAll\").find(\"img\")\n",
    "    image = image[\"src\"]\n",
    "\n",
    "    rank_list.append(rank)\n",
    "    title_list.append(title)\n",
    "    artist_list.append(artist)\n",
    "    album_list.append(album)\n",
    "    image_list.append(image)"
   ]
  },
  {
   "cell_type": "code",
   "execution_count": 85,
   "metadata": {},
   "outputs": [
    {
     "output_type": "execute_result",
     "data": {
      "text/plain": [
       "    순위                                             곡명  \\\n",
       "0    1                                         Butter   \n",
       "1    2                                  Dun Dun Dance   \n",
       "2    3         Peaches (Feat. Daniel Caesar & Giveon)   \n",
       "3    4                                          헤픈 우연   \n",
       "4    5                                   롤린 (Rollin')   \n",
       "5    6                                     Next Level   \n",
       "6    7                                            라일락   \n",
       "7    8                                          상상더하기   \n",
       "8    9                                 운전만해 (We Ride)   \n",
       "9   10                                      Celebrity   \n",
       "10  11                                       Dynamite   \n",
       "11  12                                       Timeless   \n",
       "12  13                                           ASAP   \n",
       "13  14                                          상상더하기   \n",
       "14  15                          마.피.아. In the morning   \n",
       "15  16                                            라라라   \n",
       "16  17                                        내 손을 잡아   \n",
       "17  18                                            멜로디   \n",
       "18  19                              밝게 빛나는 별이 되어 비춰줄게   \n",
       "19  20  사이렌 Remix (Feat. UNEDUCATED KID, Paul Blanco)   \n",
       "20  21                                            내사람   \n",
       "21  22          LOVE DAY (2021) (바른연애 길잡이 X 양요섭, 정은지)   \n",
       "22  23                                           Coin   \n",
       "23  24                                             체념   \n",
       "24  25                                  밤하늘의 별을(2020)   \n",
       "25  26                                  On The Ground   \n",
       "26  27   Savage Love (Laxed - Siren Beat) (BTS Remix)   \n",
       "27  28                                      잠이 오질 않네요   \n",
       "28  29                                 Lovesick Girls   \n",
       "29  30                          취기를 빌려 (취향저격 그녀 X 산들)   \n",
       "30  31                                       Blueming   \n",
       "31  32                                    어푸 (Ah puh)   \n",
       "32  33                    에잇(Prod.&Feat. SUGA of BTS)   \n",
       "33  34                                     그냥 안아달란 말야   \n",
       "34  35      작은 것들을 위한 시 (Boy With Luv) (Feat. Halsey)   \n",
       "35  36         VVS (Feat. JUSTHIS) (Prod. GroovyRoom)   \n",
       "36  37                                            만약에   \n",
       "37  38                      나랑 같이 걸을래 (바른연애 길잡이 X 적재)   \n",
       "38  39                                        Dolphin   \n",
       "39  40                               12:45 (Stripped)   \n",
       "40  41                                   Life Goes On   \n",
       "41  42                                             봄날   \n",
       "42  43                      어떻게 이별까지 사랑하겠어, 널 사랑하는 거지   \n",
       "43  44                                추억은 만남보다 이별에 남아   \n",
       "44  45                                 그날에 나는 맘이 편했을까   \n",
       "45  46                       흔들리는 꽃들 속에서 네 샴푸향이 느껴진거야   \n",
       "46  47                                            살다가   \n",
       "47  48                                         오래된 노래   \n",
       "48  49                                         METEOR   \n",
       "49  50                                           2002   \n",
       "\n",
       "                                                   가수  \\\n",
       "0                                               방탄소년단   \n",
       "1                                   오마이걸 (OH MY GIRL)   \n",
       "2                                       Justin Bieber   \n",
       "3                                         헤이즈 (Heize)   \n",
       "4                                              브레이브걸스   \n",
       "5                                               aespa   \n",
       "6                                                 아이유   \n",
       "7   MSG워너비 TOP 8 (별루지, 김정수, 강창모, 정기석, 이동휘, 이상이, 박재...   \n",
       "8                                              브레이브걸스   \n",
       "9                                                 아이유   \n",
       "10                                              방탄소년단   \n",
       "11                                             SG 워너비   \n",
       "12                                        STAYC(스테이씨)   \n",
       "13                                        라붐 (LABOUM)   \n",
       "14                                          ITZY (있지)   \n",
       "15                                             SG 워너비   \n",
       "16                                                아이유   \n",
       "17                                         ASH ISLAND   \n",
       "18                                                송이한   \n",
       "19                                                호미들   \n",
       "20                                             SG 워너비   \n",
       "21                                                양요섭   \n",
       "22                                                아이유   \n",
       "23                          정상동기 (김정수, 정기석, 이동휘, 이상이)   \n",
       "24                                                 경서   \n",
       "25                                          로제 (ROSÉ)   \n",
       "26                                          Jawsh 685   \n",
       "27                                                장범준   \n",
       "28                                          BLACKPINK   \n",
       "29                                                 산들   \n",
       "30                                                아이유   \n",
       "31                                                아이유   \n",
       "32                                                아이유   \n",
       "33                                                다비치   \n",
       "34                                              방탄소년단   \n",
       "35                                       미란이 (Mirani)   \n",
       "36                        M.O.M (별루지, 강창모, 박재정, 원슈타인)   \n",
       "37                                                 적재   \n",
       "38                                  오마이걸 (OH MY GIRL)   \n",
       "39                                              Etham   \n",
       "40                                              방탄소년단   \n",
       "41                                              방탄소년단   \n",
       "42                                       AKMU (악동뮤지션)   \n",
       "43                                                정동하   \n",
       "44                                                이예준   \n",
       "45                                                장범준   \n",
       "46                                             SG 워너비   \n",
       "47                                             스탠딩 에그   \n",
       "48                                       창모 (CHANGMO)   \n",
       "49                                         Anne-Marie   \n",
       "\n",
       "                                              앨범  \\\n",
       "0                                         Butter   \n",
       "1                                  Dear OHMYGIRL   \n",
       "2                                        Justice   \n",
       "3                                         HAPPEN   \n",
       "4                                        Rollin'   \n",
       "5                                     Next Level   \n",
       "6                           IU 5th Album 'LILAC'   \n",
       "7                               MSG워너비 TOP 8 경연곡   \n",
       "8                                        We Ride   \n",
       "9                           IU 5th Album 'LILAC'   \n",
       "10                    Dynamite (DayTime Version)   \n",
       "11                                  Sg Wanna Be+   \n",
       "12                                       STAYDOM   \n",
       "13                               Fresh Adventure   \n",
       "14                                     GUESS WHO   \n",
       "15                                     My Friend   \n",
       "16                             최고의 사랑 OST Part.4   \n",
       "17                                           멜로디   \n",
       "18                             밝게 빛나는 별이 되어 비춰줄게   \n",
       "19                                     사이렌 Remix   \n",
       "20                          The Precious History   \n",
       "21         LOVE DAY (2021) (바른연애 길잡이 X 양요섭, 정은지)   \n",
       "22                          IU 5th Album 'LILAC'   \n",
       "23                              MSG워너비 TOP 8 경연곡   \n",
       "24                                 밤하늘의 별을(2020)   \n",
       "25                                             R   \n",
       "26  Savage Love (Laxed - Siren Beat) [BTS Remix]   \n",
       "27                                     잠이 오질 않네요   \n",
       "28                                     THE ALBUM   \n",
       "29                         취기를 빌려 (취향저격 그녀 X 산들)   \n",
       "30                                     Love poem   \n",
       "31                          IU 5th Album 'LILAC'   \n",
       "32                                            에잇   \n",
       "33                                    그냥 안아달란 말야   \n",
       "34                     MAP OF THE SOUL : PERSONA   \n",
       "35                             쇼미더머니 9 Episode 1   \n",
       "36                              MSG워너비 TOP 8 경연곡   \n",
       "37                     나랑 같이 걸을래 (바른연애 길잡이 X 적재)   \n",
       "38                                       NONSTOP   \n",
       "39                              12:45 (Stripped)   \n",
       "40                                            BE   \n",
       "41                          YOU NEVER WALK ALONE   \n",
       "42                                            항해   \n",
       "43                               추억은 만남보다 이별에 남아   \n",
       "44                                그날에 나는 맘이 편했을까   \n",
       "45                             멜로가 체질 OST Part 3   \n",
       "46                                           살다가   \n",
       "47                                        오래된 노래   \n",
       "48                                       Boyhood   \n",
       "49                      Speak Your Mind (Deluxe)   \n",
       "\n",
       "                                                앨범이미지  \n",
       "0   https://cdnimg.melon.co.kr/cm2/album/images/10...  \n",
       "1   https://cdnimg.melon.co.kr/cm2/album/images/10...  \n",
       "2   https://cdnimg.melon.co.kr/cm2/album/images/10...  \n",
       "3   https://cdnimg.melon.co.kr/cm2/album/images/10...  \n",
       "4   https://cdnimg.melon.co.kr/cm2/album/images/10...  \n",
       "5   https://cdnimg.melon.co.kr/cm2/album/images/10...  \n",
       "6   https://cdnimg.melon.co.kr/cm2/album/images/10...  \n",
       "7   https://cdnimg.melon.co.kr/cm2/album/images/10...  \n",
       "8   https://cdnimg.melon.co.kr/cm2/album/images/10...  \n",
       "9   https://cdnimg.melon.co.kr/cm2/album/images/10...  \n",
       "10  https://cdnimg.melon.co.kr/cm2/album/images/10...  \n",
       "11  https://cdnimg.melon.co.kr/cm/album/images/003...  \n",
       "12  https://cdnimg.melon.co.kr/cm2/album/images/10...  \n",
       "13  https://cdnimg.melon.co.kr/cm/album/images/026...  \n",
       "14  https://cdnimg.melon.co.kr/cm2/album/images/10...  \n",
       "15  https://cdnimg.melon.co.kr/cm/album/images/003...  \n",
       "16  https://cdnimg.melon.co.kr/cm/album/images/012...  \n",
       "17  https://cdnimg.melon.co.kr/cm2/album/images/10...  \n",
       "18  https://cdnimg.melon.co.kr/cm2/album/images/10...  \n",
       "19  https://cdnimg.melon.co.kr/cm2/album/images/10...  \n",
       "20  https://cdnimg.melon.co.kr/cm/album/images/003...  \n",
       "21  https://cdnimg.melon.co.kr/cm2/album/images/10...  \n",
       "22  https://cdnimg.melon.co.kr/cm2/album/images/10...  \n",
       "23  https://cdnimg.melon.co.kr/cm2/album/images/10...  \n",
       "24  https://cdnimg.melon.co.kr/cm2/album/images/10...  \n",
       "25  https://cdnimg.melon.co.kr/cm2/album/images/10...  \n",
       "26  https://cdnimg.melon.co.kr/cm2/album/images/10...  \n",
       "27  https://cdnimg.melon.co.kr/cm2/album/images/10...  \n",
       "28  https://cdnimg.melon.co.kr/cm2/album/images/10...  \n",
       "29  https://cdnimg.melon.co.kr/cm2/album/images/10...  \n",
       "30  https://cdnimg.melon.co.kr/cm2/album/images/10...  \n",
       "31  https://cdnimg.melon.co.kr/cm2/album/images/10...  \n",
       "32  https://cdnimg.melon.co.kr/cm2/album/images/10...  \n",
       "33  https://cdnimg.melon.co.kr/cm2/album/images/10...  \n",
       "34  https://cdnimg.melon.co.kr/cm/album/images/102...  \n",
       "35  https://cdnimg.melon.co.kr/cm2/album/images/10...  \n",
       "36  https://cdnimg.melon.co.kr/cm2/album/images/10...  \n",
       "37  https://cdnimg.melon.co.kr/cm2/album/images/10...  \n",
       "38  https://cdnimg.melon.co.kr/cm2/album/images/10...  \n",
       "39  https://cdnimg.melon.co.kr/cm/album/images/102...  \n",
       "40  https://cdnimg.melon.co.kr/cm2/album/images/10...  \n",
       "41  https://cdnimg.melon.co.kr/cm/album/images/100...  \n",
       "42  https://cdnimg.melon.co.kr/cm2/album/images/10...  \n",
       "43  https://cdnimg.melon.co.kr/cm2/album/images/10...  \n",
       "44  https://cdnimg.melon.co.kr/cm2/album/images/10...  \n",
       "45  https://cdnimg.melon.co.kr/cm2/album/images/10...  \n",
       "46  https://cdnimg.melon.co.kr/cm/album/images/000...  \n",
       "47  https://cdnimg.melon.co.kr/cm/album/images/021...  \n",
       "48  https://cdnimg.melon.co.kr/cm2/album/images/10...  \n",
       "49  https://cdnimg.melon.co.kr/cm/album/images/101...  "
      ],
      "text/html": "<div>\n<style scoped>\n    .dataframe tbody tr th:only-of-type {\n        vertical-align: middle;\n    }\n\n    .dataframe tbody tr th {\n        vertical-align: top;\n    }\n\n    .dataframe thead th {\n        text-align: right;\n    }\n</style>\n<table border=\"1\" class=\"dataframe\">\n  <thead>\n    <tr style=\"text-align: right;\">\n      <th></th>\n      <th>순위</th>\n      <th>곡명</th>\n      <th>가수</th>\n      <th>앨범</th>\n      <th>앨범이미지</th>\n    </tr>\n  </thead>\n  <tbody>\n    <tr>\n      <th>0</th>\n      <td>1</td>\n      <td>Butter</td>\n      <td>방탄소년단</td>\n      <td>Butter</td>\n      <td>https://cdnimg.melon.co.kr/cm2/album/images/10...</td>\n    </tr>\n    <tr>\n      <th>1</th>\n      <td>2</td>\n      <td>Dun Dun Dance</td>\n      <td>오마이걸 (OH MY GIRL)</td>\n      <td>Dear OHMYGIRL</td>\n      <td>https://cdnimg.melon.co.kr/cm2/album/images/10...</td>\n    </tr>\n    <tr>\n      <th>2</th>\n      <td>3</td>\n      <td>Peaches (Feat. Daniel Caesar &amp; Giveon)</td>\n      <td>Justin Bieber</td>\n      <td>Justice</td>\n      <td>https://cdnimg.melon.co.kr/cm2/album/images/10...</td>\n    </tr>\n    <tr>\n      <th>3</th>\n      <td>4</td>\n      <td>헤픈 우연</td>\n      <td>헤이즈 (Heize)</td>\n      <td>HAPPEN</td>\n      <td>https://cdnimg.melon.co.kr/cm2/album/images/10...</td>\n    </tr>\n    <tr>\n      <th>4</th>\n      <td>5</td>\n      <td>롤린 (Rollin')</td>\n      <td>브레이브걸스</td>\n      <td>Rollin'</td>\n      <td>https://cdnimg.melon.co.kr/cm2/album/images/10...</td>\n    </tr>\n    <tr>\n      <th>5</th>\n      <td>6</td>\n      <td>Next Level</td>\n      <td>aespa</td>\n      <td>Next Level</td>\n      <td>https://cdnimg.melon.co.kr/cm2/album/images/10...</td>\n    </tr>\n    <tr>\n      <th>6</th>\n      <td>7</td>\n      <td>라일락</td>\n      <td>아이유</td>\n      <td>IU 5th Album 'LILAC'</td>\n      <td>https://cdnimg.melon.co.kr/cm2/album/images/10...</td>\n    </tr>\n    <tr>\n      <th>7</th>\n      <td>8</td>\n      <td>상상더하기</td>\n      <td>MSG워너비 TOP 8 (별루지, 김정수, 강창모, 정기석, 이동휘, 이상이, 박재...</td>\n      <td>MSG워너비 TOP 8 경연곡</td>\n      <td>https://cdnimg.melon.co.kr/cm2/album/images/10...</td>\n    </tr>\n    <tr>\n      <th>8</th>\n      <td>9</td>\n      <td>운전만해 (We Ride)</td>\n      <td>브레이브걸스</td>\n      <td>We Ride</td>\n      <td>https://cdnimg.melon.co.kr/cm2/album/images/10...</td>\n    </tr>\n    <tr>\n      <th>9</th>\n      <td>10</td>\n      <td>Celebrity</td>\n      <td>아이유</td>\n      <td>IU 5th Album 'LILAC'</td>\n      <td>https://cdnimg.melon.co.kr/cm2/album/images/10...</td>\n    </tr>\n    <tr>\n      <th>10</th>\n      <td>11</td>\n      <td>Dynamite</td>\n      <td>방탄소년단</td>\n      <td>Dynamite (DayTime Version)</td>\n      <td>https://cdnimg.melon.co.kr/cm2/album/images/10...</td>\n    </tr>\n    <tr>\n      <th>11</th>\n      <td>12</td>\n      <td>Timeless</td>\n      <td>SG 워너비</td>\n      <td>Sg Wanna Be+</td>\n      <td>https://cdnimg.melon.co.kr/cm/album/images/003...</td>\n    </tr>\n    <tr>\n      <th>12</th>\n      <td>13</td>\n      <td>ASAP</td>\n      <td>STAYC(스테이씨)</td>\n      <td>STAYDOM</td>\n      <td>https://cdnimg.melon.co.kr/cm2/album/images/10...</td>\n    </tr>\n    <tr>\n      <th>13</th>\n      <td>14</td>\n      <td>상상더하기</td>\n      <td>라붐 (LABOUM)</td>\n      <td>Fresh Adventure</td>\n      <td>https://cdnimg.melon.co.kr/cm/album/images/026...</td>\n    </tr>\n    <tr>\n      <th>14</th>\n      <td>15</td>\n      <td>마.피.아. In the morning</td>\n      <td>ITZY (있지)</td>\n      <td>GUESS WHO</td>\n      <td>https://cdnimg.melon.co.kr/cm2/album/images/10...</td>\n    </tr>\n    <tr>\n      <th>15</th>\n      <td>16</td>\n      <td>라라라</td>\n      <td>SG 워너비</td>\n      <td>My Friend</td>\n      <td>https://cdnimg.melon.co.kr/cm/album/images/003...</td>\n    </tr>\n    <tr>\n      <th>16</th>\n      <td>17</td>\n      <td>내 손을 잡아</td>\n      <td>아이유</td>\n      <td>최고의 사랑 OST Part.4</td>\n      <td>https://cdnimg.melon.co.kr/cm/album/images/012...</td>\n    </tr>\n    <tr>\n      <th>17</th>\n      <td>18</td>\n      <td>멜로디</td>\n      <td>ASH ISLAND</td>\n      <td>멜로디</td>\n      <td>https://cdnimg.melon.co.kr/cm2/album/images/10...</td>\n    </tr>\n    <tr>\n      <th>18</th>\n      <td>19</td>\n      <td>밝게 빛나는 별이 되어 비춰줄게</td>\n      <td>송이한</td>\n      <td>밝게 빛나는 별이 되어 비춰줄게</td>\n      <td>https://cdnimg.melon.co.kr/cm2/album/images/10...</td>\n    </tr>\n    <tr>\n      <th>19</th>\n      <td>20</td>\n      <td>사이렌 Remix (Feat. UNEDUCATED KID, Paul Blanco)</td>\n      <td>호미들</td>\n      <td>사이렌 Remix</td>\n      <td>https://cdnimg.melon.co.kr/cm2/album/images/10...</td>\n    </tr>\n    <tr>\n      <th>20</th>\n      <td>21</td>\n      <td>내사람</td>\n      <td>SG 워너비</td>\n      <td>The Precious History</td>\n      <td>https://cdnimg.melon.co.kr/cm/album/images/003...</td>\n    </tr>\n    <tr>\n      <th>21</th>\n      <td>22</td>\n      <td>LOVE DAY (2021) (바른연애 길잡이 X 양요섭, 정은지)</td>\n      <td>양요섭</td>\n      <td>LOVE DAY (2021) (바른연애 길잡이 X 양요섭, 정은지)</td>\n      <td>https://cdnimg.melon.co.kr/cm2/album/images/10...</td>\n    </tr>\n    <tr>\n      <th>22</th>\n      <td>23</td>\n      <td>Coin</td>\n      <td>아이유</td>\n      <td>IU 5th Album 'LILAC'</td>\n      <td>https://cdnimg.melon.co.kr/cm2/album/images/10...</td>\n    </tr>\n    <tr>\n      <th>23</th>\n      <td>24</td>\n      <td>체념</td>\n      <td>정상동기 (김정수, 정기석, 이동휘, 이상이)</td>\n      <td>MSG워너비 TOP 8 경연곡</td>\n      <td>https://cdnimg.melon.co.kr/cm2/album/images/10...</td>\n    </tr>\n    <tr>\n      <th>24</th>\n      <td>25</td>\n      <td>밤하늘의 별을(2020)</td>\n      <td>경서</td>\n      <td>밤하늘의 별을(2020)</td>\n      <td>https://cdnimg.melon.co.kr/cm2/album/images/10...</td>\n    </tr>\n    <tr>\n      <th>25</th>\n      <td>26</td>\n      <td>On The Ground</td>\n      <td>로제 (ROSÉ)</td>\n      <td>R</td>\n      <td>https://cdnimg.melon.co.kr/cm2/album/images/10...</td>\n    </tr>\n    <tr>\n      <th>26</th>\n      <td>27</td>\n      <td>Savage Love (Laxed - Siren Beat) (BTS Remix)</td>\n      <td>Jawsh 685</td>\n      <td>Savage Love (Laxed - Siren Beat) [BTS Remix]</td>\n      <td>https://cdnimg.melon.co.kr/cm2/album/images/10...</td>\n    </tr>\n    <tr>\n      <th>27</th>\n      <td>28</td>\n      <td>잠이 오질 않네요</td>\n      <td>장범준</td>\n      <td>잠이 오질 않네요</td>\n      <td>https://cdnimg.melon.co.kr/cm2/album/images/10...</td>\n    </tr>\n    <tr>\n      <th>28</th>\n      <td>29</td>\n      <td>Lovesick Girls</td>\n      <td>BLACKPINK</td>\n      <td>THE ALBUM</td>\n      <td>https://cdnimg.melon.co.kr/cm2/album/images/10...</td>\n    </tr>\n    <tr>\n      <th>29</th>\n      <td>30</td>\n      <td>취기를 빌려 (취향저격 그녀 X 산들)</td>\n      <td>산들</td>\n      <td>취기를 빌려 (취향저격 그녀 X 산들)</td>\n      <td>https://cdnimg.melon.co.kr/cm2/album/images/10...</td>\n    </tr>\n    <tr>\n      <th>30</th>\n      <td>31</td>\n      <td>Blueming</td>\n      <td>아이유</td>\n      <td>Love poem</td>\n      <td>https://cdnimg.melon.co.kr/cm2/album/images/10...</td>\n    </tr>\n    <tr>\n      <th>31</th>\n      <td>32</td>\n      <td>어푸 (Ah puh)</td>\n      <td>아이유</td>\n      <td>IU 5th Album 'LILAC'</td>\n      <td>https://cdnimg.melon.co.kr/cm2/album/images/10...</td>\n    </tr>\n    <tr>\n      <th>32</th>\n      <td>33</td>\n      <td>에잇(Prod.&amp;Feat. SUGA of BTS)</td>\n      <td>아이유</td>\n      <td>에잇</td>\n      <td>https://cdnimg.melon.co.kr/cm2/album/images/10...</td>\n    </tr>\n    <tr>\n      <th>33</th>\n      <td>34</td>\n      <td>그냥 안아달란 말야</td>\n      <td>다비치</td>\n      <td>그냥 안아달란 말야</td>\n      <td>https://cdnimg.melon.co.kr/cm2/album/images/10...</td>\n    </tr>\n    <tr>\n      <th>34</th>\n      <td>35</td>\n      <td>작은 것들을 위한 시 (Boy With Luv) (Feat. Halsey)</td>\n      <td>방탄소년단</td>\n      <td>MAP OF THE SOUL : PERSONA</td>\n      <td>https://cdnimg.melon.co.kr/cm/album/images/102...</td>\n    </tr>\n    <tr>\n      <th>35</th>\n      <td>36</td>\n      <td>VVS (Feat. JUSTHIS) (Prod. GroovyRoom)</td>\n      <td>미란이 (Mirani)</td>\n      <td>쇼미더머니 9 Episode 1</td>\n      <td>https://cdnimg.melon.co.kr/cm2/album/images/10...</td>\n    </tr>\n    <tr>\n      <th>36</th>\n      <td>37</td>\n      <td>만약에</td>\n      <td>M.O.M (별루지, 강창모, 박재정, 원슈타인)</td>\n      <td>MSG워너비 TOP 8 경연곡</td>\n      <td>https://cdnimg.melon.co.kr/cm2/album/images/10...</td>\n    </tr>\n    <tr>\n      <th>37</th>\n      <td>38</td>\n      <td>나랑 같이 걸을래 (바른연애 길잡이 X 적재)</td>\n      <td>적재</td>\n      <td>나랑 같이 걸을래 (바른연애 길잡이 X 적재)</td>\n      <td>https://cdnimg.melon.co.kr/cm2/album/images/10...</td>\n    </tr>\n    <tr>\n      <th>38</th>\n      <td>39</td>\n      <td>Dolphin</td>\n      <td>오마이걸 (OH MY GIRL)</td>\n      <td>NONSTOP</td>\n      <td>https://cdnimg.melon.co.kr/cm2/album/images/10...</td>\n    </tr>\n    <tr>\n      <th>39</th>\n      <td>40</td>\n      <td>12:45 (Stripped)</td>\n      <td>Etham</td>\n      <td>12:45 (Stripped)</td>\n      <td>https://cdnimg.melon.co.kr/cm/album/images/102...</td>\n    </tr>\n    <tr>\n      <th>40</th>\n      <td>41</td>\n      <td>Life Goes On</td>\n      <td>방탄소년단</td>\n      <td>BE</td>\n      <td>https://cdnimg.melon.co.kr/cm2/album/images/10...</td>\n    </tr>\n    <tr>\n      <th>41</th>\n      <td>42</td>\n      <td>봄날</td>\n      <td>방탄소년단</td>\n      <td>YOU NEVER WALK ALONE</td>\n      <td>https://cdnimg.melon.co.kr/cm/album/images/100...</td>\n    </tr>\n    <tr>\n      <th>42</th>\n      <td>43</td>\n      <td>어떻게 이별까지 사랑하겠어, 널 사랑하는 거지</td>\n      <td>AKMU (악동뮤지션)</td>\n      <td>항해</td>\n      <td>https://cdnimg.melon.co.kr/cm2/album/images/10...</td>\n    </tr>\n    <tr>\n      <th>43</th>\n      <td>44</td>\n      <td>추억은 만남보다 이별에 남아</td>\n      <td>정동하</td>\n      <td>추억은 만남보다 이별에 남아</td>\n      <td>https://cdnimg.melon.co.kr/cm2/album/images/10...</td>\n    </tr>\n    <tr>\n      <th>44</th>\n      <td>45</td>\n      <td>그날에 나는 맘이 편했을까</td>\n      <td>이예준</td>\n      <td>그날에 나는 맘이 편했을까</td>\n      <td>https://cdnimg.melon.co.kr/cm2/album/images/10...</td>\n    </tr>\n    <tr>\n      <th>45</th>\n      <td>46</td>\n      <td>흔들리는 꽃들 속에서 네 샴푸향이 느껴진거야</td>\n      <td>장범준</td>\n      <td>멜로가 체질 OST Part 3</td>\n      <td>https://cdnimg.melon.co.kr/cm2/album/images/10...</td>\n    </tr>\n    <tr>\n      <th>46</th>\n      <td>47</td>\n      <td>살다가</td>\n      <td>SG 워너비</td>\n      <td>살다가</td>\n      <td>https://cdnimg.melon.co.kr/cm/album/images/000...</td>\n    </tr>\n    <tr>\n      <th>47</th>\n      <td>48</td>\n      <td>오래된 노래</td>\n      <td>스탠딩 에그</td>\n      <td>오래된 노래</td>\n      <td>https://cdnimg.melon.co.kr/cm/album/images/021...</td>\n    </tr>\n    <tr>\n      <th>48</th>\n      <td>49</td>\n      <td>METEOR</td>\n      <td>창모 (CHANGMO)</td>\n      <td>Boyhood</td>\n      <td>https://cdnimg.melon.co.kr/cm2/album/images/10...</td>\n    </tr>\n    <tr>\n      <th>49</th>\n      <td>50</td>\n      <td>2002</td>\n      <td>Anne-Marie</td>\n      <td>Speak Your Mind (Deluxe)</td>\n      <td>https://cdnimg.melon.co.kr/cm/album/images/101...</td>\n    </tr>\n  </tbody>\n</table>\n</div>"
     },
     "metadata": {},
     "execution_count": 85
    }
   ],
   "source": [
    "#(2) 데이터프레임 만들기. \n",
    "df = pd.DataFrame({\"순위\": rank_list,\n",
    "                   \"곡명\": title_list,\n",
    "                   \"가수\": artist_list,\n",
    "                   \"앨범\": album_list,\n",
    "                   \"앨범이미지\": image_list})\n",
    "df"
   ]
  },
  {
   "cell_type": "code",
   "execution_count": 88,
   "metadata": {},
   "outputs": [
    {
     "output_type": "execute_result",
     "data": {
      "text/plain": [
       "100"
      ]
     },
     "metadata": {},
     "execution_count": 88
    }
   ],
   "source": [
    "#06. for문으로 100위까지 확장하여 데이터프레임으로 만들기. \n",
    "#(1) trs2 태그 호출하여 extend() 메서드로 결합하기.\n",
    "trs = soup.select('#lst50')\n",
    "trs2 = soup.select('#lst100')\n",
    "trs.extend(trs2)\n",
    "\n",
    "#PLUS, trs 태그 내 데이터 개수가 100개인 것으로 보아 제대로 결합됐음을 확인할 수 있음.\n",
    "len(trs)"
   ]
  },
  {
   "cell_type": "code",
   "execution_count": 89,
   "metadata": {},
   "outputs": [],
   "source": [
    "#(2) for-loop 돌리기\n",
    "rank_list = []\n",
    "title_list = []\n",
    "artist_list = []\n",
    "album_list = []\n",
    "image_list = []\n",
    "for tr in trs :\n",
    "    rank = tr.select_one('.rank').get_text()\n",
    "    rank = int(rank)\n",
    "    title = tr.select_one(\".ellipsis.rank01\")\n",
    "    title = title.find(\"a\").get_text()\n",
    "    artist = tr.select_one(\".ellipsis.rank02\")\n",
    "    artist = artist.find('a').get_text()\n",
    "    album = tr.select_one(\".ellipsis.rank03\")\n",
    "    album = album.find('a').string\n",
    "    image = tr.select_one(\".image_typeAll\").find(\"img\")\n",
    "    image = image[\"src\"]\n",
    "\n",
    "    rank_list.append(rank)\n",
    "    title_list.append(title)\n",
    "    artist_list.append(artist)\n",
    "    album_list.append(album)\n",
    "    image_list.append(image)"
   ]
  },
  {
   "cell_type": "code",
   "execution_count": 91,
   "metadata": {},
   "outputs": [
    {
     "output_type": "execute_result",
     "data": {
      "text/plain": [
       "   순위                                      곡명                 가수  \\\n",
       "0   1                                  Butter              방탄소년단   \n",
       "1   2                           Dun Dun Dance  오마이걸 (OH MY GIRL)   \n",
       "2   3  Peaches (Feat. Daniel Caesar & Giveon)      Justin Bieber   \n",
       "3   4                                   헤픈 우연        헤이즈 (Heize)   \n",
       "4   5                            롤린 (Rollin')             브레이브걸스   \n",
       "\n",
       "              앨범                                              앨범이미지  \n",
       "0         Butter  https://cdnimg.melon.co.kr/cm2/album/images/10...  \n",
       "1  Dear OHMYGIRL  https://cdnimg.melon.co.kr/cm2/album/images/10...  \n",
       "2        Justice  https://cdnimg.melon.co.kr/cm2/album/images/10...  \n",
       "3         HAPPEN  https://cdnimg.melon.co.kr/cm2/album/images/10...  \n",
       "4        Rollin'  https://cdnimg.melon.co.kr/cm2/album/images/10...  "
      ],
      "text/html": "<div>\n<style scoped>\n    .dataframe tbody tr th:only-of-type {\n        vertical-align: middle;\n    }\n\n    .dataframe tbody tr th {\n        vertical-align: top;\n    }\n\n    .dataframe thead th {\n        text-align: right;\n    }\n</style>\n<table border=\"1\" class=\"dataframe\">\n  <thead>\n    <tr style=\"text-align: right;\">\n      <th></th>\n      <th>순위</th>\n      <th>곡명</th>\n      <th>가수</th>\n      <th>앨범</th>\n      <th>앨범이미지</th>\n    </tr>\n  </thead>\n  <tbody>\n    <tr>\n      <th>0</th>\n      <td>1</td>\n      <td>Butter</td>\n      <td>방탄소년단</td>\n      <td>Butter</td>\n      <td>https://cdnimg.melon.co.kr/cm2/album/images/10...</td>\n    </tr>\n    <tr>\n      <th>1</th>\n      <td>2</td>\n      <td>Dun Dun Dance</td>\n      <td>오마이걸 (OH MY GIRL)</td>\n      <td>Dear OHMYGIRL</td>\n      <td>https://cdnimg.melon.co.kr/cm2/album/images/10...</td>\n    </tr>\n    <tr>\n      <th>2</th>\n      <td>3</td>\n      <td>Peaches (Feat. Daniel Caesar &amp; Giveon)</td>\n      <td>Justin Bieber</td>\n      <td>Justice</td>\n      <td>https://cdnimg.melon.co.kr/cm2/album/images/10...</td>\n    </tr>\n    <tr>\n      <th>3</th>\n      <td>4</td>\n      <td>헤픈 우연</td>\n      <td>헤이즈 (Heize)</td>\n      <td>HAPPEN</td>\n      <td>https://cdnimg.melon.co.kr/cm2/album/images/10...</td>\n    </tr>\n    <tr>\n      <th>4</th>\n      <td>5</td>\n      <td>롤린 (Rollin')</td>\n      <td>브레이브걸스</td>\n      <td>Rollin'</td>\n      <td>https://cdnimg.melon.co.kr/cm2/album/images/10...</td>\n    </tr>\n  </tbody>\n</table>\n</div>"
     },
     "metadata": {},
     "execution_count": 91
    }
   ],
   "source": [
    "#(3) 데이터 프레임 만들기. \n",
    "df2 = pd.DataFrame({\"순위\": rank_list,\n",
    "                   \"곡명\": title_list,\n",
    "                   \"가수\": artist_list,\n",
    "                   \"앨범\": album_list,\n",
    "                   \"앨범이미지\":image_list})\n",
    "df2.head()"
   ]
  },
  {
   "cell_type": "code",
   "execution_count": 93,
   "metadata": {},
   "outputs": [
    {
     "output_type": "execute_result",
     "data": {
      "text/plain": [
       "'\\r\\n\\t\\t\\t\\t\\t\\t\\t2021.05.24 ~ 2021.05.30\\r\\n\\t\\t\\t\\t\\t\\t'"
      ]
     },
     "metadata": {},
     "execution_count": 93
    }
   ],
   "source": [
    "#PLUS, 메론주간차트 집계 시기 추출하기.\n",
    "#① select_one() 메서드와 get_text() 메서드 활용하여 추출하기. \n",
    "period = soup.select_one(\".yyyymmdd\").get_text()\n",
    "period"
   ]
  },
  {
   "cell_type": "code",
   "execution_count": 94,
   "metadata": {},
   "outputs": [
    {
     "output_type": "execute_result",
     "data": {
      "text/plain": [
       "'2021.05.24 ~ 2021.05.30'"
      ]
     },
     "metadata": {},
     "execution_count": 94
    }
   ],
   "source": [
    "#②strip() 메서드 활용하여 \\t, \\r, \\n 삭제하기. \n",
    "period = soup.select_one(\".yyyymmdd\").get_text().strip()\n",
    "period"
   ]
  },
  {
   "cell_type": "code",
   "execution_count": 96,
   "metadata": {},
   "outputs": [],
   "source": [
    "#PLUS, df2를 csv파일로 저장하기.\n",
    "df2.to_csv(f\"D:/Python_Project/Hankyeong_DataAnalysis/Data/melon_top100({period}).csv\", sep=\",\", encoding=\"utf8\", index=False)"
   ]
  }
 ]
}