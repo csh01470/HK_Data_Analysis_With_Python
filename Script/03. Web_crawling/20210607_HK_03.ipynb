{
 "metadata": {
  "language_info": {
   "codemirror_mode": {
    "name": "ipython",
    "version": 3
   },
   "file_extension": ".py",
   "mimetype": "text/x-python",
   "name": "python",
   "nbconvert_exporter": "python",
   "pygments_lexer": "ipython3",
   "version": "3.8.8"
  },
  "orig_nbformat": 2,
  "kernelspec": {
   "name": "python3",
   "display_name": "Python 3.8.8 64-bit ('base': conda)"
  },
  "interpreter": {
   "hash": "389278cbb61c1c57cad107a3c1fdd79953aeebb4509d1d7f21aea6fe620a6af8"
  }
 },
 "nbformat": 4,
 "nbformat_minor": 2,
 "cells": [
  {
   "cell_type": "code",
   "execution_count": 1,
   "metadata": {},
   "outputs": [],
   "source": [
    "#2021.06.07. MON\n",
    "#Hankyeong\n",
    "\n",
    "##Project 4: Selenium을 이용해 주유소 가격 크롤링하기.\n",
    "#00. 패키지 호출\n",
    "import time\n",
    "from selenium import webdriver\n",
    "from selenium.webdriver.common.keys import Keys\n",
    "import pandas as pd \n",
    "\n",
    "#01. 드라이버 모듈 호출하고 오피넷으로 들어가기. \n",
    "driver = webdriver.Chrome(\"../../Module/chromedriver.exe\")\n",
    "driver.get(\"https://www.opinet.co.kr/\")"
   ]
  },
  {
   "cell_type": "code",
   "execution_count": 2,
   "metadata": {},
   "outputs": [],
   "source": [
    "#02. '싼 주유소 찾기' 버튼 클릭하기. \n",
    "driver.find_element_by_css_selector(\"span.ic_m1\").click()"
   ]
  },
  {
   "cell_type": "code",
   "execution_count": 3,
   "metadata": {},
   "outputs": [
    {
     "output_type": "execute_result",
     "data": {
      "text/plain": [
       "[<selenium.webdriver.remote.webelement.WebElement (session=\"cc5278bb68ca31deb99bd145c1a80348\", element=\"88ea0ebe-6113-466f-b484-9f1d154d2135\")>,\n",
       " <selenium.webdriver.remote.webelement.WebElement (session=\"cc5278bb68ca31deb99bd145c1a80348\", element=\"5e0ed38c-47ab-4872-9e09-86bf67106db1\")>,\n",
       " <selenium.webdriver.remote.webelement.WebElement (session=\"cc5278bb68ca31deb99bd145c1a80348\", element=\"46aa17c9-e2b1-4c40-a6d8-7102b0259b3f\")>,\n",
       " <selenium.webdriver.remote.webelement.WebElement (session=\"cc5278bb68ca31deb99bd145c1a80348\", element=\"deab6501-d6e4-438a-a300-b7037b5cb3d4\")>,\n",
       " <selenium.webdriver.remote.webelement.WebElement (session=\"cc5278bb68ca31deb99bd145c1a80348\", element=\"c3f1f093-07a4-439e-b4f3-5771c163fcf3\")>,\n",
       " <selenium.webdriver.remote.webelement.WebElement (session=\"cc5278bb68ca31deb99bd145c1a80348\", element=\"dc99a44f-38f3-4586-8007-1663cfb8211e\")>,\n",
       " <selenium.webdriver.remote.webelement.WebElement (session=\"cc5278bb68ca31deb99bd145c1a80348\", element=\"569af431-485b-400b-a10c-198a2d9fdf7b\")>,\n",
       " <selenium.webdriver.remote.webelement.WebElement (session=\"cc5278bb68ca31deb99bd145c1a80348\", element=\"a6040098-df49-4390-be1c-90c7fbd928dc\")>,\n",
       " <selenium.webdriver.remote.webelement.WebElement (session=\"cc5278bb68ca31deb99bd145c1a80348\", element=\"828b1875-b445-4f58-8d9e-75e75e4dd580\")>,\n",
       " <selenium.webdriver.remote.webelement.WebElement (session=\"cc5278bb68ca31deb99bd145c1a80348\", element=\"67ea48db-fe7f-47c2-9e4f-ba8cd5625682\")>,\n",
       " <selenium.webdriver.remote.webelement.WebElement (session=\"cc5278bb68ca31deb99bd145c1a80348\", element=\"a7718920-ae72-4b04-850b-00496b4753e6\")>,\n",
       " <selenium.webdriver.remote.webelement.WebElement (session=\"cc5278bb68ca31deb99bd145c1a80348\", element=\"5769c7aa-cc3d-474a-a5b9-04087d786110\")>,\n",
       " <selenium.webdriver.remote.webelement.WebElement (session=\"cc5278bb68ca31deb99bd145c1a80348\", element=\"165daf78-372f-412d-9d61-d7188a4930c6\")>,\n",
       " <selenium.webdriver.remote.webelement.WebElement (session=\"cc5278bb68ca31deb99bd145c1a80348\", element=\"f752404a-9551-4448-864c-7d218df81276\")>,\n",
       " <selenium.webdriver.remote.webelement.WebElement (session=\"cc5278bb68ca31deb99bd145c1a80348\", element=\"ac4fb18c-6f0b-4243-821e-07e2cd5e4045\")>,\n",
       " <selenium.webdriver.remote.webelement.WebElement (session=\"cc5278bb68ca31deb99bd145c1a80348\", element=\"5df0b060-6eb0-49fa-9760-ba5846994ffc\")>,\n",
       " <selenium.webdriver.remote.webelement.WebElement (session=\"cc5278bb68ca31deb99bd145c1a80348\", element=\"ccdc9b6d-0e4f-41c2-ab69-c4da8016f356\")>,\n",
       " <selenium.webdriver.remote.webelement.WebElement (session=\"cc5278bb68ca31deb99bd145c1a80348\", element=\"9c82873f-48fb-4c8c-a9ac-375526f608c1\")>,\n",
       " <selenium.webdriver.remote.webelement.WebElement (session=\"cc5278bb68ca31deb99bd145c1a80348\", element=\"40496094-25e2-4c63-bda4-85dd83e43aaf\")>,\n",
       " <selenium.webdriver.remote.webelement.WebElement (session=\"cc5278bb68ca31deb99bd145c1a80348\", element=\"470ee3d9-2d11-41ec-ba4a-1cde243d3cdf\")>,\n",
       " <selenium.webdriver.remote.webelement.WebElement (session=\"cc5278bb68ca31deb99bd145c1a80348\", element=\"529366b6-83c2-4da1-8a0b-228105aec523\")>,\n",
       " <selenium.webdriver.remote.webelement.WebElement (session=\"cc5278bb68ca31deb99bd145c1a80348\", element=\"07d922ad-aebc-471b-82f2-d80fb4f479d0\")>,\n",
       " <selenium.webdriver.remote.webelement.WebElement (session=\"cc5278bb68ca31deb99bd145c1a80348\", element=\"df71584b-92d8-407e-acb8-d56865a24fcf\")>,\n",
       " <selenium.webdriver.remote.webelement.WebElement (session=\"cc5278bb68ca31deb99bd145c1a80348\", element=\"172242cd-602b-45ef-a6cc-a5438764c551\")>,\n",
       " <selenium.webdriver.remote.webelement.WebElement (session=\"cc5278bb68ca31deb99bd145c1a80348\", element=\"f6b88755-7aab-40e2-b34a-13eeeace7e57\")>,\n",
       " <selenium.webdriver.remote.webelement.WebElement (session=\"cc5278bb68ca31deb99bd145c1a80348\", element=\"0d384be6-6531-4fa5-9a2b-8c3f88cfd5d4\")>]"
      ]
     },
     "metadata": {},
     "execution_count": 3
    }
   ],
   "source": [
    "#03. 서울특별시의 구 리스트 추출하기. \n",
    "region = driver.find_element_by_xpath('//*[@id=\"SIGUNGU_NM0\"]')\n",
    "gu_list = region.find_elements_by_css_selector('option')\n",
    "gu_list"
   ]
  },
  {
   "cell_type": "code",
   "execution_count": 4,
   "metadata": {},
   "outputs": [
    {
     "output_type": "execute_result",
     "data": {
      "text/plain": [
       "['시/군/구',\n",
       " '강남구',\n",
       " '강동구',\n",
       " '강북구',\n",
       " '강서구',\n",
       " '관악구',\n",
       " '광진구',\n",
       " '구로구',\n",
       " '금천구',\n",
       " '노원구',\n",
       " '도봉구',\n",
       " '동대문구',\n",
       " '동작구',\n",
       " '마포구',\n",
       " '서대문구',\n",
       " '서초구',\n",
       " '성동구',\n",
       " '성북구',\n",
       " '송파구',\n",
       " '양천구',\n",
       " '영등포구',\n",
       " '용산구',\n",
       " '은평구',\n",
       " '종로구',\n",
       " '중구',\n",
       " '중랑구']"
      ]
     },
     "metadata": {},
     "execution_count": 4
    }
   ],
   "source": [
    "#04. text로 변환하여 추출하기. \n",
    "gu_names = [gu.text for gu in gu_list]\n",
    "gu_names"
   ]
  },
  {
   "cell_type": "code",
   "execution_count": 5,
   "metadata": {},
   "outputs": [
    {
     "output_type": "execute_result",
     "data": {
      "text/plain": [
       "['강남구',\n",
       " '강동구',\n",
       " '강북구',\n",
       " '강서구',\n",
       " '관악구',\n",
       " '광진구',\n",
       " '구로구',\n",
       " '금천구',\n",
       " '노원구',\n",
       " '도봉구',\n",
       " '동대문구',\n",
       " '동작구',\n",
       " '마포구',\n",
       " '서대문구',\n",
       " '서초구',\n",
       " '성동구',\n",
       " '성북구',\n",
       " '송파구',\n",
       " '양천구',\n",
       " '영등포구',\n",
       " '용산구',\n",
       " '은평구',\n",
       " '종로구',\n",
       " '중구',\n",
       " '중랑구']"
      ]
     },
     "metadata": {},
     "execution_count": 5
    }
   ],
   "source": [
    "#05. gu_names 리스트에 '시/군/구' element 삭제하기. \n",
    "gu_names.remove('시/군/구')\n",
    "gu_names"
   ]
  },
  {
   "cell_type": "code",
   "execution_count": 6,
   "metadata": {},
   "outputs": [],
   "source": [
    "#06. 구 별 엑셀 파일 다운로드 하기. \n",
    "for gu in gu_names :\n",
    "    region = driver.find_element_by_css_selector(\"#SIGUNGU_NM0\")\n",
    "    region.send_keys(gu)\n",
    "    driver.find_element_by_xpath('//*[@id=\"glopopd_excel\"]').click()"
   ]
  },
  {
   "cell_type": "code",
   "execution_count": 7,
   "metadata": {},
   "outputs": [],
   "source": [
    "#07. driver 종료하기. \n",
    "driver.close()"
   ]
  }
 ]
}