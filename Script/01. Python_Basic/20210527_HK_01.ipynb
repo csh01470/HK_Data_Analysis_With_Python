{
 "metadata": {
  "language_info": {
   "codemirror_mode": {
    "name": "ipython",
    "version": 3
   },
   "file_extension": ".py",
   "mimetype": "text/x-python",
   "name": "python",
   "nbconvert_exporter": "python",
   "pygments_lexer": "ipython3",
   "version": "3.9.4"
  },
  "orig_nbformat": 2,
  "kernelspec": {
   "name": "python394jvsc74a57bd0970b6f8752eefbcba9fc27b36d3deea80bcc92bf9cb37d4108e55fcbb51a21e9",
   "display_name": "Python 3.9.4 64-bit ('PythonProject': conda)"
  }
 },
 "nbformat": 4,
 "nbformat_minor": 2,
 "cells": [
  {
   "cell_type": "code",
   "execution_count": 5,
   "metadata": {},
   "outputs": [
    {
     "output_type": "stream",
     "name": "stdout",
     "text": [
      "red, blue, green, yellow, \n"
     ]
    }
   ],
   "source": [
    "#2021.05.26. TUR\n",
    "#Hankyeong\n",
    "\n",
    "##CH.08 Python 스타일 코드 1\n",
    "#01. join(), String을 결합하여 리스트로 변환하기.\n",
    "#(1) 기존의 방식으로 list를 String화 하기.\n",
    "colors = ['red','blue','green','yellow']\n",
    "colors_text = \"\"\n",
    "for color in colors :\n",
    "    colors_text += color + ', '\n",
    "print(colors_text)"
   ]
  },
  {
   "cell_type": "code",
   "execution_count": 6,
   "metadata": {},
   "outputs": [
    {
     "output_type": "stream",
     "name": "stdout",
     "text": [
      "red, blue, green, yellow\n"
     ]
    }
   ],
   "source": [
    "#PLUS. 끝에 \",\" 제거하기.\n",
    "colors_text = \"\"\n",
    "for index, color in enumerate(colors) :\n",
    "    colors_text += color\n",
    "    if index != len(colors) -1        :\n",
    "        colors_text += ', '\n",
    "print(colors_text)"
   ]
  },
  {
   "cell_type": "code",
   "execution_count": 8,
   "metadata": {},
   "outputs": [
    {
     "output_type": "stream",
     "name": "stdout",
     "text": [
      "red, blue, green, yellow\n"
     ]
    }
   ],
   "source": [
    "#(2) Python스럽게 코딩하기.\n",
    "print(', '.join(colors))"
   ]
  },
  {
   "cell_type": "code",
   "execution_count": 7,
   "metadata": {},
   "outputs": [
    {
     "output_type": "stream",
     "name": "stdout",
     "text": [
      "red, blue, green, yellow\n"
     ]
    }
   ],
   "source": [
    "#OR \n",
    "print(', '.join(color for color in colors))"
   ]
  },
  {
   "cell_type": "code",
   "execution_count": 12,
   "metadata": {},
   "outputs": [
    {
     "output_type": "stream",
     "name": "stdout",
     "text": [
      "[0, 1, 2, 3, 4, 5, 6, 7, 8, 9]\n"
     ]
    }
   ],
   "source": [
    "#02. List Comprehension\n",
    "#(1) 기존의 방법으로 리스트 할당하기.\n",
    "empty_list = list()\n",
    "for i in range(9+1) :\n",
    "    empty_list.append(i)\n",
    "print(empty_list)"
   ]
  },
  {
   "cell_type": "code",
   "execution_count": 16,
   "metadata": {},
   "outputs": [
    {
     "output_type": "stream",
     "name": "stdout",
     "text": [
      "[0, 1, 2, 3, 4, 5, 6, 7, 8, 9]\n"
     ]
    }
   ],
   "source": [
    "#(2) Comprehension을 이용해 리스트 할당하기.\n",
    "empty_list_2 = [i for i in range(9+1)]\n",
    "print(empty_list_2)"
   ]
  },
  {
   "cell_type": "code",
   "execution_count": 2,
   "metadata": {},
   "outputs": [
    {
     "output_type": "stream",
     "name": "stdout",
     "text": [
      "[1.0, 1.4142135623730951, 1.7320508075688772, 2.0, 2.23606797749979, 2.449489742783178, 2.6457513110645907, 2.8284271247461903, 3.0, 3.1622776601683795]\n"
     ]
    }
   ],
   "source": [
    "#PLUS. \n",
    "import math\n",
    "print([math.sqrt(x) for x in range(1,10+1)])"
   ]
  },
  {
   "cell_type": "code",
   "execution_count": 3,
   "metadata": {},
   "outputs": [
    {
     "output_type": "stream",
     "name": "stdout",
     "text": [
      "[0, 2, 4, 6, 8, 10]\n"
     ]
    }
   ],
   "source": [
    "#(3) 조건(Filtering)을 부여하기.\n",
    "print([i for i in range(10+1) if i % 2 == 0])"
   ]
  },
  {
   "cell_type": "code",
   "execution_count": 9,
   "metadata": {},
   "outputs": [
    {
     "output_type": "stream",
     "name": "stdout",
     "text": [
      "['odd', 2, 'odd', 4, 'odd', 6, 'odd', 8, 'odd', 10]\n"
     ]
    }
   ],
   "source": [
    "#PLUS. 조건의 위치는 다르게 할 수도 있음.\n",
    "print([i if i % 2 == 0 else \"odd\" for i in range(1,10+1)])"
   ]
  },
  {
   "cell_type": "code",
   "execution_count": 11,
   "metadata": {},
   "outputs": [
    {
     "output_type": "stream",
     "name": "stdout",
     "text": [
      "['1x', '1y', '1z', '2x', '2y', '2z', '3x', '3y', '3z']\n"
     ]
    }
   ],
   "source": [
    "#(4) 중첩반복문 만들기.\n",
    "str_1 = \"123\"\n",
    "str_2 = \"xyz\"\n",
    "print([i+k for i in str_1 for k in str_2])"
   ]
  },
  {
   "cell_type": "code",
   "execution_count": 15,
   "metadata": {},
   "outputs": [
    {
     "output_type": "stream",
     "name": "stdout",
     "text": [
      "['1x', '1y', '1z', '2x', '2y', '2z', '3x', '3y', '3z']\n"
     ]
    }
   ],
   "source": [
    "#PLUS. 가독성 높이기.\n",
    "print([i+k for i in str_1 \\\n",
    "        for k in str_2])"
   ]
  },
  {
   "cell_type": "code",
   "execution_count": 23,
   "metadata": {},
   "outputs": [
    {
     "output_type": "execute_result",
     "data": {
      "text/plain": [
       "[['word: a', 'lenth: 1'],\n",
       " ['word: quick', 'lenth: 5'],\n",
       " ['word: brown', 'lenth: 5'],\n",
       " ['word: fox', 'lenth: 3'],\n",
       " ['word: jumps', 'lenth: 5'],\n",
       " ['word: over', 'lenth: 4'],\n",
       " ['word: the', 'lenth: 3'],\n",
       " ['word: lazy', 'lenth: 4'],\n",
       " ['word: dog.', 'lenth: 4']]"
      ]
     },
     "metadata": {},
     "execution_count": 23
    }
   ],
   "source": [
    "#(5) 2차원 리스트 만들기.\n",
    "text= \"A quick brown fox jumps over the lazy dog.\"\n",
    "[[f'word: {word.lower()}', f'lenth: {len(word)}'] for word in text.split()]"
   ]
  },
  {
   "cell_type": "code",
   "execution_count": 2,
   "metadata": {},
   "outputs": [
    {
     "output_type": "stream",
     "name": "stdout",
     "text": [
      "{'apple': 15, 'banana': 21, 'cherry': 19}\n"
     ]
    }
   ],
   "source": [
    "#03. Dictionary Comprehension\n",
    "#(1) 기존의 방법으로 딕셔너리 할당하기.\n",
    "key_list = ['apple','banana','cherry']\n",
    "value_list = [15,21,19]\n",
    "fruits=dict(zip(key_list,value_list))\n",
    "print(fruits)"
   ]
  },
  {
   "cell_type": "code",
   "execution_count": 52,
   "metadata": {},
   "outputs": [
    {
     "output_type": "execute_result",
     "data": {
      "text/plain": [
       "{'apple': 15, 'banana': 21, 'cherry': 19}"
      ]
     },
     "metadata": {},
     "execution_count": 52
    }
   ],
   "source": [
    "#(2) Comprehension을 통해 딕셔너리 할당하기.\n",
    "{fruit:quantity for fruit,quantity in zip(key_list,value_list)}"
   ]
  },
  {
   "cell_type": "code",
   "execution_count": null,
   "metadata": {},
   "outputs": [],
   "source": [
    "#(3) 조건(Filtering)을 부여하기.\n",
    "#①fruit가 banana가 아닌 딕셔너리 정의하기.\n",
    "{fruit:quantity for fruit,quantity in zip(key_list,value_list) if fruit!=\"banana\"}"
   ]
  },
  {
   "cell_type": "code",
   "execution_count": 4,
   "metadata": {},
   "outputs": [
    {
     "output_type": "execute_result",
     "data": {
      "text/plain": [
       "{'apple': 15, 'banana': 21}"
      ]
     },
     "metadata": {},
     "execution_count": 4
    }
   ],
   "source": [
    "#②quantity가 19가 아닌 딕셔너리 정의하기.\n",
    "{fruit:quantity for fruit,quantity in zip(key_list,value_list) if quantity!=19}"
   ]
  },
  {
   "cell_type": "code",
   "execution_count": 5,
   "metadata": {},
   "outputs": [
    {
     "output_type": "stream",
     "name": "stdout",
     "text": [
      "0 apple\n1 banana\n2 cherry\n"
     ]
    }
   ],
   "source": [
    "#PLUS. enumerate()를 이용해 index number 출력하기.\n",
    "fruits=['apple','banana','cherry']\n",
    "for i, fruit in enumerate(fruits) :\n",
    "    print(i, fruit)"
   ]
  }
 ]
}