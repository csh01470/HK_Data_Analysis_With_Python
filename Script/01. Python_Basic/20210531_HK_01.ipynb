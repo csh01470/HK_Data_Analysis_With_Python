{
 "metadata": {
  "language_info": {
   "codemirror_mode": {
    "name": "ipython",
    "version": 3
   },
   "file_extension": ".py",
   "mimetype": "text/x-python",
   "name": "python",
   "nbconvert_exporter": "python",
   "pygments_lexer": "ipython3",
   "version": "3.8.8"
  },
  "orig_nbformat": 2,
  "kernelspec": {
   "name": "python388jvsc74a57bd0389278cbb61c1c57cad107a3c1fdd79953aeebb4509d1d7f21aea6fe620a6af8",
   "display_name": "Python 3.8.8 64-bit ('base': conda)"
  }
 },
 "nbformat": 4,
 "nbformat_minor": 2,
 "cells": [
  {
   "cell_type": "code",
   "execution_count": 5,
   "metadata": {},
   "outputs": [
    {
     "output_type": "stream",
     "name": "stdout",
     "text": [
      "I Have a Dream, a song to sing\nTo help me cope, with anything\nIf you see the wonder, of a fairy tale\nYou can take the future, even if you fail\nI believe in angels\nSomething good in everything I see\nI believe in angels\nWhen I know the time is right for me\nI'll cross the stream, I Have a Dream\n"
     ]
    }
   ],
   "source": [
    "#2021.05.31. MON\n",
    "#Hankyeong\n",
    "\n",
    "#04. 파일(File) 다루기\n",
    "#(1) 파일은 컴퓨터를 실행할 때 가장 기본이 되는 단위임. \n",
    "\n",
    "#TIP. File과 Directory의 개념 \n",
    "#①Directory는 파일을 담는 또 하나의 파일로, 여러 파일을 포함할 수 있는 그릇임. 보통 논리적인 단위로 파일을 묶기 위해 사용함.\n",
    "#②Program 안에선 /(root)를 씀으로써 file directory가 가능함.\n",
    "#③Windows에서는 Directory를 폴더라고 정의함.\n",
    "\n",
    "#(2) 파일의 종류\n",
    "#①Text file   : 사람도 이해할 수 있는 형태인 문자열 형식으로 저장된 파일 ex) .txt, .html, .ipynb, .py, ...\n",
    "#②Binary file : 컴퓨터만 이해할 수 있는 형태인 이진 형식으로 저장된 파일 ex) .xslx, .docx, .hwp, ... \n",
    "\n",
    "#(3) File의 진입(Access) 순서\n",
    "#①open\n",
    "#②read or write or append ... (action) \n",
    "#③close \n",
    "#PLUS. 보통 사용자는 close단계를 깜빡하는데, 그럴경우 프로그램이 느려지고 버그걸리는 등의 문제가 생김. \n",
    "\n",
    "#TIP. 특정 파일의 Access에는 권한이 필요함\n",
    "\n",
    "#02. Text파일 읽기(read).\n",
    "#(1) 파일 읽기\n",
    "f= open(\"d:/Python_project/Hankyeong_DataAnalytics/Data/Abba_I_have_a_dream.txt\",\"r\")\n",
    "contents = f.read()\n",
    "print(contents)\n",
    "f.close()"
   ]
  },
  {
   "cell_type": "code",
   "execution_count": 6,
   "metadata": {},
   "outputs": [
    {
     "output_type": "stream",
     "name": "stdout",
     "text": [
      "<class 'str'>\nI Have a Dream, a song to sing\nTo help me cope, with anything\nIf you see the wonder, of a fairy tale\nYou can take the future, even if you fail\nI believe in angels\nSomething good in everything I see\nI believe in angels\nWhen I know the time is right for me\nI'll cross the stream, I Have a Dream\n"
     ]
    }
   ],
   "source": [
    "#(2) with문을 사용해 파일 읽기.\n",
    "with open(\"d:/Python_project/Hankyeong_DataAnalytics/Data/Abba_I_have_a_dream.txt\",\"r\") as my_file :\n",
    "    contents = my_file.read()\n",
    "    print(type(contents))\n",
    "    print(contents)"
   ]
  },
  {
   "cell_type": "code",
   "execution_count": 2,
   "metadata": {},
   "outputs": [
    {
     "output_type": "stream",
     "name": "stdout",
     "text": [
      "<class 'list'>\n['I Have a Dream, a song to sing\\n', 'To help me cope, with anything\\n', 'If you see the wonder, of a fairy tale\\n', 'You can take the future, even if you fail\\n', 'I believe in angels\\n', 'Something good in everything I see\\n', 'I believe in angels\\n', 'When I know the time is right for me\\n', \"I'll cross the stream, I Have a Dream\"]\n"
     ]
    }
   ],
   "source": [
    "#PLUS. txt 파일 한 줄씩 읽어서 리스트로 반환하기, readlines()\n",
    "with open(\"d:/Python_project/Hankyeong_DataAnalytics/Data/Abba_I_have_a_dream.txt\",\"r\") as my_file :\n",
    "    contents_list = my_file.readlines()\n",
    "    print(type(contents_list))\n",
    "    print(contents_list)"
   ]
  },
  {
   "cell_type": "code",
   "execution_count": 3,
   "metadata": {},
   "outputs": [
    {
     "output_type": "stream",
     "name": "stdout",
     "text": [
      "I Have a Dream, a song to sing\n\n"
     ]
    }
   ],
   "source": [
    "print(contents_list[0])"
   ]
  },
  {
   "cell_type": "code",
   "execution_count": 16,
   "metadata": {},
   "outputs": [
    {
     "output_type": "stream",
     "name": "stdout",
     "text": [
      "1: I Have a Dream, a song to sing\n2: To help me cope, with anything\n3: If you see the wonder, of a fairy tale\n4: You can take the future, even if you fail\n5: I believe in angels\n6: Something good in everything I see\n7: I believe in angels\n8: When I know the time is right for me\n9: I'll cross the stream, I Have a Dream\n"
     ]
    }
   ],
   "source": [
    "#PLUS. txt 파일 한 줄 단위로 읽기, readline()\n",
    "with open(\"d:/Python_project/Hankyeong_DataAnalytics/Data/Abba_I_have_a_dream.txt\",\"r\") as my_file :\n",
    "    number = 1\n",
    "    while True :\n",
    "        line = my_file.readline()\n",
    "        if not line : \n",
    "            break\n",
    "        print(number,\": \",line.replace(\"\\n\",\"\"), sep=\"\")\n",
    "        number += 1"
   ]
  },
  {
   "cell_type": "code",
   "execution_count": 4,
   "metadata": {},
   "outputs": [],
   "source": [
    "#03. Text 파일 쓰기(write)\n",
    "#(1) 파일 쓰기\n",
    "with open(\"d:/Python_project/Hankyeong_DataAnalytics/Data/Brown_Fox.txt\",\"w\",encoding=\"utf8\") as f :\n",
    "    f.write(\"A quick brown fox jumps over the lazy dog.\\n\")"
   ]
  },
  {
   "cell_type": "code",
   "execution_count": null,
   "metadata": {},
   "outputs": [],
   "source": [
    "#(2) 파일 덧붙이기"
   ]
  },
  {
   "cell_type": "code",
   "execution_count": 6,
   "metadata": {},
   "outputs": [],
   "source": [
    "with open(\"d:/Python_project/Hankyeong_DataAnalytics/Data/Brown_Fox.txt\",\"a\",encoding=\"utf8\") as f :\n",
    "    f.write(\"빠른 갈색 여우가 게으른 개를 뛰어 넘습니다.\\n\")"
   ]
  },
  {
   "cell_type": "code",
   "execution_count": 8,
   "metadata": {},
   "outputs": [],
   "source": [
    "#04. Binary 파일 Access하기.\n",
    "#(1) pickle 모듈을 활용해서 쓰기(write).\n",
    "test_list = [1,True,3.14,\"string\"]\n",
    "test_list\n",
    "import pickle\n",
    "\n",
    "with open(\"d:/Python_project/Hankyeong_DataAnalytics/Data/list.pickle\",\"wb\") as bf :\n",
    "    pickle.dump(test_list, bf)"
   ]
  },
  {
   "cell_type": "code",
   "execution_count": 9,
   "metadata": {},
   "outputs": [
    {
     "output_type": "execute_result",
     "data": {
      "text/plain": [
       "[1, True, 3.14, 'string']"
      ]
     },
     "metadata": {},
     "execution_count": 9
    }
   ],
   "source": [
    "#(2) pickle 모듈을 활용해서 읽기(read).\n",
    "with open(\"d:/Python_project/Hankyeong_DataAnalytics/Data/list.pickle\",\"rb\") as bf :\n",
    "    test_binary = pickle.load(bf)\n",
    "test_binary"
   ]
  },
  {
   "cell_type": "code",
   "execution_count": null,
   "metadata": {},
   "outputs": [],
   "source": [
    "#05. Directory 만들기\n",
    "#생략"
   ]
  }
 ]
}