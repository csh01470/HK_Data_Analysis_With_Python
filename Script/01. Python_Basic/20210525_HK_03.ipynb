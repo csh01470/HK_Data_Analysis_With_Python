{
 "metadata": {
  "language_info": {
   "codemirror_mode": {
    "name": "ipython",
    "version": 3
   },
   "file_extension": ".py",
   "mimetype": "text/x-python",
   "name": "python",
   "nbconvert_exporter": "python",
   "pygments_lexer": "ipython3",
   "version": "3.9.4"
  },
  "orig_nbformat": 2,
  "kernelspec": {
   "name": "python394jvsc74a57bd0970b6f8752eefbcba9fc27b36d3deea80bcc92bf9cb37d4108e55fcbb51a21e9",
   "display_name": "Python 3.9.4 64-bit ('PythonProject': conda)"
  }
 },
 "nbformat": 4,
 "nbformat_minor": 2,
 "cells": [
  {
   "cell_type": "code",
   "execution_count": null,
   "metadata": {},
   "outputs": [],
   "source": [
    "#2021.05.25. TUE\n",
    "#Hankyeong\n",
    "\n",
    "##CH.06 문자열\n",
    "#01. 문자열(String)의 이해\n",
    "#(1) 문자열의 특징\n",
    "# ①시퀀스 자료형이라, 인덱싱/ 슬라이싱이 가능함.\n",
    "# ②다양한 Method가 가능함.\n",
    "# ③정규표현식(Regular Expression)이 가능함.\n"
   ]
  },
  {
   "cell_type": "code",
   "execution_count": 1,
   "metadata": {},
   "outputs": [
    {
     "output_type": "stream",
     "name": "stdout",
     "text": [
      "5\n"
     ]
    }
   ],
   "source": [
    "#(2) 문자열의 여러 기능\n",
    "#① len() 함수\n",
    "string=\"Hello\"\n",
    "print(len(string))"
   ]
  },
  {
   "cell_type": "code",
   "execution_count": 2,
   "metadata": {},
   "outputs": [
    {
     "output_type": "stream",
     "name": "stdout",
     "text": [
      "Hell\n"
     ]
    }
   ],
   "source": [
    "#② [](인덱싱,indexing)\n",
    "print(string[:4])"
   ]
  },
  {
   "cell_type": "code",
   "execution_count": 9,
   "metadata": {},
   "outputs": [
    {
     "output_type": "stream",
     "name": "stdout",
     "text": [
      "Go to Hell\n"
     ]
    }
   ],
   "source": [
    "#PLUS. 문자열의 연산은 *는 반복하고, +는 문자를 연결(Concatenate)함.\n",
    "print(\"Go to \"+string[:4])"
   ]
  },
  {
   "cell_type": "code",
   "execution_count": 4,
   "metadata": {},
   "outputs": [
    {
     "output_type": "stream",
     "name": "stdout",
     "text": [
      "a quick brown fox jumps over the lazy dog.\nA QUICK BROWN FOX JUMPS OVER THE LAZY DOG.\n"
     ]
    }
   ],
   "source": [
    "#(3) 문자열의 여러 Method\n",
    "#① lower() & upper()\n",
    "text = \"A quick brown fox jumps over the lazy dog.\"\n",
    "print(text.lower())\n",
    "print(text.upper())"
   ]
  },
  {
   "cell_type": "code",
   "execution_count": 5,
   "metadata": {},
   "outputs": [
    {
     "output_type": "stream",
     "name": "stdout",
     "text": [
      "A Quick Brown Fox Jumps Over The Lazy Dog.\n"
     ]
    }
   ],
   "source": [
    "#② title()\n",
    "print(text.title())"
   ]
  },
  {
   "cell_type": "code",
   "execution_count": 6,
   "metadata": {},
   "outputs": [
    {
     "output_type": "stream",
     "name": "stdout",
     "text": [
      "A quick brown fox jumps over the lazy dog.\n"
     ]
    }
   ],
   "source": [
    "#③ capitialize()\n",
    "print(text.lower().capitalize())\n",
    "#PLUS. Python의 Method chaining = R의 %>%(Pipe operator)"
   ]
  },
  {
   "cell_type": "code",
   "execution_count": 7,
   "metadata": {},
   "outputs": [
    {
     "output_type": "stream",
     "name": "stdout",
     "text": [
      "1\n"
     ]
    }
   ],
   "source": [
    "#⑥ count()\n",
    "print(text.count('x'))"
   ]
  },
  {
   "cell_type": "code",
   "execution_count": 8,
   "metadata": {},
   "outputs": [
    {
     "output_type": "stream",
     "name": "stdout",
     "text": [
      "False\n"
     ]
    }
   ],
   "source": [
    "#⑦ isdigit()\n",
    "print(text.isdigit())"
   ]
  },
  {
   "cell_type": "code",
   "execution_count": 10,
   "metadata": {},
   "outputs": [
    {
     "output_type": "stream",
     "name": "stdout",
     "text": [
      "True\n"
     ]
    }
   ],
   "source": [
    "#⑧ startswith()\n",
    "print(text.startswith('A'))"
   ]
  },
  {
   "cell_type": "code",
   "execution_count": 11,
   "metadata": {},
   "outputs": [
    {
     "output_type": "stream",
     "name": "stdout",
     "text": [
      "True\n"
     ]
    }
   ],
   "source": [
    "#⑨ endswith()\n",
    "print(text.endswith('dog.'))"
   ]
  },
  {
   "cell_type": "code",
   "execution_count": 12,
   "metadata": {},
   "outputs": [
    {
     "output_type": "stream",
     "name": "stdout",
     "text": [
      "14\n"
     ]
    }
   ],
   "source": [
    "#⑩ find()\n",
    "print(text.find('fox'))"
   ]
  },
  {
   "cell_type": "code",
   "execution_count": 13,
   "metadata": {},
   "outputs": [
    {
     "output_type": "stream",
     "name": "stdout",
     "text": [
      "-1\n"
     ]
    }
   ],
   "source": [
    "#PLUS. find() 메쏘드에서 찾는 문자가 없을 경우 -1로 값이 반환됨.\n",
    "print(text.find('wolf'))"
   ]
  },
  {
   "cell_type": "code",
   "execution_count": 14,
   "metadata": {},
   "outputs": [
    {
     "output_type": "stream",
     "name": "stdout",
     "text": [
      "Data Analytics With Python\nData Analytics With Python    \n    Data Analytics With Python\n"
     ]
    }
   ],
   "source": [
    "#⑪ strip() & lstrip() & rstrip()\n",
    "print('    Data Analytics With Python    '.strip())\n",
    "print('    Data Analytics With Python    '.lstrip())\n",
    "print('    Data Analytics With Python    '.rstrip())"
   ]
  },
  {
   "cell_type": "code",
   "execution_count": 5,
   "metadata": {},
   "outputs": [
    {
     "output_type": "execute_result",
     "data": {
      "text/plain": [
       "'Data Analytics With Python'"
      ]
     },
     "metadata": {},
     "execution_count": 5
    }
   ],
   "source": [
    "#PLUS. split() Method는 다른 값을 인수?로 넣어서 삭제할 수 있음.\n",
    "' Data Analytics With Python. '.strip().strip(\".\")"
   ]
  },
  {
   "cell_type": "code",
   "execution_count": 15,
   "metadata": {},
   "outputs": [
    {
     "output_type": "stream",
     "name": "stdout",
     "text": [
      "['A', 'quick', 'brown', 'fox', 'jumps', 'over', 'the', 'lazy', 'dog.']\n"
     ]
    }
   ],
   "source": [
    "#⑫ split()\n",
    "print(text.split())"
   ]
  },
  {
   "cell_type": "code",
   "execution_count": 16,
   "metadata": {},
   "outputs": [
    {
     "output_type": "stream",
     "name": "stdout",
     "text": [
      "\nA quick brown fox jumps over the lazy dog.\n나는 민족 중흥의 역사적 사명을 띠고 이 땅에 태어났다.\n\n"
     ]
    }
   ],
   "source": [
    "#PLUS. 여러 줄의 입력값을 String으로 처리하기.\n",
    "text_multi_line = \"\"\"\n",
    "A quick brown fox jumps over the lazy dog.\n",
    "나는 민족 중흥의 역사적 사명을 띠고 이 땅에 태어났다.\n",
    "\"\"\"\n",
    "print(text_multi_line)"
   ]
  }
 ]
}