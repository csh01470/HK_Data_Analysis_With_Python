{
 "metadata": {
  "language_info": {
   "codemirror_mode": {
    "name": "ipython",
    "version": 3
   },
   "file_extension": ".py",
   "mimetype": "text/x-python",
   "name": "python",
   "nbconvert_exporter": "python",
   "pygments_lexer": "ipython3",
   "version": "3.8.8"
  },
  "orig_nbformat": 2,
  "kernelspec": {
   "name": "python388jvsc74a57bd0389278cbb61c1c57cad107a3c1fdd79953aeebb4509d1d7f21aea6fe620a6af8",
   "display_name": "Python 3.8.8 64-bit ('base': conda)"
  }
 },
 "nbformat": 4,
 "nbformat_minor": 2,
 "cells": [
  {
   "cell_type": "code",
   "execution_count": 2,
   "metadata": {},
   "outputs": [
    {
     "output_type": "execute_result",
     "data": {
      "text/plain": [
       "['red', 'green', 'blue']"
      ]
     },
     "metadata": {},
     "execution_count": 2
    }
   ],
   "source": [
    "#2021.05.21. FRI\n",
    "#Hankyeong\n",
    "\n",
    "#02. Python의 리스트 인덱싱 배우기\n",
    "colors = ['red','green','blue']\n",
    "colors"
   ]
  },
  {
   "cell_type": "code",
   "execution_count": 6,
   "metadata": {},
   "outputs": [
    {
     "output_type": "stream",
     "name": "stdout",
     "text": [
      "red red\nblue blue\n"
     ]
    }
   ],
   "source": [
    "#Tip. python은 장기처럼 격자(라인)을 기준으로 수를 세고, R은 체스처럼 여백(공간)을 기준으로 수를 셈.\n",
    "print(colors[0], colors[-3])\n",
    "print(colors[2], colors[-1])"
   ]
  },
  {
   "cell_type": "code",
   "execution_count": 7,
   "metadata": {},
   "outputs": [],
   "source": [
    "#TIP. R의 인덱싱에서 -(minus sign)은 그 원소를 빼라는 것이지만, Python에서는 뒤에서부터 셈을 명시"
   ]
  },
  {
   "cell_type": "code",
   "execution_count": 8,
   "metadata": {},
   "outputs": [
    {
     "output_type": "execute_result",
     "data": {
      "text/plain": [
       "['red', 'green', 'blue', 32]"
      ]
     },
     "metadata": {},
     "execution_count": 8
    }
   ],
   "source": [
    "#PLUS. 리스트에는 다양한 타입이 들어갈 수 있음.\n",
    "colors = ['red','green','blue',32]\n",
    "colors"
   ]
  },
  {
   "source": [
    "#03. 리스트 슬라이싱(Slicing)\n",
    "#HOW? list[시작값(위치순서):끝값:증분]\n",
    "#(1) 시작값(0)은 생략가능함.\n",
    "cities = ['서울','부산','인천','대구','대전','광주','울산','세종']\n",
    "print(cities[0:3], cities[:3]) "
   ],
   "cell_type": "code",
   "metadata": {},
   "execution_count": 4,
   "outputs": [
    {
     "output_type": "stream",
     "name": "stdout",
     "text": [
      "['서울', '부산', '인천'] ['서울', '부산', '인천']\n"
     ]
    }
   ]
  },
  {
   "cell_type": "code",
   "execution_count": 5,
   "metadata": {},
   "outputs": [
    {
     "output_type": "stream",
     "name": "stdout",
     "text": [
      "['광주', '울산', '세종']\n"
     ]
    }
   ],
   "source": [
    "#(2) 6번째 원소부터 출력하기.\n",
    "print(cities[5:])"
   ]
  },
  {
   "cell_type": "code",
   "execution_count": 6,
   "metadata": {},
   "outputs": [
    {
     "output_type": "stream",
     "name": "stdout",
     "text": [
      "['서울', '부산', '인천', '대구', '대전', '광주', '울산', '세종']\n"
     ]
    }
   ],
   "source": [
    "#(3) 시작값(인덱스 값:0)과 마지막 원소를 생략하여 출력하기.\n",
    "print(cities[:])"
   ]
  },
  {
   "cell_type": "code",
   "execution_count": 13,
   "metadata": {},
   "outputs": [
    {
     "output_type": "execute_result",
     "data": {
      "text/plain": [
       "['서울', '인천', '대전', '울산']"
      ]
     },
     "metadata": {},
     "execution_count": 13
    }
   ],
   "source": [
    "#(3-1) 2씩 증분해서 인덱싱하기.\n",
    "cities[::2]"
   ]
  },
  {
   "cell_type": "code",
   "execution_count": 35,
   "metadata": {},
   "outputs": [
    {
     "output_type": "execute_result",
     "data": {
      "text/plain": [
       "['세종', '울산', '광주', '대전', '대구', '인천', '부산']"
      ]
     },
     "metadata": {},
     "execution_count": 35
    }
   ],
   "source": [
    "#(3-2) 1씩 차분해서 인덱싱하기.\n",
    "cities[7:0:-1]"
   ]
  },
  {
   "cell_type": "code",
   "execution_count": 37,
   "metadata": {},
   "outputs": [
    {
     "output_type": "execute_result",
     "data": {
      "text/plain": [
       "[]"
      ]
     },
     "metadata": {},
     "execution_count": 37
    }
   ],
   "source": [
    "#(4) 시작값 < 끝값 이어야함. \n",
    "cities[7:0] "
   ]
  },
  {
   "cell_type": "code",
   "execution_count": 38,
   "metadata": {},
   "outputs": [
    {
     "output_type": "execute_result",
     "data": {
      "text/plain": [
       "['서울', '부산', '인천', '대구', '대전', '광주', '울산', '세종']"
      ]
     },
     "metadata": {},
     "execution_count": 38
    }
   ],
   "source": [
    "#(5) 인덱스의 범위가 리스트의 원소개수보다 커도 ERROR가 나지 않음. \n",
    "cities[-10:10]"
   ]
  },
  {
   "source": [
    "#04. 리스트 연산하기.\n",
    "#(1) 덧셈 연산하기.\n",
    "colors_1 = ['red','green','blue']\n",
    "colors_2 = ['orange','balck','white']\n",
    "print(colors_1+colors_2)"
   ],
   "cell_type": "code",
   "metadata": {},
   "execution_count": 2,
   "outputs": [
    {
     "output_type": "stream",
     "name": "stdout",
     "text": [
      "['red', 'green', 'blue', 'orange', 'balck', 'white']\n"
     ]
    }
   ]
  },
  {
   "cell_type": "code",
   "execution_count": 15,
   "metadata": {},
   "outputs": [
    {
     "output_type": "error",
     "ename": "TypeError",
     "evalue": "unsupported operand type(s) for -: 'list' and 'list'",
     "traceback": [
      "\u001b[1;31m---------------------------------------------------------------------------\u001b[0m",
      "\u001b[1;31mTypeError\u001b[0m                                 Traceback (most recent call last)",
      "\u001b[1;32m<ipython-input-15-93e11b0b2869>\u001b[0m in \u001b[0;36m<module>\u001b[1;34m\u001b[0m\n\u001b[0;32m      1\u001b[0m \u001b[1;31m#(2) 뺄셈 연산하기\u001b[0m\u001b[1;33m\u001b[0m\u001b[1;33m\u001b[0m\u001b[1;33m\u001b[0m\u001b[0m\n\u001b[1;32m----> 2\u001b[1;33m \u001b[0mcolors_1\u001b[0m \u001b[1;33m-\u001b[0m \u001b[0mcolors_2\u001b[0m\u001b[1;33m\u001b[0m\u001b[1;33m\u001b[0m\u001b[0m\n\u001b[0m",
      "\u001b[1;31mTypeError\u001b[0m: unsupported operand type(s) for -: 'list' and 'list'"
     ]
    }
   ],
   "source": [
    "#(2) 뺄셈 연산하기\n",
    "colors_1 - colors_2"
   ]
  },
  {
   "cell_type": "code",
   "execution_count": 16,
   "metadata": {},
   "outputs": [
    {
     "output_type": "execute_result",
     "data": {
      "text/plain": [
       "['red', 'green', 'blue', 'red', 'green', 'blue']"
      ]
     },
     "metadata": {},
     "execution_count": 16
    }
   ],
   "source": [
    "#(3) 리스트에 숫자형 원소 곱하기.\n",
    "colors_1 * 2 "
   ]
  },
  {
   "cell_type": "code",
   "execution_count": 17,
   "metadata": {},
   "outputs": [
    {
     "output_type": "execute_result",
     "data": {
      "text/plain": [
       "(True, False)"
      ]
     },
     "metadata": {},
     "execution_count": 17
    }
   ],
   "source": [
    "#(4) in 연산자 사용하기. \n",
    "#TIP. R의 %in% 연산자(Match operator)\n",
    "'red' in colors_1, 'red' in colors_2"
   ]
  },
  {
   "cell_type": "code",
   "execution_count": 18,
   "metadata": {},
   "outputs": [
    {
     "output_type": "execute_result",
     "data": {
      "text/plain": [
       "(False, True)"
      ]
     },
     "metadata": {},
     "execution_count": 18
    }
   ],
   "source": [
    "#(5) not in 연산자 사용하기.\n",
    "'red' not in colors_1, 'red' not in colors_2"
   ]
  },
  {
   "source": [
    "#05. 리스트의 다양한 Method 사용하기.\n",
    "#(1) 리스트에 원소 1개 합치기, Append()"
   ],
   "cell_type": "code",
   "metadata": {},
   "execution_count": null,
   "outputs": []
  },
  {
   "cell_type": "code",
   "execution_count": 19,
   "metadata": {},
   "outputs": [
    {
     "output_type": "execute_result",
     "data": {
      "text/plain": [
       "['red', 'green', 'blue', 'white']"
      ]
     },
     "metadata": {},
     "execution_count": 19
    }
   ],
   "source": [
    "colors_1.append(\"white\")\n",
    "colors_1"
   ]
  },
  {
   "cell_type": "code",
   "execution_count": null,
   "metadata": {},
   "outputs": [],
   "source": [
    "#TIP. 변수를 할당할 필요 없이 변수가 재할당됨."
   ]
  },
  {
   "cell_type": "code",
   "execution_count": 20,
   "metadata": {},
   "outputs": [
    {
     "output_type": "error",
     "ename": "NameError",
     "evalue": "name 'append' is not defined",
     "traceback": [
      "\u001b[1;31m---------------------------------------------------------------------------\u001b[0m",
      "\u001b[1;31mNameError\u001b[0m                                 Traceback (most recent call last)",
      "\u001b[1;32m<ipython-input-20-69f457c8cd12>\u001b[0m in \u001b[0;36m<module>\u001b[1;34m\u001b[0m\n\u001b[0;32m      1\u001b[0m \u001b[1;31m#PLUS. R의 함수방식으로 사용하기.\u001b[0m\u001b[1;33m\u001b[0m\u001b[1;33m\u001b[0m\u001b[1;33m\u001b[0m\u001b[0m\n\u001b[1;32m----> 2\u001b[1;33m \u001b[0mappend\u001b[0m\u001b[1;33m(\u001b[0m\u001b[0mcolors_1\u001b[0m\u001b[1;33m,\u001b[0m\u001b[1;34m\"white\"\u001b[0m\u001b[1;33m)\u001b[0m\u001b[1;33m\u001b[0m\u001b[1;33m\u001b[0m\u001b[0m\n\u001b[0m",
      "\u001b[1;31mNameError\u001b[0m: name 'append' is not defined"
     ]
    }
   ],
   "source": [
    "#PLUS. R의 함수방식으로 사용하기. \n",
    "append(colors_1,\"white\")"
   ]
  },
  {
   "source": [
    "#06. 리스트에 여러 원소 합치기, extend()\n",
    "#(1) append() 와 비교하기.\n",
    "colors_1 = ['red','green','blue']\n",
    "colors_1.append([\"black\",\"white\"])\n",
    "colors_1"
   ],
   "cell_type": "code",
   "metadata": {},
   "execution_count": 36,
   "outputs": [
    {
     "output_type": "execute_result",
     "data": {
      "text/plain": [
       "['red', 'green', 'blue', ['black', 'white']]"
      ]
     },
     "metadata": {},
     "execution_count": 36
    }
   ]
  },
  {
   "cell_type": "code",
   "execution_count": 41,
   "metadata": {},
   "outputs": [
    {
     "output_type": "execute_result",
     "data": {
      "text/plain": [
       "['red', 'green', 'blue', 'black', 'white']"
      ]
     },
     "metadata": {},
     "execution_count": 41
    }
   ],
   "source": [
    "#(2) extend() 사용하기.\n",
    "colors_1=[\"red\",\"green\",\"blue\"]\n",
    "colors_1.extend([\"black\",\"white\"])\n",
    "colors_1"
   ]
  },
  {
   "source": [
    "#07. 원소 추가하기, insert()\n",
    "colors_1=[\"red\",\"green\",\"blue\"]\n",
    "colors_1.insert(0,\"orange\")\n",
    "colors_1"
   ],
   "cell_type": "code",
   "metadata": {},
   "execution_count": 38,
   "outputs": [
    {
     "output_type": "execute_result",
     "data": {
      "text/plain": [
       "['orange', 'red', 'green', 'blue']"
      ]
     },
     "metadata": {},
     "execution_count": 38
    }
   ]
  },
  {
   "source": [
    "#08. 원소 제거하기, remove()\n",
    "#(1) 원소를 정의해 제거하는 방법.\n",
    "colors_1.remove('orange')\n",
    "colors_1"
   ],
   "cell_type": "code",
   "metadata": {},
   "execution_count": 39,
   "outputs": [
    {
     "output_type": "execute_result",
     "data": {
      "text/plain": [
       "['red', 'green', 'blue']"
      ]
     },
     "metadata": {},
     "execution_count": 39
    }
   ]
  },
  {
   "cell_type": "code",
   "execution_count": 42,
   "metadata": {},
   "outputs": [
    {
     "output_type": "execute_result",
     "data": {
      "text/plain": [
       "['red', 'remove']"
      ]
     },
     "metadata": {},
     "execution_count": 42
    }
   ],
   "source": [
    "#(2) 원소의 인덱스값을 정의해 제거하는 방법\n",
    "colors_1=[\"red\",\"green\",\"remove\"]\n",
    "colors_1.remove(color[-0])\n",
    "colors_1"
   ]
  },
  {
   "source": [
    "#PLUS. del 명령어 사용해서 원소 제거하기.\n",
    "colors_1=[\"red\",\"green\",\"remove\"]\n",
    "del colors_1[-1]\n",
    "colors_1"
   ],
   "cell_type": "code",
   "metadata": {},
   "execution_count": 46,
   "outputs": [
    {
     "output_type": "execute_result",
     "data": {
      "text/plain": [
       "['red', 'green']"
      ]
     },
     "metadata": {},
     "execution_count": 46
    }
   ]
  },
  {
   "cell_type": "code",
   "execution_count": 128,
   "metadata": {},
   "outputs": [
    {
     "output_type": "execute_result",
     "data": {
      "text/plain": [
       "['red', 'green', 'purple']"
      ]
     },
     "metadata": {},
     "execution_count": 128
    }
   ],
   "source": [
    "#09. 인덱싱으로 원소 대체하기.\n",
    "colors_1=[\"red\",\"green\",\"blue\"]\n",
    "colors_1[2]=\"purple\"\n",
    "colors_1 "
   ]
  },
  {
   "source": [
    "#10. 리스트에서 오름차순, 내림차순하기, sort()"
   ],
   "cell_type": "code",
   "metadata": {},
   "execution_count": null,
   "outputs": []
  },
  {
   "cell_type": "code",
   "execution_count": 130,
   "metadata": {},
   "outputs": [
    {
     "output_type": "execute_result",
     "data": {
      "text/plain": [
       "['green', 'purple', 'red']"
      ]
     },
     "metadata": {},
     "execution_count": 130
    }
   ],
   "source": [
    "#(1)  오름차순(ascending order)\n",
    "colors_1=[\"red\",\"green\",\"blue\"]\n",
    "colors_1.sort()\n",
    "colors_1"
   ]
  },
  {
   "source": [
    "#(2) 내림차순(descending order)\n",
    "colors_1.sort(reverse=True)\n",
    "colors_1"
   ],
   "cell_type": "code",
   "metadata": {},
   "execution_count": 133,
   "outputs": [
    {
     "output_type": "execute_result",
     "data": {
      "text/plain": [
       "['red', 'purple', 'green']"
      ]
     },
     "metadata": {},
     "execution_count": 133
    }
   ]
  },
  {
   "source": [
    "#11. 패킹, 언패킹\n",
    "#(1) 리스트 패킹\n",
    "t=[1,2,3]\n",
    "t"
   ],
   "cell_type": "code",
   "metadata": {},
   "execution_count": 2,
   "outputs": [
    {
     "output_type": "execute_result",
     "data": {
      "text/plain": [
       "[1, 2, 3]"
      ]
     },
     "metadata": {},
     "execution_count": 2
    }
   ]
  },
  {
   "cell_type": "code",
   "execution_count": 3,
   "metadata": {},
   "outputs": [
    {
     "output_type": "stream",
     "name": "stdout",
     "text": [
      "1\n2\n3\n"
     ]
    }
   ],
   "source": [
    "#(2) 리스트 언패킹\n",
    "a,b,c = t\n",
    "print(a)\n",
    "print(b)\n",
    "print(c)"
   ]
  },
  {
   "source": [
    "#12. 이차원 리스트\n",
    "kor=[49,79,20,100,80]\n",
    "mat=[43,59,85,90,85]\n",
    "eng=[49,79,48,95,100]\n",
    "score=[kor,mat,eng]\n",
    "print(score)"
   ],
   "cell_type": "code",
   "metadata": {},
   "execution_count": 2,
   "outputs": [
    {
     "output_type": "stream",
     "name": "stdout",
     "text": [
      "[[49, 79, 20, 100, 80], [43, 59, 85, 90, 85], [49, 79, 48, 95, 100]]\n"
     ]
    }
   ]
  },
  {
   "cell_type": "code",
   "execution_count": 3,
   "metadata": {},
   "outputs": [
    {
     "output_type": "execute_result",
     "data": {
      "text/plain": [
       "[49, 79, 20, 100, 80]"
      ]
     },
     "metadata": {},
     "execution_count": 3
    }
   ],
   "source": [
    "#(1) 리스트 인덱싱\n",
    "score[0]"
   ]
  },
  {
   "cell_type": "code",
   "execution_count": 4,
   "metadata": {},
   "outputs": [
    {
     "output_type": "execute_result",
     "data": {
      "text/plain": [
       "90"
      ]
     },
     "metadata": {},
     "execution_count": 4
    }
   ],
   "source": [
    "#(2) [행인덱스],[열인덱스]\n",
    "score[1][3]"
   ]
  },
  {
   "cell_type": "code",
   "execution_count": 5,
   "metadata": {},
   "outputs": [
    {
     "output_type": "execute_result",
     "data": {
      "text/plain": [
       "[]"
      ]
     },
     "metadata": {},
     "execution_count": 5
    }
   ],
   "source": [
    "#(3) 리스트 행, 열 슬라이스\n",
    "score[1:2][2:]\n",
    "#PLUS. numpy 라이브러리?를 써야지 R처럼 [row,colomn]을 쓸 수 있음"
   ]
  },
  {
   "cell_type": "code",
   "execution_count": 6,
   "metadata": {},
   "outputs": [
    {
     "output_type": "execute_result",
     "data": {
      "text/plain": [
       "['__add__',\n",
       " '__class__',\n",
       " '__contains__',\n",
       " '__delattr__',\n",
       " '__delitem__',\n",
       " '__dir__',\n",
       " '__doc__',\n",
       " '__eq__',\n",
       " '__format__',\n",
       " '__ge__',\n",
       " '__getattribute__',\n",
       " '__getitem__',\n",
       " '__gt__',\n",
       " '__hash__',\n",
       " '__iadd__',\n",
       " '__imul__',\n",
       " '__init__',\n",
       " '__init_subclass__',\n",
       " '__iter__',\n",
       " '__le__',\n",
       " '__len__',\n",
       " '__lt__',\n",
       " '__mul__',\n",
       " '__ne__',\n",
       " '__new__',\n",
       " '__reduce__',\n",
       " '__reduce_ex__',\n",
       " '__repr__',\n",
       " '__reversed__',\n",
       " '__rmul__',\n",
       " '__setattr__',\n",
       " '__setitem__',\n",
       " '__sizeof__',\n",
       " '__str__',\n",
       " '__subclasshook__',\n",
       " 'append',\n",
       " 'clear',\n",
       " 'copy',\n",
       " 'count',\n",
       " 'extend',\n",
       " 'index',\n",
       " 'insert',\n",
       " 'pop',\n",
       " 'remove',\n",
       " 'reverse',\n",
       " 'sort']"
      ]
     },
     "metadata": {},
     "execution_count": 6
    }
   ],
   "source": [
    "#TIP. list의 사용가능한 method 확인하기.\n",
    "colors_1 = [\"red\",\"green\",\"blue\"]\n",
    "dir(colors_1)"
   ]
  }
 ]
}