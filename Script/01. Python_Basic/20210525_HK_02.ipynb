{
 "metadata": {
  "language_info": {
   "codemirror_mode": {
    "name": "ipython",
    "version": 3
   },
   "file_extension": ".py",
   "mimetype": "text/x-python",
   "name": "python",
   "nbconvert_exporter": "python",
   "pygments_lexer": "ipython3",
   "version": "3.9.4"
  },
  "orig_nbformat": 2,
  "kernelspec": {
   "name": "python394jvsc74a57bd0970b6f8752eefbcba9fc27b36d3deea80bcc92bf9cb37d4108e55fcbb51a21e9",
   "display_name": "Python 3.9.4 64-bit ('PythonProject': conda)"
  }
 },
 "nbformat": 4,
 "nbformat_minor": 2,
 "cells": [
  {
   "cell_type": "code",
   "execution_count": 1,
   "metadata": {},
   "outputs": [
    {
     "output_type": "stream",
     "name": "stdout",
     "text": [
      "Hi, 고은. my name is 상헌.\n"
     ]
    }
   ],
   "source": [
    "#2021.05.25. TUE\n",
    "#Hankyeong\n",
    "\n",
    "#03. 함수의 인수\n",
    "#(1) 위치인수(Positional argument)\n",
    "def print_something(my_name,your_name) :\n",
    "    return print(f'Hi, {your_name}. my name is {my_name}.')\n",
    "print_something(\"상헌\",\"고은\")"
   ]
  },
  {
   "cell_type": "code",
   "execution_count": 16,
   "metadata": {},
   "outputs": [
    {
     "output_type": "stream",
     "name": "stdout",
     "text": [
      "Hi, 고은. my name is 상헌.\n"
     ]
    }
   ],
   "source": [
    "#(2) 키워드 인수(Keyword argument)\n",
    "print_something(your_name=\"고은\",my_name=\"상헌\")"
   ]
  },
  {
   "cell_type": "code",
   "execution_count": 19,
   "metadata": {},
   "outputs": [
    {
     "output_type": "stream",
     "name": "stdout",
     "text": [
      "Hi, Everyone. my name is 상헌.\n"
     ]
    }
   ],
   "source": [
    "#(3) 디폴트 인수(Default argument)\n",
    "def print_something(my_name,your_name='Everyone') :\n",
    "    return print(f'Hi, {your_name}. my name is {my_name}.')\n",
    "print_something(\"상헌\")"
   ]
  },
  {
   "cell_type": "code",
   "execution_count": 22,
   "metadata": {},
   "outputs": [],
   "source": [
    "#(4) 가변 인수(Variable-length argument)\n",
    "#①가변인수 활용하여 함수 정의하기.\n",
    "def summation(*args) :\n",
    "    return sum(args)"
   ]
  },
  {
   "cell_type": "code",
   "execution_count": 26,
   "metadata": {},
   "outputs": [
    {
     "output_type": "stream",
     "name": "stdout",
     "text": [
      "6\n10\n15\n"
     ]
    }
   ],
   "source": [
    "print(summation(1,2,3))\n",
    "print(summation(1,2,3,4))\n",
    "print(summation(1,2,3,4,5))"
   ]
  },
  {
   "cell_type": "code",
   "execution_count": 64,
   "metadata": {},
   "outputs": [],
   "source": [
    "#②가변인수와 키워드인수 혼용하여 함수 정의하기.\n",
    "def summation_2(a,b,c,*args) :\n",
    "    return sum(args)+a+b+c"
   ]
  },
  {
   "cell_type": "code",
   "execution_count": 65,
   "metadata": {},
   "outputs": [
    {
     "output_type": "stream",
     "name": "stdout",
     "text": [
      "6\n10\n15\n"
     ]
    }
   ],
   "source": [
    "print(summation_2(1,2,3))\n",
    "print(summation_2(1,2,3,4))\n",
    "print(summation_2(1,2,3,4,5))"
   ]
  },
  {
   "cell_type": "code",
   "execution_count": 66,
   "metadata": {},
   "outputs": [
    {
     "output_type": "error",
     "ename": "TypeError",
     "evalue": "summation_2() missing 2 required positional arguments: 'b' and 'c'",
     "traceback": [
      "\u001b[1;31m---------------------------------------------------------------------------\u001b[0m",
      "\u001b[1;31mTypeError\u001b[0m                                 Traceback (most recent call last)",
      "\u001b[1;32m<ipython-input-66-9ca915394253>\u001b[0m in \u001b[0;36m<module>\u001b[1;34m\u001b[0m\n\u001b[1;32m----> 1\u001b[1;33m \u001b[0mprint\u001b[0m\u001b[1;33m(\u001b[0m\u001b[0msummation_2\u001b[0m\u001b[1;33m(\u001b[0m\u001b[1;36m1\u001b[0m\u001b[1;33m)\u001b[0m\u001b[1;33m)\u001b[0m\u001b[1;33m\u001b[0m\u001b[1;33m\u001b[0m\u001b[0m\n\u001b[0m",
      "\u001b[1;31mTypeError\u001b[0m: summation_2() missing 2 required positional arguments: 'b' and 'c'"
     ]
    }
   ],
   "source": [
    "#TIP. 가변인수를 다 넣지 않는 경우, ERROR가 발생함\n",
    "print(summation_2(1))"
   ]
  },
  {
   "cell_type": "code",
   "execution_count": 3,
   "metadata": {},
   "outputs": [
    {
     "output_type": "stream",
     "name": "stdout",
     "text": [
      "{'first': 3, 'second': 4, 'third': 5}\n"
     ]
    }
   ],
   "source": [
    "#(5) 키워드 가변 인수(Keyword Variable-length argument) \n",
    "def kwargs_test(**kwargs) :\n",
    "    return print(kwargs)\n",
    "kwargs_test(first=3,second=4,third=5)"
   ]
  },
  {
   "cell_type": "code",
   "execution_count": 4,
   "metadata": {},
   "outputs": [
    {
     "output_type": "stream",
     "name": "stdout",
     "text": [
      "3\n"
     ]
    }
   ],
   "source": [
    "my_dict={'first':3,'second':4,'third':5}\n",
    "print(my_dict['first'])"
   ]
  },
  {
   "cell_type": "code",
   "execution_count": 81,
   "metadata": {},
   "outputs": [],
   "source": [
    "def kwargs_test_2(**kwargs) :\n",
    "    print(kwargs)\n",
    "    print(f\"Fist value is {kwargs['first']}\")\n",
    "    print(f\"Second value is {kwargs['second']}\")\n",
    "    print(f\"Third value is {kwargs['third']}\") "
   ]
  },
  {
   "cell_type": "code",
   "execution_count": 82,
   "metadata": {},
   "outputs": [
    {
     "output_type": "stream",
     "name": "stdout",
     "text": [
      "{'first': 1, 'second': 3, 'third': 5}\nFist value is 1\nSecond value is 3\nThird value is 5\n"
     ]
    }
   ],
   "source": [
    "kwargs_test_2(first=1, second=3, third=5)"
   ]
  }
 ]
}