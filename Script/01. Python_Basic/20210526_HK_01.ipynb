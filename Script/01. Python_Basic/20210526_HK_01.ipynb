{
 "metadata": {
  "language_info": {
   "codemirror_mode": {
    "name": "ipython",
    "version": 3
   },
   "file_extension": ".py",
   "mimetype": "text/x-python",
   "name": "python",
   "nbconvert_exporter": "python",
   "pygments_lexer": "ipython3",
   "version": "3.9.4"
  },
  "orig_nbformat": 2,
  "kernelspec": {
   "name": "python394jvsc74a57bd0970b6f8752eefbcba9fc27b36d3deea80bcc92bf9cb37d4108e55fcbb51a21e9",
   "display_name": "Python 3.9.4 64-bit ('PythonProject': conda)"
  }
 },
 "nbformat": 4,
 "nbformat_minor": 2,
 "cells": [
  {
   "cell_type": "code",
   "execution_count": 1,
   "metadata": {},
   "outputs": [
    {
     "output_type": "stream",
     "name": "stdout",
     "text": [
      "65\n"
     ]
    }
   ],
   "source": [
    "#2021.05.26. WED \n",
    "#Hankyeong\n",
    "\n",
    "#PLUS, Program Source Refactoring = 외부 동작을 바꾸지 않으면서도 내부 구조를 개선하는 방법\n",
    "#Logic이 독립적으로 수행되는 코드가 있을 경우, 함수로 따로 정의하는 것이 코드 간결화에 용이해짐.\n",
    "\n",
    "#02. String 응용\n",
    "#(1) String <-> ASCII code, ord() <-> chr()\n",
    "print(ord(\"A\"))"
   ]
  },
  {
   "cell_type": "code",
   "execution_count": 2,
   "metadata": {},
   "outputs": [
    {
     "output_type": "stream",
     "name": "stdout",
     "text": [
      "B\n"
     ]
    }
   ],
   "source": [
    "print(chr(ord(\"A\")+1))"
   ]
  },
  {
   "cell_type": "code",
   "execution_count": 16,
   "metadata": {},
   "outputs": [
    {
     "output_type": "stream",
     "name": "stdout",
     "text": [
      "3.141592653589793, 3.142\n"
     ]
    }
   ],
   "source": [
    "#(2) String 서식(Format)) 지정\n",
    "#①소수점 반올림 변환\n",
    "import math\n",
    "a = f'{math.pi}, {math.pi:.3f}'\n",
    "print(a)"
   ]
  },
  {
   "cell_type": "code",
   "execution_count": 19,
   "metadata": {},
   "outputs": [
    {
     "output_type": "stream",
     "name": "stdout",
     "text": [
      "12,500 won\n"
     ]
    }
   ],
   "source": [
    "#②천의 자리에 ,(comma) 기입\n",
    "b = f'{12500:,} won'\n",
    "print(b)"
   ]
  }
 ]
}