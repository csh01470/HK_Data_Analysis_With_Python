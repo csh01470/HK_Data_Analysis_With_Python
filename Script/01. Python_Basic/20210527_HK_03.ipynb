{
 "metadata": {
  "language_info": {
   "codemirror_mode": {
    "name": "ipython",
    "version": 3
   },
   "file_extension": ".py",
   "mimetype": "text/x-python",
   "name": "python",
   "nbconvert_exporter": "python",
   "pygments_lexer": "ipython3",
   "version": "3.9.4"
  },
  "orig_nbformat": 2,
  "kernelspec": {
   "name": "python394jvsc74a57bd0970b6f8752eefbcba9fc27b36d3deea80bcc92bf9cb37d4108e55fcbb51a21e9",
   "display_name": "Python 3.9.4 64-bit ('PythonProject': conda)"
  }
 },
 "nbformat": 4,
 "nbformat_minor": 2,
 "cells": [
  {
   "cell_type": "code",
   "execution_count": null,
   "metadata": {},
   "outputs": [],
   "source": [
    "#2021.05.27. TUR\n",
    "#Hankyeong\n",
    "\n",
    "##CH.10 객체지향 프로그래밍(Object Oriented Programming)\n",
    "#01. 객체지향프로그래밍의 특징\n",
    "#(1) 상속(Imheritance): 기반클래스(Base Class, 부모클래스)로부터 받는 Attribute, Method를 파생클래스(Derivied Class, 자식클래스)도 받을 수 있음. \n",
    "\n",
    "#(2) 다형성(Polymorphism, Python에서는 Overriding): 파생클래스에서 필요한 Method는 변경이 가능함.\n",
    "\n",
    "#(3) 캡슐화(Encapsulation): 특정 Attribute의 수정을 제한하여 정보를 안전하게 보관할 수 있음.\n",
    "\n",
    "#TIP. Python은 객체지향 프로그램이라기보다는, 객체지향프로그래밍을 지원하는 프로그램으로 이해하는 것이 좋음.\n"
   ]
  },
  {
   "cell_type": "code",
   "execution_count": 119,
   "metadata": {},
   "outputs": [],
   "source": [
    "#02. 클래스와 메쏘드 정의하고, 인스턴스 활용하기.\n",
    "#(1) 클래스와 메쏘드 정의하기.\n",
    "class Person              :\n",
    "    def greeting(self)    :\n",
    "        print(f\"Hello.\")\n",
    "    def swearing(self)    :\n",
    "        print(\"fuck you.\")\n",
    "#TIP. 클래스는 무조건 대문자로 시작해야함. "
   ]
  },
  {
   "cell_type": "code",
   "execution_count": 123,
   "metadata": {},
   "outputs": [
    {
     "output_type": "stream",
     "name": "stdout",
     "text": [
      "Hello.\nfuck you.\n"
     ]
    }
   ],
   "source": [
    "#(2) 인스턴스 만들고 method 작동 확인하기.\n",
    "최상헌 = Person()\n",
    "최상헌.greeting()\n",
    "최상헌.swearing()"
   ]
  },
  {
   "cell_type": "code",
   "execution_count": 1,
   "metadata": {},
   "outputs": [],
   "source": [
    "#03. 클래스와 속성 정의하고, 인스턴스 활용하기.\n",
    "#(1) 클래스와 속성 정의하기.\n",
    "class Person_2 :\n",
    "    def __init__(self) :\n",
    "        self.height = \"default\"\n",
    "        self.wight = \"defualt\""
   ]
  },
  {
   "cell_type": "code",
   "execution_count": 2,
   "metadata": {},
   "outputs": [
    {
     "output_type": "execute_result",
     "data": {
      "text/plain": [
       "'default'"
      ]
     },
     "metadata": {},
     "execution_count": 2
    }
   ],
   "source": [
    "#(2) 인스턴스 만들고 속성 작동 확인하기.\n",
    "james=Person_2()\n",
    "james.height\n",
    "#TIP. 속성은 () 사용 안함."
   ]
  },
  {
   "cell_type": "code",
   "execution_count": 3,
   "metadata": {},
   "outputs": [
    {
     "output_type": "execute_result",
     "data": {
      "text/plain": [
       "'182'"
      ]
     },
     "metadata": {},
     "execution_count": 3
    }
   ],
   "source": [
    "james.height = \"182\"\n",
    "james.height"
   ]
  },
  {
   "cell_type": "code",
   "execution_count": null,
   "metadata": {},
   "outputs": [],
   "source": [
    "#04. 인스턴스를 할당하면서, 속성값을 인자로 받기.\n",
    "#(1) 클래스 정의하기.\n",
    "class Person_3                                    :\n",
    "    def __init__(self, name, age, height, weight) :\n",
    "        self.name = name\n",
    "        self.age = age\n",
    "        self.height = height\n",
    "        self.weight = weight\n",
    "    def greeting(self)                            :\n",
    "        print(f'hello, my name is {self.name}.')"
   ]
  },
  {
   "cell_type": "code",
   "execution_count": 71,
   "metadata": {},
   "outputs": [
    {
     "output_type": "stream",
     "name": "stdout",
     "text": [
      "hello, my name is 최상헌.\n"
     ]
    }
   ],
   "source": [
    "#(2) 인스턴스 할당하기.\n",
    "최상헌 = Person_3(\"최상헌\",28,174,71)\n",
    "최상헌.greeting()"
   ]
  },
  {
   "cell_type": "code",
   "execution_count": 6,
   "metadata": {},
   "outputs": [
    {
     "output_type": "stream",
     "name": "stdout",
     "text": [
      "hello, my name is default.\n"
     ]
    }
   ],
   "source": [
    "#PLUS. 디폴트 인자로 변환하여 받기.\n",
    "class Person_4                                    :\n",
    "    def __init__(self, name=\"default\", age=\"defualt\", height=\"defualt\", weight=\"defualt\") :\n",
    "        self.name = name\n",
    "        self.age = age\n",
    "        self.height = height\n",
    "        self.weight = weight\n",
    "    def greeting(self)                            :\n",
    "        print(f'hello, my name is {self.name}.')\n",
    "최상헌 = Person_4()\n",
    "최상헌.greeting()"
   ]
  },
  {
   "cell_type": "code",
   "execution_count": 39,
   "metadata": {},
   "outputs": [],
   "source": [
    "#05. 비공개 속성(Private attribute) 만들기.\n",
    "#(1) 클래스 정의하기.\n",
    "class Person_5                                         :\n",
    "    def __init__(self, name=\"default\",money=\"default\") :\n",
    "        self.name = name                           #public attribute\n",
    "        self.__money = money                       #private attribute\n",
    "    def greeting(self)                                 :\n",
    "        print(f'hello, my name is {self.name}.')\n",
    "    def set_money(self)                                :\n",
    "        print(f'{self.name} has {self.__money} won.')"
   ]
  },
  {
   "cell_type": "code",
   "execution_count": 40,
   "metadata": {},
   "outputs": [
    {
     "output_type": "error",
     "ename": "AttributeError",
     "evalue": "'Person_5' object has no attribute 'money'",
     "traceback": [
      "\u001b[1;31m---------------------------------------------------------------------------\u001b[0m",
      "\u001b[1;31mAttributeError\u001b[0m                            Traceback (most recent call last)",
      "\u001b[1;32m<ipython-input-40-0f4a2940fc3b>\u001b[0m in \u001b[0;36m<module>\u001b[1;34m\u001b[0m\n\u001b[0;32m      1\u001b[0m \u001b[1;31m#(2) 비공개 속성 출력하기.\u001b[0m\u001b[1;33m\u001b[0m\u001b[1;33m\u001b[0m\u001b[1;33m\u001b[0m\u001b[0m\n\u001b[0;32m      2\u001b[0m \u001b[0mmaria\u001b[0m \u001b[1;33m=\u001b[0m \u001b[0mPerson_5\u001b[0m\u001b[1;33m(\u001b[0m\u001b[1;34m\"maria\"\u001b[0m\u001b[1;33m,\u001b[0m\u001b[1;36m10000\u001b[0m\u001b[1;33m)\u001b[0m\u001b[1;33m\u001b[0m\u001b[1;33m\u001b[0m\u001b[0m\n\u001b[1;32m----> 3\u001b[1;33m \u001b[0mmaria\u001b[0m\u001b[1;33m.\u001b[0m\u001b[0mmoney\u001b[0m\u001b[1;33m\u001b[0m\u001b[1;33m\u001b[0m\u001b[0m\n\u001b[0m",
      "\u001b[1;31mAttributeError\u001b[0m: 'Person_5' object has no attribute 'money'"
     ]
    }
   ],
   "source": [
    "#(2) 비공개 속성 출력하기.\n",
    "maria = Person_5(\"maria\",10000)\n",
    "maria.money"
   ]
  },
  {
   "cell_type": "code",
   "execution_count": 41,
   "metadata": {},
   "outputs": [
    {
     "output_type": "stream",
     "name": "stdout",
     "text": [
      "maria has 10000 won.\n"
     ]
    }
   ],
   "source": [
    "#PLUS. 그러나 메쏘드로 출력할 때는 정상 작동함.\n",
    "maria.set_money()"
   ]
  },
  {
   "cell_type": "code",
   "execution_count": 42,
   "metadata": {},
   "outputs": [
    {
     "output_type": "stream",
     "name": "stdout",
     "text": [
      "maria has 10000 won.\n"
     ]
    }
   ],
   "source": [
    "#PLUS. 인스턴스의 속성 값을 변경하려해도, 비공개속성은 변하지 않음.\n",
    "maria.money = 950000\n",
    "maria.set_money()"
   ]
  },
  {
   "cell_type": "code",
   "execution_count": 117,
   "metadata": {},
   "outputs": [],
   "source": [
    "#06. 클래스 응용 & 캡슐화(Encapsulation) 확인하기. \n",
    "#(1) 클래스 정의하기.\n",
    "class Person_6                                              :\n",
    "    def __init__(self, name=\"default\",money=\"default\")      :\n",
    "        self.name = name                           \n",
    "        self.__money = money                       \n",
    "    def greeting(self)                                      :\n",
    "        print(f'hello, my name is {self.name}.')\n",
    "    def get_money(self)                                     :\n",
    "        print(f'{self.name} has {self.__money} won.')\n",
    "    def set_money(self, amount)                             :\n",
    "        self.__money = amount\n",
    "        print(f'{self.name} sets his money {self.__money} won.')\n",
    "    def pay(self,amount)                                    :\n",
    "        if amount > self.__money                            :\n",
    "            print(f\"{self.name} don\\'t have enough money.\")\n",
    "        if amount < self.__money                            :\n",
    "            self.__money -= amount\n",
    "            print(f\"{self.name} pay {amount} won, {self.name} has {self.__money} won.\")"
   ]
  },
  {
   "cell_type": "code",
   "execution_count": 118,
   "metadata": {},
   "outputs": [
    {
     "output_type": "stream",
     "name": "stdout",
     "text": [
      "david has 30000 won.\n"
     ]
    }
   ],
   "source": [
    "#(2) 인스턴스 할당하기.\n",
    "david = Person_6(\"david\",30000)\n",
    "david.get_money()"
   ]
  },
  {
   "cell_type": "code",
   "execution_count": 119,
   "metadata": {},
   "outputs": [
    {
     "output_type": "stream",
     "name": "stdout",
     "text": [
      "david pay 2000 won, david has 28000 won.\n"
     ]
    }
   ],
   "source": [
    "david.pay(2000)"
   ]
  },
  {
   "cell_type": "code",
   "execution_count": 120,
   "metadata": {},
   "outputs": [
    {
     "output_type": "stream",
     "name": "stdout",
     "text": [
      "david don't have enough money.\n"
     ]
    }
   ],
   "source": [
    "david.pay(250000)"
   ]
  },
  {
   "cell_type": "code",
   "execution_count": 121,
   "metadata": {},
   "outputs": [
    {
     "output_type": "stream",
     "name": "stdout",
     "text": [
      "david sets his money 3000000 won.\n"
     ]
    }
   ],
   "source": [
    "david.set_money(3000000)"
   ]
  },
  {
   "cell_type": "code",
   "execution_count": 122,
   "metadata": {},
   "outputs": [
    {
     "output_type": "stream",
     "name": "stdout",
     "text": [
      "david pay 250000 won, david has 2750000 won.\n"
     ]
    }
   ],
   "source": [
    "david.pay(250000)"
   ]
  },
  {
   "cell_type": "code",
   "execution_count": 128,
   "metadata": {},
   "outputs": [
    {
     "output_type": "stream",
     "name": "stdout",
     "text": [
      "hello?\nStudying is not fun\n"
     ]
    }
   ],
   "source": [
    "#07. 상속(Imheritance) 특징 확인하기.\n",
    "#(1) 기반클래스의 메쏘드를 파생클래스에서 활용하기.\n",
    "class Person_7          : \n",
    "    def greeting(self)  :\n",
    "        print(\"hello?\")\n",
    "\n",
    "class Student(Person_7) :\n",
    "    def study(self)     :\n",
    "        print(\"Studying is not fun\")\n",
    "james = Student()\n",
    "james.greeting()\n",
    "james.study()"
   ]
  },
  {
   "cell_type": "code",
   "execution_count": 141,
   "metadata": {},
   "outputs": [
    {
     "output_type": "stream",
     "name": "stdout",
     "text": [
      "hello, my name is 백학준. and my nationality is South Korea.\n"
     ]
    }
   ],
   "source": [
    "#(2) 기반클래스의 속성값을 파생클래스에서 활용하기.\n",
    "class Person_8                                   :\n",
    "    def __init__(self,nationality=\"South Korea\") :\n",
    "        self.nationality = nationality\n",
    "\n",
    "class Student_2(Person_8)                        :\n",
    "    def __init__(self,name)                      :\n",
    "        self.name = name\n",
    "        super().__init__()\n",
    "    def greeting(self)                           :\n",
    "        print(f\"hello, my name is {self.name}. and my nationality is {self.nationality}.\")\n",
    "백학준 = Student_2(\"백학준\")\n",
    "백학준.greeting()"
   ]
  },
  {
   "cell_type": "code",
   "execution_count": 142,
   "metadata": {},
   "outputs": [
    {
     "output_type": "stream",
     "name": "stdout",
     "text": [
      "안녕하세요. 저는 한경아카데미 수강생입니다.\n"
     ]
    }
   ],
   "source": [
    "#08. 다형성(Polymorphism, Python에서는 Overriding) 확인하기.\n",
    "class Person:\n",
    "    def greeting(self):\n",
    "        print('안녕하세요.')\n",
    " \n",
    "class Student(Person):\n",
    "    def greeting(self):\n",
    "        print('안녕하세요. 저는 한경아카데미 수강생입니다.')\n",
    "최상헌 = Student()\n",
    "최상헌.greeting()"
   ]
  }
 ]
}