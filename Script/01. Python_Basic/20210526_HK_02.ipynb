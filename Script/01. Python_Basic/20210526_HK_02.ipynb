{
 "metadata": {
  "language_info": {
   "codemirror_mode": {
    "name": "ipython",
    "version": 3
   },
   "file_extension": ".py",
   "mimetype": "text/x-python",
   "name": "python",
   "nbconvert_exporter": "python",
   "pygments_lexer": "ipython3",
   "version": "3.9.4"
  },
  "orig_nbformat": 2,
  "kernelspec": {
   "name": "python394jvsc74a57bd0970b6f8752eefbcba9fc27b36d3deea80bcc92bf9cb37d4108e55fcbb51a21e9",
   "display_name": "Python 3.9.4 64-bit ('PythonProject': conda)"
  }
 },
 "nbformat": 4,
 "nbformat_minor": 2,
 "cells": [
  {
   "cell_type": "code",
   "execution_count": 1,
   "metadata": {},
   "outputs": [
    {
     "output_type": "stream",
     "name": "stdout",
     "text": [
      "[1, 2, 3, 4]\n"
     ]
    }
   ],
   "source": [
    "#2021.05.26 WED\n",
    "#Hankyeong\n",
    "\n",
    "##CH.07 자료구조\n",
    "#01. 파이썬의 자료구조\n",
    "#(1) 스택(Stack): LIFO(Last In, first Out) \n",
    "#①push() = append()\n",
    "stack = [1,2,3]\n",
    "stack.append(4)\n",
    "print(stack)"
   ]
  },
  {
   "cell_type": "code",
   "execution_count": 34,
   "metadata": {},
   "outputs": [
    {
     "output_type": "stream",
     "name": "stdout",
     "text": [
      "4\n"
     ]
    }
   ],
   "source": [
    "#②pop()\n",
    "print(stack.pop())"
   ]
  },
  {
   "cell_type": "code",
   "execution_count": 33,
   "metadata": {},
   "outputs": [
    {
     "output_type": "stream",
     "name": "stdout",
     "text": [
      "[1, 2, 3, 4]\n"
     ]
    }
   ],
   "source": [
    "print(stack)"
   ]
  },
  {
   "cell_type": "code",
   "execution_count": 31,
   "metadata": {},
   "outputs": [
    {
     "output_type": "stream",
     "name": "stdout",
     "text": [
      "['D', 'A', 'T', 'A', '_', 'A', 'N', 'A', 'L', 'Y', 'T', 'I', 'C', 'S', '_', 'W', 'I', 'T', 'H', '_', 'P', 'Y', 'T', 'H', 'O', 'N']\n['N', 'O', 'H', 'T', 'Y', 'P', '_', 'H', 'T', 'I', 'W', '_', 'S', 'C', 'I', 'T', 'Y', 'L', 'A', 'N', 'A', '_', 'A', 'T', 'A', 'D']\n"
     ]
    }
   ],
   "source": [
    "#PLUS. 입력한 문자를 거꾸로 출력하기.\n",
    "input_value = input(\"Type Any Word.: \")\n",
    "input_value_list = list(input_value.upper())\n",
    "print(input_value_list)\n",
    "result = []\n",
    "for i in range(len(input_value)) :\n",
    "    result.append(input_value_list.pop())\n",
    "print(result)"
   ]
  },
  {
   "cell_type": "code",
   "execution_count": 38,
   "metadata": {},
   "outputs": [
    {
     "output_type": "stream",
     "name": "stdout",
     "text": [
      "1\n"
     ]
    }
   ],
   "source": [
    "#(2) 큐(Queue): FIFO(First In, First Out)\n",
    "queue = [1,2,3]\n",
    "print(queue.pop(0))"
   ]
  },
  {
   "cell_type": "code",
   "execution_count": 33,
   "metadata": {},
   "outputs": [
    {
     "output_type": "stream",
     "name": "stdout",
     "text": [
      "[2, 3]\n"
     ]
    }
   ],
   "source": [
    "print(queue)"
   ]
  },
  {
   "cell_type": "code",
   "execution_count": 29,
   "metadata": {},
   "outputs": [
    {
     "output_type": "stream",
     "name": "stdout",
     "text": [
      "(1, 2, 3)\n"
     ]
    }
   ],
   "source": [
    "#(3) 튜플(Tuple) : 원소(데이터)의 변경을 허용하지 않는 리스트, ()로 표현함.\n",
    "tuple = (1,2,3)\n",
    "print(tuple)"
   ]
  },
  {
   "cell_type": "code",
   "execution_count": 30,
   "metadata": {},
   "outputs": [
    {
     "output_type": "stream",
     "name": "stdout",
     "text": [
      "1\n"
     ]
    }
   ],
   "source": [
    "print(tuple.count(1))"
   ]
  },
  {
   "cell_type": "code",
   "execution_count": 43,
   "metadata": {},
   "outputs": [
    {
     "output_type": "error",
     "ename": "TypeError",
     "evalue": "'tuple' object does not support item assignment",
     "traceback": [
      "\u001b[1;31m---------------------------------------------------------------------------\u001b[0m",
      "\u001b[1;31mTypeError\u001b[0m                                 Traceback (most recent call last)",
      "\u001b[1;32m<ipython-input-43-b3679e5b6362>\u001b[0m in \u001b[0;36m<module>\u001b[1;34m\u001b[0m\n\u001b[1;32m----> 1\u001b[1;33m \u001b[0mtuple\u001b[0m\u001b[1;33m[\u001b[0m\u001b[1;36m0\u001b[0m\u001b[1;33m]\u001b[0m \u001b[1;33m=\u001b[0m \u001b[1;36m4\u001b[0m\u001b[1;33m\u001b[0m\u001b[1;33m\u001b[0m\u001b[0m\n\u001b[0m",
      "\u001b[1;31mTypeError\u001b[0m: 'tuple' object does not support item assignment"
     ]
    }
   ],
   "source": [
    "tuple[0] = 4"
   ]
  },
  {
   "cell_type": "code",
   "execution_count": 47,
   "metadata": {},
   "outputs": [
    {
     "output_type": "stream",
     "name": "stdout",
     "text": [
      "1\n2\n3\n"
     ]
    }
   ],
   "source": [
    "#PLUS. 튜플은 sequence 자료형이므로, for문에서 사용가능함.\n",
    "for i in tuple :\n",
    "    print(i)"
   ]
  },
  {
   "cell_type": "code",
   "execution_count": 8,
   "metadata": {},
   "outputs": [
    {
     "output_type": "stream",
     "name": "stdout",
     "text": [
      "{1, 2, 3}\n"
     ]
    }
   ],
   "source": [
    "#(4) 세트(set) : 값을 순서없이 저장하면서 중복을 불허하는 자료형, {}로 표현함. = R의 unique() 함수 ?\n",
    "#①set(), 세트 만들기.\n",
    "set = set([1,2,3,1,2,3]) #리스트 안에서 set()함수로 정의\n",
    "print(set)"
   ]
  },
  {
   "cell_type": "code",
   "execution_count": 2,
   "metadata": {},
   "outputs": [
    {
     "output_type": "error",
     "ename": "TypeError",
     "evalue": "'set' object is not callable",
     "traceback": [
      "\u001b[1;31m---------------------------------------------------------------------------\u001b[0m",
      "\u001b[1;31mTypeError\u001b[0m                                 Traceback (most recent call last)",
      "\u001b[1;32m<ipython-input-2-18b272baa881>\u001b[0m in \u001b[0;36m<module>\u001b[1;34m\u001b[0m\n\u001b[1;32m----> 1\u001b[1;33m \u001b[0mset_2\u001b[0m \u001b[1;33m=\u001b[0m \u001b[0mset\u001b[0m\u001b[1;33m(\u001b[0m\u001b[1;36m1\u001b[0m\u001b[1;33m,\u001b[0m\u001b[1;36m2\u001b[0m\u001b[1;33m,\u001b[0m\u001b[1;36m3\u001b[0m\u001b[1;33m)\u001b[0m\u001b[1;33m\u001b[0m\u001b[1;33m\u001b[0m\u001b[0m\n\u001b[0m\u001b[0;32m      2\u001b[0m \u001b[0mprint\u001b[0m\u001b[1;33m(\u001b[0m\u001b[0mset\u001b[0m\u001b[1;33m)\u001b[0m\u001b[1;33m\u001b[0m\u001b[1;33m\u001b[0m\u001b[0m\n",
      "\u001b[1;31mTypeError\u001b[0m: 'set' object is not callable"
     ]
    }
   ],
   "source": [
    "#PLUS. 만약 list로 정의하지 않는다면?\n",
    "set_2 = set(1,2,3)\n",
    "print(set)"
   ]
  },
  {
   "cell_type": "code",
   "execution_count": 9,
   "metadata": {},
   "outputs": [
    {
     "output_type": "stream",
     "name": "stdout",
     "text": [
      "{1, 2, 3, 4}\n"
     ]
    }
   ],
   "source": [
    "#④add(), 원소 추가하기.\n",
    "set.add(4)\n",
    "print(set)"
   ]
  },
  {
   "cell_type": "code",
   "execution_count": 10,
   "metadata": {},
   "outputs": [
    {
     "output_type": "stream",
     "name": "stdout",
     "text": [
      "{1, 2, 3, 4, 5, 6, 7, 8}\n"
     ]
    }
   ],
   "source": [
    "#⑤update, 원소 여러개 추가하기.\n",
    "set.update([5,6,7,8])\n",
    "print(set)"
   ]
  },
  {
   "cell_type": "code",
   "execution_count": 11,
   "metadata": {},
   "outputs": [
    {
     "output_type": "stream",
     "name": "stdout",
     "text": [
      "{1, 2, 4, 5, 6, 7, 8}\n"
     ]
    }
   ],
   "source": [
    "#⑥remove(), discard(), 원소 삭제하기.\n",
    "set.discard(3)\n",
    "print(set)"
   ]
  },
  {
   "cell_type": "code",
   "execution_count": 12,
   "metadata": {},
   "outputs": [
    {
     "output_type": "stream",
     "name": "stdout",
     "text": [
      "set()\n"
     ]
    }
   ],
   "source": [
    "#⑦clear(), 모든 원소 삭제하기. = 공집합으로 만들기.\n",
    "set.clear()\n",
    "print(set)"
   ]
  },
  {
   "cell_type": "code",
   "execution_count": 4,
   "metadata": {},
   "outputs": [
    {
     "output_type": "stream",
     "name": "stdout",
     "text": [
      "{0, 1, 2, 3, 4, 5}\n{3, 4, 5, 6, 7, 8}\n"
     ]
    }
   ],
   "source": [
    "set_3 = set(range(6))\n",
    "set_4 = set(range(3,8+1))\n",
    "print(set_3)\n",
    "print(set_4)"
   ]
  },
  {
   "cell_type": "code",
   "execution_count": 5,
   "metadata": {},
   "outputs": [
    {
     "output_type": "stream",
     "name": "stdout",
     "text": [
      "{0, 1, 2, 3, 4, 5, 6, 7, 8}\n{0, 1, 2, 3, 4, 5, 6, 7, 8}\n"
     ]
    }
   ],
   "source": [
    "#⑧union(), 합집합하기. or (|)\n",
    "print(set_3.union(set_4))\n",
    "print(set_3 | set_4)"
   ]
  },
  {
   "cell_type": "code",
   "execution_count": 15,
   "metadata": {},
   "outputs": [
    {
     "output_type": "stream",
     "name": "stdout",
     "text": [
      "{3, 4, 5}\n{3, 4, 5}\n"
     ]
    }
   ],
   "source": [
    "#⑨intersection(), 교집합하기. or (&)\n",
    "print(set_3.intersection(set_4))\n",
    "print(set_3 & set_4)"
   ]
  },
  {
   "cell_type": "code",
   "execution_count": 14,
   "metadata": {},
   "outputs": [
    {
     "output_type": "stream",
     "name": "stdout",
     "text": [
      "{0, 1, 2}\n{0, 1, 2}\n"
     ]
    }
   ],
   "source": [
    "#⑩difference(), 차집합하기. or (-)\n",
    "print(set_3.difference(set_4))\n",
    "print(set_3 - set_4)"
   ]
  },
  {
   "cell_type": "code",
   "execution_count": 14,
   "metadata": {},
   "outputs": [
    {
     "output_type": "stream",
     "name": "stdout",
     "text": [
      "{'health': 490, 'mana': 334, 'melee': 550, 'armor': 18.72}\n"
     ]
    }
   ],
   "source": [
    "#(5) 딕셔너리(Dictionary) : Key와 Value 형태로 데이터를 저장하는 자료 구조, key는 다른 데이터의 중복을 허용하지 않음.\n",
    "#①딕셔너리 만들기.\n",
    "lux={'health':490,'mana':334,'melee':550,'armor':18.72}\n",
    "print(lux)"
   ]
  },
  {
   "cell_type": "code",
   "execution_count": 27,
   "metadata": {},
   "outputs": [
    {
     "output_type": "stream",
     "name": "stdout",
     "text": [
      "{'health': 490, 'mana': 334, 'melee': 550, 'armor': 18.72}\n"
     ]
    }
   ],
   "source": [
    "#PLUS. 다른 방법으로 딕셔너리 만들기.\n",
    "lux_2=dict([('health',490),('mana',334),('melee',550),('armor',18.72)])\n",
    "print(lux_2)"
   ]
  },
  {
   "cell_type": "code",
   "execution_count": 26,
   "metadata": {},
   "outputs": [
    {
     "output_type": "stream",
     "name": "stdout",
     "text": [
      "{'health': 490, 'mana': 334, 'melee': 550, 'armor': 18.72}\n"
     ]
    }
   ],
   "source": [
    "#PLUS. 다른 방법으로 딕셔너리 만들기.\n",
    "lux_3=dict(health=490, mana=334, melee=550, armor=18.72)\n",
    "print(lux_3)"
   ]
  },
  {
   "cell_type": "code",
   "execution_count": 25,
   "metadata": {},
   "outputs": [
    {
     "output_type": "stream",
     "name": "stdout",
     "text": [
      "{'health': 490, 'mana': 334, 'melee': 550, 'armor': 18.72}\n"
     ]
    }
   ],
   "source": [
    "#PLUS. 다른방법으로 딕셔너리 만들기.\n",
    "key_list=['health','mana','melee','armor']\n",
    "value_list=[490,334,550,18.72]\n",
    "lux_4=dict(zip(key_list,value_list))\n",
    "print(lux_4)"
   ]
  },
  {
   "cell_type": "code",
   "execution_count": 27,
   "metadata": {},
   "outputs": [
    {
     "output_type": "stream",
     "name": "stdout",
     "text": [
      "490\n"
     ]
    }
   ],
   "source": [
    "#②딕셔너리 참조하기.\n",
    "print(lux['health'])"
   ]
  },
  {
   "cell_type": "code",
   "execution_count": 29,
   "metadata": {},
   "outputs": [
    {
     "output_type": "stream",
     "name": "stdout",
     "text": [
      "{'health': 600, 'mana': 334, 'melee': 550, 'armor': 18.72}\n"
     ]
    }
   ],
   "source": [
    "#③딕셔너리 새로운 값 할당하기.\n",
    "lux['health'] = 600\n",
    "print(lux)"
   ]
  },
  {
   "cell_type": "code",
   "execution_count": 30,
   "metadata": {},
   "outputs": [
    {
     "output_type": "stream",
     "name": "stdout",
     "text": [
      "{'health': 600, 'mana': 434, 'melee': 550, 'armor': 18.72}\n"
     ]
    }
   ],
   "source": [
    "#PLUS. 딕셔너리 값에 추가하기.\n",
    "lux['mana'] += 100\n",
    "print(lux)"
   ]
  },
  {
   "cell_type": "code",
   "execution_count": 24,
   "metadata": {},
   "outputs": [
    {
     "output_type": "stream",
     "name": "stdout",
     "text": [
      "{'health': 490, 'mana': 334, 'melee': 550, 'armor': 18.72, 'mana_regen': 3.28}\n"
     ]
    }
   ],
   "source": [
    "#④딕셔너리에 새로운 key, value 추가하기.\n",
    "lux['mana_regen'] = 3.28\n",
    "print(lux)"
   ]
  },
  {
   "cell_type": "code",
   "execution_count": 26,
   "metadata": {},
   "outputs": [
    {
     "output_type": "error",
     "ename": "TypeError",
     "evalue": "'builtin_function_or_method' object is not subscriptable",
     "traceback": [
      "\u001b[1;31m---------------------------------------------------------------------------\u001b[0m",
      "\u001b[1;31mTypeError\u001b[0m                                 Traceback (most recent call last)",
      "\u001b[1;32m<ipython-input-26-cd1ce0be7ba4>\u001b[0m in \u001b[0;36m<module>\u001b[1;34m\u001b[0m\n\u001b[0;32m      1\u001b[0m \u001b[1;31m#⑤딕셔너리 key 삭제하기.\u001b[0m\u001b[1;33m\u001b[0m\u001b[1;33m\u001b[0m\u001b[1;33m\u001b[0m\u001b[0m\n\u001b[1;32m----> 2\u001b[1;33m \u001b[0mlux\u001b[0m\u001b[1;33m.\u001b[0m\u001b[0mpop\u001b[0m\u001b[1;33m[\u001b[0m\u001b[1;34m'health'\u001b[0m\u001b[1;33m]\u001b[0m\u001b[1;33m\u001b[0m\u001b[1;33m\u001b[0m\u001b[0m\n\u001b[0m\u001b[0;32m      3\u001b[0m \u001b[0mprint\u001b[0m\u001b[1;33m(\u001b[0m\u001b[0mlux\u001b[0m\u001b[1;33m)\u001b[0m\u001b[1;33m\u001b[0m\u001b[1;33m\u001b[0m\u001b[0m\n",
      "\u001b[1;31mTypeError\u001b[0m: 'builtin_function_or_method' object is not subscriptable"
     ]
    }
   ],
   "source": [
    "#⑤딕셔너리 key 삭제하기.\n",
    "lux.pop['health']\n",
    "print(lux)"
   ]
  },
  {
   "cell_type": "code",
   "execution_count": 25,
   "metadata": {},
   "outputs": [
    {
     "output_type": "stream",
     "name": "stdout",
     "text": [
      "{'health': 490, 'mana': 334, 'melee': 550, 'armor': 18.72}\n"
     ]
    }
   ],
   "source": [
    "#PLUS. del 코드로 딕셔너리 key 삭제하기.\n",
    "del lux['mana_regen']\n",
    "print(lux)"
   ]
  },
  {
   "cell_type": "code",
   "execution_count": 21,
   "metadata": {},
   "outputs": [
    {
     "output_type": "stream",
     "name": "stdout",
     "text": [
      "dict_keys(['health', 'mana', 'melee', 'armor'])\n"
     ]
    }
   ],
   "source": [
    "#TIP. 딕셔너리의 key 값들을 가져오기.\n",
    "print(lux.keys())"
   ]
  },
  {
   "cell_type": "code",
   "execution_count": 20,
   "metadata": {},
   "outputs": [
    {
     "output_type": "stream",
     "name": "stdout",
     "text": [
      "dict_values([490, 334, 550, 18.72])\n"
     ]
    }
   ],
   "source": [
    "#TIP. 딕셔너리의 value 값들을 가져오기.\n",
    "print(lux.values())"
   ]
  },
  {
   "cell_type": "code",
   "execution_count": 19,
   "metadata": {},
   "outputs": [
    {
     "output_type": "stream",
     "name": "stdout",
     "text": [
      "dict_items([('health', 490), ('mana', 334), ('melee', 550), ('armor', 18.72)])\n"
     ]
    }
   ],
   "source": [
    "#TIP. 딕셔너리의 key, value 값들을 튜플로 뭉쳐 가져오기. \n",
    "print(lux.items())"
   ]
  },
  {
   "cell_type": "code",
   "execution_count": 22,
   "metadata": {},
   "outputs": [
    {
     "output_type": "stream",
     "name": "stdout",
     "text": [
      "health 490\nmana 334\nmelee 550\narmor 18.72\n"
     ]
    }
   ],
   "source": [
    "#⑥딕셔너리로 반복문 활용하기.\n",
    "for key, value in lux.items() :\n",
    "    print(key,value)"
   ]
  },
  {
   "cell_type": "code",
   "execution_count": 37,
   "metadata": {},
   "outputs": [
    {
     "output_type": "stream",
     "name": "stdout",
     "text": [
      "health 490\nmana 334\nmelee 550\narmor 18.72\n"
     ]
    }
   ],
   "source": [
    "#OR \n",
    "for key in lux.keys() :\n",
    "    print(key,lux[key])"
   ]
  },
  {
   "cell_type": "code",
   "execution_count": 5,
   "metadata": {},
   "outputs": [
    {
     "output_type": "execute_result",
     "data": {
      "text/plain": [
       "{'mean_radius': 6371.0, 'mass': 5.97219e+24, 'orbital_period': 365.25641}"
      ]
     },
     "metadata": {},
     "execution_count": 5
    }
   ],
   "source": [
    "#⑦중첩 딕셔너리 만들기.\r\n",
    "terrestrial_planet = {\r\n",
    "    'Mercury': {\r\n",
    "        'mean_radius': 2439.7,\r\n",
    "        'mass': 3.3022E+23,\r\n",
    "        'orbital_period': 87.969\r\n",
    "    },\r\n",
    "    'Venus': {\r\n",
    "        'mean_radius': 6051.8,\r\n",
    "        'mass': 4.8676E+24,\r\n",
    "        'orbital_period': 224.70069,\r\n",
    "    },\r\n",
    "    'Earth': {\r\n",
    "        'mean_radius': 6371.0,\r\n",
    "        'mass': 5.97219E+24,\r\n",
    "        'orbital_period': 365.25641,\r\n",
    "    },\r\n",
    "    'Mars': {\r\n",
    "        'mean_radius': 3389.5,\r\n",
    "        'mass': 6.4185E+23,\r\n",
    "        'orbital_period': 686.9600,\r\n",
    "    }\r\n",
    "}\r\n",
    "terrestrial_planet['Earth'] #지구의 딕셔너리 아이템 출력"
   ]
  },
  {
   "cell_type": "code",
   "execution_count": 6,
   "metadata": {},
   "outputs": [
    {
     "output_type": "execute_result",
     "data": {
      "text/plain": [
       "365.25641"
      ]
     },
     "metadata": {},
     "execution_count": 6
    }
   ],
   "source": [
    "terrestrial_planet['Earth']['orbital_period'] #지구의 공전주기(orbital_period) 출력"
   ]
  },
  {
   "cell_type": "code",
   "execution_count": null,
   "metadata": {},
   "outputs": [],
   "source": [
    "#PLUS. Python에서 데이터 분석에서 필요한 자료구조\n",
    "#Numpy        : array\n",
    "#Pandas       : Data Frame\n",
    "#Python Basic : List, Dictionary, (tuple, set)"
   ]
  },
  {
   "cell_type": "code",
   "execution_count": null,
   "metadata": {},
   "outputs": [],
   "source": [
    "#PLUS. 회사 내 데이터 분석직무에서 경쟁하는사람은 누구일까?\n",
    "#      개발자가 아니고, 엑셀 ㅈㄴ 굴렸던 회사 내에 잔뼈굵은 사람임."
   ]
  }
 ]
}