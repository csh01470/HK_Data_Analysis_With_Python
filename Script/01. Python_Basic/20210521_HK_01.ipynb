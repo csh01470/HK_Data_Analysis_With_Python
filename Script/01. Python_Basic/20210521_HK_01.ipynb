{
 "metadata": {
  "language_info": {
   "codemirror_mode": {
    "name": "ipython",
    "version": 3
   },
   "file_extension": ".py",
   "mimetype": "text/x-python",
   "name": "python",
   "nbconvert_exporter": "python",
   "pygments_lexer": "ipython3",
   "version": "3.8.8"
  },
  "orig_nbformat": 2,
  "kernelspec": {
   "name": "python388jvsc74a57bd0389278cbb61c1c57cad107a3c1fdd79953aeebb4509d1d7f21aea6fe620a6af8",
   "display_name": "Python 3.8.8 64-bit ('base': conda)"
  }
 },
 "nbformat": 4,
 "nbformat_minor": 2,
 "cells": [
  {
   "cell_type": "code",
   "execution_count": 152,
   "metadata": {},
   "outputs": [],
   "source": [
    "#2021.05.21 FRI\n",
    "#Hankyeong\n",
    "\n",
    "##최성철, <데이터 과학을 위한 파이썬 프로그래밍>, 한빛아카데미(2019), 6쇄\n",
    "##CH.02 변수와 자료형\n",
    "#01. R과 Python의 차이점\n",
    "#(1) R에서는 if, for, while 등의 구문에서 Brace({, })를 사용하지만, Python에는 Indentation(:)을 사용함.\n",
    "\n",
    "#(2) R에서는 indexing number가 1부터 시작하지만, Python은 0부터 시작함.\n",
    "\n",
    "#(3) Slicing부분에서, R의 c(0,1,2,3,4)에서 1:3까지 추출한다 => 0,1,2 추출\n",
    "#    Pyhon의 [0,1,2,3,4]에서 1:3까지 추출한다 => 1,2 추출\n",
    "#WHY? 과거에는 컴퓨터 리소스가 귀중했기때문에 프로그래밍 제약이 엄청 강했음. R이 특별한 경우임.\n",
    "\n",
    "#TIP. 변수 할당(Assignment)에서 좌변은 L value, 우변은 R value라고 정의함.\n",
    "#     L(eft) value = R(ight) value"
   ]
  },
  {
   "cell_type": "code",
   "execution_count": 8,
   "metadata": {},
   "outputs": [
    {
     "output_type": "stream",
     "name": "stdout",
     "text": [
      "Sungchul Choi\n"
     ]
    }
   ],
   "source": [
    "#02. 변수의 이해\n",
    "professor = \"Sungchul Choi\"\n",
    "print(professor)"
   ]
  },
  {
   "cell_type": "code",
   "execution_count": 6,
   "metadata": {},
   "outputs": [
    {
     "output_type": "stream",
     "name": "stdout",
     "text": [
      "12\n"
     ]
    }
   ],
   "source": [
    "a=7\n",
    "b=5\n",
    "print(a+b)"
   ]
  },
  {
   "cell_type": "code",
   "execution_count": 7,
   "metadata": {},
   "outputs": [
    {
     "output_type": "execute_result",
     "data": {
      "text/plain": [
       "30"
      ]
     },
     "metadata": {},
     "execution_count": 7
    }
   ],
   "source": [
    "c, d = 10, 20\n",
    "c+d"
   ]
  },
  {
   "cell_type": "code",
   "execution_count": 1,
   "metadata": {},
   "outputs": [
    {
     "output_type": "stream",
     "name": "stdout",
     "text": [
      "35\n25\n150\n6.0\n"
     ]
    }
   ],
   "source": [
    "#03. 사칙 연산의 이해\n",
    "print(30+5)\n",
    "print(30-5)\n",
    "print(30*5)\n",
    "print(30/5) #나눗셈, 실수값이 반환됨\n",
    "print(7 // 2) #몫(quotient) 계산\n",
    "print(7 % 2)  #나머지(modulo) 계산 & 응용가능성이 아주 큼."
   ]
  },
  {
   "cell_type": "code",
   "execution_count": 18,
   "metadata": {},
   "outputs": [
    {
     "output_type": "stream",
     "name": "stdout",
     "text": [
      "0 0\n0 1\n0 2\n1 0\n1 1\n1 2\n"
     ]
    }
   ],
   "source": [
    "#PLUS. 행 인덱스, 열 인덱스를 i로 표현하여 구하기,\n",
    "for i in range(6): \n",
    "    print(i//3, i%3)"
   ]
  },
  {
   "cell_type": "code",
   "execution_count": 22,
   "metadata": {},
   "outputs": [
    {
     "output_type": "stream",
     "name": "stdout",
     "text": [
      "20\n10\n"
     ]
    }
   ],
   "source": [
    "#04. 연산자 단축하기. = 할당연산자(Assignment Operator)\n",
    "#(1) 증가연산\n",
    "a,b=(10,10)\n",
    "a=a+5 \n",
    "a+=5\n",
    "print(a)\n",
    "print(b)"
   ]
  },
  {
   "cell_type": "code",
   "execution_count": 10,
   "metadata": {},
   "outputs": [
    {
     "output_type": "stream",
     "name": "stdout",
     "text": [
      "5\n5\n"
     ]
    }
   ],
   "source": [
    "#(2) 감소연산\n",
    "a,b=(10,10)\n",
    "a=a-5\n",
    "b-=5\n",
    "print(a)\n",
    "print(b)"
   ]
  },
  {
   "cell_type": "code",
   "execution_count": 13,
   "metadata": {},
   "outputs": [
    {
     "output_type": "stream",
     "name": "stdout",
     "text": [
      "40\n40\n"
     ]
    }
   ],
   "source": [
    "#(3)\n",
    "a,b=(10,10)\n",
    "a=a*4\n",
    "b*=4\n",
    "print(a)\n",
    "print(b)"
   ]
  },
  {
   "cell_type": "code",
   "execution_count": 14,
   "metadata": {},
   "outputs": [
    {
     "output_type": "stream",
     "name": "stdout",
     "text": [
      "2.5\n2.5\n"
     ]
    }
   ],
   "source": [
    "#(4)\n",
    "a,b=(10,10)\n",
    "a=a/4\n",
    "b/=4\n",
    "print(a)\n",
    "print(b)"
   ]
  },
  {
   "cell_type": "code",
   "execution_count": 16,
   "metadata": {},
   "outputs": [
    {
     "output_type": "stream",
     "name": "stdout",
     "text": [
      "10.0\n10\n"
     ]
    }
   ],
   "source": [
    "#05. 숫자 데이터를 실수형과 정수형으로 변환하기.\n",
    "num_1=float(10)\n",
    "num_2=int(10.7)\n",
    "print(num_1)\n",
    "print(num_2)"
   ]
  },
  {
   "cell_type": "code",
   "execution_count": 17,
   "metadata": {},
   "outputs": [
    {
     "output_type": "execute_result",
     "data": {
      "text/plain": [
       "(10, 0)"
      ]
     },
     "metadata": {},
     "execution_count": 17
    }
   ],
   "source": [
    "#06. Data type 변환하기.\n",
    "#(1) 불린형 True=1, False=0 으로 취급함.\n",
    "10 * True, 10 * False"
   ]
  },
  {
   "cell_type": "code",
   "execution_count": 82,
   "metadata": {},
   "outputs": [
    {
     "output_type": "execute_result",
     "data": {
      "text/plain": [
       "(False, True)"
      ]
     },
     "metadata": {},
     "execution_count": 82
    }
   ],
   "source": [
    "10 == True, 1 == Tru과과"
   ]
  },
  {
   "cell_type": "code",
   "execution_count": 18,
   "metadata": {},
   "outputs": [
    {
     "output_type": "execute_result",
     "data": {
      "text/plain": [
       "('76.3', 76.3)"
      ]
     },
     "metadata": {},
     "execution_count": 18
    }
   ],
   "source": [
    "#(2) 문자형 원소와 숫자형(실수형) 원소 구분하기.\n",
    "a = \"76.3\"\n",
    "b= 76.3\n",
    "a,b"
   ]
  },
  {
   "cell_type": "code",
   "execution_count": 19,
   "metadata": {},
   "outputs": [
    {
     "output_type": "error",
     "ename": "TypeError",
     "evalue": "can only concatenate str (not \"float\") to str",
     "traceback": [
      "\u001b[1;31m---------------------------------------------------------------------------\u001b[0m",
      "\u001b[1;31mTypeError\u001b[0m                                 Traceback (most recent call last)",
      "\u001b[1;32m<ipython-input-19-284eeece3c46>\u001b[0m in \u001b[0;36m<module>\u001b[1;34m\u001b[0m\n\u001b[0;32m      1\u001b[0m \u001b[1;31m#PLUS. 문자형 원소와 숫자형 원소 합치기.\u001b[0m\u001b[1;33m\u001b[0m\u001b[1;33m\u001b[0m\u001b[1;33m\u001b[0m\u001b[0m\n\u001b[1;32m----> 2\u001b[1;33m \u001b[0ma\u001b[0m\u001b[1;33m+\u001b[0m\u001b[0mb\u001b[0m\u001b[1;33m\u001b[0m\u001b[1;33m\u001b[0m\u001b[0m\n\u001b[0m",
      "\u001b[1;31mTypeError\u001b[0m: can only concatenate str (not \"float\") to str"
     ]
    }
   ],
   "source": [
    "#PLUS. 문자형 원소와 숫자형 원소 합치기.\n",
    "a+b"
   ]
  },
  {
   "cell_type": "code",
   "execution_count": 20,
   "metadata": {},
   "outputs": [
    {
     "output_type": "execute_result",
     "data": {
      "text/plain": [
       "'76.376.3'"
      ]
     },
     "metadata": {},
     "execution_count": 20
    }
   ],
   "source": [
    "#(3) 원소 b를 문자열로 전환해 문자열 더하기. (concatenate)\n",
    "a + str(b)"
   ]
  },
  {
   "cell_type": "code",
   "execution_count": 94,
   "metadata": {},
   "outputs": [
    {
     "output_type": "execute_result",
     "data": {
      "text/plain": [
       "(str, float, int, bool)"
      ]
     },
     "metadata": {},
     "execution_count": 94
    }
   ],
   "source": [
    "#07. type() 함수로 자료형 확인하기. \n",
    "#TIP. Python의 type() = R의 class()\n",
    "type(a),type(b),type(1),type(True) "
   ]
  }
 ]
}