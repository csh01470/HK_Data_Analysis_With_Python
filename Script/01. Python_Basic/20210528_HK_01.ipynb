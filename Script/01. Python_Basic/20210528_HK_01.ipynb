{
 "metadata": {
  "language_info": {
   "codemirror_mode": {
    "name": "ipython",
    "version": 3
   },
   "file_extension": ".py",
   "mimetype": "text/x-python",
   "name": "python",
   "nbconvert_exporter": "python",
   "pygments_lexer": "ipython3",
   "version": "3.8.8"
  },
  "orig_nbformat": 2,
  "kernelspec": {
   "name": "python388jvsc74a57bd0389278cbb61c1c57cad107a3c1fdd79953aeebb4509d1d7f21aea6fe620a6af8",
   "display_name": "Python 3.8.8 64-bit ('base': conda)"
  },
  "metadata": {
   "interpreter": {
    "hash": "970b6f8752eefbcba9fc27b36d3deea80bcc92bf9cb37d4108e55fcbb51a21e9"
   }
  }
 },
 "nbformat": 4,
 "nbformat_minor": 2,
 "cells": [
  {
   "cell_type": "code",
   "execution_count": 2,
   "metadata": {},
   "outputs": [
    {
     "output_type": "stream",
     "name": "stdout",
     "text": [
      "0.8363375023320742\n80\n"
     ]
    }
   ],
   "source": [
    "#2021.05.28. FRI\n",
    "#Hankyeong\n",
    "\n",
    "##CH.11 모듈과 패키지\n",
    "#01. 모듈과 패키지의 이해\n",
    "#(1) 모듈은 프로그래밍에서의 모듈은 작은 프로그램 조각을 의미함. import 코드로 호출할 수 있음.\n",
    "\n",
    "#(2) 각 모듈은 저마다 역할이 있고, 서로 다른 모듈과 인터페이스(interface)만 연결 되면 사용할 수 있음\n",
    "#PLUS. 인터페이스: 모듈 간의 연결을 위한 약속을 의미\n",
    "\n",
    "#(3) 패키지는 모듈의 묶음으로써, from 코드로 호출이 가능함.\n",
    "\n",
    "#02. 모듈 만들기. \n",
    "#생략\n",
    "\n",
    "#03. 내장 모듈 확인하기.\n",
    "#(1) random 모듈\n",
    "import random\n",
    "random.seed(2021)\n",
    "print(random.random())\n",
    "print(random.randint(0,100))"
   ]
  },
  {
   "cell_type": "code",
   "execution_count": 3,
   "metadata": {},
   "outputs": [
    {
     "output_type": "stream",
     "name": "stdout",
     "text": [
      "time.struct_time(tm_year=2021, tm_mon=5, tm_mday=31, tm_hour=12, tm_min=16, tm_sec=59, tm_wday=0, tm_yday=151, tm_isdst=0)\n"
     ]
    }
   ],
   "source": [
    "#(2) time 모듈\n",
    "import time\n",
    "print(time.localtime())"
   ]
  },
  {
   "cell_type": "code",
   "execution_count": null,
   "metadata": {},
   "outputs": [],
   "source": [
    "#PLUS. time 모듈은 구려서 잘 안씀."
   ]
  },
  {
   "cell_type": "code",
   "execution_count": null,
   "metadata": {},
   "outputs": [],
   "source": [
    "#04. 가상환경\n",
    "#(1) 여러 프로젝트를 진행할 시, 프로젝트에 맞는 프로그래밍 환경(버전 관리)을 설정하는 것이 좋음. 이 때 가상환경을 사용함.\n",
    "#PLUS. R의 Rproject와 유사한 개념임.\n",
    "\n",
    "#(2) 대표적인 가상환경 도구로써 virtualenv와 conda가 있음.\n",
    "\n",
    "#(3) 가상환경 설정하기.\n",
    "#생략"
   ]
  }
 ]
}