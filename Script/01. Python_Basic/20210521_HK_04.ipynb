{
 "metadata": {
  "language_info": {
   "codemirror_mode": {
    "name": "ipython",
    "version": 3
   },
   "file_extension": ".py",
   "mimetype": "text/x-python",
   "name": "python",
   "nbconvert_exporter": "python",
   "pygments_lexer": "ipython3",
   "version": "3.8.8"
  },
  "orig_nbformat": 2,
  "kernelspec": {
   "name": "python388jvsc74a57bd0389278cbb61c1c57cad107a3c1fdd79953aeebb4509d1d7f21aea6fe620a6af8",
   "display_name": "Python 3.8.8 64-bit ('base': conda)"
  }
 },
 "nbformat": 4,
 "nbformat_minor": 2,
 "cells": [
  {
   "source": [
    "#2021.05.21. FRI\n",
    "#Hankyeong\n",
    "\n",
    "#13. 여러 개의 입력값 처리\n",
    "#(1) 원소를 리스트로 변환하기.\n",
    "a=\"red green blue\"\n",
    "print(a)\n",
    "a_split=a.split() #space바를 기준으로 짤라, 리스트로 변환\n",
    "print(a_split)"
   ],
   "cell_type": "code",
   "metadata": {},
   "execution_count": 6,
   "outputs": [
    {
     "output_type": "stream",
     "name": "stdout",
     "text": [
      "red green blue\n['red', 'green', 'blue']\n"
     ]
    }
   ]
  },
  {
   "cell_type": "code",
   "execution_count": 9,
   "metadata": {},
   "outputs": [
    {
     "output_type": "stream",
     "name": "stdout",
     "text": [
      "red,green,blue\n['red', 'green', 'blue']\n"
     ]
    }
   ],
   "source": [
    "b=\"red,green,blue\"\n",
    "print(b)\n",
    "b_split=b.split(\",\") #,(comma)를 기준으로 잘라, 리스트로 변환\n",
    "print(b_split)"
   ]
  },
  {
   "cell_type": "code",
   "execution_count": 11,
   "metadata": {},
   "outputs": [
    {
     "output_type": "stream",
     "name": "stdout",
     "text": [
      "blue red green\n['blue', 'red', 'green']\n"
     ]
    }
   ],
   "source": [
    "#Q. 빛의 삼원색을 입력값으로 받아 이를 리스트로 변환하시오.\n",
    "input_value = input(\"빛의 3원색을 띄어쓰기로 구분하여 입력하세요. :\")\n",
    "print(input_value)\n",
    "input_list = input_value.split()\n",
    "print(input_list)"
   ]
  },
  {
   "cell_type": "code",
   "execution_count": 2,
   "metadata": {},
   "outputs": [
    {
     "output_type": "stream",
     "name": "stdout",
     "text": [
      "['3.1', '2.4', '8.5']\n[3.1, 2.4, 8.5]\n"
     ]
    }
   ],
   "source": [
    "#(2) map() 함수를 통해 리스트 내 원소 일렬로 함수 적용하기. = R의 sapply()\n",
    "numbers = [\"3.1\",\"2.4\",\"8.5\"]\n",
    "print(numbers)\n",
    "real_number=list(map(float,numbers))\n",
    "print(real_number)"
   ]
  },
  {
   "cell_type": "code",
   "execution_count": 3,
   "metadata": {},
   "outputs": [
    {
     "output_type": "stream",
     "name": "stdout",
     "text": [
      "<map object at 0x000002CA536AF8E0>\n"
     ]
    }
   ],
   "source": [
    "#WHY? 왜 map함수 다음에는 list로 변환하는가?\n",
    "print(map(float,numbers))"
   ]
  },
  {
   "cell_type": "code",
   "execution_count": 4,
   "metadata": {},
   "outputs": [
    {
     "output_type": "stream",
     "name": "stdout",
     "text": [
      "1.0 2.0 3.0\n"
     ]
    }
   ],
   "source": [
    "#PLUS. map() 응용\n",
    "x,y,z = list(map(float,input(\"띄어쓰기로 구분하여, 실수 3개를 입력하시오. :\").split()))\n",
    "print(x,y,z)"
   ]
  },
  {
   "source": [
    "#14. 자료형의 종류: range() = R의 seq()\n",
    "#TIP. range()의 구조\n",
    "#     range(첫값,끝값,증분)"
   ],
   "cell_type": "code",
   "metadata": {},
   "execution_count": null,
   "outputs": []
  },
  {
   "cell_type": "code",
   "execution_count": 5,
   "metadata": {},
   "outputs": [
    {
     "output_type": "stream",
     "name": "stdout",
     "text": [
      "[1, 2, 3, 4, 5, 6, 7, 8, 9, 10]\n"
     ]
    }
   ],
   "source": [
    "#(1) 1에서 10까지 출력하기. \n",
    "print(list(range(1,10+1)))"
   ]
  },
  {
   "cell_type": "code",
   "execution_count": 6,
   "metadata": {},
   "outputs": [
    {
     "output_type": "stream",
     "name": "stdout",
     "text": [
      "range(1, 11)\n"
     ]
    }
   ],
   "source": [
    "#WHY? 왜 range() 다음에는 list로 변환하는가?\n",
    "print(range(1,11))"
   ]
  },
  {
   "cell_type": "code",
   "execution_count": 7,
   "metadata": {},
   "outputs": [
    {
     "output_type": "stream",
     "name": "stdout",
     "text": [
      "[1, 3, 5, 7, 9]\n"
     ]
    }
   ],
   "source": [
    "#(2) 1에서 10까지 홀수만 출력하기.\n",
    "print(list(range(1,11,2)))"
   ]
  },
  {
   "cell_type": "code",
   "execution_count": 8,
   "metadata": {},
   "outputs": [
    {
     "output_type": "stream",
     "name": "stdout",
     "text": [
      "[10, 8, 6, 4, 2]\n"
     ]
    }
   ],
   "source": [
    "#(3) 10에서 1까지 역으로, 짝수만 출력하기.\n",
    "print(list(range(10,1,-2)))"
   ]
  },
  {
   "cell_type": "code",
   "execution_count": 11,
   "metadata": {},
   "outputs": [
    {
     "output_type": "stream",
     "name": "stdout",
     "text": [
      "[10, 11, 12, 13, 14, 15]\n"
     ]
    }
   ],
   "source": [
    "#Q. 두개의 정수를 입력받아서, 첫 번째 값에서부터 두 번째 값까지 출력하시오. 단, 첫 번째 값이 두 번째 값보다 작습니다.\n",
    "num=input(\"2개의 정수를 쉼표로 구분해 입력하세요. (단, 첫 번째 값 < 두 번째 값) :\")\n",
    "num_a,num_b=map(int,num.split(\",\"))\n",
    "print(list(range(num_a,num_b+1)))"
   ]
  }
 ]
}