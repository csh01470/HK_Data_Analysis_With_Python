{
 "metadata": {
  "language_info": {
   "codemirror_mode": {
    "name": "ipython",
    "version": 3
   },
   "file_extension": ".py",
   "mimetype": "text/x-python",
   "name": "python",
   "nbconvert_exporter": "python",
   "pygments_lexer": "ipython3",
   "version": "3.8.8"
  },
  "orig_nbformat": 2,
  "kernelspec": {
   "name": "python388jvsc74a57bd0389278cbb61c1c57cad107a3c1fdd79953aeebb4509d1d7f21aea6fe620a6af8",
   "display_name": "Python 3.8.8 64-bit ('base': conda)"
  }
 },
 "nbformat": 4,
 "nbformat_minor": 2,
 "cells": [
  {
   "source": [
    "#2021.05.21 FRI\n",
    "#Hankyeong\n",
    "\n",
    "##CH.03 화면 입출력과 리스트\n",
    "#01. 화면 입출력\n",
    "print(\"Enter your name,\")\n",
    "somebody = input()\n",
    "print(\"Hi.\", somebody, \"How are you?\")"
   ],
   "cell_type": "code",
   "metadata": {},
   "execution_count": 1,
   "outputs": [
    {
     "output_type": "stream",
     "name": "stdout",
     "text": [
      "Enter your name,\n",
      "Hi. 최상헌 How are you?\n"
     ]
    }
   ]
  },
  {
   "cell_type": "code",
   "execution_count": 15,
   "metadata": {},
   "outputs": [
    {
     "output_type": "stream",
     "name": "stdout",
     "text": [
      "Hi. CSH! How are you?\n"
     ]
    }
   ],
   "source": [
    "#PLUS. 파이썬스러운 코딩 방법\n",
    "sombody = input(\"enter your name:\")\n",
    "print(f'Hi. {sombody}! How are you?') #f'' = F(ormated)-string = R의 eval(parse())함수"
   ]
  },
  {
   "source": [
    "#Q. 섭씨온도를 입력받아 화씨온도를 변환하여 출력하세요. \n",
    "#A. \n",
    "celsius = float(input(\"Enter Current celsius: \")) #input에서 입력받은 값은 무조건 문자형이므로 변환해줘야함.\n",
    "print(f'Celsius= {celsius}°C')\n",
    "print(f'Fahrenheit= {round(celsius*1.8+32,2)}°F')"
   ],
   "cell_type": "code",
   "metadata": {},
   "execution_count": 1,
   "outputs": [
    {
     "output_type": "stream",
     "name": "stdout",
     "text": [
      "Celsius= 22.0°C\nFahrenheit= 71.6°F\n"
     ]
    }
   ]
  }
 ]
}