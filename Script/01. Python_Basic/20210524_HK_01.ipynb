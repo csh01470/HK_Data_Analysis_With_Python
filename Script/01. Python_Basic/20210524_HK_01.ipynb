{
 "metadata": {
  "language_info": {
   "codemirror_mode": {
    "name": "ipython",
    "version": 3
   },
   "file_extension": ".py",
   "mimetype": "text/x-python",
   "name": "python",
   "nbconvert_exporter": "python",
   "pygments_lexer": "ipython3",
   "version": "3.9.4"
  },
  "orig_nbformat": 2,
  "kernelspec": {
   "name": "python394jvsc74a57bd0970b6f8752eefbcba9fc27b36d3deea80bcc92bf9cb37d4108e55fcbb51a21e9",
   "display_name": "Python 3.9.4 64-bit ('PythonProject': conda)"
  },
  "metadata": {
   "interpreter": {
    "hash": "970b6f8752eefbcba9fc27b36d3deea80bcc92bf9cb37d4108e55fcbb51a21e9"
   }
  }
 },
 "nbformat": 4,
 "nbformat_minor": 2,
 "cells": [
  {
   "cell_type": "code",
   "execution_count": 5,
   "metadata": {},
   "outputs": [
    {
     "output_type": "stream",
     "name": "stdout",
     "text": [
      "Welcome to the club\n"
     ]
    }
   ],
   "source": [
    "#2021.05.24. MON\n",
    "#Hankyeong\n",
    "\n",
    "##CH04. 조건문과 반복문\n",
    "#01. 조건문 이해하기.\n",
    "#(1) if-else문\n",
    "#Q. 나이가 15 초과, 30 미만인 경우에 \"Welcome to the Club\"를, 그렇지 않은 경우 \"You are not accepted\"를 출력하시오.\n",
    "#A.\n",
    "age=int(input(\"Enter your age: \"))\n",
    "if age>15 and age<30 : #or 15< age < 30 (between 개념)\n",
    "    print(\"Welcome to the Club\")\n",
    "else : \n",
    "    print(\"You are not accepted\")"
   ]
  },
  {
   "cell_type": "code",
   "execution_count": 15,
   "metadata": {},
   "outputs": [
    {
     "output_type": "stream",
     "name": "stdout",
     "text": [
      "Welcome to the Club\n"
     ]
    }
   ],
   "source": [
    "#PLUS. 3항 연산자\n",
    "age=int(input(\"Enter your age.\"))\n",
    "msg=\"Welcome to the Club\" if 15 < age < 30 else \"You are not accepted\"\n",
    "print(msg)"
   ]
  },
  {
   "cell_type": "code",
   "execution_count": 11,
   "metadata": {},
   "outputs": [],
   "source": [
    "#TIP. Python에서는 비교연산자(>, <)가 논리연산자(and, or, not)보다 우선순위가 높음."
   ]
  },
  {
   "cell_type": "code",
   "execution_count": 1,
   "metadata": {},
   "outputs": [
    {
     "output_type": "stream",
     "name": "stdout",
     "text": [
      "True\n999998\n"
     ]
    }
   ],
   "source": [
    "#PLUS. Python의 특이한 논리연산자 판단: or 논리의 앞 항이 True면 뒷 항을 계산하지 않는다. but or 논리의 앞 항이 False면 뒷항을 출력함.\n",
    "print(3 == 3 or 999998)\n",
    "print(3 == 4 or 999998)"
   ]
  },
  {
   "cell_type": "code",
   "execution_count": 26,
   "metadata": {},
   "outputs": [
    {
     "output_type": "stream",
     "name": "stdout",
     "text": [
      "B\n"
     ]
    }
   ],
   "source": [
    "#(2) if-elif-else문\n",
    "#Q. 90점 이상은 A, 80점 이상은 B, 70점 이상은 C, 60점 이상은 D, 나머지는 F를 부여해라.\n",
    "#A-1. 세세한 조건의 if문 사용\n",
    "score=int(input(\"Enter your score: \"))\n",
    "if 90<=score<=100 : print(\"A\")\n",
    "if 80<=score< 90  : print(\"B\")\n",
    "if 70<=score< 80  : print(\"C\")\n",
    "if 60<=score< 70  : print(\"D\")\n",
    "if     score< 60  : print(\"E\")"
   ]
  },
  {
   "cell_type": "code",
   "execution_count": 22,
   "metadata": {},
   "outputs": [],
   "source": [
    "#TIP. 조건의 포함 범위가 점점 커지는 방향으로 if문을 작성할 것.\n",
    "#TIP. ALT+ or : LINE 이동"
   ]
  },
  {
   "cell_type": "code",
   "execution_count": 25,
   "metadata": {},
   "outputs": [
    {
     "output_type": "stream",
     "name": "stdout",
     "text": [
      "A\n"
     ]
    }
   ],
   "source": [
    "#A-2. if-elif-else문 사용\n",
    "score=int(input(\"Enter your score: \"))\n",
    "if   score>=90 : \n",
    "    print(\"A\")\n",
    "elif score>=80 : \n",
    "    print(\"B\")\n",
    "elif score>=70 : \n",
    "    print(\"C\")\n",
    "elif score>=60 : \n",
    "    print(\"D\")\n",
    "else           : \n",
    "    print(\"E\")"
   ]
  },
  {
   "cell_type": "code",
   "execution_count": 37,
   "metadata": {},
   "outputs": [
    {
     "output_type": "stream",
     "name": "stdout",
     "text": [
      "A\n"
     ]
    }
   ],
   "source": [
    "#A-3. if-else 3항 연산자 이용하기.\n",
    "score=int(input(\"Enter your score: \"))\n",
    "grade= \"A\" if score >=90 else \\\n",
    "            \"B\" if score >=80 else \\\n",
    "                \"C\" if score >=70 else \\\n",
    "                    \"D\" if score >=60 else \\\n",
    "                        \"E\" \n",
    "print(grade)"
   ]
  },
  {
   "cell_type": "code",
   "execution_count": null,
   "metadata": {},
   "outputs": [],
   "source": [
    "#TIP. Python에서 함수를 여러 줄로 나눠쓰고 싶을 때는 \\(Back Slash) 사용함."
   ]
  },
  {
   "cell_type": "code",
   "execution_count": 1,
   "metadata": {},
   "outputs": [
    {
     "output_type": "stream",
     "name": "stdout",
     "text": [
      "대학원생 or 취업준비생 or 직장인\n"
     ]
    }
   ],
   "source": [
    "#Q. 태어난 연도를 입력받아, 어떤 종류의 학생인지 출력하시오. \n",
    "from datetime import date\n",
    "today=date.today()\n",
    "birth_year = int(input(\"Enter your birth year :\"))\n",
    "age=today.year-birth_year +1\n",
    "if 26 <  age       : print(\"대학원생 or 취업준비생 or 직장인\")\n",
    "if 20 <= age <= 26 : print(\"대학생\")\n",
    "if 17 <= age <  20 : print(\"고등학생\")\n",
    "if 14 <= age <  17 : print(\"중등학생\")\n",
    "if  8 <= age <  14 : print(\"초등학생\")\n",
    "if       age <  8  : print(\"유치원생\")"
   ]
  },
  {
   "cell_type": "code",
   "execution_count": 66,
   "metadata": {},
   "outputs": [
    {
     "output_type": "stream",
     "name": "stdout",
     "text": [
      "1\n2\nFizz\n3\n4\nBuzz\nFizz\n6\n7\n8\nFizz\n9\nBuzz\n11\nFizz\n12\n13\n14\nFizzBuzz\n15\n16\n17\nFizz\n18\n19\nBuzz\nFizz\n21\n22\n23\nFizz\n24\nBuzz\n26\nFizz\n27\n28\n29\nFizzBuzz\n30\n31\n32\nFizz\n33\n34\nBuzz\nFizz\n36\n37\n38\nFizz\n39\nBuzz\n41\nFizz\n42\n43\n44\nFizzBuzz\n45\n46\n47\nFizz\n48\n49\nBuzz\nFizz\n51\n52\n53\nFizz\n54\nBuzz\n56\nFizz\n57\n58\n59\nFizzBuzz\n60\n61\n62\nFizz\n63\n64\nBuzz\nFizz\n66\n67\n68\nFizz\n69\nBuzz\n71\nFizz\n72\n73\n74\nFizzBuzz\n75\n76\n77\nFizz\n78\n79\nBuzz\nFizz\n81\n82\n83\nFizz\n84\nBuzz\n86\nFizz\n87\n88\n89\nFizzBuzz\n90\n91\n92\nFizz\n93\n94\nBuzz\nFizz\n96\n97\n98\nFizz\n99\nBuzz\n"
     ]
    }
   ],
   "source": [
    "#Q. 1부터 100까지의 정수 중 3의 배수면 FIZZ, 5의 배수면 BUZZ, 15의 배수면 FIZZ*BUZZ로 출력하시오.\n",
    "for i in range(1,101) :\n",
    "    if i%15==0             : print(\"FizzBuzz\")\n",
    "    if i%3==0 and i%15!=0  : print(\"Fizz\")\n",
    "    if i%5==0 and i%15!=0  : print(\"Buzz\")\n",
    "    else                   : print(i)"
   ]
  },
  {
   "cell_type": "code",
   "execution_count": 65,
   "metadata": {},
   "outputs": [
    {
     "output_type": "stream",
     "name": "stdout",
     "text": [
      "1\n2\nfizz\n4\nBizz\nfizz\n7\n8\nfizz\nBizz\n11\nfizz\n13\n14\nfizzBizz\n16\n17\nfizz\n19\nBizz\nfizz\n22\n23\nfizz\nBizz\n26\nfizz\n28\n29\nfizzBizz\n31\n32\nfizz\n34\nBizz\nfizz\n37\n38\nfizz\nBizz\n41\nfizz\n43\n44\nfizzBizz\n46\n47\nfizz\n49\nBizz\nfizz\n52\n53\nfizz\nBizz\n56\nfizz\n58\n59\nfizzBizz\n61\n62\nfizz\n64\nBizz\nfizz\n67\n68\nfizz\nBizz\n71\nfizz\n73\n74\nfizzBizz\n76\n77\nfizz\n79\nBizz\nfizz\n82\n83\nfizz\nBizz\n86\nfizz\n88\n89\nfizzBizz\n91\n92\nfizz\n94\nBizz\nfizz\n97\n98\nfizz\nBizz\n"
     ]
    }
   ],
   "source": [
    "#PLUS. Python다운 압축법\n",
    "for i in range(1,101) :\n",
    "    print(\"fizz\"*(i%3==0) + \"Bizz\"*(i%5==0) or i)"
   ]
  },
  {
   "cell_type": "code",
   "execution_count": 69,
   "metadata": {},
   "outputs": [
    {
     "output_type": "stream",
     "name": "stdout",
     "text": [
      "Hello World\nHello World\nHello World\nHello World\n"
     ]
    }
   ],
   "source": [
    "#02. 반복문 for() 이해하기.\n",
    "#Q. for문을 이용해서 \"Hello World\"를 5번 출력하시오.\n",
    "for i in range(1,5) :\n",
    "    print(\"Hello World\")"
   ]
  },
  {
   "cell_type": "code",
   "execution_count": null,
   "metadata": {},
   "outputs": [],
   "source": [
    "#TIP. for문에서 사용할 수 있는 범위 = sequence 자료형(list,tuple,string,range)"
   ]
  },
  {
   "cell_type": "code",
   "execution_count": null,
   "metadata": {},
   "outputs": [],
   "source": [
    "#03. 반복문 while() 이해하기.\n",
    "#구조: while condition() : action()\n",
    "#의미: 조건이 True일 때 Action실행, False면 action() 중지"
   ]
  },
  {
   "cell_type": "code",
   "execution_count": 88,
   "metadata": {},
   "outputs": [
    {
     "output_type": "stream",
     "name": "stdout",
     "text": [
      "1\n2\n3\n4\n5\n"
     ]
    }
   ],
   "source": [
    "i=1\n",
    "while i < 6 :\n",
    "  print(i)\n",
    "  i=i+1"
   ]
  },
  {
   "cell_type": "code",
   "execution_count": 22,
   "metadata": {},
   "outputs": [
    {
     "output_type": "stream",
     "name": "stdout",
     "text": [
      "6.0\n"
     ]
    }
   ],
   "source": [
    "#04. 반복문 제어: break문\n",
    "#Q. 사용자가 숫자를 입력하고, 숫자가 나오면 계속 더하고 글자를 입력하면 그 전단계의 합계를 출력하세요.\n",
    "sum = 0\n",
    "while True :\n",
    "    num = input(\"값을 입력하세요.: \")\n",
    "    if num.isalpha() :\n",
    "        break\n",
    "    else          :\n",
    "        sum += float(num)\n",
    "print(sum)"
   ]
  },
  {
   "cell_type": "code",
   "execution_count": 4,
   "metadata": {},
   "outputs": [],
   "source": [
    "#05. 반복문 제어 : continue문"
   ]
  },
  {
   "cell_type": "code",
   "execution_count": 12,
   "metadata": {},
   "outputs": [
    {
     "output_type": "stream",
     "name": "stdout",
     "text": [
      "25.0 x 1 = 25.0\n25.0 x 2 = 50.0\n25.0 x 3 = 75.0\n25.0 x 4 = 100.0\n25.0 x 5 = 125.0\n25.0 x 6 = 150.0\n25.0 x 7 = 175.0\n25.0 x 8 = 200.0\n25.0 x 9 = 225.0\n"
     ]
    }
   ],
   "source": [
    "#Q. for문으로 구구단 만드세요.\n",
    "#A.\n",
    "n = float(input(\"숫자를 입력하세요. :\"))\n",
    "for i in range(1,10) :\n",
    "    print(f'{n} x {i} = {n*i}')"
   ]
  },
  {
   "cell_type": "code",
   "execution_count": 20,
   "metadata": {},
   "outputs": [
    {
     "output_type": "stream",
     "name": "stdout",
     "text": [
      "151351521321 - 123125153151\n"
     ]
    }
   ],
   "source": [
    "#Q. 입력받은 글자를 역으로 출력하세요.\n",
    "#A. \n",
    "sentence = input(\"글자를 입력하세요. :\")\n",
    "reverse_sentence = ''\n",
    "for char in sentence :\n",
    "    reverse_sentence = char + reverse_sentence \n",
    "print(reverse_sentence,\"-\",sentence)"
   ]
  },
  {
   "cell_type": "code",
   "execution_count": 47,
   "metadata": {},
   "outputs": [
    {
     "output_type": "stream",
     "name": "stdout",
     "text": [
      "rir은 숫자가 아닙니다.\n"
     ]
    }
   ],
   "source": [
    "#Q. 입력받은 숫자를 진수로 변환하시오.\n",
    "#A. \n",
    "input_value = input(\"숫자를 입력하세요.\")\n",
    "ans = ''\n",
    "if input_value.isdigit() :\n",
    "    num =int(input_value)\n",
    "    while num > 0 :\n",
    "       rem = num % 2\n",
    "       quo = num // 2 \n",
    "       ans = str(quo) + ans\n",
    "       print(ans)\n",
    "else             :\n",
    "    print(f'{input_value}은 숫자가 아닙니다.')"
   ]
  },
  {
   "cell_type": "code",
   "execution_count": 42,
   "metadata": {},
   "outputs": [
    {
     "output_type": "stream",
     "name": "stdout",
     "text": [
      "랜덤추출한 임의의 정수를 맞춰보세요.\n",
      "12은(는) 정답에 비해 숫자가 작습니다.\n",
      "50은(는) 정답에 비해 숫자가 작습니다.\n",
      "90은(는) 정답에 비해 숫자가 큽니다.\n",
      "80은(는) 정답에 비해 숫자가 큽니다.\n",
      "75은(는) 정답에 비해 숫자가 큽니다.\n",
      "80은(는) 정답에 비해 숫자가 큽니다.\n",
      "70은(는) 정답에 비해 숫자가 큽니다.\n",
      "정답은 60입니다.\n"
     ]
    }
   ],
   "source": [
    "#Q. 랜덤추출한 임의의 정수를 맞춰보세요.\n",
    "import random\n",
    "random_number = random.randint(1,100)\n",
    "while True :\n",
    "    guess = int(input(\"1에서 100사이의 정수를 입력하세요. :\"))\n",
    "    if guess == random_number :\n",
    "        print(f'정답은 {random_number}입니다.')\n",
    "        break\n",
    "    if guess > random_number :\n",
    "        print(f\"{guess}은(는) 정답에 비해 숫자가 큽니다.\")\n",
    "    if guess < random_number :\n",
    "        print(f\"{guess}은(는) 정답에 비해 숫자가 작습니다.\")"
   ]
  }
 ]
}