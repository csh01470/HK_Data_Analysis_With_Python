{
 "metadata": {
  "language_info": {
   "codemirror_mode": {
    "name": "ipython",
    "version": 3
   },
   "file_extension": ".py",
   "mimetype": "text/x-python",
   "name": "python",
   "nbconvert_exporter": "python",
   "pygments_lexer": "ipython3",
   "version": "3.9.4"
  },
  "orig_nbformat": 2,
  "kernelspec": {
   "name": "python394jvsc74a57bd0970b6f8752eefbcba9fc27b36d3deea80bcc92bf9cb37d4108e55fcbb51a21e9",
   "display_name": "Python 3.9.4 64-bit ('PythonProject': conda)"
  }
 },
 "nbformat": 4,
 "nbformat_minor": 2,
 "cells": [
  {
   "cell_type": "code",
   "execution_count": null,
   "metadata": {},
   "outputs": [],
   "source": [
    "#2021.05.25. TUE\n",
    "#Hankyeong\n",
    "\n",
    "##CH.05 함수\n",
    "#01. 함수 기초\n",
    "#(1) 함수의 정의\n",
    "#    어떤 일을 수행하는 코드의 덩어리, 또는 코드의 묶음\n",
    "\n",
    "# (2) 함수의 장점\n",
    "#    ①필요할 때 호출 가능함.\n",
    "#    ②논리적인 단위로 분할 가능함.\n",
    "#    ③모듈의 캡슐화\n",
    "#    ④유지보수 측면에서 관리가 쉬움 (코드가 깔끔해짐)"
   ]
  },
  {
   "cell_type": "code",
   "execution_count": 1,
   "metadata": {},
   "outputs": [
    {
     "output_type": "stream",
     "name": "stdout",
     "text": [
      "80\n"
     ]
    }
   ],
   "source": [
    "#(3) 사용자정의 함수 만들기\n",
    "#TIP. 사용자정의 함수의 구조\n",
    "#def 함수명 (인자) :\n",
    "#    수행문1\n",
    "#    수행문2\n",
    "#      ...\n",
    "#    result 반환값\n",
    "\n",
    "#①직사각형의 넓이를 구하는 함수\n",
    "def calculate_rectangle_area(x,y) :\n",
    "    return x*y\n",
    "print(calculate_rectangle_area(10,8))"
   ]
  },
  {
   "cell_type": "code",
   "execution_count": 2,
   "metadata": {},
   "outputs": [
    {
     "output_type": "stream",
     "name": "stdout",
     "text": [
      "78.53981633974483\n"
     ]
    }
   ],
   "source": [
    "#②원의 넓이를 구하는 함수\n",
    "import math\n",
    "def calculate_circle_area(radius) :\n",
    "    return math.pi * radius * radius \n",
    "print(calculate_circle_area(5))"
   ]
  },
  {
   "cell_type": "code",
   "execution_count": 3,
   "metadata": {},
   "outputs": [
    {
     "output_type": "stream",
     "name": "stdout",
     "text": [
      "False\n"
     ]
    }
   ],
   "source": [
    "#③Palindrome\n",
    "def is_palindrome(value):\n",
    "    x=str(value)\n",
    "    return x == x[::-1]\n",
    "print(is_palindrome(\"ma13445\"))"
   ]
  },
  {
   "cell_type": "code",
   "execution_count": null,
   "metadata": {},
   "outputs": [],
   "source": [
    "#02. 함수 심화(응용)\n",
    "#(1) 스코프 규칙(Scope Rule) : 변수 유효 범위에 대한 논의 \n",
    "#  지역 변수(local  variable) : 함수 내에서만 유효한 변수\n",
    "#  전역 변수(global variable) : 함수 밖에서도 유효한 변수"
   ]
  },
  {
   "cell_type": "code",
   "execution_count": 21,
   "metadata": {},
   "outputs": [
    {
     "output_type": "stream",
     "name": "stdout",
     "text": [
      "I love Korea!\nI love German!\n"
     ]
    }
   ],
   "source": [
    "#PLUS. 스코프 규칙 확인하기.\n",
    "def f() :\n",
    "    str = \"I love Korea!\" # 해당 변수는 지역 변수임.\n",
    "    print(str)\n",
    "str = \"I love German!\" # 해당 변수는 전역 변수임.\n",
    "f()\n",
    "print(str)"
   ]
  },
  {
   "cell_type": "code",
   "execution_count": 23,
   "metadata": {},
   "outputs": [
    {
     "output_type": "stream",
     "name": "stdout",
     "text": [
      "I love Korea!\nI love Korea!\n"
     ]
    }
   ],
   "source": [
    "#PLUS. 지역 변수 강제 전역 변수로 변환하기.\n",
    "def f() :\n",
    "    global str\n",
    "    str = \"I love Korea!\"\n",
    "    print(str)\n",
    "str = \"I love German!\"\n",
    "f()\n",
    "print(str)"
   ]
  },
  {
   "cell_type": "code",
   "execution_count": null,
   "metadata": {},
   "outputs": [],
   "source": [
    "#TIP. 애초에 헷갈릴 일이 없게 변수 이름 선언을 잘하고, 함수 내에서는 지역 변수만 사용하도록 코드를 짜자."
   ]
  },
  {
   "cell_type": "code",
   "execution_count": 4,
   "metadata": {},
   "outputs": [
    {
     "output_type": "stream",
     "name": "stdout",
     "text": [
      "120\n"
     ]
    }
   ],
   "source": [
    "#03. 재귀 함수(Recursive Function) or 재귀 호출(Recursive Call)\n",
    "#(1) 팩토리얼 함수 만들기.\n",
    "def factorial(n) :\n",
    "    if n == 0 :\n",
    "        return 1\n",
    "    return n * factorial(n-1)\n",
    "print(factorial(5))"
   ]
  },
  {
   "cell_type": "code",
   "execution_count": 10,
   "metadata": {},
   "outputs": [],
   "source": [
    "#(2) 피보나치 수열 함수 만들기.\n",
    "def fibo (n) :\n",
    "    if n == 1 or n== 2 :\n",
    "        return 1\n",
    "    return fibo(n-1) + fibo(n-2)"
   ]
  },
  {
   "cell_type": "code",
   "execution_count": 9,
   "metadata": {},
   "outputs": [
    {
     "output_type": "stream",
     "name": "stdout",
     "text": [
      "fibo(1)=1\nfibo(2)=1\nfibo(3)=2\nfibo(4)=3\nfibo(5)=5\nfibo(6)=8\nfibo(7)=13\nfibo(8)=21\nfibo(9)=34\nfibo(10)=55\nfibo(11)=89\nfibo(12)=144\nfibo(13)=233\nfibo(14)=377\nfibo(15)=610\nfibo(16)=987\nfibo(17)=1597\nfibo(18)=2584\nfibo(19)=4181\nfibo(20)=6765\nfibo(21)=10946\nfibo(22)=17711\nfibo(23)=28657\nfibo(24)=46368\nfibo(25)=75025\n"
     ]
    }
   ],
   "source": [
    "for i in range(1,25+1) :\n",
    "    print(f'fibo({i})={fibo(i)}')"
   ]
  }
 ]
}