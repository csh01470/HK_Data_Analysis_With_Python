{
 "metadata": {
  "language_info": {
   "codemirror_mode": {
    "name": "ipython",
    "version": 3
   },
   "file_extension": ".py",
   "mimetype": "text/x-python",
   "name": "python",
   "nbconvert_exporter": "python",
   "pygments_lexer": "ipython3",
   "version": "3.9.4"
  },
  "orig_nbformat": 2,
  "kernelspec": {
   "name": "python394jvsc74a57bd0970b6f8752eefbcba9fc27b36d3deea80bcc92bf9cb37d4108e55fcbb51a21e9",
   "display_name": "Python 3.9.4 64-bit ('PythonProject': conda)"
  }
 },
 "nbformat": 4,
 "nbformat_minor": 2,
 "cells": [
  {
   "cell_type": "code",
   "execution_count": 3,
   "metadata": {},
   "outputs": [
    {
     "output_type": "error",
     "ename": "ZeroDivisionError",
     "evalue": "division by zero",
     "traceback": [
      "\u001b[1;31m---------------------------------------------------------------------------\u001b[0m",
      "\u001b[1;31mZeroDivisionError\u001b[0m                         Traceback (most recent call last)",
      "\u001b[1;32m<ipython-input-3-180d5a967866>\u001b[0m in \u001b[0;36m<module>\u001b[1;34m\u001b[0m\n\u001b[0;32m      6\u001b[0m \u001b[1;31m#(1) 일반적인 오류\u001b[0m\u001b[1;33m\u001b[0m\u001b[1;33m\u001b[0m\u001b[1;33m\u001b[0m\u001b[0m\n\u001b[0;32m      7\u001b[0m \u001b[1;32mfor\u001b[0m \u001b[0mi\u001b[0m \u001b[1;32min\u001b[0m \u001b[0mrange\u001b[0m\u001b[1;33m(\u001b[0m\u001b[1;36m5\u001b[0m\u001b[1;33m+\u001b[0m\u001b[1;36m1\u001b[0m\u001b[1;33m)\u001b[0m \u001b[1;33m:\u001b[0m\u001b[1;33m\u001b[0m\u001b[1;33m\u001b[0m\u001b[0m\n\u001b[1;32m----> 8\u001b[1;33m     \u001b[0mprint\u001b[0m\u001b[1;33m(\u001b[0m\u001b[1;36m5\u001b[0m\u001b[1;33m/\u001b[0m\u001b[0mi\u001b[0m\u001b[1;33m)\u001b[0m\u001b[1;33m\u001b[0m\u001b[1;33m\u001b[0m\u001b[0m\n\u001b[0m",
      "\u001b[1;31mZeroDivisionError\u001b[0m: division by zero"
     ]
    }
   ],
   "source": [
    "#2021.05.28. FRI\n",
    "#Hankyeong\n",
    "\n",
    "##CH12. 예외 처리와 파일\n",
    "#01. try-except문\n",
    "#(1) 일반적인 예, for문에서 5/0처리되면서 Error가 발생함=프로그램이 죽음.\n",
    "for i in range(5+1) :\n",
    "    print(5/i)"
   ]
  },
  {
   "cell_type": "code",
   "execution_count": 5,
   "metadata": {},
   "outputs": [
    {
     "output_type": "stream",
     "name": "stdout",
     "text": [
      "dont't division by zero\n5.0\n2.5\n1.6666666666666667\n1.25\n1.0\n"
     ]
    }
   ],
   "source": [
    "#(2) 예외 처리 구문 적용하기.\n",
    "for i in range(5+1)          :\n",
    "    try                      :\n",
    "        print(5/i)\n",
    "    except ZeroDivisionError :\n",
    "        print(\"dont't divide by zero.\")"
   ]
  },
  {
   "cell_type": "code",
   "execution_count": 19,
   "metadata": {},
   "outputs": [
    {
     "output_type": "stream",
     "name": "stdout",
     "text": [
      "ERROR!: division by zero\n1.0\n1.0\n1.0\nERROR!: list index out of range\n"
     ]
    }
   ],
   "source": [
    "#PLUS. 에러명을 변수로 할당하기.\n",
    "a = [0,1,2,3]\n",
    "for i in range(4+1)                   :\n",
    "    try                               :\n",
    "        print(a[i]/i)\n",
    "    except Exception as error :\n",
    "        print(\"ERROR!: \",error,sep=\"\")"
   ]
  },
  {
   "cell_type": "code",
   "execution_count": null,
   "metadata": {},
   "outputs": [],
   "source": [
    "#TIP. Exception은 모든 에러의 상위격(조상)임."
   ]
  },
  {
   "cell_type": "code",
   "execution_count": 21,
   "metadata": {},
   "outputs": [
    {
     "output_type": "stream",
     "name": "stdout",
     "text": [
      "division by zero\n1.0, not error\n1.0, not error\n1.0, not error\nlist index out of range\n"
     ]
    }
   ],
   "source": [
    "#02. try-except-else문\n",
    "a=[0,1,2,3]\n",
    "for i in range(5) :\n",
    "    try:\n",
    "        b=a[i] /i\n",
    "    except Exception as e :\n",
    "        print(e)\n",
    "    else:\n",
    "        print(f\"{b}, not error\")"
   ]
  },
  {
   "cell_type": "code",
   "execution_count": 32,
   "metadata": {},
   "outputs": [
    {
     "output_type": "stream",
     "name": "stdout",
     "text": [
      "1.0\n1.0\n1.0\nlist index out of range\nEND.\n"
     ]
    }
   ],
   "source": [
    "#03. try-except-finally문\n",
    "a=[0,1,2,3]\n",
    "try:\n",
    "    for i in range(1,5) :\n",
    "        print(a[i] /i)\n",
    "except Exception as e :\n",
    "        print(e)\n",
    "finally:\n",
    "        print(f\"END.\")"
   ]
  }
 ]
}