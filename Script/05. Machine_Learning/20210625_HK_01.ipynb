{
 "metadata": {
  "language_info": {
   "codemirror_mode": {
    "name": "ipython",
    "version": 3
   },
   "file_extension": ".py",
   "mimetype": "text/x-python",
   "name": "python",
   "nbconvert_exporter": "python",
   "pygments_lexer": "ipython3",
   "version": "3.8.8"
  },
  "orig_nbformat": 4,
  "kernelspec": {
   "name": "python3",
   "display_name": "Python 3.8.8 64-bit ('base': conda)"
  },
  "interpreter": {
   "hash": "389278cbb61c1c57cad107a3c1fdd79953aeebb4509d1d7f21aea6fe620a6af8"
  }
 },
 "nbformat": 4,
 "nbformat_minor": 2,
 "cells": [
  {
   "cell_type": "code",
   "execution_count": 30,
   "metadata": {},
   "outputs": [],
   "source": [
    "#2021.06.25. FRI \n",
    "#Hankyeong\n",
    "\n",
    "#00. 패키지 호출\n",
    "import pandas as pd \n",
    "import numpy as np\n",
    "import warnings\n",
    "import re\n",
    "from konlpy.tag import Okt\n",
    "from tqdm import tqdm_notebook\n",
    "from sklearn.feature_extraction.text import CountVectorizer\n",
    "from sklearn.linear_model import LogisticRegression\n",
    "from sklearn.model_selection import GridSearchCV\n",
    "from sklearn.metrics import accuracy_score\n",
    "\n",
    "#00-1. warning message ignore\n",
    "warnings.filterwarnings(action='ignore')\n"
   ]
  },
  {
   "cell_type": "code",
   "execution_count": 2,
   "metadata": {},
   "outputs": [
    {
     "output_type": "execute_result",
     "data": {
      "text/plain": [
       "              id                                           document  label\n",
       "0        9976970                                아 더빙.. 진짜 짜증나네요 목소리      0\n",
       "1        3819312                  흠...포스터보고 초딩영화줄....오버연기조차 가볍지 않구나      1\n",
       "2       10265843                                  너무재밓었다그래서보는것을추천한다      0\n",
       "3        9045019                      교도소 이야기구먼 ..솔직히 재미는 없다..평점 조정      0\n",
       "4        6483659  사이몬페그의 익살스런 연기가 돋보였던 영화!스파이더맨에서 늙어보이기만 했던 커스틴 ...      1\n",
       "...          ...                                                ...    ...\n",
       "149995   6222902                                인간이 문제지.. 소는 뭔죄인가..      0\n",
       "149996   8549745                                      평점이 너무 낮아서...      1\n",
       "149997   9311800                    이게 뭐요? 한국인은 거들먹거리고 필리핀 혼혈은 착하다?      0\n",
       "149998   2376369                        청춘 영화의 최고봉.방황과 우울했던 날들의 자화상      1\n",
       "149999   9619869                           한국 영화 최초로 수간하는 내용이 담긴 영화      0\n",
       "\n",
       "[150000 rows x 3 columns]"
      ],
      "text/html": "<div>\n<style scoped>\n    .dataframe tbody tr th:only-of-type {\n        vertical-align: middle;\n    }\n\n    .dataframe tbody tr th {\n        vertical-align: top;\n    }\n\n    .dataframe thead th {\n        text-align: right;\n    }\n</style>\n<table border=\"1\" class=\"dataframe\">\n  <thead>\n    <tr style=\"text-align: right;\">\n      <th></th>\n      <th>id</th>\n      <th>document</th>\n      <th>label</th>\n    </tr>\n  </thead>\n  <tbody>\n    <tr>\n      <th>0</th>\n      <td>9976970</td>\n      <td>아 더빙.. 진짜 짜증나네요 목소리</td>\n      <td>0</td>\n    </tr>\n    <tr>\n      <th>1</th>\n      <td>3819312</td>\n      <td>흠...포스터보고 초딩영화줄....오버연기조차 가볍지 않구나</td>\n      <td>1</td>\n    </tr>\n    <tr>\n      <th>2</th>\n      <td>10265843</td>\n      <td>너무재밓었다그래서보는것을추천한다</td>\n      <td>0</td>\n    </tr>\n    <tr>\n      <th>3</th>\n      <td>9045019</td>\n      <td>교도소 이야기구먼 ..솔직히 재미는 없다..평점 조정</td>\n      <td>0</td>\n    </tr>\n    <tr>\n      <th>4</th>\n      <td>6483659</td>\n      <td>사이몬페그의 익살스런 연기가 돋보였던 영화!스파이더맨에서 늙어보이기만 했던 커스틴 ...</td>\n      <td>1</td>\n    </tr>\n    <tr>\n      <th>...</th>\n      <td>...</td>\n      <td>...</td>\n      <td>...</td>\n    </tr>\n    <tr>\n      <th>149995</th>\n      <td>6222902</td>\n      <td>인간이 문제지.. 소는 뭔죄인가..</td>\n      <td>0</td>\n    </tr>\n    <tr>\n      <th>149996</th>\n      <td>8549745</td>\n      <td>평점이 너무 낮아서...</td>\n      <td>1</td>\n    </tr>\n    <tr>\n      <th>149997</th>\n      <td>9311800</td>\n      <td>이게 뭐요? 한국인은 거들먹거리고 필리핀 혼혈은 착하다?</td>\n      <td>0</td>\n    </tr>\n    <tr>\n      <th>149998</th>\n      <td>2376369</td>\n      <td>청춘 영화의 최고봉.방황과 우울했던 날들의 자화상</td>\n      <td>1</td>\n    </tr>\n    <tr>\n      <th>149999</th>\n      <td>9619869</td>\n      <td>한국 영화 최초로 수간하는 내용이 담긴 영화</td>\n      <td>0</td>\n    </tr>\n  </tbody>\n</table>\n<p>150000 rows × 3 columns</p>\n</div>"
     },
     "metadata": {},
     "execution_count": 2
    }
   ],
   "source": [
    "#15. 네이버 영화 리뷰 데이터로 한글 감성 분석하기. & CountVectorizer\n",
    "#    데이터셋 전처리 시행하기.  \n",
    "#(1) 데이터셋 불러오기\n",
    "review_train = pd.read_csv('https://raw.githubusercontent.com/e9t/nsmc/master/ratings_train.txt',sep='\\t') \n",
    "review_test = pd.read_csv('https://raw.githubusercontent.com/e9t/nsmc/master/ratings_test.txt',sep='\\t') \n",
    "\n",
    "#(2) train 데이터셋 살펴보기. \n",
    "review_train"
   ]
  },
  {
   "cell_type": "code",
   "execution_count": 3,
   "metadata": {},
   "outputs": [
    {
     "output_type": "execute_result",
     "data": {
      "text/plain": [
       "id          0\n",
       "document    5\n",
       "label       0\n",
       "dtype: int64"
      ]
     },
     "metadata": {},
     "execution_count": 3
    }
   ],
   "source": [
    "#(4) train 데이터셋 결측치 데이터 전처리하기. \n",
    "#①데이터셋 결측 여부 확인하기. \n",
    "review_train.isnull().sum()"
   ]
  },
  {
   "cell_type": "code",
   "execution_count": 4,
   "metadata": {},
   "outputs": [
    {
     "output_type": "execute_result",
     "data": {
      "text/plain": [
       "(149995, 3)"
      ]
     },
     "metadata": {},
     "execution_count": 4
    }
   ],
   "source": [
    "#②데이터셋 결측 데이터 삭제하기.\n",
    "review_train = review_train.dropna(how='any')\n",
    "review_train.shape"
   ]
  },
  {
   "cell_type": "code",
   "execution_count": 5,
   "metadata": {},
   "outputs": [
    {
     "output_type": "execute_result",
     "data": {
      "text/plain": [
       "146182"
      ]
     },
     "metadata": {},
     "execution_count": 5
    }
   ],
   "source": [
    "#(4) train 데이터셋 중복여부 데이터 전처리하기. \n",
    "#①데이터셋 중복여부 확인하기. \n",
    "review_train['document'].nunique()"
   ]
  },
  {
   "cell_type": "code",
   "execution_count": 6,
   "metadata": {},
   "outputs": [
    {
     "output_type": "execute_result",
     "data": {
      "text/plain": [
       "(146182, 3)"
      ]
     },
     "metadata": {},
     "execution_count": 6
    }
   ],
   "source": [
    "#②데이터셋 중복 데이터 삭제하기.\n",
    "review_train.drop_duplicates(subset=['document'], inplace=True)\n",
    "review_train.shape"
   ]
  },
  {
   "cell_type": "code",
   "execution_count": 7,
   "metadata": {},
   "outputs": [
    {
     "output_type": "execute_result",
     "data": {
      "text/plain": [
       "0    73342\n",
       "1    72840\n",
       "Name: label, dtype: int64"
      ]
     },
     "metadata": {},
     "execution_count": 7
    }
   ],
   "source": [
    "#(5) train 데이터셋의 target 변수 분포 확인하기. \n",
    "review_train['label'].value_counts()"
   ]
  },
  {
   "cell_type": "code",
   "execution_count": 8,
   "metadata": {},
   "outputs": [
    {
     "output_type": "execute_result",
     "data": {
      "text/plain": [
       "id          0\n",
       "document    3\n",
       "label       0\n",
       "dtype: int64"
      ]
     },
     "metadata": {},
     "execution_count": 8
    }
   ],
   "source": [
    "#(6) test 데이터셋 결측치 데이터 전처리하기. \n",
    "#①데이터셋 결측 여부 확인하기. \n",
    "review_test.isnull().sum()"
   ]
  },
  {
   "cell_type": "code",
   "execution_count": 9,
   "metadata": {},
   "outputs": [
    {
     "output_type": "execute_result",
     "data": {
      "text/plain": [
       "(49997, 3)"
      ]
     },
     "metadata": {},
     "execution_count": 9
    }
   ],
   "source": [
    "#②데이터셋 결측 데이터 삭제하기.\n",
    "review_test = review_test.dropna(how='any')\n",
    "review_test.shape"
   ]
  },
  {
   "cell_type": "code",
   "execution_count": 10,
   "metadata": {},
   "outputs": [
    {
     "output_type": "execute_result",
     "data": {
      "text/plain": [
       "49157"
      ]
     },
     "metadata": {},
     "execution_count": 10
    }
   ],
   "source": [
    "#(7) test 데이터셋 중복여부 데이터 전처리하기. \n",
    "#①데이터셋 중복여부 확인하기. \n",
    "review_test['document'].nunique()"
   ]
  },
  {
   "cell_type": "code",
   "execution_count": 11,
   "metadata": {},
   "outputs": [
    {
     "output_type": "execute_result",
     "data": {
      "text/plain": [
       "(49157, 3)"
      ]
     },
     "metadata": {},
     "execution_count": 11
    }
   ],
   "source": [
    "#②데이터셋 중복 데이터 삭제하기.\n",
    "review_test.drop_duplicates(subset=['document'], inplace=True)\n",
    "review_test.shape"
   ]
  },
  {
   "cell_type": "code",
   "execution_count": 12,
   "metadata": {},
   "outputs": [
    {
     "output_type": "execute_result",
     "data": {
      "text/plain": [
       "1    24711\n",
       "0    24446\n",
       "Name: label, dtype: int64"
      ]
     },
     "metadata": {},
     "execution_count": 12
    }
   ],
   "source": [
    "#(8) test 데이터셋의 target 변수 분포 확인하기. \n",
    "review_test['label'].value_counts()"
   ]
  },
  {
   "cell_type": "code",
   "execution_count": 13,
   "metadata": {},
   "outputs": [
    {
     "output_type": "execute_result",
     "data": {
      "text/plain": [
       "              id                                           document  label\n",
       "0        9976970                                  아 더빙 진짜 짜증나네요 목소리      0\n",
       "1        3819312                         흠포스터보고 초딩영화줄오버연기조차 가볍지 않구나      1\n",
       "2       10265843                                  너무재밓었다그래서보는것을추천한다      0\n",
       "3        9045019                          교도소 이야기구먼 솔직히 재미는 없다평점 조정      0\n",
       "4        6483659  사이몬페그의 익살스런 연기가 돋보였던 영화스파이더맨에서 늙어보이기만 했던 커스틴 던...      1\n",
       "...          ...                                                ...    ...\n",
       "149995   6222902                                    인간이 문제지 소는 뭔죄인가      0\n",
       "149996   8549745                                         평점이 너무 낮아서      1\n",
       "149997   9311800                      이게 뭐요 한국인은 거들먹거리고 필리핀 혼혈은 착하다      0\n",
       "149998   2376369                         청춘 영화의 최고봉방황과 우울했던 날들의 자화상      1\n",
       "149999   9619869                           한국 영화 최초로 수간하는 내용이 담긴 영화      0\n",
       "\n",
       "[146182 rows x 3 columns]"
      ],
      "text/html": "<div>\n<style scoped>\n    .dataframe tbody tr th:only-of-type {\n        vertical-align: middle;\n    }\n\n    .dataframe tbody tr th {\n        vertical-align: top;\n    }\n\n    .dataframe thead th {\n        text-align: right;\n    }\n</style>\n<table border=\"1\" class=\"dataframe\">\n  <thead>\n    <tr style=\"text-align: right;\">\n      <th></th>\n      <th>id</th>\n      <th>document</th>\n      <th>label</th>\n    </tr>\n  </thead>\n  <tbody>\n    <tr>\n      <th>0</th>\n      <td>9976970</td>\n      <td>아 더빙 진짜 짜증나네요 목소리</td>\n      <td>0</td>\n    </tr>\n    <tr>\n      <th>1</th>\n      <td>3819312</td>\n      <td>흠포스터보고 초딩영화줄오버연기조차 가볍지 않구나</td>\n      <td>1</td>\n    </tr>\n    <tr>\n      <th>2</th>\n      <td>10265843</td>\n      <td>너무재밓었다그래서보는것을추천한다</td>\n      <td>0</td>\n    </tr>\n    <tr>\n      <th>3</th>\n      <td>9045019</td>\n      <td>교도소 이야기구먼 솔직히 재미는 없다평점 조정</td>\n      <td>0</td>\n    </tr>\n    <tr>\n      <th>4</th>\n      <td>6483659</td>\n      <td>사이몬페그의 익살스런 연기가 돋보였던 영화스파이더맨에서 늙어보이기만 했던 커스틴 던...</td>\n      <td>1</td>\n    </tr>\n    <tr>\n      <th>...</th>\n      <td>...</td>\n      <td>...</td>\n      <td>...</td>\n    </tr>\n    <tr>\n      <th>149995</th>\n      <td>6222902</td>\n      <td>인간이 문제지 소는 뭔죄인가</td>\n      <td>0</td>\n    </tr>\n    <tr>\n      <th>149996</th>\n      <td>8549745</td>\n      <td>평점이 너무 낮아서</td>\n      <td>1</td>\n    </tr>\n    <tr>\n      <th>149997</th>\n      <td>9311800</td>\n      <td>이게 뭐요 한국인은 거들먹거리고 필리핀 혼혈은 착하다</td>\n      <td>0</td>\n    </tr>\n    <tr>\n      <th>149998</th>\n      <td>2376369</td>\n      <td>청춘 영화의 최고봉방황과 우울했던 날들의 자화상</td>\n      <td>1</td>\n    </tr>\n    <tr>\n      <th>149999</th>\n      <td>9619869</td>\n      <td>한국 영화 최초로 수간하는 내용이 담긴 영화</td>\n      <td>0</td>\n    </tr>\n  </tbody>\n</table>\n<p>146182 rows × 3 columns</p>\n</div>"
     },
     "metadata": {},
     "execution_count": 13
    }
   ],
   "source": [
    "#16. 텍스트 데이터 전처리하기. \n",
    "#(1) train 데이터셋에 한글이 아닌 글자는 모두 삭제하기. \n",
    "review_train['document'] = review_train['document'].str.replace('[^ㄱ-ㅎㅏ-ㅣ가-힣 ]',\"\")\n",
    "review_train"
   ]
  },
  {
   "cell_type": "code",
   "execution_count": 14,
   "metadata": {},
   "outputs": [
    {
     "output_type": "execute_result",
     "data": {
      "text/plain": [
       "391"
      ]
     },
     "metadata": {},
     "execution_count": 14
    }
   ],
   "source": [
    "#(2) train 데이터셋에 전처리후 공백 데이터를 결측치 처리하기. \n",
    "#ⓛ데이터셋 결측처리 및 확인하기. \n",
    "review_train['document'].replace('',np.nan, inplace=True)\n",
    "review_train['document'].isnull().sum()"
   ]
  },
  {
   "cell_type": "code",
   "execution_count": 15,
   "metadata": {},
   "outputs": [
    {
     "output_type": "execute_result",
     "data": {
      "text/plain": [
       "(145791, 3)"
      ]
     },
     "metadata": {},
     "execution_count": 15
    }
   ],
   "source": [
    "#②데이터셋 중복 데이터 삭제하기.\n",
    "review_train = review_train.dropna(how='any')\n",
    "review_train.shape"
   ]
  },
  {
   "cell_type": "code",
   "execution_count": 16,
   "metadata": {},
   "outputs": [
    {
     "output_type": "execute_result",
     "data": {
      "text/plain": [
       "            id                                    document  label\n",
       "0      6270596                                         굳 ㅋ      1\n",
       "1      9274899                                                  0\n",
       "2      8544678            뭐야 이 평점들은 나쁘진 않지만 점 짜리는 더더욱 아니잖아      0\n",
       "3      6825595                   지루하지는 않은데 완전 막장임 돈주고 보기에는      0\n",
       "4      6723715   만 아니었어도 별 다섯 개 줬을텐데 왜 로 나와서 제 심기를 불편하게 하죠      0\n",
       "...        ...                                         ...    ...\n",
       "49995  4608761   오랜만에 평점 로긴했네ㅋㅋ 킹왕짱 쌈뽕한 영화를 만났습니다 강렬하게 육쾌함      1\n",
       "49996  5308387    의지 박약들이나 하는거다 탈영은 일단 주인공 김대희 닮았고 이등병 찐따       0\n",
       "49997  9072549             그림도 좋고 완성도도 높았지만 보는 내내 불안하게 만든다      0\n",
       "49998  5802125  절대 봐서는 안 될 영화 재미도 없고 기분만 잡치고 한 세트장에서 다 해먹네      0\n",
       "49999  6070594                                  마무리는 또 왜이래      0\n",
       "\n",
       "[49157 rows x 3 columns]"
      ],
      "text/html": "<div>\n<style scoped>\n    .dataframe tbody tr th:only-of-type {\n        vertical-align: middle;\n    }\n\n    .dataframe tbody tr th {\n        vertical-align: top;\n    }\n\n    .dataframe thead th {\n        text-align: right;\n    }\n</style>\n<table border=\"1\" class=\"dataframe\">\n  <thead>\n    <tr style=\"text-align: right;\">\n      <th></th>\n      <th>id</th>\n      <th>document</th>\n      <th>label</th>\n    </tr>\n  </thead>\n  <tbody>\n    <tr>\n      <th>0</th>\n      <td>6270596</td>\n      <td>굳 ㅋ</td>\n      <td>1</td>\n    </tr>\n    <tr>\n      <th>1</th>\n      <td>9274899</td>\n      <td></td>\n      <td>0</td>\n    </tr>\n    <tr>\n      <th>2</th>\n      <td>8544678</td>\n      <td>뭐야 이 평점들은 나쁘진 않지만 점 짜리는 더더욱 아니잖아</td>\n      <td>0</td>\n    </tr>\n    <tr>\n      <th>3</th>\n      <td>6825595</td>\n      <td>지루하지는 않은데 완전 막장임 돈주고 보기에는</td>\n      <td>0</td>\n    </tr>\n    <tr>\n      <th>4</th>\n      <td>6723715</td>\n      <td>만 아니었어도 별 다섯 개 줬을텐데 왜 로 나와서 제 심기를 불편하게 하죠</td>\n      <td>0</td>\n    </tr>\n    <tr>\n      <th>...</th>\n      <td>...</td>\n      <td>...</td>\n      <td>...</td>\n    </tr>\n    <tr>\n      <th>49995</th>\n      <td>4608761</td>\n      <td>오랜만에 평점 로긴했네ㅋㅋ 킹왕짱 쌈뽕한 영화를 만났습니다 강렬하게 육쾌함</td>\n      <td>1</td>\n    </tr>\n    <tr>\n      <th>49996</th>\n      <td>5308387</td>\n      <td>의지 박약들이나 하는거다 탈영은 일단 주인공 김대희 닮았고 이등병 찐따</td>\n      <td>0</td>\n    </tr>\n    <tr>\n      <th>49997</th>\n      <td>9072549</td>\n      <td>그림도 좋고 완성도도 높았지만 보는 내내 불안하게 만든다</td>\n      <td>0</td>\n    </tr>\n    <tr>\n      <th>49998</th>\n      <td>5802125</td>\n      <td>절대 봐서는 안 될 영화 재미도 없고 기분만 잡치고 한 세트장에서 다 해먹네</td>\n      <td>0</td>\n    </tr>\n    <tr>\n      <th>49999</th>\n      <td>6070594</td>\n      <td>마무리는 또 왜이래</td>\n      <td>0</td>\n    </tr>\n  </tbody>\n</table>\n<p>49157 rows × 3 columns</p>\n</div>"
     },
     "metadata": {},
     "execution_count": 16
    }
   ],
   "source": [
    "#(3) test 데이터셋에 한글이 아닌 글자는 모두 삭제하기. \n",
    "review_test['document'] = review_test['document'].str.replace('[^ㄱ-ㅎㅏ-ㅣ가-힣 ]',\"\")\n",
    "review_test"
   ]
  },
  {
   "cell_type": "code",
   "execution_count": 17,
   "metadata": {},
   "outputs": [
    {
     "output_type": "execute_result",
     "data": {
      "text/plain": [
       "162"
      ]
     },
     "metadata": {},
     "execution_count": 17
    }
   ],
   "source": [
    "#(4) test 데이터셋에 전처리후 공백 데이터를 결측치 처리하기. \n",
    "#ⓛ데이터셋 결측처리 및 확인하기. \n",
    "review_test['document'].replace('',np.nan, inplace=True)\n",
    "review_test['document'].isnull().sum()"
   ]
  },
  {
   "cell_type": "code",
   "execution_count": 18,
   "metadata": {},
   "outputs": [
    {
     "output_type": "execute_result",
     "data": {
      "text/plain": [
       "(48995, 3)"
      ]
     },
     "metadata": {},
     "execution_count": 18
    }
   ],
   "source": [
    "#②데이터셋 중복 데이터 삭제하기.\n",
    "review_test = review_test.dropna(how='any')\n",
    "review_test.shape"
   ]
  },
  {
   "cell_type": "code",
   "execution_count": 19,
   "metadata": {},
   "outputs": [],
   "source": [
    "#PLUS. 전처리 완료한 데이터 저장하기. \n",
    "review_train.to_csv('D://Python_Project/Hankyeong_DataAnalysis/Data/naver_movie_review_train.csv', sep='\\t',index=False)\n",
    "review_test.to_csv('D://Python_Project/Hankyeong_DataAnalysis/Data/naver_movie_review_test.csv', sep='\\t', index=False)"
   ]
  },
  {
   "cell_type": "code",
   "execution_count": 20,
   "metadata": {},
   "outputs": [
    {
     "output_type": "display_data",
     "data": {
      "text/plain": "  0%|          | 0/145791 [00:00<?, ?it/s]",
      "application/vnd.jupyter.widget-view+json": {
       "version_major": 2,
       "version_minor": 0,
       "model_id": "6ab5a8321d394470bfe7f5429f4a40d9"
      }
     },
     "metadata": {}
    }
   ],
   "source": [
    "#17. 한글 처리하기. \n",
    "#(1) 객체 설정하기. \n",
    "okt = Okt()\n",
    "\n",
    "#(2) 불용어 설정하기. \n",
    "stopwords = ['의','가','이','은','들','는','좀','잘','걍','과','도','를','으로','자','에','와','한','하다','을']\n",
    "\n",
    "#(3) 명사추출과 불용어처리해 X_train 데이터셋 할당하기. \n",
    "X_train = []\n",
    "for sentence in tqdm_notebook(review_train['document']) :\n",
    "    morphs = okt.morphs(sentence, stem=True)\n",
    "    temp_X = ' '.join([word for word in morphs if not word in stopwords])\n",
    "    X_train.append(temp_X)"
   ]
  },
  {
   "cell_type": "code",
   "execution_count": 21,
   "metadata": {},
   "outputs": [
    {
     "output_type": "display_data",
     "data": {
      "text/plain": "  0%|          | 0/48995 [00:00<?, ?it/s]",
      "application/vnd.jupyter.widget-view+json": {
       "version_major": 2,
       "version_minor": 0,
       "model_id": "a3900211c7a6430e81a5e9d2cce049d5"
      }
     },
     "metadata": {}
    }
   ],
   "source": [
    "#(4) 명사추출과 불용어처리해 X_test 데이터셋 할당하기. \n",
    "X_test = [] \n",
    "for sentence in tqdm_notebook(review_test['document']) :\n",
    "    morphs = okt.morphs(sentence, stem=True)\n",
    "    temp_X = ' '.join([word for word in morphs if not word in stopwords])\n",
    "    X_test.append(temp_X)"
   ]
  },
  {
   "cell_type": "code",
   "execution_count": 22,
   "metadata": {},
   "outputs": [],
   "source": [
    "#PLUS. y_train, y_test 지정하기. \n",
    "y_train = review_train['label'].values\n",
    "y_test = review_test['label'].values\n",
    "\n",
    "#memo. values 어트리뷰트로 시리즈 -> 넘파이 어레이 변환함. "
   ]
  },
  {
   "cell_type": "code",
   "execution_count": 23,
   "metadata": {},
   "outputs": [],
   "source": [
    "#18. Count Vectorizer로 텍스트 데이터 벡터화 하기. \n",
    "#(1) Count Vectorizer 객체 생성하기. \n",
    "count_vect = CountVectorizer()\n",
    "\n",
    "#(2) X_train 데이터셋을 넣어 학습하기. \n",
    "count_vect.fit(X_train)\n",
    "\n",
    "#(3) transform() 메서드를 이용해 벡터화하기. \n",
    "X_train_cv = count_vect.transform(X_train)\n",
    "X_test_cv = count_vect.transform(X_test)"
   ]
  },
  {
   "cell_type": "code",
   "execution_count": 31,
   "metadata": {},
   "outputs": [
    {
     "output_type": "execute_result",
     "data": {
      "text/plain": [
       "{'C': 1.0,\n",
       " 'class_weight': None,\n",
       " 'dual': False,\n",
       " 'fit_intercept': True,\n",
       " 'intercept_scaling': 1,\n",
       " 'l1_ratio': None,\n",
       " 'max_iter': 100,\n",
       " 'multi_class': 'auto',\n",
       " 'n_jobs': None,\n",
       " 'penalty': 'l2',\n",
       " 'random_state': None,\n",
       " 'solver': 'lbfgs',\n",
       " 'tol': 0.0001,\n",
       " 'verbose': 0,\n",
       " 'warm_start': False}"
      ]
     },
     "metadata": {},
     "execution_count": 31
    }
   ],
   "source": [
    "#19. Grid search CV로 최적 파라미터 찾기. \n",
    "#(1) 모델 설정하기.\n",
    "lr = LogisticRegression()\n",
    "\n",
    "#(2) 모델의 하이퍼 파라미터 확인하기. \n",
    "lr.get_params()"
   ]
  },
  {
   "cell_type": "code",
   "execution_count": 65,
   "metadata": {},
   "outputs": [
    {
     "output_type": "execute_result",
     "data": {
      "text/plain": [
       "GridSearchCV(estimator=LogisticRegression(), param_grid={'C': [0, 1, 2, 3]})"
      ]
     },
     "metadata": {},
     "execution_count": 65
    }
   ],
   "source": [
    "#(3) GridSearch를 위한 하이퍼파라미터 값 지정하기. (recycle)\n",
    "params = {\n",
    "    'C'     : [0,1,2,3]\n",
    "}\n",
    "\n",
    "#(4) GridsearchCV() 메서드를 이용해 훈련 모델 할당하기. \n",
    "gscv_lr = GridSearchCV(lr, param_grid=params)\n",
    "\n",
    "#(5) 모형 학습하기. \n",
    "gscv_lr.fit(X_train_cv,y_train)"
   ]
  },
  {
   "cell_type": "code",
   "execution_count": 66,
   "metadata": {},
   "outputs": [
    {
     "output_type": "execute_result",
     "data": {
      "text/plain": [
       "{'C': 1}"
      ]
     },
     "metadata": {},
     "execution_count": 66
    }
   ],
   "source": [
    "#(6) 최적 하이퍼 파라미터 확인하기. \n",
    "gscv_lr.best_params_"
   ]
  },
  {
   "cell_type": "code",
   "execution_count": 67,
   "metadata": {},
   "outputs": [
    {
     "output_type": "execute_result",
     "data": {
      "text/plain": [
       "0.8263198309009931"
      ]
     },
     "metadata": {},
     "execution_count": 67
    }
   ],
   "source": [
    "#(7) 최적 파라미터에 대한 평가 점수 확인하기. \n",
    "gscv_lr.best_score_"
   ]
  },
  {
   "cell_type": "code",
   "execution_count": 68,
   "metadata": {},
   "outputs": [
    {
     "output_type": "execute_result",
     "data": {
      "text/plain": [
       "0.8261659352995203"
      ]
     },
     "metadata": {},
     "execution_count": 68
    }
   ],
   "source": [
    "#(8) test 데이터셋으로 모형 예측 및 평가하기. \n",
    "accuracy_score(y_test,gscv_lr.predict(X_test_cv))"
   ]
  },
  {
   "cell_type": "code",
   "execution_count": 69,
   "metadata": {},
   "outputs": [
    {
     "output_type": "execute_result",
     "data": {
      "text/plain": [
       "'아름다운 음악과 아름다운 풍광 그렇지 못한 현실이 찡하네요'"
      ]
     },
     "metadata": {},
     "execution_count": 69
    }
   ],
   "source": [
    "#20. 실제 데이터로 테스트 해보기. \n",
    "#(1) 리뷰 데이터 불러오기. \n",
    "review1 = '아름다운 음악과 아름다운 풍광~ 그렇지 못한 현실이 찡하네요~'\n",
    "review2 = '메시지와 작위성의 불협화음!!!'\n",
    "\n",
    "#(2) 텍스트 데이터 전처리하기. \n",
    "#①review1 데이터 처리하기. \n",
    "review1 = re.sub('[^ㄱ-ㅎㅏ-ㅣ가-힣 ]', '', review1)\n",
    "review1"
   ]
  },
  {
   "cell_type": "code",
   "execution_count": 70,
   "metadata": {},
   "outputs": [
    {
     "output_type": "execute_result",
     "data": {
      "text/plain": [
       "'메시지와 작위성의 불협화음'"
      ]
     },
     "metadata": {},
     "execution_count": 70
    }
   ],
   "source": [
    "#②review2 데이터 처리하기. \n",
    "review2 = re.sub('[^ㄱ-ㅎㅏ-ㅣ가-힣 ]', '', review2)\n",
    "review2"
   ]
  },
  {
   "cell_type": "code",
   "execution_count": 71,
   "metadata": {},
   "outputs": [],
   "source": [
    "#MEMO. 기존 replace() 메서드로는 작동이 안됨. WHY?"
   ]
  },
  {
   "cell_type": "code",
   "execution_count": 72,
   "metadata": {},
   "outputs": [
    {
     "output_type": "execute_result",
     "data": {
      "text/plain": [
       "'아름답다 음악 아름답다 풍 광 그렇다 못 현실 찡하다'"
      ]
     },
     "metadata": {},
     "execution_count": 72
    }
   ],
   "source": [
    "#(3) 형태소 분석후 다시 스트링으로 변경하기. \n",
    "#①review1 데이터 처리하기. \n",
    "morphs = okt.morphs(review1, stem=True)\n",
    "review1 = ' '.join([word for word in morphs if not word in stopwords])\n",
    "review1"
   ]
  },
  {
   "cell_type": "code",
   "execution_count": 73,
   "metadata": {},
   "outputs": [
    {
     "output_type": "execute_result",
     "data": {
      "text/plain": [
       "'메시지 작위 성의 불협화음'"
      ]
     },
     "metadata": {},
     "execution_count": 73
    }
   ],
   "source": [
    "#②review2 데이터 처리하기. \n",
    "morphs = okt.morphs(review2, stem=True)\n",
    "review2 = ' '.join([word for word in morphs if not word in stopwords])\n",
    "review2"
   ]
  },
  {
   "source": [
    "#(4) 벡터화 처리하기. \n",
    "review1_cv = count_vect.transform([review1])\n",
    "review2_cv = count_vect.transform([review2])\n",
    "\n",
    "#(5) gscv_lr 모델로 긍정, 부정 예측하기.\n",
    "#①review1 데이터 처리하기. \n",
    "review1_pred = gscv_lr.predict(review1_cv)\n",
    "review1_pred[0]"
   ],
   "cell_type": "code",
   "metadata": {},
   "execution_count": 74,
   "outputs": [
    {
     "output_type": "execute_result",
     "data": {
      "text/plain": [
       "1"
      ]
     },
     "metadata": {},
     "execution_count": 74
    }
   ]
  },
  {
   "cell_type": "code",
   "execution_count": 75,
   "metadata": {},
   "outputs": [
    {
     "output_type": "execute_result",
     "data": {
      "text/plain": [
       "0"
      ]
     },
     "metadata": {},
     "execution_count": 75
    }
   ],
   "source": [
    "#②review2 데이터 처리하기. \n",
    "review2_pred = gscv_lr.predict(review2_cv)\n",
    "review2_pred[0]"
   ]
  },
  {
   "cell_type": "code",
   "execution_count": 76,
   "metadata": {},
   "outputs": [
    {
     "output_type": "execute_result",
     "data": {
      "text/plain": [
       "array([1, 0], dtype=int64)"
      ]
     },
     "metadata": {},
     "execution_count": 76
    }
   ],
   "source": [
    "#PLUS. for문을 통해 한번에 처리하기. \n",
    "#(1) 리뷰 데이터 불러오기. \n",
    "reviews = ['아름다운 음악과 아름다운 풍광~ 그렇지 못한 현실이 찡하네요~',\n",
    "           '메시지와 작위성의 불협화음!!!']\n",
    "\n",
    "#(2) 데이터 전처리 및 형태소분석 후 리스트로 변환하기. \n",
    "review_list = []\n",
    "for review in reviews:\n",
    "    review = re.sub('[^ㄱ-ㅎㅏ-ㅣ가-힣 ]', '', review)\n",
    "    morphs = okt.morphs(review, stem=True)\n",
    "    temp_X = ' '.join([word for word in morphs if not word in stopwords])\n",
    "    review_list.append(temp_X)\n",
    "\n",
    "#(3) 벡터화 처리하기. \n",
    "review_cv = count_vect.transform(review_list)\n",
    "\n",
    "#(4) 모델로 긍정, 부정 예측하기. \n",
    "review_pred = gscv_lr.predict(review_cv)\n",
    "review_pred"
   ]
  }
 ]
}