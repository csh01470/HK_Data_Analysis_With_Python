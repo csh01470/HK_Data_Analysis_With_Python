{
 "metadata": {
  "language_info": {
   "codemirror_mode": {
    "name": "ipython",
    "version": 3
   },
   "file_extension": ".py",
   "mimetype": "text/x-python",
   "name": "python",
   "nbconvert_exporter": "python",
   "pygments_lexer": "ipython3",
   "version": "3.8.8"
  },
  "orig_nbformat": 4,
  "kernelspec": {
   "name": "python3",
   "display_name": "Python 3.8.8 64-bit ('base': conda)"
  },
  "interpreter": {
   "hash": "389278cbb61c1c57cad107a3c1fdd79953aeebb4509d1d7f21aea6fe620a6af8"
  }
 },
 "nbformat": 4,
 "nbformat_minor": 2,
 "cells": [
  {
   "cell_type": "code",
   "execution_count": 1,
   "metadata": {},
   "outputs": [
    {
     "output_type": "execute_result",
     "data": {
      "text/plain": [
       "LabelEncoder()"
      ]
     },
     "metadata": {},
     "execution_count": 1
    }
   ],
   "source": [
    "#2021.06.18. FRI\n",
    "#Hankyeong \n",
    "\n",
    "##CH02. 데이터셋 전처리\n",
    "#00. 패키지 호출\n",
    "import pandas as pd \n",
    "from sklearn.preprocessing import LabelEncoder\n",
    "from sklearn.preprocessing import OneHotEncoder\n",
    "from sklearn.datasets import load_iris\n",
    "from sklearn.preprocessing import StandardScaler\n",
    "from sklearn.preprocessing import MinMaxScaler\n",
    "\n",
    "#01. 레이블인코딩(Label Encoding)\n",
    "#(1) Factor 변수 설정하기. \n",
    "items = ['TV','냉장고','전자렌지','믹서','컴퓨터','선풍기','선풍기','믹서']\n",
    "\n",
    "#(2) 객체 설정하기. \n",
    "encoder = LabelEncoder()\n",
    "\n",
    "#(3) fitting(일종의 학습)하기. \n",
    "encoder.fit(items)"
   ]
  },
  {
   "cell_type": "code",
   "execution_count": 2,
   "metadata": {},
   "outputs": [
    {
     "output_type": "execute_result",
     "data": {
      "text/plain": [
       "array([0, 1, 4, 2, 5, 3, 3, 2])"
      ]
     },
     "metadata": {},
     "execution_count": 2
    }
   ],
   "source": [
    "#(4) 인코딩값 반환하기. \n",
    "labels = encoder.transform(items)\n",
    "labels"
   ]
  },
  {
   "cell_type": "code",
   "execution_count": 3,
   "metadata": {},
   "outputs": [
    {
     "output_type": "execute_result",
     "data": {
      "text/plain": [
       "array([0, 1, 4, 2, 5, 3, 3, 2], dtype=int64)"
      ]
     },
     "metadata": {},
     "execution_count": 3
    }
   ],
   "source": [
    "#PLUS. 실전응용하기. \n",
    "encoder = LabelEncoder()\n",
    "labels = encoder.fit_transform(items)\n",
    "labels"
   ]
  },
  {
   "cell_type": "code",
   "execution_count": 4,
   "metadata": {},
   "outputs": [
    {
     "output_type": "execute_result",
     "data": {
      "text/plain": [
       "array([[0],\n",
       "       [1],\n",
       "       [4],\n",
       "       [2],\n",
       "       [5],\n",
       "       [3],\n",
       "       [3],\n",
       "       [2]], dtype=int64)"
      ]
     },
     "metadata": {},
     "execution_count": 4
    }
   ],
   "source": [
    "#02. 원핫인코딩(One-hot encoding)\n",
    "#(1) 레이블값 구조 변환하기. \n",
    "labels = labels.reshape(-1,1)\n",
    "labels"
   ]
  },
  {
   "cell_type": "code",
   "execution_count": 5,
   "metadata": {},
   "outputs": [
    {
     "output_type": "execute_result",
     "data": {
      "text/plain": [
       "OneHotEncoder()"
      ]
     },
     "metadata": {},
     "execution_count": 5
    }
   ],
   "source": [
    "#(2) 객체 생성하기. \n",
    "oh_encoder = OneHotEncoder()\n",
    "\n",
    "#(3) fitting하기. \n",
    "oh_encoder.fit(labels)"
   ]
  },
  {
   "cell_type": "code",
   "execution_count": 6,
   "metadata": {},
   "outputs": [
    {
     "output_type": "execute_result",
     "data": {
      "text/plain": [
       "array([[1., 0., 0., 0., 0., 0.],\n",
       "       [0., 1., 0., 0., 0., 0.],\n",
       "       [0., 0., 0., 0., 1., 0.],\n",
       "       [0., 0., 1., 0., 0., 0.],\n",
       "       [0., 0., 0., 0., 0., 1.],\n",
       "       [0., 0., 0., 1., 0., 0.],\n",
       "       [0., 0., 0., 1., 0., 0.],\n",
       "       [0., 0., 1., 0., 0., 0.]])"
      ]
     },
     "metadata": {},
     "execution_count": 6
    }
   ],
   "source": [
    "#(4) 인코딩값 반환하기. \n",
    "one_hot = oh_encoder.transform(labels)\n",
    "one_hot.toarray()"
   ]
  },
  {
   "cell_type": "code",
   "execution_count": 7,
   "metadata": {},
   "outputs": [
    {
     "output_type": "execute_result",
     "data": {
      "text/plain": [
       "array([[1., 0., 0., 0., 0., 0.],\n",
       "       [0., 1., 0., 0., 0., 0.],\n",
       "       [0., 0., 0., 0., 1., 0.],\n",
       "       [0., 0., 1., 0., 0., 0.],\n",
       "       [0., 0., 0., 0., 0., 1.],\n",
       "       [0., 0., 0., 1., 0., 0.],\n",
       "       [0., 0., 0., 1., 0., 0.],\n",
       "       [0., 0., 1., 0., 0., 0.]])"
      ]
     },
     "metadata": {},
     "execution_count": 7
    }
   ],
   "source": [
    "#PLUS. 실전응용하기. \n",
    "labels = LabelEncoder().fit_transform(items)\n",
    "oh_encoder = OneHotEncoder()\n",
    "one_hot = oh_encoder.fit_transform(labels.reshape(-1,1))\n",
    "one_hot.toarray()"
   ]
  },
  {
   "cell_type": "code",
   "execution_count": 8,
   "metadata": {},
   "outputs": [
    {
     "output_type": "execute_result",
     "data": {
      "text/plain": [
       "     sepal length (cm)  sepal width (cm)  petal length (cm)  petal width (cm)  \\\n",
       "0                  5.1               3.5                1.4               0.2   \n",
       "1                  4.9               3.0                1.4               0.2   \n",
       "2                  4.7               3.2                1.3               0.2   \n",
       "3                  4.6               3.1                1.5               0.2   \n",
       "4                  5.0               3.6                1.4               0.2   \n",
       "..                 ...               ...                ...               ...   \n",
       "145                6.7               3.0                5.2               2.3   \n",
       "146                6.3               2.5                5.0               1.9   \n",
       "147                6.5               3.0                5.2               2.0   \n",
       "148                6.2               3.4                5.4               2.3   \n",
       "149                5.9               3.0                5.1               1.8   \n",
       "\n",
       "     species  \n",
       "0          0  \n",
       "1          0  \n",
       "2          0  \n",
       "3          0  \n",
       "4          0  \n",
       "..       ...  \n",
       "145        2  \n",
       "146        2  \n",
       "147        2  \n",
       "148        2  \n",
       "149        2  \n",
       "\n",
       "[150 rows x 5 columns]"
      ],
      "text/html": "<div>\n<style scoped>\n    .dataframe tbody tr th:only-of-type {\n        vertical-align: middle;\n    }\n\n    .dataframe tbody tr th {\n        vertical-align: top;\n    }\n\n    .dataframe thead th {\n        text-align: right;\n    }\n</style>\n<table border=\"1\" class=\"dataframe\">\n  <thead>\n    <tr style=\"text-align: right;\">\n      <th></th>\n      <th>sepal length (cm)</th>\n      <th>sepal width (cm)</th>\n      <th>petal length (cm)</th>\n      <th>petal width (cm)</th>\n      <th>species</th>\n    </tr>\n  </thead>\n  <tbody>\n    <tr>\n      <th>0</th>\n      <td>5.1</td>\n      <td>3.5</td>\n      <td>1.4</td>\n      <td>0.2</td>\n      <td>0</td>\n    </tr>\n    <tr>\n      <th>1</th>\n      <td>4.9</td>\n      <td>3.0</td>\n      <td>1.4</td>\n      <td>0.2</td>\n      <td>0</td>\n    </tr>\n    <tr>\n      <th>2</th>\n      <td>4.7</td>\n      <td>3.2</td>\n      <td>1.3</td>\n      <td>0.2</td>\n      <td>0</td>\n    </tr>\n    <tr>\n      <th>3</th>\n      <td>4.6</td>\n      <td>3.1</td>\n      <td>1.5</td>\n      <td>0.2</td>\n      <td>0</td>\n    </tr>\n    <tr>\n      <th>4</th>\n      <td>5.0</td>\n      <td>3.6</td>\n      <td>1.4</td>\n      <td>0.2</td>\n      <td>0</td>\n    </tr>\n    <tr>\n      <th>...</th>\n      <td>...</td>\n      <td>...</td>\n      <td>...</td>\n      <td>...</td>\n      <td>...</td>\n    </tr>\n    <tr>\n      <th>145</th>\n      <td>6.7</td>\n      <td>3.0</td>\n      <td>5.2</td>\n      <td>2.3</td>\n      <td>2</td>\n    </tr>\n    <tr>\n      <th>146</th>\n      <td>6.3</td>\n      <td>2.5</td>\n      <td>5.0</td>\n      <td>1.9</td>\n      <td>2</td>\n    </tr>\n    <tr>\n      <th>147</th>\n      <td>6.5</td>\n      <td>3.0</td>\n      <td>5.2</td>\n      <td>2.0</td>\n      <td>2</td>\n    </tr>\n    <tr>\n      <th>148</th>\n      <td>6.2</td>\n      <td>3.4</td>\n      <td>5.4</td>\n      <td>2.3</td>\n      <td>2</td>\n    </tr>\n    <tr>\n      <th>149</th>\n      <td>5.9</td>\n      <td>3.0</td>\n      <td>5.1</td>\n      <td>1.8</td>\n      <td>2</td>\n    </tr>\n  </tbody>\n</table>\n<p>150 rows × 5 columns</p>\n</div>"
     },
     "metadata": {},
     "execution_count": 8
    }
   ],
   "source": [
    "#03. 표준 정규화(Standard Scaler)\n",
    "#(1) 데이터셋 불러오기. \n",
    "iris = load_iris()\n",
    "\n",
    "#(2) 데이터프레임으로 변환하기. \n",
    "df_iris = pd.DataFrame(iris.data, columns=iris.feature_names)\n",
    "df_iris['species'] = iris.target\n",
    "df_iris"
   ]
  },
  {
   "cell_type": "code",
   "execution_count": 9,
   "metadata": {},
   "outputs": [
    {
     "output_type": "execute_result",
     "data": {
      "text/plain": [
       "     sepal length (cm)  sepal width (cm)  petal length (cm)  petal width (cm)  \\\n",
       "0            -0.900681          1.019004          -1.340227         -1.315444   \n",
       "1            -1.143017         -0.131979          -1.340227         -1.315444   \n",
       "2            -1.385353          0.328414          -1.397064         -1.315444   \n",
       "3            -1.506521          0.098217          -1.283389         -1.315444   \n",
       "4            -1.021849          1.249201          -1.340227         -1.315444   \n",
       "..                 ...               ...                ...               ...   \n",
       "145           1.038005         -0.131979           0.819596          1.448832   \n",
       "146           0.553333         -1.282963           0.705921          0.922303   \n",
       "147           0.795669         -0.131979           0.819596          1.053935   \n",
       "148           0.432165          0.788808           0.933271          1.448832   \n",
       "149           0.068662         -0.131979           0.762758          0.790671   \n",
       "\n",
       "     species  \n",
       "0          0  \n",
       "1          0  \n",
       "2          0  \n",
       "3          0  \n",
       "4          0  \n",
       "..       ...  \n",
       "145        2  \n",
       "146        2  \n",
       "147        2  \n",
       "148        2  \n",
       "149        2  \n",
       "\n",
       "[150 rows x 5 columns]"
      ],
      "text/html": "<div>\n<style scoped>\n    .dataframe tbody tr th:only-of-type {\n        vertical-align: middle;\n    }\n\n    .dataframe tbody tr th {\n        vertical-align: top;\n    }\n\n    .dataframe thead th {\n        text-align: right;\n    }\n</style>\n<table border=\"1\" class=\"dataframe\">\n  <thead>\n    <tr style=\"text-align: right;\">\n      <th></th>\n      <th>sepal length (cm)</th>\n      <th>sepal width (cm)</th>\n      <th>petal length (cm)</th>\n      <th>petal width (cm)</th>\n      <th>species</th>\n    </tr>\n  </thead>\n  <tbody>\n    <tr>\n      <th>0</th>\n      <td>-0.900681</td>\n      <td>1.019004</td>\n      <td>-1.340227</td>\n      <td>-1.315444</td>\n      <td>0</td>\n    </tr>\n    <tr>\n      <th>1</th>\n      <td>-1.143017</td>\n      <td>-0.131979</td>\n      <td>-1.340227</td>\n      <td>-1.315444</td>\n      <td>0</td>\n    </tr>\n    <tr>\n      <th>2</th>\n      <td>-1.385353</td>\n      <td>0.328414</td>\n      <td>-1.397064</td>\n      <td>-1.315444</td>\n      <td>0</td>\n    </tr>\n    <tr>\n      <th>3</th>\n      <td>-1.506521</td>\n      <td>0.098217</td>\n      <td>-1.283389</td>\n      <td>-1.315444</td>\n      <td>0</td>\n    </tr>\n    <tr>\n      <th>4</th>\n      <td>-1.021849</td>\n      <td>1.249201</td>\n      <td>-1.340227</td>\n      <td>-1.315444</td>\n      <td>0</td>\n    </tr>\n    <tr>\n      <th>...</th>\n      <td>...</td>\n      <td>...</td>\n      <td>...</td>\n      <td>...</td>\n      <td>...</td>\n    </tr>\n    <tr>\n      <th>145</th>\n      <td>1.038005</td>\n      <td>-0.131979</td>\n      <td>0.819596</td>\n      <td>1.448832</td>\n      <td>2</td>\n    </tr>\n    <tr>\n      <th>146</th>\n      <td>0.553333</td>\n      <td>-1.282963</td>\n      <td>0.705921</td>\n      <td>0.922303</td>\n      <td>2</td>\n    </tr>\n    <tr>\n      <th>147</th>\n      <td>0.795669</td>\n      <td>-0.131979</td>\n      <td>0.819596</td>\n      <td>1.053935</td>\n      <td>2</td>\n    </tr>\n    <tr>\n      <th>148</th>\n      <td>0.432165</td>\n      <td>0.788808</td>\n      <td>0.933271</td>\n      <td>1.448832</td>\n      <td>2</td>\n    </tr>\n    <tr>\n      <th>149</th>\n      <td>0.068662</td>\n      <td>-0.131979</td>\n      <td>0.762758</td>\n      <td>0.790671</td>\n      <td>2</td>\n    </tr>\n  </tbody>\n</table>\n<p>150 rows × 5 columns</p>\n</div>"
     },
     "metadata": {},
     "execution_count": 9
    }
   ],
   "source": [
    "#(3) 객체 생성하기. \n",
    "std_scaler = StandardScaler()\n",
    "\n",
    "#(4) 스케일링 처리하기. \n",
    "iris_std = std_scaler.fit_transform(iris.data)\n",
    "\n",
    "#(5) 처리한 값으로 데이터프레임 생성하기. \n",
    "df_iris_std = pd.DataFrame(iris_std, columns=iris.feature_names)\n",
    "df_iris_std['species'] = iris.target\n",
    "df_iris_std"
   ]
  },
  {
   "cell_type": "code",
   "execution_count": 10,
   "metadata": {},
   "outputs": [
    {
     "output_type": "execute_result",
     "data": {
      "text/plain": [
       "     sepal length (cm)  sepal width (cm)  petal length (cm)  petal width (cm)  \\\n",
       "0             0.222222          0.625000           0.067797          0.041667   \n",
       "1             0.166667          0.416667           0.067797          0.041667   \n",
       "2             0.111111          0.500000           0.050847          0.041667   \n",
       "3             0.083333          0.458333           0.084746          0.041667   \n",
       "4             0.194444          0.666667           0.067797          0.041667   \n",
       "..                 ...               ...                ...               ...   \n",
       "145           0.666667          0.416667           0.711864          0.916667   \n",
       "146           0.555556          0.208333           0.677966          0.750000   \n",
       "147           0.611111          0.416667           0.711864          0.791667   \n",
       "148           0.527778          0.583333           0.745763          0.916667   \n",
       "149           0.444444          0.416667           0.694915          0.708333   \n",
       "\n",
       "     species  \n",
       "0          0  \n",
       "1          0  \n",
       "2          0  \n",
       "3          0  \n",
       "4          0  \n",
       "..       ...  \n",
       "145        2  \n",
       "146        2  \n",
       "147        2  \n",
       "148        2  \n",
       "149        2  \n",
       "\n",
       "[150 rows x 5 columns]"
      ],
      "text/html": "<div>\n<style scoped>\n    .dataframe tbody tr th:only-of-type {\n        vertical-align: middle;\n    }\n\n    .dataframe tbody tr th {\n        vertical-align: top;\n    }\n\n    .dataframe thead th {\n        text-align: right;\n    }\n</style>\n<table border=\"1\" class=\"dataframe\">\n  <thead>\n    <tr style=\"text-align: right;\">\n      <th></th>\n      <th>sepal length (cm)</th>\n      <th>sepal width (cm)</th>\n      <th>petal length (cm)</th>\n      <th>petal width (cm)</th>\n      <th>species</th>\n    </tr>\n  </thead>\n  <tbody>\n    <tr>\n      <th>0</th>\n      <td>0.222222</td>\n      <td>0.625000</td>\n      <td>0.067797</td>\n      <td>0.041667</td>\n      <td>0</td>\n    </tr>\n    <tr>\n      <th>1</th>\n      <td>0.166667</td>\n      <td>0.416667</td>\n      <td>0.067797</td>\n      <td>0.041667</td>\n      <td>0</td>\n    </tr>\n    <tr>\n      <th>2</th>\n      <td>0.111111</td>\n      <td>0.500000</td>\n      <td>0.050847</td>\n      <td>0.041667</td>\n      <td>0</td>\n    </tr>\n    <tr>\n      <th>3</th>\n      <td>0.083333</td>\n      <td>0.458333</td>\n      <td>0.084746</td>\n      <td>0.041667</td>\n      <td>0</td>\n    </tr>\n    <tr>\n      <th>4</th>\n      <td>0.194444</td>\n      <td>0.666667</td>\n      <td>0.067797</td>\n      <td>0.041667</td>\n      <td>0</td>\n    </tr>\n    <tr>\n      <th>...</th>\n      <td>...</td>\n      <td>...</td>\n      <td>...</td>\n      <td>...</td>\n      <td>...</td>\n    </tr>\n    <tr>\n      <th>145</th>\n      <td>0.666667</td>\n      <td>0.416667</td>\n      <td>0.711864</td>\n      <td>0.916667</td>\n      <td>2</td>\n    </tr>\n    <tr>\n      <th>146</th>\n      <td>0.555556</td>\n      <td>0.208333</td>\n      <td>0.677966</td>\n      <td>0.750000</td>\n      <td>2</td>\n    </tr>\n    <tr>\n      <th>147</th>\n      <td>0.611111</td>\n      <td>0.416667</td>\n      <td>0.711864</td>\n      <td>0.791667</td>\n      <td>2</td>\n    </tr>\n    <tr>\n      <th>148</th>\n      <td>0.527778</td>\n      <td>0.583333</td>\n      <td>0.745763</td>\n      <td>0.916667</td>\n      <td>2</td>\n    </tr>\n    <tr>\n      <th>149</th>\n      <td>0.444444</td>\n      <td>0.416667</td>\n      <td>0.694915</td>\n      <td>0.708333</td>\n      <td>2</td>\n    </tr>\n  </tbody>\n</table>\n<p>150 rows × 5 columns</p>\n</div>"
     },
     "metadata": {},
     "execution_count": 10
    }
   ],
   "source": [
    "#04. 최대최소 정규화(MinMax Scaler)\n",
    "#(1) 객체 생성하기. \n",
    "mm_scaler = MinMaxScaler()\n",
    "\n",
    "#(2) 스케일링 처리하기. \n",
    "iris_mm = mm_scaler.fit_transform(iris.data)\n",
    "\n",
    "#(3) 처리한 값으로 데이터프레임 생성하기. \n",
    "df_iris_mm = pd.DataFrame(iris_mm, columns=iris.feature_names)\n",
    "df_iris_mm['species'] = iris.target\n",
    "df_iris_mm"
   ]
  }
 ]
}