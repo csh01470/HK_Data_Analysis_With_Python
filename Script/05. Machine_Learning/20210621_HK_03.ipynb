{
 "metadata": {
  "language_info": {
   "codemirror_mode": {
    "name": "ipython",
    "version": 3
   },
   "file_extension": ".py",
   "mimetype": "text/x-python",
   "name": "python",
   "nbconvert_exporter": "python",
   "pygments_lexer": "ipython3",
   "version": "3.8.8"
  },
  "orig_nbformat": 4,
  "kernelspec": {
   "name": "python3",
   "display_name": "Python 3.8.8 64-bit ('base': conda)"
  },
  "interpreter": {
   "hash": "389278cbb61c1c57cad107a3c1fdd79953aeebb4509d1d7f21aea6fe620a6af8"
  }
 },
 "nbformat": 4,
 "nbformat_minor": 2,
 "cells": [
  {
   "cell_type": "code",
   "execution_count": 3,
   "metadata": {},
   "outputs": [
    {
     "output_type": "execute_result",
     "data": {
      "text/plain": [
       "     mean radius  mean texture  mean perimeter  mean area  mean smoothness  \\\n",
       "0          17.99         10.38          122.80     1001.0          0.11840   \n",
       "1          20.57         17.77          132.90     1326.0          0.08474   \n",
       "2          19.69         21.25          130.00     1203.0          0.10960   \n",
       "3          11.42         20.38           77.58      386.1          0.14250   \n",
       "4          20.29         14.34          135.10     1297.0          0.10030   \n",
       "..           ...           ...             ...        ...              ...   \n",
       "564        21.56         22.39          142.00     1479.0          0.11100   \n",
       "565        20.13         28.25          131.20     1261.0          0.09780   \n",
       "566        16.60         28.08          108.30      858.1          0.08455   \n",
       "567        20.60         29.33          140.10     1265.0          0.11780   \n",
       "568         7.76         24.54           47.92      181.0          0.05263   \n",
       "\n",
       "     mean compactness  mean concavity  mean concave points  mean symmetry  \\\n",
       "0             0.27760         0.30010              0.14710         0.2419   \n",
       "1             0.07864         0.08690              0.07017         0.1812   \n",
       "2             0.15990         0.19740              0.12790         0.2069   \n",
       "3             0.28390         0.24140              0.10520         0.2597   \n",
       "4             0.13280         0.19800              0.10430         0.1809   \n",
       "..                ...             ...                  ...            ...   \n",
       "564           0.11590         0.24390              0.13890         0.1726   \n",
       "565           0.10340         0.14400              0.09791         0.1752   \n",
       "566           0.10230         0.09251              0.05302         0.1590   \n",
       "567           0.27700         0.35140              0.15200         0.2397   \n",
       "568           0.04362         0.00000              0.00000         0.1587   \n",
       "\n",
       "     mean fractal dimension  ...  worst texture  worst perimeter  worst area  \\\n",
       "0                   0.07871  ...          17.33           184.60      2019.0   \n",
       "1                   0.05667  ...          23.41           158.80      1956.0   \n",
       "2                   0.05999  ...          25.53           152.50      1709.0   \n",
       "3                   0.09744  ...          26.50            98.87       567.7   \n",
       "4                   0.05883  ...          16.67           152.20      1575.0   \n",
       "..                      ...  ...            ...              ...         ...   \n",
       "564                 0.05623  ...          26.40           166.10      2027.0   \n",
       "565                 0.05533  ...          38.25           155.00      1731.0   \n",
       "566                 0.05648  ...          34.12           126.70      1124.0   \n",
       "567                 0.07016  ...          39.42           184.60      1821.0   \n",
       "568                 0.05884  ...          30.37            59.16       268.6   \n",
       "\n",
       "     worst smoothness  worst compactness  worst concavity  \\\n",
       "0             0.16220            0.66560           0.7119   \n",
       "1             0.12380            0.18660           0.2416   \n",
       "2             0.14440            0.42450           0.4504   \n",
       "3             0.20980            0.86630           0.6869   \n",
       "4             0.13740            0.20500           0.4000   \n",
       "..                ...                ...              ...   \n",
       "564           0.14100            0.21130           0.4107   \n",
       "565           0.11660            0.19220           0.3215   \n",
       "566           0.11390            0.30940           0.3403   \n",
       "567           0.16500            0.86810           0.9387   \n",
       "568           0.08996            0.06444           0.0000   \n",
       "\n",
       "     worst concave points  worst symmetry  worst fractal dimension  target  \n",
       "0                  0.2654          0.4601                  0.11890       0  \n",
       "1                  0.1860          0.2750                  0.08902       0  \n",
       "2                  0.2430          0.3613                  0.08758       0  \n",
       "3                  0.2575          0.6638                  0.17300       0  \n",
       "4                  0.1625          0.2364                  0.07678       0  \n",
       "..                    ...             ...                      ...     ...  \n",
       "564                0.2216          0.2060                  0.07115       0  \n",
       "565                0.1628          0.2572                  0.06637       0  \n",
       "566                0.1418          0.2218                  0.07820       0  \n",
       "567                0.2650          0.4087                  0.12400       0  \n",
       "568                0.0000          0.2871                  0.07039       1  \n",
       "\n",
       "[569 rows x 31 columns]"
      ],
      "text/html": "<div>\n<style scoped>\n    .dataframe tbody tr th:only-of-type {\n        vertical-align: middle;\n    }\n\n    .dataframe tbody tr th {\n        vertical-align: top;\n    }\n\n    .dataframe thead th {\n        text-align: right;\n    }\n</style>\n<table border=\"1\" class=\"dataframe\">\n  <thead>\n    <tr style=\"text-align: right;\">\n      <th></th>\n      <th>mean radius</th>\n      <th>mean texture</th>\n      <th>mean perimeter</th>\n      <th>mean area</th>\n      <th>mean smoothness</th>\n      <th>mean compactness</th>\n      <th>mean concavity</th>\n      <th>mean concave points</th>\n      <th>mean symmetry</th>\n      <th>mean fractal dimension</th>\n      <th>...</th>\n      <th>worst texture</th>\n      <th>worst perimeter</th>\n      <th>worst area</th>\n      <th>worst smoothness</th>\n      <th>worst compactness</th>\n      <th>worst concavity</th>\n      <th>worst concave points</th>\n      <th>worst symmetry</th>\n      <th>worst fractal dimension</th>\n      <th>target</th>\n    </tr>\n  </thead>\n  <tbody>\n    <tr>\n      <th>0</th>\n      <td>17.99</td>\n      <td>10.38</td>\n      <td>122.80</td>\n      <td>1001.0</td>\n      <td>0.11840</td>\n      <td>0.27760</td>\n      <td>0.30010</td>\n      <td>0.14710</td>\n      <td>0.2419</td>\n      <td>0.07871</td>\n      <td>...</td>\n      <td>17.33</td>\n      <td>184.60</td>\n      <td>2019.0</td>\n      <td>0.16220</td>\n      <td>0.66560</td>\n      <td>0.7119</td>\n      <td>0.2654</td>\n      <td>0.4601</td>\n      <td>0.11890</td>\n      <td>0</td>\n    </tr>\n    <tr>\n      <th>1</th>\n      <td>20.57</td>\n      <td>17.77</td>\n      <td>132.90</td>\n      <td>1326.0</td>\n      <td>0.08474</td>\n      <td>0.07864</td>\n      <td>0.08690</td>\n      <td>0.07017</td>\n      <td>0.1812</td>\n      <td>0.05667</td>\n      <td>...</td>\n      <td>23.41</td>\n      <td>158.80</td>\n      <td>1956.0</td>\n      <td>0.12380</td>\n      <td>0.18660</td>\n      <td>0.2416</td>\n      <td>0.1860</td>\n      <td>0.2750</td>\n      <td>0.08902</td>\n      <td>0</td>\n    </tr>\n    <tr>\n      <th>2</th>\n      <td>19.69</td>\n      <td>21.25</td>\n      <td>130.00</td>\n      <td>1203.0</td>\n      <td>0.10960</td>\n      <td>0.15990</td>\n      <td>0.19740</td>\n      <td>0.12790</td>\n      <td>0.2069</td>\n      <td>0.05999</td>\n      <td>...</td>\n      <td>25.53</td>\n      <td>152.50</td>\n      <td>1709.0</td>\n      <td>0.14440</td>\n      <td>0.42450</td>\n      <td>0.4504</td>\n      <td>0.2430</td>\n      <td>0.3613</td>\n      <td>0.08758</td>\n      <td>0</td>\n    </tr>\n    <tr>\n      <th>3</th>\n      <td>11.42</td>\n      <td>20.38</td>\n      <td>77.58</td>\n      <td>386.1</td>\n      <td>0.14250</td>\n      <td>0.28390</td>\n      <td>0.24140</td>\n      <td>0.10520</td>\n      <td>0.2597</td>\n      <td>0.09744</td>\n      <td>...</td>\n      <td>26.50</td>\n      <td>98.87</td>\n      <td>567.7</td>\n      <td>0.20980</td>\n      <td>0.86630</td>\n      <td>0.6869</td>\n      <td>0.2575</td>\n      <td>0.6638</td>\n      <td>0.17300</td>\n      <td>0</td>\n    </tr>\n    <tr>\n      <th>4</th>\n      <td>20.29</td>\n      <td>14.34</td>\n      <td>135.10</td>\n      <td>1297.0</td>\n      <td>0.10030</td>\n      <td>0.13280</td>\n      <td>0.19800</td>\n      <td>0.10430</td>\n      <td>0.1809</td>\n      <td>0.05883</td>\n      <td>...</td>\n      <td>16.67</td>\n      <td>152.20</td>\n      <td>1575.0</td>\n      <td>0.13740</td>\n      <td>0.20500</td>\n      <td>0.4000</td>\n      <td>0.1625</td>\n      <td>0.2364</td>\n      <td>0.07678</td>\n      <td>0</td>\n    </tr>\n    <tr>\n      <th>...</th>\n      <td>...</td>\n      <td>...</td>\n      <td>...</td>\n      <td>...</td>\n      <td>...</td>\n      <td>...</td>\n      <td>...</td>\n      <td>...</td>\n      <td>...</td>\n      <td>...</td>\n      <td>...</td>\n      <td>...</td>\n      <td>...</td>\n      <td>...</td>\n      <td>...</td>\n      <td>...</td>\n      <td>...</td>\n      <td>...</td>\n      <td>...</td>\n      <td>...</td>\n      <td>...</td>\n    </tr>\n    <tr>\n      <th>564</th>\n      <td>21.56</td>\n      <td>22.39</td>\n      <td>142.00</td>\n      <td>1479.0</td>\n      <td>0.11100</td>\n      <td>0.11590</td>\n      <td>0.24390</td>\n      <td>0.13890</td>\n      <td>0.1726</td>\n      <td>0.05623</td>\n      <td>...</td>\n      <td>26.40</td>\n      <td>166.10</td>\n      <td>2027.0</td>\n      <td>0.14100</td>\n      <td>0.21130</td>\n      <td>0.4107</td>\n      <td>0.2216</td>\n      <td>0.2060</td>\n      <td>0.07115</td>\n      <td>0</td>\n    </tr>\n    <tr>\n      <th>565</th>\n      <td>20.13</td>\n      <td>28.25</td>\n      <td>131.20</td>\n      <td>1261.0</td>\n      <td>0.09780</td>\n      <td>0.10340</td>\n      <td>0.14400</td>\n      <td>0.09791</td>\n      <td>0.1752</td>\n      <td>0.05533</td>\n      <td>...</td>\n      <td>38.25</td>\n      <td>155.00</td>\n      <td>1731.0</td>\n      <td>0.11660</td>\n      <td>0.19220</td>\n      <td>0.3215</td>\n      <td>0.1628</td>\n      <td>0.2572</td>\n      <td>0.06637</td>\n      <td>0</td>\n    </tr>\n    <tr>\n      <th>566</th>\n      <td>16.60</td>\n      <td>28.08</td>\n      <td>108.30</td>\n      <td>858.1</td>\n      <td>0.08455</td>\n      <td>0.10230</td>\n      <td>0.09251</td>\n      <td>0.05302</td>\n      <td>0.1590</td>\n      <td>0.05648</td>\n      <td>...</td>\n      <td>34.12</td>\n      <td>126.70</td>\n      <td>1124.0</td>\n      <td>0.11390</td>\n      <td>0.30940</td>\n      <td>0.3403</td>\n      <td>0.1418</td>\n      <td>0.2218</td>\n      <td>0.07820</td>\n      <td>0</td>\n    </tr>\n    <tr>\n      <th>567</th>\n      <td>20.60</td>\n      <td>29.33</td>\n      <td>140.10</td>\n      <td>1265.0</td>\n      <td>0.11780</td>\n      <td>0.27700</td>\n      <td>0.35140</td>\n      <td>0.15200</td>\n      <td>0.2397</td>\n      <td>0.07016</td>\n      <td>...</td>\n      <td>39.42</td>\n      <td>184.60</td>\n      <td>1821.0</td>\n      <td>0.16500</td>\n      <td>0.86810</td>\n      <td>0.9387</td>\n      <td>0.2650</td>\n      <td>0.4087</td>\n      <td>0.12400</td>\n      <td>0</td>\n    </tr>\n    <tr>\n      <th>568</th>\n      <td>7.76</td>\n      <td>24.54</td>\n      <td>47.92</td>\n      <td>181.0</td>\n      <td>0.05263</td>\n      <td>0.04362</td>\n      <td>0.00000</td>\n      <td>0.00000</td>\n      <td>0.1587</td>\n      <td>0.05884</td>\n      <td>...</td>\n      <td>30.37</td>\n      <td>59.16</td>\n      <td>268.6</td>\n      <td>0.08996</td>\n      <td>0.06444</td>\n      <td>0.0000</td>\n      <td>0.0000</td>\n      <td>0.2871</td>\n      <td>0.07039</td>\n      <td>1</td>\n    </tr>\n  </tbody>\n</table>\n<p>569 rows × 31 columns</p>\n</div>"
     },
     "metadata": {},
     "execution_count": 3
    }
   ],
   "source": [
    "#2021.06.21. MON\n",
    "#Hankyeong\n",
    "\n",
    "##CH05. 서포트 벡터 머신(Support Vector Machine)\n",
    "#00. 패키지 호출\n",
    "import numpy as np \n",
    "import pandas as pd \n",
    "from sklearn.svm import SVC\n",
    "from sklearn.datasets import load_breast_cancer\n",
    "from sklearn.preprocessing import StandardScaler\n",
    "from sklearn.model_selection import train_test_split\n",
    "from sklearn.metrics import accuracy_score\n",
    "from sklearn.model_selection import GridSearchCV\n",
    "\n",
    "#01. hyper parameter를 default로 설정해 머신러닝하기.  \n",
    "#(1) 데이터셋 불러오기\n",
    "cancer = load_breast_cancer()\n",
    "df_cancer = pd.DataFrame(cancer.data, columns=cancer.feature_names)\n",
    "df_cancer['target'] = cancer.target\n",
    "df_cancer"
   ]
  },
  {
   "cell_type": "code",
   "execution_count": 4,
   "metadata": {},
   "outputs": [
    {
     "output_type": "stream",
     "name": "stdout",
     "text": [
      "<class 'pandas.core.frame.DataFrame'>\nRangeIndex: 569 entries, 0 to 568\nData columns (total 31 columns):\n #   Column                   Non-Null Count  Dtype  \n---  ------                   --------------  -----  \n 0   mean radius              569 non-null    float64\n 1   mean texture             569 non-null    float64\n 2   mean perimeter           569 non-null    float64\n 3   mean area                569 non-null    float64\n 4   mean smoothness          569 non-null    float64\n 5   mean compactness         569 non-null    float64\n 6   mean concavity           569 non-null    float64\n 7   mean concave points      569 non-null    float64\n 8   mean symmetry            569 non-null    float64\n 9   mean fractal dimension   569 non-null    float64\n 10  radius error             569 non-null    float64\n 11  texture error            569 non-null    float64\n 12  perimeter error          569 non-null    float64\n 13  area error               569 non-null    float64\n 14  smoothness error         569 non-null    float64\n 15  compactness error        569 non-null    float64\n 16  concavity error          569 non-null    float64\n 17  concave points error     569 non-null    float64\n 18  symmetry error           569 non-null    float64\n 19  fractal dimension error  569 non-null    float64\n 20  worst radius             569 non-null    float64\n 21  worst texture            569 non-null    float64\n 22  worst perimeter          569 non-null    float64\n 23  worst area               569 non-null    float64\n 24  worst smoothness         569 non-null    float64\n 25  worst compactness        569 non-null    float64\n 26  worst concavity          569 non-null    float64\n 27  worst concave points     569 non-null    float64\n 28  worst symmetry           569 non-null    float64\n 29  worst fractal dimension  569 non-null    float64\n 30  target                   569 non-null    int32  \ndtypes: float64(30), int32(1)\nmemory usage: 135.7 KB\n"
     ]
    }
   ],
   "source": [
    "#(2) 데이터셋 탐색하기.\n",
    "df_cancer.info()"
   ]
  },
  {
   "cell_type": "code",
   "execution_count": 8,
   "metadata": {},
   "outputs": [
    {
     "output_type": "execute_result",
     "data": {
      "text/plain": [
       "1    357\n",
       "0    212\n",
       "Name: target, dtype: int64"
      ]
     },
     "metadata": {},
     "execution_count": 8
    }
   ],
   "source": [
    "#(3) Target 데이터 분포 확인하기. \n",
    "df_cancer['target'].value_counts()"
   ]
  },
  {
   "cell_type": "code",
   "execution_count": 10,
   "metadata": {},
   "outputs": [],
   "source": [
    "#(4) Feature 데이터를 표준화 scaling하기\n",
    "scaler = StandardScaler()\n",
    "cancer_std = scaler.fit_transform(cancer.data)"
   ]
  },
  {
   "cell_type": "code",
   "execution_count": 11,
   "metadata": {},
   "outputs": [
    {
     "output_type": "execute_result",
     "data": {
      "text/plain": [
       "     mean radius  mean texture  mean perimeter  mean area  mean smoothness  \\\n",
       "0       1.097064     -2.073335        1.269934   0.984375         1.568466   \n",
       "1       1.829821     -0.353632        1.685955   1.908708        -0.826962   \n",
       "2       1.579888      0.456187        1.566503   1.558884         0.942210   \n",
       "3      -0.768909      0.253732       -0.592687  -0.764464         3.283553   \n",
       "4       1.750297     -1.151816        1.776573   1.826229         0.280372   \n",
       "..           ...           ...             ...        ...              ...   \n",
       "564     2.110995      0.721473        2.060786   2.343856         1.041842   \n",
       "565     1.704854      2.085134        1.615931   1.723842         0.102458   \n",
       "566     0.702284      2.045574        0.672676   0.577953        -0.840484   \n",
       "567     1.838341      2.336457        1.982524   1.735218         1.525767   \n",
       "568    -1.808401      1.221792       -1.814389  -1.347789        -3.112085   \n",
       "\n",
       "     mean compactness  mean concavity  mean concave points  mean symmetry  \\\n",
       "0            3.283515        2.652874             2.532475       2.217515   \n",
       "1           -0.487072       -0.023846             0.548144       0.001392   \n",
       "2            1.052926        1.363478             2.037231       0.939685   \n",
       "3            3.402909        1.915897             1.451707       2.867383   \n",
       "4            0.539340        1.371011             1.428493      -0.009560   \n",
       "..                ...             ...                  ...            ...   \n",
       "564          0.219060        1.947285             2.320965      -0.312589   \n",
       "565         -0.017833        0.693043             1.263669      -0.217664   \n",
       "566         -0.038680        0.046588             0.105777      -0.809117   \n",
       "567          3.272144        3.296944             2.658866       2.137194   \n",
       "568         -1.150752       -1.114873            -1.261820      -0.820070   \n",
       "\n",
       "     mean fractal dimension  ...  worst radius  worst texture  \\\n",
       "0                  2.255747  ...      1.886690      -1.359293   \n",
       "1                 -0.868652  ...      1.805927      -0.369203   \n",
       "2                 -0.398008  ...      1.511870      -0.023974   \n",
       "3                  4.910919  ...     -0.281464       0.133984   \n",
       "4                 -0.562450  ...      1.298575      -1.466770   \n",
       "..                      ...  ...           ...            ...   \n",
       "564               -0.931027  ...      1.901185       0.117700   \n",
       "565               -1.058611  ...      1.536720       2.047399   \n",
       "566               -0.895587  ...      0.561361       1.374854   \n",
       "567                1.043695  ...      1.961239       2.237926   \n",
       "568               -0.561032  ...     -1.410893       0.764190   \n",
       "\n",
       "     worst perimeter  worst area  worst smoothness  worst compactness  \\\n",
       "0           2.303601    2.001237          1.307686           2.616665   \n",
       "1           1.535126    1.890489         -0.375612          -0.430444   \n",
       "2           1.347475    1.456285          0.527407           1.082932   \n",
       "3          -0.249939   -0.550021          3.394275           3.893397   \n",
       "4           1.338539    1.220724          0.220556          -0.313395   \n",
       "..               ...         ...               ...                ...   \n",
       "564         1.752563    2.015301          0.378365          -0.273318   \n",
       "565         1.421940    1.494959         -0.691230          -0.394820   \n",
       "566         0.579001    0.427906         -0.809587           0.350735   \n",
       "567         2.303601    1.653171          1.430427           3.904848   \n",
       "568        -1.432735   -1.075813         -1.859019          -1.207552   \n",
       "\n",
       "     worst concavity  worst concave points  worst symmetry  \\\n",
       "0           2.109526              2.296076        2.750622   \n",
       "1          -0.146749              1.087084       -0.243890   \n",
       "2           0.854974              1.955000        1.152255   \n",
       "3           1.989588              2.175786        6.046041   \n",
       "4           0.613179              0.729259       -0.868353   \n",
       "..               ...                   ...             ...   \n",
       "564         0.664512              1.629151       -1.360158   \n",
       "565         0.236573              0.733827       -0.531855   \n",
       "566         0.326767              0.414069       -1.104549   \n",
       "567         3.197605              2.289985        1.919083   \n",
       "568        -1.305831             -1.745063       -0.048138   \n",
       "\n",
       "     worst fractal dimension  \n",
       "0                   1.937015  \n",
       "1                   0.281190  \n",
       "2                   0.201391  \n",
       "3                   4.935010  \n",
       "4                  -0.397100  \n",
       "..                       ...  \n",
       "564                -0.709091  \n",
       "565                -0.973978  \n",
       "566                -0.318409  \n",
       "567                 2.219635  \n",
       "568                -0.751207  \n",
       "\n",
       "[569 rows x 30 columns]"
      ],
      "text/html": "<div>\n<style scoped>\n    .dataframe tbody tr th:only-of-type {\n        vertical-align: middle;\n    }\n\n    .dataframe tbody tr th {\n        vertical-align: top;\n    }\n\n    .dataframe thead th {\n        text-align: right;\n    }\n</style>\n<table border=\"1\" class=\"dataframe\">\n  <thead>\n    <tr style=\"text-align: right;\">\n      <th></th>\n      <th>mean radius</th>\n      <th>mean texture</th>\n      <th>mean perimeter</th>\n      <th>mean area</th>\n      <th>mean smoothness</th>\n      <th>mean compactness</th>\n      <th>mean concavity</th>\n      <th>mean concave points</th>\n      <th>mean symmetry</th>\n      <th>mean fractal dimension</th>\n      <th>...</th>\n      <th>worst radius</th>\n      <th>worst texture</th>\n      <th>worst perimeter</th>\n      <th>worst area</th>\n      <th>worst smoothness</th>\n      <th>worst compactness</th>\n      <th>worst concavity</th>\n      <th>worst concave points</th>\n      <th>worst symmetry</th>\n      <th>worst fractal dimension</th>\n    </tr>\n  </thead>\n  <tbody>\n    <tr>\n      <th>0</th>\n      <td>1.097064</td>\n      <td>-2.073335</td>\n      <td>1.269934</td>\n      <td>0.984375</td>\n      <td>1.568466</td>\n      <td>3.283515</td>\n      <td>2.652874</td>\n      <td>2.532475</td>\n      <td>2.217515</td>\n      <td>2.255747</td>\n      <td>...</td>\n      <td>1.886690</td>\n      <td>-1.359293</td>\n      <td>2.303601</td>\n      <td>2.001237</td>\n      <td>1.307686</td>\n      <td>2.616665</td>\n      <td>2.109526</td>\n      <td>2.296076</td>\n      <td>2.750622</td>\n      <td>1.937015</td>\n    </tr>\n    <tr>\n      <th>1</th>\n      <td>1.829821</td>\n      <td>-0.353632</td>\n      <td>1.685955</td>\n      <td>1.908708</td>\n      <td>-0.826962</td>\n      <td>-0.487072</td>\n      <td>-0.023846</td>\n      <td>0.548144</td>\n      <td>0.001392</td>\n      <td>-0.868652</td>\n      <td>...</td>\n      <td>1.805927</td>\n      <td>-0.369203</td>\n      <td>1.535126</td>\n      <td>1.890489</td>\n      <td>-0.375612</td>\n      <td>-0.430444</td>\n      <td>-0.146749</td>\n      <td>1.087084</td>\n      <td>-0.243890</td>\n      <td>0.281190</td>\n    </tr>\n    <tr>\n      <th>2</th>\n      <td>1.579888</td>\n      <td>0.456187</td>\n      <td>1.566503</td>\n      <td>1.558884</td>\n      <td>0.942210</td>\n      <td>1.052926</td>\n      <td>1.363478</td>\n      <td>2.037231</td>\n      <td>0.939685</td>\n      <td>-0.398008</td>\n      <td>...</td>\n      <td>1.511870</td>\n      <td>-0.023974</td>\n      <td>1.347475</td>\n      <td>1.456285</td>\n      <td>0.527407</td>\n      <td>1.082932</td>\n      <td>0.854974</td>\n      <td>1.955000</td>\n      <td>1.152255</td>\n      <td>0.201391</td>\n    </tr>\n    <tr>\n      <th>3</th>\n      <td>-0.768909</td>\n      <td>0.253732</td>\n      <td>-0.592687</td>\n      <td>-0.764464</td>\n      <td>3.283553</td>\n      <td>3.402909</td>\n      <td>1.915897</td>\n      <td>1.451707</td>\n      <td>2.867383</td>\n      <td>4.910919</td>\n      <td>...</td>\n      <td>-0.281464</td>\n      <td>0.133984</td>\n      <td>-0.249939</td>\n      <td>-0.550021</td>\n      <td>3.394275</td>\n      <td>3.893397</td>\n      <td>1.989588</td>\n      <td>2.175786</td>\n      <td>6.046041</td>\n      <td>4.935010</td>\n    </tr>\n    <tr>\n      <th>4</th>\n      <td>1.750297</td>\n      <td>-1.151816</td>\n      <td>1.776573</td>\n      <td>1.826229</td>\n      <td>0.280372</td>\n      <td>0.539340</td>\n      <td>1.371011</td>\n      <td>1.428493</td>\n      <td>-0.009560</td>\n      <td>-0.562450</td>\n      <td>...</td>\n      <td>1.298575</td>\n      <td>-1.466770</td>\n      <td>1.338539</td>\n      <td>1.220724</td>\n      <td>0.220556</td>\n      <td>-0.313395</td>\n      <td>0.613179</td>\n      <td>0.729259</td>\n      <td>-0.868353</td>\n      <td>-0.397100</td>\n    </tr>\n    <tr>\n      <th>...</th>\n      <td>...</td>\n      <td>...</td>\n      <td>...</td>\n      <td>...</td>\n      <td>...</td>\n      <td>...</td>\n      <td>...</td>\n      <td>...</td>\n      <td>...</td>\n      <td>...</td>\n      <td>...</td>\n      <td>...</td>\n      <td>...</td>\n      <td>...</td>\n      <td>...</td>\n      <td>...</td>\n      <td>...</td>\n      <td>...</td>\n      <td>...</td>\n      <td>...</td>\n      <td>...</td>\n    </tr>\n    <tr>\n      <th>564</th>\n      <td>2.110995</td>\n      <td>0.721473</td>\n      <td>2.060786</td>\n      <td>2.343856</td>\n      <td>1.041842</td>\n      <td>0.219060</td>\n      <td>1.947285</td>\n      <td>2.320965</td>\n      <td>-0.312589</td>\n      <td>-0.931027</td>\n      <td>...</td>\n      <td>1.901185</td>\n      <td>0.117700</td>\n      <td>1.752563</td>\n      <td>2.015301</td>\n      <td>0.378365</td>\n      <td>-0.273318</td>\n      <td>0.664512</td>\n      <td>1.629151</td>\n      <td>-1.360158</td>\n      <td>-0.709091</td>\n    </tr>\n    <tr>\n      <th>565</th>\n      <td>1.704854</td>\n      <td>2.085134</td>\n      <td>1.615931</td>\n      <td>1.723842</td>\n      <td>0.102458</td>\n      <td>-0.017833</td>\n      <td>0.693043</td>\n      <td>1.263669</td>\n      <td>-0.217664</td>\n      <td>-1.058611</td>\n      <td>...</td>\n      <td>1.536720</td>\n      <td>2.047399</td>\n      <td>1.421940</td>\n      <td>1.494959</td>\n      <td>-0.691230</td>\n      <td>-0.394820</td>\n      <td>0.236573</td>\n      <td>0.733827</td>\n      <td>-0.531855</td>\n      <td>-0.973978</td>\n    </tr>\n    <tr>\n      <th>566</th>\n      <td>0.702284</td>\n      <td>2.045574</td>\n      <td>0.672676</td>\n      <td>0.577953</td>\n      <td>-0.840484</td>\n      <td>-0.038680</td>\n      <td>0.046588</td>\n      <td>0.105777</td>\n      <td>-0.809117</td>\n      <td>-0.895587</td>\n      <td>...</td>\n      <td>0.561361</td>\n      <td>1.374854</td>\n      <td>0.579001</td>\n      <td>0.427906</td>\n      <td>-0.809587</td>\n      <td>0.350735</td>\n      <td>0.326767</td>\n      <td>0.414069</td>\n      <td>-1.104549</td>\n      <td>-0.318409</td>\n    </tr>\n    <tr>\n      <th>567</th>\n      <td>1.838341</td>\n      <td>2.336457</td>\n      <td>1.982524</td>\n      <td>1.735218</td>\n      <td>1.525767</td>\n      <td>3.272144</td>\n      <td>3.296944</td>\n      <td>2.658866</td>\n      <td>2.137194</td>\n      <td>1.043695</td>\n      <td>...</td>\n      <td>1.961239</td>\n      <td>2.237926</td>\n      <td>2.303601</td>\n      <td>1.653171</td>\n      <td>1.430427</td>\n      <td>3.904848</td>\n      <td>3.197605</td>\n      <td>2.289985</td>\n      <td>1.919083</td>\n      <td>2.219635</td>\n    </tr>\n    <tr>\n      <th>568</th>\n      <td>-1.808401</td>\n      <td>1.221792</td>\n      <td>-1.814389</td>\n      <td>-1.347789</td>\n      <td>-3.112085</td>\n      <td>-1.150752</td>\n      <td>-1.114873</td>\n      <td>-1.261820</td>\n      <td>-0.820070</td>\n      <td>-0.561032</td>\n      <td>...</td>\n      <td>-1.410893</td>\n      <td>0.764190</td>\n      <td>-1.432735</td>\n      <td>-1.075813</td>\n      <td>-1.859019</td>\n      <td>-1.207552</td>\n      <td>-1.305831</td>\n      <td>-1.745063</td>\n      <td>-0.048138</td>\n      <td>-0.751207</td>\n    </tr>\n  </tbody>\n</table>\n<p>569 rows × 30 columns</p>\n</div>"
     },
     "metadata": {},
     "execution_count": 11
    }
   ],
   "source": [
    "df_cancer = pd.DataFrame(cancer_std, columns=cancer.feature_names)\n",
    "df_cancer"
   ]
  },
  {
   "cell_type": "code",
   "execution_count": 12,
   "metadata": {},
   "outputs": [],
   "source": [
    "#(5) train, test 데이터셋으 분할하기. \n",
    "X_train,X_test,y_train,y_test = train_test_split(\n",
    "    cancer_std, cancer.target, stratify=cancer.target, test_size=0.2, random_state=2021 \n",
    ")"
   ]
  },
  {
   "cell_type": "code",
   "execution_count": 13,
   "metadata": {},
   "outputs": [
    {
     "output_type": "execute_result",
     "data": {
      "text/plain": [
       "SVC()"
      ]
     },
     "metadata": {},
     "execution_count": 13
    }
   ],
   "source": [
    "#(6) SVC 모델 생성하기. \n",
    "svc = SVC()\n",
    "\n",
    "#(7) 모델 학습하기.\n",
    "svc.fit(X_train,y_train)"
   ]
  },
  {
   "cell_type": "code",
   "execution_count": 14,
   "metadata": {},
   "outputs": [
    {
     "output_type": "execute_result",
     "data": {
      "text/plain": [
       "0.9824561403508771"
      ]
     },
     "metadata": {},
     "execution_count": 14
    }
   ],
   "source": [
    "#(8) 모델 예측 하기\n",
    "svc_pred = svc.predict(X_test)\n",
    "accuracy_score(y_test, svc_pred)"
   ]
  },
  {
   "cell_type": "code",
   "execution_count": 15,
   "metadata": {},
   "outputs": [
    {
     "output_type": "execute_result",
     "data": {
      "text/plain": [
       "{'C': 1.0,\n",
       " 'break_ties': False,\n",
       " 'cache_size': 200,\n",
       " 'class_weight': None,\n",
       " 'coef0': 0.0,\n",
       " 'decision_function_shape': 'ovr',\n",
       " 'degree': 3,\n",
       " 'gamma': 'scale',\n",
       " 'kernel': 'rbf',\n",
       " 'max_iter': -1,\n",
       " 'probability': False,\n",
       " 'random_state': None,\n",
       " 'shrinking': True,\n",
       " 'tol': 0.001,\n",
       " 'verbose': False}"
      ]
     },
     "metadata": {},
     "execution_count": 15
    }
   ],
   "source": [
    "#02. 하이퍼 파라미터를 조정해 머신러닝하기. \n",
    "#(1) SVC 모델의 하이퍼 파라미터 확인하기. \n",
    "svc.get_params()"
   ]
  },
  {
   "cell_type": "code",
   "execution_count": 25,
   "metadata": {},
   "outputs": [
    {
     "output_type": "execute_result",
     "data": {
      "text/plain": [
       "GridSearchCV(cv=10, estimator=SVC(random_state=2021),\n",
       "             param_grid={'C': [0.1, 0.5, 1, 5, 10, 100]}, scoring='accuracy')"
      ]
     },
     "metadata": {},
     "execution_count": 25
    }
   ],
   "source": [
    "#(2) GridSearch를 위한 하이퍼파라미터 값 지정하기. \n",
    "params = {'C' : [0.1,0.5,1,5,10,100]}\n",
    "\n",
    "#(3)  GridsearchCV() 메서드를 이용해 훈련 모델 할당하기. \n",
    "svc = SVC(random_state=2021)\n",
    "svc_gscv = GridSearchCV(svc, param_grid=params, cv=10, scoring='accuracy') \n",
    "\n",
    "#(4) 모델 학습하기. \n",
    "svc_gscv.fit(X_train, y_train)"
   ]
  },
  {
   "cell_type": "code",
   "execution_count": 26,
   "metadata": {},
   "outputs": [
    {
     "output_type": "execute_result",
     "data": {
      "text/plain": [
       "{'C': 5}"
      ]
     },
     "metadata": {},
     "execution_count": 26
    }
   ],
   "source": [
    "#(5) 최적 하이퍼 파라미터 확인하기. \n",
    "svc_gscv.best_params_"
   ]
  },
  {
   "cell_type": "code",
   "execution_count": 27,
   "metadata": {},
   "outputs": [
    {
     "output_type": "execute_result",
     "data": {
      "text/plain": [
       "0.9801932367149758"
      ]
     },
     "metadata": {},
     "execution_count": 27
    }
   ],
   "source": [
    "#(6) 최적 파라미터에 대한 평가 점수 확인하기. \n",
    "svc_gscv.best_score_"
   ]
  },
  {
   "cell_type": "code",
   "execution_count": 28,
   "metadata": {},
   "outputs": [
    {
     "output_type": "execute_result",
     "data": {
      "text/plain": [
       "0.9824561403508771"
      ]
     },
     "metadata": {},
     "execution_count": 28
    }
   ],
   "source": [
    "#(7) test 데이터셋으로 모형 예측 및 평가하기. \n",
    "best_clf = svc_gscv.best_estimator_\n",
    "pred = best_clf.predict(X_test)\n",
    "accuracy_score(y_test, pred)"
   ]
  },
  {
   "cell_type": "code",
   "execution_count": 29,
   "metadata": {},
   "outputs": [
    {
     "output_type": "execute_result",
     "data": {
      "text/plain": [
       "GridSearchCV(cv=10, estimator=SVC(random_state=2021),\n",
       "             param_grid={'C': [2, 3, 4, 5, 6, 7, 8, 9]}, scoring='accuracy')"
      ]
     },
     "metadata": {},
     "execution_count": 29
    }
   ],
   "source": [
    "#PLUS. 추가적인 하이퍼파라미터 튜닝하기. \n",
    "#(1) GridSearch를 위한 하이퍼파라미터 값 지정하기. \n",
    "params = {'C' : [2,3,4,5,6,7,8,9]}\n",
    "\n",
    "#(2) GridsearchCV() 메서드를 이용해 훈련 모델 할당하기. \n",
    "svc = SVC(random_state=2021)\n",
    "svc_gscv = GridSearchCV(svc, param_grid=params, cv=10, scoring='accuracy') \n",
    "\n",
    "#(3) 모델 학습하기. \n",
    "svc_gscv.fit(X_train, y_train)"
   ]
  },
  {
   "cell_type": "code",
   "execution_count": 42,
   "metadata": {},
   "outputs": [
    {
     "output_type": "execute_result",
     "data": {
      "text/plain": [
       "0.9824154589371981"
      ]
     },
     "metadata": {},
     "execution_count": 42
    }
   ],
   "source": [
    "#(4) 최적 하이퍼 파라미터 확인하기. \n",
    "svc_gscv.best_score_"
   ]
  },
  {
   "cell_type": "code",
   "execution_count": 30,
   "metadata": {},
   "outputs": [
    {
     "output_type": "execute_result",
     "data": {
      "text/plain": [
       "{'C': 6}"
      ]
     },
     "metadata": {},
     "execution_count": 30
    }
   ],
   "source": [
    "#(5) 최적 파라미터에 대한 평가 점수 확인하기. \n",
    "svc_gscv.best_params_"
   ]
  },
  {
   "cell_type": "code",
   "execution_count": 31,
   "metadata": {},
   "outputs": [
    {
     "output_type": "execute_result",
     "data": {
      "text/plain": [
       "0.9824561403508771"
      ]
     },
     "metadata": {},
     "execution_count": 31
    }
   ],
   "source": [
    "#(5) test 데이터셋으로 모형 예측 및 평가 하기. \n",
    "best_clf = svc_gscv.best_estimator_\n",
    "pred = best_clf.predict(X_test)\n",
    "accuracy_score(y_test, pred)"
   ]
  }
 ]
}