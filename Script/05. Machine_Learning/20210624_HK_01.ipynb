{
 "metadata": {
  "language_info": {
   "codemirror_mode": {
    "name": "ipython",
    "version": 3
   },
   "file_extension": ".py",
   "mimetype": "text/x-python",
   "name": "python",
   "nbconvert_exporter": "python",
   "pygments_lexer": "ipython3",
   "version": "3.8.8"
  },
  "orig_nbformat": 4,
  "kernelspec": {
   "name": "python3",
   "display_name": "Python 3.8.8 64-bit ('base': conda)"
  },
  "interpreter": {
   "hash": "389278cbb61c1c57cad107a3c1fdd79953aeebb4509d1d7f21aea6fe620a6af8"
  }
 },
 "nbformat": 4,
 "nbformat_minor": 2,
 "cells": [
  {
   "cell_type": "code",
   "execution_count": 1,
   "metadata": {},
   "outputs": [
    {
     "output_type": "execute_result",
     "data": {
      "text/plain": [
       "array([[1, 1, 2, 1, 3]], dtype=int64)"
      ]
     },
     "metadata": {},
     "execution_count": 1
    }
   ],
   "source": [
    "#2021.06.24. THUR \n",
    "#Hankyeong\n",
    "\n",
    "##CH11. 텍스트 분석(Text Analysis)\n",
    "#00. 패키지 호출\n",
    "from sklearn.feature_extraction.text import CountVectorizer\n",
    "from sklearn.feature_extraction.text import TfidfVectorizer\n",
    "from nltk.corpus import stopwords\n",
    "\n",
    "#01. Bag of Words의 Counter Vectorizer\n",
    "#TIP. Bag of Words란 단어들의 순서는 전혀 고려하지 않고, 단어들의 출현 빈도(frequency)에만 집중하는 텍스트 데이터의 수치화 표현 방법임. \n",
    "#(1) corpus 생성하기.\n",
    "corpus = ['you know I want you love. because I love you.']\n",
    "\n",
    "#(2) Count Vectorizer 객체 생성하기. \n",
    "count_vect = CountVectorizer()\n",
    "\n",
    "#(3) Count Vectorizer 객체에 corpus를 넣어 학습하기. \n",
    "output = count_vect.fit_transform(corpus)\n",
    "\n",
    "#(4) output 확인하기. \n",
    "output.toarray()"
   ]
  },
  {
   "cell_type": "code",
   "execution_count": 2,
   "metadata": {},
   "outputs": [
    {
     "output_type": "execute_result",
     "data": {
      "text/plain": [
       "{'you': 4, 'know': 1, 'want': 3, 'love': 2, 'because': 0}"
      ]
     },
     "metadata": {},
     "execution_count": 2
    }
   ],
   "source": [
    "#(5) output의 인덱스값 확인하기. \n",
    "count_vect.vocabulary_"
   ]
  },
  {
   "cell_type": "code",
   "execution_count": 3,
   "metadata": {},
   "outputs": [],
   "source": [
    "#MEMO. 추출결과 because(0)는 1번, know(1)는 1번, love(2)는 2번, want(3)는 1번, you(4)는 3번나왔음.  "
   ]
  },
  {
   "cell_type": "code",
   "execution_count": 4,
   "metadata": {},
   "outputs": [
    {
     "output_type": "execute_result",
     "data": {
      "text/plain": [
       "array([[1, 1, 1, 1, 1, 1]], dtype=int64)"
      ]
     },
     "metadata": {},
     "execution_count": 4
    }
   ],
   "source": [
    "#02. stop_words 파라미터를 통해 불용어를 직접 제거하기. \n",
    "#(1) corpus 생성하기. \n",
    "text = [\"Family is not an important thing. It's everything.\"]\n",
    "\n",
    "#(2) the, a, an, is 등 불용어 직접 설정하기. \n",
    "count_vect = CountVectorizer(stop_words=['the','a','an','is'])\n",
    "\n",
    "#(3) text를 넣어 학습하기. \n",
    "output = count_vect.fit_transform(text).toarray()\n",
    "output"
   ]
  },
  {
   "cell_type": "code",
   "execution_count": 5,
   "metadata": {},
   "outputs": [
    {
     "output_type": "execute_result",
     "data": {
      "text/plain": [
       "{'family': 1, 'not': 4, 'important': 2, 'thing': 5, 'it': 3, 'everything': 0}"
      ]
     },
     "metadata": {},
     "execution_count": 5
    }
   ],
   "source": [
    "#(4) output의 인덱스값 확인하기. \n",
    "count_vect.vocabulary_"
   ]
  },
  {
   "cell_type": "code",
   "execution_count": 6,
   "metadata": {},
   "outputs": [
    {
     "output_type": "execute_result",
     "data": {
      "text/plain": [
       "array([[1, 1, 1]], dtype=int64)"
      ]
     },
     "metadata": {},
     "execution_count": 6
    }
   ],
   "source": [
    "#03. Scikit-Learn에서 제공하는 불용어 사전? 사용하기. \n",
    "#(1) corpus 생성하기. \n",
    "text = [\"Family is not an important thing. It's everything.\"]\n",
    "\n",
    "#(2) 불용어 설정하기.  \n",
    "count_vect = CountVectorizer(stop_words='english')\n",
    "\n",
    "#(3) text를 넣어 학습하기. \n",
    "output = count_vect.fit_transform(text)\n",
    "output.toarray()"
   ]
  },
  {
   "cell_type": "code",
   "execution_count": 7,
   "metadata": {},
   "outputs": [
    {
     "output_type": "execute_result",
     "data": {
      "text/plain": [
       "{'family': 0, 'important': 1, 'thing': 2}"
      ]
     },
     "metadata": {},
     "execution_count": 7
    }
   ],
   "source": [
    "#(4) output의 인덱스값 확인하기. \n",
    "count_vect.vocabulary_"
   ]
  },
  {
   "cell_type": "code",
   "execution_count": 8,
   "metadata": {},
   "outputs": [
    {
     "output_type": "execute_result",
     "data": {
      "text/plain": [
       "array([[1, 1, 1, 1, 1, 1, 1, 1, 1, 1, 1, 1, 1]], dtype=int64)"
      ]
     },
     "metadata": {},
     "execution_count": 8
    }
   ],
   "source": [
    "#04. Count Vectorizer의 ngram 파라미터 이용하기.\n",
    "#(1) text 할당하기.   \n",
    "text = ['Machine Learning is fun and not boring.']\n",
    "\n",
    "#(2) CountVectorizer 객체 할당하고, ngram의 범위 (1,2)로 지정하기.   \n",
    "count_vect = CountVectorizer(ngram_range=(1,2))\n",
    "\n",
    "#(3) 추출된 결과 확인하기. \n",
    "count_vect.fit_transform(text).toarray()"
   ]
  },
  {
   "cell_type": "code",
   "execution_count": 9,
   "metadata": {},
   "outputs": [
    {
     "output_type": "execute_result",
     "data": {
      "text/plain": [
       "{'machine': 9,\n",
       " 'learning': 7,\n",
       " 'is': 5,\n",
       " 'fun': 3,\n",
       " 'and': 0,\n",
       " 'not': 11,\n",
       " 'boring': 2,\n",
       " 'machine learning': 10,\n",
       " 'learning is': 8,\n",
       " 'is fun': 6,\n",
       " 'fun and': 4,\n",
       " 'and not': 1,\n",
       " 'not boring': 12}"
      ]
     },
     "metadata": {},
     "execution_count": 9
    }
   ],
   "source": [
    "#(4) 추출된 결과의 인덱스 넘버 확인하기. \n",
    "count_vect.vocabulary_"
   ]
  },
  {
   "cell_type": "code",
   "execution_count": 10,
   "metadata": {},
   "outputs": [
    {
     "output_type": "execute_result",
     "data": {
      "text/plain": [
       "array([[1, 1, 1, 1, 1, 1, 1, 1, 1]], dtype=int64)"
      ]
     },
     "metadata": {},
     "execution_count": 10
    }
   ],
   "source": [
    "#(4) CountVectorizer 객체 할당하고, ngram의 범위 (1,3)로 지정하기.   \n",
    "count_vect = CountVectorizer(ngram_range=(1,3), stop_words='english')\n",
    "\n",
    "#(5) 추출된 결과 확인하기. \n",
    "count_vect.fit_transform(text).toarray()"
   ]
  },
  {
   "cell_type": "code",
   "execution_count": 11,
   "metadata": {},
   "outputs": [
    {
     "output_type": "execute_result",
     "data": {
      "text/plain": [
       "{'machine': 6,\n",
       " 'learning': 3,\n",
       " 'fun': 1,\n",
       " 'boring': 0,\n",
       " 'machine learning': 7,\n",
       " 'learning fun': 4,\n",
       " 'fun boring': 2,\n",
       " 'machine learning fun': 8,\n",
       " 'learning fun boring': 5}"
      ]
     },
     "metadata": {},
     "execution_count": 11
    }
   ],
   "source": [
    "#(6) 추출된 결과의 인덱스 넘버 확인하기. \n",
    "count_vect.vocabulary_"
   ]
  },
  {
   "cell_type": "code",
   "execution_count": 12,
   "metadata": {},
   "outputs": [
    {
     "output_type": "execute_result",
     "data": {
      "text/plain": [
       "{'analyzer': 'word',\n",
       " 'binary': False,\n",
       " 'decode_error': 'strict',\n",
       " 'dtype': numpy.int64,\n",
       " 'encoding': 'utf-8',\n",
       " 'input': 'content',\n",
       " 'lowercase': True,\n",
       " 'max_df': 1.0,\n",
       " 'max_features': None,\n",
       " 'min_df': 1,\n",
       " 'ngram_range': (1, 3),\n",
       " 'preprocessor': None,\n",
       " 'stop_words': 'english',\n",
       " 'strip_accents': None,\n",
       " 'token_pattern': '(?u)\\\\b\\\\w\\\\w+\\\\b',\n",
       " 'tokenizer': None,\n",
       " 'vocabulary': None}"
      ]
     },
     "metadata": {},
     "execution_count": 12
    }
   ],
   "source": [
    "#PLUS. Count Vectorizer의 하이퍼 파라미터 확인하기. \n",
    "count_vect.get_params()"
   ]
  },
  {
   "cell_type": "code",
   "execution_count": 13,
   "metadata": {},
   "outputs": [
    {
     "output_type": "execute_result",
     "data": {
      "text/plain": [
       "array([[0.25, 0.25, 0.5 , 0.25, 0.75]])"
      ]
     },
     "metadata": {},
     "execution_count": 13
    }
   ],
   "source": [
    "#05. Bag of Words의 TF-IDF Vectorizer \n",
    "#(1) corpus 생성하기. \n",
    "text = ['Machine Learning is fun and not boring.']\n",
    "\n",
    "#(2) Tfid Vectorizer 객체 생성하기. \n",
    "tfid_vect = TfidfVectorizer()\n",
    "\n",
    "#(3) text를 넣어 학습하기. \n",
    "tfid_vect.fit_transform(corpus).toarray()"
   ]
  },
  {
   "cell_type": "code",
   "execution_count": 14,
   "metadata": {},
   "outputs": [
    {
     "output_type": "execute_result",
     "data": {
      "text/plain": [
       "{'you': 4, 'know': 1, 'want': 3, 'love': 2, 'because': 0}"
      ]
     },
     "metadata": {},
     "execution_count": 14
    }
   ],
   "source": [
    "#(4) 인덱스값 확인하기. \n",
    "tfid_vect.vocabulary_"
   ]
  },
  {
   "cell_type": "code",
   "execution_count": 15,
   "metadata": {},
   "outputs": [
    {
     "output_type": "execute_result",
     "data": {
      "text/plain": [
       "array([[0.37796447, 0.37796447, 0.37796447, 0.37796447, 0.37796447,\n",
       "        0.37796447, 0.37796447]])"
      ]
     },
     "metadata": {},
     "execution_count": 15
    }
   ],
   "source": [
    "#06. Tfid Vectorizer의 stop_word, ngram 파라미터 이용하기.\n",
    "#(1) 객체 할당하기. \n",
    "tfid_vect = TfidfVectorizer(ngram_range=(1,2), stop_words='english')\n",
    "\n",
    "#(2) 추출 결과 확인하기. \n",
    "tfid_vect.fit_transform(text).toarray()"
   ]
  },
  {
   "cell_type": "code",
   "execution_count": 16,
   "metadata": {},
   "outputs": [
    {
     "output_type": "execute_result",
     "data": {
      "text/plain": [
       "{'machine': 5,\n",
       " 'learning': 3,\n",
       " 'fun': 1,\n",
       " 'boring': 0,\n",
       " 'machine learning': 6,\n",
       " 'learning fun': 4,\n",
       " 'fun boring': 2}"
      ]
     },
     "metadata": {},
     "execution_count": 16
    }
   ],
   "source": [
    "#(3) 추출된 결과의 인덱스 넘버 확인하기. \n",
    "tfid_vect.vocabulary_"
   ]
  },
  {
   "cell_type": "code",
   "execution_count": 17,
   "metadata": {},
   "outputs": [
    {
     "output_type": "execute_result",
     "data": {
      "text/plain": [
       "{'analyzer': 'word',\n",
       " 'binary': False,\n",
       " 'decode_error': 'strict',\n",
       " 'dtype': numpy.float64,\n",
       " 'encoding': 'utf-8',\n",
       " 'input': 'content',\n",
       " 'lowercase': True,\n",
       " 'max_df': 1.0,\n",
       " 'max_features': None,\n",
       " 'min_df': 1,\n",
       " 'ngram_range': (1, 2),\n",
       " 'norm': 'l2',\n",
       " 'preprocessor': None,\n",
       " 'smooth_idf': True,\n",
       " 'stop_words': 'english',\n",
       " 'strip_accents': None,\n",
       " 'sublinear_tf': False,\n",
       " 'token_pattern': '(?u)\\\\b\\\\w\\\\w+\\\\b',\n",
       " 'tokenizer': None,\n",
       " 'use_idf': True,\n",
       " 'vocabulary': None}"
      ]
     },
     "metadata": {},
     "execution_count": 17
    }
   ],
   "source": [
    "#PLUS. tfid Vectorizer의 하이퍼 파라미터 확인하기. \n",
    "tfid_vect.get_params()"
   ]
  }
 ]
}