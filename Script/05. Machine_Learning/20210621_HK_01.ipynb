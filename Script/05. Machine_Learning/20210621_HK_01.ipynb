{
 "metadata": {
  "language_info": {
   "codemirror_mode": {
    "name": "ipython",
    "version": 3
   },
   "file_extension": ".py",
   "mimetype": "text/x-python",
   "name": "python",
   "nbconvert_exporter": "python",
   "pygments_lexer": "ipython3",
   "version": "3.8.8"
  },
  "orig_nbformat": 4,
  "kernelspec": {
   "name": "python3",
   "display_name": "Python 3.8.8 64-bit ('base': conda)"
  },
  "interpreter": {
   "hash": "389278cbb61c1c57cad107a3c1fdd79953aeebb4509d1d7f21aea6fe620a6af8"
  }
 },
 "nbformat": 4,
 "nbformat_minor": 2,
 "cells": [
  {
   "source": [
    "#2021.06.21. MON\n",
    "#Hankyeong\n",
    "\n",
    "##CH03. 모델 평가 방법  \n",
    "\n",
    "#00. 패키지 호출 \n",
    "from sklearn.base import BaseEstimator\n",
    "from sklearn.datasets import load_digits\n",
    "from sklearn.model_selection import train_test_split\n",
    "from sklearn.tree import DecisionTreeClassifier\n",
    "from sklearn.metrics import accuracy_score\n",
    "from sklearn.metrics import confusion_matrix\n",
    "from sklearn.metrics import precision_score, recall_score\n",
    "import numpy as np \n",
    "import pandas as pd \n",
    "import warnings\n",
    "\n",
    "#00-1. warning message ignore\n",
    "warnings.filterwarnings(action='ignore')\n",
    "\n",
    "#01. Digit 데이터셋을 이용해 숫자 7과 나머지들을 구분하기. (Is it Seven?)\n",
    "#(1) 데이터셋 호출하기. \n",
    "digits = load_digits()\n",
    "\n",
    "#(2) 데이터셋 탐색하기. \n",
    "#①Feature dataset\n",
    "digits.data"
   ],
   "cell_type": "code",
   "metadata": {},
   "execution_count": 1,
   "outputs": [
    {
     "output_type": "execute_result",
     "data": {
      "text/plain": [
       "array([[ 0.,  0.,  5., ...,  0.,  0.,  0.],\n",
       "       [ 0.,  0.,  0., ..., 10.,  0.,  0.],\n",
       "       [ 0.,  0.,  0., ..., 16.,  9.,  0.],\n",
       "       ...,\n",
       "       [ 0.,  0.,  1., ...,  6.,  0.,  0.],\n",
       "       [ 0.,  0.,  2., ..., 12.,  0.,  0.],\n",
       "       [ 0.,  0., 10., ..., 12.,  1.,  0.]])"
      ]
     },
     "metadata": {},
     "execution_count": 1
    }
   ]
  },
  {
   "cell_type": "code",
   "execution_count": 2,
   "metadata": {},
   "outputs": [
    {
     "output_type": "execute_result",
     "data": {
      "text/plain": [
       "array([0, 1, 2, ..., 8, 9, 8])"
      ]
     },
     "metadata": {},
     "execution_count": 2
    }
   ],
   "source": [
    "#②Target dataset\n",
    "digits.target"
   ]
  },
  {
   "cell_type": "code",
   "execution_count": 3,
   "metadata": {},
   "outputs": [
    {
     "output_type": "execute_result",
     "data": {
      "text/plain": [
       "((1437, 64), (1437,), (360, 64), (360,))"
      ]
     },
     "metadata": {},
     "execution_count": 3
    }
   ],
   "source": [
    "#(3) train, test 데이터셋 분할하기. \n",
    "y = (digits.target == 7).astype(int)\n",
    "X_train,X_test,y_train,y_test = train_test_split(\n",
    "    digits.data, y, test_size=0.2, stratify=digits.target, random_state=2021\n",
    ")\n",
    "X_train.shape, y_train.shape, X_test.shape, y_test.shape"
   ]
  },
  {
   "cell_type": "code",
   "execution_count": 4,
   "metadata": {},
   "outputs": [
    {
     "output_type": "execute_result",
     "data": {
      "text/plain": [
       "DecisionTreeClassifier(random_state=2021)"
      ]
     },
     "metadata": {},
     "execution_count": 4
    }
   ],
   "source": [
    "#(4) Decision Tree 모형 설정하기. \n",
    "dtc = DecisionTreeClassifier(random_state=2021)\n",
    "\n",
    "#(5) train 데이터셋으로 모델 학습하기. \n",
    "dtc.fit(X_train,y_train)"
   ]
  },
  {
   "cell_type": "code",
   "execution_count": 5,
   "metadata": {},
   "outputs": [
    {
     "output_type": "execute_result",
     "data": {
      "text/plain": [
       "array([[317,   7],\n",
       "       [  4,  32]], dtype=int64)"
      ]
     },
     "metadata": {},
     "execution_count": 5
    }
   ],
   "source": [
    "#(6) test 데이터셋으로 모델의 예측값 확인하기.\n",
    "dtc_pred = dtc.predict(X_test)\n",
    "\n",
    "#(7) 오차 행렬(Confusion Matrix)을 이용해 Negative, Positive 값들 확인하기.\n",
    "confusion_matrix(y_test,dtc_pred)"
   ]
  },
  {
   "cell_type": "code",
   "execution_count": 6,
   "metadata": {},
   "outputs": [
    {
     "output_type": "execute_result",
     "data": {
      "text/plain": [
       "0.9694444444444444"
      ]
     },
     "metadata": {},
     "execution_count": 6
    }
   ],
   "source": [
    "#(8) 정확도(Accuracy) 파악하기. \n",
    "accuracy_score(y_test,dtc_pred)"
   ]
  },
  {
   "cell_type": "code",
   "execution_count": 7,
   "metadata": {},
   "outputs": [
    {
     "output_type": "execute_result",
     "data": {
      "text/plain": [
       "0.8205128205128205"
      ]
     },
     "metadata": {},
     "execution_count": 7
    }
   ],
   "source": [
    "#(9) 정밀도(Precision) 파악하기. \n",
    "precision_score(y_test,dtc_pred)"
   ]
  },
  {
   "cell_type": "code",
   "execution_count": 8,
   "metadata": {},
   "outputs": [
    {
     "output_type": "execute_result",
     "data": {
      "text/plain": [
       "0.8888888888888888"
      ]
     },
     "metadata": {},
     "execution_count": 8
    }
   ],
   "source": [
    "#(10) 재현율(Recall) 파악하기. \n",
    "recall_score(y_test,dtc_pred)"
   ]
  },
  {
   "source": [
    "#02. 가짜분류기를 생성해 모형 평가하기. \n",
    "#(1) 가짜분류기 정의하기. \n",
    "class MyFakeClassifier(baseEstimator) :\n",
    "     def fit(self, X_train, y_train)  : \n",
    "         pass                         \n",
    "     def predict(self, X_test)        :\n",
    "         return np.zeros((X_test.shape[0], 1), dtype=int)\n",
    "my_clf = MyFakeClassifier()           "
   ],
   "cell_type": "code",
   "metadata": {},
   "execution_count": 9,
   "outputs": []
  },
  {
   "cell_type": "code",
   "execution_count": 10,
   "metadata": {},
   "outputs": [
    {
     "output_type": "execute_result",
     "data": {
      "text/plain": [
       "array([[324,   0],\n",
       "       [ 36,   0]], dtype=int64)"
      ]
     },
     "metadata": {},
     "execution_count": 10
    }
   ],
   "source": [
    "#(2) 가짜 분류기 학습하기. \n",
    "my_clf.fit(X_train,y_train)\n",
    "\n",
    "#(3) 가짜 분류기로 예측하기.\n",
    "my_pred = my_clf.predict(X_test)\n",
    "\n",
    "#(4) 오차 행렬(Confusion Matrix)을 이용해 Negative, Positive 값들 확인하기.\n",
    "confusion_matrix(y_test,my_pred)"
   ]
  },
  {
   "cell_type": "code",
   "execution_count": 11,
   "metadata": {},
   "outputs": [
    {
     "output_type": "execute_result",
     "data": {
      "text/plain": [
       "0.9"
      ]
     },
     "metadata": {},
     "execution_count": 11
    }
   ],
   "source": [
    "#(5) 정확도(Accuracy) 파악하기. \n",
    "accuracy_score(y_test, my_pred)"
   ]
  },
  {
   "cell_type": "code",
   "execution_count": 12,
   "metadata": {},
   "outputs": [
    {
     "output_type": "execute_result",
     "data": {
      "text/plain": [
       "0.0"
      ]
     },
     "metadata": {},
     "execution_count": 12
    }
   ],
   "source": [
    "#(6) 정밀도(Precision) 파악하기. \n",
    "precision_score(y_test,my_pred)"
   ]
  },
  {
   "cell_type": "code",
   "execution_count": 13,
   "metadata": {},
   "outputs": [
    {
     "output_type": "execute_result",
     "data": {
      "text/plain": [
       "0.0"
      ]
     },
     "metadata": {},
     "execution_count": 13
    }
   ],
   "source": [
    "#(7) 재현율(Recall) 파악하기. \n",
    "recall_score(y_test,my_pred)"
   ]
  },
  {
   "cell_type": "code",
   "execution_count": 14,
   "metadata": {},
   "outputs": [],
   "source": [
    "#MEMO. 가짜분류기를 통해서도 정확도가 90% 가까이 나옴. 즉 평가지표로써 정확도만을 맹신하는 것은 아주 위험함. Precision, Recall 등등 "
   ]
  }
 ]
}