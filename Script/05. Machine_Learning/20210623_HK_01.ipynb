{
 "metadata": {
  "language_info": {
   "codemirror_mode": {
    "name": "ipython",
    "version": 3
   },
   "file_extension": ".py",
   "mimetype": "text/x-python",
   "name": "python",
   "nbconvert_exporter": "python",
   "pygments_lexer": "ipython3",
   "version": "3.8.8"
  },
  "orig_nbformat": 4,
  "kernelspec": {
   "name": "python3",
   "display_name": "Python 3.8.8 64-bit ('base': conda)"
  },
  "interpreter": {
   "hash": "389278cbb61c1c57cad107a3c1fdd79953aeebb4509d1d7f21aea6fe620a6af8"
  }
 },
 "nbformat": 4,
 "nbformat_minor": 2,
 "cells": [
  {
   "cell_type": "code",
   "execution_count": 1,
   "metadata": {},
   "outputs": [
    {
     "output_type": "execute_result",
     "data": {
      "text/plain": [
       "array([[ 1.00671141, -0.11835884,  0.87760447,  0.82343066],\n",
       "       [-0.11835884,  1.00671141, -0.43131554, -0.36858315],\n",
       "       [ 0.87760447, -0.43131554,  1.00671141,  0.96932762],\n",
       "       [ 0.82343066, -0.36858315,  0.96932762,  1.00671141]])"
      ]
     },
     "metadata": {},
     "execution_count": 1
    }
   ],
   "source": [
    "#2021.06.23. WED\n",
    "#Hankyeong\n",
    "\n",
    "##CH09. PCA(Principal Component Analysis)\n",
    "#00. 패키지 호출\n",
    "import numpy as np \n",
    "import pandas as pd \n",
    "import matplotlib.pyplot as plt \n",
    "import seaborn as sns\n",
    "from sklearn.datasets import load_iris\n",
    "from sklearn.datasets import load_wine\n",
    "from sklearn.preprocessing import StandardScaler\n",
    "from sklearn.decomposition import PCA\n",
    "from sklearn.tree import DecisionTreeClassifier\n",
    "from sklearn.model_selection import train_test_split\n",
    "from sklearn.metrics import accuracy_score\n",
    "\n",
    "#00-1. 시각화 옵션 설정하기. \n",
    "%matplotlib inline \n",
    "\n",
    "#01. iris 데이터셋에서 Numpy를 이용해 공분산 행렬과 고유값, 고유벡터 구하기. \n",
    "#(1) 데이터셋 불러오기. \n",
    "iris = load_iris() \n",
    "\n",
    "#(2) 정규화 시행하기. \n",
    "scaler = StandardScaler()\n",
    "iris_scaling = scaler.fit_transform(iris.data)\n",
    "\n",
    "#(3) Numpy를 이용해 공분산 행렬 구하기.\n",
    "iris_cov = np.dot(iris_scaling.T, iris_scaling) / (len(iris_scaling)-1)\n",
    "iris_cov"
   ]
  },
  {
   "cell_type": "code",
   "execution_count": 2,
   "metadata": {},
   "outputs": [
    {
     "output_type": "execute_result",
     "data": {
      "text/plain": [
       "array([[ 1.00671141, -0.11835884,  0.87760447,  0.82343066],\n",
       "       [-0.11835884,  1.00671141, -0.43131554, -0.36858315],\n",
       "       [ 0.87760447, -0.43131554,  1.00671141,  0.96932762],\n",
       "       [ 0.82343066, -0.36858315,  0.96932762,  1.00671141]])"
      ]
     },
     "metadata": {},
     "execution_count": 2
    }
   ],
   "source": [
    "np.cov(iris_scaling.T)"
   ]
  },
  {
   "cell_type": "code",
   "execution_count": 3,
   "metadata": {},
   "outputs": [
    {
     "output_type": "execute_result",
     "data": {
      "text/plain": [
       "array([2.93808505, 0.9201649 , 0.14774182, 0.02085386])"
      ]
     },
     "metadata": {},
     "execution_count": 3
    }
   ],
   "source": [
    "#(4) 고유값, 고유벡터 구하기.  \n",
    "eig_vals = np.linalg.eig(iris_cov)[0]\n",
    "eig_vals"
   ]
  },
  {
   "cell_type": "code",
   "execution_count": 4,
   "metadata": {},
   "outputs": [
    {
     "output_type": "execute_result",
     "data": {
      "text/plain": [
       "array([[ 0.52106591, -0.37741762, -0.71956635,  0.26128628],\n",
       "       [-0.26934744, -0.92329566,  0.24438178, -0.12350962],\n",
       "       [ 0.5804131 , -0.02449161,  0.14212637, -0.80144925],\n",
       "       [ 0.56485654, -0.06694199,  0.63427274,  0.52359713]])"
      ]
     },
     "metadata": {},
     "execution_count": 4
    }
   ],
   "source": [
    "#(5) 고유벡터 구하기. \n",
    "eig_vecs = np.linalg.eig(iris_cov)[1]\n",
    "eig_vecs"
   ]
  },
  {
   "cell_type": "code",
   "execution_count": 5,
   "metadata": {},
   "outputs": [
    {
     "output_type": "execute_result",
     "data": {
      "text/plain": [
       "array([[-2.26470281],\n",
       "       [-2.08096115],\n",
       "       [-2.36422905],\n",
       "       [-2.29938422],\n",
       "       [-2.38984217]])"
      ]
     },
     "metadata": {},
     "execution_count": 5
    }
   ],
   "source": [
    "#(6) 주성분1(PC1) 구하기. \n",
    "PC1 = np.dot(iris_scaling, eig_vecs[:,0:1])\n",
    "PC1[:5]"
   ]
  },
  {
   "cell_type": "code",
   "execution_count": 6,
   "metadata": {},
   "outputs": [
    {
     "output_type": "execute_result",
     "data": {
      "text/plain": [
       "array([[-0.4800266 ],\n",
       "       [ 0.67413356],\n",
       "       [ 0.34190802],\n",
       "       [ 0.59739451],\n",
       "       [-0.64683538]])"
      ]
     },
     "metadata": {},
     "execution_count": 6
    }
   ],
   "source": [
    "#(7) 주성분2(PC2) 구하기. \n",
    "PC2 = np.dot(iris_scaling, eig_vecs[:,1:2])\n",
    "PC2[:5]"
   ]
  },
  {
   "cell_type": "code",
   "execution_count": 7,
   "metadata": {},
   "outputs": [
    {
     "output_type": "execute_result",
     "data": {
      "text/plain": [
       "          PC1       PC2  species\n",
       "0   -2.264703 -0.480027        0\n",
       "1   -2.080961  0.674134        0\n",
       "2   -2.364229  0.341908        0\n",
       "3   -2.299384  0.597395        0\n",
       "4   -2.389842 -0.646835        0\n",
       "..        ...       ...      ...\n",
       "145  1.870503 -0.386966        2\n",
       "146  1.564580  0.896687        2\n",
       "147  1.521170 -0.269069        2\n",
       "148  1.372788 -1.011254        2\n",
       "149  0.960656  0.024332        2\n",
       "\n",
       "[150 rows x 3 columns]"
      ],
      "text/html": "<div>\n<style scoped>\n    .dataframe tbody tr th:only-of-type {\n        vertical-align: middle;\n    }\n\n    .dataframe tbody tr th {\n        vertical-align: top;\n    }\n\n    .dataframe thead th {\n        text-align: right;\n    }\n</style>\n<table border=\"1\" class=\"dataframe\">\n  <thead>\n    <tr style=\"text-align: right;\">\n      <th></th>\n      <th>PC1</th>\n      <th>PC2</th>\n      <th>species</th>\n    </tr>\n  </thead>\n  <tbody>\n    <tr>\n      <th>0</th>\n      <td>-2.264703</td>\n      <td>-0.480027</td>\n      <td>0</td>\n    </tr>\n    <tr>\n      <th>1</th>\n      <td>-2.080961</td>\n      <td>0.674134</td>\n      <td>0</td>\n    </tr>\n    <tr>\n      <th>2</th>\n      <td>-2.364229</td>\n      <td>0.341908</td>\n      <td>0</td>\n    </tr>\n    <tr>\n      <th>3</th>\n      <td>-2.299384</td>\n      <td>0.597395</td>\n      <td>0</td>\n    </tr>\n    <tr>\n      <th>4</th>\n      <td>-2.389842</td>\n      <td>-0.646835</td>\n      <td>0</td>\n    </tr>\n    <tr>\n      <th>...</th>\n      <td>...</td>\n      <td>...</td>\n      <td>...</td>\n    </tr>\n    <tr>\n      <th>145</th>\n      <td>1.870503</td>\n      <td>-0.386966</td>\n      <td>2</td>\n    </tr>\n    <tr>\n      <th>146</th>\n      <td>1.564580</td>\n      <td>0.896687</td>\n      <td>2</td>\n    </tr>\n    <tr>\n      <th>147</th>\n      <td>1.521170</td>\n      <td>-0.269069</td>\n      <td>2</td>\n    </tr>\n    <tr>\n      <th>148</th>\n      <td>1.372788</td>\n      <td>-1.011254</td>\n      <td>2</td>\n    </tr>\n    <tr>\n      <th>149</th>\n      <td>0.960656</td>\n      <td>0.024332</td>\n      <td>2</td>\n    </tr>\n  </tbody>\n</table>\n<p>150 rows × 3 columns</p>\n</div>"
     },
     "metadata": {},
     "execution_count": 7
    }
   ],
   "source": [
    "#(8) 추출한 주성분 벡터들로 데이터프레임 구성하기. \n",
    "df_iris_pca = pd.DataFrame({\n",
    "    'PC1' : PC1.reshape(-1,),\n",
    "    'PC2' : PC2.reshape(-1,),\n",
    "    'species' : iris.target\n",
    "})\n",
    "df_iris_pca"
   ]
  },
  {
   "cell_type": "code",
   "execution_count": 8,
   "metadata": {},
   "outputs": [
    {
     "output_type": "execute_result",
     "data": {
      "text/plain": [
       "array([[-2.26470281,  0.4800266 ],\n",
       "       [-2.08096115, -0.67413356],\n",
       "       [-2.36422905, -0.34190802],\n",
       "       [-2.29938422, -0.59739451],\n",
       "       [-2.38984217,  0.64683538]])"
      ]
     },
     "metadata": {},
     "execution_count": 8
    }
   ],
   "source": [
    "#02. sklearn을 이용해 공분산 행렬과 고유값, 고유벡터 구하기. \n",
    "#(1) PCA 객체 지정하기. \n",
    "pca = PCA(n_components=2)\n",
    "\n",
    "#(2) fit_transform() 메서드를 이용해 PCA 추출하기. \n",
    "iris_pca_2 = pca.fit_transform(iris_scaling)\n",
    "iris_pca_2[:5]"
   ]
  },
  {
   "cell_type": "code",
   "execution_count": 9,
   "metadata": {},
   "outputs": [
    {
     "output_type": "execute_result",
     "data": {
      "text/plain": [
       "array([0.72962445, 0.22850762])"
      ]
     },
     "metadata": {},
     "execution_count": 9
    }
   ],
   "source": [
    "#(3) PCA가 담당하는 변동비율 확인하기. \n",
    "pca.explained_variance_ratio_"
   ]
  },
  {
   "cell_type": "code",
   "execution_count": 10,
   "metadata": {},
   "outputs": [
    {
     "output_type": "display_data",
     "data": {
      "text/plain": "<Figure size 432x288 with 1 Axes>",
      "image/svg+xml": "<?xml version=\"1.0\" encoding=\"utf-8\" standalone=\"no\"?>\r\n<!DOCTYPE svg PUBLIC \"-//W3C//DTD SVG 1.1//EN\"\r\n  \"http://www.w3.org/Graphics/SVG/1.1/DTD/svg11.dtd\">\r\n<!-- Created with matplotlib (https://matplotlib.org/) -->\r\n<svg height=\"262.19625pt\" version=\"1.1\" viewBox=\"0 0 384.620312 262.19625\" width=\"384.620312pt\" xmlns=\"http://www.w3.org/2000/svg\" xmlns:xlink=\"http://www.w3.org/1999/xlink\">\r\n <metadata>\r\n  <rdf:RDF xmlns:cc=\"http://creativecommons.org/ns#\" xmlns:dc=\"http://purl.org/dc/elements/1.1/\" xmlns:rdf=\"http://www.w3.org/1999/02/22-rdf-syntax-ns#\">\r\n   <cc:Work>\r\n    <dc:type rdf:resource=\"http://purl.org/dc/dcmitype/StillImage\"/>\r\n    <dc:date>2021-06-23T10:55:43.771751</dc:date>\r\n    <dc:format>image/svg+xml</dc:format>\r\n    <dc:creator>\r\n     <cc:Agent>\r\n      <dc:title>Matplotlib v3.3.4, https://matplotlib.org/</dc:title>\r\n     </cc:Agent>\r\n    </dc:creator>\r\n   </cc:Work>\r\n  </rdf:RDF>\r\n </metadata>\r\n <defs>\r\n  <style type=\"text/css\">*{stroke-linecap:butt;stroke-linejoin:round;}</style>\r\n </defs>\r\n <g id=\"figure_1\">\r\n  <g id=\"patch_1\">\r\n   <path d=\"M 0 262.19625 \r\nL 384.620312 262.19625 \r\nL 384.620312 0 \r\nL 0 0 \r\nz\r\n\" style=\"fill:none;\"/>\r\n  </g>\r\n  <g id=\"axes_1\">\r\n   <g id=\"patch_2\">\r\n    <path d=\"M 42.620313 224.64 \r\nL 377.420313 224.64 \r\nL 377.420313 7.2 \r\nL 42.620313 7.2 \r\nz\r\n\" style=\"fill:#ffffff;\"/>\r\n   </g>\r\n   <g id=\"PathCollection_1\">\r\n    <defs>\r\n     <path d=\"M 0 -3 \r\nL -3 3 \r\nL 3 3 \r\nz\r\n\" id=\"mb5b02256af\" style=\"stroke:#1f77b4;\"/>\r\n    </defs>\r\n    <g clip-path=\"url(#p610ffe4909)\">\r\n     <use style=\"fill:#1f77b4;stroke:#1f77b4;\" x=\"83.329938\" xlink:href=\"#mb5b02256af\" y=\"133.091975\"/>\r\n     <use style=\"fill:#1f77b4;stroke:#1f77b4;\" x=\"92.520391\" xlink:href=\"#mb5b02256af\" y=\"90.370866\"/>\r\n     <use style=\"fill:#1f77b4;stroke:#1f77b4;\" x=\"78.3518\" xlink:href=\"#mb5b02256af\" y=\"102.668157\"/>\r\n     <use style=\"fill:#1f77b4;stroke:#1f77b4;\" x=\"81.595231\" xlink:href=\"#mb5b02256af\" y=\"93.211354\"/>\r\n     <use style=\"fill:#1f77b4;stroke:#1f77b4;\" x=\"77.070674\" xlink:href=\"#mb5b02256af\" y=\"139.266384\"/>\r\n     <use style=\"fill:#1f77b4;stroke:#1f77b4;\" x=\"92.786999\" xlink:href=\"#mb5b02256af\" y=\"170.445584\"/>\r\n     <use style=\"fill:#1f77b4;stroke:#1f77b4;\" x=\"74.360347\" xlink:href=\"#mb5b02256af\" y=\"117.087389\"/>\r\n     <use style=\"fill:#1f77b4;stroke:#1f77b4;\" x=\"84.923305\" xlink:href=\"#mb5b02256af\" y=\"123.583645\"/>\r\n     <use style=\"fill:#1f77b4;stroke:#1f77b4;\" x=\"79.831771\" xlink:href=\"#mb5b02256af\" y=\"74.040115\"/>\r\n     <use style=\"fill:#1f77b4;stroke:#1f77b4;\" x=\"87.350144\" xlink:href=\"#mb5b02256af\" y=\"97.96336\"/>\r\n     <use style=\"fill:#1f77b4;stroke:#1f77b4;\" x=\"88.251378\" xlink:href=\"#mb5b02256af\" y=\"153.955937\"/>\r\n     <use style=\"fill:#1f77b4;stroke:#1f77b4;\" x=\"80.257408\" xlink:href=\"#mb5b02256af\" y=\"120.249724\"/>\r\n     <use style=\"fill:#1f77b4;stroke:#1f77b4;\" x=\"85.643382\" xlink:href=\"#mb5b02256af\" y=\"88.351978\"/>\r\n     <use style=\"fill:#1f77b4;stroke:#1f77b4;\" x=\"64.903286\" xlink:href=\"#mb5b02256af\" y=\"79.733781\"/>\r\n     <use style=\"fill:#1f77b4;stroke:#1f77b4;\" x=\"86.629258\" xlink:href=\"#mb5b02256af\" y=\"184.17365\"/>\r\n     <use style=\"fill:#1f77b4;stroke:#1f77b4;\" x=\"83.454397\" xlink:href=\"#mb5b02256af\" y=\"214.756364\"/>\r\n     <use style=\"fill:#1f77b4;stroke:#1f77b4;\" x=\"86.186741\" xlink:href=\"#mb5b02256af\" y=\"170.239479\"/>\r\n     <use style=\"fill:#1f77b4;stroke:#1f77b4;\" x=\"87.048967\" xlink:href=\"#mb5b02256af\" y=\"133.41814\"/>\r\n     <use style=\"fill:#1f77b4;stroke:#1f77b4;\" x=\"101.643195\" xlink:href=\"#mb5b02256af\" y=\"167.330458\"/>\r\n     <use style=\"fill:#1f77b4;stroke:#1f77b4;\" x=\"79.395182\" xlink:href=\"#mb5b02256af\" y=\"157.071063\"/>\r\n     <use style=\"fill:#1f77b4;stroke:#1f77b4;\" x=\"100.855356\" xlink:href=\"#mb5b02256af\" y=\"130.457593\"/>\r\n     <use style=\"fill:#1f77b4;stroke:#1f77b4;\" x=\"86.215494\" xlink:href=\"#mb5b02256af\" y=\"149.530095\"/>\r\n     <use style=\"fill:#1f77b4;stroke:#1f77b4;\" x=\"57.838494\" xlink:href=\"#mb5b02256af\" y=\"132.289384\"/>\r\n     <use style=\"fill:#1f77b4;stroke:#1f77b4;\" x=\"105.639784\" xlink:href=\"#mb5b02256af\" y=\"118.490784\"/>\r\n     <use style=\"fill:#1f77b4;stroke:#1f77b4;\" x=\"85.207601\" xlink:href=\"#mb5b02256af\" y=\"120.404303\"/>\r\n     <use style=\"fill:#1f77b4;stroke:#1f77b4;\" x=\"98.978501\" xlink:href=\"#mb5b02256af\" y=\"92.166642\"/>\r\n     <use style=\"fill:#1f77b4;stroke:#1f77b4;\" x=\"94.011427\" xlink:href=\"#mb5b02256af\" y=\"124.287501\"/>\r\n     <use style=\"fill:#1f77b4;stroke:#1f77b4;\" x=\"88.137983\" xlink:href=\"#mb5b02256af\" y=\"134.836225\"/>\r\n     <use style=\"fill:#1f77b4;stroke:#1f77b4;\" x=\"89.589201\" xlink:href=\"#mb5b02256af\" y=\"126.917567\"/>\r\n     <use style=\"fill:#1f77b4;stroke:#1f77b4;\" x=\"83.301993\" xlink:href=\"#mb5b02256af\" y=\"102.822736\"/>\r\n     <use style=\"fill:#1f77b4;stroke:#1f77b4;\" x=\"89.561257\" xlink:href=\"#mb5b02256af\" y=\"96.648327\"/>\r\n     <use style=\"fill:#1f77b4;stroke:#1f77b4;\" x=\"104.993284\" xlink:href=\"#mb5b02256af\" y=\"131.00687\"/>\r\n     <use style=\"fill:#1f77b4;stroke:#1f77b4;\" x=\"65.811257\" xlink:href=\"#mb5b02256af\" y=\"181.712854\"/>\r\n     <use style=\"fill:#1f77b4;stroke:#1f77b4;\" x=\"74.25288\" xlink:href=\"#mb5b02256af\" y=\"194.932796\"/>\r\n     <use style=\"fill:#1f77b4;stroke:#1f77b4;\" x=\"91.069173\" xlink:href=\"#mb5b02256af\" y=\"98.289525\"/>\r\n     <use style=\"fill:#1f77b4;stroke:#1f77b4;\" x=\"86.175677\" xlink:href=\"#mb5b02256af\" y=\"107.694802\"/>\r\n     <use style=\"fill:#1f77b4;stroke:#1f77b4;\" x=\"94.311795\" xlink:href=\"#mb5b02256af\" y=\"139.811344\"/>\r\n     <use style=\"fill:#1f77b4;stroke:#1f77b4;\" x=\"70.193665\" xlink:href=\"#mb5b02256af\" y=\"137.247495\"/>\r\n     <use style=\"fill:#1f77b4;stroke:#1f77b4;\" x=\"75.080424\" xlink:href=\"#mb5b02256af\" y=\"81.855721\"/>\r\n     <use style=\"fill:#1f77b4;stroke:#1f77b4;\" x=\"88.081285\" xlink:href=\"#mb5b02256af\" y=\"125.276369\"/>\r\n     <use style=\"fill:#1f77b4;stroke:#1f77b4;\" x=\"82.240922\" xlink:href=\"#mb5b02256af\" y=\"131.67389\"/>\r\n     <use style=\"fill:#1f77b4;stroke:#1f77b4;\" x=\"103.666414\" xlink:href=\"#mb5b02256af\" y=\"28.804684\"/>\r\n     <use style=\"fill:#1f77b4;stroke:#1f77b4;\" x=\"68.877858\" xlink:href=\"#mb5b02256af\" y=\"97.589986\"/>\r\n     <use style=\"fill:#1f77b4;stroke:#1f77b4;\" x=\"98.348202\" xlink:href=\"#mb5b02256af\" y=\"132.806963\"/>\r\n     <use style=\"fill:#1f77b4;stroke:#1f77b4;\" x=\"89.714469\" xlink:href=\"#mb5b02256af\" y=\"157.603333\"/>\r\n     <use style=\"fill:#1f77b4;stroke:#1f77b4;\" x=\"93.081439\" xlink:href=\"#mb5b02256af\" y=\"89.004307\"/>\r\n     <use style=\"fill:#1f77b4;stroke:#1f77b4;\" x=\"77.326218\" xlink:href=\"#mb5b02256af\" y=\"156.796424\"/>\r\n     <use style=\"fill:#1f77b4;stroke:#1f77b4;\" x=\"76.843884\" xlink:href=\"#mb5b02256af\" y=\"101.02696\"/>\r\n     <use style=\"fill:#1f77b4;stroke:#1f77b4;\" x=\"85.093398\" xlink:href=\"#mb5b02256af\" y=\"152.263213\"/>\r\n     <use style=\"fill:#1f77b4;stroke:#1f77b4;\" x=\"86.374523\" xlink:href=\"#mb5b02256af\" y=\"115.664987\"/>\r\n    </g>\r\n   </g>\r\n   <g id=\"PathCollection_2\">\r\n    <defs>\r\n     <path d=\"M -3 3 \r\nL 3 3 \r\nL 3 -3 \r\nL -3 -3 \r\nz\r\n\" id=\"m78060d231a\" style=\"stroke:#ff7f0e;\"/>\r\n    </defs>\r\n    <g clip-path=\"url(#p610ffe4909)\">\r\n     <use style=\"fill:#ff7f0e;stroke:#ff7f0e;\" x=\"251.715891\" xlink:href=\"#m78060d231a\" y=\"147.266672\"/>\r\n     <use style=\"fill:#ff7f0e;stroke:#ff7f0e;\" x=\"233.186908\" xlink:href=\"#m78060d231a\" y=\"137.333442\"/>\r\n     <use style=\"fill:#ff7f0e;stroke:#ff7f0e;\" x=\"258.678351\" xlink:href=\"#m78060d231a\" y=\"138.136033\"/>\r\n     <use style=\"fill:#ff7f0e;stroke:#ff7f0e;\" x=\"216.988249\" xlink:href=\"#m78060d231a\" y=\"50.384777\"/>\r\n     <use style=\"fill:#ff7f0e;stroke:#ff7f0e;\" x=\"250.400084\" xlink:href=\"#m78060d231a\" y=\"107.609163\"/>\r\n     <use style=\"fill:#ff7f0e;stroke:#ff7f0e;\" x=\"216.048118\" xlink:href=\"#m78060d231a\" y=\"93.363517\"/>\r\n     <use style=\"fill:#ff7f0e;stroke:#ff7f0e;\" x=\"233.946802\" xlink:href=\"#m78060d231a\" y=\"143.937068\"/>\r\n     <use style=\"fill:#ff7f0e;stroke:#ff7f0e;\" x=\"172.231545\" xlink:href=\"#m78060d231a\" y=\"46.756389\"/>\r\n     <use style=\"fill:#ff7f0e;stroke:#ff7f0e;\" x=\"243.018724\" xlink:href=\"#m78060d231a\" y=\"116.516689\"/>\r\n     <use style=\"fill:#ff7f0e;stroke:#ff7f0e;\" x=\"197.17814\" xlink:href=\"#m78060d231a\" y=\"77.049774\"/>\r\n     <use style=\"fill:#ff7f0e;stroke:#ff7f0e;\" x=\"191.094786\" xlink:href=\"#m78060d231a\" y=\"17.083636\"/>\r\n     <use style=\"fill:#ff7f0e;stroke:#ff7f0e;\" x=\"218.649378\" xlink:href=\"#m78060d231a\" y=\"112.98098\"/>\r\n     <use style=\"fill:#ff7f0e;stroke:#ff7f0e;\" x=\"224.722348\" xlink:href=\"#m78060d231a\" y=\"50.002769\"/>\r\n     <use style=\"fill:#ff7f0e;stroke:#ff7f0e;\" x=\"232.597915\" xlink:href=\"#m78060d231a\" y=\"108.430761\"/>\r\n     <use style=\"fill:#ff7f0e;stroke:#ff7f0e;\" x=\"194.938274\" xlink:href=\"#m78060d231a\" y=\"99.07419\"/>\r\n     <use style=\"fill:#ff7f0e;stroke:#ff7f0e;\" x=\"240.393039\" xlink:href=\"#m78060d231a\" y=\"134.16679\"/>\r\n     <use style=\"fill:#ff7f0e;stroke:#ff7f0e;\" x=\"214.125629\" xlink:href=\"#m78060d231a\" y=\"108.057388\"/>\r\n     <use style=\"fill:#ff7f0e;stroke:#ff7f0e;\" x=\"204.550037\" xlink:href=\"#m78060d231a\" y=\"86.004509\"/>\r\n     <use style=\"fill:#ff7f0e;stroke:#ff7f0e;\" x=\"257.883776\" xlink:href=\"#m78060d231a\" y=\"55.276672\"/>\r\n     <use style=\"fill:#ff7f0e;stroke:#ff7f0e;\" x=\"204.855541\" xlink:href=\"#m78060d231a\" y=\"67.10791\"/>\r\n     <use style=\"fill:#ff7f0e;stroke:#ff7f0e;\" x=\"233.504285\" xlink:href=\"#m78060d231a\" y=\"130.002896\"/>\r\n     <use style=\"fill:#ff7f0e;stroke:#ff7f0e;\" x=\"220.429718\" xlink:href=\"#m78060d231a\" y=\"99.876781\"/>\r\n     <use style=\"fill:#ff7f0e;stroke:#ff7f0e;\" x=\"258.338165\" xlink:href=\"#m78060d231a\" y=\"80.776897\"/>\r\n     <use style=\"fill:#ff7f0e;stroke:#ff7f0e;\" x=\"228.26114\" xlink:href=\"#m78060d231a\" y=\"99.9113\"/>\r\n     <use style=\"fill:#ff7f0e;stroke:#ff7f0e;\" x=\"231.75257\" xlink:href=\"#m78060d231a\" y=\"112.976663\"/>\r\n     <use style=\"fill:#ff7f0e;stroke:#ff7f0e;\" x=\"240.336341\" xlink:href=\"#m78060d231a\" y=\"124.606934\"/>\r\n     <use style=\"fill:#ff7f0e;stroke:#ff7f0e;\" x=\"259.455126\" xlink:href=\"#m78060d231a\" y=\"112.464221\"/>\r\n     <use style=\"fill:#ff7f0e;stroke:#ff7f0e;\" x=\"264.551795\" xlink:href=\"#m78060d231a\" y=\"127.587309\"/>\r\n     <use style=\"fill:#ff7f0e;stroke:#ff7f0e;\" x=\"229.858834\" xlink:href=\"#m78060d231a\" y=\"106.96115\"/>\r\n     <use style=\"fill:#ff7f0e;stroke:#ff7f0e;\" x=\"194.592952\" xlink:href=\"#m78060d231a\" y=\"76.135496\"/>\r\n     <use style=\"fill:#ff7f0e;stroke:#ff7f0e;\" x=\"203.148779\" xlink:href=\"#m78060d231a\" y=\"57.496527\"/>\r\n     <use style=\"fill:#ff7f0e;stroke:#ff7f0e;\" x=\"197.779686\" xlink:href=\"#m78060d231a\" y=\"57.118836\"/>\r\n     <use style=\"fill:#ff7f0e;stroke:#ff7f0e;\" x=\"208.687965\" xlink:href=\"#m78060d231a\" y=\"86.553786\"/>\r\n     <use style=\"fill:#ff7f0e;stroke:#ff7f0e;\" x=\"249.680816\" xlink:href=\"#m78060d231a\" y=\"91.862208\"/>\r\n     <use style=\"fill:#ff7f0e;stroke:#ff7f0e;\" x=\"207.809668\" xlink:href=\"#m78060d231a\" y=\"104.67194\"/>\r\n     <use style=\"fill:#ff7f0e;stroke:#ff7f0e;\" x=\"218.071449\" xlink:href=\"#m78060d231a\" y=\"146.622976\"/>\r\n     <use style=\"fill:#ff7f0e;stroke:#ff7f0e;\" x=\"249.062261\" xlink:href=\"#m78060d231a\" y=\"134.647533\"/>\r\n     <use style=\"fill:#ff7f0e;stroke:#ff7f0e;\" x=\"248.852351\" xlink:href=\"#m78060d231a\" y=\"64.132672\"/>\r\n     <use style=\"fill:#ff7f0e;stroke:#ff7f0e;\" x=\"200.087314\" xlink:href=\"#m78060d231a\" y=\"107.198953\"/>\r\n     <use style=\"fill:#ff7f0e;stroke:#ff7f0e;\" x=\"210.785683\" xlink:href=\"#m78060d231a\" y=\"66.119042\"/>\r\n     <use style=\"fill:#ff7f0e;stroke:#ff7f0e;\" x=\"210.565629\" xlink:href=\"#m78060d231a\" y=\"73.866114\"/>\r\n     <use style=\"fill:#ff7f0e;stroke:#ff7f0e;\" x=\"227.846568\" xlink:href=\"#m78060d231a\" y=\"116.246368\"/>\r\n     <use style=\"fill:#ff7f0e;stroke:#ff7f0e;\" x=\"213.439313\" xlink:href=\"#m78060d231a\" y=\"78.73818\"/>\r\n     <use style=\"fill:#ff7f0e;stroke:#ff7f0e;\" x=\"178.490808\" xlink:href=\"#m78060d231a\" y=\"40.581981\"/>\r\n     <use style=\"fill:#ff7f0e;stroke:#ff7f0e;\" x=\"211.041227\" xlink:href=\"#m78060d231a\" y=\"83.649082\"/>\r\n     <use style=\"fill:#ff7f0e;stroke:#ff7f0e;\" x=\"201.17633\" xlink:href=\"#m78060d231a\" y=\"108.617038\"/>\r\n     <use style=\"fill:#ff7f0e;stroke:#ff7f0e;\" x=\"207.996642\" xlink:href=\"#m78060d231a\" y=\"101.076071\"/>\r\n     <use style=\"fill:#ff7f0e;stroke:#ff7f0e;\" x=\"225.436609\" xlink:href=\"#m78060d231a\" y=\"109.591216\"/>\r\n     <use style=\"fill:#ff7f0e;stroke:#ff7f0e;\" x=\"174.215058\" xlink:href=\"#m78060d231a\" y=\"58.180555\"/>\r\n     <use style=\"fill:#ff7f0e;stroke:#ff7f0e;\" x=\"209.44786\" xlink:href=\"#m78060d231a\" y=\"93.157412\"/>\r\n    </g>\r\n   </g>\r\n   <g id=\"PathCollection_3\">\r\n    <defs>\r\n     <path d=\"M 0 3 \r\nC 0.795609 3 1.55874 2.683901 2.12132 2.12132 \r\nC 2.683901 1.55874 3 0.795609 3 0 \r\nC 3 -0.795609 2.683901 -1.55874 2.12132 -2.12132 \r\nC 1.55874 -2.683901 0.795609 -3 0 -3 \r\nC -0.795609 -3 -1.55874 -2.683901 -2.12132 -2.12132 \r\nC -2.683901 -1.55874 -3 -0.795609 -3 0 \r\nC -3 0.795609 -2.683901 1.55874 -2.12132 2.12132 \r\nC -1.55874 2.683901 -0.795609 3 0 3 \r\nz\r\n\" id=\"m9ed5e1a05f\" style=\"stroke:#2ca02c;\"/>\r\n    </defs>\r\n    <g clip-path=\"url(#p610ffe4909)\">\r\n     <use style=\"fill:#2ca02c;stroke:#2ca02c;\" x=\"288.868901\" xlink:href=\"#m9ed5e1a05f\" y=\"147.542392\"/>\r\n     <use style=\"fill:#2ca02c;stroke:#2ca02c;\" x=\"254.521942\" xlink:href=\"#m9ed5e1a05f\" y=\"89.455255\"/>\r\n     <use style=\"fill:#2ca02c;stroke:#2ca02c;\" x=\"306.910413\" xlink:href=\"#m9ed5e1a05f\" y=\"136.126599\"/>\r\n     <use style=\"fill:#2ca02c;stroke:#2ca02c;\" x=\"268.640572\" xlink:href=\"#m9ed5e1a05f\" y=\"113.584604\"/>\r\n     <use style=\"fill:#2ca02c;stroke:#2ca02c;\" x=\"290.031495\" xlink:href=\"#m9ed5e1a05f\" y=\"126.244896\"/>\r\n     <use style=\"fill:#2ca02c;stroke:#2ca02c;\" x=\"334.250767\" xlink:href=\"#m9ed5e1a05f\" y=\"144.950901\"/>\r\n     <use style=\"fill:#2ca02c;stroke:#2ca02c;\" x=\"214.964238\" xlink:href=\"#m9ed5e1a05f\" y=\"57.52499\"/>\r\n     <use style=\"fill:#2ca02c;stroke:#2ca02c;\" x=\"311.770829\" xlink:href=\"#m9ed5e1a05f\" y=\"130.872525\"/>\r\n     <use style=\"fill:#2ca02c;stroke:#2ca02c;\" x=\"296.977755\" xlink:href=\"#m9ed5e1a05f\" y=\"88.990022\"/>\r\n     <use style=\"fill:#2ca02c;stroke:#2ca02c;\" x=\"309.636941\" xlink:href=\"#m9ed5e1a05f\" y=\"186.429828\"/>\r\n     <use style=\"fill:#2ca02c;stroke:#2ca02c;\" x=\"264.84042\" xlink:href=\"#m9ed5e1a05f\" y=\"140.966147\"/>\r\n     <use style=\"fill:#2ca02c;stroke:#2ca02c;\" x=\"276.769954\" xlink:href=\"#m9ed5e1a05f\" y=\"99.714649\"/>\r\n     <use style=\"fill:#2ca02c;stroke:#2ca02c;\" x=\"290.836214\" xlink:href=\"#m9ed5e1a05f\" y=\"130.842323\"/>\r\n     <use style=\"fill:#2ca02c;stroke:#2ca02c;\" x=\"259.635491\" xlink:href=\"#m9ed5e1a05f\" y=\"72.302905\"/>\r\n     <use style=\"fill:#2ca02c;stroke:#2ca02c;\" x=\"270.015803\" xlink:href=\"#m9ed5e1a05f\" y=\"98.953211\"/>\r\n     <use style=\"fill:#2ca02c;stroke:#2ca02c;\" x=\"276.139655\" xlink:href=\"#m9ed5e1a05f\" y=\"140.35497\"/>\r\n     <use style=\"fill:#2ca02c;stroke:#2ca02c;\" x=\"270.205186\" xlink:href=\"#m9ed5e1a05f\" y=\"124.785658\"/>\r\n     <use style=\"fill:#2ca02c;stroke:#2ca02c;\" x=\"317.967578\" xlink:href=\"#m9ed5e1a05f\" y=\"209.958374\"/>\r\n     <use style=\"fill:#2ca02c;stroke:#2ca02c;\" x=\"362.202131\" xlink:href=\"#m9ed5e1a05f\" y=\"115.982004\"/>\r\n     <use style=\"fill:#2ca02c;stroke:#2ca02c;\" x=\"259.818137\" xlink:href=\"#m9ed5e1a05f\" y=\"52.148855\"/>\r\n     <use style=\"fill:#2ca02c;stroke:#2ca02c;\" x=\"298.529815\" xlink:href=\"#m9ed5e1a05f\" y=\"149.024694\"/>\r\n     <use style=\"fill:#2ca02c;stroke:#2ca02c;\" x=\"245.523598\" xlink:href=\"#m9ed5e1a05f\" y=\"94.160052\"/>\r\n     <use style=\"fill:#2ca02c;stroke:#2ca02c;\" x=\"341.542349\" xlink:href=\"#m9ed5e1a05f\" y=\"130.634722\"/>\r\n     <use style=\"fill:#2ca02c;stroke:#2ca02c;\" x=\"263.292686\" xlink:href=\"#m9ed5e1a05f\" y=\"97.489656\"/>\r\n     <use style=\"fill:#2ca02c;stroke:#2ca02c;\" x=\"281.674514\" xlink:href=\"#m9ed5e1a05f\" y=\"152.854049\"/>\r\n     <use style=\"fill:#2ca02c;stroke:#2ca02c;\" x=\"294.358806\" xlink:href=\"#m9ed5e1a05f\" y=\"152.626619\"/>\r\n     <use style=\"fill:#2ca02c;stroke:#2ca02c;\" x=\"255.383358\" xlink:href=\"#m9ed5e1a05f\" y=\"103.612538\"/>\r\n     <use style=\"fill:#2ca02c;stroke:#2ca02c;\" x=\"247.672877\" xlink:href=\"#m9ed5e1a05f\" y=\"117.705605\"/>\r\n     <use style=\"fill:#2ca02c;stroke:#2ca02c;\" x=\"286.056922\" xlink:href=\"#m9ed5e1a05f\" y=\"108.38869\"/>\r\n     <use style=\"fill:#2ca02c;stroke:#2ca02c;\" x=\"289.823185\" xlink:href=\"#m9ed5e1a05f\" y=\"136.136973\"/>\r\n     <use style=\"fill:#2ca02c;stroke:#2ca02c;\" x=\"318.448992\" xlink:href=\"#m9ed5e1a05f\" y=\"124.921229\"/>\r\n     <use style=\"fill:#2ca02c;stroke:#2ca02c;\" x=\"311.895288\" xlink:href=\"#m9ed5e1a05f\" y=\"212.536913\"/>\r\n     <use style=\"fill:#2ca02c;stroke:#2ca02c;\" x=\"289.775951\" xlink:href=\"#m9ed5e1a05f\" y=\"108.714855\"/>\r\n     <use style=\"fill:#2ca02c;stroke:#2ca02c;\" x=\"252.334446\" xlink:href=\"#m9ed5e1a05f\" y=\"104.481346\"/>\r\n     <use style=\"fill:#2ca02c;stroke:#2ca02c;\" x=\"256.752344\" xlink:href=\"#m9ed5e1a05f\" y=\"85.293101\"/>\r\n     <use style=\"fill:#2ca02c;stroke:#2ca02c;\" x=\"336.596483\" xlink:href=\"#m9ed5e1a05f\" y=\"147.038324\"/>\r\n     <use style=\"fill:#2ca02c;stroke:#2ca02c;\" x=\"275.448331\" xlink:href=\"#m9ed5e1a05f\" y=\"154.877254\"/>\r\n     <use style=\"fill:#2ca02c;stroke:#2ca02c;\" x=\"263.945922\" xlink:href=\"#m9ed5e1a05f\" y=\"130.960066\"/>\r\n     <use style=\"fill:#2ca02c;stroke:#2ca02c;\" x=\"242.864832\" xlink:href=\"#m9ed5e1a05f\" y=\"115.961356\"/>\r\n     <use style=\"fill:#2ca02c;stroke:#2ca02c;\" x=\"289.242847\" xlink:href=\"#m9ed5e1a05f\" y=\"140.350653\"/>\r\n     <use style=\"fill:#2ca02c;stroke:#2ca02c;\" x=\"297.384102\" xlink:href=\"#m9ed5e1a05f\" y=\"138.046752\"/>\r\n     <use style=\"fill:#2ca02c;stroke:#2ca02c;\" x=\"291.730711\" xlink:href=\"#m9ed5e1a05f\" y=\"140.848404\"/>\r\n     <use style=\"fill:#2ca02c;stroke:#2ca02c;\" x=\"254.521942\" xlink:href=\"#m9ed5e1a05f\" y=\"89.455255\"/>\r\n     <use style=\"fill:#2ca02c;stroke:#2ca02c;\" x=\"298.671964\" xlink:href=\"#m9ed5e1a05f\" y=\"147.435022\"/>\r\n     <use style=\"fill:#2ca02c;stroke:#2ca02c;\" x=\"296.550629\" xlink:href=\"#m9ed5e1a05f\" y=\"154.158708\"/>\r\n     <use style=\"fill:#2ca02c;stroke:#2ca02c;\" x=\"290.166098\" xlink:href=\"#m9ed5e1a05f\" y=\"129.647351\"/>\r\n     <use style=\"fill:#2ca02c;stroke:#2ca02c;\" x=\"274.864345\" xlink:href=\"#m9ed5e1a05f\" y=\"82.133083\"/>\r\n     <use style=\"fill:#2ca02c;stroke:#2ca02c;\" x=\"272.69305\" xlink:href=\"#m9ed5e1a05f\" y=\"125.283409\"/>\r\n     <use style=\"fill:#2ca02c;stroke:#2ca02c;\" x=\"265.271193\" xlink:href=\"#m9ed5e1a05f\" y=\"152.755313\"/>\r\n     <use style=\"fill:#2ca02c;stroke:#2ca02c;\" x=\"244.657045\" xlink:href=\"#m9ed5e1a05f\" y=\"114.42321\"/>\r\n    </g>\r\n   </g>\r\n   <g id=\"matplotlib.axis_1\">\r\n    <g id=\"xtick_1\">\r\n     <g id=\"line2d_1\">\r\n      <defs>\r\n       <path d=\"M 0 0 \r\nL 0 3.5 \r\n\" id=\"md5dc90767e\" style=\"stroke:#000000;stroke-width:0.8;\"/>\r\n      </defs>\r\n      <g>\r\n       <use style=\"stroke:#000000;stroke-width:0.8;\" x=\"46.55159\" xlink:href=\"#md5dc90767e\" y=\"224.64\"/>\r\n      </g>\r\n     </g>\r\n     <g id=\"text_1\">\r\n      <!-- −3 -->\r\n      <g transform=\"translate(39.180496 239.238438)scale(0.1 -0.1)\">\r\n       <defs>\r\n        <path d=\"M 10.59375 35.5 \r\nL 73.1875 35.5 \r\nL 73.1875 27.203125 \r\nL 10.59375 27.203125 \r\nz\r\n\" id=\"DejaVuSans-8722\"/>\r\n        <path d=\"M 40.578125 39.3125 \r\nQ 47.65625 37.796875 51.625 33 \r\nQ 55.609375 28.21875 55.609375 21.1875 \r\nQ 55.609375 10.40625 48.1875 4.484375 \r\nQ 40.765625 -1.421875 27.09375 -1.421875 \r\nQ 22.515625 -1.421875 17.65625 -0.515625 \r\nQ 12.796875 0.390625 7.625 2.203125 \r\nL 7.625 11.71875 \r\nQ 11.71875 9.328125 16.59375 8.109375 \r\nQ 21.484375 6.890625 26.8125 6.890625 \r\nQ 36.078125 6.890625 40.9375 10.546875 \r\nQ 45.796875 14.203125 45.796875 21.1875 \r\nQ 45.796875 27.640625 41.28125 31.265625 \r\nQ 36.765625 34.90625 28.71875 34.90625 \r\nL 20.21875 34.90625 \r\nL 20.21875 43.015625 \r\nL 29.109375 43.015625 \r\nQ 36.375 43.015625 40.234375 45.921875 \r\nQ 44.09375 48.828125 44.09375 54.296875 \r\nQ 44.09375 59.90625 40.109375 62.90625 \r\nQ 36.140625 65.921875 28.71875 65.921875 \r\nQ 24.65625 65.921875 20.015625 65.03125 \r\nQ 15.375 64.15625 9.8125 62.3125 \r\nL 9.8125 71.09375 \r\nQ 15.4375 72.65625 20.34375 73.4375 \r\nQ 25.25 74.21875 29.59375 74.21875 \r\nQ 40.828125 74.21875 47.359375 69.109375 \r\nQ 53.90625 64.015625 53.90625 55.328125 \r\nQ 53.90625 49.265625 50.4375 45.09375 \r\nQ 46.96875 40.921875 40.578125 39.3125 \r\nz\r\n\" id=\"DejaVuSans-51\"/>\r\n       </defs>\r\n       <use xlink:href=\"#DejaVuSans-8722\"/>\r\n       <use x=\"83.789062\" xlink:href=\"#DejaVuSans-51\"/>\r\n      </g>\r\n     </g>\r\n    </g>\r\n    <g id=\"xtick_2\">\r\n     <g id=\"line2d_2\">\r\n      <g>\r\n       <use style=\"stroke:#000000;stroke-width:0.8;\" x=\"96.569934\" xlink:href=\"#md5dc90767e\" y=\"224.64\"/>\r\n      </g>\r\n     </g>\r\n     <g id=\"text_2\">\r\n      <!-- −2 -->\r\n      <g transform=\"translate(89.19884 239.238438)scale(0.1 -0.1)\">\r\n       <defs>\r\n        <path d=\"M 19.1875 8.296875 \r\nL 53.609375 8.296875 \r\nL 53.609375 0 \r\nL 7.328125 0 \r\nL 7.328125 8.296875 \r\nQ 12.9375 14.109375 22.625 23.890625 \r\nQ 32.328125 33.6875 34.8125 36.53125 \r\nQ 39.546875 41.84375 41.421875 45.53125 \r\nQ 43.3125 49.21875 43.3125 52.78125 \r\nQ 43.3125 58.59375 39.234375 62.25 \r\nQ 35.15625 65.921875 28.609375 65.921875 \r\nQ 23.96875 65.921875 18.8125 64.3125 \r\nQ 13.671875 62.703125 7.8125 59.421875 \r\nL 7.8125 69.390625 \r\nQ 13.765625 71.78125 18.9375 73 \r\nQ 24.125 74.21875 28.421875 74.21875 \r\nQ 39.75 74.21875 46.484375 68.546875 \r\nQ 53.21875 62.890625 53.21875 53.421875 \r\nQ 53.21875 48.921875 51.53125 44.890625 \r\nQ 49.859375 40.875 45.40625 35.40625 \r\nQ 44.1875 33.984375 37.640625 27.21875 \r\nQ 31.109375 20.453125 19.1875 8.296875 \r\nz\r\n\" id=\"DejaVuSans-50\"/>\r\n       </defs>\r\n       <use xlink:href=\"#DejaVuSans-8722\"/>\r\n       <use x=\"83.789062\" xlink:href=\"#DejaVuSans-50\"/>\r\n      </g>\r\n     </g>\r\n    </g>\r\n    <g id=\"xtick_3\">\r\n     <g id=\"line2d_3\">\r\n      <g>\r\n       <use style=\"stroke:#000000;stroke-width:0.8;\" x=\"146.588277\" xlink:href=\"#md5dc90767e\" y=\"224.64\"/>\r\n      </g>\r\n     </g>\r\n     <g id=\"text_3\">\r\n      <!-- −1 -->\r\n      <g transform=\"translate(139.217184 239.238438)scale(0.1 -0.1)\">\r\n       <defs>\r\n        <path d=\"M 12.40625 8.296875 \r\nL 28.515625 8.296875 \r\nL 28.515625 63.921875 \r\nL 10.984375 60.40625 \r\nL 10.984375 69.390625 \r\nL 28.421875 72.90625 \r\nL 38.28125 72.90625 \r\nL 38.28125 8.296875 \r\nL 54.390625 8.296875 \r\nL 54.390625 0 \r\nL 12.40625 0 \r\nz\r\n\" id=\"DejaVuSans-49\"/>\r\n       </defs>\r\n       <use xlink:href=\"#DejaVuSans-8722\"/>\r\n       <use x=\"83.789062\" xlink:href=\"#DejaVuSans-49\"/>\r\n      </g>\r\n     </g>\r\n    </g>\r\n    <g id=\"xtick_4\">\r\n     <g id=\"line2d_4\">\r\n      <g>\r\n       <use style=\"stroke:#000000;stroke-width:0.8;\" x=\"196.606621\" xlink:href=\"#md5dc90767e\" y=\"224.64\"/>\r\n      </g>\r\n     </g>\r\n     <g id=\"text_4\">\r\n      <!-- 0 -->\r\n      <g transform=\"translate(193.425371 239.238438)scale(0.1 -0.1)\">\r\n       <defs>\r\n        <path d=\"M 31.78125 66.40625 \r\nQ 24.171875 66.40625 20.328125 58.90625 \r\nQ 16.5 51.421875 16.5 36.375 \r\nQ 16.5 21.390625 20.328125 13.890625 \r\nQ 24.171875 6.390625 31.78125 6.390625 \r\nQ 39.453125 6.390625 43.28125 13.890625 \r\nQ 47.125 21.390625 47.125 36.375 \r\nQ 47.125 51.421875 43.28125 58.90625 \r\nQ 39.453125 66.40625 31.78125 66.40625 \r\nz\r\nM 31.78125 74.21875 \r\nQ 44.046875 74.21875 50.515625 64.515625 \r\nQ 56.984375 54.828125 56.984375 36.375 \r\nQ 56.984375 17.96875 50.515625 8.265625 \r\nQ 44.046875 -1.421875 31.78125 -1.421875 \r\nQ 19.53125 -1.421875 13.0625 8.265625 \r\nQ 6.59375 17.96875 6.59375 36.375 \r\nQ 6.59375 54.828125 13.0625 64.515625 \r\nQ 19.53125 74.21875 31.78125 74.21875 \r\nz\r\n\" id=\"DejaVuSans-48\"/>\r\n       </defs>\r\n       <use xlink:href=\"#DejaVuSans-48\"/>\r\n      </g>\r\n     </g>\r\n    </g>\r\n    <g id=\"xtick_5\">\r\n     <g id=\"line2d_5\">\r\n      <g>\r\n       <use style=\"stroke:#000000;stroke-width:0.8;\" x=\"246.624965\" xlink:href=\"#md5dc90767e\" y=\"224.64\"/>\r\n      </g>\r\n     </g>\r\n     <g id=\"text_5\">\r\n      <!-- 1 -->\r\n      <g transform=\"translate(243.443715 239.238438)scale(0.1 -0.1)\">\r\n       <use xlink:href=\"#DejaVuSans-49\"/>\r\n      </g>\r\n     </g>\r\n    </g>\r\n    <g id=\"xtick_6\">\r\n     <g id=\"line2d_6\">\r\n      <g>\r\n       <use style=\"stroke:#000000;stroke-width:0.8;\" x=\"296.643309\" xlink:href=\"#md5dc90767e\" y=\"224.64\"/>\r\n      </g>\r\n     </g>\r\n     <g id=\"text_6\">\r\n      <!-- 2 -->\r\n      <g transform=\"translate(293.462059 239.238438)scale(0.1 -0.1)\">\r\n       <use xlink:href=\"#DejaVuSans-50\"/>\r\n      </g>\r\n     </g>\r\n    </g>\r\n    <g id=\"xtick_7\">\r\n     <g id=\"line2d_7\">\r\n      <g>\r\n       <use style=\"stroke:#000000;stroke-width:0.8;\" x=\"346.661652\" xlink:href=\"#md5dc90767e\" y=\"224.64\"/>\r\n      </g>\r\n     </g>\r\n     <g id=\"text_7\">\r\n      <!-- 3 -->\r\n      <g transform=\"translate(343.480402 239.238438)scale(0.1 -0.1)\">\r\n       <use xlink:href=\"#DejaVuSans-51\"/>\r\n      </g>\r\n     </g>\r\n    </g>\r\n    <g id=\"text_8\">\r\n     <!-- PCA Component 1 -->\r\n     <g transform=\"translate(164.705469 252.916563)scale(0.1 -0.1)\">\r\n      <defs>\r\n       <path d=\"M 19.671875 64.796875 \r\nL 19.671875 37.40625 \r\nL 32.078125 37.40625 \r\nQ 38.96875 37.40625 42.71875 40.96875 \r\nQ 46.484375 44.53125 46.484375 51.125 \r\nQ 46.484375 57.671875 42.71875 61.234375 \r\nQ 38.96875 64.796875 32.078125 64.796875 \r\nz\r\nM 9.8125 72.90625 \r\nL 32.078125 72.90625 \r\nQ 44.34375 72.90625 50.609375 67.359375 \r\nQ 56.890625 61.8125 56.890625 51.125 \r\nQ 56.890625 40.328125 50.609375 34.8125 \r\nQ 44.34375 29.296875 32.078125 29.296875 \r\nL 19.671875 29.296875 \r\nL 19.671875 0 \r\nL 9.8125 0 \r\nz\r\n\" id=\"DejaVuSans-80\"/>\r\n       <path d=\"M 64.40625 67.28125 \r\nL 64.40625 56.890625 \r\nQ 59.421875 61.53125 53.78125 63.8125 \r\nQ 48.140625 66.109375 41.796875 66.109375 \r\nQ 29.296875 66.109375 22.65625 58.46875 \r\nQ 16.015625 50.828125 16.015625 36.375 \r\nQ 16.015625 21.96875 22.65625 14.328125 \r\nQ 29.296875 6.6875 41.796875 6.6875 \r\nQ 48.140625 6.6875 53.78125 8.984375 \r\nQ 59.421875 11.28125 64.40625 15.921875 \r\nL 64.40625 5.609375 \r\nQ 59.234375 2.09375 53.4375 0.328125 \r\nQ 47.65625 -1.421875 41.21875 -1.421875 \r\nQ 24.65625 -1.421875 15.125 8.703125 \r\nQ 5.609375 18.84375 5.609375 36.375 \r\nQ 5.609375 53.953125 15.125 64.078125 \r\nQ 24.65625 74.21875 41.21875 74.21875 \r\nQ 47.75 74.21875 53.53125 72.484375 \r\nQ 59.328125 70.75 64.40625 67.28125 \r\nz\r\n\" id=\"DejaVuSans-67\"/>\r\n       <path d=\"M 34.1875 63.1875 \r\nL 20.796875 26.90625 \r\nL 47.609375 26.90625 \r\nz\r\nM 28.609375 72.90625 \r\nL 39.796875 72.90625 \r\nL 67.578125 0 \r\nL 57.328125 0 \r\nL 50.6875 18.703125 \r\nL 17.828125 18.703125 \r\nL 11.1875 0 \r\nL 0.78125 0 \r\nz\r\n\" id=\"DejaVuSans-65\"/>\r\n       <path id=\"DejaVuSans-32\"/>\r\n       <path d=\"M 30.609375 48.390625 \r\nQ 23.390625 48.390625 19.1875 42.75 \r\nQ 14.984375 37.109375 14.984375 27.296875 \r\nQ 14.984375 17.484375 19.15625 11.84375 \r\nQ 23.34375 6.203125 30.609375 6.203125 \r\nQ 37.796875 6.203125 41.984375 11.859375 \r\nQ 46.1875 17.53125 46.1875 27.296875 \r\nQ 46.1875 37.015625 41.984375 42.703125 \r\nQ 37.796875 48.390625 30.609375 48.390625 \r\nz\r\nM 30.609375 56 \r\nQ 42.328125 56 49.015625 48.375 \r\nQ 55.71875 40.765625 55.71875 27.296875 \r\nQ 55.71875 13.875 49.015625 6.21875 \r\nQ 42.328125 -1.421875 30.609375 -1.421875 \r\nQ 18.84375 -1.421875 12.171875 6.21875 \r\nQ 5.515625 13.875 5.515625 27.296875 \r\nQ 5.515625 40.765625 12.171875 48.375 \r\nQ 18.84375 56 30.609375 56 \r\nz\r\n\" id=\"DejaVuSans-111\"/>\r\n       <path d=\"M 52 44.1875 \r\nQ 55.375 50.25 60.0625 53.125 \r\nQ 64.75 56 71.09375 56 \r\nQ 79.640625 56 84.28125 50.015625 \r\nQ 88.921875 44.046875 88.921875 33.015625 \r\nL 88.921875 0 \r\nL 79.890625 0 \r\nL 79.890625 32.71875 \r\nQ 79.890625 40.578125 77.09375 44.375 \r\nQ 74.3125 48.1875 68.609375 48.1875 \r\nQ 61.625 48.1875 57.5625 43.546875 \r\nQ 53.515625 38.921875 53.515625 30.90625 \r\nL 53.515625 0 \r\nL 44.484375 0 \r\nL 44.484375 32.71875 \r\nQ 44.484375 40.625 41.703125 44.40625 \r\nQ 38.921875 48.1875 33.109375 48.1875 \r\nQ 26.21875 48.1875 22.15625 43.53125 \r\nQ 18.109375 38.875 18.109375 30.90625 \r\nL 18.109375 0 \r\nL 9.078125 0 \r\nL 9.078125 54.6875 \r\nL 18.109375 54.6875 \r\nL 18.109375 46.1875 \r\nQ 21.1875 51.21875 25.484375 53.609375 \r\nQ 29.78125 56 35.6875 56 \r\nQ 41.65625 56 45.828125 52.96875 \r\nQ 50 49.953125 52 44.1875 \r\nz\r\n\" id=\"DejaVuSans-109\"/>\r\n       <path d=\"M 18.109375 8.203125 \r\nL 18.109375 -20.796875 \r\nL 9.078125 -20.796875 \r\nL 9.078125 54.6875 \r\nL 18.109375 54.6875 \r\nL 18.109375 46.390625 \r\nQ 20.953125 51.265625 25.265625 53.625 \r\nQ 29.59375 56 35.59375 56 \r\nQ 45.5625 56 51.78125 48.09375 \r\nQ 58.015625 40.1875 58.015625 27.296875 \r\nQ 58.015625 14.40625 51.78125 6.484375 \r\nQ 45.5625 -1.421875 35.59375 -1.421875 \r\nQ 29.59375 -1.421875 25.265625 0.953125 \r\nQ 20.953125 3.328125 18.109375 8.203125 \r\nz\r\nM 48.6875 27.296875 \r\nQ 48.6875 37.203125 44.609375 42.84375 \r\nQ 40.53125 48.484375 33.40625 48.484375 \r\nQ 26.265625 48.484375 22.1875 42.84375 \r\nQ 18.109375 37.203125 18.109375 27.296875 \r\nQ 18.109375 17.390625 22.1875 11.75 \r\nQ 26.265625 6.109375 33.40625 6.109375 \r\nQ 40.53125 6.109375 44.609375 11.75 \r\nQ 48.6875 17.390625 48.6875 27.296875 \r\nz\r\n\" id=\"DejaVuSans-112\"/>\r\n       <path d=\"M 54.890625 33.015625 \r\nL 54.890625 0 \r\nL 45.90625 0 \r\nL 45.90625 32.71875 \r\nQ 45.90625 40.484375 42.875 44.328125 \r\nQ 39.84375 48.1875 33.796875 48.1875 \r\nQ 26.515625 48.1875 22.3125 43.546875 \r\nQ 18.109375 38.921875 18.109375 30.90625 \r\nL 18.109375 0 \r\nL 9.078125 0 \r\nL 9.078125 54.6875 \r\nL 18.109375 54.6875 \r\nL 18.109375 46.1875 \r\nQ 21.34375 51.125 25.703125 53.5625 \r\nQ 30.078125 56 35.796875 56 \r\nQ 45.21875 56 50.046875 50.171875 \r\nQ 54.890625 44.34375 54.890625 33.015625 \r\nz\r\n\" id=\"DejaVuSans-110\"/>\r\n       <path d=\"M 56.203125 29.59375 \r\nL 56.203125 25.203125 \r\nL 14.890625 25.203125 \r\nQ 15.484375 15.921875 20.484375 11.0625 \r\nQ 25.484375 6.203125 34.421875 6.203125 \r\nQ 39.59375 6.203125 44.453125 7.46875 \r\nQ 49.3125 8.734375 54.109375 11.28125 \r\nL 54.109375 2.78125 \r\nQ 49.265625 0.734375 44.1875 -0.34375 \r\nQ 39.109375 -1.421875 33.890625 -1.421875 \r\nQ 20.796875 -1.421875 13.15625 6.1875 \r\nQ 5.515625 13.8125 5.515625 26.8125 \r\nQ 5.515625 40.234375 12.765625 48.109375 \r\nQ 20.015625 56 32.328125 56 \r\nQ 43.359375 56 49.78125 48.890625 \r\nQ 56.203125 41.796875 56.203125 29.59375 \r\nz\r\nM 47.21875 32.234375 \r\nQ 47.125 39.59375 43.09375 43.984375 \r\nQ 39.0625 48.390625 32.421875 48.390625 \r\nQ 24.90625 48.390625 20.390625 44.140625 \r\nQ 15.875 39.890625 15.1875 32.171875 \r\nz\r\n\" id=\"DejaVuSans-101\"/>\r\n       <path d=\"M 18.3125 70.21875 \r\nL 18.3125 54.6875 \r\nL 36.8125 54.6875 \r\nL 36.8125 47.703125 \r\nL 18.3125 47.703125 \r\nL 18.3125 18.015625 \r\nQ 18.3125 11.328125 20.140625 9.421875 \r\nQ 21.96875 7.515625 27.59375 7.515625 \r\nL 36.8125 7.515625 \r\nL 36.8125 0 \r\nL 27.59375 0 \r\nQ 17.1875 0 13.234375 3.875 \r\nQ 9.28125 7.765625 9.28125 18.015625 \r\nL 9.28125 47.703125 \r\nL 2.6875 47.703125 \r\nL 2.6875 54.6875 \r\nL 9.28125 54.6875 \r\nL 9.28125 70.21875 \r\nz\r\n\" id=\"DejaVuSans-116\"/>\r\n      </defs>\r\n      <use xlink:href=\"#DejaVuSans-80\"/>\r\n      <use x=\"60.302734\" xlink:href=\"#DejaVuSans-67\"/>\r\n      <use x=\"130.126953\" xlink:href=\"#DejaVuSans-65\"/>\r\n      <use x=\"198.535156\" xlink:href=\"#DejaVuSans-32\"/>\r\n      <use x=\"230.322266\" xlink:href=\"#DejaVuSans-67\"/>\r\n      <use x=\"300.146484\" xlink:href=\"#DejaVuSans-111\"/>\r\n      <use x=\"361.328125\" xlink:href=\"#DejaVuSans-109\"/>\r\n      <use x=\"458.740234\" xlink:href=\"#DejaVuSans-112\"/>\r\n      <use x=\"522.216797\" xlink:href=\"#DejaVuSans-111\"/>\r\n      <use x=\"583.398438\" xlink:href=\"#DejaVuSans-110\"/>\r\n      <use x=\"646.777344\" xlink:href=\"#DejaVuSans-101\"/>\r\n      <use x=\"708.300781\" xlink:href=\"#DejaVuSans-110\"/>\r\n      <use x=\"771.679688\" xlink:href=\"#DejaVuSans-116\"/>\r\n      <use x=\"810.888672\" xlink:href=\"#DejaVuSans-32\"/>\r\n      <use x=\"842.675781\" xlink:href=\"#DejaVuSans-49\"/>\r\n     </g>\r\n    </g>\r\n   </g>\r\n   <g id=\"matplotlib.axis_2\">\r\n    <g id=\"ytick_1\">\r\n     <g id=\"line2d_8\">\r\n      <defs>\r\n       <path d=\"M 0 0 \r\nL -3.5 0 \r\n\" id=\"mb9d7d081af\" style=\"stroke:#000000;stroke-width:0.8;\"/>\r\n      </defs>\r\n      <g>\r\n       <use style=\"stroke:#000000;stroke-width:0.8;\" x=\"42.620313\" xlink:href=\"#mb9d7d081af\" y=\"189.35362\"/>\r\n      </g>\r\n     </g>\r\n     <g id=\"text_9\">\r\n      <!-- −2 -->\r\n      <g transform=\"translate(20.878125 193.152839)scale(0.1 -0.1)\">\r\n       <use xlink:href=\"#DejaVuSans-8722\"/>\r\n       <use x=\"83.789062\" xlink:href=\"#DejaVuSans-50\"/>\r\n      </g>\r\n     </g>\r\n    </g>\r\n    <g id=\"ytick_2\">\r\n     <g id=\"line2d_9\">\r\n      <g>\r\n       <use style=\"stroke:#000000;stroke-width:0.8;\" x=\"42.620313\" xlink:href=\"#mb9d7d081af\" y=\"152.338732\"/>\r\n      </g>\r\n     </g>\r\n     <g id=\"text_10\">\r\n      <!-- −1 -->\r\n      <g transform=\"translate(20.878125 156.137951)scale(0.1 -0.1)\">\r\n       <use xlink:href=\"#DejaVuSans-8722\"/>\r\n       <use x=\"83.789062\" xlink:href=\"#DejaVuSans-49\"/>\r\n      </g>\r\n     </g>\r\n    </g>\r\n    <g id=\"ytick_3\">\r\n     <g id=\"line2d_10\">\r\n      <g>\r\n       <use style=\"stroke:#000000;stroke-width:0.8;\" x=\"42.620313\" xlink:href=\"#mb9d7d081af\" y=\"115.323844\"/>\r\n      </g>\r\n     </g>\r\n     <g id=\"text_11\">\r\n      <!-- 0 -->\r\n      <g transform=\"translate(29.257813 119.123063)scale(0.1 -0.1)\">\r\n       <use xlink:href=\"#DejaVuSans-48\"/>\r\n      </g>\r\n     </g>\r\n    </g>\r\n    <g id=\"ytick_4\">\r\n     <g id=\"line2d_11\">\r\n      <g>\r\n       <use style=\"stroke:#000000;stroke-width:0.8;\" x=\"42.620313\" xlink:href=\"#mb9d7d081af\" y=\"78.308956\"/>\r\n      </g>\r\n     </g>\r\n     <g id=\"text_12\">\r\n      <!-- 1 -->\r\n      <g transform=\"translate(29.257813 82.108175)scale(0.1 -0.1)\">\r\n       <use xlink:href=\"#DejaVuSans-49\"/>\r\n      </g>\r\n     </g>\r\n    </g>\r\n    <g id=\"ytick_5\">\r\n     <g id=\"line2d_12\">\r\n      <g>\r\n       <use style=\"stroke:#000000;stroke-width:0.8;\" x=\"42.620313\" xlink:href=\"#mb9d7d081af\" y=\"41.294068\"/>\r\n      </g>\r\n     </g>\r\n     <g id=\"text_13\">\r\n      <!-- 2 -->\r\n      <g transform=\"translate(29.257813 45.093287)scale(0.1 -0.1)\">\r\n       <use xlink:href=\"#DejaVuSans-50\"/>\r\n      </g>\r\n     </g>\r\n    </g>\r\n    <g id=\"text_14\">\r\n     <!-- PCA Component 2 -->\r\n     <g transform=\"translate(14.798438 161.234844)rotate(-90)scale(0.1 -0.1)\">\r\n      <use xlink:href=\"#DejaVuSans-80\"/>\r\n      <use x=\"60.302734\" xlink:href=\"#DejaVuSans-67\"/>\r\n      <use x=\"130.126953\" xlink:href=\"#DejaVuSans-65\"/>\r\n      <use x=\"198.535156\" xlink:href=\"#DejaVuSans-32\"/>\r\n      <use x=\"230.322266\" xlink:href=\"#DejaVuSans-67\"/>\r\n      <use x=\"300.146484\" xlink:href=\"#DejaVuSans-111\"/>\r\n      <use x=\"361.328125\" xlink:href=\"#DejaVuSans-109\"/>\r\n      <use x=\"458.740234\" xlink:href=\"#DejaVuSans-112\"/>\r\n      <use x=\"522.216797\" xlink:href=\"#DejaVuSans-111\"/>\r\n      <use x=\"583.398438\" xlink:href=\"#DejaVuSans-110\"/>\r\n      <use x=\"646.777344\" xlink:href=\"#DejaVuSans-101\"/>\r\n      <use x=\"708.300781\" xlink:href=\"#DejaVuSans-110\"/>\r\n      <use x=\"771.679688\" xlink:href=\"#DejaVuSans-116\"/>\r\n      <use x=\"810.888672\" xlink:href=\"#DejaVuSans-32\"/>\r\n      <use x=\"842.675781\" xlink:href=\"#DejaVuSans-50\"/>\r\n     </g>\r\n    </g>\r\n   </g>\r\n   <g id=\"patch_3\">\r\n    <path d=\"M 42.620313 224.64 \r\nL 42.620313 7.2 \r\n\" style=\"fill:none;stroke:#000000;stroke-linecap:square;stroke-linejoin:miter;stroke-width:0.8;\"/>\r\n   </g>\r\n   <g id=\"patch_4\">\r\n    <path d=\"M 377.420313 224.64 \r\nL 377.420313 7.2 \r\n\" style=\"fill:none;stroke:#000000;stroke-linecap:square;stroke-linejoin:miter;stroke-width:0.8;\"/>\r\n   </g>\r\n   <g id=\"patch_5\">\r\n    <path d=\"M 42.620313 224.64 \r\nL 377.420313 224.64 \r\n\" style=\"fill:none;stroke:#000000;stroke-linecap:square;stroke-linejoin:miter;stroke-width:0.8;\"/>\r\n   </g>\r\n   <g id=\"patch_6\">\r\n    <path d=\"M 42.620313 7.2 \r\nL 377.420313 7.2 \r\n\" style=\"fill:none;stroke:#000000;stroke-linecap:square;stroke-linejoin:miter;stroke-width:0.8;\"/>\r\n   </g>\r\n   <g id=\"legend_1\">\r\n    <g id=\"patch_7\">\r\n     <path d=\"M 289.625 59.234375 \r\nL 370.420313 59.234375 \r\nQ 372.420313 59.234375 372.420313 57.234375 \r\nL 372.420313 14.2 \r\nQ 372.420313 12.2 370.420313 12.2 \r\nL 289.625 12.2 \r\nQ 287.625 12.2 287.625 14.2 \r\nL 287.625 57.234375 \r\nQ 287.625 59.234375 289.625 59.234375 \r\nz\r\n\" style=\"fill:#ffffff;opacity:0.8;stroke:#cccccc;stroke-linejoin:miter;\"/>\r\n    </g>\r\n    <g id=\"PathCollection_4\">\r\n     <g>\r\n      <use style=\"fill:#1f77b4;stroke:#1f77b4;\" x=\"301.625\" xlink:href=\"#mb5b02256af\" y=\"21.173438\"/>\r\n     </g>\r\n    </g>\r\n    <g id=\"text_15\">\r\n     <!-- setosa -->\r\n     <g transform=\"translate(319.625 23.798438)scale(0.1 -0.1)\">\r\n      <defs>\r\n       <path d=\"M 44.28125 53.078125 \r\nL 44.28125 44.578125 \r\nQ 40.484375 46.53125 36.375 47.5 \r\nQ 32.28125 48.484375 27.875 48.484375 \r\nQ 21.1875 48.484375 17.84375 46.4375 \r\nQ 14.5 44.390625 14.5 40.28125 \r\nQ 14.5 37.15625 16.890625 35.375 \r\nQ 19.28125 33.59375 26.515625 31.984375 \r\nL 29.59375 31.296875 \r\nQ 39.15625 29.25 43.1875 25.515625 \r\nQ 47.21875 21.78125 47.21875 15.09375 \r\nQ 47.21875 7.46875 41.1875 3.015625 \r\nQ 35.15625 -1.421875 24.609375 -1.421875 \r\nQ 20.21875 -1.421875 15.453125 -0.5625 \r\nQ 10.6875 0.296875 5.421875 2 \r\nL 5.421875 11.28125 \r\nQ 10.40625 8.6875 15.234375 7.390625 \r\nQ 20.0625 6.109375 24.8125 6.109375 \r\nQ 31.15625 6.109375 34.5625 8.28125 \r\nQ 37.984375 10.453125 37.984375 14.40625 \r\nQ 37.984375 18.0625 35.515625 20.015625 \r\nQ 33.0625 21.96875 24.703125 23.78125 \r\nL 21.578125 24.515625 \r\nQ 13.234375 26.265625 9.515625 29.90625 \r\nQ 5.8125 33.546875 5.8125 39.890625 \r\nQ 5.8125 47.609375 11.28125 51.796875 \r\nQ 16.75 56 26.8125 56 \r\nQ 31.78125 56 36.171875 55.265625 \r\nQ 40.578125 54.546875 44.28125 53.078125 \r\nz\r\n\" id=\"DejaVuSans-115\"/>\r\n       <path d=\"M 34.28125 27.484375 \r\nQ 23.390625 27.484375 19.1875 25 \r\nQ 14.984375 22.515625 14.984375 16.5 \r\nQ 14.984375 11.71875 18.140625 8.90625 \r\nQ 21.296875 6.109375 26.703125 6.109375 \r\nQ 34.1875 6.109375 38.703125 11.40625 \r\nQ 43.21875 16.703125 43.21875 25.484375 \r\nL 43.21875 27.484375 \r\nz\r\nM 52.203125 31.203125 \r\nL 52.203125 0 \r\nL 43.21875 0 \r\nL 43.21875 8.296875 \r\nQ 40.140625 3.328125 35.546875 0.953125 \r\nQ 30.953125 -1.421875 24.3125 -1.421875 \r\nQ 15.921875 -1.421875 10.953125 3.296875 \r\nQ 6 8.015625 6 15.921875 \r\nQ 6 25.140625 12.171875 29.828125 \r\nQ 18.359375 34.515625 30.609375 34.515625 \r\nL 43.21875 34.515625 \r\nL 43.21875 35.40625 \r\nQ 43.21875 41.609375 39.140625 45 \r\nQ 35.0625 48.390625 27.6875 48.390625 \r\nQ 23 48.390625 18.546875 47.265625 \r\nQ 14.109375 46.140625 10.015625 43.890625 \r\nL 10.015625 52.203125 \r\nQ 14.9375 54.109375 19.578125 55.046875 \r\nQ 24.21875 56 28.609375 56 \r\nQ 40.484375 56 46.34375 49.84375 \r\nQ 52.203125 43.703125 52.203125 31.203125 \r\nz\r\n\" id=\"DejaVuSans-97\"/>\r\n      </defs>\r\n      <use xlink:href=\"#DejaVuSans-115\"/>\r\n      <use x=\"52.099609\" xlink:href=\"#DejaVuSans-101\"/>\r\n      <use x=\"113.623047\" xlink:href=\"#DejaVuSans-116\"/>\r\n      <use x=\"152.832031\" xlink:href=\"#DejaVuSans-111\"/>\r\n      <use x=\"214.013672\" xlink:href=\"#DejaVuSans-115\"/>\r\n      <use x=\"266.113281\" xlink:href=\"#DejaVuSans-97\"/>\r\n     </g>\r\n    </g>\r\n    <g id=\"PathCollection_5\">\r\n     <g>\r\n      <use style=\"fill:#ff7f0e;stroke:#ff7f0e;\" x=\"301.625\" xlink:href=\"#m78060d231a\" y=\"35.851563\"/>\r\n     </g>\r\n    </g>\r\n    <g id=\"text_16\">\r\n     <!-- versicolor -->\r\n     <g transform=\"translate(319.625 38.476563)scale(0.1 -0.1)\">\r\n      <defs>\r\n       <path d=\"M 2.984375 54.6875 \r\nL 12.5 54.6875 \r\nL 29.59375 8.796875 \r\nL 46.6875 54.6875 \r\nL 56.203125 54.6875 \r\nL 35.6875 0 \r\nL 23.484375 0 \r\nz\r\n\" id=\"DejaVuSans-118\"/>\r\n       <path d=\"M 41.109375 46.296875 \r\nQ 39.59375 47.171875 37.8125 47.578125 \r\nQ 36.03125 48 33.890625 48 \r\nQ 26.265625 48 22.1875 43.046875 \r\nQ 18.109375 38.09375 18.109375 28.8125 \r\nL 18.109375 0 \r\nL 9.078125 0 \r\nL 9.078125 54.6875 \r\nL 18.109375 54.6875 \r\nL 18.109375 46.1875 \r\nQ 20.953125 51.171875 25.484375 53.578125 \r\nQ 30.03125 56 36.53125 56 \r\nQ 37.453125 56 38.578125 55.875 \r\nQ 39.703125 55.765625 41.0625 55.515625 \r\nz\r\n\" id=\"DejaVuSans-114\"/>\r\n       <path d=\"M 9.421875 54.6875 \r\nL 18.40625 54.6875 \r\nL 18.40625 0 \r\nL 9.421875 0 \r\nz\r\nM 9.421875 75.984375 \r\nL 18.40625 75.984375 \r\nL 18.40625 64.59375 \r\nL 9.421875 64.59375 \r\nz\r\n\" id=\"DejaVuSans-105\"/>\r\n       <path d=\"M 48.78125 52.59375 \r\nL 48.78125 44.1875 \r\nQ 44.96875 46.296875 41.140625 47.34375 \r\nQ 37.3125 48.390625 33.40625 48.390625 \r\nQ 24.65625 48.390625 19.8125 42.84375 \r\nQ 14.984375 37.3125 14.984375 27.296875 \r\nQ 14.984375 17.28125 19.8125 11.734375 \r\nQ 24.65625 6.203125 33.40625 6.203125 \r\nQ 37.3125 6.203125 41.140625 7.25 \r\nQ 44.96875 8.296875 48.78125 10.40625 \r\nL 48.78125 2.09375 \r\nQ 45.015625 0.34375 40.984375 -0.53125 \r\nQ 36.96875 -1.421875 32.421875 -1.421875 \r\nQ 20.0625 -1.421875 12.78125 6.34375 \r\nQ 5.515625 14.109375 5.515625 27.296875 \r\nQ 5.515625 40.671875 12.859375 48.328125 \r\nQ 20.21875 56 33.015625 56 \r\nQ 37.15625 56 41.109375 55.140625 \r\nQ 45.0625 54.296875 48.78125 52.59375 \r\nz\r\n\" id=\"DejaVuSans-99\"/>\r\n       <path d=\"M 9.421875 75.984375 \r\nL 18.40625 75.984375 \r\nL 18.40625 0 \r\nL 9.421875 0 \r\nz\r\n\" id=\"DejaVuSans-108\"/>\r\n      </defs>\r\n      <use xlink:href=\"#DejaVuSans-118\"/>\r\n      <use x=\"59.179688\" xlink:href=\"#DejaVuSans-101\"/>\r\n      <use x=\"120.703125\" xlink:href=\"#DejaVuSans-114\"/>\r\n      <use x=\"161.816406\" xlink:href=\"#DejaVuSans-115\"/>\r\n      <use x=\"213.916016\" xlink:href=\"#DejaVuSans-105\"/>\r\n      <use x=\"241.699219\" xlink:href=\"#DejaVuSans-99\"/>\r\n      <use x=\"296.679688\" xlink:href=\"#DejaVuSans-111\"/>\r\n      <use x=\"357.861328\" xlink:href=\"#DejaVuSans-108\"/>\r\n      <use x=\"385.644531\" xlink:href=\"#DejaVuSans-111\"/>\r\n      <use x=\"446.826172\" xlink:href=\"#DejaVuSans-114\"/>\r\n     </g>\r\n    </g>\r\n    <g id=\"PathCollection_6\">\r\n     <g>\r\n      <use style=\"fill:#2ca02c;stroke:#2ca02c;\" x=\"301.625\" xlink:href=\"#m9ed5e1a05f\" y=\"50.529688\"/>\r\n     </g>\r\n    </g>\r\n    <g id=\"text_17\">\r\n     <!-- virginica -->\r\n     <g transform=\"translate(319.625 53.154688)scale(0.1 -0.1)\">\r\n      <defs>\r\n       <path d=\"M 45.40625 27.984375 \r\nQ 45.40625 37.75 41.375 43.109375 \r\nQ 37.359375 48.484375 30.078125 48.484375 \r\nQ 22.859375 48.484375 18.828125 43.109375 \r\nQ 14.796875 37.75 14.796875 27.984375 \r\nQ 14.796875 18.265625 18.828125 12.890625 \r\nQ 22.859375 7.515625 30.078125 7.515625 \r\nQ 37.359375 7.515625 41.375 12.890625 \r\nQ 45.40625 18.265625 45.40625 27.984375 \r\nz\r\nM 54.390625 6.78125 \r\nQ 54.390625 -7.171875 48.1875 -13.984375 \r\nQ 42 -20.796875 29.203125 -20.796875 \r\nQ 24.46875 -20.796875 20.265625 -20.09375 \r\nQ 16.0625 -19.390625 12.109375 -17.921875 \r\nL 12.109375 -9.1875 \r\nQ 16.0625 -11.328125 19.921875 -12.34375 \r\nQ 23.78125 -13.375 27.78125 -13.375 \r\nQ 36.625 -13.375 41.015625 -8.765625 \r\nQ 45.40625 -4.15625 45.40625 5.171875 \r\nL 45.40625 9.625 \r\nQ 42.625 4.78125 38.28125 2.390625 \r\nQ 33.9375 0 27.875 0 \r\nQ 17.828125 0 11.671875 7.65625 \r\nQ 5.515625 15.328125 5.515625 27.984375 \r\nQ 5.515625 40.671875 11.671875 48.328125 \r\nQ 17.828125 56 27.875 56 \r\nQ 33.9375 56 38.28125 53.609375 \r\nQ 42.625 51.21875 45.40625 46.390625 \r\nL 45.40625 54.6875 \r\nL 54.390625 54.6875 \r\nz\r\n\" id=\"DejaVuSans-103\"/>\r\n      </defs>\r\n      <use xlink:href=\"#DejaVuSans-118\"/>\r\n      <use x=\"59.179688\" xlink:href=\"#DejaVuSans-105\"/>\r\n      <use x=\"86.962891\" xlink:href=\"#DejaVuSans-114\"/>\r\n      <use x=\"126.326172\" xlink:href=\"#DejaVuSans-103\"/>\r\n      <use x=\"189.802734\" xlink:href=\"#DejaVuSans-105\"/>\r\n      <use x=\"217.585938\" xlink:href=\"#DejaVuSans-110\"/>\r\n      <use x=\"280.964844\" xlink:href=\"#DejaVuSans-105\"/>\r\n      <use x=\"308.748047\" xlink:href=\"#DejaVuSans-99\"/>\r\n      <use x=\"363.728516\" xlink:href=\"#DejaVuSans-97\"/>\r\n     </g>\r\n    </g>\r\n   </g>\r\n  </g>\r\n </g>\r\n <defs>\r\n  <clipPath id=\"p610ffe4909\">\r\n   <rect height=\"217.44\" width=\"334.8\" x=\"42.620313\" y=\"7.2\"/>\r\n  </clipPath>\r\n </defs>\r\n</svg>\r\n",
      "image/png": "[encoded data removed]"
     },
     "metadata": {
      "needs_background": "light"
     }
    }
   ],
   "source": [
    "#03. PCA 시각화하기. \n",
    "markers = ['^', 's', 'o']\n",
    "\n",
    "for i, marker in enumerate(markers):\n",
    "    x_axis_data = df_iris_pca[df_iris_pca.species == i]['PC1']\n",
    "    y_axis_data = df_iris_pca[df_iris_pca.species == i]['PC2']\n",
    "    plt.scatter(x_axis_data, y_axis_data, marker=marker,\n",
    "                label=iris.target_names[i])\n",
    "\n",
    "plt.legend()\n",
    "plt.xlabel('PCA Component 1')\n",
    "plt.ylabel('PCA Component 2')\n",
    "plt.show()"
   ]
  },
  {
   "cell_type": "code",
   "execution_count": 11,
   "metadata": {},
   "outputs": [
    {
     "output_type": "execute_result",
     "data": {
      "text/plain": [
       "0.8947368421052632"
      ]
     },
     "metadata": {},
     "execution_count": 11
    }
   ],
   "source": [
    "#04-1. PCA 처리 전 Decision Tree 분류하기. \n",
    "#(1) train, test 데이터셋으로 분류하기. \n",
    "X_train, X_test, y_train, y_test = train_test_split(\n",
    "    iris.data, iris.target, stratify=iris.target, random_state=2021\n",
    ")\n",
    "#(2) Decision Tree 모델 설정하기. \n",
    "dt = DecisionTreeClassifier()\n",
    "\n",
    "#(3) Decision Tree 모델 학습하기. \n",
    "dt.fit(X_train,y_train)\n",
    "\n",
    "#(4) Decision Tree 모델 예측 및 평가하기. \n",
    "dt_pred = dt.predict(X_test)\n",
    "accuracy_score(y_test,dt_pred)"
   ]
  },
  {
   "cell_type": "code",
   "execution_count": 13,
   "metadata": {},
   "outputs": [
    {
     "output_type": "execute_result",
     "data": {
      "text/plain": [
       "0.9210526315789473"
      ]
     },
     "metadata": {},
     "execution_count": 13
    }
   ],
   "source": [
    "#04-2. PCA 처리 후 Decision Tree 분류하기. \n",
    "#(1) train, test 데이터셋으로 분류하기. \n",
    "X_train, X_test, y_train, y_test = train_test_split(\n",
    "    df_iris_pca.iloc[:,:-1], iris.target, stratify=iris.target, random_state=2021\n",
    ")\n",
    "#(2) Decision Tree 모델 설정하기. \n",
    "dt = DecisionTreeClassifier()\n",
    "\n",
    "#(3) Decision Tree 모델 학습하기. \n",
    "dt.fit(X_train,y_train)\n",
    "\n",
    "#(4) Decision Tree 모델 예측 및 평가하기. \n",
    "dt_pred = dt.predict(X_test)\n",
    "accuracy_score(y_test,dt_pred)"
   ]
  },
  {
   "cell_type": "code",
   "execution_count": 14,
   "metadata": {},
   "outputs": [],
   "source": [
    "#MEMO. 모든 데이터셋에 대해 그런 것은 아님!"
   ]
  },
  {
   "cell_type": "code",
   "execution_count": 15,
   "metadata": {},
   "outputs": [
    {
     "output_type": "execute_result",
     "data": {
      "text/plain": [
       "array([[ 3.31675081, -1.44346263],\n",
       "       [ 2.20946492,  0.33339289],\n",
       "       [ 2.51674015, -1.0311513 ],\n",
       "       [ 3.75706561, -2.75637191],\n",
       "       [ 1.00890849, -0.86983082]])"
      ]
     },
     "metadata": {},
     "execution_count": 15
    }
   ],
   "source": [
    "#PLUS. wine 데이터셋 PCA 처리하기. \n",
    "#(1) 데이터셋 불러오기\n",
    "wine = load_wine() \n",
    "\n",
    "#(2) 정규화 시행하기. \n",
    "scaler = StandardScaler()\n",
    "wine_scaling = scaler.fit_transform(wine.data)\n",
    "\n",
    "#(3) PCA 객체 지정하기. \n",
    "pca = PCA(n_components=2)\n",
    "\n",
    "#(2) fit_transform() 메서드를 이용해 PCA 추출하기. \n",
    "wine_pca = pca.fit_transform(wine_scaling)\n",
    "wine_pca[:5]"
   ]
  },
  {
   "cell_type": "code",
   "execution_count": 16,
   "metadata": {},
   "outputs": [
    {
     "output_type": "execute_result",
     "data": {
      "text/plain": [
       "array([0.36198848, 0.1920749 ])"
      ]
     },
     "metadata": {},
     "execution_count": 16
    }
   ],
   "source": [
    "#(3) PCA가 담당하는 변동비율 확인하기. \n",
    "pca.explained_variance_ratio_"
   ]
  },
  {
   "cell_type": "code",
   "execution_count": 17,
   "metadata": {},
   "outputs": [
    {
     "output_type": "execute_result",
     "data": {
      "text/plain": [
       "          PC1       PC2  target\n",
       "0    3.316751 -1.443463       0\n",
       "1    2.209465  0.333393       0\n",
       "2    2.516740 -1.031151       0\n",
       "3    3.757066 -2.756372       0\n",
       "4    1.008908 -0.869831       0\n",
       "..        ...       ...     ...\n",
       "173 -3.370524 -2.216289       2\n",
       "174 -2.601956 -1.757229       2\n",
       "175 -2.677839 -2.760899       2\n",
       "176 -2.387017 -2.297347       2\n",
       "177 -3.208758 -2.768920       2\n",
       "\n",
       "[178 rows x 3 columns]"
      ],
      "text/html": "<div>\n<style scoped>\n    .dataframe tbody tr th:only-of-type {\n        vertical-align: middle;\n    }\n\n    .dataframe tbody tr th {\n        vertical-align: top;\n    }\n\n    .dataframe thead th {\n        text-align: right;\n    }\n</style>\n<table border=\"1\" class=\"dataframe\">\n  <thead>\n    <tr style=\"text-align: right;\">\n      <th></th>\n      <th>PC1</th>\n      <th>PC2</th>\n      <th>target</th>\n    </tr>\n  </thead>\n  <tbody>\n    <tr>\n      <th>0</th>\n      <td>3.316751</td>\n      <td>-1.443463</td>\n      <td>0</td>\n    </tr>\n    <tr>\n      <th>1</th>\n      <td>2.209465</td>\n      <td>0.333393</td>\n      <td>0</td>\n    </tr>\n    <tr>\n      <th>2</th>\n      <td>2.516740</td>\n      <td>-1.031151</td>\n      <td>0</td>\n    </tr>\n    <tr>\n      <th>3</th>\n      <td>3.757066</td>\n      <td>-2.756372</td>\n      <td>0</td>\n    </tr>\n    <tr>\n      <th>4</th>\n      <td>1.008908</td>\n      <td>-0.869831</td>\n      <td>0</td>\n    </tr>\n    <tr>\n      <th>...</th>\n      <td>...</td>\n      <td>...</td>\n      <td>...</td>\n    </tr>\n    <tr>\n      <th>173</th>\n      <td>-3.370524</td>\n      <td>-2.216289</td>\n      <td>2</td>\n    </tr>\n    <tr>\n      <th>174</th>\n      <td>-2.601956</td>\n      <td>-1.757229</td>\n      <td>2</td>\n    </tr>\n    <tr>\n      <th>175</th>\n      <td>-2.677839</td>\n      <td>-2.760899</td>\n      <td>2</td>\n    </tr>\n    <tr>\n      <th>176</th>\n      <td>-2.387017</td>\n      <td>-2.297347</td>\n      <td>2</td>\n    </tr>\n    <tr>\n      <th>177</th>\n      <td>-3.208758</td>\n      <td>-2.768920</td>\n      <td>2</td>\n    </tr>\n  </tbody>\n</table>\n<p>178 rows × 3 columns</p>\n</div>"
     },
     "metadata": {},
     "execution_count": 17
    }
   ],
   "source": [
    "#(4) PCA 처리 후 데이터프레임으로 변환하기. \n",
    "df_wine_pca = pd.DataFrame(wine_pca, columns=['PC1','PC2'])\n",
    "df_wine_pca['target'] = wine.target\n",
    "df_wine_pca"
   ]
  }
 ]
}