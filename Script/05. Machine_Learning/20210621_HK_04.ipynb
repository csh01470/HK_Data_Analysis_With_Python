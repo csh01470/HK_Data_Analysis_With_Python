{
 "metadata": {
  "language_info": {
   "codemirror_mode": {
    "name": "ipython",
    "version": 3
   },
   "file_extension": ".py",
   "mimetype": "text/x-python",
   "name": "python",
   "nbconvert_exporter": "python",
   "pygments_lexer": "ipython3",
   "version": "3.8.8"
  },
  "orig_nbformat": 4,
  "kernelspec": {
   "name": "python3",
   "display_name": "Python 3.8.8 64-bit ('base': conda)"
  },
  "interpreter": {
   "hash": "389278cbb61c1c57cad107a3c1fdd79953aeebb4509d1d7f21aea6fe620a6af8"
  }
 },
 "nbformat": 4,
 "nbformat_minor": 2,
 "cells": [
  {
   "cell_type": "code",
   "execution_count": 2,
   "metadata": {},
   "outputs": [],
   "source": [
    "#2021.06.21. MON\n",
    "#Hankyeong\n",
    "\n",
    "##CH06. K-nearest Neigheraboftsa\n",
    "#00. 패키지 호출\n",
    "from sklearn.datasets import load_breast_cancer\n",
    "from sklearn.preprocessing import MinMaxScaler\n",
    "from sklearn.model_selection import train_test_split\n",
    "from sklearn.metrics import accuracy_score\n",
    "from sklearn.neighbors import KNeighborsClassifier\n",
    "from sklearn.model_selection import GridSearchCV\n",
    "\n",
    "#01. hyper parameter를 default로 설정해 머신러닝하기.  \n",
    "#(1) 데이터셋 입력하기. \n",
    "cancer = load_breast_cancer()\n",
    "\n",
    "#(2) Feature 데이터를 min-max scaling하기\n",
    "scaler = MinMaxScaler()\n",
    "cancer_mm = scaler.fit_transform(cancer.data)\n",
    "\n",
    "#(3) 데이터셋 분할하기.  \n",
    "X_train,X_test,y_train,y_test = train_test_split(\n",
    "    cancer_mm, cancer.target, stratify=cancer.target, test_size=0.2, random_state=2021\n",
    ")"
   ]
  },
  {
   "cell_type": "code",
   "execution_count": 4,
   "metadata": {},
   "outputs": [],
   "source": [
    "#(4) 모델 설정하기.  \n",
    "knn = KNeighborsClassifier()"
   ]
  },
  {
   "cell_type": "code",
   "execution_count": 5,
   "metadata": {},
   "outputs": [
    {
     "output_type": "execute_result",
     "data": {
      "text/plain": [
       "{'algorithm': 'auto',\n",
       " 'leaf_size': 30,\n",
       " 'metric': 'minkowski',\n",
       " 'metric_params': None,\n",
       " 'n_jobs': None,\n",
       " 'n_neighbors': 5,\n",
       " 'p': 2,\n",
       " 'weights': 'uniform'}"
      ]
     },
     "metadata": {},
     "execution_count": 5
    }
   ],
   "source": [
    "#(5) 모델의 하이퍼 파라미터 확인하기. \n",
    "knn.get_params()"
   ]
  },
  {
   "cell_type": "code",
   "execution_count": 6,
   "metadata": {},
   "outputs": [
    {
     "output_type": "execute_result",
     "data": {
      "text/plain": [
       "GridSearchCV(cv=10, estimator=KNeighborsClassifier(),\n",
       "             param_grid={'n_neighbors': [1, 2, 3, 4, 5, 6, 7, 8, 9, 10]})"
      ]
     },
     "metadata": {},
     "execution_count": 6
    }
   ],
   "source": [
    "#(6) GridSearch를 위한 하이퍼파라미터 값 지정하기. \n",
    "params = {\n",
    "    'n_neighbors': [1,2,3,4,5,6,7,8,9,10]\n",
    "}\n",
    "\n",
    "#(7) GridsearchCV() 메서드를 이용해 훈련 모델 할당하기. \n",
    "grid_knn = GridSearchCV(knn, param_grid=params, cv=10)\n",
    "\n",
    "#(8) 모델 학습하기. \n",
    "grid_knn.fit(X_train,y_train)"
   ]
  },
  {
   "cell_type": "code",
   "execution_count": 7,
   "metadata": {},
   "outputs": [
    {
     "output_type": "execute_result",
     "data": {
      "text/plain": [
       "{'n_neighbors': 5}"
      ]
     },
     "metadata": {},
     "execution_count": 7
    }
   ],
   "source": [
    "#(9) 최적 하이퍼 파라미터 확인하기. \n",
    "grid_knn.best_params_"
   ]
  },
  {
   "cell_type": "code",
   "execution_count": 8,
   "metadata": {},
   "outputs": [
    {
     "output_type": "execute_result",
     "data": {
      "text/plain": [
       "0.9669565217391305"
      ]
     },
     "metadata": {},
     "execution_count": 8
    }
   ],
   "source": [
    "#(10) 최적 파라미터에 대한 평가 점수 확인하기. \n",
    "grid_knn.best_score_"
   ]
  },
  {
   "cell_type": "code",
   "execution_count": 10,
   "metadata": {},
   "outputs": [
    {
     "output_type": "execute_result",
     "data": {
      "text/plain": [
       "0.9824561403508771"
      ]
     },
     "metadata": {},
     "execution_count": 10
    }
   ],
   "source": [
    "#(11) test 데이터셋으로 모형 예측 및 평가 하기. \n",
    "grid_knn_best = grid_knn.best_estimator_\n",
    "knn_pred = grid_knn_best.predict(X_test) \n",
    "accuracy_score(y_test,knn_pred)"
   ]
  }
 ]
}