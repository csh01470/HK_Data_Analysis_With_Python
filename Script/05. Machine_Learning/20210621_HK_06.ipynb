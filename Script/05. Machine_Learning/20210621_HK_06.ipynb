{
 "metadata": {
  "language_info": {
   "codemirror_mode": {
    "name": "ipython",
    "version": 3
   },
   "file_extension": ".py",
   "mimetype": "text/x-python",
   "name": "python",
   "nbconvert_exporter": "python",
   "pygments_lexer": "ipython3",
   "version": "3.8.8"
  },
  "orig_nbformat": 4,
  "kernelspec": {
   "name": "python3",
   "display_name": "Python 3.8.8 64-bit ('base': conda)"
  },
  "interpreter": {
   "hash": "389278cbb61c1c57cad107a3c1fdd79953aeebb4509d1d7f21aea6fe620a6af8"
  }
 },
 "nbformat": 4,
 "nbformat_minor": 2,
 "cells": [
  {
   "cell_type": "code",
   "execution_count": 1,
   "metadata": {},
   "outputs": [],
   "source": [
    "#2021.06.21. MON\n",
    "#Hankyeong\n",
    "\n",
    "##CH07. 랜덤 포레스트(Random Forest)\n",
    "#00. 패키지 호출\n",
    "from sklearn.datasets import load_breast_cancer\n",
    "from sklearn.preprocessing import MinMaxScaler\n",
    "from sklearn.model_selection import train_test_split\n",
    "from sklearn.metrics import accuracy_score\n",
    "from sklearn.ensemble import RandomForestClassifier\n",
    "\n",
    "#01. 데이터셋 불러오기. \n",
    "cancer = load_breast_cancer()\n",
    "\n",
    "#02. 데이터셋 min-max scaling하기.\n",
    "scaler = MinMaxScaler()\n",
    "cancer_mm = scaler.fit_transform(cancer.data)\n",
    "\n",
    "#03. train, test 데이터셋으로 분할하기. \n",
    "X_train,X_test,y_train,y_test = train_test_split(\n",
    "    cancer_mm, cancer.target, stratify=cancer.target, test_size=0.2\n",
    ")"
   ]
  },
  {
   "cell_type": "code",
   "execution_count": 2,
   "metadata": {},
   "outputs": [
    {
     "output_type": "execute_result",
     "data": {
      "text/plain": [
       "RandomForestClassifier(random_state=2021)"
      ]
     },
     "metadata": {},
     "execution_count": 2
    }
   ],
   "source": [
    "#04. 모델 정의하기. \n",
    "rf_clf = RandomForestClassifier(random_state=2021)\n",
    "\n",
    "#05. train 데이터셋으로 모델 훈련하기. \n",
    "rf_clf.fit(X_train, y_train)"
   ]
  },
  {
   "cell_type": "code",
   "execution_count": 3,
   "metadata": {},
   "outputs": [
    {
     "output_type": "execute_result",
     "data": {
      "text/plain": [
       "0.9736842105263158"
      ]
     },
     "metadata": {},
     "execution_count": 3
    }
   ],
   "source": [
    "#06. test 데이터셋으로 모형 예측 및 평가 하기. \n",
    "pred = rf_clf.predict(X_test)\n",
    "accuracy_score(y_test,pred)"
   ]
  }
 ]
}