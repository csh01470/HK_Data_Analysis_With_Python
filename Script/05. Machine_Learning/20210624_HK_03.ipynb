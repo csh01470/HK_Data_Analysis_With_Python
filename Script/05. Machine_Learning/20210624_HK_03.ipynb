{
 "metadata": {
  "language_info": {
   "codemirror_mode": {
    "name": "ipython",
    "version": 3
   },
   "file_extension": ".py",
   "mimetype": "text/x-python",
   "name": "python",
   "nbconvert_exporter": "python",
   "pygments_lexer": "ipython3",
   "version": "3.8.8"
  },
  "orig_nbformat": 4,
  "kernelspec": {
   "name": "python3",
   "display_name": "Python 3.8.8 64-bit ('base': conda)"
  },
  "interpreter": {
   "hash": "389278cbb61c1c57cad107a3c1fdd79953aeebb4509d1d7f21aea6fe620a6af8"
  }
 },
 "nbformat": 4,
 "nbformat_minor": 2,
 "cells": [
  {
   "cell_type": "code",
   "execution_count": 3,
   "metadata": {},
   "outputs": [
    {
     "output_type": "execute_result",
     "data": {
      "text/plain": [
       "            id  sentiment                                             review\n",
       "0       5814_8          1  With all this stuff going down at the moment w...\n",
       "1       2381_9          1  \\The Classic War of the Worlds\\\" by Timothy Hi...\n",
       "2       7759_3          0  The film starts with a manager (Nicholas Bell)...\n",
       "3       3630_4          0  It must be assumed that those who praised this...\n",
       "4       9495_8          1  Superbly trashy and wondrously unpretentious 8...\n",
       "...        ...        ...                                                ...\n",
       "24995   3453_3          0  It seems like more consideration has gone into...\n",
       "24996   5064_1          0  I don't believe they made this film. Completel...\n",
       "24997  10905_3          0  Guy is a loser. Can't get girls, needs to buil...\n",
       "24998  10194_3          0  This 30 minute documentary Buñuel made in the ...\n",
       "24999   8478_8          1  I saw this movie as a child and it broke my he...\n",
       "\n",
       "[25000 rows x 3 columns]"
      ],
      "text/html": "<div>\n<style scoped>\n    .dataframe tbody tr th:only-of-type {\n        vertical-align: middle;\n    }\n\n    .dataframe tbody tr th {\n        vertical-align: top;\n    }\n\n    .dataframe thead th {\n        text-align: right;\n    }\n</style>\n<table border=\"1\" class=\"dataframe\">\n  <thead>\n    <tr style=\"text-align: right;\">\n      <th></th>\n      <th>id</th>\n      <th>sentiment</th>\n      <th>review</th>\n    </tr>\n  </thead>\n  <tbody>\n    <tr>\n      <th>0</th>\n      <td>5814_8</td>\n      <td>1</td>\n      <td>With all this stuff going down at the moment w...</td>\n    </tr>\n    <tr>\n      <th>1</th>\n      <td>2381_9</td>\n      <td>1</td>\n      <td>\\The Classic War of the Worlds\\\" by Timothy Hi...</td>\n    </tr>\n    <tr>\n      <th>2</th>\n      <td>7759_3</td>\n      <td>0</td>\n      <td>The film starts with a manager (Nicholas Bell)...</td>\n    </tr>\n    <tr>\n      <th>3</th>\n      <td>3630_4</td>\n      <td>0</td>\n      <td>It must be assumed that those who praised this...</td>\n    </tr>\n    <tr>\n      <th>4</th>\n      <td>9495_8</td>\n      <td>1</td>\n      <td>Superbly trashy and wondrously unpretentious 8...</td>\n    </tr>\n    <tr>\n      <th>...</th>\n      <td>...</td>\n      <td>...</td>\n      <td>...</td>\n    </tr>\n    <tr>\n      <th>24995</th>\n      <td>3453_3</td>\n      <td>0</td>\n      <td>It seems like more consideration has gone into...</td>\n    </tr>\n    <tr>\n      <th>24996</th>\n      <td>5064_1</td>\n      <td>0</td>\n      <td>I don't believe they made this film. Completel...</td>\n    </tr>\n    <tr>\n      <th>24997</th>\n      <td>10905_3</td>\n      <td>0</td>\n      <td>Guy is a loser. Can't get girls, needs to buil...</td>\n    </tr>\n    <tr>\n      <th>24998</th>\n      <td>10194_3</td>\n      <td>0</td>\n      <td>This 30 minute documentary Buñuel made in the ...</td>\n    </tr>\n    <tr>\n      <th>24999</th>\n      <td>8478_8</td>\n      <td>1</td>\n      <td>I saw this movie as a child and it broke my he...</td>\n    </tr>\n  </tbody>\n</table>\n<p>25000 rows × 3 columns</p>\n</div>"
     },
     "metadata": {},
     "execution_count": 3
    }
   ],
   "source": [
    "#2021.06.24. THUR\n",
    "#Hankyeong\n",
    "\n",
    "#00. 패키지 호출\n",
    "import numpy as np \n",
    "import pandas as pd\n",
    "import re \n",
    "import warnings\n",
    "from sklearn.model_selection import train_test_split, GridSearchCV\n",
    "from sklearn.feature_extraction.text import CountVectorizer\n",
    "from sklearn.linear_model import LogisticRegression\n",
    "\n",
    "#00-1. warning message ignore\n",
    "warnings.filterwarnings(action='ignore')\n",
    "\n",
    "#11. IMDB 영화평 감성분석하기. (데이터셋 탐색 및 전처리)\n",
    "#(1) 데이터셋 불러오기. \n",
    "review_train = pd.read_csv('../../data/word2vec_nlp_tutorial_labeledtraindata.tsv', sep='\\t')\n",
    "review_test = pd.read_csv(\"../../data/word2vec_nlp_tutorial_testData.tsv\", sep='\\t')\n",
    "\n",
    "#(2) train 데이터셋 파악하기. \n",
    "#①\n",
    "review_train"
   ]
  },
  {
   "cell_type": "code",
   "execution_count": 4,
   "metadata": {},
   "outputs": [
    {
     "output_type": "stream",
     "name": "stdout",
     "text": [
      "<class 'pandas.core.frame.DataFrame'>\nRangeIndex: 25000 entries, 0 to 24999\nData columns (total 3 columns):\n #   Column     Non-Null Count  Dtype \n---  ------     --------------  ----- \n 0   id         25000 non-null  object\n 1   sentiment  25000 non-null  int64 \n 2   review     25000 non-null  object\ndtypes: int64(1), object(2)\nmemory usage: 586.1+ KB\n"
     ]
    }
   ],
   "source": [
    "#②\n",
    "review_train.info()"
   ]
  },
  {
   "cell_type": "code",
   "execution_count": 5,
   "metadata": {},
   "outputs": [
    {
     "output_type": "execute_result",
     "data": {
      "text/plain": [
       "\"With all this stuff going down at the moment with MJ i've started listening to his music, watching the odd documentary here and there, watched The Wiz and watched Moonwalker again. Maybe i just want to get a certain insight into this guy who i thought was really cool in the eighties just to maybe make up my mind whether he is guilty or innocent. Moonwalker is part biography, part feature film which i remember going to see at the cinema when it was originally released. Some of it has subtle messages about MJ's feeling towards the press and also the obvious message of drugs are bad m'kay.<br /><br />Visually impressive but of course this is all about Michael Jackson so unless you remotely like MJ in anyway then you are going to hate this and find it boring. Some may call MJ an egotist for consenting to the making of this movie BUT MJ and most of his fans would say that he made it for the fans which if true is really nice of him.<br /><br />The actual feature film bit when it finally starts is only on for 20 minutes or so excluding the Smooth Criminal sequence and Joe Pesci is convincing as a psychopathic all powerful drug lord. Why he wants MJ dead so bad is beyond me. Because MJ overheard his plans? Nah, Joe Pesci's character ranted that he wanted people to know it is he who is supplying drugs etc so i dunno, maybe he just hates MJ's music.<br /><br />Lots of cool things in this like MJ turning into a car and a robot and the whole Speed Demon sequence. Also, the director must have had the patience of a saint when it came to filming the kiddy Bad sequence as usually directors hate working with one kid let alone a whole bunch of them performing a complex dance scene.<br /><br />Bottom line, this movie is for people who like MJ on one level or another (which i think is most people). If not, then stay away. It does try and give off a wholesome message and ironically MJ's bestest buddy in this movie is a girl! Michael Jackson is truly one of the most talented people ever to grace this planet but is he guilty? Well, with all the attention i've gave this subject....hmmm well i don't know because people can be different behind closed doors, i know this for a fact. He is either an extremely nice but stupid guy or one of the most sickest liars. I hope he is not the latter.\""
      ]
     },
     "metadata": {},
     "execution_count": 5
    }
   ],
   "source": [
    "#③\n",
    "review_train['review'][0]"
   ]
  },
  {
   "cell_type": "code",
   "execution_count": 6,
   "metadata": {},
   "outputs": [
    {
     "output_type": "execute_result",
     "data": {
      "text/plain": [
       "             id                                             review\n",
       "0      12311_10  Naturally in a film who's main themes are of m...\n",
       "1        8348_2  This movie is a disaster within a disaster fil...\n",
       "2        5828_4  All in all, this is a movie for kids. We saw i...\n",
       "3        7186_2  Afraid of the Dark left me with the impression...\n",
       "4       12128_7  A very accurate depiction of small time mob li...\n",
       "...         ...                                                ...\n",
       "24995   2155_10  Sony Pictures Classics, I'm looking at you! So...\n",
       "24996     59_10  I always felt that Ms. Merkerson had never got...\n",
       "24997    2531_1  I was so disappointed in this movie. I am very...\n",
       "24998    7772_8  From the opening sequence, filled with black a...\n",
       "24999  11465_10  This is a great horror film for people who don...\n",
       "\n",
       "[25000 rows x 2 columns]"
      ],
      "text/html": "<div>\n<style scoped>\n    .dataframe tbody tr th:only-of-type {\n        vertical-align: middle;\n    }\n\n    .dataframe tbody tr th {\n        vertical-align: top;\n    }\n\n    .dataframe thead th {\n        text-align: right;\n    }\n</style>\n<table border=\"1\" class=\"dataframe\">\n  <thead>\n    <tr style=\"text-align: right;\">\n      <th></th>\n      <th>id</th>\n      <th>review</th>\n    </tr>\n  </thead>\n  <tbody>\n    <tr>\n      <th>0</th>\n      <td>12311_10</td>\n      <td>Naturally in a film who's main themes are of m...</td>\n    </tr>\n    <tr>\n      <th>1</th>\n      <td>8348_2</td>\n      <td>This movie is a disaster within a disaster fil...</td>\n    </tr>\n    <tr>\n      <th>2</th>\n      <td>5828_4</td>\n      <td>All in all, this is a movie for kids. We saw i...</td>\n    </tr>\n    <tr>\n      <th>3</th>\n      <td>7186_2</td>\n      <td>Afraid of the Dark left me with the impression...</td>\n    </tr>\n    <tr>\n      <th>4</th>\n      <td>12128_7</td>\n      <td>A very accurate depiction of small time mob li...</td>\n    </tr>\n    <tr>\n      <th>...</th>\n      <td>...</td>\n      <td>...</td>\n    </tr>\n    <tr>\n      <th>24995</th>\n      <td>2155_10</td>\n      <td>Sony Pictures Classics, I'm looking at you! So...</td>\n    </tr>\n    <tr>\n      <th>24996</th>\n      <td>59_10</td>\n      <td>I always felt that Ms. Merkerson had never got...</td>\n    </tr>\n    <tr>\n      <th>24997</th>\n      <td>2531_1</td>\n      <td>I was so disappointed in this movie. I am very...</td>\n    </tr>\n    <tr>\n      <th>24998</th>\n      <td>7772_8</td>\n      <td>From the opening sequence, filled with black a...</td>\n    </tr>\n    <tr>\n      <th>24999</th>\n      <td>11465_10</td>\n      <td>This is a great horror film for people who don...</td>\n    </tr>\n  </tbody>\n</table>\n<p>25000 rows × 2 columns</p>\n</div>"
     },
     "metadata": {},
     "execution_count": 6
    }
   ],
   "source": [
    "#(3) test 데이터셋 파악하기.\n",
    "#①\n",
    "review_test"
   ]
  },
  {
   "cell_type": "code",
   "execution_count": 7,
   "metadata": {},
   "outputs": [
    {
     "output_type": "stream",
     "name": "stdout",
     "text": [
      "<class 'pandas.core.frame.DataFrame'>\nRangeIndex: 25000 entries, 0 to 24999\nData columns (total 2 columns):\n #   Column  Non-Null Count  Dtype \n---  ------  --------------  ----- \n 0   id      25000 non-null  object\n 1   review  25000 non-null  object\ndtypes: object(2)\nmemory usage: 390.8+ KB\n"
     ]
    }
   ],
   "source": [
    "#②\n",
    "review_test.info()"
   ]
  },
  {
   "cell_type": "code",
   "execution_count": 8,
   "metadata": {},
   "outputs": [
    {
     "output_type": "execute_result",
     "data": {
      "text/plain": [
       "\"Naturally in a film who's main themes are of mortality, nostalgia, and loss of innocence it is perhaps not surprising that it is rated more highly by older viewers than younger ones. However there is a craftsmanship and completeness to the film which anyone can enjoy. The pace is steady and constant, the characters full and engaging, the relationships and interactions natural showing that you do not need floods of tears to show emotion, screams to show fear, shouting to show dispute or violence to show anger. Naturally Joyce's short story lends the film a ready made structure as perfect as a polished diamond, but the small changes Huston makes such as the inclusion of the poem fit in neatly. It is truly a masterpiece of tact, subtlety and overwhelming beauty.\""
      ]
     },
     "metadata": {},
     "execution_count": 8
    }
   ],
   "source": [
    "#③\n",
    "review_test['review'][0]"
   ]
  },
  {
   "cell_type": "code",
   "execution_count": 9,
   "metadata": {},
   "outputs": [
    {
     "output_type": "execute_result",
     "data": {
      "text/plain": [
       "'With all this stuff going down at the moment with MJ ive started listening to his music watching the odd documentary here and there watched The Wiz and watched Moonwalker again Maybe i just want to get a certain insight into this guy who i thought was really cool in the eighties just to maybe make up my mind whether he is guilty or innocent Moonwalker is part biography part feature film which i remember going to see at the cinema when it was originally released Some of it has subtle messages about MJs feeling towards the press and also the obvious message of drugs are bad mkaybr br Visually impressive but of course this is all about Michael Jackson so unless you remotely like MJ in anyway then you are going to hate this and find it boring Some may call MJ an egotist for consenting to the making of this movie BUT MJ and most of his fans would say that he made it for the fans which if true is really nice of himbr br The actual feature film bit when it finally starts is only on for  minutes or so excluding the Smooth Criminal sequence and Joe Pesci is convincing as a psychopathic all powerful drug lord Why he wants MJ dead so bad is beyond me Because MJ overheard his plans Nah Joe Pescis character ranted that he wanted people to know it is he who is supplying drugs etc so i dunno maybe he just hates MJs musicbr br Lots of cool things in this like MJ turning into a car and a robot and the whole Speed Demon sequence Also the director must have had the patience of a saint when it came to filming the kiddy Bad sequence as usually directors hate working with one kid let alone a whole bunch of them performing a complex dance scenebr br Bottom line this movie is for people who like MJ on one level or another which i think is most people If not then stay away It does try and give off a wholesome message and ironically MJs bestest buddy in this movie is a girl Michael Jackson is truly one of the most talented people ever to grace this planet but is he guilty Well with all the attention ive gave this subjecthmmm well i dont know because people can be different behind closed doors i know this for a fact He is either an extremely nice but stupid guy or one of the most sickest liars I hope he is not the latter'"
      ]
     },
     "metadata": {},
     "execution_count": 9
    }
   ],
   "source": [
    "#(4) train 데이터셋의 review 변수 전처리하기. \n",
    "review_train['review'] = review_train['review'].apply(lambda x: re.sub('[^A-Za-z ]','',x))\n",
    "review_train['review'][0]"
   ]
  },
  {
   "cell_type": "code",
   "execution_count": 10,
   "metadata": {},
   "outputs": [
    {
     "output_type": "execute_result",
     "data": {
      "text/plain": [
       "'Naturally in a film whos main themes are of mortality nostalgia and loss of innocence it is perhaps not surprising that it is rated more highly by older viewers than younger ones However there is a craftsmanship and completeness to the film which anyone can enjoy The pace is steady and constant the characters full and engaging the relationships and interactions natural showing that you do not need floods of tears to show emotion screams to show fear shouting to show dispute or violence to show anger Naturally Joyces short story lends the film a ready made structure as perfect as a polished diamond but the small changes Huston makes such as the inclusion of the poem fit in neatly It is truly a masterpiece of tact subtlety and overwhelming beauty'"
      ]
     },
     "metadata": {},
     "execution_count": 10
    }
   ],
   "source": [
    "#(5) test 데이터셋의 review 변수 전처리하기. \n",
    "review_test['review'] = review_test['review'].apply(lambda x: re.sub('[^A-Za-z ]','',x))\n",
    "review_test['review'][0]"
   ]
  },
  {
   "cell_type": "code",
   "execution_count": 11,
   "metadata": {},
   "outputs": [],
   "source": [
    "#12. 데이터셋 분할하기. \n",
    "X_train = review_train['review']\n",
    "X_test  = review_test['review']\n",
    "y_train = review_train['sentiment'] "
   ]
  },
  {
   "cell_type": "code",
   "execution_count": 12,
   "metadata": {},
   "outputs": [],
   "source": [
    "#13. Count Vectorizer로 텍스트 데이터 벡터화 하기. \n",
    "#(1) Count Vectorizer 객체 생성하기. \n",
    "count_vect = CountVectorizer(stop_words='english', ngram_range=(1,2))\n",
    "\n",
    "#(2) X_train 데이터셋을 넣어 학습하기. \n",
    "count_vect.fit(X_train)\n",
    "\n",
    "#(3) transform() 메서드를 이용해 벡터화하기. \n",
    "X_train_cv = count_vect.transform(X_train)\n",
    "X_test_cv = count_vect.transform(X_test)"
   ]
  },
  {
   "cell_type": "code",
   "execution_count": 18,
   "metadata": {},
   "outputs": [
    {
     "output_type": "execute_result",
     "data": {
      "text/plain": [
       "GridSearchCV(cv=5, estimator=LogisticRegression(),\n",
       "             param_grid={'C': [1, 2, 3, 4, 5]})"
      ]
     },
     "metadata": {},
     "execution_count": 18
    }
   ],
   "source": [
    "#14. Logistic Regression 모델로 분류하기. + gridsearchCV\n",
    "#(1) 모델 설정하기. \n",
    "lr = LogisticRegression()\n",
    "\n",
    "#(2) 하이퍼 파라미터 범위 지정하기. \n",
    "params = {'C':[1,2,3,4,5]}\n",
    "\n",
    "#(3) gridsearchCV 모델 설정하기.  \n",
    "gscv_lr = GridSearchCV(lr, param_grid=params, cv=5)\n",
    "\n",
    "#(4) 모델 학습하기. \n",
    "gscv_lr.fit(X_train_cv,y_train)"
   ]
  },
  {
   "cell_type": "code",
   "execution_count": 19,
   "metadata": {},
   "outputs": [
    {
     "output_type": "execute_result",
     "data": {
      "text/plain": [
       "{'C': 2}"
      ]
     },
     "metadata": {},
     "execution_count": 19
    }
   ],
   "source": [
    "#(5) 모델의 최적 파라미터 확인하기. \n",
    "gscv_lr.best_params_"
   ]
  },
  {
   "cell_type": "code",
   "execution_count": 20,
   "metadata": {},
   "outputs": [
    {
     "output_type": "execute_result",
     "data": {
      "text/plain": [
       "0.8856000000000002"
      ]
     },
     "metadata": {},
     "execution_count": 20
    }
   ],
   "source": [
    "#(6) 모델의 학습 점수 확인하기. \n",
    "gscv_lr.best_score_"
   ]
  }
 ]
}