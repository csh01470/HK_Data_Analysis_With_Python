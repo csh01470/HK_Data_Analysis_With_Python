{
 "metadata": {
  "language_info": {
   "codemirror_mode": {
    "name": "ipython",
    "version": 3
   },
   "file_extension": ".py",
   "mimetype": "text/x-python",
   "name": "python",
   "nbconvert_exporter": "python",
   "pygments_lexer": "ipython3",
   "version": "3.8.8"
  },
  "orig_nbformat": 4,
  "kernelspec": {
   "name": "python3",
   "display_name": "Python 3.8.8 64-bit ('base': conda)"
  },
  "interpreter": {
   "hash": "389278cbb61c1c57cad107a3c1fdd79953aeebb4509d1d7f21aea6fe620a6af8"
  }
 },
 "nbformat": 4,
 "nbformat_minor": 2,
 "cells": [
  {
   "cell_type": "code",
   "execution_count": 24,
   "metadata": {},
   "outputs": [
    {
     "output_type": "execute_result",
     "data": {
      "text/plain": [
       "DecisionTreeClassifier()"
      ]
     },
     "metadata": {},
     "execution_count": 24
    }
   ],
   "source": [
    "#2021.06.17. THUR\n",
    "#Hankyeong\n",
    "\n",
    "#00. 패키지 호출\n",
    "from sklearn.datasets import load_iris \n",
    "from sklearn.tree import DecisionTreeClassifier\n",
    "from sklearn.metrics import accuracy_score\n",
    "from sklearn.model_selection import cross_validate\n",
    "from sklearn.model_selection import cross_val_score \n",
    "from sklearn.model_selection import train_test_split\n",
    "from sklearn.model_selection import GridSearchCV\n",
    "import pandas as pd \n",
    "import numpy as np \n",
    "\n",
    "#PLUS. train, test 데이터셋을 분리하지 않고 머신러닝을 수행할 경우\n",
    "#(1) 데이터셋 불러오기. \n",
    "iris = load_iris()\n",
    "\n",
    "#(2) 모델 설정하기. \n",
    "dt_clf = DecisionTreeClassifier()\n",
    "\n",
    "#(3) 학습 수행하기. \n",
    "dt_clf.fit(iris.data, iris.target)"
   ]
  },
  {
   "cell_type": "code",
   "execution_count": 6,
   "metadata": {},
   "outputs": [
    {
     "output_type": "execute_result",
     "data": {
      "text/plain": [
       "1.0"
      ]
     },
     "metadata": {},
     "execution_count": 6
    }
   ],
   "source": [
    "#(4) 예측된 값으로 정확도 평가하기. \n",
    "pred = dt_clf.predict(iris.data)\n",
    "score = accuracy_score(iris.target,pred)\n",
    "score"
   ]
  },
  {
   "cell_type": "code",
   "execution_count": 7,
   "metadata": {},
   "outputs": [],
   "source": [
    "#MEMO. 정확도 점수가 1에 가까운 것은 일반화성능이 떨어지고 과적합이 발생했다는 것을 의미함.\n",
    "#      단, 여기서는 데이터셋을 분리하지 않았으므로 해당 머신러닝 과정은 아무 의미 없음.  "
   ]
  },
  {
   "cell_type": "code",
   "execution_count": 15,
   "metadata": {},
   "outputs": [
    {
     "output_type": "execute_result",
     "data": {
      "text/plain": [
       "{'fit_time': array([0.00099707, 0.        , 0.        , 0.        , 0.        ]),\n",
       " 'score_time': array([0., 0., 0., 0., 0.]),\n",
       " 'test_score': array([0.91666667, 0.91666667, 0.95833333, 0.95833333, 0.91666667])}"
      ]
     },
     "metadata": {},
     "execution_count": 15
    }
   ],
   "source": [
    "#11. corss_validate() 메서드를 이용해 train 데이터셋에서 k-fold 교차검증(Cross-validation)하기. \n",
    "#(1) 모델 지정하기. \n",
    "dtc = DecisionTreeClassifier() \n",
    "\n",
    "#(2) train, test 데이터셋 분할하기. \n",
    "X_train, X_test, y_train, y_test = train_test_split(iris.data, iris.target, test_size=0.2)\n",
    "\n",
    "#(3) k값을 5으로 지정해 모형을 교차검증하기. \n",
    "cross_validate(dtc, X_train, y_train, cv=5) "
   ]
  },
  {
   "cell_type": "code",
   "execution_count": null,
   "metadata": {},
   "outputs": [],
   "source": [
    "#MEMO. 여기서 test_score는 test 데이터셋에 대한 검증이 아니라 검증용 데이터셋에 대한 점수를 의미함."
   ]
  },
  {
   "cell_type": "code",
   "execution_count": 16,
   "metadata": {},
   "outputs": [
    {
     "output_type": "execute_result",
     "data": {
      "text/plain": [
       "{'fit_time': array([0.0059917 , 0.00098586, 0.00099707, 0.00100827, 0.00098658]),\n",
       " 'score_time': array([0., 0., 0., 0., 0.]),\n",
       " 'test_score': array([0.91666667, 0.91666667, 0.95833333, 0.95833333, 0.91666667]),\n",
       " 'train_score': array([1., 1., 1., 1., 1.])}"
      ]
     },
     "metadata": {},
     "execution_count": 16
    }
   ],
   "source": [
    "#PLUS. train_score도 보고싶은 경우, return_train_score 파라미터도 지정하면 됨. \n",
    "cross_validate(dtc, X_train, y_train, cv=5, return_train_score=True) "
   ]
  },
  {
   "cell_type": "code",
   "execution_count": 17,
   "metadata": {},
   "outputs": [
    {
     "output_type": "execute_result",
     "data": {
      "text/plain": [
       "0    12\n",
       "1    10\n",
       "2     8\n",
       "dtype: int64"
      ]
     },
     "metadata": {},
     "execution_count": 17
    }
   ],
   "source": [
    "#12. train, test 데이터셋을 stratifiy하게 분할하기. \n",
    "#(1) y_test의 빈도 확인하기. \n",
    "df= pd.DataFrame(y_test)\n",
    "df.value_counts()"
   ]
  },
  {
   "cell_type": "code",
   "execution_count": null,
   "metadata": {},
   "outputs": [],
   "source": [
    "#MEMO. y_test에 0(setosa)이 14개 , 1(Versicolor)이 10개, 2(Virginica)가 6개라서 균등하지 않게 분포되어 있음.  "
   ]
  },
  {
   "cell_type": "code",
   "execution_count": 20,
   "metadata": {},
   "outputs": [],
   "source": [
    "#(2) stratify 파라미터를 이용해 target의 분포대로 분할하기. \n",
    "X_train, X_test, y_train, y_test = train_test_split(iris.data, iris.target, test_size=0.2, random_state=2021, stratify=iris.target)"
   ]
  },
  {
   "cell_type": "code",
   "execution_count": 22,
   "metadata": {},
   "outputs": [
    {
     "output_type": "execute_result",
     "data": {
      "text/plain": [
       "0    10\n",
       "1    10\n",
       "2    10\n",
       "dtype: int64"
      ]
     },
     "metadata": {},
     "execution_count": 22
    }
   ],
   "source": [
    "#(3) y_test의 분포 재확인하기. \n",
    "df= pd.DataFrame(y_test)\n",
    "df.value_counts()"
   ]
  },
  {
   "cell_type": "code",
   "execution_count": null,
   "metadata": {},
   "outputs": [],
   "source": [
    "#MEMO. iris 데이터셋의 target 분포는 균등하므로, test 데이터셋에도 균등하게 분포됨. "
   ]
  },
  {
   "cell_type": "code",
   "execution_count": 23,
   "metadata": {},
   "outputs": [],
   "source": [
    "#13. gridsearchCV() 함수를 이용해 하이퍼 파라미터 튜닝과 교차검증을 한 번에 수행하기. \n",
    "#(1) 모델 설정하기. \n",
    "dtc = DecisionTreeClassifier(random_state=2021)\n",
    "\n",
    "#(2) 하이퍼 파라미터의 범위 설정하기. \n",
    "params = {\n",
    "    'max_depth' : [2,3,4,5],\n",
    "    'min_samples_split' : [2,3]\n",
    "}\n",
    "#MEMO. 하이퍼 파라미터를 지정할 때는 딕셔너리 형태로 지정해야함. "
   ]
  },
  {
   "cell_type": "code",
   "execution_count": 25,
   "metadata": {},
   "outputs": [],
   "source": [
    "#(3) GridsearchCV() 함수 이용하기. \n",
    "grid_dtc = GridSearchCV(dtc, param_grid=params, cv=5)"
   ]
  },
  {
   "cell_type": "code",
   "execution_count": 26,
   "metadata": {},
   "outputs": [
    {
     "output_type": "execute_result",
     "data": {
      "text/plain": [
       "GridSearchCV(cv=3, estimator=DecisionTreeClassifier(random_state=2021),\n",
       "             param_grid={'max_depth': [2, 3, 4, 5],\n",
       "                         'min_samples_split': [2, 3]})"
      ]
     },
     "metadata": {},
     "execution_count": 26
    }
   ],
   "source": [
    "#(4) train 데이터셋을 통해 학습하기. \n",
    "grid_dtc.fit(X_train, y_train)"
   ]
  },
  {
   "cell_type": "code",
   "execution_count": 27,
   "metadata": {},
   "outputs": [
    {
     "output_type": "execute_result",
     "data": {
      "text/plain": [
       "{'mean_fit_time': array([0.00266353, 0.00033259, 0.00065811, 0.00099738, 0.00033236,\n",
       "        0.00099699, 0.        , 0.        ]),\n",
       " 'std_fit_time': array([3.08871125e-03, 4.70358829e-04, 4.65445435e-04, 8.77806426e-07,\n",
       "        4.70021655e-04, 6.03889155e-06, 0.00000000e+00, 0.00000000e+00]),\n",
       " 'mean_score_time': array([0.00033228, 0.00032322, 0.        , 0.        , 0.00033275,\n",
       "        0.        , 0.00066487, 0.00066495]),\n",
       " 'std_score_time': array([0.00046991, 0.0004571 , 0.        , 0.        , 0.00047058,\n",
       "        0.        , 0.00047013, 0.00047019]),\n",
       " 'param_max_depth': masked_array(data=[2, 2, 3, 3, 4, 4, 5, 5],\n",
       "              mask=[False, False, False, False, False, False, False, False],\n",
       "        fill_value='?',\n",
       "             dtype=object),\n",
       " 'param_min_samples_split': masked_array(data=[2, 3, 2, 3, 2, 3, 2, 3],\n",
       "              mask=[False, False, False, False, False, False, False, False],\n",
       "        fill_value='?',\n",
       "             dtype=object),\n",
       " 'params': [{'max_depth': 2, 'min_samples_split': 2},\n",
       "  {'max_depth': 2, 'min_samples_split': 3},\n",
       "  {'max_depth': 3, 'min_samples_split': 2},\n",
       "  {'max_depth': 3, 'min_samples_split': 3},\n",
       "  {'max_depth': 4, 'min_samples_split': 2},\n",
       "  {'max_depth': 4, 'min_samples_split': 3},\n",
       "  {'max_depth': 5, 'min_samples_split': 2},\n",
       "  {'max_depth': 5, 'min_samples_split': 3}],\n",
       " 'split0_test_score': array([1., 1., 1., 1., 1., 1., 1., 1.]),\n",
       " 'split1_test_score': array([0.975, 0.975, 0.975, 0.975, 0.975, 0.975, 0.975, 0.975]),\n",
       " 'split2_test_score': array([0.9, 0.9, 0.9, 0.9, 0.9, 0.9, 0.9, 0.9]),\n",
       " 'mean_test_score': array([0.95833333, 0.95833333, 0.95833333, 0.95833333, 0.95833333,\n",
       "        0.95833333, 0.95833333, 0.95833333]),\n",
       " 'std_test_score': array([0.04249183, 0.04249183, 0.04249183, 0.04249183, 0.04249183,\n",
       "        0.04249183, 0.04249183, 0.04249183]),\n",
       " 'rank_test_score': array([1, 1, 1, 1, 1, 1, 1, 1])}"
      ]
     },
     "metadata": {},
     "execution_count": 27
    }
   ],
   "source": [
    "#(5) 결과 확인하기. \n",
    "grid_dtc.cv_results_"
   ]
  },
  {
   "cell_type": "code",
   "execution_count": 28,
   "metadata": {},
   "outputs": [
    {
     "output_type": "execute_result",
     "data": {
      "text/plain": [
       "{'max_depth': 2, 'min_samples_split': 2}"
      ]
     },
     "metadata": {},
     "execution_count": 28
    }
   ],
   "source": [
    "#(6) 최적 파라미터 확인하기. \n",
    "grid_dtc.best_params_"
   ]
  },
  {
   "cell_type": "code",
   "execution_count": 29,
   "metadata": {},
   "outputs": [
    {
     "output_type": "execute_result",
     "data": {
      "text/plain": [
       "0.9583333333333334"
      ]
     },
     "metadata": {},
     "execution_count": 29
    }
   ],
   "source": [
    "#(7) 최적 파라미터에 의한 Accuracy값 확인하기. \n",
    "grid_dtc.best_score_"
   ]
  },
  {
   "cell_type": "code",
   "execution_count": 30,
   "metadata": {},
   "outputs": [
    {
     "output_type": "execute_result",
     "data": {
      "text/plain": [
       "0.9"
      ]
     },
     "metadata": {},
     "execution_count": 30
    }
   ],
   "source": [
    "#(8) 최적 파라미터로 학습한 estimator로 test 데이터셋 예측하기. \n",
    "best_estimator = grid_dtc.best_estimator_\n",
    "best_estimator.score(X_test,y_test)"
   ]
  }
 ]
}